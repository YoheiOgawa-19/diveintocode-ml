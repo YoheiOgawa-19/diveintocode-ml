{
 "cells": [
  {
   "cell_type": "markdown",
   "metadata": {},
   "source": [
    "# 小麦とチェス盤問題"
   ]
  },
  {
   "cell_type": "markdown",
   "metadata": {},
   "source": [
    "曽呂利新左衛門の米の逸話に似たものとして、小麦とチェス盤の話があります。これを題材に多次元配列を扱うための数値計算ライブラリ NumPy の使い方に慣れていきます。\n",
    "\n",
    "If a chessboard were to have wheat placed upon each square such that one grain were placed on the first square, two on the second, four on the third, and so on (doubling the number of grains on each subsequent square), how many grains of wheat would be on the chessboard at the finish?\n",
    "\n",
    "Wheat and chessboard problem - Wikipedia（最終閲覧日：2019年5月31日）\n",
    "\n",
    "8×8マスのチェス盤の上に、小麦の粒を1, 2, 4と順番に置いていくと最終的な小麦の数はどのようになるかという問題です。\n",
    "\n",
    "3.少ないマスで考える\n",
    "\n",
    "\n",
    "まずは4マスの板に小麦の粒を並べていくことを考えます。配列（リスト）の1つの要素を1つのマスに見立てています。\n",
    "\n",
    "Pythonのリストとfor文を使い次のように作ることができます。\n",
    "\n",
    "《サンプルコード》\n",
    "\n",
    "n_squares = 4\n",
    "small_board_list = [1]\n",
    "for _ in range(n_squares - 1):\n",
    "    small_board_list.append(2*small_board_list[-1])\n",
    "print(\"4マスの板に小麦を並べる（リスト）：{}\".format(small_board_list))\n",
    "\n",
    "このリストにnp.array()を使うことで、ndarrayを作成することができます。\n",
    "\n",
    "\n",
    "import numpy as np\n",
    "small_board_ndarray = np.array(small_board_list)\n",
    "print(\"4マスの板に小麦を並べる（ndarray）：{}\".format(small_board_ndarray))\n"
   ]
  },
  {
   "cell_type": "markdown",
   "metadata": {},
   "source": [
    "## 【問題1】2×2マスのチェス盤の小麦の数\n",
    "2×2マスのチェス盤をndarrayによって表現し、各マスの小麦の数を計算してください。左上のマスに小麦を1つ置いた後、その右が2つ、左下が4つ、右下が8つという風に進みます。\n",
    "\n",
    "サンプルコードで作成したndarrayのshapeの変形を行ってください。"
   ]
  },
  {
   "cell_type": "code",
   "execution_count": 45,
   "metadata": {},
   "outputs": [
    {
     "name": "stdout",
     "output_type": "stream",
     "text": [
      "[1, 2]\n",
      "[1, 2, 4]\n",
      "[1, 2, 4, 8]\n",
      "4マスの板に小麦を並べる（リスト）：[1, 2, 4, 8]\n",
      "<class 'list'>\n"
     ]
    }
   ],
   "source": [
    "n_squares = 4\n",
    "small_board_list = [1]\n",
    "for _ in range(n_squares - 1):\n",
    "    small_board_list.append(2*small_board_list[-1])\n",
    "    print(small_board_list)\n",
    "print(\"4マスの板に小麦を並べる（リスト）：{}\".format(small_board_list))\n",
    "print(type(small_board_list))"
   ]
  },
  {
   "cell_type": "code",
   "execution_count": 46,
   "metadata": {},
   "outputs": [
    {
     "name": "stdout",
     "output_type": "stream",
     "text": [
      "4マスの板に小麦を並べる（ndarray）：[1 2 4 8]\n",
      "2×2マスのチェス盤に小麦を並べる(ndarray) :\n",
      "[[1 2]\n",
      " [4 8]]\n",
      "<class 'numpy.ndarray'>\n"
     ]
    }
   ],
   "source": [
    "import numpy as np\n",
    "small_board_ndarray = np.array(small_board_list)\n",
    "print(\"4マスの板に小麦を並べる（ndarray）：{}\".format(small_board_ndarray))\n",
    "\n",
    "two_small_board_ndarray = small_board_ndarray.reshape(2, 2)\n",
    "print(\"2×2マスのチェス盤に小麦を並べる(ndarray) :\\n{}\".format(two_small_board_ndarray ))\n",
    "print(type(two_small_board_ndarray))"
   ]
  },
  {
   "cell_type": "markdown",
   "metadata": {},
   "source": [
    "## 【問題2】n×mマスへの拡張\n",
    "n×mマスのチェス盤の小麦の数を記したndarrayを返す関数を作成してください。そして、この関数を使い8×8マスのチェス盤の小麦の数を求めてください。"
   ]
  },
  {
   "cell_type": "code",
   "execution_count": 51,
   "metadata": {},
   "outputs": [
    {
     "name": "stdout",
     "output_type": "stream",
     "text": [
      "[[1.00000000e+00 2.00000000e+00 4.00000000e+00 8.00000000e+00\n",
      "  1.60000000e+01 3.20000000e+01 6.40000000e+01 1.28000000e+02]\n",
      " [2.56000000e+02 5.12000000e+02 1.02400000e+03 2.04800000e+03\n",
      "  4.09600000e+03 8.19200000e+03 1.63840000e+04 3.27680000e+04]\n",
      " [6.55360000e+04 1.31072000e+05 2.62144000e+05 5.24288000e+05\n",
      "  1.04857600e+06 2.09715200e+06 4.19430400e+06 8.38860800e+06]\n",
      " [1.67772160e+07 3.35544320e+07 6.71088640e+07 1.34217728e+08\n",
      "  2.68435456e+08 5.36870912e+08 1.07374182e+09 2.14748365e+09]\n",
      " [4.29496730e+09 8.58993459e+09 1.71798692e+10 3.43597384e+10\n",
      "  6.87194767e+10 1.37438953e+11 2.74877907e+11 5.49755814e+11]\n",
      " [1.09951163e+12 2.19902326e+12 4.39804651e+12 8.79609302e+12\n",
      "  1.75921860e+13 3.51843721e+13 7.03687442e+13 1.40737488e+14]\n",
      " [2.81474977e+14 5.62949953e+14 1.12589991e+15 2.25179981e+15\n",
      "  4.50359963e+15 9.00719925e+15 1.80143985e+16 3.60287970e+16]\n",
      " [7.20575940e+16 1.44115188e+17 2.88230376e+17 5.76460752e+17\n",
      "  1.15292150e+18 2.30584301e+18 4.61168602e+18 9.22337204e+18]]\n",
      "(8, 8)\n",
      "<class 'numpy.ndarray'>\n"
     ]
    }
   ],
   "source": [
    "def wheat_ndarray(n,m):\n",
    "    import numpy as np\n",
    "    all_list = n*m\n",
    "    squares_list = [1]\n",
    "    for _ in range(all_list - 1):\n",
    "        squares_list.append(2 * squares_list[-1])\n",
    "    squares_ndarray = np.array(squares_list)\n",
    "    list_ndarray = squares_ndarray.reshape(n,m)\n",
    "    return list_ndarray\n",
    "print(wheat_ndarray(8,8))\n",
    "print(wheat_ndarray(8,8).shape)\n",
    "print(type(wheat_ndarray(8,8)))"
   ]
  },
  {
   "cell_type": "markdown",
   "metadata": {},
   "source": [
    "## 【問題3】小麦の数の合計\n",
    "8×8マスのチェス盤の小麦の数の合計を求めてください。また、各列の平均を求め、それを棒グラフで可視化してください。"
   ]
  },
  {
   "cell_type": "code",
   "execution_count": 7,
   "metadata": {},
   "outputs": [
    {
     "name": "stdout",
     "output_type": "stream",
     "text": [
      "小麦の数の合計は: 1.8446744073709552e+19粒\n"
     ]
    },
    {
     "data": {
      "image/png": "[encoded data removed]",
      "text/plain": [
       "<Figure size 432x288 with 1 Axes>"
      ]
     },
     "metadata": {
      "needs_background": "light"
     },
     "output_type": "display_data"
    }
   ],
   "source": [
    "print(\"小麦の数の合計は: {}粒\".format(wheat_ndarray(8,8).sum()))\n",
    "wheat_ndarray(8,8).mean(axis=0)\n",
    "\n",
    "import matplotlib.pyplot as plt\n",
    "%matplotlib inline\n",
    "\n",
    "plt.xlabel(\"column\")\n",
    "plt.ylabel(\"grain\")\n",
    "plt.title(\"number in each mean\")\n",
    "plt.bar(np.arange(1,9), wheat_ndarray(8,8).mean(axis=0))\n",
    "plt.show()"
   ]
  },
  {
   "cell_type": "markdown",
   "metadata": {},
   "source": [
    "## 【問題4】小麦の数のヒートマップ\n",
    "8×8マスのチェス盤の小麦の数をヒートマップとして可視化してください。\n",
    "\n",
    "ヒートマップはサンプルコードを用意しています。\n",
    "\n",
    "《ヒートマップのサンプルコード》\n",
    "\n",
    "4行2列の配列のヒートマップです。値が小さいところが紫、大きいところが黄色になっています。"
   ]
  },
  {
   "cell_type": "code",
   "execution_count": 8,
   "metadata": {},
   "outputs": [
    {
     "data": {
      "image/png": "[encoded data removed]",
      "text/plain": [
       "<Figure size 432x288 with 1 Axes>"
      ]
     },
     "metadata": {
      "needs_background": "light"
     },
     "output_type": "display_data"
    }
   ],
   "source": [
    "plt.xlabel(\"column\")\n",
    "plt.ylabel(\"row\")\n",
    "plt.title(\"heatmap\")\n",
    "plt.pcolor(np.array([0, 1, 3, 5, 7, 9, 11, 13]).reshape(4, 2))\n",
    "plt.show()"
   ]
  },
  {
   "cell_type": "code",
   "execution_count": 9,
   "metadata": {},
   "outputs": [
    {
     "data": {
      "image/png": "[encoded data removed]",
      "text/plain": [
       "<Figure size 432x288 with 1 Axes>"
      ]
     },
     "metadata": {
      "needs_background": "light"
     },
     "output_type": "display_data"
    }
   ],
   "source": [
    "plt.xlabel(\"column\")\n",
    "plt.ylabel(\"row\")\n",
    "plt.title(\"heatmap\")\n",
    "plt.pcolor(wheat_ndarray(8,8))\n",
    "plt.show()"
   ]
  },
  {
   "cell_type": "markdown",
   "metadata": {},
   "source": [
    "# 5.チェス盤の後半\n",
    "\n",
    "\n",
    "アメリカの発明家レイ・カーツワイルはこの逸話を引用し、「チェス盤の後半」というフレーズを作りました。技術の進歩ははじめの内は社会に対して目立った影響が感じられなくとも、倍に倍にと進んでいくと、チェス盤の後半にさしかかったころから、急激な変化を起こすということを伝えています。\n",
    "\n",
    "## 【問題5】後半は前半の何倍か\n",
    "チェス盤の後半にある小麦の数は前半にある小麦の数の何倍かを求めてください。前半とは配列の0から3行目、後半は4から7行目です。"
   ]
  },
  {
   "cell_type": "code",
   "execution_count": 10,
   "metadata": {},
   "outputs": [
    {
     "name": "stdout",
     "output_type": "stream",
     "text": [
      "4294967295.0\n",
      "1.8446744069414584e+19\n",
      "4294967296.0倍\n"
     ]
    }
   ],
   "source": [
    "print(wheat_ndarray(8,8)[0:4].sum())\n",
    "print(wheat_ndarray(8,8)[4:8].sum())\n",
    "bai = (wheat_ndarray(8,8)[4:8].sum()) / (wheat_ndarray(8,8)[0:4].sum())\n",
    "print(\"{}倍\".format(bai))"
   ]
  },
  {
   "cell_type": "markdown",
   "metadata": {},
   "source": [
    "# 6.他の計算方法\n",
    "\n",
    "\n",
    "はじめのサンプルコードではPythonのリストとfor文を使っていましたが、他の方法も考えられます。\n",
    "\n",
    "ndarrayのnp.append()とfor文を使うと次のように作ることができます。\n",
    "\n",
    "《サンプルコード（np.append()）》"
   ]
  },
  {
   "cell_type": "code",
   "execution_count": 11,
   "metadata": {},
   "outputs": [
    {
     "name": "stdout",
     "output_type": "stream",
     "text": [
      "4マスの板に小麦を並べる（ndarray）：[1 2 4 8]\n"
     ]
    }
   ],
   "source": [
    "n_squares = 4\n",
    "small_board_ndarray = np.array([1])\n",
    "for _ in range(n_squares - 1):\n",
    "    small_board_ndarray = np.append(small_board_ndarray, 2*small_board_ndarray[-1])\n",
    "print(\"4マスの板に小麦を並べる（ndarray）：{}\".format(small_board_ndarray))"
   ]
  },
  {
   "cell_type": "markdown",
   "metadata": {},
   "source": [
    "ブロードキャストを活用することで、次のようにも作ることができます。\n",
    "\n",
    "《サンプルコード（ブロードキャスト）》"
   ]
  },
  {
   "cell_type": "code",
   "execution_count": 12,
   "metadata": {},
   "outputs": [
    {
     "name": "stdout",
     "output_type": "stream",
     "text": [
      "4マスの板に小麦を並べる（ndarray）：[1 2 4 8]\n"
     ]
    }
   ],
   "source": [
    "n_squares = 4\n",
    "indices_of_squares = np.arange(n_squares)\n",
    "small_board_ndarray = 2**indices_of_squares\n",
    "print(\"4マスの板に小麦を並べる（ndarray）：{}\".format(small_board_ndarray))"
   ]
  },
  {
   "cell_type": "markdown",
   "metadata": {},
   "source": [
    "《numpyのブロードキャスト》 \n",
    "概要：\n",
    "pythonのnumpyには「ブロードキャスト」という仕様があります。\n",
    "これはnumpyのベクトル・行列計算において、２入力間で次元数やサイズの小さい方を複製してデータを自動で統一する機能です。ブロードキャストを使うメリットとして、①コードが短くなるため、実行速度が早くなる。②メモリの使用量を節約できる。の２点が主に挙げられます。\n",
    "\n",
    "例："
   ]
  },
  {
   "cell_type": "code",
   "execution_count": 13,
   "metadata": {},
   "outputs": [
    {
     "name": "stdout",
     "output_type": "stream",
     "text": [
      "[5 6 7]\n",
      "[5 6 7]\n"
     ]
    }
   ],
   "source": [
    "import numpy as np\n",
    "a = np.array([0,1,2])\n",
    "#ブロードキャストを使わない場合\n",
    "b = np.array([5,5,5])\n",
    "print(a + b)  # Out: [5,6,7]\n",
    "#ブロードキャストを使う場合\n",
    "print(a + 5)  # Out: [5,6,7]　※5が自動的に(1,3)の行列([5,5,5])に変換されている"
   ]
  },
  {
   "cell_type": "markdown",
   "metadata": {},
   "source": [
    "ロードキャストの詳細や変換ルールについては公式リファレンスを参照してみてください。\n",
    "\n",
    "ndarrayの型\n",
    "なお、これらの方法で64マスの小麦の数を調べたい場合、型の問題が出てきます。"
   ]
  },
  {
   "cell_type": "code",
   "execution_count": 14,
   "metadata": {
    "scrolled": true
   },
   "outputs": [
    {
     "name": "stdout",
     "output_type": "stream",
     "text": [
      "最後のマスの小麦の数：-9223372036854775808\n"
     ]
    },
    {
     "name": "stderr",
     "output_type": "stream",
     "text": [
      "<ipython-input-14-5cffe3668b3a>:4: RuntimeWarning: overflow encountered in long_scalars\n",
      "  board_ndarray = np.append(board_ndarray, 2*board_ndarray[-1])\n"
     ]
    }
   ],
   "source": [
    "n_squares = 64\n",
    "board_ndarray = np.array([1])\n",
    "for _ in range(n_squares - 1):\n",
    "    board_ndarray = np.append(board_ndarray, 2*board_ndarray[-1])\n",
    "print(\"最後のマスの小麦の数：{}\".format(board_ndarray[-1])) # -9223372036854775808"
   ]
  },
  {
   "cell_type": "code",
   "execution_count": 15,
   "metadata": {},
   "outputs": [
    {
     "name": "stdout",
     "output_type": "stream",
     "text": [
      "最後のマスの小麦の数：-9223372036854775808\n"
     ]
    }
   ],
   "source": [
    "n_squares = 64\n",
    "indices_of_squares = np.arange(n_squares)\n",
    "board_ndarray = 2**indices_of_squares\n",
    "print(\"最後のマスの小麦の数：{}\".format(board_ndarray[-1])) # -9223372036854775808"
   ]
  },
  {
   "cell_type": "code",
   "execution_count": 16,
   "metadata": {},
   "outputs": [
    {
     "name": "stdout",
     "output_type": "stream",
     "text": [
      "int64\n"
     ]
    }
   ],
   "source": [
    "print(board_ndarray.dtype) # int64"
   ]
  },
  {
   "cell_type": "markdown",
   "metadata": {},
   "source": [
    "int64は64ビットの整数型で、-9,223,372,036,854,775,808 ~ 9,223,372,036,854,775,807 の範囲の整数値しか扱えないことを示しています。この値は -2の64乗から2の64乗-1 です。そのため、2の64乗になる64マス目の値が範囲外となり、負の値として出てきてしまっているのです。\n",
    "\n",
    "Pythonの整数型（int）にはこのような制限がありませんが、ndarrayは高速な計算が行える反面、こういった制約があり、型で扱える範囲を意識しておく必要があります。\n",
    "\n",
    "今回は正の値しか利用しないため、 uint64 を使用することで解決します。 0 ~ 18,446,744,073,709,551,615 を扱うことができます。astypeメソッドを使うことで型を変換できるので、累乗の計算前にこれを使いndarrayをuint64型にしておきます。"
   ]
  },
  {
   "cell_type": "code",
   "execution_count": 17,
   "metadata": {},
   "outputs": [
    {
     "name": "stdout",
     "output_type": "stream",
     "text": [
      "最後のマスの小麦の数：9223372036854775808\n"
     ]
    }
   ],
   "source": [
    "n_squares = 64\n",
    "indices_of_squares = np.arange(n_squares).astype(np.uint64)\n",
    "board_ndarray = 2**indices_of_squares\n",
    "print(\"最後のマスの小麦の数：{}\".format(board_ndarray[-1])) # 9223372036854775808"
   ]
  },
  {
   "cell_type": "markdown",
   "metadata": {},
   "source": [
    "これで正しく計算ができました。\n",
    "\n",
    "## 【問題6】他の計算方法によるn×mマスへの拡張\n",
    "問題2と同様の「n×mマスのチェス盤の小麦の数を記したndarrayを返す関数」を、np.append()を使ったものと、ブロードキャストを使ったもので新たに作成してください。\n",
    "\n",
    "それらの関数を使い8×8マスのチェス盤の小麦の数を再び求めてください。"
   ]
  },
  {
   "cell_type": "code",
   "execution_count": 43,
   "metadata": {},
   "outputs": [
    {
     "name": "stdout",
     "output_type": "stream",
     "text": [
      "[[1.00000000e+00 2.00000000e+00 4.00000000e+00 8.00000000e+00\n",
      "  1.60000000e+01 3.20000000e+01 6.40000000e+01 1.28000000e+02]\n",
      " [2.56000000e+02 5.12000000e+02 1.02400000e+03 2.04800000e+03\n",
      "  4.09600000e+03 8.19200000e+03 1.63840000e+04 3.27680000e+04]\n",
      " [6.55360000e+04 1.31072000e+05 2.62144000e+05 5.24288000e+05\n",
      "  1.04857600e+06 2.09715200e+06 4.19430400e+06 8.38860800e+06]\n",
      " [1.67772160e+07 3.35544320e+07 6.71088640e+07 1.34217728e+08\n",
      "  2.68435456e+08 5.36870912e+08 1.07374182e+09 2.14748365e+09]\n",
      " [4.29496730e+09 8.58993459e+09 1.71798692e+10 3.43597384e+10\n",
      "  6.87194767e+10 1.37438953e+11 2.74877907e+11 5.49755814e+11]\n",
      " [1.09951163e+12 2.19902326e+12 4.39804651e+12 8.79609302e+12\n",
      "  1.75921860e+13 3.51843721e+13 7.03687442e+13 1.40737488e+14]\n",
      " [2.81474977e+14 5.62949953e+14 1.12589991e+15 2.25179981e+15\n",
      "  4.50359963e+15 9.00719925e+15 1.80143985e+16 3.60287970e+16]\n",
      " [7.20575940e+16 1.44115188e+17 2.88230376e+17 5.76460752e+17\n",
      "  1.15292150e+18 2.30584301e+18 4.61168602e+18 9.22337204e+18]]\n",
      "(8, 8)\n",
      "<class 'numpy.ndarray'>\n"
     ]
    }
   ],
   "source": [
    "def wheat_append_ndarray(n,m):\n",
    "    import numpy as np\n",
    "    all_list = n*m\n",
    "    squares_list_ndarray = np.array([1]).astype(np.uint64)\n",
    "    for _ in range(all_list - 1):\n",
    "        squares_list_ndarray = np.append(squares_list_ndarray,2 * squares_list_ndarray[-1])\n",
    "    #squares_ndarray = np.array(squares_list_ndarray)\n",
    "    #list_ndarray = np.array(squares_list_ndarray.reshape(n,m))\n",
    "    list_ndarray = squares_list_ndarray.reshape(n,m)\n",
    "    return list_ndarray\n",
    "print(wheat_append_ndarray(8,8))\n",
    "print(wheat_append_ndarray(8,8).shape)\n",
    "print(type(wheat_append_ndarray(8,8)))"
   ]
  },
  {
   "cell_type": "code",
   "execution_count": 54,
   "metadata": {},
   "outputs": [
    {
     "name": "stdout",
     "output_type": "stream",
     "text": [
      "[[                  1                   2                   4\n",
      "                    8                  16                  32\n",
      "                   64                 128]\n",
      " [                256                 512                1024\n",
      "                 2048                4096                8192\n",
      "                16384               32768]\n",
      " [              65536              131072              262144\n",
      "               524288             1048576             2097152\n",
      "              4194304             8388608]\n",
      " [           16777216            33554432            67108864\n",
      "            134217728           268435456           536870912\n",
      "           1073741824          2147483648]\n",
      " [         4294967296          8589934592         17179869184\n",
      "          34359738368         68719476736        137438953472\n",
      "         274877906944        549755813888]\n",
      " [      1099511627776       2199023255552       4398046511104\n",
      "        8796093022208      17592186044416      35184372088832\n",
      "       70368744177664     140737488355328]\n",
      " [    281474976710656     562949953421312    1125899906842624\n",
      "     2251799813685248    4503599627370496    9007199254740992\n",
      "    18014398509481984   36028797018963968]\n",
      " [  72057594037927936  144115188075855872  288230376151711744\n",
      "   576460752303423488 1152921504606846976 2305843009213693952\n",
      "  4611686018427387904 9223372036854775808]]\n",
      "(8, 8)\n",
      "<class 'numpy.ndarray'>\n"
     ]
    }
   ],
   "source": [
    "def wheat_cast_ndarray(n,m):\n",
    "    import numpy as np\n",
    "    all_list = n*m\n",
    "    cast_sqares = np.arange(all_list).astype(np.uint64)\n",
    "    squares_cast_ndarray = 2**cast_sqares\n",
    "    list_ndarray = squares_cast_ndarray.reshape(n,m)\n",
    "    return list_ndarray\n",
    "print(wheat_cast_ndarray(8,8))\n",
    "print(wheat_cast_ndarray(8,8).shape)\n",
    "print(type(wheat_cast_ndarray(8,8)))"
   ]
  },
  {
   "cell_type": "markdown",
   "metadata": {},
   "source": [
    "【問題7】計算時間の比較\n",
    "3種類の方法を見てきました。それぞれの計算時間をJupyter Notebookの%%timeitを用いて計測し、比較と考察を行ってください。\n",
    "\n",
    "%%timeitはセル内のコードを複数回実行し、その平均実行時間を出力する働きをします。\n",
    "\n",
    "《%%timeitの例》"
   ]
  },
  {
   "cell_type": "code",
   "execution_count": 55,
   "metadata": {},
   "outputs": [
    {
     "name": "stdout",
     "output_type": "stream",
     "text": [
      "3.53 µs ± 167 ns per loop (mean ± std. dev. of 7 runs, 100000 loops each)\n"
     ]
    }
   ],
   "source": [
    "%%timeit\n",
    "a = np.array([1, 2, 3])\n",
    "b = np.array([1, 2, 3])\n",
    "c = a + b"
   ]
  },
  {
   "cell_type": "code",
   "execution_count": 63,
   "metadata": {},
   "outputs": [
    {
     "name": "stdout",
     "output_type": "stream",
     "text": [
      "15.1 µs ± 611 ns per loop (mean ± std. dev. of 7 runs, 100000 loops each)\n"
     ]
    }
   ],
   "source": [
    "%%timeit\n",
    "def wheat_ndarray(n,m):\n",
    "    import numpy as np\n",
    "    all_list = n*m\n",
    "    squares_list = [1]\n",
    "    for _ in range(all_list - 1):\n",
    "        squares_list.append(2 * squares_list[-1])\n",
    "    squares_ndarray = np.array(squares_list)\n",
    "    list_ndarray = squares_ndarray.reshape(n,m)\n",
    "    return list_ndarray\n",
    "wheat_ndarray(8,8)"
   ]
  },
  {
   "cell_type": "code",
   "execution_count": 60,
   "metadata": {},
   "outputs": [
    {
     "name": "stdout",
     "output_type": "stream",
     "text": [
      "426 µs ± 32 µs per loop (mean ± std. dev. of 7 runs, 1000 loops each)\n"
     ]
    }
   ],
   "source": [
    "%%timeit\n",
    "def wheat_append_ndarray(n,m):\n",
    "    import numpy as np\n",
    "    all_list = n*m\n",
    "    squares_list_ndarray = np.array([1]).astype(np.uint64)\n",
    "    for _ in range(all_list - 1):\n",
    "        squares_list_ndarray = np.append(squares_list_ndarray,2 * squares_list_ndarray[-1])\n",
    "    list_ndarray = squares_list_ndarray.reshape(n,m)\n",
    "    return list_ndarray\n",
    "wheat_append_ndarray(8,8)"
   ]
  },
  {
   "cell_type": "code",
   "execution_count": 64,
   "metadata": {},
   "outputs": [
    {
     "name": "stdout",
     "output_type": "stream",
     "text": [
      "3.79 µs ± 252 ns per loop (mean ± std. dev. of 7 runs, 100000 loops each)\n"
     ]
    }
   ],
   "source": [
    "%%timeit\n",
    "def wheat_cast_ndarray(n,m):\n",
    "    import numpy as np\n",
    "    all_list = n*m\n",
    "    cast_sqares = np.arange(all_list).astype(np.uint64)\n",
    "    squares_cast_ndarray = 2**cast_sqares\n",
    "    list_ndarray = squares_cast_ndarray.reshape(n,m)\n",
    "    return list_ndarray\n",
    "wheat_cast_ndarray(8,8)"
   ]
  }
 ],
 "metadata": {
  "kernelspec": {
   "display_name": "Python 3",
   "language": "python",
   "name": "python3"
  },
  "language_info": {
   "codemirror_mode": {
    "name": "ipython",
    "version": 3
   },
   "file_extension": ".py",
   "mimetype": "text/x-python",
   "name": "python",
   "nbconvert_exporter": "python",
   "pygments_lexer": "ipython3",
   "version": "3.8.5"
  }
 },
 "nbformat": 4,
 "nbformat_minor": 2
}
