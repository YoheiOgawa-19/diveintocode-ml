{
 "cells": [
  {
   "cell_type": "markdown",
   "metadata": {},
   "source": [
    "# 2.行列積\n",
    "\n",
    "\n",
    "以下のような行列A、Bを考えます。\n",
    "\n",
    "A=⎡\n",
    "  ⎢\n",
    "  ⎣−1　2　3\n",
    "    4　−5　6\n",
    "    7　8　−9⎤\n",
    "           ⎥\n",
    "           ⎦,B=⎢⎣0 2 1　\n",
    "                 0 2− 8\n",
    "                 2 9 −1⎤⎥⎦ \n",
    " \n",
    "\n",
    "NumPyで表すと次のようになります。"
   ]
  },
  {
   "cell_type": "code",
   "execution_count": 9,
   "metadata": {},
   "outputs": [],
   "source": [
    "import numpy as np\n",
    "a_ndarray = np.array([[-1, 2, 3], [4, -5, 6], [7, 8, -9]])\n",
    "b_ndarray = np.array([[0, 2, 1], [0, 2, -8], [2, 9, -1]])"
   ]
  },
  {
   "cell_type": "markdown",
   "metadata": {},
   "source": [
    "## 【問題1】行列積を手計算する\n",
    "AとBの行列積を手計算で解いてください。\n",
    "\n",
    "計算過程もマークダウンテキストを用いて説明してください。"
   ]
  },
  {
   "cell_type": "markdown",
   "metadata": {},
   "source": [
    "AB = A * B = [ -1  2  3]   [0  2  1] \n",
    "             [  4 -5  6] * [0  2 -8]\n",
    "             [  7  8 -9]   [2  9 -1]\n",
    "   \n",
    "AB = [-1*0+2*0+3*2  -1*2+2*2+3*9  -1*1+2*-8+3*-1]\n",
    "     [4*0+(-5*0)+6*2  4*2-5*2+6*9  4*1+(-5*-8)+6*-1]\n",
    "     [7*0+8*0+(-9*2)  7*2+8*2+(-9*9)  7*1+8*-8+(-9*-1)]\n",
    "     \n",
    "   = [6    29  -20]\n",
    "     [12   52   38]\n",
    "     [-18 -51  -48]"
   ]
  },
  {
   "cell_type": "markdown",
   "metadata": {},
   "source": [
    "## 【問題2】NumPyの関数による計算\n",
    "この行列積はNumPyのnp.matmul()やnp.dot()、または@演算子を使うことで簡単に計算できます。\n",
    "\n",
    "これらを使い行列積を計算してください。\n",
    "\n",
    "numpy.matmul — NumPy v1.16 Manual\n",
    "\n",
    "numpy.dot — NumPy v1.16 Manual\n",
    "\n",
    "《3種類の違い》\n",
    "\n",
    "np.matmul()とnp.dot()は3次元以上の配列で挙動が変わります。@演算子はnp.matmul()と同じ働きをします。\n",
    "\n",
    "今回のような2次元配列の行列積ではnp.matmul()や@演算子が公式に推奨されています。以下はnp.dot()の説明からの引用です。\n",
    "\n",
    "If both a and b are 2-D arrays, it is matrix multiplication, but using matmul or a @ b is preferred."
   ]
  },
  {
   "cell_type": "code",
   "execution_count": 3,
   "metadata": {},
   "outputs": [
    {
     "data": {
      "text/plain": [
       "array([[  6,  29, -20],\n",
       "       [ 12,  52,  38],\n",
       "       [-18, -51, -48]])"
      ]
     },
     "execution_count": 3,
     "metadata": {},
     "output_type": "execute_result"
    }
   ],
   "source": [
    "np.dot(a_ndarray, b_ndarray)"
   ]
  },
  {
   "cell_type": "code",
   "execution_count": 4,
   "metadata": {},
   "outputs": [
    {
     "data": {
      "text/plain": [
       "array([[  6,  29, -20],\n",
       "       [ 12,  52,  38],\n",
       "       [-18, -51, -48]])"
      ]
     },
     "execution_count": 4,
     "metadata": {},
     "output_type": "execute_result"
    }
   ],
   "source": [
    "np.matmul(a_ndarray, b_ndarray)"
   ]
  },
  {
   "cell_type": "code",
   "execution_count": 5,
   "metadata": {},
   "outputs": [
    {
     "data": {
      "text/plain": [
       "array([[  6,  29, -20],\n",
       "       [ 12,  52,  38],\n",
       "       [-18, -51, -48]])"
      ]
     },
     "execution_count": 5,
     "metadata": {},
     "output_type": "execute_result"
    }
   ],
   "source": [
    "a_ndarray @ b_ndarray"
   ]
  },
  {
   "cell_type": "markdown",
   "metadata": {},
   "source": [
    "# 3.行列積のスクラッチ実装\n",
    "\n",
    "\n",
    "np.matmul()やnp.dot()、または@演算子を使わずに、手計算で行った計算過程をNumPyによるスクラッチ実装で再現していきましょう。これにより、行列積の計算に対する理解を深めます。ここで考えるのは行列AとBのような次元が2の配列に限定します。\n",
    "\n",
    "【問題3】ある要素の計算を実装\n",
    "手計算をする際はまず行列Aの0行目と行列Bの0列目に注目し、以下の計算を行ったかと思います。\n",
    "\n",
    "行列Aの(0,0)の要素 \n",
    "a0,0\n",
    " と行列Bの(0,0)の要素 \n",
    "b0,0\n",
    " を掛け合わせる\n",
    "行列Aの(0,1)の要素 \n",
    "a0,1\n",
    " と行列Bの(1,0)の要素 \n",
    "b1,0\n",
    " を掛け合わせる\n",
    "行列Aの(0,2)の要素 \n",
    "a0,2\n",
    " と行列Bの(2,0)の要素 \n",
    "b2,0 \n",
    " を掛け合わせる\n",
    "それらの値を全て足し合わせる\n",
    "\n",
    "数式で表すと\n",
    "\n",
    "2∑k=0 a0,k　bk,0\n",
    "です。\n",
    "\n",
    "この計算をnp.matmul()やnp.dot()、または@演算子を使わずに行うコードを書いてください。\n"
   ]
  },
  {
   "cell_type": "code",
   "execution_count": 8,
   "metadata": {},
   "outputs": [
    {
     "name": "stdout",
     "output_type": "stream",
     "text": [
      "6\n"
     ]
    }
   ],
   "source": [
    "for k in range(3):\n",
    "    AB = a_ndarray[0][k] * b_ndarray[k][0]\n",
    "print(AB)"
   ]
  },
  {
   "cell_type": "markdown",
   "metadata": {},
   "source": [
    "## 【問題4】行列積を行う関数の作成\n",
    "問題3のコードを拡張し、行列積のスクラッチ実装を完成させてください。行列AとBを引数に受け取り、行列積を返す関数としてください。\n",
    "\n",
    "行列積を計算する場合は、問題3の計算を異なる行や列に対して繰り返していくことになります。\n",
    "\n",
    "計算結果である \n",
    "3×3\n",
    " の行列Cの各要素 \n",
    "ci,j\n",
    " は数式で表すと次のようになります。\n",
    "\n",
    "ci,j=2∑k=0 ai,kbk,j\n",
    "\n",
    "for文を使い、ndarrayのインデックスを動かしていくことで、合計9つの要素が計算できます。インデックス \n",
    "i や j\n",
    " を1増やすと、次の行や列に移ることができます。"
   ]
  },
  {
   "cell_type": "code",
   "execution_count": 10,
   "metadata": {},
   "outputs": [
    {
     "name": "stdout",
     "output_type": "stream",
     "text": [
      "[[  6.  29. -20.]\n",
      " [ 12.  52.  38.]\n",
      " [-18. -51. -48.]]\n"
     ]
    }
   ],
   "source": [
    "def scratch(A,B):\n",
    "    \n",
    "    c = np.zeros((len(A[0]), len(A)))\n",
    "\n",
    "    for i in range(len(A[0])):\n",
    "        for j in range(len(A)):\n",
    "            for k in range(len(A[0])):\n",
    "                c[i][j] =  c[i][j] + A[i][k] * B[k][j]\n",
    "    return c\n",
    "print(scratch(a_ndarray,b_ndarray))"
   ]
  },
  {
   "cell_type": "code",
   "execution_count": 12,
   "metadata": {},
   "outputs": [
    {
     "name": "stdout",
     "output_type": "stream",
     "text": [
      "[[  6.  29. -20.]\n",
      " [ 12.  52.  38.]\n",
      " [-18. -51. -48.]]\n"
     ]
    }
   ],
   "source": [
    "import numpy as np\n",
    "def matrix_product(a,b):\n",
    "    c = np.empty((a.shape[0], b.shape[1]))\n",
    "\n",
    "    for i in range(a.shape[0]):\n",
    "        for j in range(b.shape[1]):\n",
    "            c[i, j] = (a[i]*b[:, j]).sum()\n",
    "    return c\n",
    "print(matrix_product(a_ndarray,b_ndarray))"
   ]
  },
  {
   "cell_type": "markdown",
   "metadata": {},
   "source": [
    "4.行列積が定義されない組み合わせの行列\n",
    "\n",
    "\n",
    "次に以下のような例を考えます。\n",
    "\n",
    "D=[−123\n",
    "   4−56],E−=[−987\n",
    "             6−54]\n",
    " \n",
    " \n"
   ]
  },
  {
   "cell_type": "code",
   "execution_count": null,
   "metadata": {},
   "outputs": [],
   "source": [
    "d_ndarray = np.array([[-1, 2, 3], [4, -5, 6]])\n",
    "e_ndarray = np.array([[-9, 8, 7], [6, -5, 4]])"
   ]
  },
  {
   "cell_type": "markdown",
   "metadata": {},
   "source": [
    "行列積DEはDの列数とEの行数が等しい場合に定義されていますから、この例では計算ができません。"
   ]
  },
  {
   "cell_type": "markdown",
   "metadata": {},
   "source": [
    "【問題5】計算が定義されない入力を判定する\n",
    "問題4で作成した関数は、実装方法によってはこのDとEの配列を入力しても動いてしまう可能性があります。この場合、不適切な計算が行われることになります。また、途中でエラーになる場合でも、なぜエラーになったかが直接的には分かりづらいメッセージが表示されます。\n",
    "\n",
    "if文などによってこれを防ぎ、入力される形に問題があることをprint()を使い表示するコードを書き加えてください。"
   ]
  },
  {
   "cell_type": "code",
   "execution_count": null,
   "metadata": {},
   "outputs": [],
   "source": [
    "print(scratch(d_ndarray,e_ndarray))"
   ]
  },
  {
   "cell_type": "code",
   "execution_count": null,
   "metadata": {},
   "outputs": [],
   "source": [
    "def scratch_if(A,B):\n",
    "    \n",
    "    c = np.zeros((len(A[0]), len(A)))\n",
    "    if len(A) == len(A[0]):\n",
    "        for i in range(len(A[0])):\n",
    "            for j in range(len(A)):\n",
    "                for k in range(len(A[0])):\n",
    "                    c[i][j] =  c[i][j] + A[i][k] * B[k][j]\n",
    "        return c\n",
    "    else:\n",
    "        print(\"入力される形式に問題があります。\")\n",
    "print(scratch_if(d_ndarray,e_ndarray))\n",
    "print(scratch_if(a_ndarray,b_ndarray))"
   ]
  },
  {
   "cell_type": "markdown",
   "metadata": {},
   "source": [
    "## 【問題6】転置\n",
    "片方の行列を転置することで、行列積が計算できるようになります。\n",
    "\n",
    "np.transpose()や.Tアトリビュートを用いて転置し、行列積を計算してください。\n",
    "\n",
    "numpy.transpose — NumPy v1.16 Manual\n",
    "\n",
    "numpy.ndarray.T — NumPy v1.16 Manual"
   ]
  },
  {
   "cell_type": "code",
   "execution_count": null,
   "metadata": {},
   "outputs": [],
   "source": [
    "print(np.transpose(a_ndarray) @ b_ndarray)\n",
    "print(a_ndarray.T @ b_ndarray)\n",
    "print(a_ndarray.T.T @ b_ndarray.T.T)"
   ]
  }
 ],
 "metadata": {
  "kernelspec": {
   "display_name": "Python 3",
   "language": "python",
   "name": "python3"
  },
  "language_info": {
   "codemirror_mode": {
    "name": "ipython",
    "version": 3
   },
   "file_extension": ".py",
   "mimetype": "text/x-python",
   "name": "python",
   "nbconvert_exporter": "python",
   "pygments_lexer": "ipython3",
   "version": "3.8.5"
  }
 },
 "nbformat": 4,
 "nbformat_minor": 4
}
