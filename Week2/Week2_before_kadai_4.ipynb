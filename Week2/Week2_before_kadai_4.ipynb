{
 "cells": [
  {
   "cell_type": "markdown",
   "metadata": {},
   "source": [
    "# 3.ディクショナリ\n",
    "\n",
    "\n",
    "ここでは、ディクショナリについて説明していきます。そして本課題を実装する過程でディクショナリを使います。\n",
    "\n",
    "ディクショナリとは\n",
    "ディクショナリの説明をする前に配列について述べます。まず例として以下の配列を考えましょう。\n"
   ]
  },
  {
   "cell_type": "code",
   "execution_count": 3,
   "metadata": {},
   "outputs": [],
   "source": [
    "test = [\"800万\", \"4人\", \"40才\", \"男\"]"
   ]
  },
  {
   "cell_type": "markdown",
   "metadata": {},
   "source": [
    "配列は、list型と呼ばれるミュータブル（値の変更が可能）なデータ型です。上のtest配列の各要素には[“年収”, “家族人数”, “年齢”, “性別”]という別々な情報が格納されているとします。\n",
    "\n",
    "もしこのtest配列からデータを取り出したい場合、test配列には、[“年収”, “家族人数”, “年齢”, “性別”]という情報が保持されていないので、どの要素に何の情報が格納されているか　を覚えておかなくてはなりません。今の例のように要素が少ない場合には問題ないですが、要素数が増えた場合に各要素が何の情報を意味するのか認識しておくのは困難になります。\n",
    "\n",
    "なので、あらかじめ 各要素が何を意味しているのかという情報も要素と一緒に保存しておこう というのがディクショナリのモチベーションです。すなわち各要素に対して、そのラベルもセットで保存するイメージです。\n",
    "\n",
    "## ディクショナリのkeyとvalue\n",
    "それではディクショナリの使い方について述べていきます。\n",
    "\n",
    "test配列を、各要素の情報（[“年収”, “家族人数”, “年齢”, “性別”]）と一緒にディクショナリとして格納すると以下のようになります。ディクショナリを定義する際は{}を用いることに注意してください。\n"
   ]
  },
  {
   "cell_type": "code",
   "execution_count": 4,
   "metadata": {},
   "outputs": [],
   "source": [
    "test = {\"年収\":\"800万\", \"家族人数\":\"4人\", \"年齢\":\"40才\", \"性別\":\"男\"}"
   ]
  },
  {
   "cell_type": "markdown",
   "metadata": {},
   "source": [
    "ディクショナリの要素の「:」の左側をkey、右側をkeyに対するvalue（値）と言います。今の例では、[“年収”, “家族人数”, “年齢”, “性別”]はtestディクショナリのkeyであり、[“800万”, “4人”, “40才”, “男”]が各keyに対するvalue（値）になります。\n",
    "\n",
    "こうすれば、valueが意味する情報も紐づいているので、valueの紐づいている情報を覚えておく必要もないわけです。今の例では、valueが全て文字列になっていますが、当然int型やfloat型もディクショナリのvalueになりえます。\n",
    "\n",
    "## ディクショナリのメソッド\n",
    "ここではディクショナリのメソッドについて紹介していきます。本課題を解くのに必要なメソッドもあるので、どんな操作なのか理解しておきましょう。\n",
    "\n",
    "以下のディクショナリを例にみていきます。サッカーW杯の優勝回数上位6ヶ国（key）とその優勝回数(value)を格納したものです。"
   ]
  },
  {
   "cell_type": "code",
   "execution_count": 5,
   "metadata": {},
   "outputs": [],
   "source": [
    "hist_worldcup = {\"ブラジル\":5, \"ドイツ\":4, \"イタリア\":4, \"アルゼンチン\":2, \"フランス\":2, \"イングランド\":1}"
   ]
  },
  {
   "cell_type": "markdown",
   "metadata": {},
   "source": [
    "《keyを取り出す》\n",
    "\n",
    "keys()を用いることで、全てのkeyを一括で取り出すことができます."
   ]
  },
  {
   "cell_type": "code",
   "execution_count": 6,
   "metadata": {},
   "outputs": [
    {
     "data": {
      "text/plain": [
       "dict_keys(['ブラジル', 'ドイツ', 'イタリア', 'アルゼンチン', 'フランス', 'イングランド'])"
      ]
     },
     "execution_count": 6,
     "metadata": {},
     "output_type": "execute_result"
    }
   ],
   "source": [
    "hist_worldcup.keys()"
   ]
  },
  {
   "cell_type": "markdown",
   "metadata": {},
   "source": [
    "《valueを取り出す》\n",
    "\n",
    "values()を用いることでvalueを一括で取り出すことができます。"
   ]
  },
  {
   "cell_type": "code",
   "execution_count": 7,
   "metadata": {},
   "outputs": [
    {
     "data": {
      "text/plain": [
       "dict_values([5, 4, 4, 2, 2, 1])"
      ]
     },
     "execution_count": 7,
     "metadata": {},
     "output_type": "execute_result"
    }
   ],
   "source": [
    "hist_worldcup.values()"
   ]
  },
  {
   "cell_type": "markdown",
   "metadata": {},
   "source": [
    "《任意のkeyに対するvalueを取り出す》\n",
    "\n",
    "get()を用いることで、()の中で指定したkeyに対するvalueを取り出すことができます。"
   ]
  },
  {
   "cell_type": "code",
   "execution_count": 8,
   "metadata": {},
   "outputs": [
    {
     "data": {
      "text/plain": [
       "5"
      ]
     },
     "execution_count": 8,
     "metadata": {},
     "output_type": "execute_result"
    }
   ],
   "source": [
    "hist_worldcup.get(\"ブラジル\")"
   ]
  },
  {
   "cell_type": "markdown",
   "metadata": {},
   "source": [
    "《keyとvalueを取り出す》\n",
    "\n",
    "items()を用いるとディクショナリに登録されているkeyとvalueが要素であるタプルのリストを返してくれます。"
   ]
  },
  {
   "cell_type": "code",
   "execution_count": 9,
   "metadata": {},
   "outputs": [
    {
     "data": {
      "text/plain": [
       "dict_items([('ブラジル', 5), ('ドイツ', 4), ('イタリア', 4), ('アルゼンチン', 2), ('フランス', 2), ('イングランド', 1)])"
      ]
     },
     "execution_count": 9,
     "metadata": {},
     "output_type": "execute_result"
    }
   ],
   "source": [
    "hist_worldcup.items()"
   ]
  },
  {
   "cell_type": "markdown",
   "metadata": {},
   "source": [
    "dict_itemsオブジェクト型の中にリスト型オブジェクト、さらにそのリスト型オブジェクトの中にタプルが格納されています。一つずつ取り出したい場合は、以下のようにfor文などと組み合わせます。"
   ]
  },
  {
   "cell_type": "code",
   "execution_count": 10,
   "metadata": {},
   "outputs": [
    {
     "name": "stdout",
     "output_type": "stream",
     "text": [
      "ブラジル 5\n",
      "ドイツ 4\n",
      "イタリア 4\n",
      "アルゼンチン 2\n",
      "フランス 2\n",
      "イングランド 1\n"
     ]
    }
   ],
   "source": [
    "for key, value in hist_worldcup.items():\n",
    "    print(key, value)"
   ]
  },
  {
   "cell_type": "markdown",
   "metadata": {},
   "source": [
    "ディクショナリの基本的なメソッドは以上です。他にも機械学習を扱う中で利用する機能はありますが、これらを知っているだけで様々な操作が可能です。この後の問題で実際に使い確認していきましょう。"
   ]
  },
  {
   "cell_type": "markdown",
   "metadata": {},
   "source": [
    "# 4.ダーツ投げのシミュレーションの作成\n",
    "\n",
    "\n",
    "実装する上での前提条件を以下に示します。\n",
    "\n",
    "複数のダーツのまとは、間を空けずに横一列に並んでいるとします。\n",
    "ある番号のまとに狙ったダーツは、他のまとには行かないとします。\n",
    "\n",
    "実装するフローは以下になります。\n",
    "\n",
    "ダーツのまとを選びます。（ここではサイコロを振り、出た目の番号を狙うまとの番号とします。）\n",
    "サイコロで出た番号のまとを選び、ダーツを投げます。（ここではダーツが刺さる場所は正規分布に従うとします。）\n",
    "ダーツが刺さった場所を記録します。（x座標、y座標だけではなく、どの番号のまとに向かって投げたかも記録します。）\n",
    "1~3を指定回数（ダーツの投げる回数）だけ繰り返します。（指定回数は任意です。）\n",
    "各番号のダーツが刺さった場所をプロットします。（ダーツのまとが6個なら、6個のダーツのまとが横に等間隔で並んでいるイメージです。）\n",
    "\n",
    "これらのフローを以下の問題を通じて一つ一つ実装していきましょう。\n",
    "\n",
    "\n",
    "## 【問題1】ダーツのまとを選ぶ\n",
    "ダーツのまとを選ぶためにサイコロを実装しましょう。\n",
    "\n",
    "《ヒント》\n",
    "\n",
    "「サイコロを振る」動作を表現するのにnp.random.choice()を用います。こうすることで配列の中からランダムに要素を1つ選ぶことができます。"
   ]
  },
  {
   "cell_type": "code",
   "execution_count": 11,
   "metadata": {},
   "outputs": [
    {
     "name": "stdout",
     "output_type": "stream",
     "text": [
      "サイコロの目は2です。\n"
     ]
    }
   ],
   "source": [
    "import numpy as np\n",
    "\n",
    "dice = [1,2,3,4,5,6]\n",
    "dice_ndarray = np.random.choice(dice)\n",
    "print(\"サイコロの目は{}です。\".format(dice_ndarray))"
   ]
  },
  {
   "cell_type": "markdown",
   "metadata": {},
   "source": [
    "## 【問題2】ダーツを投げて、刺さった場所を記録する\n",
    "ダーツの刺さった場所(x座標、y座標)を正規分布から値を発生させることで表現しましょう。正規分布のx方向の「中心」は問題1で出たサイコロの番号、「標準偏差」は0.1としてください。 刺さった場所（座標）は、配列で保持するようにしてください。\n",
    "\n",
    "《ヒント》\n",
    "\n",
    "ダーツが刺さった場所（座標）は、二次元正規分布を真上から見たときのx座標、y座標の交点として表現しましょう。x座標、y座標の各値は、それぞれが独立した一次元正規分布に従うものとし、x座標とy座標用に、別々にnp.random.normal()から変数を発生させ、それらの組みを座標点として、配列で保持してください。\n",
    "\n",
    "また、二次元正規分布はnp.random.multivariate_normal()を用いて表現することもできます。その場合、例えば平均値ベクトルを[0,0] (mean=[0,0])、共分散行列を[[[0.01,0],[0,0.01]] (cov=[[0.01,0],[0,0.01]])としてnp.random.multivariate_normal(mean, cov)とすると、x座標とy座標の変数の組みを作れます。"
   ]
  },
  {
   "cell_type": "code",
   "execution_count": 12,
   "metadata": {},
   "outputs": [
    {
     "name": "stdout",
     "output_type": "stream",
     "text": [
      "[1.9796727150353586, 0.07907274763010665]\n",
      "[2.3581424280828323, -0.10054485483220528]\n"
     ]
    }
   ],
   "source": [
    "x_ndarray = np.random.normal(dice_ndarray, 0.1)\n",
    "y_ndarray = np.random.normal(0, 0.1)\n",
    "print([x_ndarray,y_ndarray])\n",
    "mean = [dice_ndarray,0]\n",
    "cov = [0.1, 0],[0, 0.1]\n",
    "x,y = np.random.multivariate_normal(mean, cov).T\n",
    "print([x,y])"
   ]
  },
  {
   "cell_type": "markdown",
   "metadata": {},
   "source": [
    "【問題3】ダーツをたくさん投げて、まとの番号と紐付けた状態で記録する\n",
    "ダーツを1000回投げて、全てのダーツの刺さった位置をディクショナリに格納してください。ディクショナリのkeyはダーツのまとの番号になります。\n",
    "\n",
    "《ヒント》\n",
    "\n",
    "「ダーツを1000回投げる」というのは 問題1のサイコロを1000回振る　ことに相当します。 問題1と問題2に加えディクショナリに座標を格納する操作をfor文の中に実装することになります。\n"
   ]
  },
  {
   "cell_type": "code",
   "execution_count": 13,
   "metadata": {},
   "outputs": [
    {
     "name": "stdout",
     "output_type": "stream",
     "text": [
      "dict_keys([3, 6, 1, 4, 2, 5]) dict_keys([3, 6, 1, 4, 2, 5])\n"
     ]
    }
   ],
   "source": [
    "x_dict = {}\n",
    "y_dict = {}\n",
    "for count in range(1000):\n",
    "    dice = [1,2,3,4,5,6]\n",
    "    dice_ndarray = np.random.choice(dice) #1\n",
    "    \n",
    "    mean = [dice_ndarray,0]\n",
    "    cov = [0.01, 0],[0, 0.01]\n",
    "    x,y = np.random.multivariate_normal(mean, cov).T#2\n",
    "    \n",
    "    x_dict.setdefault(dice_ndarray,[]).append(x)\n",
    "    y_dict.setdefault(dice_ndarray,[]).append(y)\n",
    "print(x_dict.keys(),y_dict.keys())\n",
    "    "
   ]
  },
  {
   "cell_type": "markdown",
   "metadata": {},
   "source": [
    "【問題4】ダーツのまとと刺さった位置を描画する\n",
    "問題3で作成したディクショナリからkeyごとに値を取り出し、まとごとに刺さった場所を描画してみましょう。ダーツのまとを表現するためここではmatplotlibのpatchesクラスを用いてください。\n",
    "\n",
    "matplotlibのpatchesクラスの公式ドキュメント\n",
    "\n",
    "matplotlib.patches.Circle — Matplotlib 3.1.1 documentation\n",
    "\n",
    "Mmh Donuts!!! — Matplotlib 3.1.1 documentation\n",
    "\n",
    "ここまで出来ていれば、最初に示したような図が描画されるはずです。\n"
   ]
  },
  {
   "cell_type": "code",
   "execution_count": 85,
   "metadata": {},
   "outputs": [
    {
     "data": {
      "image/png": "[encoded data removed]",
      "text/plain": [
       "<Figure size 576x432 with 1 Axes>"
      ]
     },
     "metadata": {
      "needs_background": "light"
     },
     "output_type": "display_data"
    }
   ],
   "source": [
    "import matplotlib.pyplot as plt\n",
    "import matplotlib.patches as mpatches\n",
    "%matplotlib inline\n",
    "\n",
    "fig = plt.figure(figsize=(8,6))\n",
    "ax = fig.add_subplot(111)\n",
    "fig_list = []\n",
    "\n",
    "for mato in dice:\n",
    "    \n",
    "    \n",
    "    mato_x = np.array(x_dict.get(mato)).reshape(len(x_dict.get(mato)),1)\n",
    "    mato_y = np.array(y_dict.get(mato)).reshape(len(y_dict.get(mato)),1)\n",
    "\n",
    "    fig_list.append(ax.scatter(mato_x, mato_y, s= 0.5))\n",
    "    \n",
    "    #out = mpatches.Circle(xy=(int(mato), 0), radius=0.5, fill=False)\n",
    "    #mid = mpatches.Circle(xy=(int(mato), 0), radius=0.3, fill=False)\n",
    "    #bull = mpatches.Circle(xy=(int(mato), 0), radius=0.1, fill=False)\n",
    "\n",
    "    \n",
    "    fig_list.append(ax.add_artist(mpatches.CirclePolygon(xy=(int(mato), 0), radius=0.5, fill=False)))\n",
    "    fig_list.append(ax.add_artist(mpatches.CirclePolygon(xy=(int(mato), 0), radius=0.3, fill=False)))\n",
    "    fig_list.append(ax.add_artist(mpatches.CirclePolygon(xy=(int(mato), 0), radius=0.1, fill=False)))\n",
    "    \n",
    "    patches_collection.set_array(np.arange(len(patches_list)))\n",
    "    ax.add_collection(patches_collection)\n",
    "    \n",
    "    \n",
    "    #ax.add_patch(out) \n",
    "    #ax.add_patch(mid)\n",
    "    #ax.add_patch(bull)\n",
    "\n",
    "ax.set_aspect(1)\n",
    "\n",
    "ax.set_xlim(0, 7)\n",
    "ax.set_ylim(-1, 1)\n",
    "plt.show()"
   ]
  },
  {
   "cell_type": "code",
   "execution_count": 73,
   "metadata": {},
   "outputs": [
    {
     "data": {
      "image/png": "[encoded data removed]",
      "text/plain": [
       "<Figure size 432x288 with 1 Axes>"
      ]
     },
     "metadata": {
      "needs_background": "light"
     },
     "output_type": "display_data"
    }
   ],
   "source": [
    "import matplotlib\n",
    "import matplotlib.pyplot as plt\n",
    "from matplotlib.colors import ListedColormap\n",
    "from matplotlib.collections import PatchCollection\n",
    "import numpy as np\n",
    "\n",
    "fig = plt.figure()\n",
    "ax = fig.add_subplot(111)\n",
    "patches_list = []\n",
    "color_list = []\n",
    "patches_list.append(matplotlib.patches.Rectangle((-200,-100), 400, 200))\n",
    "color_list.append('yellow')\n",
    "patches_list.append(matplotlib.patches.Rectangle((0,150), 300, 20))\n",
    "color_list.append('red')\n",
    "patches_list.append(matplotlib.patches.Rectangle((-300,-50), 40, 200))\n",
    "color_list.append('#0099FF')\n",
    "patches_list.append(matplotlib.patches.Circle((-200,-250), radius=90))\n",
    "color_list.append('#EB70AA')\n",
    "\n",
    "our_cmap = ListedColormap(color_list)\n",
    "patches_collection = PatchCollection(patches_list, cmap=our_cmap)\n",
    "patches_collection.set_array(np.arange(len(patches_list)))\n",
    "ax.add_collection(patches_collection)\n",
    "\n",
    "plt.xlim([-400, 400])\n",
    "plt.ylim([-400, 400])\n",
    "plt.show()"
   ]
  },
  {
   "cell_type": "code",
   "execution_count": 23,
   "metadata": {},
   "outputs": [
    {
     "data": {
      "image/png": "[encoded data removed]",
      "text/plain": [
       "<Figure size 216x216 with 1 Axes>"
      ]
     },
     "metadata": {
      "needs_background": "light"
     },
     "output_type": "display_data"
    }
   ],
   "source": [
    "from matplotlib.patches import Circle\n",
    "import matplotlib.pyplot as plt\n",
    "\n",
    "\n",
    "fig, ax = plt.subplots(figsize=(3, 3))\n",
    "\n",
    "ada = AnchoredDrawingArea(40, 20, 0, 0,\n",
    "                          loc='upper right', pad=0., frameon=False)\n",
    "p1 = Circle((10, 10), 10)\n",
    "ada.drawing_area.add_artist(p1)\n",
    "p2 = Circle((30, 10), 5, fc=\"r\")\n",
    "ada.drawing_area.add_artist(p2)\n",
    "\n",
    "ax.add_artist(ada)\n",
    "\n",
    "plt.show()"
   ]
  },
  {
   "cell_type": "code",
   "execution_count": null,
   "metadata": {},
   "outputs": [],
   "source": []
  },
  {
   "cell_type": "code",
   "execution_count": null,
   "metadata": {},
   "outputs": [],
   "source": []
  },
  {
   "cell_type": "code",
   "execution_count": null,
   "metadata": {},
   "outputs": [],
   "source": []
  },
  {
   "cell_type": "markdown",
   "metadata": {},
   "source": [
    "## 【問題5】関数化\n",
    "ダーツを投げる回数、ダーツのまとの数が変わっても描画できるように、問題1~問題4で作成したコードを関数化しましょう。\n",
    "\n",
    "《ヒント》\n",
    "\n",
    "ダーツの投げる回数とダーツのまとの数を関数の引数にしましょう。"
   ]
  },
  {
   "cell_type": "code",
   "execution_count": 84,
   "metadata": {},
   "outputs": [
    {
     "data": {
      "image/png": "[encoded data removed]",
      "text/plain": [
       "<Figure size 720x360 with 1 Axes>"
      ]
     },
     "metadata": {
      "needs_background": "light"
     },
     "output_type": "display_data"
    }
   ],
   "source": [
    "import matplotlib.pyplot as plt\n",
    "import matplotlib.patches as mpatches\n",
    "%matplotlib inline\n",
    "\n",
    "def darts(dat_count,tage):\n",
    "    x_dict = {}\n",
    "    y_dict = {}\n",
    "    for count in range(dat_count):\n",
    "        #dice = [1,2,3,4,5,6]\n",
    "        dice = np.arange(1,tage + 1)\n",
    "        dice_ndarray = np.random.choice(dice) #1\n",
    "\n",
    "        mean = [dice_ndarray,0]\n",
    "        cov = [0.01, 0],[0, 0.01]\n",
    "        x,y = np.random.multivariate_normal(mean, cov).T#2\n",
    "\n",
    "        x_dict.setdefault(dice_ndarray,[]).append(x)\n",
    "        y_dict.setdefault(dice_ndarray,[]).append(y)\n",
    "    #print(x_dict.keys(),y_dict.keys())\n",
    "\n",
    "    #fig, ax = plt.subplots(figsize=(20,10))\n",
    "    fig, ax = plt.subplots(figsize=(10, 5))\n",
    "    \n",
    "    for mato in dice:\n",
    "\n",
    "        mato_x = np.array(x_dict.get(mato)).reshape(len(x_dict.get(mato)),1)\n",
    "        mato_y = np.array(y_dict.get(mato)).reshape(len(y_dict.get(mato)),1)\n",
    "\n",
    "        ax.scatter(mato_x, mato_y)\n",
    "\n",
    "        out = mpatches.Circle((mato, 0), radius=0.5, fill=False)\n",
    "        mid = mpatches.Circle((mato, 0), radius=0.3, fill=False)\n",
    "        bull = mpatches.Circle((mato, 0), radius=0.1, fill=False)\n",
    "\n",
    "        ax.add_patch(out)\n",
    "        ax.add_patch(mid)\n",
    "        ax.add_patch(bull)\n",
    "\n",
    "    ax.set_aspect(1)\n",
    "    plt.show()\n",
    "    \n",
    "darts(100,9)\n",
    "    "
   ]
  },
  {
   "cell_type": "markdown",
   "metadata": {},
   "source": [
    "## 【発展】ダーツシミュレーションの数理的な話\n",
    "今回実装する中でいくつか確率分布を使用した部分があったと思います。具体的には以下です。\n",
    "\n",
    "どのまとを選択するかを一様分布のサイコロを振ることで表現\n",
    "ダーツが刺さる場所を正規分布と仮定することで表現\n",
    "\n",
    "言い換えると、この2つの事象を　確率的に生じる　と仮定して、シミュレーションをしたわけです。このように、ある入力に対して出力が確率的に生成されるという仮説のもとモデルを構築することを　確率的生成モデル　と言います。\n",
    "\n",
    "ここでいうモデルとは機械学習モデルのことではなく、一般的な数理的なシミューション全般をさします。\n",
    "\n",
    "出る目の分布が一様分布に従うサイコロは以下のように表せます。\n",
    "\n",
    "p(d=1)=16,⋯,p(d=6)=16\n",
    "\n",
    "ダーツが刺さる場所は、x座標もy座標も正規分布に従うと仮定すると以下のように表せます。\n",
    "\n",
    "p(x|d)=p(x|μ(d))=N(x|μ(d),σ2)\n",
    "そして、サイコロを振る→正規分布からx座標とy座標のデータをサンプリングする　という連続的な2つの事象は上記の2つの確率分布の積で表現できるのでダーツが刺さる場所は以下のような確率密度分布で表現できます。\n",
    "\n",
    "p(x)=∑6d=1p(d)p(x|d)=∑6d=116N(x|μ(d),σ2)\n",
    "\n",
    "このようないくつかの正規分布の重みつき平均で得られる確率分布を　混合正規分布　と言います。\n",
    "\n",
    "ここでは、確率的生成モデルの入り口に立ってもらうために確率分布を用いたプログラミングに取り組んでいただきました。アニメのキャラクター生成など、メディアでよく取り上げられているものもGANやVAEなどの生成モデルを使っています。今はそれらについて勉強する必要はありませんが、事象が確率的に生じると仮定して、ある入力に対して出力が確率的に生成されるという仮説のもと構築されるモデル ということは覚えておくと良いでしょう。"
   ]
  }
 ],
 "metadata": {
  "kernelspec": {
   "display_name": "Python 3",
   "language": "python",
   "name": "python3"
  },
  "language_info": {
   "codemirror_mode": {
    "name": "ipython",
    "version": 3
   },
   "file_extension": ".py",
   "mimetype": "text/x-python",
   "name": "python",
   "nbconvert_exporter": "python",
   "pygments_lexer": "ipython3",
   "version": "3.8.5"
  }
 },
 "nbformat": 4,
 "nbformat_minor": 4
}
