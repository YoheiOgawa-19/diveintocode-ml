{
 "metadata": {
  "language_info": {
   "codemirror_mode": {
    "name": "ipython",
    "version": 3
   },
   "file_extension": ".py",
   "mimetype": "text/x-python",
   "name": "python",
   "nbconvert_exporter": "python",
   "pygments_lexer": "ipython3",
   "version": "3.8.8-final"
  },
  "orig_nbformat": 2,
  "kernelspec": {
   "name": "python3",
   "display_name": "Python 3",
   "language": "python"
  }
 },
 "nbformat": 4,
 "nbformat_minor": 2,
 "cells": [
  {
   "source": [
    "## Sprint 深層学習スクラッチ ニューラルネットワーク"
   ],
   "cell_type": "markdown",
   "metadata": {}
  },
  {
   "source": [
    "### 2.MNISTデータセット\n",
    "\n",
    "\n",
    "ニューラルネットワークスクラッチの検証にはMNISTデータセットを使用します。各種ライブラリやサイトからダウンロードできますが、ここでは深層学習フレームワークのKerasを用います。以下のコードを実行すればデータセットをダウンロードし、展開まで行えます。\n",
    "\n",
    "《データセットをダウンロードするコード》"
   ],
   "cell_type": "markdown",
   "metadata": {}
  },
  {
   "cell_type": "code",
   "execution_count": 279,
   "metadata": {},
   "outputs": [],
   "source": [
    "import tensorflow as tf\n",
    "import numpy as np\n",
    "import pandas as pd \n",
    "import matplotlib.pyplot as plt\n",
    "%matplotlib inline"
   ]
  },
  {
   "cell_type": "code",
   "execution_count": 280,
   "metadata": {},
   "outputs": [],
   "source": [
    "mnist = tf.keras.datasets.mnist"
   ]
  },
  {
   "cell_type": "code",
   "execution_count": 281,
   "metadata": {},
   "outputs": [],
   "source": [
    "(X_train, y_train), (X_test, y_test) = mnist.load_data()"
   ]
  },
  {
   "source": [
    "《MNISTとは？》\n",
    "\n",
    "画像分類のための定番データセットで、手書き数字認識を行います。このデータセットには訓練用6万枚、テスト用1万枚の28×28ピクセルの白黒画像、およびそれらが0〜9のどの数字であるかというラベルが含まれています。\n",
    "\n",
    "《画像データとは？》\n",
    "\n",
    "デジタル画像は点の集合で、これをピクセルと呼びます。一般的に白黒画像であればピクセルには0〜255の値が含まれます。一方、カラー画像であればR（赤）、G（緑）、B（青）それぞれに対応する0〜255の値が含まれます。機械学習をする上では、この0〜255の値一つひとつが特徴量として扱われます。0〜255は符号なしの8ビット整数で表せる範囲になるため、NumPyであれば「uint8」型の変数として保持できます。\n",
    "\n",
    "### データセットの確認\n",
    "どういったデータなのかを見てみます。\n",
    "\n",
    "《サンプルコード》\n"
   ],
   "cell_type": "markdown",
   "metadata": {}
  },
  {
   "cell_type": "code",
   "execution_count": 282,
   "metadata": {},
   "outputs": [
    {
     "output_type": "stream",
     "name": "stdout",
     "text": [
      "(60000, 28, 28)\n(10000, 28, 28)\nuint8\n[[  0   0   0   0   0   0   0   0   0   0   0   0   0   0   0   0   0   0\n    0   0   0   0   0   0   0   0   0   0]\n [  0   0   0   0   0   0   0   0   0   0   0   0   0   0   0   0   0   0\n    0   0   0   0   0   0   0   0   0   0]\n [  0   0   0   0   0   0   0   0   0   0   0   0   0   0   0   0   0   0\n    0   0   0   0   0   0   0   0   0   0]\n [  0   0   0   0   0   0   0   0   0   0   0   0   0   0   0   0   0   0\n    0   0   0   0   0   0   0   0   0   0]\n [  0   0   0   0   0   0   0   0   0   0   0   0   0   0   0   0   0   0\n    0   0   0   0   0   0   0   0   0   0]\n [  0   0   0   0   0   0   0   0   0   0   0   0   3  18  18  18 126 136\n  175  26 166 255 247 127   0   0   0   0]\n [  0   0   0   0   0   0   0   0  30  36  94 154 170 253 253 253 253 253\n  225 172 253 242 195  64   0   0   0   0]\n [  0   0   0   0   0   0   0  49 238 253 253 253 253 253 253 253 253 251\n   93  82  82  56  39   0   0   0   0   0]\n [  0   0   0   0   0   0   0  18 219 253 253 253 253 253 198 182 247 241\n    0   0   0   0   0   0   0   0   0   0]\n [  0   0   0   0   0   0   0   0  80 156 107 253 253 205  11   0  43 154\n    0   0   0   0   0   0   0   0   0   0]\n [  0   0   0   0   0   0   0   0   0  14   1 154 253  90   0   0   0   0\n    0   0   0   0   0   0   0   0   0   0]\n [  0   0   0   0   0   0   0   0   0   0   0 139 253 190   2   0   0   0\n    0   0   0   0   0   0   0   0   0   0]\n [  0   0   0   0   0   0   0   0   0   0   0  11 190 253  70   0   0   0\n    0   0   0   0   0   0   0   0   0   0]\n [  0   0   0   0   0   0   0   0   0   0   0   0  35 241 225 160 108   1\n    0   0   0   0   0   0   0   0   0   0]\n [  0   0   0   0   0   0   0   0   0   0   0   0   0  81 240 253 253 119\n   25   0   0   0   0   0   0   0   0   0]\n [  0   0   0   0   0   0   0   0   0   0   0   0   0   0  45 186 253 253\n  150  27   0   0   0   0   0   0   0   0]\n [  0   0   0   0   0   0   0   0   0   0   0   0   0   0   0  16  93 252\n  253 187   0   0   0   0   0   0   0   0]\n [  0   0   0   0   0   0   0   0   0   0   0   0   0   0   0   0   0 249\n  253 249  64   0   0   0   0   0   0   0]\n [  0   0   0   0   0   0   0   0   0   0   0   0   0   0  46 130 183 253\n  253 207   2   0   0   0   0   0   0   0]\n [  0   0   0   0   0   0   0   0   0   0   0   0  39 148 229 253 253 253\n  250 182   0   0   0   0   0   0   0   0]\n [  0   0   0   0   0   0   0   0   0   0  24 114 221 253 253 253 253 201\n   78   0   0   0   0   0   0   0   0   0]\n [  0   0   0   0   0   0   0   0  23  66 213 253 253 253 253 198  81   2\n    0   0   0   0   0   0   0   0   0   0]\n [  0   0   0   0   0   0  18 171 219 253 253 253 253 195  80   9   0   0\n    0   0   0   0   0   0   0   0   0   0]\n [  0   0   0   0  55 172 226 253 253 253 253 244 133  11   0   0   0   0\n    0   0   0   0   0   0   0   0   0   0]\n [  0   0   0   0 136 253 253 253 212 135 132  16   0   0   0   0   0   0\n    0   0   0   0   0   0   0   0   0   0]\n [  0   0   0   0   0   0   0   0   0   0   0   0   0   0   0   0   0   0\n    0   0   0   0   0   0   0   0   0   0]\n [  0   0   0   0   0   0   0   0   0   0   0   0   0   0   0   0   0   0\n    0   0   0   0   0   0   0   0   0   0]\n [  0   0   0   0   0   0   0   0   0   0   0   0   0   0   0   0   0   0\n    0   0   0   0   0   0   0   0   0   0]]\n"
     ]
    }
   ],
   "source": [
    "print(X_train.shape) # (60000, 28, 28)\n",
    "print(X_test.shape) # (10000, 28, 28)\n",
    "print(X_train[0].dtype) # uint8\n",
    "print(X_train[0])"
   ]
  },
  {
   "source": [
    "各データは28×28ピクセルの白黒画像です。\n",
    "\n",
    "### 平滑化\n",
    "------------\n",
    "(1, 28, 28)の各画像を、(1, 784)に変換します。これまで学んできた機械学習手法や、今回扱う全結合層のみのニューラルネットワークではこの形で扱います。全てのピクセルが一列になっていることを、 平滑化（flatten） してあるという風に表現します。\n",
    "\n",
    "《サンプルコード》"
   ],
   "cell_type": "markdown",
   "metadata": {}
  },
  {
   "cell_type": "code",
   "execution_count": 283,
   "metadata": {},
   "outputs": [],
   "source": [
    "X_train = X_train.reshape(-1, 784)\n",
    "X_test = X_test.reshape(-1, 784)"
   ]
  },
  {
   "source": [
    "《補足》\n",
    "\n",
    "ここまで機械学習を学んでくる中で、特徴量の数を「次元」と呼んできました。その視点ではMNISTは784次元のデータです。一方で、NumPyのshapeが(784,)の状態を1次元配列とも呼びます。画像としての縦横の情報を持つ（28, 28)の状態であれば、2次元配列です。この視点では2次元のデータです。さらに、もしもカラー画像であれば(28, 28, 3)ということになり、3次元配列です。先ほどの視点では3次元のデータになります。しかし、白黒でもカラーでも平面画像であり、立体データではないという視点で、2次元のデータです。画像データを扱う際にはこのように「次元」という言葉が複数の意味合いで使われることに注意してください。\n",
    "\n",
    "### 画像データの可視化\n",
    "画像データを可視化します。plt.imshowに渡します。\n",
    "\n",
    "《サンプルコード》"
   ],
   "cell_type": "markdown",
   "metadata": {}
  },
  {
   "cell_type": "code",
   "execution_count": 284,
   "metadata": {},
   "outputs": [
    {
     "output_type": "display_data",
     "data": {
      "text/plain": "<Figure size 432x288 with 1 Axes>",
      "image/svg+xml": "<?xml version=\"1.0\" encoding=\"utf-8\" standalone=\"no\"?>\n<!DOCTYPE svg PUBLIC \"-//W3C//DTD SVG 1.1//EN\"\n  \"http://www.w3.org/Graphics/SVG/1.1/DTD/svg11.dtd\">\n<!-- Created with matplotlib (https://matplotlib.org/) -->\n<svg height=\"263.63625pt\" version=\"1.1\" viewBox=\"0 0 251.565 263.63625\" width=\"251.565pt\" xmlns=\"http://www.w3.org/2000/svg\" xmlns:xlink=\"http://www.w3.org/1999/xlink\">\n <metadata>\n  <rdf:RDF xmlns:cc=\"http://creativecommons.org/ns#\" xmlns:dc=\"http://purl.org/dc/elements/1.1/\" xmlns:rdf=\"http://www.w3.org/1999/02/22-rdf-syntax-ns#\">\n   <cc:Work>\n    <dc:type rdf:resource=\"http://purl.org/dc/dcmitype/StillImage\"/>\n    <dc:date>2021-03-06T14:15:09.187755</dc:date>\n    <dc:format>image/svg+xml</dc:format>\n    <dc:creator>\n     <cc:Agent>\n      <dc:title>Matplotlib v3.3.4, https://matplotlib.org/</dc:title>\n     </cc:Agent>\n    </dc:creator>\n   </cc:Work>\n  </rdf:RDF>\n </metadata>\n <defs>\n  <style type=\"text/css\">*{stroke-linecap:butt;stroke-linejoin:round;}</style>\n </defs>\n <g id=\"figure_1\">\n  <g id=\"patch_1\">\n   <path d=\"M 0 263.63625 \nL 251.565 263.63625 \nL 251.565 0 \nL 0 0 \nz\n\" style=\"fill:none;\"/>\n  </g>\n  <g id=\"axes_1\">\n   <g id=\"patch_2\">\n    <path d=\"M 26.925 239.758125 \nL 244.365 239.758125 \nL 244.365 22.318125 \nL 26.925 22.318125 \nz\n\" style=\"fill:#ffffff;\"/>\n   </g>\n   <g clip-path=\"url(#p5c5cc2f070)\">\n    <image height=\"218\" id=\"imagec6d5081a5d\" transform=\"scale(1 -1)translate(0 -218)\" width=\"218\" x=\"26.925\" xlink:href=\"data:image/png;base64,\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\" y=\"-21.758125\"/>\n   </g>\n   <g id=\"matplotlib.axis_1\">\n    <g id=\"xtick_1\">\n     <g id=\"line2d_1\">\n      <defs>\n       <path d=\"M 0 0 \nL 0 3.5 \n\" id=\"m61f182d4c9\" style=\"stroke:#000000;stroke-width:0.8;\"/>\n      </defs>\n      <g>\n       <use style=\"stroke:#000000;stroke-width:0.8;\" x=\"30.807857\" xlink:href=\"#m61f182d4c9\" y=\"239.758125\"/>\n      </g>\n     </g>\n     <g id=\"text_1\">\n      <!-- 0 -->\n      <g transform=\"translate(27.626607 254.356563)scale(0.1 -0.1)\">\n       <defs>\n        <path d=\"M 31.78125 66.40625 \nQ 24.171875 66.40625 20.328125 58.90625 \nQ 16.5 51.421875 16.5 36.375 \nQ 16.5 21.390625 20.328125 13.890625 \nQ 24.171875 6.390625 31.78125 6.390625 \nQ 39.453125 6.390625 43.28125 13.890625 \nQ 47.125 21.390625 47.125 36.375 \nQ 47.125 51.421875 43.28125 58.90625 \nQ 39.453125 66.40625 31.78125 66.40625 \nz\nM 31.78125 74.21875 \nQ 44.046875 74.21875 50.515625 64.515625 \nQ 56.984375 54.828125 56.984375 36.375 \nQ 56.984375 17.96875 50.515625 8.265625 \nQ 44.046875 -1.421875 31.78125 -1.421875 \nQ 19.53125 -1.421875 13.0625 8.265625 \nQ 6.59375 17.96875 6.59375 36.375 \nQ 6.59375 54.828125 13.0625 64.515625 \nQ 19.53125 74.21875 31.78125 74.21875 \nz\n\" id=\"DejaVuSans-48\"/>\n       </defs>\n       <use xlink:href=\"#DejaVuSans-48\"/>\n      </g>\n     </g>\n    </g>\n    <g id=\"xtick_2\">\n     <g id=\"line2d_2\">\n      <g>\n       <use style=\"stroke:#000000;stroke-width:0.8;\" x=\"69.636429\" xlink:href=\"#m61f182d4c9\" y=\"239.758125\"/>\n      </g>\n     </g>\n     <g id=\"text_2\">\n      <!-- 5 -->\n      <g transform=\"translate(66.455179 254.356563)scale(0.1 -0.1)\">\n       <defs>\n        <path d=\"M 10.796875 72.90625 \nL 49.515625 72.90625 \nL 49.515625 64.59375 \nL 19.828125 64.59375 \nL 19.828125 46.734375 \nQ 21.96875 47.46875 24.109375 47.828125 \nQ 26.265625 48.1875 28.421875 48.1875 \nQ 40.625 48.1875 47.75 41.5 \nQ 54.890625 34.8125 54.890625 23.390625 \nQ 54.890625 11.625 47.5625 5.09375 \nQ 40.234375 -1.421875 26.90625 -1.421875 \nQ 22.3125 -1.421875 17.546875 -0.640625 \nQ 12.796875 0.140625 7.71875 1.703125 \nL 7.71875 11.625 \nQ 12.109375 9.234375 16.796875 8.0625 \nQ 21.484375 6.890625 26.703125 6.890625 \nQ 35.15625 6.890625 40.078125 11.328125 \nQ 45.015625 15.765625 45.015625 23.390625 \nQ 45.015625 31 40.078125 35.4375 \nQ 35.15625 39.890625 26.703125 39.890625 \nQ 22.75 39.890625 18.8125 39.015625 \nQ 14.890625 38.140625 10.796875 36.28125 \nz\n\" id=\"DejaVuSans-53\"/>\n       </defs>\n       <use xlink:href=\"#DejaVuSans-53\"/>\n      </g>\n     </g>\n    </g>\n    <g id=\"xtick_3\">\n     <g id=\"line2d_3\">\n      <g>\n       <use style=\"stroke:#000000;stroke-width:0.8;\" x=\"108.465\" xlink:href=\"#m61f182d4c9\" y=\"239.758125\"/>\n      </g>\n     </g>\n     <g id=\"text_3\">\n      <!-- 10 -->\n      <g transform=\"translate(102.1025 254.356563)scale(0.1 -0.1)\">\n       <defs>\n        <path d=\"M 12.40625 8.296875 \nL 28.515625 8.296875 \nL 28.515625 63.921875 \nL 10.984375 60.40625 \nL 10.984375 69.390625 \nL 28.421875 72.90625 \nL 38.28125 72.90625 \nL 38.28125 8.296875 \nL 54.390625 8.296875 \nL 54.390625 0 \nL 12.40625 0 \nz\n\" id=\"DejaVuSans-49\"/>\n       </defs>\n       <use xlink:href=\"#DejaVuSans-49\"/>\n       <use x=\"63.623047\" xlink:href=\"#DejaVuSans-48\"/>\n      </g>\n     </g>\n    </g>\n    <g id=\"xtick_4\">\n     <g id=\"line2d_4\">\n      <g>\n       <use style=\"stroke:#000000;stroke-width:0.8;\" x=\"147.293571\" xlink:href=\"#m61f182d4c9\" y=\"239.758125\"/>\n      </g>\n     </g>\n     <g id=\"text_4\">\n      <!-- 15 -->\n      <g transform=\"translate(140.931071 254.356563)scale(0.1 -0.1)\">\n       <use xlink:href=\"#DejaVuSans-49\"/>\n       <use x=\"63.623047\" xlink:href=\"#DejaVuSans-53\"/>\n      </g>\n     </g>\n    </g>\n    <g id=\"xtick_5\">\n     <g id=\"line2d_5\">\n      <g>\n       <use style=\"stroke:#000000;stroke-width:0.8;\" x=\"186.122143\" xlink:href=\"#m61f182d4c9\" y=\"239.758125\"/>\n      </g>\n     </g>\n     <g id=\"text_5\">\n      <!-- 20 -->\n      <g transform=\"translate(179.759643 254.356563)scale(0.1 -0.1)\">\n       <defs>\n        <path d=\"M 19.1875 8.296875 \nL 53.609375 8.296875 \nL 53.609375 0 \nL 7.328125 0 \nL 7.328125 8.296875 \nQ 12.9375 14.109375 22.625 23.890625 \nQ 32.328125 33.6875 34.8125 36.53125 \nQ 39.546875 41.84375 41.421875 45.53125 \nQ 43.3125 49.21875 43.3125 52.78125 \nQ 43.3125 58.59375 39.234375 62.25 \nQ 35.15625 65.921875 28.609375 65.921875 \nQ 23.96875 65.921875 18.8125 64.3125 \nQ 13.671875 62.703125 7.8125 59.421875 \nL 7.8125 69.390625 \nQ 13.765625 71.78125 18.9375 73 \nQ 24.125 74.21875 28.421875 74.21875 \nQ 39.75 74.21875 46.484375 68.546875 \nQ 53.21875 62.890625 53.21875 53.421875 \nQ 53.21875 48.921875 51.53125 44.890625 \nQ 49.859375 40.875 45.40625 35.40625 \nQ 44.1875 33.984375 37.640625 27.21875 \nQ 31.109375 20.453125 19.1875 8.296875 \nz\n\" id=\"DejaVuSans-50\"/>\n       </defs>\n       <use xlink:href=\"#DejaVuSans-50\"/>\n       <use x=\"63.623047\" xlink:href=\"#DejaVuSans-48\"/>\n      </g>\n     </g>\n    </g>\n    <g id=\"xtick_6\">\n     <g id=\"line2d_6\">\n      <g>\n       <use style=\"stroke:#000000;stroke-width:0.8;\" x=\"224.950714\" xlink:href=\"#m61f182d4c9\" y=\"239.758125\"/>\n      </g>\n     </g>\n     <g id=\"text_6\">\n      <!-- 25 -->\n      <g transform=\"translate(218.588214 254.356563)scale(0.1 -0.1)\">\n       <use xlink:href=\"#DejaVuSans-50\"/>\n       <use x=\"63.623047\" xlink:href=\"#DejaVuSans-53\"/>\n      </g>\n     </g>\n    </g>\n   </g>\n   <g id=\"matplotlib.axis_2\">\n    <g id=\"ytick_1\">\n     <g id=\"line2d_7\">\n      <defs>\n       <path d=\"M 0 0 \nL -3.5 0 \n\" id=\"m88dfe35573\" style=\"stroke:#000000;stroke-width:0.8;\"/>\n      </defs>\n      <g>\n       <use style=\"stroke:#000000;stroke-width:0.8;\" x=\"26.925\" xlink:href=\"#m88dfe35573\" y=\"26.200982\"/>\n      </g>\n     </g>\n     <g id=\"text_7\">\n      <!-- 0 -->\n      <g transform=\"translate(13.5625 30.000201)scale(0.1 -0.1)\">\n       <use xlink:href=\"#DejaVuSans-48\"/>\n      </g>\n     </g>\n    </g>\n    <g id=\"ytick_2\">\n     <g id=\"line2d_8\">\n      <g>\n       <use style=\"stroke:#000000;stroke-width:0.8;\" x=\"26.925\" xlink:href=\"#m88dfe35573\" y=\"65.029554\"/>\n      </g>\n     </g>\n     <g id=\"text_8\">\n      <!-- 5 -->\n      <g transform=\"translate(13.5625 68.828772)scale(0.1 -0.1)\">\n       <use xlink:href=\"#DejaVuSans-53\"/>\n      </g>\n     </g>\n    </g>\n    <g id=\"ytick_3\">\n     <g id=\"line2d_9\">\n      <g>\n       <use style=\"stroke:#000000;stroke-width:0.8;\" x=\"26.925\" xlink:href=\"#m88dfe35573\" y=\"103.858125\"/>\n      </g>\n     </g>\n     <g id=\"text_9\">\n      <!-- 10 -->\n      <g transform=\"translate(7.2 107.657344)scale(0.1 -0.1)\">\n       <use xlink:href=\"#DejaVuSans-49\"/>\n       <use x=\"63.623047\" xlink:href=\"#DejaVuSans-48\"/>\n      </g>\n     </g>\n    </g>\n    <g id=\"ytick_4\">\n     <g id=\"line2d_10\">\n      <g>\n       <use style=\"stroke:#000000;stroke-width:0.8;\" x=\"26.925\" xlink:href=\"#m88dfe35573\" y=\"142.686696\"/>\n      </g>\n     </g>\n     <g id=\"text_10\">\n      <!-- 15 -->\n      <g transform=\"translate(7.2 146.485915)scale(0.1 -0.1)\">\n       <use xlink:href=\"#DejaVuSans-49\"/>\n       <use x=\"63.623047\" xlink:href=\"#DejaVuSans-53\"/>\n      </g>\n     </g>\n    </g>\n    <g id=\"ytick_5\">\n     <g id=\"line2d_11\">\n      <g>\n       <use style=\"stroke:#000000;stroke-width:0.8;\" x=\"26.925\" xlink:href=\"#m88dfe35573\" y=\"181.515268\"/>\n      </g>\n     </g>\n     <g id=\"text_11\">\n      <!-- 20 -->\n      <g transform=\"translate(7.2 185.314487)scale(0.1 -0.1)\">\n       <use xlink:href=\"#DejaVuSans-50\"/>\n       <use x=\"63.623047\" xlink:href=\"#DejaVuSans-48\"/>\n      </g>\n     </g>\n    </g>\n    <g id=\"ytick_6\">\n     <g id=\"line2d_12\">\n      <g>\n       <use style=\"stroke:#000000;stroke-width:0.8;\" x=\"26.925\" xlink:href=\"#m88dfe35573\" y=\"220.343839\"/>\n      </g>\n     </g>\n     <g id=\"text_12\">\n      <!-- 25 -->\n      <g transform=\"translate(7.2 224.143058)scale(0.1 -0.1)\">\n       <use xlink:href=\"#DejaVuSans-50\"/>\n       <use x=\"63.623047\" xlink:href=\"#DejaVuSans-53\"/>\n      </g>\n     </g>\n    </g>\n   </g>\n   <g id=\"patch_3\">\n    <path d=\"M 26.925 239.758125 \nL 26.925 22.318125 \n\" style=\"fill:none;stroke:#000000;stroke-linecap:square;stroke-linejoin:miter;stroke-width:0.8;\"/>\n   </g>\n   <g id=\"patch_4\">\n    <path d=\"M 244.365 239.758125 \nL 244.365 22.318125 \n\" style=\"fill:none;stroke:#000000;stroke-linecap:square;stroke-linejoin:miter;stroke-width:0.8;\"/>\n   </g>\n   <g id=\"patch_5\">\n    <path d=\"M 26.925 239.758125 \nL 244.365 239.758125 \n\" style=\"fill:none;stroke:#000000;stroke-linecap:square;stroke-linejoin:miter;stroke-width:0.8;\"/>\n   </g>\n   <g id=\"patch_6\">\n    <path d=\"M 26.925 22.318125 \nL 244.365 22.318125 \n\" style=\"fill:none;stroke:#000000;stroke-linecap:square;stroke-linejoin:miter;stroke-width:0.8;\"/>\n   </g>\n   <g id=\"text_13\">\n    <!-- label : 5 -->\n    <g transform=\"translate(111.480937 16.318125)scale(0.12 -0.12)\">\n     <defs>\n      <path d=\"M 9.421875 75.984375 \nL 18.40625 75.984375 \nL 18.40625 0 \nL 9.421875 0 \nz\n\" id=\"DejaVuSans-108\"/>\n      <path d=\"M 34.28125 27.484375 \nQ 23.390625 27.484375 19.1875 25 \nQ 14.984375 22.515625 14.984375 16.5 \nQ 14.984375 11.71875 18.140625 8.90625 \nQ 21.296875 6.109375 26.703125 6.109375 \nQ 34.1875 6.109375 38.703125 11.40625 \nQ 43.21875 16.703125 43.21875 25.484375 \nL 43.21875 27.484375 \nz\nM 52.203125 31.203125 \nL 52.203125 0 \nL 43.21875 0 \nL 43.21875 8.296875 \nQ 40.140625 3.328125 35.546875 0.953125 \nQ 30.953125 -1.421875 24.3125 -1.421875 \nQ 15.921875 -1.421875 10.953125 3.296875 \nQ 6 8.015625 6 15.921875 \nQ 6 25.140625 12.171875 29.828125 \nQ 18.359375 34.515625 30.609375 34.515625 \nL 43.21875 34.515625 \nL 43.21875 35.40625 \nQ 43.21875 41.609375 39.140625 45 \nQ 35.0625 48.390625 27.6875 48.390625 \nQ 23 48.390625 18.546875 47.265625 \nQ 14.109375 46.140625 10.015625 43.890625 \nL 10.015625 52.203125 \nQ 14.9375 54.109375 19.578125 55.046875 \nQ 24.21875 56 28.609375 56 \nQ 40.484375 56 46.34375 49.84375 \nQ 52.203125 43.703125 52.203125 31.203125 \nz\n\" id=\"DejaVuSans-97\"/>\n      <path d=\"M 48.6875 27.296875 \nQ 48.6875 37.203125 44.609375 42.84375 \nQ 40.53125 48.484375 33.40625 48.484375 \nQ 26.265625 48.484375 22.1875 42.84375 \nQ 18.109375 37.203125 18.109375 27.296875 \nQ 18.109375 17.390625 22.1875 11.75 \nQ 26.265625 6.109375 33.40625 6.109375 \nQ 40.53125 6.109375 44.609375 11.75 \nQ 48.6875 17.390625 48.6875 27.296875 \nz\nM 18.109375 46.390625 \nQ 20.953125 51.265625 25.265625 53.625 \nQ 29.59375 56 35.59375 56 \nQ 45.5625 56 51.78125 48.09375 \nQ 58.015625 40.1875 58.015625 27.296875 \nQ 58.015625 14.40625 51.78125 6.484375 \nQ 45.5625 -1.421875 35.59375 -1.421875 \nQ 29.59375 -1.421875 25.265625 0.953125 \nQ 20.953125 3.328125 18.109375 8.203125 \nL 18.109375 0 \nL 9.078125 0 \nL 9.078125 75.984375 \nL 18.109375 75.984375 \nz\n\" id=\"DejaVuSans-98\"/>\n      <path d=\"M 56.203125 29.59375 \nL 56.203125 25.203125 \nL 14.890625 25.203125 \nQ 15.484375 15.921875 20.484375 11.0625 \nQ 25.484375 6.203125 34.421875 6.203125 \nQ 39.59375 6.203125 44.453125 7.46875 \nQ 49.3125 8.734375 54.109375 11.28125 \nL 54.109375 2.78125 \nQ 49.265625 0.734375 44.1875 -0.34375 \nQ 39.109375 -1.421875 33.890625 -1.421875 \nQ 20.796875 -1.421875 13.15625 6.1875 \nQ 5.515625 13.8125 5.515625 26.8125 \nQ 5.515625 40.234375 12.765625 48.109375 \nQ 20.015625 56 32.328125 56 \nQ 43.359375 56 49.78125 48.890625 \nQ 56.203125 41.796875 56.203125 29.59375 \nz\nM 47.21875 32.234375 \nQ 47.125 39.59375 43.09375 43.984375 \nQ 39.0625 48.390625 32.421875 48.390625 \nQ 24.90625 48.390625 20.390625 44.140625 \nQ 15.875 39.890625 15.1875 32.171875 \nz\n\" id=\"DejaVuSans-101\"/>\n      <path id=\"DejaVuSans-32\"/>\n      <path d=\"M 11.71875 12.40625 \nL 22.015625 12.40625 \nL 22.015625 0 \nL 11.71875 0 \nz\nM 11.71875 51.703125 \nL 22.015625 51.703125 \nL 22.015625 39.3125 \nL 11.71875 39.3125 \nz\n\" id=\"DejaVuSans-58\"/>\n     </defs>\n     <use xlink:href=\"#DejaVuSans-108\"/>\n     <use x=\"27.783203\" xlink:href=\"#DejaVuSans-97\"/>\n     <use x=\"89.0625\" xlink:href=\"#DejaVuSans-98\"/>\n     <use x=\"152.539062\" xlink:href=\"#DejaVuSans-101\"/>\n     <use x=\"214.0625\" xlink:href=\"#DejaVuSans-108\"/>\n     <use x=\"241.845703\" xlink:href=\"#DejaVuSans-32\"/>\n     <use x=\"273.632812\" xlink:href=\"#DejaVuSans-58\"/>\n     <use x=\"307.324219\" xlink:href=\"#DejaVuSans-32\"/>\n     <use x=\"339.111328\" xlink:href=\"#DejaVuSans-53\"/>\n    </g>\n   </g>\n  </g>\n </g>\n <defs>\n  <clipPath id=\"p5c5cc2f070\">\n   <rect height=\"217.44\" width=\"217.44\" x=\"26.925\" y=\"22.318125\"/>\n  </clipPath>\n </defs>\n</svg>\n",
      "image/png": "[encoded data removed]"
     },
     "metadata": {
      "needs_background": "light"
     }
    }
   ],
   "source": [
    "import matplotlib.pyplot as plt\n",
    "%matplotlib inline\n",
    "index = 0\n",
    "image = X_train[index].reshape(28,28)\n",
    "# X_train[index]: (784,)\n",
    "# image: (28, 28)\n",
    "plt.imshow(image, 'gray')\n",
    "plt.title('label : {}'.format(y_train[index]))\n",
    "plt.show()"
   ]
  },
  {
   "source": [
    "[numpy.reshape — NumPy v1.17 Manual](https://docs.scipy.org/doc/numpy/reference/generated/numpy.reshape.html)  \n",
    "[matplotlib.pyplot.imshow — Matplotlib 3.1.1 documentation](https://matplotlib.org/api/_as_gen/matplotlib.pyplot.imshow.html)  \n",
    "《発展的話題》\n",
    "\n",
    "画像データは符号なし8ビット整数のuint8型で保持されることが一般的ですが、plt.imshowはより自由な配列を画像として表示することが可能です。例えば、以下のようにマイナスの値を持ったfloat64型の浮動小数点であってもエラーにはならないし、先ほどと全く同じ風に表示されます。"
   ],
   "cell_type": "markdown",
   "metadata": {}
  },
  {
   "cell_type": "code",
   "execution_count": 285,
   "metadata": {},
   "outputs": [
    {
     "output_type": "display_data",
     "data": {
      "text/plain": "<Figure size 432x288 with 1 Axes>",
      "image/svg+xml": "<?xml version=\"1.0\" encoding=\"utf-8\" standalone=\"no\"?>\n<!DOCTYPE svg PUBLIC \"-//W3C//DTD SVG 1.1//EN\"\n  \"http://www.w3.org/Graphics/SVG/1.1/DTD/svg11.dtd\">\n<!-- Created with matplotlib (https://matplotlib.org/) -->\n<svg height=\"263.63625pt\" version=\"1.1\" viewBox=\"0 0 251.565 263.63625\" width=\"251.565pt\" xmlns=\"http://www.w3.org/2000/svg\" xmlns:xlink=\"http://www.w3.org/1999/xlink\">\n <metadata>\n  <rdf:RDF xmlns:cc=\"http://creativecommons.org/ns#\" xmlns:dc=\"http://purl.org/dc/elements/1.1/\" xmlns:rdf=\"http://www.w3.org/1999/02/22-rdf-syntax-ns#\">\n   <cc:Work>\n    <dc:type rdf:resource=\"http://purl.org/dc/dcmitype/StillImage\"/>\n    <dc:date>2021-03-06T14:15:10.014897</dc:date>\n    <dc:format>image/svg+xml</dc:format>\n    <dc:creator>\n     <cc:Agent>\n      <dc:title>Matplotlib v3.3.4, https://matplotlib.org/</dc:title>\n     </cc:Agent>\n    </dc:creator>\n   </cc:Work>\n  </rdf:RDF>\n </metadata>\n <defs>\n  <style type=\"text/css\">*{stroke-linecap:butt;stroke-linejoin:round;}</style>\n </defs>\n <g id=\"figure_1\">\n  <g id=\"patch_1\">\n   <path d=\"M 0 263.63625 \nL 251.565 263.63625 \nL 251.565 0 \nL 0 0 \nz\n\" style=\"fill:none;\"/>\n  </g>\n  <g id=\"axes_1\">\n   <g id=\"patch_2\">\n    <path d=\"M 26.925 239.758125 \nL 244.365 239.758125 \nL 244.365 22.318125 \nL 26.925 22.318125 \nz\n\" style=\"fill:#ffffff;\"/>\n   </g>\n   <g clip-path=\"url(#pd1fab81c54)\">\n    <image height=\"218\" id=\"image56f4f48060\" transform=\"scale(1 -1)translate(0 -218)\" width=\"218\" x=\"26.925\" xlink:href=\"data:image/png;base64,\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\" y=\"-21.758125\"/>\n   </g>\n   <g id=\"matplotlib.axis_1\">\n    <g id=\"xtick_1\">\n     <g id=\"line2d_1\">\n      <defs>\n       <path d=\"M 0 0 \nL 0 3.5 \n\" id=\"m2b1c50b742\" style=\"stroke:#000000;stroke-width:0.8;\"/>\n      </defs>\n      <g>\n       <use style=\"stroke:#000000;stroke-width:0.8;\" x=\"30.807857\" xlink:href=\"#m2b1c50b742\" y=\"239.758125\"/>\n      </g>\n     </g>\n     <g id=\"text_1\">\n      <!-- 0 -->\n      <g transform=\"translate(27.626607 254.356563)scale(0.1 -0.1)\">\n       <defs>\n        <path d=\"M 31.78125 66.40625 \nQ 24.171875 66.40625 20.328125 58.90625 \nQ 16.5 51.421875 16.5 36.375 \nQ 16.5 21.390625 20.328125 13.890625 \nQ 24.171875 6.390625 31.78125 6.390625 \nQ 39.453125 6.390625 43.28125 13.890625 \nQ 47.125 21.390625 47.125 36.375 \nQ 47.125 51.421875 43.28125 58.90625 \nQ 39.453125 66.40625 31.78125 66.40625 \nz\nM 31.78125 74.21875 \nQ 44.046875 74.21875 50.515625 64.515625 \nQ 56.984375 54.828125 56.984375 36.375 \nQ 56.984375 17.96875 50.515625 8.265625 \nQ 44.046875 -1.421875 31.78125 -1.421875 \nQ 19.53125 -1.421875 13.0625 8.265625 \nQ 6.59375 17.96875 6.59375 36.375 \nQ 6.59375 54.828125 13.0625 64.515625 \nQ 19.53125 74.21875 31.78125 74.21875 \nz\n\" id=\"DejaVuSans-48\"/>\n       </defs>\n       <use xlink:href=\"#DejaVuSans-48\"/>\n      </g>\n     </g>\n    </g>\n    <g id=\"xtick_2\">\n     <g id=\"line2d_2\">\n      <g>\n       <use style=\"stroke:#000000;stroke-width:0.8;\" x=\"69.636429\" xlink:href=\"#m2b1c50b742\" y=\"239.758125\"/>\n      </g>\n     </g>\n     <g id=\"text_2\">\n      <!-- 5 -->\n      <g transform=\"translate(66.455179 254.356563)scale(0.1 -0.1)\">\n       <defs>\n        <path d=\"M 10.796875 72.90625 \nL 49.515625 72.90625 \nL 49.515625 64.59375 \nL 19.828125 64.59375 \nL 19.828125 46.734375 \nQ 21.96875 47.46875 24.109375 47.828125 \nQ 26.265625 48.1875 28.421875 48.1875 \nQ 40.625 48.1875 47.75 41.5 \nQ 54.890625 34.8125 54.890625 23.390625 \nQ 54.890625 11.625 47.5625 5.09375 \nQ 40.234375 -1.421875 26.90625 -1.421875 \nQ 22.3125 -1.421875 17.546875 -0.640625 \nQ 12.796875 0.140625 7.71875 1.703125 \nL 7.71875 11.625 \nQ 12.109375 9.234375 16.796875 8.0625 \nQ 21.484375 6.890625 26.703125 6.890625 \nQ 35.15625 6.890625 40.078125 11.328125 \nQ 45.015625 15.765625 45.015625 23.390625 \nQ 45.015625 31 40.078125 35.4375 \nQ 35.15625 39.890625 26.703125 39.890625 \nQ 22.75 39.890625 18.8125 39.015625 \nQ 14.890625 38.140625 10.796875 36.28125 \nz\n\" id=\"DejaVuSans-53\"/>\n       </defs>\n       <use xlink:href=\"#DejaVuSans-53\"/>\n      </g>\n     </g>\n    </g>\n    <g id=\"xtick_3\">\n     <g id=\"line2d_3\">\n      <g>\n       <use style=\"stroke:#000000;stroke-width:0.8;\" x=\"108.465\" xlink:href=\"#m2b1c50b742\" y=\"239.758125\"/>\n      </g>\n     </g>\n     <g id=\"text_3\">\n      <!-- 10 -->\n      <g transform=\"translate(102.1025 254.356563)scale(0.1 -0.1)\">\n       <defs>\n        <path d=\"M 12.40625 8.296875 \nL 28.515625 8.296875 \nL 28.515625 63.921875 \nL 10.984375 60.40625 \nL 10.984375 69.390625 \nL 28.421875 72.90625 \nL 38.28125 72.90625 \nL 38.28125 8.296875 \nL 54.390625 8.296875 \nL 54.390625 0 \nL 12.40625 0 \nz\n\" id=\"DejaVuSans-49\"/>\n       </defs>\n       <use xlink:href=\"#DejaVuSans-49\"/>\n       <use x=\"63.623047\" xlink:href=\"#DejaVuSans-48\"/>\n      </g>\n     </g>\n    </g>\n    <g id=\"xtick_4\">\n     <g id=\"line2d_4\">\n      <g>\n       <use style=\"stroke:#000000;stroke-width:0.8;\" x=\"147.293571\" xlink:href=\"#m2b1c50b742\" y=\"239.758125\"/>\n      </g>\n     </g>\n     <g id=\"text_4\">\n      <!-- 15 -->\n      <g transform=\"translate(140.931071 254.356563)scale(0.1 -0.1)\">\n       <use xlink:href=\"#DejaVuSans-49\"/>\n       <use x=\"63.623047\" xlink:href=\"#DejaVuSans-53\"/>\n      </g>\n     </g>\n    </g>\n    <g id=\"xtick_5\">\n     <g id=\"line2d_5\">\n      <g>\n       <use style=\"stroke:#000000;stroke-width:0.8;\" x=\"186.122143\" xlink:href=\"#m2b1c50b742\" y=\"239.758125\"/>\n      </g>\n     </g>\n     <g id=\"text_5\">\n      <!-- 20 -->\n      <g transform=\"translate(179.759643 254.356563)scale(0.1 -0.1)\">\n       <defs>\n        <path d=\"M 19.1875 8.296875 \nL 53.609375 8.296875 \nL 53.609375 0 \nL 7.328125 0 \nL 7.328125 8.296875 \nQ 12.9375 14.109375 22.625 23.890625 \nQ 32.328125 33.6875 34.8125 36.53125 \nQ 39.546875 41.84375 41.421875 45.53125 \nQ 43.3125 49.21875 43.3125 52.78125 \nQ 43.3125 58.59375 39.234375 62.25 \nQ 35.15625 65.921875 28.609375 65.921875 \nQ 23.96875 65.921875 18.8125 64.3125 \nQ 13.671875 62.703125 7.8125 59.421875 \nL 7.8125 69.390625 \nQ 13.765625 71.78125 18.9375 73 \nQ 24.125 74.21875 28.421875 74.21875 \nQ 39.75 74.21875 46.484375 68.546875 \nQ 53.21875 62.890625 53.21875 53.421875 \nQ 53.21875 48.921875 51.53125 44.890625 \nQ 49.859375 40.875 45.40625 35.40625 \nQ 44.1875 33.984375 37.640625 27.21875 \nQ 31.109375 20.453125 19.1875 8.296875 \nz\n\" id=\"DejaVuSans-50\"/>\n       </defs>\n       <use xlink:href=\"#DejaVuSans-50\"/>\n       <use x=\"63.623047\" xlink:href=\"#DejaVuSans-48\"/>\n      </g>\n     </g>\n    </g>\n    <g id=\"xtick_6\">\n     <g id=\"line2d_6\">\n      <g>\n       <use style=\"stroke:#000000;stroke-width:0.8;\" x=\"224.950714\" xlink:href=\"#m2b1c50b742\" y=\"239.758125\"/>\n      </g>\n     </g>\n     <g id=\"text_6\">\n      <!-- 25 -->\n      <g transform=\"translate(218.588214 254.356563)scale(0.1 -0.1)\">\n       <use xlink:href=\"#DejaVuSans-50\"/>\n       <use x=\"63.623047\" xlink:href=\"#DejaVuSans-53\"/>\n      </g>\n     </g>\n    </g>\n   </g>\n   <g id=\"matplotlib.axis_2\">\n    <g id=\"ytick_1\">\n     <g id=\"line2d_7\">\n      <defs>\n       <path d=\"M 0 0 \nL -3.5 0 \n\" id=\"m5a2922c040\" style=\"stroke:#000000;stroke-width:0.8;\"/>\n      </defs>\n      <g>\n       <use style=\"stroke:#000000;stroke-width:0.8;\" x=\"26.925\" xlink:href=\"#m5a2922c040\" y=\"26.200982\"/>\n      </g>\n     </g>\n     <g id=\"text_7\">\n      <!-- 0 -->\n      <g transform=\"translate(13.5625 30.000201)scale(0.1 -0.1)\">\n       <use xlink:href=\"#DejaVuSans-48\"/>\n      </g>\n     </g>\n    </g>\n    <g id=\"ytick_2\">\n     <g id=\"line2d_8\">\n      <g>\n       <use style=\"stroke:#000000;stroke-width:0.8;\" x=\"26.925\" xlink:href=\"#m5a2922c040\" y=\"65.029554\"/>\n      </g>\n     </g>\n     <g id=\"text_8\">\n      <!-- 5 -->\n      <g transform=\"translate(13.5625 68.828772)scale(0.1 -0.1)\">\n       <use xlink:href=\"#DejaVuSans-53\"/>\n      </g>\n     </g>\n    </g>\n    <g id=\"ytick_3\">\n     <g id=\"line2d_9\">\n      <g>\n       <use style=\"stroke:#000000;stroke-width:0.8;\" x=\"26.925\" xlink:href=\"#m5a2922c040\" y=\"103.858125\"/>\n      </g>\n     </g>\n     <g id=\"text_9\">\n      <!-- 10 -->\n      <g transform=\"translate(7.2 107.657344)scale(0.1 -0.1)\">\n       <use xlink:href=\"#DejaVuSans-49\"/>\n       <use x=\"63.623047\" xlink:href=\"#DejaVuSans-48\"/>\n      </g>\n     </g>\n    </g>\n    <g id=\"ytick_4\">\n     <g id=\"line2d_10\">\n      <g>\n       <use style=\"stroke:#000000;stroke-width:0.8;\" x=\"26.925\" xlink:href=\"#m5a2922c040\" y=\"142.686696\"/>\n      </g>\n     </g>\n     <g id=\"text_10\">\n      <!-- 15 -->\n      <g transform=\"translate(7.2 146.485915)scale(0.1 -0.1)\">\n       <use xlink:href=\"#DejaVuSans-49\"/>\n       <use x=\"63.623047\" xlink:href=\"#DejaVuSans-53\"/>\n      </g>\n     </g>\n    </g>\n    <g id=\"ytick_5\">\n     <g id=\"line2d_11\">\n      <g>\n       <use style=\"stroke:#000000;stroke-width:0.8;\" x=\"26.925\" xlink:href=\"#m5a2922c040\" y=\"181.515268\"/>\n      </g>\n     </g>\n     <g id=\"text_11\">\n      <!-- 20 -->\n      <g transform=\"translate(7.2 185.314487)scale(0.1 -0.1)\">\n       <use xlink:href=\"#DejaVuSans-50\"/>\n       <use x=\"63.623047\" xlink:href=\"#DejaVuSans-48\"/>\n      </g>\n     </g>\n    </g>\n    <g id=\"ytick_6\">\n     <g id=\"line2d_12\">\n      <g>\n       <use style=\"stroke:#000000;stroke-width:0.8;\" x=\"26.925\" xlink:href=\"#m5a2922c040\" y=\"220.343839\"/>\n      </g>\n     </g>\n     <g id=\"text_12\">\n      <!-- 25 -->\n      <g transform=\"translate(7.2 224.143058)scale(0.1 -0.1)\">\n       <use xlink:href=\"#DejaVuSans-50\"/>\n       <use x=\"63.623047\" xlink:href=\"#DejaVuSans-53\"/>\n      </g>\n     </g>\n    </g>\n   </g>\n   <g id=\"patch_3\">\n    <path d=\"M 26.925 239.758125 \nL 26.925 22.318125 \n\" style=\"fill:none;stroke:#000000;stroke-linecap:square;stroke-linejoin:miter;stroke-width:0.8;\"/>\n   </g>\n   <g id=\"patch_4\">\n    <path d=\"M 244.365 239.758125 \nL 244.365 22.318125 \n\" style=\"fill:none;stroke:#000000;stroke-linecap:square;stroke-linejoin:miter;stroke-width:0.8;\"/>\n   </g>\n   <g id=\"patch_5\">\n    <path d=\"M 26.925 239.758125 \nL 244.365 239.758125 \n\" style=\"fill:none;stroke:#000000;stroke-linecap:square;stroke-linejoin:miter;stroke-width:0.8;\"/>\n   </g>\n   <g id=\"patch_6\">\n    <path d=\"M 26.925 22.318125 \nL 244.365 22.318125 \n\" style=\"fill:none;stroke:#000000;stroke-linecap:square;stroke-linejoin:miter;stroke-width:0.8;\"/>\n   </g>\n   <g id=\"text_13\">\n    <!-- label : 5 -->\n    <g transform=\"translate(111.480937 16.318125)scale(0.12 -0.12)\">\n     <defs>\n      <path d=\"M 9.421875 75.984375 \nL 18.40625 75.984375 \nL 18.40625 0 \nL 9.421875 0 \nz\n\" id=\"DejaVuSans-108\"/>\n      <path d=\"M 34.28125 27.484375 \nQ 23.390625 27.484375 19.1875 25 \nQ 14.984375 22.515625 14.984375 16.5 \nQ 14.984375 11.71875 18.140625 8.90625 \nQ 21.296875 6.109375 26.703125 6.109375 \nQ 34.1875 6.109375 38.703125 11.40625 \nQ 43.21875 16.703125 43.21875 25.484375 \nL 43.21875 27.484375 \nz\nM 52.203125 31.203125 \nL 52.203125 0 \nL 43.21875 0 \nL 43.21875 8.296875 \nQ 40.140625 3.328125 35.546875 0.953125 \nQ 30.953125 -1.421875 24.3125 -1.421875 \nQ 15.921875 -1.421875 10.953125 3.296875 \nQ 6 8.015625 6 15.921875 \nQ 6 25.140625 12.171875 29.828125 \nQ 18.359375 34.515625 30.609375 34.515625 \nL 43.21875 34.515625 \nL 43.21875 35.40625 \nQ 43.21875 41.609375 39.140625 45 \nQ 35.0625 48.390625 27.6875 48.390625 \nQ 23 48.390625 18.546875 47.265625 \nQ 14.109375 46.140625 10.015625 43.890625 \nL 10.015625 52.203125 \nQ 14.9375 54.109375 19.578125 55.046875 \nQ 24.21875 56 28.609375 56 \nQ 40.484375 56 46.34375 49.84375 \nQ 52.203125 43.703125 52.203125 31.203125 \nz\n\" id=\"DejaVuSans-97\"/>\n      <path d=\"M 48.6875 27.296875 \nQ 48.6875 37.203125 44.609375 42.84375 \nQ 40.53125 48.484375 33.40625 48.484375 \nQ 26.265625 48.484375 22.1875 42.84375 \nQ 18.109375 37.203125 18.109375 27.296875 \nQ 18.109375 17.390625 22.1875 11.75 \nQ 26.265625 6.109375 33.40625 6.109375 \nQ 40.53125 6.109375 44.609375 11.75 \nQ 48.6875 17.390625 48.6875 27.296875 \nz\nM 18.109375 46.390625 \nQ 20.953125 51.265625 25.265625 53.625 \nQ 29.59375 56 35.59375 56 \nQ 45.5625 56 51.78125 48.09375 \nQ 58.015625 40.1875 58.015625 27.296875 \nQ 58.015625 14.40625 51.78125 6.484375 \nQ 45.5625 -1.421875 35.59375 -1.421875 \nQ 29.59375 -1.421875 25.265625 0.953125 \nQ 20.953125 3.328125 18.109375 8.203125 \nL 18.109375 0 \nL 9.078125 0 \nL 9.078125 75.984375 \nL 18.109375 75.984375 \nz\n\" id=\"DejaVuSans-98\"/>\n      <path d=\"M 56.203125 29.59375 \nL 56.203125 25.203125 \nL 14.890625 25.203125 \nQ 15.484375 15.921875 20.484375 11.0625 \nQ 25.484375 6.203125 34.421875 6.203125 \nQ 39.59375 6.203125 44.453125 7.46875 \nQ 49.3125 8.734375 54.109375 11.28125 \nL 54.109375 2.78125 \nQ 49.265625 0.734375 44.1875 -0.34375 \nQ 39.109375 -1.421875 33.890625 -1.421875 \nQ 20.796875 -1.421875 13.15625 6.1875 \nQ 5.515625 13.8125 5.515625 26.8125 \nQ 5.515625 40.234375 12.765625 48.109375 \nQ 20.015625 56 32.328125 56 \nQ 43.359375 56 49.78125 48.890625 \nQ 56.203125 41.796875 56.203125 29.59375 \nz\nM 47.21875 32.234375 \nQ 47.125 39.59375 43.09375 43.984375 \nQ 39.0625 48.390625 32.421875 48.390625 \nQ 24.90625 48.390625 20.390625 44.140625 \nQ 15.875 39.890625 15.1875 32.171875 \nz\n\" id=\"DejaVuSans-101\"/>\n      <path id=\"DejaVuSans-32\"/>\n      <path d=\"M 11.71875 12.40625 \nL 22.015625 12.40625 \nL 22.015625 0 \nL 11.71875 0 \nz\nM 11.71875 51.703125 \nL 22.015625 51.703125 \nL 22.015625 39.3125 \nL 11.71875 39.3125 \nz\n\" id=\"DejaVuSans-58\"/>\n     </defs>\n     <use xlink:href=\"#DejaVuSans-108\"/>\n     <use x=\"27.783203\" xlink:href=\"#DejaVuSans-97\"/>\n     <use x=\"89.0625\" xlink:href=\"#DejaVuSans-98\"/>\n     <use x=\"152.539062\" xlink:href=\"#DejaVuSans-101\"/>\n     <use x=\"214.0625\" xlink:href=\"#DejaVuSans-108\"/>\n     <use x=\"241.845703\" xlink:href=\"#DejaVuSans-32\"/>\n     <use x=\"273.632812\" xlink:href=\"#DejaVuSans-58\"/>\n     <use x=\"307.324219\" xlink:href=\"#DejaVuSans-32\"/>\n     <use x=\"339.111328\" xlink:href=\"#DejaVuSans-53\"/>\n    </g>\n   </g>\n  </g>\n </g>\n <defs>\n  <clipPath id=\"pd1fab81c54\">\n   <rect height=\"217.44\" width=\"217.44\" x=\"26.925\" y=\"22.318125\"/>\n  </clipPath>\n </defs>\n</svg>\n",
      "image/png": "[encoded data removed]"
     },
     "metadata": {
      "needs_background": "light"
     }
    },
    {
     "output_type": "stream",
     "name": "stdout",
     "text": [
      "[[-105.35 -105.35 -105.35 -105.35 -105.35 -105.35 -105.35 -105.35 -105.35\n  -105.35 -105.35 -105.35 -105.35 -105.35 -105.35 -105.35 -105.35 -105.35\n  -105.35 -105.35 -105.35 -105.35 -105.35 -105.35 -105.35 -105.35 -105.35\n  -105.35]\n [-105.35 -105.35 -105.35 -105.35 -105.35 -105.35 -105.35 -105.35 -105.35\n  -105.35 -105.35 -105.35 -105.35 -105.35 -105.35 -105.35 -105.35 -105.35\n  -105.35 -105.35 -105.35 -105.35 -105.35 -105.35 -105.35 -105.35 -105.35\n  -105.35]\n [-105.35 -105.35 -105.35 -105.35 -105.35 -105.35 -105.35 -105.35 -105.35\n  -105.35 -105.35 -105.35 -105.35 -105.35 -105.35 -105.35 -105.35 -105.35\n  -105.35 -105.35 -105.35 -105.35 -105.35 -105.35 -105.35 -105.35 -105.35\n  -105.35]\n [-105.35 -105.35 -105.35 -105.35 -105.35 -105.35 -105.35 -105.35 -105.35\n  -105.35 -105.35 -105.35 -105.35 -105.35 -105.35 -105.35 -105.35 -105.35\n  -105.35 -105.35 -105.35 -105.35 -105.35 -105.35 -105.35 -105.35 -105.35\n  -105.35]\n [-105.35 -105.35 -105.35 -105.35 -105.35 -105.35 -105.35 -105.35 -105.35\n  -105.35 -105.35 -105.35 -105.35 -105.35 -105.35 -105.35 -105.35 -105.35\n  -105.35 -105.35 -105.35 -105.35 -105.35 -105.35 -105.35 -105.35 -105.35\n  -105.35]\n [-105.35 -105.35 -105.35 -105.35 -105.35 -105.35 -105.35 -105.35 -105.35\n  -105.35 -105.35 -105.35 -102.35  -87.35  -87.35  -87.35   20.65   30.65\n    69.65  -79.35   60.65  149.65  141.65   21.65 -105.35 -105.35 -105.35\n  -105.35]\n [-105.35 -105.35 -105.35 -105.35 -105.35 -105.35 -105.35 -105.35  -75.35\n   -69.35  -11.35   48.65   64.65  147.65  147.65  147.65  147.65  147.65\n   119.65   66.65  147.65  136.65   89.65  -41.35 -105.35 -105.35 -105.35\n  -105.35]\n [-105.35 -105.35 -105.35 -105.35 -105.35 -105.35 -105.35  -56.35  132.65\n   147.65  147.65  147.65  147.65  147.65  147.65  147.65  147.65  145.65\n   -12.35  -23.35  -23.35  -49.35  -66.35 -105.35 -105.35 -105.35 -105.35\n  -105.35]\n [-105.35 -105.35 -105.35 -105.35 -105.35 -105.35 -105.35  -87.35  113.65\n   147.65  147.65  147.65  147.65  147.65   92.65   76.65  141.65  135.65\n  -105.35 -105.35 -105.35 -105.35 -105.35 -105.35 -105.35 -105.35 -105.35\n  -105.35]\n [-105.35 -105.35 -105.35 -105.35 -105.35 -105.35 -105.35 -105.35  -25.35\n    50.65    1.65  147.65  147.65   99.65  -94.35 -105.35  -62.35   48.65\n  -105.35 -105.35 -105.35 -105.35 -105.35 -105.35 -105.35 -105.35 -105.35\n  -105.35]\n [-105.35 -105.35 -105.35 -105.35 -105.35 -105.35 -105.35 -105.35 -105.35\n   -91.35 -104.35   48.65  147.65  -15.35 -105.35 -105.35 -105.35 -105.35\n  -105.35 -105.35 -105.35 -105.35 -105.35 -105.35 -105.35 -105.35 -105.35\n  -105.35]\n [-105.35 -105.35 -105.35 -105.35 -105.35 -105.35 -105.35 -105.35 -105.35\n  -105.35 -105.35   33.65  147.65   84.65 -103.35 -105.35 -105.35 -105.35\n  -105.35 -105.35 -105.35 -105.35 -105.35 -105.35 -105.35 -105.35 -105.35\n  -105.35]\n [-105.35 -105.35 -105.35 -105.35 -105.35 -105.35 -105.35 -105.35 -105.35\n  -105.35 -105.35  -94.35   84.65  147.65  -35.35 -105.35 -105.35 -105.35\n  -105.35 -105.35 -105.35 -105.35 -105.35 -105.35 -105.35 -105.35 -105.35\n  -105.35]\n [-105.35 -105.35 -105.35 -105.35 -105.35 -105.35 -105.35 -105.35 -105.35\n  -105.35 -105.35 -105.35  -70.35  135.65  119.65   54.65    2.65 -104.35\n  -105.35 -105.35 -105.35 -105.35 -105.35 -105.35 -105.35 -105.35 -105.35\n  -105.35]\n [-105.35 -105.35 -105.35 -105.35 -105.35 -105.35 -105.35 -105.35 -105.35\n  -105.35 -105.35 -105.35 -105.35  -24.35  134.65  147.65  147.65   13.65\n   -80.35 -105.35 -105.35 -105.35 -105.35 -105.35 -105.35 -105.35 -105.35\n  -105.35]\n [-105.35 -105.35 -105.35 -105.35 -105.35 -105.35 -105.35 -105.35 -105.35\n  -105.35 -105.35 -105.35 -105.35 -105.35  -60.35   80.65  147.65  147.65\n    44.65  -78.35 -105.35 -105.35 -105.35 -105.35 -105.35 -105.35 -105.35\n  -105.35]\n [-105.35 -105.35 -105.35 -105.35 -105.35 -105.35 -105.35 -105.35 -105.35\n  -105.35 -105.35 -105.35 -105.35 -105.35 -105.35  -89.35  -12.35  146.65\n   147.65   81.65 -105.35 -105.35 -105.35 -105.35 -105.35 -105.35 -105.35\n  -105.35]\n [-105.35 -105.35 -105.35 -105.35 -105.35 -105.35 -105.35 -105.35 -105.35\n  -105.35 -105.35 -105.35 -105.35 -105.35 -105.35 -105.35 -105.35  143.65\n   147.65  143.65  -41.35 -105.35 -105.35 -105.35 -105.35 -105.35 -105.35\n  -105.35]\n [-105.35 -105.35 -105.35 -105.35 -105.35 -105.35 -105.35 -105.35 -105.35\n  -105.35 -105.35 -105.35 -105.35 -105.35  -59.35   24.65   77.65  147.65\n   147.65  101.65 -103.35 -105.35 -105.35 -105.35 -105.35 -105.35 -105.35\n  -105.35]\n [-105.35 -105.35 -105.35 -105.35 -105.35 -105.35 -105.35 -105.35 -105.35\n  -105.35 -105.35 -105.35  -66.35   42.65  123.65  147.65  147.65  147.65\n   144.65   76.65 -105.35 -105.35 -105.35 -105.35 -105.35 -105.35 -105.35\n  -105.35]\n [-105.35 -105.35 -105.35 -105.35 -105.35 -105.35 -105.35 -105.35 -105.35\n  -105.35  -81.35    8.65  115.65  147.65  147.65  147.65  147.65   95.65\n   -27.35 -105.35 -105.35 -105.35 -105.35 -105.35 -105.35 -105.35 -105.35\n  -105.35]\n [-105.35 -105.35 -105.35 -105.35 -105.35 -105.35 -105.35 -105.35  -82.35\n   -39.35  107.65  147.65  147.65  147.65  147.65   92.65  -24.35 -103.35\n  -105.35 -105.35 -105.35 -105.35 -105.35 -105.35 -105.35 -105.35 -105.35\n  -105.35]\n [-105.35 -105.35 -105.35 -105.35 -105.35 -105.35  -87.35   65.65  113.65\n   147.65  147.65  147.65  147.65   89.65  -25.35  -96.35 -105.35 -105.35\n  -105.35 -105.35 -105.35 -105.35 -105.35 -105.35 -105.35 -105.35 -105.35\n  -105.35]\n [-105.35 -105.35 -105.35 -105.35  -50.35   66.65  120.65  147.65  147.65\n   147.65  147.65  138.65   27.65  -94.35 -105.35 -105.35 -105.35 -105.35\n  -105.35 -105.35 -105.35 -105.35 -105.35 -105.35 -105.35 -105.35 -105.35\n  -105.35]\n [-105.35 -105.35 -105.35 -105.35   30.65  147.65  147.65  147.65  106.65\n    29.65   26.65  -89.35 -105.35 -105.35 -105.35 -105.35 -105.35 -105.35\n  -105.35 -105.35 -105.35 -105.35 -105.35 -105.35 -105.35 -105.35 -105.35\n  -105.35]\n [-105.35 -105.35 -105.35 -105.35 -105.35 -105.35 -105.35 -105.35 -105.35\n  -105.35 -105.35 -105.35 -105.35 -105.35 -105.35 -105.35 -105.35 -105.35\n  -105.35 -105.35 -105.35 -105.35 -105.35 -105.35 -105.35 -105.35 -105.35\n  -105.35]\n [-105.35 -105.35 -105.35 -105.35 -105.35 -105.35 -105.35 -105.35 -105.35\n  -105.35 -105.35 -105.35 -105.35 -105.35 -105.35 -105.35 -105.35 -105.35\n  -105.35 -105.35 -105.35 -105.35 -105.35 -105.35 -105.35 -105.35 -105.35\n  -105.35]\n [-105.35 -105.35 -105.35 -105.35 -105.35 -105.35 -105.35 -105.35 -105.35\n  -105.35 -105.35 -105.35 -105.35 -105.35 -105.35 -105.35 -105.35 -105.35\n  -105.35 -105.35 -105.35 -105.35 -105.35 -105.35 -105.35 -105.35 -105.35\n  -105.35]]\n"
     ]
    }
   ],
   "source": [
    "index = 0\n",
    "image = X_train[index].reshape(28,28)\n",
    "image = image.astype(np.float) # float型に変換\n",
    "image -= 105.35 # 意図的に負の小数値を作り出してみる\n",
    "plt.imshow(image, 'gray')\n",
    "plt.title('label : {}'.format(y_train[index]))\n",
    "plt.show()\n",
    "print(image) # 値を確認"
   ]
  },
  {
   "source": [
    "これは、自動的に値を0〜255の整数に変換して処理するように作られているからです。uint8型であっても最小値が0、最大値が255でない場合には色合いがおかしくなります。それを防ぐためには次のように引数を入れてください。"
   ],
   "cell_type": "markdown",
   "metadata": {}
  },
  {
   "cell_type": "code",
   "execution_count": 286,
   "metadata": {},
   "outputs": [
    {
     "output_type": "execute_result",
     "data": {
      "text/plain": [
       "<matplotlib.image.AxesImage at 0x7fd7f2a742e0>"
      ]
     },
     "metadata": {},
     "execution_count": 286
    },
    {
     "output_type": "display_data",
     "data": {
      "text/plain": "<Figure size 432x288 with 1 Axes>",
      "image/svg+xml": "<?xml version=\"1.0\" encoding=\"utf-8\" standalone=\"no\"?>\n<!DOCTYPE svg PUBLIC \"-//W3C//DTD SVG 1.1//EN\"\n  \"http://www.w3.org/Graphics/SVG/1.1/DTD/svg11.dtd\">\n<!-- Created with matplotlib (https://matplotlib.org/) -->\n<svg height=\"248.518125pt\" version=\"1.1\" viewBox=\"0 0 251.565 248.518125\" width=\"251.565pt\" xmlns=\"http://www.w3.org/2000/svg\" xmlns:xlink=\"http://www.w3.org/1999/xlink\">\n <metadata>\n  <rdf:RDF xmlns:cc=\"http://creativecommons.org/ns#\" xmlns:dc=\"http://purl.org/dc/elements/1.1/\" xmlns:rdf=\"http://www.w3.org/1999/02/22-rdf-syntax-ns#\">\n   <cc:Work>\n    <dc:type rdf:resource=\"http://purl.org/dc/dcmitype/StillImage\"/>\n    <dc:date>2021-03-06T14:15:11.142403</dc:date>\n    <dc:format>image/svg+xml</dc:format>\n    <dc:creator>\n     <cc:Agent>\n      <dc:title>Matplotlib v3.3.4, https://matplotlib.org/</dc:title>\n     </cc:Agent>\n    </dc:creator>\n   </cc:Work>\n  </rdf:RDF>\n </metadata>\n <defs>\n  <style type=\"text/css\">*{stroke-linecap:butt;stroke-linejoin:round;}</style>\n </defs>\n <g id=\"figure_1\">\n  <g id=\"patch_1\">\n   <path d=\"M 0 248.518125 \nL 251.565 248.518125 \nL 251.565 0 \nL 0 0 \nz\n\" style=\"fill:none;\"/>\n  </g>\n  <g id=\"axes_1\">\n   <g id=\"patch_2\">\n    <path d=\"M 26.925 224.64 \nL 244.365 224.64 \nL 244.365 7.2 \nL 26.925 7.2 \nz\n\" style=\"fill:#ffffff;\"/>\n   </g>\n   <g clip-path=\"url(#pf34f3d53b7)\">\n    <image height=\"218\" id=\"image4b9d554418\" transform=\"scale(1 -1)translate(0 -218)\" width=\"218\" x=\"26.925\" xlink:href=\"data:image/png;base64,\niVBORw0KGgoAAAANSUhEUgAAANoAAADaCAYAAADAHVzbAAAFLElEQVR4nO3dsWqTbRzG4agdRDs4CEoGLVkKTkVQHARRwVlqpx5DF4eCeAJ1FDfBQXDo4qRuBaGLYFBUEPEEIoJDBaEUwer0DSL552t8c6cm17XevOkz+POBvrQ90Gq1fraAkTo47gPANBAaBAgNAoQGAUKDAKFBgNAgQGgQIDQIEBoECA0ChAYBQoMAoUGA0CBAaBAgNAgQGgQIDQKEBgFCgwChQcDMOL/4qVOnyn11dXVkX/vjx4/l/uTJk3L/8eNHuX/69GnPZ2JyudEgQGgQIDQIEBoECA0ChAYBQoOAA619/GebLl++XO4XLlzou7Xb7aaPsyc7Ozt9t7t375bP9nq9hk/DuLnRIEBoECA0CBAaBAgNAoQGAUKDgH39Hu1vDHoHt7CwUO6dTqfB0+zNixcvyn19fT10EpriRoMAoUGA0CBAaBAgNAgQGgQIDQIm9j3aqK2srJT7/Px86CR/6na75f7o0aPQSfiPGw0ChAYBQoMAoUGA0CBAaBAgNAjwHm1EDh8+3Hcb9A7u9OnTTR/nf3v9+nW5P3z4MHOQCeNGgwChQYDQIEBoECA0CBAaBPj2/j505syZcl9cXCz3EydONHmc3+zu7pb7xsZGuT979qzJ4/wz3GgQIDQIEBoECA0ChAYBQoMAoUHAzLgPwJ8+fPjwV/vJkyfL/dy5c323a9eulc8ePFj/39xut8t9WrnRIEBoECA0CBAaBAgNAoQGAUKDAO/RJtDnz5/L/enTp323q1evls8eOnSo3Af9LN20cqNBgNAgQGgQIDQIEBoECA0ChAYB3qPxm0HvyQbZ3Nxs6CSTxY0GAUKDAKFBgNAgQGgQIDQI8O39CXT9+vVyH/SjMJX79++X+/v374f+7EnmRoMAoUGA0CBAaBAgNAgQGgQIDQK8R/sHra2tlfvs7OzQn3379u1y//bt29CfPc3caBAgNAgQGgQIDQKEBgFCgwChQcCBVqv1c9yH4Hd37twp969fv5b78+fPy/3Vq1d9t93d3fJZhuNGgwChQYDQIEBoECA0CBAaBAgNAvw82hgsLS2V+9GjR8v91q1bTR6HADcaBAgNAoQGAUKDAKFBgNAgQGgQ4D3aiMzNzfXdLl26VD67ubnZ8GkYNzcaBAgNAoQGAUKDAKFBgNAgwLf3R+TYsWNDP/v48ePmDsK+4EaDAKFBgNAgQGgQIDQIEBoECA0C/NmmPs6ePVvub968Kfd79+4N/bXfvXtX7g8ePBj6swdZWFgo97dv347sa08yNxoECA0ChAYBQoMAoUGA0CBAaBAwte/Rbt68We6dTid0kr3rdrvlvrW1Ve5Xrlzpu33//r181p+MGo4bDQKEBgFCgwChQYDQIEBoECA0CJja3+t4/PjxcR9haOfPnx/ZZ8/MTO0/iZFyo0GA0CBAaBAgNAgQGgQIDQKEBgFT+/Noo1b9fsRBfzvtxo0bzR6mQb1er9xfvnxZ7ouLi3237e3t8tlBv1NyfX293MfJjQYBQoMAoUGA0CBAaBAgNAjw7f0pVP2I0JEjR8pn5+fny31jY6PcL1682HdbXl4un93Z2Sn3tbW1cv/y5Uu5j5IbDQKEBgFCgwChQYDQIEBoECA0CPAeDQLcaBAgNAgQGgQIDQKEBgFCgwChQYDQIEBoECA0CBAaBAgNAoQGAUKDAKFBgNAgQGgQIDQIEBoECA0ChAYBQoMAoUGA0CBAaBAgNAgQGgQIDQKEBgFCgwChQYDQIEBoECA0CBAaBAgNAoQGAUKDgF9W0qEywcStJwAAAABJRU5ErkJggg==\" y=\"-6.64\"/>\n   </g>\n   <g id=\"matplotlib.axis_1\">\n    <g id=\"xtick_1\">\n     <g id=\"line2d_1\">\n      <defs>\n       <path d=\"M 0 0 \nL 0 3.5 \n\" id=\"mabf424cfb3\" style=\"stroke:#000000;stroke-width:0.8;\"/>\n      </defs>\n      <g>\n       <use style=\"stroke:#000000;stroke-width:0.8;\" x=\"30.807857\" xlink:href=\"#mabf424cfb3\" y=\"224.64\"/>\n      </g>\n     </g>\n     <g id=\"text_1\">\n      <!-- 0 -->\n      <g transform=\"translate(27.626607 239.238437)scale(0.1 -0.1)\">\n       <defs>\n        <path d=\"M 31.78125 66.40625 \nQ 24.171875 66.40625 20.328125 58.90625 \nQ 16.5 51.421875 16.5 36.375 \nQ 16.5 21.390625 20.328125 13.890625 \nQ 24.171875 6.390625 31.78125 6.390625 \nQ 39.453125 6.390625 43.28125 13.890625 \nQ 47.125 21.390625 47.125 36.375 \nQ 47.125 51.421875 43.28125 58.90625 \nQ 39.453125 66.40625 31.78125 66.40625 \nz\nM 31.78125 74.21875 \nQ 44.046875 74.21875 50.515625 64.515625 \nQ 56.984375 54.828125 56.984375 36.375 \nQ 56.984375 17.96875 50.515625 8.265625 \nQ 44.046875 -1.421875 31.78125 -1.421875 \nQ 19.53125 -1.421875 13.0625 8.265625 \nQ 6.59375 17.96875 6.59375 36.375 \nQ 6.59375 54.828125 13.0625 64.515625 \nQ 19.53125 74.21875 31.78125 74.21875 \nz\n\" id=\"DejaVuSans-48\"/>\n       </defs>\n       <use xlink:href=\"#DejaVuSans-48\"/>\n      </g>\n     </g>\n    </g>\n    <g id=\"xtick_2\">\n     <g id=\"line2d_2\">\n      <g>\n       <use style=\"stroke:#000000;stroke-width:0.8;\" x=\"69.636429\" xlink:href=\"#mabf424cfb3\" y=\"224.64\"/>\n      </g>\n     </g>\n     <g id=\"text_2\">\n      <!-- 5 -->\n      <g transform=\"translate(66.455179 239.238437)scale(0.1 -0.1)\">\n       <defs>\n        <path d=\"M 10.796875 72.90625 \nL 49.515625 72.90625 \nL 49.515625 64.59375 \nL 19.828125 64.59375 \nL 19.828125 46.734375 \nQ 21.96875 47.46875 24.109375 47.828125 \nQ 26.265625 48.1875 28.421875 48.1875 \nQ 40.625 48.1875 47.75 41.5 \nQ 54.890625 34.8125 54.890625 23.390625 \nQ 54.890625 11.625 47.5625 5.09375 \nQ 40.234375 -1.421875 26.90625 -1.421875 \nQ 22.3125 -1.421875 17.546875 -0.640625 \nQ 12.796875 0.140625 7.71875 1.703125 \nL 7.71875 11.625 \nQ 12.109375 9.234375 16.796875 8.0625 \nQ 21.484375 6.890625 26.703125 6.890625 \nQ 35.15625 6.890625 40.078125 11.328125 \nQ 45.015625 15.765625 45.015625 23.390625 \nQ 45.015625 31 40.078125 35.4375 \nQ 35.15625 39.890625 26.703125 39.890625 \nQ 22.75 39.890625 18.8125 39.015625 \nQ 14.890625 38.140625 10.796875 36.28125 \nz\n\" id=\"DejaVuSans-53\"/>\n       </defs>\n       <use xlink:href=\"#DejaVuSans-53\"/>\n      </g>\n     </g>\n    </g>\n    <g id=\"xtick_3\">\n     <g id=\"line2d_3\">\n      <g>\n       <use style=\"stroke:#000000;stroke-width:0.8;\" x=\"108.465\" xlink:href=\"#mabf424cfb3\" y=\"224.64\"/>\n      </g>\n     </g>\n     <g id=\"text_3\">\n      <!-- 10 -->\n      <g transform=\"translate(102.1025 239.238437)scale(0.1 -0.1)\">\n       <defs>\n        <path d=\"M 12.40625 8.296875 \nL 28.515625 8.296875 \nL 28.515625 63.921875 \nL 10.984375 60.40625 \nL 10.984375 69.390625 \nL 28.421875 72.90625 \nL 38.28125 72.90625 \nL 38.28125 8.296875 \nL 54.390625 8.296875 \nL 54.390625 0 \nL 12.40625 0 \nz\n\" id=\"DejaVuSans-49\"/>\n       </defs>\n       <use xlink:href=\"#DejaVuSans-49\"/>\n       <use x=\"63.623047\" xlink:href=\"#DejaVuSans-48\"/>\n      </g>\n     </g>\n    </g>\n    <g id=\"xtick_4\">\n     <g id=\"line2d_4\">\n      <g>\n       <use style=\"stroke:#000000;stroke-width:0.8;\" x=\"147.293571\" xlink:href=\"#mabf424cfb3\" y=\"224.64\"/>\n      </g>\n     </g>\n     <g id=\"text_4\">\n      <!-- 15 -->\n      <g transform=\"translate(140.931071 239.238437)scale(0.1 -0.1)\">\n       <use xlink:href=\"#DejaVuSans-49\"/>\n       <use x=\"63.623047\" xlink:href=\"#DejaVuSans-53\"/>\n      </g>\n     </g>\n    </g>\n    <g id=\"xtick_5\">\n     <g id=\"line2d_5\">\n      <g>\n       <use style=\"stroke:#000000;stroke-width:0.8;\" x=\"186.122143\" xlink:href=\"#mabf424cfb3\" y=\"224.64\"/>\n      </g>\n     </g>\n     <g id=\"text_5\">\n      <!-- 20 -->\n      <g transform=\"translate(179.759643 239.238437)scale(0.1 -0.1)\">\n       <defs>\n        <path d=\"M 19.1875 8.296875 \nL 53.609375 8.296875 \nL 53.609375 0 \nL 7.328125 0 \nL 7.328125 8.296875 \nQ 12.9375 14.109375 22.625 23.890625 \nQ 32.328125 33.6875 34.8125 36.53125 \nQ 39.546875 41.84375 41.421875 45.53125 \nQ 43.3125 49.21875 43.3125 52.78125 \nQ 43.3125 58.59375 39.234375 62.25 \nQ 35.15625 65.921875 28.609375 65.921875 \nQ 23.96875 65.921875 18.8125 64.3125 \nQ 13.671875 62.703125 7.8125 59.421875 \nL 7.8125 69.390625 \nQ 13.765625 71.78125 18.9375 73 \nQ 24.125 74.21875 28.421875 74.21875 \nQ 39.75 74.21875 46.484375 68.546875 \nQ 53.21875 62.890625 53.21875 53.421875 \nQ 53.21875 48.921875 51.53125 44.890625 \nQ 49.859375 40.875 45.40625 35.40625 \nQ 44.1875 33.984375 37.640625 27.21875 \nQ 31.109375 20.453125 19.1875 8.296875 \nz\n\" id=\"DejaVuSans-50\"/>\n       </defs>\n       <use xlink:href=\"#DejaVuSans-50\"/>\n       <use x=\"63.623047\" xlink:href=\"#DejaVuSans-48\"/>\n      </g>\n     </g>\n    </g>\n    <g id=\"xtick_6\">\n     <g id=\"line2d_6\">\n      <g>\n       <use style=\"stroke:#000000;stroke-width:0.8;\" x=\"224.950714\" xlink:href=\"#mabf424cfb3\" y=\"224.64\"/>\n      </g>\n     </g>\n     <g id=\"text_6\">\n      <!-- 25 -->\n      <g transform=\"translate(218.588214 239.238437)scale(0.1 -0.1)\">\n       <use xlink:href=\"#DejaVuSans-50\"/>\n       <use x=\"63.623047\" xlink:href=\"#DejaVuSans-53\"/>\n      </g>\n     </g>\n    </g>\n   </g>\n   <g id=\"matplotlib.axis_2\">\n    <g id=\"ytick_1\">\n     <g id=\"line2d_7\">\n      <defs>\n       <path d=\"M 0 0 \nL -3.5 0 \n\" id=\"m74ad91742d\" style=\"stroke:#000000;stroke-width:0.8;\"/>\n      </defs>\n      <g>\n       <use style=\"stroke:#000000;stroke-width:0.8;\" x=\"26.925\" xlink:href=\"#m74ad91742d\" y=\"11.082857\"/>\n      </g>\n     </g>\n     <g id=\"text_7\">\n      <!-- 0 -->\n      <g transform=\"translate(13.5625 14.882076)scale(0.1 -0.1)\">\n       <use xlink:href=\"#DejaVuSans-48\"/>\n      </g>\n     </g>\n    </g>\n    <g id=\"ytick_2\">\n     <g id=\"line2d_8\">\n      <g>\n       <use style=\"stroke:#000000;stroke-width:0.8;\" x=\"26.925\" xlink:href=\"#m74ad91742d\" y=\"49.911429\"/>\n      </g>\n     </g>\n     <g id=\"text_8\">\n      <!-- 5 -->\n      <g transform=\"translate(13.5625 53.710647)scale(0.1 -0.1)\">\n       <use xlink:href=\"#DejaVuSans-53\"/>\n      </g>\n     </g>\n    </g>\n    <g id=\"ytick_3\">\n     <g id=\"line2d_9\">\n      <g>\n       <use style=\"stroke:#000000;stroke-width:0.8;\" x=\"26.925\" xlink:href=\"#m74ad91742d\" y=\"88.74\"/>\n      </g>\n     </g>\n     <g id=\"text_9\">\n      <!-- 10 -->\n      <g transform=\"translate(7.2 92.539219)scale(0.1 -0.1)\">\n       <use xlink:href=\"#DejaVuSans-49\"/>\n       <use x=\"63.623047\" xlink:href=\"#DejaVuSans-48\"/>\n      </g>\n     </g>\n    </g>\n    <g id=\"ytick_4\">\n     <g id=\"line2d_10\">\n      <g>\n       <use style=\"stroke:#000000;stroke-width:0.8;\" x=\"26.925\" xlink:href=\"#m74ad91742d\" y=\"127.568571\"/>\n      </g>\n     </g>\n     <g id=\"text_10\">\n      <!-- 15 -->\n      <g transform=\"translate(7.2 131.36779)scale(0.1 -0.1)\">\n       <use xlink:href=\"#DejaVuSans-49\"/>\n       <use x=\"63.623047\" xlink:href=\"#DejaVuSans-53\"/>\n      </g>\n     </g>\n    </g>\n    <g id=\"ytick_5\">\n     <g id=\"line2d_11\">\n      <g>\n       <use style=\"stroke:#000000;stroke-width:0.8;\" x=\"26.925\" xlink:href=\"#m74ad91742d\" y=\"166.397143\"/>\n      </g>\n     </g>\n     <g id=\"text_11\">\n      <!-- 20 -->\n      <g transform=\"translate(7.2 170.196362)scale(0.1 -0.1)\">\n       <use xlink:href=\"#DejaVuSans-50\"/>\n       <use x=\"63.623047\" xlink:href=\"#DejaVuSans-48\"/>\n      </g>\n     </g>\n    </g>\n    <g id=\"ytick_6\">\n     <g id=\"line2d_12\">\n      <g>\n       <use style=\"stroke:#000000;stroke-width:0.8;\" x=\"26.925\" xlink:href=\"#m74ad91742d\" y=\"205.225714\"/>\n      </g>\n     </g>\n     <g id=\"text_12\">\n      <!-- 25 -->\n      <g transform=\"translate(7.2 209.024933)scale(0.1 -0.1)\">\n       <use xlink:href=\"#DejaVuSans-50\"/>\n       <use x=\"63.623047\" xlink:href=\"#DejaVuSans-53\"/>\n      </g>\n     </g>\n    </g>\n   </g>\n   <g id=\"patch_3\">\n    <path d=\"M 26.925 224.64 \nL 26.925 7.2 \n\" style=\"fill:none;stroke:#000000;stroke-linecap:square;stroke-linejoin:miter;stroke-width:0.8;\"/>\n   </g>\n   <g id=\"patch_4\">\n    <path d=\"M 244.365 224.64 \nL 244.365 7.2 \n\" style=\"fill:none;stroke:#000000;stroke-linecap:square;stroke-linejoin:miter;stroke-width:0.8;\"/>\n   </g>\n   <g id=\"patch_5\">\n    <path d=\"M 26.925 224.64 \nL 244.365 224.64 \n\" style=\"fill:none;stroke:#000000;stroke-linecap:square;stroke-linejoin:miter;stroke-width:0.8;\"/>\n   </g>\n   <g id=\"patch_6\">\n    <path d=\"M 26.925 7.2 \nL 244.365 7.2 \n\" style=\"fill:none;stroke:#000000;stroke-linecap:square;stroke-linejoin:miter;stroke-width:0.8;\"/>\n   </g>\n  </g>\n </g>\n <defs>\n  <clipPath id=\"pf34f3d53b7\">\n   <rect height=\"217.44\" width=\"217.44\" x=\"26.925\" y=\"7.2\"/>\n  </clipPath>\n </defs>\n</svg>\n",
      "image/png": "[encoded data removed]"
     },
     "metadata": {
      "needs_background": "light"
     }
    }
   ],
   "source": [
    "plt.imshow(image, 'gray', vmin = 0, vmax = 255)"
   ]
  },
  {
   "source": [
    "画像関係のライブラリではこの自動的なスケーリングが思わぬ結果を生むことがあるので、新しいメソッドを使うときには確認しておきましょう。\n",
    "\n",
    "### 前処理\n",
    "画像は0から255のuint8型で表されますが、機械学習をする上では0から1のfloat型で扱うことになります。以下のコードで変換可能です。\n",
    "\n",
    "《サンプルコード》"
   ],
   "cell_type": "markdown",
   "metadata": {}
  },
  {
   "cell_type": "code",
   "execution_count": 287,
   "metadata": {},
   "outputs": [
    {
     "output_type": "stream",
     "name": "stdout",
     "text": [
      "1.0\n0.0\n"
     ]
    }
   ],
   "source": [
    "X_train = X_train.astype(np.float)\n",
    "X_test = X_test.astype(np.float)\n",
    "X_train /= 255\n",
    "X_test /= 255\n",
    "print(X_train.max()) # 1.0\n",
    "print(X_train.min()) # 0.0"
   ]
  },
  {
   "source": [
    "また、正解ラベルは0から9の整数ですが、ニューラルネットワークで多クラス分類を行う際には one-hot表現 に変換します。scikit-learnのOneHotEncoderを使用したコードが以下です。このone-hot表現による値はそのラベルである確率を示していることになるため、float型で扱います。\n",
    "\n",
    "《サンプルコード》\n"
   ],
   "cell_type": "markdown",
   "metadata": {}
  },
  {
   "cell_type": "code",
   "execution_count": 288,
   "metadata": {},
   "outputs": [
    {
     "output_type": "stream",
     "name": "stdout",
     "text": [
      "(60000,)\n(60000, 10)\nfloat64\n"
     ]
    }
   ],
   "source": [
    "from sklearn.preprocessing import OneHotEncoder\n",
    "enc = OneHotEncoder(handle_unknown='ignore', sparse=False)\n",
    "y_train_one_hot = enc.fit_transform(y_train[:, np.newaxis])\n",
    "y_test_one_hot = enc.transform(y_test[:, np.newaxis])\n",
    "print(y_train.shape) # (60000,)\n",
    "print(y_train_one_hot.shape) # (60000, 10)\n",
    "print(y_train_one_hot.dtype) # float64"
   ]
  },
  {
   "source": [
    "[sklearn.preprocessing.OneHotEncoder — scikit-learn 0.21.3 documentation](https://scikit-learn.org/stable/modules/generated/sklearn.preprocessing.OneHotEncoder.html)  \n",
    "さらに、訓練データ6万枚の内2割を検証データとして分割してください。訓練データが48000枚、検証データが12000枚となります。\n",
    "\n",
    "《サンプルコード》"
   ],
   "cell_type": "markdown",
   "metadata": {}
  },
  {
   "cell_type": "code",
   "execution_count": 289,
   "metadata": {},
   "outputs": [
    {
     "output_type": "stream",
     "name": "stdout",
     "text": [
      "(48000, 784)\n(12000, 784)\n"
     ]
    }
   ],
   "source": [
    "from sklearn.model_selection import train_test_split\n",
    "X_train, X_val, y_train, y_val = train_test_split(X_train, y_train, test_size=0.2)\n",
    "print(X_train.shape) # (48000, 784)\n",
    "print(X_val.shape) # (12000, 784)"
   ]
  },
  {
   "source": [
    "## 3.ニューラルネットワークスクラッチ\n",
    "\n",
    "\n",
    "ニューラルネットワークのクラスをスクラッチで作成していきます。NumPyなど最低限のライブラリのみを使いアルゴリズムを実装していきます。\n",
    "\n",
    "今回は多クラス分類を行う3層のニューラルネットワークを作成します。層の数などは固定した上でニューラルネットワークの基本を学びます。次のSprintで層を自由に変えられる設計にしていきます。\n",
    "\n",
    "以下に雛形を用意してあります。このScratchSimpleNeuralNetrowkClassifierクラスにコードを書き加えていってください。\n",
    "\n",
    "《雛形》"
   ],
   "cell_type": "markdown",
   "metadata": {}
  },
  {
   "cell_type": "code",
   "execution_count": 290,
   "metadata": {},
   "outputs": [],
   "source": [
    "class ScratchSimpleNeuralNetrowkClassifier():\n",
    "    \"\"\"\n",
    "    シンプルな三層ニューラルネットワーク分類器\n",
    "    Parameters\n",
    "    ----------\n",
    "    Attributes\n",
    "    ----------\n",
    "    \"\"\"\n",
    "    def __init__(self, verbose = True):\n",
    "        self.verbose = verbose\n",
    "        pass\n",
    "    def fit(self, X, y, X_val=None, y_val=None):\n",
    "        \"\"\"\n",
    "        ニューラルネットワーク分類器を学習する。\n",
    "        Parameters\n",
    "        ----------\n",
    "        X : 次の形のndarray, shape (n_samples, n_features)\n",
    "            訓練データの特徴量\n",
    "        y : 次の形のndarray, shape (n_samples, )\n",
    "            訓練データの正解値\n",
    "        X_val : 次の形のndarray, shape (n_samples, n_features)\n",
    "            検証データの特徴量\n",
    "        y_val : 次の形のndarray, shape (n_samples, )\n",
    "            検証データの正解値\n",
    "        \"\"\"\n",
    "        if self.verbose:\n",
    "            #verboseをTrueにした際は学習過程などを出力する\n",
    "            print()\n",
    "        pass\n",
    "    def predict(self, X):\n",
    "        \"\"\"\n",
    "        ニューラルネットワーク分類器を使い推定する。\n",
    "        Parameters\n",
    "        ----------\n",
    "        X : 次の形のndarray, shape (n_samples, n_features)\n",
    "            サンプル\n",
    "        Returns\n",
    "        -------\n",
    "            次の形のndarray, shape (n_samples, 1)\n",
    "            推定結果\n",
    "        \"\"\"\n",
    "        pass\n",
    "        return"
   ]
  },
  {
   "source": [
    "### ミニバッチ処理\n",
    "これまでの機械学習スクラッチでは、全てのサンプルを一度に計算していました。しかし、ニューラルネットワークではデータを分割して入力する 確率的勾配降下法 が一般的です。分割した際のひとかたまりを ミニバッチ 、そのサンプル数を バッチサイズ と呼びます。\n",
    "\n",
    "今回はバッチサイズを20とします。今回使う訓練データは48000枚ですから、48000÷20で2400回の更新を繰り返すことになります。ニューラルネットワークではこれを2400回 イテレーション（iteration） すると呼びます。訓練データを一度全て見ると1回の エポック（epoch） が終わったことになります。このエポックを複数回繰り返し、学習が完了します。\n",
    "\n",
    "これを実現するための簡素なイテレータを用意しました。for文で呼び出すと、ミニバッチを取得できます。\n",
    "\n",
    "《コード》"
   ],
   "cell_type": "markdown",
   "metadata": {}
  },
  {
   "cell_type": "code",
   "execution_count": 291,
   "metadata": {},
   "outputs": [],
   "source": [
    "class GetMiniBatch:\n",
    "    \"\"\"\n",
    "    ミニバッチを取得するイテレータ\n",
    "    Parameters\n",
    "    ----------\n",
    "    X : 次の形のndarray, shape (n_samples, n_features)\n",
    "      訓練データ\n",
    "    y : 次の形のndarray, shape (n_samples, 1)\n",
    "      正解値\n",
    "    batch_size : int\n",
    "      バッチサイズ\n",
    "    seed : int\n",
    "      NumPyの乱数のシード\n",
    "    \"\"\"\n",
    "    def __init__(self, X, y, batch_size = 20, seed=0):\n",
    "        self.batch_size = batch_size\n",
    "        np.random.seed(seed)\n",
    "        shuffle_index = np.random.permutation(np.arange(X.shape[0]))\n",
    "        self._X = X[shuffle_index]\n",
    "        self._y = y[shuffle_index]\n",
    "        self._stop = np.ceil(X.shape[0]/self.batch_size).astype(np.int)\n",
    "    def __len__(self):\n",
    "        return self._stop\n",
    "    def __getitem__(self,item):\n",
    "        p0 = item*self.batch_size\n",
    "        p1 = item*self.batch_size + self.batch_size\n",
    "        return self._X[p0:p1], self._y[p0:p1]        \n",
    "    def __iter__(self):\n",
    "        self._counter = 0\n",
    "        return self\n",
    "    def __next__(self):\n",
    "        if self._counter >= self._stop:\n",
    "            raise StopIteration()\n",
    "        p0 = self._counter*self.batch_size\n",
    "        p1 = self._counter*self.batch_size + self.batch_size\n",
    "        self._counter += 1\n",
    "        return self._X[p0:p1], self._y[p0:p1]"
   ]
  },
  {
   "source": [
    "このクラスをインスタンス化し、for文を使うことでミニバッチが取り出せます。"
   ],
   "cell_type": "markdown",
   "metadata": {}
  },
  {
   "cell_type": "code",
   "execution_count": 292,
   "metadata": {},
   "outputs": [
    {
     "output_type": "stream",
     "name": "stdout",
     "text": [
      "2400\n(array([[0., 0., 0., ..., 0., 0., 0.],\n       [0., 0., 0., ..., 0., 0., 0.],\n       [0., 0., 0., ..., 0., 0., 0.],\n       ...,\n       [0., 0., 0., ..., 0., 0., 0.],\n       [0., 0., 0., ..., 0., 0., 0.],\n       [0., 0., 0., ..., 0., 0., 0.]]), array([3, 6, 2, 5, 3, 5, 5, 4, 9, 6, 1, 8, 5, 7, 0, 0, 5, 0, 1, 9],\n      dtype=uint8))\n"
     ]
    }
   ],
   "source": [
    "get_mini_batch = GetMiniBatch(X_train, y_train, batch_size=20)\n",
    "print(len(get_mini_batch)) # 2400\n",
    "print(get_mini_batch[5]) # 5番目のミニバッチが取得できる\n",
    "for mini_X_train, mini_y_train in get_mini_batch:\n",
    "    # このfor文内でミニバッチが使える\n",
    "    pass"
   ]
  },
  {
   "source": [
    "__getitem__や__next__は__init__と同じ特殊メソッドの一種です。\n",
    "\n",
    "学習\n",
    "ニューラルネットワークの学習はフォワードプロパゲーションとバックプロパゲションの繰り返しになります。\n",
    "\n",
    "#### 【問題1】重みの初期値を決めるコードの作成\n",
    "ニューラルネットワークの各層の重みの初期値を決めるコードを作成してください。\n",
    "\n",
    "重みの初期値は様々な方法が提案されていますが、今回はガウス分布による単純な初期化を行います。バイアスに関しても同様です。\n",
    "\n",
    "以下のコードを参考にしてください。標準偏差の値sigmaはハイパーパラメータです。発展的な重みの初期化方法については次のSprintで扱います。\n",
    "\n",
    "《サンプルコード》"
   ],
   "cell_type": "markdown",
   "metadata": {}
  },
  {
   "cell_type": "code",
   "execution_count": 293,
   "metadata": {},
   "outputs": [
    {
     "output_type": "execute_result",
     "data": {
      "text/plain": [
       "((20, 784), (20,))"
      ]
     },
     "metadata": {},
     "execution_count": 293
    }
   ],
   "source": [
    "X0 = get_mini_batch[0][0]\n",
    "y0 = get_mini_batch[0][1]\n",
    "X0.shape,y0.shape"
   ]
  },
  {
   "cell_type": "code",
   "execution_count": 294,
   "metadata": {},
   "outputs": [
    {
     "output_type": "stream",
     "name": "stdout",
     "text": [
      "(20, 10)\nfloat64\n"
     ]
    }
   ],
   "source": [
    "y0_one_hot = enc.fit_transform(y0[:, np.newaxis])\n",
    "print(y0_one_hot.shape) # (60000, 10)\n",
    "print(y0_one_hot.dtype) # float64"
   ]
  },
  {
   "cell_type": "code",
   "execution_count": 295,
   "metadata": {},
   "outputs": [
    {
     "output_type": "execute_result",
     "data": {
      "text/plain": [
       "array([3, 1, 6, 0, 7, 0, 4, 8, 1, 2, 5, 6, 6, 0, 6, 3, 6, 0, 8, 9],\n",
       "      dtype=uint8)"
      ]
     },
     "metadata": {},
     "execution_count": 295
    }
   ],
   "source": [
    "y0"
   ]
  },
  {
   "cell_type": "code",
   "execution_count": 296,
   "metadata": {},
   "outputs": [],
   "source": [
    "batch_size = 20\n",
    "n_features = 784\n",
    "n_nodes1 = 400\n",
    "n_nodes2 = 200\n",
    "n_output = 10\n",
    "sigma = 0.01 # ガウス分布の標準偏差\n",
    "W1 = sigma * np.random.randn(n_features, n_nodes1)\n",
    "# W1: (784, 400)"
   ]
  },
  {
   "cell_type": "code",
   "execution_count": 297,
   "metadata": {},
   "outputs": [],
   "source": [
    "W1 = sigma * np.random.randn(n_features, n_nodes1)\n",
    "W2 = sigma * np.random.randn(n_nodes1,n_nodes2)\n",
    "W3 = sigma * np.random.randn(n_nodes2, n_output)"
   ]
  },
  {
   "cell_type": "code",
   "execution_count": 298,
   "metadata": {},
   "outputs": [],
   "source": [
    "B1 = np.zeros(n_nodes1)\n",
    "B2 = np.zeros(n_nodes2)\n",
    "B3 = np.zeros(n_output)"
   ]
  },
  {
   "source": [
    "#### 【問題2】フォワードプロパゲーションの実装\n",
    "三層のニューラルネットワークの フォワードプロパゲーション を作成してください。以下の説明ではノード数は1層目は400、2層目は200としますが、変更しても構いません。\n",
    "\n",
    "各層の数式を以下に示します。今回はそれぞれの記号が表す配列が、実装上どのようなndarrayのshapeになるかを併記してあります。\n",
    "\n",
    "batch_size = 20 # バッチサイズ  \n",
    "n_features = 784 # 特徴量の数  \n",
    "n_nodes1 = 400 # 1層目のノード数  \n",
    "n_nodes2 = 200 # 2層目のノード数  \n",
    "n_output = 10 # 出力のクラス数（3層目のノード数）  \n",
    "\n",
    "「1層目」\n",
    "$$A_1 = X \\cdot W_1 + B_1$$  \n",
    "\n",
    "\n",
    "X\n",
    " : 特徴量ベクトル (batch_size, n_features)\n",
    "\n",
    "W\n",
    "1\n",
    " : 1層目の重み (n_features, n_nodes1)\n",
    "\n",
    "B\n",
    "1\n",
    " : 1層目のバイアス (n_nodes1,)\n",
    "\n",
    "A\n",
    "1\n",
    " : 出力 (batch_size, n_nodes1)\n",
    "\n",
    "「1層目の活性化関数」\n",
    "$$Z_1 = f(A_1)$$\n",
    "f\n",
    "(\n",
    ")\n",
    " : 活性化関数\n",
    "\n",
    "Z\n",
    "1\n",
    " 出力 (batch_size, n_nodes1)\n",
    "\n",
    "「2層目」\n",
    "$$A_2 = Z_1 \\cdot W_2 + B_2$$\n",
    "\n",
    "W\n",
    "2\n",
    "  : 2層目の重み (n_nodes1, n_nodes2)\n",
    "\n",
    "B\n",
    "2\n",
    " : 2層目のバイアス (n_nodes2,)\n",
    "\n",
    "A\n",
    "2\n",
    " : 出力 (batch_size, n_nodes2)\n",
    "\n",
    "「2層目の活性化関数」  \n",
    "\n",
    "$$Z_2 = f(A_2)$$\n",
    "\n",
    "f\n",
    "(\n",
    ")\n",
    " : 活性化関数\n",
    "\n",
    "Z\n",
    "2\n",
    " 出力 (batch_size, n_nodes2)\n",
    "\n",
    "「3層目（出力層）」\n",
    "$$A_3 = Z_2 \\cdot W_3 + B_3$$\n",
    "W\n",
    "3\n",
    " : 3層目の重み (n_nodes2, n_output)\n",
    "\n",
    "B\n",
    "3\n",
    " : 3層目のバイアス (n_output,)\n",
    "\n",
    "A\n",
    "3\n",
    " : 出力 (batch_size, n_output)\n",
    "\n",
    "「3層目の活性化関数」\n",
    "$$Z_3 = softmax(A_3)$$\n",
    "\n",
    "s\n",
    "o\n",
    "f\n",
    "t\n",
    "m\n",
    "a\n",
    "x\n",
    "(\n",
    ")\n",
    " : ソフトマックス関数\n",
    "\n",
    "Z\n",
    "3\n",
    " 出力 (batch_size, n_output)\n",
    "\n",
    "Z\n",
    "3\n",
    " は各ラベル（0〜9）に対する確率の配列である。\n",
    "\n"
   ],
   "cell_type": "markdown",
   "metadata": {}
  },
  {
   "source": [
    "[numpy.random.randn — NumPy v1.15 Manual](https://docs.scipy.org/doc/numpy-1.15.0/reference/generated/numpy.random.randn.html)"
   ],
   "cell_type": "markdown",
   "metadata": {}
  },
  {
   "source": [
    "### 活性化関数（フォワードプロバゲーション）\n",
    "活性化関数を作成し、フォワードプロパゲーションの中で使用します。切り替えられるように実装することを推奨しますが、片方でも構いません。\n",
    "\n",
    "「シグモイド関数」\n",
    "\n",
    "$$f(Z) = sigmoid(A) = \\frac{1}{1+exp(-A)}$$\n",
    "\n",
    "\n",
    "[numpy.exp — NumPy v1.15 Manual](https://docs.scipy.org/doc/numpy-1.15.1/reference/generated/numpy.exp.html)  \n",
    "\n",
    "「ハイパボリックタンジェント関数」\n",
    "\n",
    "次の数式で表されますが、np.tanhひとつで実現できます。\n",
    "$$f(Z) = tanh(A) = \\frac{exp(A) - exp(-A)}{exp(A) + exp(-A)}$$\n",
    "\n",
    "[numpy.tanh — NumPy v1.15 Manual](https://docs.scipy.org/doc/numpy-1.15.1/reference/generated/numpy.tanh.html)  \n",
    "\n",
    "＊現在ではこれらの代わりにReLUと呼ばれる活性化関数が一般的です。次のSprintで扱います。\n",
    "\n",
    "ソフトマックス関数\n",
    "ソフトマックス関数を作成し、フォワードプロパゲーションの中で使用します。これも活性化関数の一種ですが、多クラス分類の出力層で使われる特性上、区別して扱われることが多いです。\n",
    "\n",
    "次の数式です。\n",
    "\n",
    "$$Z_{3\\_k} = \\frac{exp(A_{3\\_k})}{\\sum_{i=1}^{n_c}exp(A_{3\\_i})}$$\n",
    "\n",
    "\n",
    "Z\n",
    "3\n",
    "k\n",
    " : \n",
    "k\n",
    " 番目のクラスの確率ベクトル (batch_size,)\n",
    "\n",
    "A\n",
    "3\n",
    "k\n",
    " : \n",
    "k\n",
    " 番目のクラスにあたる前の層からのベクトル (batch_size,)\n",
    "\n",
    "n\n",
    "c\n",
    " : クラスの数、n_output。今回のMNISTでは10。\n",
    "\n",
    "分母は全てのクラスに相当する値を指数関数に通した上で足し合わせたものです。その中で、分子に \n",
    "k\n",
    " 番目のクラスを持ってくることで、 \n",
    "k\n",
    " 番目のクラスである確率が求まります。\n",
    "\n",
    "これを10クラス分計算し、合わせたものが \n",
    "Z\n",
    "3\n",
    " です。\n"
   ],
   "cell_type": "markdown",
   "metadata": {}
  },
  {
   "cell_type": "code",
   "execution_count": 299,
   "metadata": {},
   "outputs": [],
   "source": [
    "#シグモイド関数\n",
    "def sigmoid(x):\n",
    "    return 1/(1+np.exp(-x))"
   ]
  },
  {
   "cell_type": "code",
   "execution_count": 300,
   "metadata": {},
   "outputs": [],
   "source": [
    "#ハイパボリックタンジェント\n",
    "def tanh(x):\n",
    "    return np.tanh(x)"
   ]
  },
  {
   "cell_type": "code",
   "execution_count": 301,
   "metadata": {},
   "outputs": [],
   "source": [
    "#softmax関数\n",
    "def softmax(x):\n",
    "    c = np.max(x)\n",
    "    exp_a = np.exp(x-c)#オーバーフロー対策\n",
    "    sum_exp_a = np.sum(exp_a)\n",
    "    y = exp_a / sum_exp_a\n",
    "    return y"
   ]
  },
  {
   "cell_type": "code",
   "execution_count": 302,
   "metadata": {},
   "outputs": [
    {
     "output_type": "execute_result",
     "data": {
      "text/plain": [
       "(20, 400)"
      ]
     },
     "metadata": {},
     "execution_count": 302
    }
   ],
   "source": [
    "#1ソウメン\n",
    "A1 = X0 @ W1 + B1\n",
    "A1.shape"
   ]
  },
  {
   "cell_type": "code",
   "execution_count": 303,
   "metadata": {},
   "outputs": [
    {
     "output_type": "execute_result",
     "data": {
      "text/plain": [
       "(20, 400)"
      ]
     },
     "metadata": {},
     "execution_count": 303
    }
   ],
   "source": [
    "Z1 = sigmoid(A1)\n",
    "Z1.shape"
   ]
  },
  {
   "cell_type": "code",
   "execution_count": 304,
   "metadata": {},
   "outputs": [
    {
     "output_type": "execute_result",
     "data": {
      "text/plain": [
       "(20, 200)"
      ]
     },
     "metadata": {},
     "execution_count": 304
    }
   ],
   "source": [
    "#2ソウメン\n",
    "A2 =  Z1 @ W2 + B2\n",
    "A2.shape"
   ]
  },
  {
   "cell_type": "code",
   "execution_count": 305,
   "metadata": {},
   "outputs": [
    {
     "output_type": "execute_result",
     "data": {
      "text/plain": [
       "(20, 200)"
      ]
     },
     "metadata": {},
     "execution_count": 305
    }
   ],
   "source": [
    "Z2 = sigmoid(A2)\n",
    "Z2.shape"
   ]
  },
  {
   "cell_type": "code",
   "execution_count": 306,
   "metadata": {},
   "outputs": [
    {
     "output_type": "execute_result",
     "data": {
      "text/plain": [
       "(20, 10)"
      ]
     },
     "metadata": {},
     "execution_count": 306
    }
   ],
   "source": [
    "#3ソウメン\n",
    "A3 = Z2 @ W3 + B3\n",
    "A3.shape"
   ]
  },
  {
   "cell_type": "code",
   "execution_count": 307,
   "metadata": {},
   "outputs": [
    {
     "output_type": "execute_result",
     "data": {
      "text/plain": [
       "(20, 10)"
      ]
     },
     "metadata": {},
     "execution_count": 307
    }
   ],
   "source": [
    "Z3 = softmax(A3)\n",
    "Z3.shape"
   ]
  },
  {
   "source": [
    "【問題3】交差エントロピー誤差の実装\n",
    "目的関数（損失関数）を作成します。\n",
    "\n",
    "多クラス分類の目的関数である交差エントロピー誤差 \n",
    "L\n",
    " は次の数式です。\n",
    "$$L = - \\frac{1}{n_b}\\sum_{j}^{n_b}\\sum_{k}^{n_c}y_{jk} log(z_{3\\_jk})$$\n",
    " \n",
    " y\n",
    "i\n",
    "j\n",
    " : \n",
    "j\n",
    " 番目のサンプルの \n",
    "k\n",
    " 番目のクラスの正解ラベル（one-hot表現で0か1のスカラー）\n",
    "\n",
    "z\n",
    "3\n",
    "i\n",
    "j\n",
    " : \n",
    "j\n",
    " 番目のサンプルの \n",
    "k\n",
    " 番目のクラスの確率（スカラー）\n",
    "\n",
    "n\n",
    "b\n",
    " : バッチサイズ、batch_size\n",
    "\n",
    "n\n",
    "c\n",
    " : クラスの数、n_output（今回のMNISTでは10）\n",
    "\n",
    "サンプル1つあたりの誤差が求まります。"
   ],
   "cell_type": "markdown",
   "metadata": {}
  },
  {
   "cell_type": "code",
   "execution_count": 308,
   "metadata": {},
   "outputs": [
    {
     "output_type": "execute_result",
     "data": {
      "text/plain": [
       "(20, 10)"
      ]
     },
     "metadata": {},
     "execution_count": 308
    }
   ],
   "source": [
    "t = y0_one_hot\n",
    "t.shape"
   ]
  },
  {
   "source": [
    "L = -1/batch_size * np.sum(t*np.log(Z3),axis=1)\n",
    "L.shape"
   ],
   "cell_type": "code",
   "metadata": {},
   "execution_count": 309,
   "outputs": [
    {
     "output_type": "execute_result",
     "data": {
      "text/plain": [
       "(20,)"
      ]
     },
     "metadata": {},
     "execution_count": 309
    }
   ]
  },
  {
   "source": [
    "#### 【問題4】バックプロパゲーションの実装\n",
    "三層のニューラルネットワークのバックプロパゲーションを作成してください。確率的勾配降下法を行う部分です。\n",
    "\n",
    "数式を以下に示します。\n",
    "\n",
    "まず、i層目の重みとバイアスの更新式です。 \n",
    "W\n",
    "i\n",
    " と \n",
    "B\n",
    "i\n",
    " に対し、更新後の \n",
    "W\n",
    "′\n",
    "i\n",
    " と \n",
    "B\n",
    "′\n",
    "i\n",
    " は次の数式で求められます。\n",
    "\n",
    " $$\n",
    " W_i^{\\prime} = W_i - \\alpha \\frac{\\partial L}{\\partial W_i} \\\\\n",
    "B_i^{\\prime} = B_i - \\alpha \\frac{\\partial L}{\\partial B_i}\n",
    "$$\n",
    "\n",
    "α\n",
    " : 学習率（層ごとに変えることも可能だが、基本的には全て同じとする）\n",
    "\n",
    "∂\n",
    "L\n",
    "∂\n",
    "W\n",
    "i\n",
    " : \n",
    "W\n",
    "i\n",
    " に関する損失 \n",
    "L\n",
    " の勾配\n",
    "\n",
    "∂\n",
    "L\n",
    "∂\n",
    "B\n",
    "i\n",
    " : \n",
    "B\n",
    "i\n",
    " に関する損失 \n",
    "L\n",
    " の勾配\n",
    "\n",
    "＊この勾配はミニバッチのサンプル数分の合計または平均を考えます。ここでは合計を計算します。\n",
    "\n",
    "この更新方法はSprint3線形回帰やsprint4ロジスティック回帰における最急降下法と同様です。より効果的な更新方法が知られており、それは次のSprintで扱います。\n",
    "\n",
    "勾配 \n",
    "∂\n",
    "L\n",
    "∂\n",
    "W\n",
    "i\n",
    " や \n",
    "∂\n",
    "L\n",
    "∂\n",
    "B\n",
    "i\n",
    " を求めるために、バックプロパゲーションを行います。以下の数式です。ハイパボリックタンジェント関数を使用した例を載せました。シグモイド関数の場合の数式はその後ろにあります。\n",
    "\n",
    "「3層目」\n",
    "$$\n",
    "\\frac{\\partial L}{\\partial A_3} = \\frac{1}{n_b}(Z_{3} - Y)\\\\\n",
    "\\frac{\\partial L}{\\partial B_3} = \\sum_{j}^{n_b}\\frac{\\partial L}{\\partial A_{3\\_j}}\\\\\n",
    "\\frac{\\partial L}{\\partial W_3} = Z_{2}^{T}\\cdot \\frac{\\partial L}{\\partial A_3}\\\\\n",
    "\\frac{\\partial L}{\\partial Z_2} = \\frac{\\partial L}{\\partial A_3} \\cdot W_3^T\n",
    "$$\n",
    "∂\n",
    "L\n",
    "∂\n",
    "A\n",
    "3\n",
    " : \n",
    "A\n",
    "3\n",
    " に関する損失 \n",
    "L\n",
    " の勾配 (batch_size, n_output)\n",
    "\n",
    "∂\n",
    "L\n",
    "∂\n",
    "A\n",
    "3\n",
    "j\n",
    " : j番目のサンプルの\n",
    "A\n",
    "3\n",
    " に関する損失 \n",
    "L\n",
    " の勾配 (n_nodes2,)\n",
    "\n",
    "∂\n",
    "L\n",
    "∂\n",
    "B\n",
    "3\n",
    " : \n",
    "B\n",
    "3\n",
    " に関する損失 \n",
    "L\n",
    " の勾配 (n_output,)\n",
    "\n",
    "∂\n",
    "L\n",
    "∂\n",
    "W\n",
    "3\n",
    " : \n",
    "W\n",
    "3\n",
    " に関する損失 \n",
    "L\n",
    " の勾配 (n_nodes2, n_output)\n",
    "\n",
    "∂\n",
    "L\n",
    "∂\n",
    "Z\n",
    "2\n",
    " : \n",
    "Z\n",
    "2\n",
    " に関する損失 \n",
    "L\n",
    " の勾配 (batch_size, n_nodes2)\n",
    "\n",
    "Z\n",
    "3\n",
    " : ソフトマックス関数の出力 (batch_size, n_nodes2)\n",
    "\n",
    "Y\n",
    " : 正解ラベル (batch_size, n_output)\n",
    "\n",
    "Z\n",
    "2\n",
    " : 2層目の活性化関数の出力 (batch_size, n_nodes2)\n",
    "\n",
    "W\n",
    "3\n",
    " : 3層目の重み (n_nodes2, n_output)\n",
    "\n",
    "「2層目」\n",
    "$$\n",
    "\\frac{\\partial L}{\\partial A_2} = \\frac{\\partial L}{\\partial Z_2} \\odot \\{1-tanh^2(A_{2})\\}\\\\\n",
    "\\frac{\\partial L}{\\partial B_2} = \\sum_{j}^{n_b}\\frac{\\partial L}{\\partial A_{2\\_j}}\\\\\n",
    "\\frac{\\partial L}{\\partial W_2} = Z_{1}^T \\cdot \\frac{\\partial L}{\\partial A_2}\\\\\n",
    "\\frac{\\partial L}{\\partial Z_1} = \\frac{\\partial L}{\\partial A_2} \\cdot W_2^T\n",
    "$$\n",
    "\n",
    "∂\n",
    "L\n",
    "∂\n",
    "A\n",
    "2\n",
    "  : \n",
    "A\n",
    "2\n",
    " に関する損失 \n",
    "L\n",
    " の勾配 (batch_size, n_nodes2)\n",
    "\n",
    "∂\n",
    "L\n",
    "∂\n",
    "A\n",
    "2\n",
    "j\n",
    " : j番目のサンプルの\n",
    "A\n",
    "2\n",
    " に関する損失 \n",
    "L\n",
    " の勾配 (n_nodes2,)\n",
    "\n",
    "∂\n",
    "L\n",
    "∂\n",
    "B\n",
    "2\n",
    " : \n",
    "B\n",
    "2\n",
    " に関する損失 \n",
    "L\n",
    " の勾配 (n_output,)\n",
    "\n",
    "∂\n",
    "L\n",
    "∂\n",
    "W\n",
    "2\n",
    " : \n",
    "W\n",
    "2\n",
    " に関する損失 \n",
    "L\n",
    " の勾配 (n_nodes1, n_nodes2)\n",
    "\n",
    "∂\n",
    "L\n",
    "∂\n",
    "Z\n",
    "2\n",
    " : \n",
    "Z\n",
    "2\n",
    " に関する損失 \n",
    "L\n",
    " の勾配 (batch_size, n_nodes2)\n",
    "\n",
    "A\n",
    "2\n",
    " : 2層目の出力 (batch_size, n_nodes2)\n",
    "\n",
    "Z\n",
    "1\n",
    " : 1層目の活性化関数の出力 (batch_size, n_nodes1)\n",
    "\n",
    "W\n",
    "2\n",
    " : 2層目の重み (n_nodes1, n_nodes2)\n",
    "\n",
    "「1層目」\n",
    "$$\n",
    "\\frac{\\partial L}{\\partial A_1} = \\frac{\\partial L}{\\partial Z_1} \\odot \\{1-tanh^2(A_{1})\\}\\\\\n",
    "\\frac{\\partial L}{\\partial B_1} = \\sum_{j}^{n_b}\\frac{\\partial L}{\\partial A_{1\\_j}}\\\\\n",
    "\\frac{\\partial L}{\\partial W_1} = X^T \\cdot \\frac{\\partial L}{\\partial A_1}\\\\\n",
    "$$\n",
    "\n",
    "\n",
    "∂\n",
    "L\n",
    "∂\n",
    "A\n",
    "1\n",
    " : \n",
    "A\n",
    "1\n",
    " に関する損失 \n",
    "L\n",
    " の勾配 (batch_size, n_nodes1)\n",
    "\n",
    "∂\n",
    "L\n",
    "∂\n",
    "A\n",
    "1\n",
    "j\n",
    " : j番目のサンプルの\n",
    "A\n",
    "1\n",
    " に関する損失 \n",
    "L\n",
    " の勾配 (n_nodes1,)\n",
    "\n",
    "∂\n",
    "L\n",
    "∂\n",
    "B\n",
    "1\n",
    " : \n",
    "B\n",
    "1\n",
    " に関する損失 \n",
    "L\n",
    " の勾配 (n_output,)\n",
    "\n",
    "∂\n",
    "L\n",
    "∂\n",
    "W\n",
    "1\n",
    " : \n",
    "W\n",
    "1\n",
    " に関する損失 \n",
    "L\n",
    " の勾配 (n_features, n_nodes1)\n",
    "\n",
    "∂\n",
    "L\n",
    "∂\n",
    "Z\n",
    "1\n",
    " : \n",
    "Z\n",
    "1\n",
    " に関する損失 \n",
    "L\n",
    " の勾配 (batch_size, n_nodes1)\n",
    "\n",
    "A\n",
    "1\n",
    " : 1層目の出力 (batch_size, n_nodes1)\n",
    "\n",
    "X\n",
    " : 特徴量ベクトル (batch_size, n_features)\n",
    "\n",
    "W\n",
    "1\n",
    " : 1層目の重み (n_features, n_nodes1)\n",
    "\n",
    "《補足》\n",
    "\n",
    "活性化関数にシグモイド関数を使用した場合は、次のようになります。\n",
    "$$\n",
    "\\frac{\\partial L}{\\partial A_2} = \\frac{\\partial L}{\\partial Z_2} \\odot  \\{1-sigmoid(A_{2})\\}sigmoid(A_{2})\n",
    "\\\\\n",
    "\\frac{\\partial L}{\\partial A_1} = \\frac{\\partial L}{\\partial Z_1} \\odot  \\{1-sigmoid(A_{1})\\}sigmoid(A_{1})\n",
    "$$\n"
   ],
   "cell_type": "markdown",
   "metadata": {}
  },
  {
   "cell_type": "code",
   "execution_count": 310,
   "metadata": {},
   "outputs": [
    {
     "output_type": "stream",
     "name": "stdout",
     "text": [
      "(20, 10)\n(10,)\n(200, 10)\n(20, 200)\n"
     ]
    }
   ],
   "source": [
    "#3ソウメン\n",
    "A3_diff = (Z3 - t)/batch_size\n",
    "print(A3_diff.shape)\n",
    "B3_diff = np.sum(A3_diff,axis=0)\n",
    "print(B3_diff.shape)\n",
    "W3_diff = Z2.T @ A3_diff\n",
    "print(W3_diff.shape)\n",
    "Z2_diff = A3_diff @ W3.T\n",
    "print(Z2_diff.shape)"
   ]
  },
  {
   "cell_type": "code",
   "execution_count": 311,
   "metadata": {},
   "outputs": [
    {
     "output_type": "stream",
     "name": "stdout",
     "text": [
      "(20, 200)\n(200,)\n(400, 200)\n(20, 400)\n"
     ]
    }
   ],
   "source": [
    "#2ソウメン\n",
    "A2_diff = Z2_diff * (1 - tanh(A2)**2)\n",
    "print(A2_diff.shape)\n",
    "B2_diff = np.sum(A2_diff,axis=0)\n",
    "print(B2_diff.shape)\n",
    "W2_diff = Z1.T @ A2_diff\n",
    "print(W2_diff.shape)\n",
    "Z1_diff = A2_diff @ W2.T\n",
    "print(Z1_diff.shape)"
   ]
  },
  {
   "cell_type": "code",
   "execution_count": 312,
   "metadata": {},
   "outputs": [
    {
     "output_type": "stream",
     "name": "stdout",
     "text": [
      "(20, 400)\n(400,)\n(784, 400)\n"
     ]
    }
   ],
   "source": [
    "#1ソウメン\n",
    "A1_diff = Z1_diff * (1- tanh(A1)**2)\n",
    "print(A1_diff.shape)\n",
    "B1_diff = np.sum(A1_diff,axis=0)\n",
    "print(B1_diff.shape)\n",
    "W1_diff = X0.T @ A1_diff\n",
    "print(W1_diff.shape)"
   ]
  },
  {
   "source": [
    "#### 【問題5】推定\n",
    "推定を行うメソッドを作成してください。\n",
    "\n",
    "フォワードプロパゲーションによって出力された10個の確率の中で、最も高いものはどれかを判定します。  \n",
    "[numpy.argmax — NumPy v1.17 Manual](https://docs.scipy.org/doc/numpy/reference/generated/numpy.argmax.html)"
   ],
   "cell_type": "markdown",
   "metadata": {}
  },
  {
   "cell_type": "code",
   "execution_count": 313,
   "metadata": {},
   "outputs": [
    {
     "output_type": "execute_result",
     "data": {
      "text/plain": [
       "array([4, 4, 4, 4, 4, 4, 4, 4, 4, 4, 4, 4, 4, 4, 4, 4, 4, 4, 4, 4])"
      ]
     },
     "metadata": {},
     "execution_count": 313
    }
   ],
   "source": [
    "y_pred = np.argmax(Z3,axis=1)\n",
    "y_pred"
   ]
  },
  {
   "source": [
    "## 4.検証\n",
    "\n",
    "\n",
    "#### 【問題6】学習と推定\n",
    "MNISTのデータを学習・推定し、Accuracyを計算してください。"
   ],
   "cell_type": "markdown",
   "metadata": {}
  },
  {
   "cell_type": "code",
   "execution_count": 314,
   "metadata": {},
   "outputs": [
    {
     "output_type": "execute_result",
     "data": {
      "text/plain": [
       "array([[0., 0., 0., 1., 0., 0., 0., 0., 0., 0.],\n",
       "       [0., 1., 0., 0., 0., 0., 0., 0., 0., 0.],\n",
       "       [0., 0., 0., 0., 0., 0., 1., 0., 0., 0.],\n",
       "       [1., 0., 0., 0., 0., 0., 0., 0., 0., 0.],\n",
       "       [0., 0., 0., 0., 0., 0., 0., 1., 0., 0.],\n",
       "       [1., 0., 0., 0., 0., 0., 0., 0., 0., 0.],\n",
       "       [0., 0., 0., 0., 1., 0., 0., 0., 0., 0.],\n",
       "       [0., 0., 0., 0., 0., 0., 0., 0., 1., 0.],\n",
       "       [0., 1., 0., 0., 0., 0., 0., 0., 0., 0.],\n",
       "       [0., 0., 1., 0., 0., 0., 0., 0., 0., 0.],\n",
       "       [0., 0., 0., 0., 0., 1., 0., 0., 0., 0.],\n",
       "       [0., 0., 0., 0., 0., 0., 1., 0., 0., 0.],\n",
       "       [0., 0., 0., 0., 0., 0., 1., 0., 0., 0.],\n",
       "       [1., 0., 0., 0., 0., 0., 0., 0., 0., 0.],\n",
       "       [0., 0., 0., 0., 0., 0., 1., 0., 0., 0.],\n",
       "       [0., 0., 0., 1., 0., 0., 0., 0., 0., 0.],\n",
       "       [0., 0., 0., 0., 0., 0., 1., 0., 0., 0.],\n",
       "       [1., 0., 0., 0., 0., 0., 0., 0., 0., 0.],\n",
       "       [0., 0., 0., 0., 0., 0., 0., 0., 1., 0.],\n",
       "       [0., 0., 0., 0., 0., 0., 0., 0., 0., 1.]])"
      ]
     },
     "metadata": {},
     "execution_count": 314
    }
   ],
   "source": [
    "#one_hot_変換\n",
    "(y0.reshape(-1,1)==np.arange(10)).astype(np.float64)"
   ]
  },
  {
   "cell_type": "code",
   "execution_count": 348,
   "metadata": {},
   "outputs": [],
   "source": [
    "from sklearn.metrics import accuracy_score\n",
    "class ScratchSimpleNeuralNetrowkClassifier():\n",
    "    \"\"\"\n",
    "    シンプルな三層ニューラルネットワーク分類器\n",
    "    Parameters\n",
    "    ----------\n",
    "    Attributes\n",
    "    ----------\n",
    "    \"\"\"\n",
    "    def __init__(self,batch_size = 20, sigma = 0.01,node = 400, epoc = 20,ir=0.01,verbose = True):\n",
    "        self.batch = batch_size\n",
    "        self.sigma = sigma # ガウス分布の標準偏差\n",
    "        self.verbose = verbose\n",
    "        self.epoc = epoc\n",
    "        self.node = node\n",
    "        self.out = 10\n",
    "        self.ir = ir\n",
    "        pass\n",
    "\n",
    "    #シグモイド関数\n",
    "    def _sigmoid(self,x):\n",
    "        return 1/(1+np.exp(-1*x))\n",
    "\n",
    "    #ハイパボリックタンジェント\n",
    "    def _tanh(self,x):\n",
    "        return np.tanh(x)\n",
    "\n",
    "    #softmax関数\n",
    "    def _softmax(self, x):\n",
    "        # オーバーフロー対策\n",
    "        # a = a - np.max(a, axis=-1, keepdims=True) \n",
    "        # b = np.exp(a) / np.sum(np.exp(a), axis=-1, keepdims=True)\n",
    "\n",
    "        b = np.exp(x-np.max(x))/np.sum(np.exp(x-np.max(x)), axis =1, keepdims =True)\n",
    "        return b\n",
    "\n",
    "    #交差エントロピー\n",
    "    def _loss(self,t):\n",
    "        L = -1/self.batch * np.sum(np.sum(t*np.log(self.Z3),axis=0))\n",
    "        return L\n",
    "\n",
    "    #フォワードプロパゲーション\n",
    "    def _forward(self,X):\n",
    "        #1層目\n",
    "        self.A1 = X @ self.W1 + self.B1\n",
    "        self.Z1 = self._sigmoid(self.A1)\n",
    "        #2層目\n",
    "        self.A2 =  self.Z1 @ self.W2 + self.B2\n",
    "        self.Z2 = self._sigmoid(self.A2)\n",
    "        #3層目\n",
    "        self.A3 = self.Z2 @ self.W3 + self.B3\n",
    "        self.Z3 = self._softmax(self.A3)\n",
    "        return  self.Z3\n",
    "\n",
    "    #バックプロパゲーション\n",
    "    def _backward(self,X,t):\n",
    "        #3層目\n",
    "        A3_diff = (self.Z3 - t)/self.batch\n",
    "        B3_diff = np.sum(A3_diff,axis=0) \n",
    "        Z2_diff = A3_diff @ self.W3.T #次の層で使う\n",
    "        W3_diff = self.Z2.T @ A3_diff \n",
    "\n",
    "        #層ごとに更新\n",
    "        self.B3 -= self.ir * B3_diff\n",
    "        self.W3 -= self.ir * W3_diff\n",
    "\n",
    "        #2層目\n",
    "        A2_diff = Z2_diff * (1 - (self._tanh(self.A2))**2)\n",
    "        B2_diff = np.sum(A2_diff,axis=0) \n",
    "        Z1_diff = A2_diff @ self.W2.T # 次の層で使う\n",
    "        W2_diff = self.Z1.T @ A2_diff \n",
    "\n",
    "        #層ごとに更新\n",
    "        self.B2 -= self.ir * B2_diff\n",
    "        self.W2 -= self.ir * W2_diff        \n",
    "\n",
    "        #1層目\n",
    "        A1_diff = Z1_diff * (1- (self._tanh(self.A1))**2)\n",
    "        B1_diff = np.sum(A1_diff,axis=0) \n",
    "        W1_diff = X.T @ A1_diff  \n",
    "\n",
    "        #層ごとに更新\n",
    "        self.B1 -= self.ir * B1_diff\n",
    "        self.W1 -= self.ir * W1_diff\n",
    "\n",
    "    def fit(self, X, y, X_val=None, y_val=None):\n",
    "        \"\"\"\n",
    "        ニューラルネットワーク分類器を学習する。\n",
    "        Parameters\n",
    "        ----------\n",
    "        X : 次の形のndarray, shape (n_samples, n_features)\n",
    "            訓練データの特徴量\n",
    "        y : 次の形のndarray, shape (n_samples, )\n",
    "            訓練データの正解値\n",
    "        X_val : 次の形のndarray, shape (n_samples, n_features)\n",
    "            検証データの特徴量\n",
    "        y_val : 次の形のndarray, shape (n_samples, )\n",
    "            検証データの正解値\n",
    "        \"\"\"\n",
    "\n",
    "        #bias 初期化\n",
    "        self.B1 = sigma * np.random.randn(self.node) #(400,)\n",
    "        self.B2 = sigma * np.random.randn(self.node//2) #(200,)\n",
    "        self.B3 = sigma * np.random.randn(self.out) #(10,)\n",
    "\n",
    "        #重み初期化\n",
    "        self.W1 = sigma * np.random.randn(X.shape[1], self.node) #(784,400)\n",
    "        self.W2 = sigma * np.random.randn(self.node, self.node//2) #(400,200)\n",
    "        self.W3 = sigma * np.random.randn(self.node//2, self.out) #(200,10)\n",
    "\n",
    "        # 格納\n",
    "        self.epo = []\n",
    "        self.loss = np.zeros(self.epoc)\n",
    "        self.val_loss = np.zeros(self.epoc)\n",
    "\n",
    "        #エポック数分学習\n",
    "        for i in range(self.epoc):\n",
    "             #initial\n",
    "            cross_loss = 0\n",
    "            #バッチサイズごとに取り出す\n",
    "            get_mini_batch = GetMiniBatch(X, y, self.batch)\n",
    "            for mini_X_train, mini_y_train in get_mini_batch:\n",
    "                # このfor文内でミニバッチが使える\n",
    "\n",
    "                #ワンホット変換\n",
    "                y_one = (mini_y_train.reshape(-1,1)==np.arange(10)).astype(np.float64)\n",
    "                #フォワード\n",
    "                z3 = self._forward(mini_X_train)\n",
    "                #交差エントロピー\n",
    "                cross_loss += self._loss(y_one)\n",
    "                #バック\n",
    "                self._backward(mini_X_train, y_one)\n",
    "\n",
    "            #train損失確認用  \n",
    "            self.loss[i] += cross_loss\n",
    "\n",
    "            #検証\n",
    "            if X_val is not None:\n",
    "                y_pre = np.argmax(self._forward(X_val),axis=1)\n",
    "                y_val_one = (y_val.reshape(-1,1)==np.arange(10)).astype(np.float64)\n",
    "                accura = accuracy_score(y_pre,y_val)\n",
    "                #val損失確認用  \n",
    "                cross_val = self._loss(y_val_one)\n",
    "                self.val_loss[i] += cross_val\n",
    "\n",
    "            \n",
    "                #verboseをTrueにした際は学習過程などを出力する\n",
    "                if self.verbose:\n",
    "                    print( \"epoch\",i+1,\"--loss\",cross_loss,\"--accuracy:\",accura,\"--\")\n",
    "                    pass\n",
    "\n",
    "\n",
    "    def predict(self, X):\n",
    "        \"\"\"\n",
    "        ニューラルネットワーク分類器を使い推定する。\n",
    "        Parameters\n",
    "        ----------\n",
    "        X : 次の形のndarray, shape (n_samples, n_features)\n",
    "            サンプル\n",
    "        Returns\n",
    "        -------\n",
    "            次の形のndarray, shape (n_samples, 1)\n",
    "            推定結果\n",
    "        \"\"\"\n",
    "        return np.argmax(self._forward(X),axis=1)"
   ]
  },
  {
   "cell_type": "code",
   "execution_count": 349,
   "metadata": {},
   "outputs": [],
   "source": [
    "#前処理\n",
    "(X_train, y_train), (X_test, y_test) = mnist.load_data()\n",
    "X_train = X_train.reshape(-1, 784)\n",
    "X_test = X_test.reshape(-1, 784)\n",
    "X_train = X_train.astype(np.float)\n",
    "X_test = X_test.astype(np.float)\n",
    "X_train /= 255\n",
    "X_test /= 255\n",
    "X_train, X_val, y_train, y_val = train_test_split(X_train, y_train, test_size=0.2)"
   ]
  },
  {
   "source": [
    "ssnn = ScratchSimpleNeuralNetrowkClassifier()\n",
    "ssnn.fit(X_train, y_train,X_val,y_val)"
   ],
   "cell_type": "code",
   "metadata": {},
   "execution_count": 350,
   "outputs": [
    {
     "output_type": "stream",
     "name": "stdout",
     "text": [
      "epoch 1 --loss 5531.857552043536 --accuracy: 0.113 --\n",
      "epoch 2 --loss 5234.429687292569 --accuracy: 0.38325 --\n",
      "epoch 3 --loss 3053.127803435087 --accuracy: 0.69525 --\n",
      "epoch 4 --loss 1822.8170476823361 --accuracy: 0.81075 --\n",
      "epoch 5 --loss 1350.7720321275517 --accuracy: 0.8585833333333334 --\n",
      "epoch 6 --loss 1092.1831135314108 --accuracy: 0.8806666666666667 --\n",
      "epoch 7 --loss 928.3449456034283 --accuracy: 0.89725 --\n",
      "epoch 8 --loss 807.5111085573416 --accuracy: 0.9104166666666667 --\n",
      "epoch 9 --loss 719.6030895376857 --accuracy: 0.9181666666666667 --\n",
      "epoch 10 --loss 652.8675842565841 --accuracy: 0.9230833333333334 --\n",
      "epoch 11 --loss 598.815172759919 --accuracy: 0.929 --\n",
      "epoch 12 --loss 553.253385523198 --accuracy: 0.933 --\n",
      "epoch 13 --loss 513.9640456803779 --accuracy: 0.9370833333333334 --\n",
      "epoch 14 --loss 479.56815136398154 --accuracy: 0.94075 --\n",
      "epoch 15 --loss 449.1270575947205 --accuracy: 0.9434166666666667 --\n",
      "epoch 16 --loss 421.9623361398156 --accuracy: 0.9460833333333334 --\n",
      "epoch 17 --loss 397.5606934733859 --accuracy: 0.94675 --\n",
      "epoch 18 --loss 375.5113344391406 --accuracy: 0.9489166666666666 --\n",
      "epoch 19 --loss 355.47248371300446 --accuracy: 0.94975 --\n",
      "epoch 20 --loss 337.1608521582964 --accuracy: 0.9524166666666667 --\n"
     ]
    }
   ]
  },
  {
   "source": [
    "#### 【問題7】学習曲線のプロット\n",
    "学習曲線をプロットしてください。\n",
    "\n",
    "ニューラルネットワークは過学習が発生しやすいため、学習曲線の確認が重要です。訓練データと検証データに対するエポックごとの損失（交差エントロピー誤差）を記録できるようにする必要があります。"
   ],
   "cell_type": "markdown",
   "metadata": {}
  },
  {
   "cell_type": "code",
   "execution_count": 351,
   "metadata": {},
   "outputs": [],
   "source": [
    "a = np.arange(1,ssnn.epoc+1)"
   ]
  },
  {
   "source": [
    "plt.plot(a,ssnn.loss)\n",
    "plt.plot(a,ssnn.val_loss)"
   ],
   "cell_type": "code",
   "metadata": {},
   "execution_count": 352,
   "outputs": [
    {
     "output_type": "execute_result",
     "data": {
      "text/plain": [
       "[<matplotlib.lines.Line2D at 0x7fd9c36e55b0>]"
      ]
     },
     "metadata": {},
     "execution_count": 352
    },
    {
     "output_type": "display_data",
     "data": {
      "text/plain": "<Figure size 432x288 with 1 Axes>",
      "image/svg+xml": "<?xml version=\"1.0\" encoding=\"utf-8\" standalone=\"no\"?>\n<!DOCTYPE svg PUBLIC \"-//W3C//DTD SVG 1.1//EN\"\n  \"http://www.w3.org/Graphics/SVG/1.1/DTD/svg11.dtd\">\n<!-- Created with matplotlib (https://matplotlib.org/) -->\n<svg height=\"248.518125pt\" version=\"1.1\" viewBox=\"0 0 381.65 248.518125\" width=\"381.65pt\" xmlns=\"http://www.w3.org/2000/svg\" xmlns:xlink=\"http://www.w3.org/1999/xlink\">\n <metadata>\n  <rdf:RDF xmlns:cc=\"http://creativecommons.org/ns#\" xmlns:dc=\"http://purl.org/dc/elements/1.1/\" xmlns:rdf=\"http://www.w3.org/1999/02/22-rdf-syntax-ns#\">\n   <cc:Work>\n    <dc:type rdf:resource=\"http://purl.org/dc/dcmitype/StillImage\"/>\n    <dc:date>2021-03-06T16:46:02.427991</dc:date>\n    <dc:format>image/svg+xml</dc:format>\n    <dc:creator>\n     <cc:Agent>\n      <dc:title>Matplotlib v3.3.4, https://matplotlib.org/</dc:title>\n     </cc:Agent>\n    </dc:creator>\n   </cc:Work>\n  </rdf:RDF>\n </metadata>\n <defs>\n  <style type=\"text/css\">*{stroke-linecap:butt;stroke-linejoin:round;}</style>\n </defs>\n <g id=\"figure_1\">\n  <g id=\"patch_1\">\n   <path d=\"M -0 248.518125 \nL 381.65 248.518125 \nL 381.65 0 \nL -0 0 \nz\n\" style=\"fill:none;\"/>\n  </g>\n  <g id=\"axes_1\">\n   <g id=\"patch_2\">\n    <path d=\"M 39.65 224.64 \nL 374.45 224.64 \nL 374.45 7.2 \nL 39.65 7.2 \nz\n\" style=\"fill:#ffffff;\"/>\n   </g>\n   <g id=\"matplotlib.axis_1\">\n    <g id=\"xtick_1\">\n     <g id=\"line2d_1\">\n      <defs>\n       <path d=\"M 0 0 \nL 0 3.5 \n\" id=\"m5a27d9bb5f\" style=\"stroke:#000000;stroke-width:0.8;\"/>\n      </defs>\n      <g>\n       <use style=\"stroke:#000000;stroke-width:0.8;\" x=\"78.89689\" xlink:href=\"#m5a27d9bb5f\" y=\"224.64\"/>\n      </g>\n     </g>\n     <g id=\"text_1\">\n      <!-- 2.5 -->\n      <g transform=\"translate(70.945327 239.238437)scale(0.1 -0.1)\">\n       <defs>\n        <path d=\"M 19.1875 8.296875 \nL 53.609375 8.296875 \nL 53.609375 0 \nL 7.328125 0 \nL 7.328125 8.296875 \nQ 12.9375 14.109375 22.625 23.890625 \nQ 32.328125 33.6875 34.8125 36.53125 \nQ 39.546875 41.84375 41.421875 45.53125 \nQ 43.3125 49.21875 43.3125 52.78125 \nQ 43.3125 58.59375 39.234375 62.25 \nQ 35.15625 65.921875 28.609375 65.921875 \nQ 23.96875 65.921875 18.8125 64.3125 \nQ 13.671875 62.703125 7.8125 59.421875 \nL 7.8125 69.390625 \nQ 13.765625 71.78125 18.9375 73 \nQ 24.125 74.21875 28.421875 74.21875 \nQ 39.75 74.21875 46.484375 68.546875 \nQ 53.21875 62.890625 53.21875 53.421875 \nQ 53.21875 48.921875 51.53125 44.890625 \nQ 49.859375 40.875 45.40625 35.40625 \nQ 44.1875 33.984375 37.640625 27.21875 \nQ 31.109375 20.453125 19.1875 8.296875 \nz\n\" id=\"DejaVuSans-50\"/>\n        <path d=\"M 10.6875 12.40625 \nL 21 12.40625 \nL 21 0 \nL 10.6875 0 \nz\n\" id=\"DejaVuSans-46\"/>\n        <path d=\"M 10.796875 72.90625 \nL 49.515625 72.90625 \nL 49.515625 64.59375 \nL 19.828125 64.59375 \nL 19.828125 46.734375 \nQ 21.96875 47.46875 24.109375 47.828125 \nQ 26.265625 48.1875 28.421875 48.1875 \nQ 40.625 48.1875 47.75 41.5 \nQ 54.890625 34.8125 54.890625 23.390625 \nQ 54.890625 11.625 47.5625 5.09375 \nQ 40.234375 -1.421875 26.90625 -1.421875 \nQ 22.3125 -1.421875 17.546875 -0.640625 \nQ 12.796875 0.140625 7.71875 1.703125 \nL 7.71875 11.625 \nQ 12.109375 9.234375 16.796875 8.0625 \nQ 21.484375 6.890625 26.703125 6.890625 \nQ 35.15625 6.890625 40.078125 11.328125 \nQ 45.015625 15.765625 45.015625 23.390625 \nQ 45.015625 31 40.078125 35.4375 \nQ 35.15625 39.890625 26.703125 39.890625 \nQ 22.75 39.890625 18.8125 39.015625 \nQ 14.890625 38.140625 10.796875 36.28125 \nz\n\" id=\"DejaVuSans-53\"/>\n       </defs>\n       <use xlink:href=\"#DejaVuSans-50\"/>\n       <use x=\"63.623047\" xlink:href=\"#DejaVuSans-46\"/>\n       <use x=\"95.410156\" xlink:href=\"#DejaVuSans-53\"/>\n      </g>\n     </g>\n    </g>\n    <g id=\"xtick_2\">\n     <g id=\"line2d_2\">\n      <g>\n       <use style=\"stroke:#000000;stroke-width:0.8;\" x=\"118.944737\" xlink:href=\"#m5a27d9bb5f\" y=\"224.64\"/>\n      </g>\n     </g>\n     <g id=\"text_2\">\n      <!-- 5.0 -->\n      <g transform=\"translate(110.993174 239.238437)scale(0.1 -0.1)\">\n       <defs>\n        <path d=\"M 31.78125 66.40625 \nQ 24.171875 66.40625 20.328125 58.90625 \nQ 16.5 51.421875 16.5 36.375 \nQ 16.5 21.390625 20.328125 13.890625 \nQ 24.171875 6.390625 31.78125 6.390625 \nQ 39.453125 6.390625 43.28125 13.890625 \nQ 47.125 21.390625 47.125 36.375 \nQ 47.125 51.421875 43.28125 58.90625 \nQ 39.453125 66.40625 31.78125 66.40625 \nz\nM 31.78125 74.21875 \nQ 44.046875 74.21875 50.515625 64.515625 \nQ 56.984375 54.828125 56.984375 36.375 \nQ 56.984375 17.96875 50.515625 8.265625 \nQ 44.046875 -1.421875 31.78125 -1.421875 \nQ 19.53125 -1.421875 13.0625 8.265625 \nQ 6.59375 17.96875 6.59375 36.375 \nQ 6.59375 54.828125 13.0625 64.515625 \nQ 19.53125 74.21875 31.78125 74.21875 \nz\n\" id=\"DejaVuSans-48\"/>\n       </defs>\n       <use xlink:href=\"#DejaVuSans-53\"/>\n       <use x=\"63.623047\" xlink:href=\"#DejaVuSans-46\"/>\n       <use x=\"95.410156\" xlink:href=\"#DejaVuSans-48\"/>\n      </g>\n     </g>\n    </g>\n    <g id=\"xtick_3\">\n     <g id=\"line2d_3\">\n      <g>\n       <use style=\"stroke:#000000;stroke-width:0.8;\" x=\"158.992584\" xlink:href=\"#m5a27d9bb5f\" y=\"224.64\"/>\n      </g>\n     </g>\n     <g id=\"text_3\">\n      <!-- 7.5 -->\n      <g transform=\"translate(151.041021 239.238437)scale(0.1 -0.1)\">\n       <defs>\n        <path d=\"M 8.203125 72.90625 \nL 55.078125 72.90625 \nL 55.078125 68.703125 \nL 28.609375 0 \nL 18.3125 0 \nL 43.21875 64.59375 \nL 8.203125 64.59375 \nz\n\" id=\"DejaVuSans-55\"/>\n       </defs>\n       <use xlink:href=\"#DejaVuSans-55\"/>\n       <use x=\"63.623047\" xlink:href=\"#DejaVuSans-46\"/>\n       <use x=\"95.410156\" xlink:href=\"#DejaVuSans-53\"/>\n      </g>\n     </g>\n    </g>\n    <g id=\"xtick_4\">\n     <g id=\"line2d_4\">\n      <g>\n       <use style=\"stroke:#000000;stroke-width:0.8;\" x=\"199.040431\" xlink:href=\"#m5a27d9bb5f\" y=\"224.64\"/>\n      </g>\n     </g>\n     <g id=\"text_4\">\n      <!-- 10.0 -->\n      <g transform=\"translate(187.907618 239.238437)scale(0.1 -0.1)\">\n       <defs>\n        <path d=\"M 12.40625 8.296875 \nL 28.515625 8.296875 \nL 28.515625 63.921875 \nL 10.984375 60.40625 \nL 10.984375 69.390625 \nL 28.421875 72.90625 \nL 38.28125 72.90625 \nL 38.28125 8.296875 \nL 54.390625 8.296875 \nL 54.390625 0 \nL 12.40625 0 \nz\n\" id=\"DejaVuSans-49\"/>\n       </defs>\n       <use xlink:href=\"#DejaVuSans-49\"/>\n       <use x=\"63.623047\" xlink:href=\"#DejaVuSans-48\"/>\n       <use x=\"127.246094\" xlink:href=\"#DejaVuSans-46\"/>\n       <use x=\"159.033203\" xlink:href=\"#DejaVuSans-48\"/>\n      </g>\n     </g>\n    </g>\n    <g id=\"xtick_5\">\n     <g id=\"line2d_5\">\n      <g>\n       <use style=\"stroke:#000000;stroke-width:0.8;\" x=\"239.088278\" xlink:href=\"#m5a27d9bb5f\" y=\"224.64\"/>\n      </g>\n     </g>\n     <g id=\"text_5\">\n      <!-- 12.5 -->\n      <g transform=\"translate(227.955465 239.238437)scale(0.1 -0.1)\">\n       <use xlink:href=\"#DejaVuSans-49\"/>\n       <use x=\"63.623047\" xlink:href=\"#DejaVuSans-50\"/>\n       <use x=\"127.246094\" xlink:href=\"#DejaVuSans-46\"/>\n       <use x=\"159.033203\" xlink:href=\"#DejaVuSans-53\"/>\n      </g>\n     </g>\n    </g>\n    <g id=\"xtick_6\">\n     <g id=\"line2d_6\">\n      <g>\n       <use style=\"stroke:#000000;stroke-width:0.8;\" x=\"279.136124\" xlink:href=\"#m5a27d9bb5f\" y=\"224.64\"/>\n      </g>\n     </g>\n     <g id=\"text_6\">\n      <!-- 15.0 -->\n      <g transform=\"translate(268.003312 239.238437)scale(0.1 -0.1)\">\n       <use xlink:href=\"#DejaVuSans-49\"/>\n       <use x=\"63.623047\" xlink:href=\"#DejaVuSans-53\"/>\n       <use x=\"127.246094\" xlink:href=\"#DejaVuSans-46\"/>\n       <use x=\"159.033203\" xlink:href=\"#DejaVuSans-48\"/>\n      </g>\n     </g>\n    </g>\n    <g id=\"xtick_7\">\n     <g id=\"line2d_7\">\n      <g>\n       <use style=\"stroke:#000000;stroke-width:0.8;\" x=\"319.183971\" xlink:href=\"#m5a27d9bb5f\" y=\"224.64\"/>\n      </g>\n     </g>\n     <g id=\"text_7\">\n      <!-- 17.5 -->\n      <g transform=\"translate(308.051159 239.238437)scale(0.1 -0.1)\">\n       <use xlink:href=\"#DejaVuSans-49\"/>\n       <use x=\"63.623047\" xlink:href=\"#DejaVuSans-55\"/>\n       <use x=\"127.246094\" xlink:href=\"#DejaVuSans-46\"/>\n       <use x=\"159.033203\" xlink:href=\"#DejaVuSans-53\"/>\n      </g>\n     </g>\n    </g>\n    <g id=\"xtick_8\">\n     <g id=\"line2d_8\">\n      <g>\n       <use style=\"stroke:#000000;stroke-width:0.8;\" x=\"359.231818\" xlink:href=\"#m5a27d9bb5f\" y=\"224.64\"/>\n      </g>\n     </g>\n     <g id=\"text_8\">\n      <!-- 20.0 -->\n      <g transform=\"translate(348.099006 239.238437)scale(0.1 -0.1)\">\n       <use xlink:href=\"#DejaVuSans-50\"/>\n       <use x=\"63.623047\" xlink:href=\"#DejaVuSans-48\"/>\n       <use x=\"127.246094\" xlink:href=\"#DejaVuSans-46\"/>\n       <use x=\"159.033203\" xlink:href=\"#DejaVuSans-48\"/>\n      </g>\n     </g>\n    </g>\n   </g>\n   <g id=\"matplotlib.axis_2\">\n    <g id=\"ytick_1\">\n     <g id=\"line2d_9\">\n      <defs>\n       <path d=\"M 0 0 \nL -3.5 0 \n\" id=\"m2274cdbbe1\" style=\"stroke:#000000;stroke-width:0.8;\"/>\n      </defs>\n      <g>\n       <use style=\"stroke:#000000;stroke-width:0.8;\" x=\"39.65\" xlink:href=\"#m2274cdbbe1\" y=\"218.158615\"/>\n      </g>\n     </g>\n     <g id=\"text_9\">\n      <!-- 0 -->\n      <g transform=\"translate(26.2875 221.957834)scale(0.1 -0.1)\">\n       <use xlink:href=\"#DejaVuSans-48\"/>\n      </g>\n     </g>\n    </g>\n    <g id=\"ytick_2\">\n     <g id=\"line2d_10\">\n      <g>\n       <use style=\"stroke:#000000;stroke-width:0.8;\" x=\"39.65\" xlink:href=\"#m2274cdbbe1\" y=\"181.810069\"/>\n      </g>\n     </g>\n     <g id=\"text_10\">\n      <!-- 1000 -->\n      <g transform=\"translate(7.2 185.609288)scale(0.1 -0.1)\">\n       <use xlink:href=\"#DejaVuSans-49\"/>\n       <use x=\"63.623047\" xlink:href=\"#DejaVuSans-48\"/>\n       <use x=\"127.246094\" xlink:href=\"#DejaVuSans-48\"/>\n       <use x=\"190.869141\" xlink:href=\"#DejaVuSans-48\"/>\n      </g>\n     </g>\n    </g>\n    <g id=\"ytick_3\">\n     <g id=\"line2d_11\">\n      <g>\n       <use style=\"stroke:#000000;stroke-width:0.8;\" x=\"39.65\" xlink:href=\"#m2274cdbbe1\" y=\"145.461523\"/>\n      </g>\n     </g>\n     <g id=\"text_11\">\n      <!-- 2000 -->\n      <g transform=\"translate(7.2 149.260742)scale(0.1 -0.1)\">\n       <use xlink:href=\"#DejaVuSans-50\"/>\n       <use x=\"63.623047\" xlink:href=\"#DejaVuSans-48\"/>\n       <use x=\"127.246094\" xlink:href=\"#DejaVuSans-48\"/>\n       <use x=\"190.869141\" xlink:href=\"#DejaVuSans-48\"/>\n      </g>\n     </g>\n    </g>\n    <g id=\"ytick_4\">\n     <g id=\"line2d_12\">\n      <g>\n       <use style=\"stroke:#000000;stroke-width:0.8;\" x=\"39.65\" xlink:href=\"#m2274cdbbe1\" y=\"109.112977\"/>\n      </g>\n     </g>\n     <g id=\"text_12\">\n      <!-- 3000 -->\n      <g transform=\"translate(7.2 112.912196)scale(0.1 -0.1)\">\n       <defs>\n        <path d=\"M 40.578125 39.3125 \nQ 47.65625 37.796875 51.625 33 \nQ 55.609375 28.21875 55.609375 21.1875 \nQ 55.609375 10.40625 48.1875 4.484375 \nQ 40.765625 -1.421875 27.09375 -1.421875 \nQ 22.515625 -1.421875 17.65625 -0.515625 \nQ 12.796875 0.390625 7.625 2.203125 \nL 7.625 11.71875 \nQ 11.71875 9.328125 16.59375 8.109375 \nQ 21.484375 6.890625 26.8125 6.890625 \nQ 36.078125 6.890625 40.9375 10.546875 \nQ 45.796875 14.203125 45.796875 21.1875 \nQ 45.796875 27.640625 41.28125 31.265625 \nQ 36.765625 34.90625 28.71875 34.90625 \nL 20.21875 34.90625 \nL 20.21875 43.015625 \nL 29.109375 43.015625 \nQ 36.375 43.015625 40.234375 45.921875 \nQ 44.09375 48.828125 44.09375 54.296875 \nQ 44.09375 59.90625 40.109375 62.90625 \nQ 36.140625 65.921875 28.71875 65.921875 \nQ 24.65625 65.921875 20.015625 65.03125 \nQ 15.375 64.15625 9.8125 62.3125 \nL 9.8125 71.09375 \nQ 15.4375 72.65625 20.34375 73.4375 \nQ 25.25 74.21875 29.59375 74.21875 \nQ 40.828125 74.21875 47.359375 69.109375 \nQ 53.90625 64.015625 53.90625 55.328125 \nQ 53.90625 49.265625 50.4375 45.09375 \nQ 46.96875 40.921875 40.578125 39.3125 \nz\n\" id=\"DejaVuSans-51\"/>\n       </defs>\n       <use xlink:href=\"#DejaVuSans-51\"/>\n       <use x=\"63.623047\" xlink:href=\"#DejaVuSans-48\"/>\n       <use x=\"127.246094\" xlink:href=\"#DejaVuSans-48\"/>\n       <use x=\"190.869141\" xlink:href=\"#DejaVuSans-48\"/>\n      </g>\n     </g>\n    </g>\n    <g id=\"ytick_5\">\n     <g id=\"line2d_13\">\n      <g>\n       <use style=\"stroke:#000000;stroke-width:0.8;\" x=\"39.65\" xlink:href=\"#m2274cdbbe1\" y=\"72.764431\"/>\n      </g>\n     </g>\n     <g id=\"text_13\">\n      <!-- 4000 -->\n      <g transform=\"translate(7.2 76.56365)scale(0.1 -0.1)\">\n       <defs>\n        <path d=\"M 37.796875 64.3125 \nL 12.890625 25.390625 \nL 37.796875 25.390625 \nz\nM 35.203125 72.90625 \nL 47.609375 72.90625 \nL 47.609375 25.390625 \nL 58.015625 25.390625 \nL 58.015625 17.1875 \nL 47.609375 17.1875 \nL 47.609375 0 \nL 37.796875 0 \nL 37.796875 17.1875 \nL 4.890625 17.1875 \nL 4.890625 26.703125 \nz\n\" id=\"DejaVuSans-52\"/>\n       </defs>\n       <use xlink:href=\"#DejaVuSans-52\"/>\n       <use x=\"63.623047\" xlink:href=\"#DejaVuSans-48\"/>\n       <use x=\"127.246094\" xlink:href=\"#DejaVuSans-48\"/>\n       <use x=\"190.869141\" xlink:href=\"#DejaVuSans-48\"/>\n      </g>\n     </g>\n    </g>\n    <g id=\"ytick_6\">\n     <g id=\"line2d_14\">\n      <g>\n       <use style=\"stroke:#000000;stroke-width:0.8;\" x=\"39.65\" xlink:href=\"#m2274cdbbe1\" y=\"36.415885\"/>\n      </g>\n     </g>\n     <g id=\"text_14\">\n      <!-- 5000 -->\n      <g transform=\"translate(7.2 40.215104)scale(0.1 -0.1)\">\n       <use xlink:href=\"#DejaVuSans-53\"/>\n       <use x=\"63.623047\" xlink:href=\"#DejaVuSans-48\"/>\n       <use x=\"127.246094\" xlink:href=\"#DejaVuSans-48\"/>\n       <use x=\"190.869141\" xlink:href=\"#DejaVuSans-48\"/>\n      </g>\n     </g>\n    </g>\n   </g>\n   <g id=\"line2d_15\">\n    <path clip-path=\"url(#pb8f39fda8e)\" d=\"M 54.868182 17.083636 \nL 70.887321 27.894707 \nL 86.906459 107.181859 \nL 102.925598 151.901866 \nL 118.944737 169.060016 \nL 134.963876 178.459347 \nL 150.983014 184.414626 \nL 167.002153 188.806761 \nL 183.021292 192.002089 \nL 199.040431 194.427828 \nL 215.059569 196.392555 \nL 231.078708 198.048659 \nL 247.097847 199.47677 \nL 263.116986 200.72701 \nL 279.136124 201.8335 \nL 295.155263 202.820898 \nL 311.174402 203.707862 \nL 327.193541 204.509324 \nL 343.212679 205.237707 \nL 359.231818 205.903309 \n\" style=\"fill:none;stroke:#1f77b4;stroke-linecap:square;stroke-width:1.5;\"/>\n   </g>\n   <g id=\"line2d_16\">\n    <path clip-path=\"url(#pb8f39fda8e)\" d=\"M 54.868182 167.929846 \nL 70.887321 179.372734 \nL 86.906459 198.121293 \nL 102.925598 203.917635 \nL 118.944737 207.028912 \nL 134.963876 208.799034 \nL 150.983014 210.088001 \nL 167.002153 211.033735 \nL 183.021292 211.719414 \nL 199.040431 212.250111 \nL 215.059569 212.683866 \nL 231.078708 213.04981 \nL 247.097847 213.364854 \nL 263.116986 213.639815 \nL 279.136124 213.882061 \nL 295.155263 214.09699 \nL 311.174402 214.288818 \nL 327.193541 214.460932 \nL 343.212679 214.616056 \nL 359.231818 214.756364 \n\" style=\"fill:none;stroke:#ff7f0e;stroke-linecap:square;stroke-width:1.5;\"/>\n   </g>\n   <g id=\"patch_3\">\n    <path d=\"M 39.65 224.64 \nL 39.65 7.2 \n\" style=\"fill:none;stroke:#000000;stroke-linecap:square;stroke-linejoin:miter;stroke-width:0.8;\"/>\n   </g>\n   <g id=\"patch_4\">\n    <path d=\"M 374.45 224.64 \nL 374.45 7.2 \n\" style=\"fill:none;stroke:#000000;stroke-linecap:square;stroke-linejoin:miter;stroke-width:0.8;\"/>\n   </g>\n   <g id=\"patch_5\">\n    <path d=\"M 39.65 224.64 \nL 374.45 224.64 \n\" style=\"fill:none;stroke:#000000;stroke-linecap:square;stroke-linejoin:miter;stroke-width:0.8;\"/>\n   </g>\n   <g id=\"patch_6\">\n    <path d=\"M 39.65 7.2 \nL 374.45 7.2 \n\" style=\"fill:none;stroke:#000000;stroke-linecap:square;stroke-linejoin:miter;stroke-width:0.8;\"/>\n   </g>\n  </g>\n </g>\n <defs>\n  <clipPath id=\"pb8f39fda8e\">\n   <rect height=\"217.44\" width=\"334.8\" x=\"39.65\" y=\"7.2\"/>\n  </clipPath>\n </defs>\n</svg>\n",
      "image/png": "[encoded data removed]"
     },
     "metadata": {
      "needs_background": "light"
     }
    }
   ]
  },
  {
   "source": [
    "#### 【問題8】（アドバンス課題）誤分類の確認\n",
    "誤分類した画像はどのようなものだったかを確認してください。推定値を用意し、以下のコードを実行してください。\n",
    "\n",
    "《コード》"
   ],
   "cell_type": "markdown",
   "metadata": {}
  },
  {
   "cell_type": "code",
   "execution_count": 371,
   "metadata": {},
   "outputs": [
    {
     "output_type": "execute_result",
     "data": {
      "text/plain": [
       "0.9524166666666667"
      ]
     },
     "metadata": {},
     "execution_count": 371
    }
   ],
   "source": [
    "y_pred = ssnn.predict(X_val)\n",
    "accuracy_score(y_pred,y_val)"
   ]
  },
  {
   "cell_type": "code",
   "execution_count": 372,
   "metadata": {},
   "outputs": [
    {
     "output_type": "display_data",
     "data": {
      "text/plain": "<Figure size 432x432 with 36 Axes>",
      "image/svg+xml": "<?xml version=\"1.0\" encoding=\"utf-8\" standalone=\"no\"?>\n<!DOCTYPE svg PUBLIC \"-//W3C//DTD SVG 1.1//EN\"\n  \"http://www.w3.org/Graphics/SVG/1.1/DTD/svg11.dtd\">\n<!-- Created with matplotlib (https://matplotlib.org/) -->\n<svg height=\"378.618125pt\" version=\"1.1\" viewBox=\"0 0 354.259358 378.618125\" width=\"354.259358pt\" xmlns=\"http://www.w3.org/2000/svg\" xmlns:xlink=\"http://www.w3.org/1999/xlink\">\n <metadata>\n  <rdf:RDF xmlns:cc=\"http://creativecommons.org/ns#\" xmlns:dc=\"http://purl.org/dc/elements/1.1/\" xmlns:rdf=\"http://www.w3.org/1999/02/22-rdf-syntax-ns#\">\n   <cc:Work>\n    <dc:type rdf:resource=\"http://purl.org/dc/dcmitype/StillImage\"/>\n    <dc:date>2021-03-06T16:59:23.112301</dc:date>\n    <dc:format>image/svg+xml</dc:format>\n    <dc:creator>\n     <cc:Agent>\n      <dc:title>Matplotlib v3.3.4, https://matplotlib.org/</dc:title>\n     </cc:Agent>\n    </dc:creator>\n   </cc:Work>\n  </rdf:RDF>\n </metadata>\n <defs>\n  <style type=\"text/css\">*{stroke-linecap:butt;stroke-linejoin:round;}</style>\n </defs>\n <g id=\"figure_1\">\n  <g id=\"patch_1\">\n   <path d=\"M 0 378.618125 \nL 354.259358 378.618125 \nL 354.259358 0 \nL 0 0 \nz\n\" style=\"fill:none;\"/>\n  </g>\n  <g id=\"axes_1\">\n   <g id=\"patch_2\">\n    <path d=\"M 10.7 53.736307 \nL 42.118182 53.736307 \nL 42.118182 22.318125 \nL 10.7 22.318125 \nz\n\" style=\"fill:#ffffff;\"/>\n   </g>\n   <g clip-path=\"url(#p0404e68079)\">\n    <image height=\"32\" id=\"imagef13b510d94\" transform=\"scale(1 -1)translate(0 -32)\" width=\"32\" x=\"10.7\" xlink:href=\"data:image/png;base64,\niVBORw0KGgoAAAANSUhEUgAAACAAAAAgCAYAAABzenr0AAADe0lEQVR4nO1XMUsrWxD+sptdzYbAZiGSWIiaoIWSJo2olViY0kZBERULsbCwsLBIJSL+AKtgldLCQiwE0cJKRIjBIhIlghiyGkx0iYk5ezK3eLzwcoWXzSX32twPphnmfPPt7MzsWRsAwjdC+M7kfwUAgN1yoN2O3t5e+P1+qKqKfD4PwzDqYnRdh67rX/wtEaAoCsLhMGZmZtDT04O7uztkMpm6mOvra1xeXiKZTOLp6QmMMUvcZMU8Hg/FYjHinNeMMUaMMTJNkzjnZBgG3d7eUjQaJb/fb4nXcgVqaolQrVZRKpWQzWYBAC6XC263G4qiIBAIQNM0CIKApaWlhnw2WNwDkiShv78fnZ2dYIwhn88jkUgAAHw+H4LBIJaXlzE2Noa2tjbc399jdHQUr6+vjR/KqomiSJIkkSRJZLfba35BEEiWZdrY2KBUKkWcc8rlcjQxMdGQs6kx5JyDMQbGGEzTrPmr1SoqlQoYY6hWqwAAWZYxODjYkPO37gGHwwGbzfZnBHi9XnR0dEBRFJimiefnZ8TjcRD9f4u1RIDD4cD4+DhCoRBUVUWxWEQ8Hsfx8bGl85ab8Gez2WzkdDppeHiYEokEcc6pUqlQMpmk1dVVqzy/llgURfL5fLS9vU2GYdSW09XVFa2srDTDZz2x2+2mkZERikQidHFxQel0urYFOed0cnJC09PTJIpi6wV0dXVRNBqll5cXen9/p8/PT2KMEeec3t7eaGdnh0KhELW3tzdbUWuBU1NTdH5+Xvct4JxTOp2m+fl58vv9v5Lc+iIqlUrgnH/xu1wuBINBSJJUW0LNwPLHKJVKQdd1MMYgSVLNr6oqJicnUalUcHp6ipubG2Sz2Ybz/19YKpXT6aTNzU16fHz88ho451Qqlejw8JAWFxcpEAiQpmmtn4JwOEwHBwd1iYvFIhmGQeVymUzTpHQ6TbFYjBYWFqxOg3UB3d3dtLW1ReVymTjnZJom7e7uUiQSoaOjI8pkMrWx1HWdvF5vQ86mLiSyLEOWZQjCP73LGEMkEkGhUIDdbofH48Hs7Czm5uawv7+PXC5niddyBTRNo7W1NSoUCsQ5p4+Pj7oyC4JAiqKQpmnkdDpb3wOiKNLQ0BDt7e2RYRi0vr7e9Nz/bJavZP9CVVX09fVhYGAAZ2dneHh4aOb4FzQtoNX49j+jvwJ+AHy+DfSA0Vi4AAAAAElFTkSuQmCC\" y=\"-21.736307\"/>\n   </g>\n   <g id=\"matplotlib.axis_1\"/>\n   <g id=\"matplotlib.axis_2\"/>\n   <g id=\"patch_3\">\n    <path d=\"M 10.7 53.736307 \nL 10.7 22.318125 \n\" style=\"fill:none;stroke:#000000;stroke-linecap:square;stroke-linejoin:miter;stroke-width:0.8;\"/>\n   </g>\n   <g id=\"patch_4\">\n    <path d=\"M 42.118182 53.736307 \nL 42.118182 22.318125 \n\" style=\"fill:none;stroke:#000000;stroke-linecap:square;stroke-linejoin:miter;stroke-width:0.8;\"/>\n   </g>\n   <g id=\"patch_5\">\n    <path d=\"M 10.7 53.736307 \nL 42.118182 53.736307 \n\" style=\"fill:none;stroke:#000000;stroke-linecap:square;stroke-linejoin:miter;stroke-width:0.8;\"/>\n   </g>\n   <g id=\"patch_6\">\n    <path d=\"M 10.7 22.318125 \nL 42.118182 22.318125 \n\" style=\"fill:none;stroke:#000000;stroke-linecap:square;stroke-linejoin:miter;stroke-width:0.8;\"/>\n   </g>\n   <g id=\"text_1\">\n    <!-- 3 / 5 -->\n    <g transform=\"translate(12.939091 16.318125)scale(0.12 -0.12)\">\n     <defs>\n      <path d=\"M 40.578125 39.3125 \nQ 47.65625 37.796875 51.625 33 \nQ 55.609375 28.21875 55.609375 21.1875 \nQ 55.609375 10.40625 48.1875 4.484375 \nQ 40.765625 -1.421875 27.09375 -1.421875 \nQ 22.515625 -1.421875 17.65625 -0.515625 \nQ 12.796875 0.390625 7.625 2.203125 \nL 7.625 11.71875 \nQ 11.71875 9.328125 16.59375 8.109375 \nQ 21.484375 6.890625 26.8125 6.890625 \nQ 36.078125 6.890625 40.9375 10.546875 \nQ 45.796875 14.203125 45.796875 21.1875 \nQ 45.796875 27.640625 41.28125 31.265625 \nQ 36.765625 34.90625 28.71875 34.90625 \nL 20.21875 34.90625 \nL 20.21875 43.015625 \nL 29.109375 43.015625 \nQ 36.375 43.015625 40.234375 45.921875 \nQ 44.09375 48.828125 44.09375 54.296875 \nQ 44.09375 59.90625 40.109375 62.90625 \nQ 36.140625 65.921875 28.71875 65.921875 \nQ 24.65625 65.921875 20.015625 65.03125 \nQ 15.375 64.15625 9.8125 62.3125 \nL 9.8125 71.09375 \nQ 15.4375 72.65625 20.34375 73.4375 \nQ 25.25 74.21875 29.59375 74.21875 \nQ 40.828125 74.21875 47.359375 69.109375 \nQ 53.90625 64.015625 53.90625 55.328125 \nQ 53.90625 49.265625 50.4375 45.09375 \nQ 46.96875 40.921875 40.578125 39.3125 \nz\n\" id=\"DejaVuSans-51\"/>\n      <path id=\"DejaVuSans-32\"/>\n      <path d=\"M 25.390625 72.90625 \nL 33.6875 72.90625 \nL 8.296875 -9.28125 \nL 0 -9.28125 \nz\n\" id=\"DejaVuSans-47\"/>\n      <path d=\"M 10.796875 72.90625 \nL 49.515625 72.90625 \nL 49.515625 64.59375 \nL 19.828125 64.59375 \nL 19.828125 46.734375 \nQ 21.96875 47.46875 24.109375 47.828125 \nQ 26.265625 48.1875 28.421875 48.1875 \nQ 40.625 48.1875 47.75 41.5 \nQ 54.890625 34.8125 54.890625 23.390625 \nQ 54.890625 11.625 47.5625 5.09375 \nQ 40.234375 -1.421875 26.90625 -1.421875 \nQ 22.3125 -1.421875 17.546875 -0.640625 \nQ 12.796875 0.140625 7.71875 1.703125 \nL 7.71875 11.625 \nQ 12.109375 9.234375 16.796875 8.0625 \nQ 21.484375 6.890625 26.703125 6.890625 \nQ 35.15625 6.890625 40.078125 11.328125 \nQ 45.015625 15.765625 45.015625 23.390625 \nQ 45.015625 31 40.078125 35.4375 \nQ 35.15625 39.890625 26.703125 39.890625 \nQ 22.75 39.890625 18.8125 39.015625 \nQ 14.890625 38.140625 10.796875 36.28125 \nz\n\" id=\"DejaVuSans-53\"/>\n     </defs>\n     <use xlink:href=\"#DejaVuSans-51\"/>\n     <use x=\"63.623047\" xlink:href=\"#DejaVuSans-32\"/>\n     <use x=\"95.410156\" xlink:href=\"#DejaVuSans-47\"/>\n     <use x=\"129.101562\" xlink:href=\"#DejaVuSans-32\"/>\n     <use x=\"160.888672\" xlink:href=\"#DejaVuSans-53\"/>\n    </g>\n   </g>\n  </g>\n  <g id=\"axes_2\">\n   <g id=\"patch_7\">\n    <path d=\"M 71.688235 53.736307 \nL 103.106417 53.736307 \nL 103.106417 22.318125 \nL 71.688235 22.318125 \nz\n\" style=\"fill:#ffffff;\"/>\n   </g>\n   <g clip-path=\"url(#pd1212f00c8)\">\n    <image height=\"32\" id=\"image9745520ec2\" transform=\"scale(1 -1)translate(0 -32)\" width=\"32\" x=\"71.688235\" xlink:href=\"data:image/png;base64,\niVBORw0KGgoAAAANSUhEUgAAACAAAAAgCAYAAABzenr0AAAE5ElEQVR4nO1Xz0sUfxh+ZnZ2dZ1FZytaY9dVywyjVLRfh7102EKkULboUHiKQII6duwUUtE/EEGQh5W9Rbh2KUgMD4sJLeUPJKyWzHZmddNZ0Z2Zp0M4Zbq6+v1Cl154DvN+PvO+D+/nmffzjgCA+Ism/s3k/wgAgLSRs6SkBFVVVTh06BCWl5dRVVUFh8Nhr5umicXFRSSTSczPz2N2dhbkzqS0IYFdu3bh4sWLiEQiWFhYwKlTp+B0Ou11wzAwMzODvr4+TE1NYWRkBKqqQtM0LC0tbZsE/0RTUxOTySQNw7CRz+eZz+fX+AzDoKqqfPfuHe/du8fW1lZKkrQu3mbYsAJ/2uLiIkzTBEk4HA5IkoTS0lIIggCv1wuv14sDBw5AURQ8efIEIyMj26rElhVobm5maWkpRVHk3r17GQ6H2dPTw7t379IwDJqmaVfp27dvjMVirK6uLrYK652KovDChQt8+fIlp6amWFdXZ5dWEAQ6nU7KskyPx8OWlhZGo1GqqmqT0DSNAwMDxZJY73Q4HFQUhY2Njezo6GBZWRkFQdgwQElJCZubm3n9+nUODg4yl8txZWWFmqYxFovR7XZvn8AqRFGkoigFk6/C5XIxEAjwypUrfPr0KXO5nH0coVBoU2FuKkLLsjA/P28/y7KM8vJylJWV/RQPiYWFBaiqilQqhefPn8MwDLhcLoRCIXi9XnR1dSGVSiGVSsEwjHU5ivoKRFFEZWUl6uvrcfDgQfh8PpvA9PQ0EokEvn79iu/fv+PFixfI5/Oorq5GfX09urq6MDQ0hGfPnmFubm7D+FsKRVEU3r59m8PDw9Q0jaZp2sqfmZlhLBZjJBJhU1MT/X4/Dx8+zEePHtn7+vv7WVdXt30NrOLMmTMcGxuzA/4OkrQsi6Zpcnp6mvF4nHfu3OHly5ftPclkkkeOHNl5Izp+/Dg8Ho/d7zOZDF69egVVVXHt2jX7OAKBAAKBAMLhsO3byooi0N7eDkVRAAADAwO4f/8+Jicnoes6+vr6AAAulwvnz5/H2bNnEQwGIUm/Qn/+/BkrKys7JzA0NISamhq43W5kMhlMTEwgnU7DsiwkEgkAgCAImJycRDwex+nTp9HW1oZgMIjx8XE8ePAAX7582TmB0dFRdHZ2AgAaGhrQ2dmJaDSKbDaLXC5n79N1HZlMBp8+fcLw8DAURcGePXvw5s0b6LpeMP6WIgyHw3z//j0Nw2A2m2U8Ht9M1TYEQeDNmzdZUVFRsJkVNRFZloV8Pg/LsiDLMmpra3H06FHs3r170/ckScK5c+fg9/vXzBO/W1EEdF3Hx48fMTc3B9M0sW/fPty4cQORSASyLNtX86oJggC32w2/349jx47h5MmT8Hg8BeMXdW3Kssxbt25xbGxszZDS09PD7u5uVlZWUhRFiqJIn8/H7u5uvn79moZh8O3btwX7QNEEAPDEiRN8+PAhl5eX10xFS0tL1DSN6XSa6XSamqYxl8vZ65FIhOXl5f+dgCRJ3L9/P69evcrBwcF1w8jvWE0ejUYZDAYL3ojCKotizel0wuv1oqGhAe3t7RAEAZcuXYLP57Obj2maUFUVvb29ePz4MT58+FCwEW2bAPBLZLW1tQCAxsZGeDweiOJPTZOErusYHR3F+Pg4LMsqHGsnBP5P++t/Rv8I/ABPYrSH7N1xzwAAAABJRU5ErkJggg==\" y=\"-21.736307\"/>\n   </g>\n   <g id=\"matplotlib.axis_3\"/>\n   <g id=\"matplotlib.axis_4\"/>\n   <g id=\"patch_8\">\n    <path d=\"M 71.688235 53.736307 \nL 71.688235 22.318125 \n\" style=\"fill:none;stroke:#000000;stroke-linecap:square;stroke-linejoin:miter;stroke-width:0.8;\"/>\n   </g>\n   <g id=\"patch_9\">\n    <path d=\"M 103.106417 53.736307 \nL 103.106417 22.318125 \n\" style=\"fill:none;stroke:#000000;stroke-linecap:square;stroke-linejoin:miter;stroke-width:0.8;\"/>\n   </g>\n   <g id=\"patch_10\">\n    <path d=\"M 71.688235 53.736307 \nL 103.106417 53.736307 \n\" style=\"fill:none;stroke:#000000;stroke-linecap:square;stroke-linejoin:miter;stroke-width:0.8;\"/>\n   </g>\n   <g id=\"patch_11\">\n    <path d=\"M 71.688235 22.318125 \nL 103.106417 22.318125 \n\" style=\"fill:none;stroke:#000000;stroke-linecap:square;stroke-linejoin:miter;stroke-width:0.8;\"/>\n   </g>\n   <g id=\"text_2\">\n    <!-- 5 / 9 -->\n    <g transform=\"translate(73.927326 16.318125)scale(0.12 -0.12)\">\n     <defs>\n      <path d=\"M 10.984375 1.515625 \nL 10.984375 10.5 \nQ 14.703125 8.734375 18.5 7.8125 \nQ 22.3125 6.890625 25.984375 6.890625 \nQ 35.75 6.890625 40.890625 13.453125 \nQ 46.046875 20.015625 46.78125 33.40625 \nQ 43.953125 29.203125 39.59375 26.953125 \nQ 35.25 24.703125 29.984375 24.703125 \nQ 19.046875 24.703125 12.671875 31.3125 \nQ 6.296875 37.9375 6.296875 49.421875 \nQ 6.296875 60.640625 12.9375 67.421875 \nQ 19.578125 74.21875 30.609375 74.21875 \nQ 43.265625 74.21875 49.921875 64.515625 \nQ 56.59375 54.828125 56.59375 36.375 \nQ 56.59375 19.140625 48.40625 8.859375 \nQ 40.234375 -1.421875 26.421875 -1.421875 \nQ 22.703125 -1.421875 18.890625 -0.6875 \nQ 15.09375 0.046875 10.984375 1.515625 \nz\nM 30.609375 32.421875 \nQ 37.25 32.421875 41.125 36.953125 \nQ 45.015625 41.5 45.015625 49.421875 \nQ 45.015625 57.28125 41.125 61.84375 \nQ 37.25 66.40625 30.609375 66.40625 \nQ 23.96875 66.40625 20.09375 61.84375 \nQ 16.21875 57.28125 16.21875 49.421875 \nQ 16.21875 41.5 20.09375 36.953125 \nQ 23.96875 32.421875 30.609375 32.421875 \nz\n\" id=\"DejaVuSans-57\"/>\n     </defs>\n     <use xlink:href=\"#DejaVuSans-53\"/>\n     <use x=\"63.623047\" xlink:href=\"#DejaVuSans-32\"/>\n     <use x=\"95.410156\" xlink:href=\"#DejaVuSans-47\"/>\n     <use x=\"129.101562\" xlink:href=\"#DejaVuSans-32\"/>\n     <use x=\"160.888672\" xlink:href=\"#DejaVuSans-57\"/>\n    </g>\n   </g>\n  </g>\n  <g id=\"axes_3\">\n   <g id=\"patch_12\">\n    <path d=\"M 132.676471 53.736307 \nL 164.094652 53.736307 \nL 164.094652 22.318125 \nL 132.676471 22.318125 \nz\n\" style=\"fill:#ffffff;\"/>\n   </g>\n   <g clip-path=\"url(#p607c21dcb6)\">\n    <image height=\"32\" id=\"imagea71c365963\" transform=\"scale(1 -1)translate(0 -32)\" width=\"32\" x=\"132.676471\" xlink:href=\"data:image/png;base64,\niVBORw0KGgoAAAANSUhEUgAAACAAAAAgCAYAAABzenr0AAADQElEQVR4nO2Xu0srbRDGn71Ec8UbC0aNQQ3EmMJAllWMFilENCAoNgGbNBYK9v4NYmNpo40pNCA23iqFtQgJuNgImth4CStoooSExLjzdeGcAx+umqPNGZhmdvaZ377M+867DADCDxr7k8UBgP/Ky0ajEbOzs5ienkY2m0UsFsPx8TGy2axujS+tQKVSgaIoOD09RXd3NyKRCCYnJ2E2m3VrfGkFKpUKkskkMpkMjEYjxsfHEQqFkE6nIcuyLo2a9MDd3R02NjYQj8fR1dWFmZkZWCyW7wMAgHQ6jf39fdzf3yMYDMLn830vAADIsgxZlmG1WjEyMvL9ALlcDtfX17i9vYXdbv9+AACoq6sDACQSCV35undBU1MTeJ5HsVhEPp//35zW1lawLItUKlVbgLm5Objdbjw+PiKRSODg4AAvLy+/5Xi9Xvh8PhgMBuRyudoCuFwuTExMgOd59Pf3w2QyYXd3t1rIZrNheHgYTqcTFxcXeHp6qi3A0dERBEGAJEmQJAkOhwOFQgHn5+dgGAY9PT2QJAnPz8/Y2trCw8ODLl0GOqYhz/NgGAZ+vx+hUAhjY2PweDzQNA3xeBwcx6GzsxM3NzeIRqNYX1/H29ub3m8DveeBQIAEQSCO4wgACYJAi4uLVC6XSdM0SiaTtLy8TIFAgMxm87t6f/j7SUtLSxQOh8npdFZjNpuNVlZWSNM0mpqaooaGho8W1g+QSqUoGo3S4OBgNcayLHV0dJCiKLS3t0dut/tTALoOonK5DFEU0dvbWx0ymqZBVVUoigJRFNHW1ob6+no9cr+ZLoDNzU0wDIOBgQF4vd5q/PX1FbFYDJqmob29HVar9e8AbG9v4+zsDB6PB8FgEC0tLdVnsixDVVU0NjbqHsEfBri8vMTOzg44jsPo6CiGhobAcRwAwGKxoFAogOhzd1vdw+jw8BCJRAIulwsLCwtwOByw2WyYn59HX18fVFXVffz+abo71u/30+rqKqmqSldXV7S2tkaZTIaKxSKJovj3tuGvbrfbKRwO08nJCZVKJVJVlSKRCDU3N38KQNdR/KuxLAuDwQCTyQSDwQAiQj6fR6lU+lQffBig1vbjf0b/AP4B/Aeb7LlCG4tbyAAAAABJRU5ErkJggg==\" y=\"-21.736307\"/>\n   </g>\n   <g id=\"matplotlib.axis_5\"/>\n   <g id=\"matplotlib.axis_6\"/>\n   <g id=\"patch_13\">\n    <path d=\"M 132.676471 53.736307 \nL 132.676471 22.318125 \n\" style=\"fill:none;stroke:#000000;stroke-linecap:square;stroke-linejoin:miter;stroke-width:0.8;\"/>\n   </g>\n   <g id=\"patch_14\">\n    <path d=\"M 164.094652 53.736307 \nL 164.094652 22.318125 \n\" style=\"fill:none;stroke:#000000;stroke-linecap:square;stroke-linejoin:miter;stroke-width:0.8;\"/>\n   </g>\n   <g id=\"patch_15\">\n    <path d=\"M 132.676471 53.736307 \nL 164.094652 53.736307 \n\" style=\"fill:none;stroke:#000000;stroke-linecap:square;stroke-linejoin:miter;stroke-width:0.8;\"/>\n   </g>\n   <g id=\"patch_16\">\n    <path d=\"M 132.676471 22.318125 \nL 164.094652 22.318125 \n\" style=\"fill:none;stroke:#000000;stroke-linecap:square;stroke-linejoin:miter;stroke-width:0.8;\"/>\n   </g>\n   <g id=\"text_3\">\n    <!-- 9 / 3 -->\n    <g transform=\"translate(134.915561 16.318125)scale(0.12 -0.12)\">\n     <use xlink:href=\"#DejaVuSans-57\"/>\n     <use x=\"63.623047\" xlink:href=\"#DejaVuSans-32\"/>\n     <use x=\"95.410156\" xlink:href=\"#DejaVuSans-47\"/>\n     <use x=\"129.101562\" xlink:href=\"#DejaVuSans-32\"/>\n     <use x=\"160.888672\" xlink:href=\"#DejaVuSans-51\"/>\n    </g>\n   </g>\n  </g>\n  <g id=\"axes_4\">\n   <g id=\"patch_17\">\n    <path d=\"M 193.664706 53.736307 \nL 225.082888 53.736307 \nL 225.082888 22.318125 \nL 193.664706 22.318125 \nz\n\" style=\"fill:#ffffff;\"/>\n   </g>\n   <g clip-path=\"url(#pef0b06778c)\">\n    <image height=\"32\" id=\"image07f70f95d4\" transform=\"scale(1 -1)translate(0 -32)\" width=\"32\" x=\"193.664706\" xlink:href=\"data:image/png;base64,\niVBORw0KGgoAAAANSUhEUgAAACAAAAAgCAYAAABzenr0AAAC30lEQVR4nO2WP0vzUBTGn6RRbBqsGouIMUqHGpco6Obk4uAgXRRHd+kXUNBBEL+AfgMnJ53chCKICFaNghqkIpaIigoh5pq2Oe/gH5B3aFNLXl7wgUvCvdwnv8s5OedyAAj/UMJPDWRZxvLyMjzPw8bGBvb29lAsFsMB4DgOU1NTGB8fR2NjI0zThGEYeH5+rtqD/wkAESGXy8F1XbS2tiIWiyESiQTy+BEAABwcHODs7Ayu66K9vR2yLIcLUC6XcXx8DMdxoKoquru7wwUAgKurK7iuC0EQIAjB0qouAKZpgjEGxhje3t7CB4hGo+B5HicnJzg9PQ0fYG5uDoqiAHj/M0IF4HkeXV1deHp6wt3dHRzHCbS/5kLE8zxUVcXk5CQ6Ojqwvr6OXC4XOAeA914QeIiiSPPz82SaJh0dHdHY2BhJklSLV/CPRyIR6u3tJcuyyPd9Wl1dJVVVazpITTkQjUbR39+PRCIBAOjs7IQkSYHL8KdqIm9rayPDMMj3ffI8j5aWlqivry+cEOAjDJqmEWOMfN8nxhgtLi6Soij1BxgdHaWJiQnq6en5Ni8IAq2srJDjOOT7PhmGQZlMpr4AiqJQNpulw8NDmp2dJUVRqKGh4Ws9lUrR5eUleZ5Htm3T2toaJRKJqgEq1gFJkqBpGuLxOGZmZjA4OIjz83Ps7+9jd3cX+Xwe29vbmJ6ehizLiMfjEEWxku2XKgK8vr7Csiw0NzdjaGgImqahUChA13W0tLQAACzLAmMMpVIJxWIR5XK5fgD39/fY2tpCOp1GMplELBZDKpVCMpmErusgIuTzeYiiiOvra1xcXMC27aoBgCri1NTURJlMhrLZLD0+PpJt28QYo1KpRJ7nEWOMXl5eaGFh4a9ErTS4j5eqJMsydF3HyMgIBgYGMDw8jJubGzw8PGBzcxM7Ozu4vb0NdPpAAF+bOO7b87MFB23FNQPUU3W5kPwC/AL81wB/APQb8YQAO6xtAAAAAElFTkSuQmCC\" y=\"-21.736307\"/>\n   </g>\n   <g id=\"matplotlib.axis_7\"/>\n   <g id=\"matplotlib.axis_8\"/>\n   <g id=\"patch_18\">\n    <path d=\"M 193.664706 53.736307 \nL 193.664706 22.318125 \n\" style=\"fill:none;stroke:#000000;stroke-linecap:square;stroke-linejoin:miter;stroke-width:0.8;\"/>\n   </g>\n   <g id=\"patch_19\">\n    <path d=\"M 225.082888 53.736307 \nL 225.082888 22.318125 \n\" style=\"fill:none;stroke:#000000;stroke-linecap:square;stroke-linejoin:miter;stroke-width:0.8;\"/>\n   </g>\n   <g id=\"patch_20\">\n    <path d=\"M 193.664706 53.736307 \nL 225.082888 53.736307 \n\" style=\"fill:none;stroke:#000000;stroke-linecap:square;stroke-linejoin:miter;stroke-width:0.8;\"/>\n   </g>\n   <g id=\"patch_21\">\n    <path d=\"M 193.664706 22.318125 \nL 225.082888 22.318125 \n\" style=\"fill:none;stroke:#000000;stroke-linecap:square;stroke-linejoin:miter;stroke-width:0.8;\"/>\n   </g>\n   <g id=\"text_4\">\n    <!-- 7 / 3 -->\n    <g transform=\"translate(195.903797 16.318125)scale(0.12 -0.12)\">\n     <defs>\n      <path d=\"M 8.203125 72.90625 \nL 55.078125 72.90625 \nL 55.078125 68.703125 \nL 28.609375 0 \nL 18.3125 0 \nL 43.21875 64.59375 \nL 8.203125 64.59375 \nz\n\" id=\"DejaVuSans-55\"/>\n     </defs>\n     <use xlink:href=\"#DejaVuSans-55\"/>\n     <use x=\"63.623047\" xlink:href=\"#DejaVuSans-32\"/>\n     <use x=\"95.410156\" xlink:href=\"#DejaVuSans-47\"/>\n     <use x=\"129.101562\" xlink:href=\"#DejaVuSans-32\"/>\n     <use x=\"160.888672\" xlink:href=\"#DejaVuSans-51\"/>\n    </g>\n   </g>\n  </g>\n  <g id=\"axes_5\">\n   <g id=\"patch_22\">\n    <path d=\"M 254.652941 53.736307 \nL 286.071123 53.736307 \nL 286.071123 22.318125 \nL 254.652941 22.318125 \nz\n\" style=\"fill:#ffffff;\"/>\n   </g>\n   <g clip-path=\"url(#p302e501936)\">\n    <image height=\"32\" id=\"image3db49209f5\" transform=\"scale(1 -1)translate(0 -32)\" width=\"32\" x=\"254.652941\" xlink:href=\"data:image/png;base64,\niVBORw0KGgoAAAANSUhEUgAAACAAAAAgCAYAAABzenr0AAACdElEQVR4nO3XvU7rShDA8f9iO/ijcQiCAFYKBwkKIpqUSDS8AE9BgQQtL8Az8BwUdEBBRYNESYOIIhEUPmTFSGDHWc8pjg51snBzdK/uSi5c7MzP4/WOVwHCXxwzfzO5McBxHJrNJicnJxwdHeF53rcQMunl+75sbW1Jr9eT29tbieNYbNueOA4gRhUIgoBWq0W9Xmd9fZ0oinAcx+jpjQC+79Nqtb7ua7XadAFZlnF/fw9Ar9cDQCllBLBNJhVFwdvbGwDX19ecn5/z/v5uBDCqQBiGbG9vIyK8vr5SlqVRcmPAn6GUYmNjA9s2KqQ5IEkSLi8vAWg0GlSrVSzLmh6gKAqen58BWFxcJAxD4yoYAcqyZDgcorUmCAJc1zX+CowAWmsGgwFpmgJQrVanW4E8z3l4eODu7g6AnZ0dwjA0AoDB/g2I53myv78vZVnKYDCQdrttFMcYoJSSer0uWmvRWsvBwYFEUTSdZgQgIiRJQr/fR0QIgsBoHXxrIyqKguPjYz4/P2k0Gkbr4FuAsiy5uLjg5eWFdrvN6uoqs7Oz0wMAdLtdkiSh2WyytrbG/Pz8RPPHemnLy8sADIdDsixDa43jOKRpysfHB3me47oucRwTRRGPj48/C9jb20MpxdPTE51OhzRNWVhY4Orq6ncQ20YpRa1WY25ubuzkYwN2d3dZWVnBdd2vpmNZFlmWAeB5HkopOp0O3W53IoBijHPB5uYmRVFQqVRwXZdKpcLS0hKHh4fEcczZ2Rmnp6fc3NzQ7/cZjUY/C7BtGxH5ajhKKWZmZvB9H8uyyPOcPM8ZjUYT/5yMBfgnx7/zZPQ/4D8F+AXntjZuO3AVgAAAAABJRU5ErkJggg==\" y=\"-21.736307\"/>\n   </g>\n   <g id=\"matplotlib.axis_9\"/>\n   <g id=\"matplotlib.axis_10\"/>\n   <g id=\"patch_23\">\n    <path d=\"M 254.652941 53.736307 \nL 254.652941 22.318125 \n\" style=\"fill:none;stroke:#000000;stroke-linecap:square;stroke-linejoin:miter;stroke-width:0.8;\"/>\n   </g>\n   <g id=\"patch_24\">\n    <path d=\"M 286.071123 53.736307 \nL 286.071123 22.318125 \n\" style=\"fill:none;stroke:#000000;stroke-linecap:square;stroke-linejoin:miter;stroke-width:0.8;\"/>\n   </g>\n   <g id=\"patch_25\">\n    <path d=\"M 254.652941 53.736307 \nL 286.071123 53.736307 \n\" style=\"fill:none;stroke:#000000;stroke-linecap:square;stroke-linejoin:miter;stroke-width:0.8;\"/>\n   </g>\n   <g id=\"patch_26\">\n    <path d=\"M 254.652941 22.318125 \nL 286.071123 22.318125 \n\" style=\"fill:none;stroke:#000000;stroke-linecap:square;stroke-linejoin:miter;stroke-width:0.8;\"/>\n   </g>\n   <g id=\"text_5\">\n    <!-- 1 / 7 -->\n    <g transform=\"translate(256.892032 16.318125)scale(0.12 -0.12)\">\n     <defs>\n      <path d=\"M 12.40625 8.296875 \nL 28.515625 8.296875 \nL 28.515625 63.921875 \nL 10.984375 60.40625 \nL 10.984375 69.390625 \nL 28.421875 72.90625 \nL 38.28125 72.90625 \nL 38.28125 8.296875 \nL 54.390625 8.296875 \nL 54.390625 0 \nL 12.40625 0 \nz\n\" id=\"DejaVuSans-49\"/>\n     </defs>\n     <use xlink:href=\"#DejaVuSans-49\"/>\n     <use x=\"63.623047\" xlink:href=\"#DejaVuSans-32\"/>\n     <use x=\"95.410156\" xlink:href=\"#DejaVuSans-47\"/>\n     <use x=\"129.101562\" xlink:href=\"#DejaVuSans-32\"/>\n     <use x=\"160.888672\" xlink:href=\"#DejaVuSans-55\"/>\n    </g>\n   </g>\n  </g>\n  <g id=\"axes_6\">\n   <g id=\"patch_27\">\n    <path d=\"M 315.641176 53.736307 \nL 347.059358 53.736307 \nL 347.059358 22.318125 \nL 315.641176 22.318125 \nz\n\" style=\"fill:#ffffff;\"/>\n   </g>\n   <g clip-path=\"url(#p810ad540b2)\">\n    <image height=\"32\" id=\"image5016ccaa40\" transform=\"scale(1 -1)translate(0 -32)\" width=\"32\" x=\"315.641176\" xlink:href=\"data:image/png;base64,\niVBORw0KGgoAAAANSUhEUgAAACAAAAAgCAYAAABzenr0AAAC8ElEQVR4nO2WO0srXRSGnxljktFMUgwmBARBVMRo4bVKIdhY2aXJL7AK2Aja+A8EsbSysLAStLEVEQIRL9hYKMYoEqOFBpKQzGWd4qCQE8/J+PlJGl/Yzd5rrffZzN6zlwIILZTaSnMAz1cLKIpCLBZjcXGRnp4ebm5u2N/fZ2dnh2q16qqGfGUEg0HZ3NyUQqEgtVpNHh8fZW9vT+bm5kTTNDc1vgYQDocln89LrVZ7H09PT7K9vS3Dw8NN87/lDIRCIWZmZhgZGWka2/JD+APQcoAv/wf+Jp/PRzKZZHx8HICNjQ2ur6+xLOtrAH19fcTjcaLRKAC6rqNpWkOc1+tlcnKSWCwGwO7uLtls9r8BDAwMMDQ0RGdnJ4ODg0xPT9Pd3f27gMeD3+9HUZS6HEVRMAwDwzAA0DStIcYVgGEYJJNJEokEXV1dtLe3o2kaHs/v1La2NmzbbroJVVU/D6AoCrOzs6RSKQKBQN2a4zgoioJt24gIIv9+VCORCIFAgEqlUg/WFP1/0vLyMvF4vGH+227Bn0qlUhwcHDQH6O3tZXR0FMdxUFWViYkJbm9v8fl8hMNhgsGgK0PLsjg9PeXu7g6AfD7fcAM+BJiammJlZeX9m+q6TjabpVgsouu6K4ByuczZ2Rlra2tcXFwA8PDw4A4gFArR39+P4zh1847joOt6U3OAYrHI0dERh4eHPD8//zPW1RmIRCKujAFKpRJXV1ek0+mm5vDBLXh9feX+/t614Z8qFApkMhnOz89dxTcApNNp1tfXeXl5oVQqfcrctm0KhQKXl5fkcjnXefUtkqpKMBiUsbExmZ+fl0qlItVqta7lehumaYplWWKaptRqNTk+PpaFhQUxDOMzbd3HC4qiiN/vl2g0KktLS5LL5WRra0tWV1fl5ORELMsSy7JERMS2bclkMpJIJKSjo+NTPaXyRvE3qaqK3+9H0zRM08RxHLxe7/tb8CbTNCmXy65b8Tc1Bfhutbwj+gH4AfgFnLqe5ao4OEcAAAAASUVORK5CYII=\" y=\"-21.736307\"/>\n   </g>\n   <g id=\"matplotlib.axis_11\"/>\n   <g id=\"matplotlib.axis_12\"/>\n   <g id=\"patch_28\">\n    <path d=\"M 315.641176 53.736307 \nL 315.641176 22.318125 \n\" style=\"fill:none;stroke:#000000;stroke-linecap:square;stroke-linejoin:miter;stroke-width:0.8;\"/>\n   </g>\n   <g id=\"patch_29\">\n    <path d=\"M 347.059358 53.736307 \nL 347.059358 22.318125 \n\" style=\"fill:none;stroke:#000000;stroke-linecap:square;stroke-linejoin:miter;stroke-width:0.8;\"/>\n   </g>\n   <g id=\"patch_30\">\n    <path d=\"M 315.641176 53.736307 \nL 347.059358 53.736307 \n\" style=\"fill:none;stroke:#000000;stroke-linecap:square;stroke-linejoin:miter;stroke-width:0.8;\"/>\n   </g>\n   <g id=\"patch_31\">\n    <path d=\"M 315.641176 22.318125 \nL 347.059358 22.318125 \n\" style=\"fill:none;stroke:#000000;stroke-linecap:square;stroke-linejoin:miter;stroke-width:0.8;\"/>\n   </g>\n   <g id=\"text_6\">\n    <!-- 9 / 7 -->\n    <g transform=\"translate(317.880267 16.318125)scale(0.12 -0.12)\">\n     <use xlink:href=\"#DejaVuSans-57\"/>\n     <use x=\"63.623047\" xlink:href=\"#DejaVuSans-32\"/>\n     <use x=\"95.410156\" xlink:href=\"#DejaVuSans-47\"/>\n     <use x=\"129.101562\" xlink:href=\"#DejaVuSans-32\"/>\n     <use x=\"160.888672\" xlink:href=\"#DejaVuSans-55\"/>\n    </g>\n   </g>\n  </g>\n  <g id=\"axes_7\">\n   <g id=\"patch_32\">\n    <path d=\"M 10.7 116.57267 \nL 42.118182 116.57267 \nL 42.118182 85.154489 \nL 10.7 85.154489 \nz\n\" style=\"fill:#ffffff;\"/>\n   </g>\n   <g clip-path=\"url(#pdbeb7509d6)\">\n    <image height=\"32\" id=\"image4bfa42654b\" transform=\"scale(1 -1)translate(0 -32)\" width=\"32\" x=\"10.7\" xlink:href=\"data:image/png;base64,\niVBORw0KGgoAAAANSUhEUgAAACAAAAAgCAYAAABzenr0AAADq0lEQVR4nO2XzUtqXRTGHz1Hs7SaZBRW9kUJHtCEQCoqSCMiEGnUMKgcRoOEIBo0qknQtGlBHw6K6h/owxQMo0KyMhOhQVBpahoejusdvY4ut2N1b5O7YI/2s579Y++9FntLABB+MKQ/uTgAsJ9JYhgGarUadrsddrsdxcXFcLvdWF9fx/n5+Z8HyOVySKVSODs7g1arxfj4OKqrq1FaWoqdnR14PB6kUqk/B0BESKVS8Hq9iMViUCqVGBwcxMDAAJRKJaRSKY6OjpBOp8X5fXVUVFTQ0tISBYNBikQitLq6ShzHic3/OgAAqqyspNnZWbq6uqJoNEozMzMklUr/HgAA0mg0NDc3R8lkkiKRCGk0mg9zRN0BhUKB/v5+SCQSXF9fIxgM/lL38PCAw8NDtLe3w2w2o6ioSIy9uDM+ODigWCxGOzs71NfX90tdWVkZTUxMUCgUotvbW6qqqvqeHXh9fcXCwgKmp6fR09MDtVqNrq4uxONxeL3evK6jowM2mw1FRUXY39/H8/Pzh96iAHiex9XVFcLhMEwmE9ra2qBWq5HJZGCxWPK6uro65HI57O3tYW1tDTzPfw8AACQSCbjdbmi1WnR3d6O5uRmCIICIkM1m8xqfz4etrS2cnp6K8hUN8PLygt3dXbAsC41Gg9bWVmSzWWxvbyMajSKXyyGRSODm5gaBQECsLYACS622tpYmJycpmUzS29sbORwOKikp+Ur5Fp5UU1NDi4uLxPM8PT09kdFoJLlc/vcAAJBKpaL5+XkSBIECgUAhrfdzAAaDgaxWa34hhmFIp9NRPB6nWCxGFouFFApFwQCiHyRDQ0MYHh4Gx3EAAEEQEIlE4HK5wLIsxsbGYDQaxdrl40OA8vJyNDY2wmg0oqGhASqVKj/3/v6Ozc1NpNNpdHZ2oqWlBXK5/HsBTCYTRkdHwXEcampqYDAYYLVa0draCqlUCp/Ph5OTEyiVSuj1etTV1RUE8Ns+IJFIoNPp4HA4UFZWBp7nYbPZwHEcjo+P4XK58Pj4iI2NDXAcB7PZjIuLC9zd3YGIREP89pLU19fT3t4e+f1+uri4oHA4TIlEgtLpNHk8HnI6ndTb20uXl5eUTqdpeXmZZDLZnyvDpqYmmpqaIr/fT5lMhgRBoFwulx8rKyuF9oTCa1cikZBMJiO9Xk8jIyN0f39PPM9TKBQip9NJLMuK9/qf4jPBMAxYloVKpQLDMBAEAZlMRvRjFAC+BPAd8eM/o38A/wD+A0r2veCIJb+3AAAAAElFTkSuQmCC\" y=\"-84.57267\"/>\n   </g>\n   <g id=\"matplotlib.axis_13\"/>\n   <g id=\"matplotlib.axis_14\"/>\n   <g id=\"patch_33\">\n    <path d=\"M 10.7 116.57267 \nL 10.7 85.154489 \n\" style=\"fill:none;stroke:#000000;stroke-linecap:square;stroke-linejoin:miter;stroke-width:0.8;\"/>\n   </g>\n   <g id=\"patch_34\">\n    <path d=\"M 42.118182 116.57267 \nL 42.118182 85.154489 \n\" style=\"fill:none;stroke:#000000;stroke-linecap:square;stroke-linejoin:miter;stroke-width:0.8;\"/>\n   </g>\n   <g id=\"patch_35\">\n    <path d=\"M 10.7 116.57267 \nL 42.118182 116.57267 \n\" style=\"fill:none;stroke:#000000;stroke-linecap:square;stroke-linejoin:miter;stroke-width:0.8;\"/>\n   </g>\n   <g id=\"patch_36\">\n    <path d=\"M 10.7 85.154489 \nL 42.118182 85.154489 \n\" style=\"fill:none;stroke:#000000;stroke-linecap:square;stroke-linejoin:miter;stroke-width:0.8;\"/>\n   </g>\n   <g id=\"text_7\">\n    <!-- 8 / 3 -->\n    <g transform=\"translate(12.939091 79.154489)scale(0.12 -0.12)\">\n     <defs>\n      <path d=\"M 31.78125 34.625 \nQ 24.75 34.625 20.71875 30.859375 \nQ 16.703125 27.09375 16.703125 20.515625 \nQ 16.703125 13.921875 20.71875 10.15625 \nQ 24.75 6.390625 31.78125 6.390625 \nQ 38.8125 6.390625 42.859375 10.171875 \nQ 46.921875 13.96875 46.921875 20.515625 \nQ 46.921875 27.09375 42.890625 30.859375 \nQ 38.875 34.625 31.78125 34.625 \nz\nM 21.921875 38.8125 \nQ 15.578125 40.375 12.03125 44.71875 \nQ 8.5 49.078125 8.5 55.328125 \nQ 8.5 64.0625 14.71875 69.140625 \nQ 20.953125 74.21875 31.78125 74.21875 \nQ 42.671875 74.21875 48.875 69.140625 \nQ 55.078125 64.0625 55.078125 55.328125 \nQ 55.078125 49.078125 51.53125 44.71875 \nQ 48 40.375 41.703125 38.8125 \nQ 48.828125 37.15625 52.796875 32.3125 \nQ 56.78125 27.484375 56.78125 20.515625 \nQ 56.78125 9.90625 50.3125 4.234375 \nQ 43.84375 -1.421875 31.78125 -1.421875 \nQ 19.734375 -1.421875 13.25 4.234375 \nQ 6.78125 9.90625 6.78125 20.515625 \nQ 6.78125 27.484375 10.78125 32.3125 \nQ 14.796875 37.15625 21.921875 38.8125 \nz\nM 18.3125 54.390625 \nQ 18.3125 48.734375 21.84375 45.5625 \nQ 25.390625 42.390625 31.78125 42.390625 \nQ 38.140625 42.390625 41.71875 45.5625 \nQ 45.3125 48.734375 45.3125 54.390625 \nQ 45.3125 60.0625 41.71875 63.234375 \nQ 38.140625 66.40625 31.78125 66.40625 \nQ 25.390625 66.40625 21.84375 63.234375 \nQ 18.3125 60.0625 18.3125 54.390625 \nz\n\" id=\"DejaVuSans-56\"/>\n     </defs>\n     <use xlink:href=\"#DejaVuSans-56\"/>\n     <use x=\"63.623047\" xlink:href=\"#DejaVuSans-32\"/>\n     <use x=\"95.410156\" xlink:href=\"#DejaVuSans-47\"/>\n     <use x=\"129.101562\" xlink:href=\"#DejaVuSans-32\"/>\n     <use x=\"160.888672\" xlink:href=\"#DejaVuSans-51\"/>\n    </g>\n   </g>\n  </g>\n  <g id=\"axes_8\">\n   <g id=\"patch_37\">\n    <path d=\"M 71.688235 116.57267 \nL 103.106417 116.57267 \nL 103.106417 85.154489 \nL 71.688235 85.154489 \nz\n\" style=\"fill:#ffffff;\"/>\n   </g>\n   <g clip-path=\"url(#p72c3b3244d)\">\n    <image height=\"32\" id=\"imagef6fed13c83\" transform=\"scale(1 -1)translate(0 -32)\" width=\"32\" x=\"71.688235\" xlink:href=\"data:image/png;base64,\niVBORw0KGgoAAAANSUhEUgAAACAAAAAgCAYAAABzenr0AAAC9ElEQVR4nO2XMUsjURDHf2tiTFaDRnGJkWC0kJhCEZQUNhaLguIH8LvY2SiWtlY29pLCELCSWCgprDRNlFhotnCRjSHx7c4VwnJWt5Gcxx038Irdt++938z+Zx6jAcIftL4/eXhPAfb39ymVSuzu7jI1NRV4XbgXh+fzeVZXV1lYWMC2bWKxWOC1PYlANptldHSUcLh7f3oCoOv6lw7vGcDs7CzRaBQATdMIhULfC7C1tcXY2BgA8XiciYmJ7wU4OTnBsizgQw8bGxvfCzA/P4+u6/6zpmmB1wZWTigUYnl52Q9vNpsF4OjoiOfnZ97f34GPXzA9PU06naZer/cOYGVlhe3tbXK5HCKCYRiICNlslkQi4QtP13WSySSGYfQOIB6Ps76+jmmazMzMfJqbm5ujVqsRjUbRNI3+/n50XQ9cjAJpIJVKkc/nSSaT/jvP83AcB03TyGQyfhpCdxoIBJDJZEilUsRiMUQEpRQvLy/c3t7ieR4AIoKI4LounU7H10QQk1+N09NTsW1blFKilJL7+3vZ29uTZrMpruuK67r+XL1el8PDQwmFQr/cF5BAEYhEIn5YlVJYlkWxWCSXy1GpVFBK+d96nodSCtd1A3nfdR1wXZfX11dqtRqPj48UCgXa7Xa323wdIBKJYBgGi4uLeJ7Hw8PDpwg0m00ajUZvAa6urnAcB/hQ+Pj4OKZpIiJcXFxQrVZ5e3uj0WhweXlJqVQKDBCoDpyfn2OaJiMjIwwMDBCPx1laWmJ4eBjLsiiXyzQaDSzL4uzsjJubm94CVCoVrq+vmZycJJVKEYlESKfTrK2tAWDbNoVCgbu7O6rVKp1OJzAABEgVQDY3N6VYLEqr1fJTTinlp+DBwYHkcrlAe/08At8F5XKZwcFB2u32p+tWRHAch6enJ5rNZleedxUBQIaGhsQ0TTk+PvY939nZkUQiIX19fV17D4hGF42JpmmEw2FisZhf+x3HodVqIfK1/qYrgN9h/05n9B/grwX4AdNhjpKVLMPKAAAAAElFTkSuQmCC\" y=\"-84.57267\"/>\n   </g>\n   <g id=\"matplotlib.axis_15\"/>\n   <g id=\"matplotlib.axis_16\"/>\n   <g id=\"patch_38\">\n    <path d=\"M 71.688235 116.57267 \nL 71.688235 85.154489 \n\" style=\"fill:none;stroke:#000000;stroke-linecap:square;stroke-linejoin:miter;stroke-width:0.8;\"/>\n   </g>\n   <g id=\"patch_39\">\n    <path d=\"M 103.106417 116.57267 \nL 103.106417 85.154489 \n\" style=\"fill:none;stroke:#000000;stroke-linecap:square;stroke-linejoin:miter;stroke-width:0.8;\"/>\n   </g>\n   <g id=\"patch_40\">\n    <path d=\"M 71.688235 116.57267 \nL 103.106417 116.57267 \n\" style=\"fill:none;stroke:#000000;stroke-linecap:square;stroke-linejoin:miter;stroke-width:0.8;\"/>\n   </g>\n   <g id=\"patch_41\">\n    <path d=\"M 71.688235 85.154489 \nL 103.106417 85.154489 \n\" style=\"fill:none;stroke:#000000;stroke-linecap:square;stroke-linejoin:miter;stroke-width:0.8;\"/>\n   </g>\n   <g id=\"text_8\">\n    <!-- 4 / 9 -->\n    <g transform=\"translate(73.927326 79.154489)scale(0.12 -0.12)\">\n     <defs>\n      <path d=\"M 37.796875 64.3125 \nL 12.890625 25.390625 \nL 37.796875 25.390625 \nz\nM 35.203125 72.90625 \nL 47.609375 72.90625 \nL 47.609375 25.390625 \nL 58.015625 25.390625 \nL 58.015625 17.1875 \nL 47.609375 17.1875 \nL 47.609375 0 \nL 37.796875 0 \nL 37.796875 17.1875 \nL 4.890625 17.1875 \nL 4.890625 26.703125 \nz\n\" id=\"DejaVuSans-52\"/>\n     </defs>\n     <use xlink:href=\"#DejaVuSans-52\"/>\n     <use x=\"63.623047\" xlink:href=\"#DejaVuSans-32\"/>\n     <use x=\"95.410156\" xlink:href=\"#DejaVuSans-47\"/>\n     <use x=\"129.101562\" xlink:href=\"#DejaVuSans-32\"/>\n     <use x=\"160.888672\" xlink:href=\"#DejaVuSans-57\"/>\n    </g>\n   </g>\n  </g>\n  <g id=\"axes_9\">\n   <g id=\"patch_42\">\n    <path d=\"M 132.676471 116.57267 \nL 164.094652 116.57267 \nL 164.094652 85.154489 \nL 132.676471 85.154489 \nz\n\" style=\"fill:#ffffff;\"/>\n   </g>\n   <g clip-path=\"url(#p113baa145c)\">\n    <image height=\"32\" id=\"imagec8f2651890\" transform=\"scale(1 -1)translate(0 -32)\" width=\"32\" x=\"132.676471\" xlink:href=\"data:image/png;base64,\niVBORw0KGgoAAAANSUhEUgAAACAAAAAgCAYAAABzenr0AAADY0lEQVR4nO2XzUsybRTGr9F60spGIjBQZAqrTeSihAgqJIigCFqVGzfRB0FSqzbtIojatGod1j8ghNDGTdmixLQWoS0yij5AxDG0VGaud/UEz7ty6pHexXvgbIbhmt99nfucuW8BAPGDofvJj/8nAGq0vFxfX4+BgQFMTExAEAREo1EcHh5CUZRvQbDSFEWRq6urzOVyLBaLPDs748jICOvq6irW+HdqKkG5XEahUMD7+ztqa2vR39+PlZUVdHR0wGAwfGn1mgAKhQKen5/x+PgIABAEAePj41heXoYkSaip0VRR7QAAkEqlcHp6+sezubk5zMzMQJIkzQDAF+rmdDoZj8epKAr9fj9fXl749PREr9dLvV5fvT3wO97e3hCNRiEIApqamrC2toarqytYrVa0tbVV3wGTycTJyUmqqsp0Os2hoSE6nU7abDYajUatetoB9Ho9JUni9fU1VVXl7u4uJUmiIAjVbUMAMBqNsFgsMJvNiMViIImpqSk4HA4YjUatctomoclkQldXF1wuF2w22+cEtNlsGBwcxMPDA5LJJEht/7eK7XK73Tw4OGA+n2exWKSiKJ+ZzWbp8/loNpurVwKXy4Xe3l7IsoxIJIJMJgMAn92wtLSEhYUFNDQ0VMeBxcVFhsNhBoNBiqJIh8NBRVGoqipVVSVJ3t3dcWtrqzoOxGIxJJNJtLe3Y2xsDKlUCuvr68jlciAJkhBFEXa7HTpd5dIV05rNZvp8Pt7f3zMUCtFqtbK1tZXz8/OMx+P8+PhguVzm5eUlR0dH/74DuVwOiUQCiUQCPT09mJ2dhSzLODo6wt7eHi4uLqAoCiwWC9xud0WamtpQVVUkEgkEg0FIkgSPx4ObmxsEg0EEAgEYDAb8+vULnZ2dcDgcFetqahtBEChJEre3t5nNZhmJRDg8PEyTyUS73c6NjQ1ms1kGAoHqTEKSSKVS2NzcRCgUQnd3N3Z2dtDX14dSqYRMJoNSqYR8Pl+R3pcPpbIsw+Px4Pz8HD09Pdjf34fX64XZbMbr6yvC4XDli/pOSpJEv9/PdDr9ORWTySQ9Hk+lGt8D0Ol0bG5u5vT0NE9OTlgoFHh8fMyWlpbK9tRviu+EIAgQRRFWqxWNjY2QZRm3t7cVHdf/CsB34sdvRv8D/DjAP/P+jf02lgYvAAAAAElFTkSuQmCC\" y=\"-84.57267\"/>\n   </g>\n   <g id=\"matplotlib.axis_17\"/>\n   <g id=\"matplotlib.axis_18\"/>\n   <g id=\"patch_43\">\n    <path d=\"M 132.676471 116.57267 \nL 132.676471 85.154489 \n\" style=\"fill:none;stroke:#000000;stroke-linecap:square;stroke-linejoin:miter;stroke-width:0.8;\"/>\n   </g>\n   <g id=\"patch_44\">\n    <path d=\"M 164.094652 116.57267 \nL 164.094652 85.154489 \n\" style=\"fill:none;stroke:#000000;stroke-linecap:square;stroke-linejoin:miter;stroke-width:0.8;\"/>\n   </g>\n   <g id=\"patch_45\">\n    <path d=\"M 132.676471 116.57267 \nL 164.094652 116.57267 \n\" style=\"fill:none;stroke:#000000;stroke-linecap:square;stroke-linejoin:miter;stroke-width:0.8;\"/>\n   </g>\n   <g id=\"patch_46\">\n    <path d=\"M 132.676471 85.154489 \nL 164.094652 85.154489 \n\" style=\"fill:none;stroke:#000000;stroke-linecap:square;stroke-linejoin:miter;stroke-width:0.8;\"/>\n   </g>\n   <g id=\"text_9\">\n    <!-- 8 / 9 -->\n    <g transform=\"translate(134.915561 79.154489)scale(0.12 -0.12)\">\n     <use xlink:href=\"#DejaVuSans-56\"/>\n     <use x=\"63.623047\" xlink:href=\"#DejaVuSans-32\"/>\n     <use x=\"95.410156\" xlink:href=\"#DejaVuSans-47\"/>\n     <use x=\"129.101562\" xlink:href=\"#DejaVuSans-32\"/>\n     <use x=\"160.888672\" xlink:href=\"#DejaVuSans-57\"/>\n    </g>\n   </g>\n  </g>\n  <g id=\"axes_10\">\n   <g id=\"patch_47\">\n    <path d=\"M 193.664706 116.57267 \nL 225.082888 116.57267 \nL 225.082888 85.154489 \nL 193.664706 85.154489 \nz\n\" style=\"fill:#ffffff;\"/>\n   </g>\n   <g clip-path=\"url(#p29ee82fc41)\">\n    <image height=\"32\" id=\"image2ec9e8a771\" transform=\"scale(1 -1)translate(0 -32)\" width=\"32\" x=\"193.664706\" xlink:href=\"data:image/png;base64,\niVBORw0KGgoAAAANSUhEUgAAACAAAAAgCAYAAABzenr0AAADLUlEQVR4nO2Xy0vjUBTGv5hYaG6spQ0V1IIuFN8RhSqooDtF0I3irksRF/ovuHHlRhe6FhShK3Ej4gOEguBjIT5AbYsgKhIwDS2pmqY5s5OZAWeiZepmPjiLC8l3f5xzcm4uB4DwjSr6zs0BQHDy0Pj4OAYHB2HbNra3txGJRKBpWuEA3G43FEWBz+eD3+8Hz/NYXV2Frut5AzgqwfHxMc7Pz2GaJhRFwfDwMOrq6vLe3DHAwcEBdnZ2cH9/D0mSUFNTg66ursIBAMDDwwNSqRQAwOv1ore3t7AAiUQCj4+PyGQykCQJ7e3t4DiucACnp6eIRqNIJBIAgJKSEiwtLYExljcEOQ1ZlmliYoKurq7IsixKp9M0MzNDoig69vg9PjWINE3DyckJ9vf3wXEcGGNobGwEz/OFyQAA8nq9NDAwQNFolGzbptvbW+rs7CS32/3vMwAAuq7j4uICh4eHICIEg0EMDQ2hoqICguBorv2iL50FhmHg8vLyfT06OorW1lZ4PJ6v2H2teQKBANm2TblcjnK5HC0sLFBTU9O/L8FH6u7uRnV19adnAweH/wMjIyMoKysDAKRSKZydnUGWZUQiEZSWloLjONzc3GB5eRmLi4swDMMxhKNU7e7ukq7rpOs6qapKR0dH1N/fT7Ozs3R3d0dvb29kmiatr69TKBRyXALHbWvbNlwuF1wuF4gIjDHMzc3BsiwIggAigiAI6OjowOTkJDRNQzwe/6uvY4C1tTXE43H4fD4wxlBfX4+GhgZkMhkAeB9GsiwjFAqhr6/PEYDjHggEAggGg/B4PJAkCYqiYGxsDIwxVFZWoqio6L0Bk8kkNjc3EQ6H/+rrOAOqqkJV1ff13t4eDMNAeXk5enp6IMsyvF4vJEmCKIpobm5GS0sLYrEYXl5e/uj95YMEAImiSFVVVRQOh2llZYVisRiZpknpdJqur6+pra2NBEH4k0d+AD+H3++n6elpenp6IsuyKJvN0vz8PDHG8v8KnOj5+RlbW1t4fX1FbW0tpqamsLGxAdM0P3zHcRM6Fc/zKC4uhiAIEEURyWQS2Wy2cACf1bffjP4D/Af4AUXq2Eo7HbrpAAAAAElFTkSuQmCC\" y=\"-84.57267\"/>\n   </g>\n   <g id=\"matplotlib.axis_19\"/>\n   <g id=\"matplotlib.axis_20\"/>\n   <g id=\"patch_48\">\n    <path d=\"M 193.664706 116.57267 \nL 193.664706 85.154489 \n\" style=\"fill:none;stroke:#000000;stroke-linecap:square;stroke-linejoin:miter;stroke-width:0.8;\"/>\n   </g>\n   <g id=\"patch_49\">\n    <path d=\"M 225.082888 116.57267 \nL 225.082888 85.154489 \n\" style=\"fill:none;stroke:#000000;stroke-linecap:square;stroke-linejoin:miter;stroke-width:0.8;\"/>\n   </g>\n   <g id=\"patch_50\">\n    <path d=\"M 193.664706 116.57267 \nL 225.082888 116.57267 \n\" style=\"fill:none;stroke:#000000;stroke-linecap:square;stroke-linejoin:miter;stroke-width:0.8;\"/>\n   </g>\n   <g id=\"patch_51\">\n    <path d=\"M 193.664706 85.154489 \nL 225.082888 85.154489 \n\" style=\"fill:none;stroke:#000000;stroke-linecap:square;stroke-linejoin:miter;stroke-width:0.8;\"/>\n   </g>\n   <g id=\"text_10\">\n    <!-- 7 / 1 -->\n    <g transform=\"translate(195.903797 79.154489)scale(0.12 -0.12)\">\n     <use xlink:href=\"#DejaVuSans-55\"/>\n     <use x=\"63.623047\" xlink:href=\"#DejaVuSans-32\"/>\n     <use x=\"95.410156\" xlink:href=\"#DejaVuSans-47\"/>\n     <use x=\"129.101562\" xlink:href=\"#DejaVuSans-32\"/>\n     <use x=\"160.888672\" xlink:href=\"#DejaVuSans-49\"/>\n    </g>\n   </g>\n  </g>\n  <g id=\"axes_11\">\n   <g id=\"patch_52\">\n    <path d=\"M 254.652941 116.57267 \nL 286.071123 116.57267 \nL 286.071123 85.154489 \nL 254.652941 85.154489 \nz\n\" style=\"fill:#ffffff;\"/>\n   </g>\n   <g clip-path=\"url(#pd7929aac5f)\">\n    <image height=\"32\" id=\"imageac574aa298\" transform=\"scale(1 -1)translate(0 -32)\" width=\"32\" x=\"254.652941\" xlink:href=\"data:image/png;base64,\niVBORw0KGgoAAAANSUhEUgAAACAAAAAgCAYAAABzenr0AAADCUlEQVR4nO2WTUtyWxTHf+dFzoumGVkJSZIRTRInUjSogVCTwCbNmjVpHvQB+gjN+g7OrEFBoyhIqIMEkWmRjrTS6niw0PDcwUUvl9u9qM9D3UF/2BxY7HX2b6+91l5bAGy+UeJ3Lv6/AJC7mex0OhkZGcHv9+NwODAMg5eXl68DEAQBSZLo6+sjFAoxNjZGNpvFMAze3t6w7e7TqSsAy7K4u7vDNE0URSEejxOJRABIp9NYltU1APxZBT0NXdftzc1NO5FI2LOzs7au6738p3eA1tjY2LD39/fttbU12+VydeXb1RH8m3Z3d7Esi1gsxsDAADs7Ox37/pYytG2bRCJBKpVC13UmJia+FgDg/f2d09NTcrkcoVDo6wEA8vk8xWIRl8v1awCapjE1NYWiKF0BWJZFvV7H6XT+GsDg4CCrq6vMzc0RDAZxu92I4l9TRVFEkiQEQWjbZFnG4/Hg9Xq7Av+0CjweD4uLi6yvr3NwcEAymcQwDGq1GpIkoSgKqqpimiaNRgNRFPH5fMzMzODz+bi5uekYQOCTdixJEsPDw2xtbRGJRHh8fMTr9eLz+XA6ne3ruFAoYNs2Q0ND7Sglk0m2t7e5vr7uHaAlURSJx+OEw2H29vbIZDI0m010XafRaKCqKv39/QiCQLVa5fn5GUEQGB0dJRKJYJomoihyfHxMtVr9tFf8JwCAoij4/X7i8TiyLJNOpzk7O2vf+63cCAQCrKyssLy8zOTkJK+vr9ze3lIqlfB4PJycnHB4eEg2m6XZbHYOAOBwOPD7/YRCIaLRKMFgkKOjIzKZDOPj40SjUcLhMKqqUigUSKVS7Zyp1+vIsoyiKGiaxtPTE7lcrjuA1k69Xi/T09PEYjHm5+cpl8s8PDy0v8VikXw+z/39PaVS6W8h13Udt9tNvV6nUqm07R33gmazSblc5uLiAk3TWFpaQlEUMpkMhmFwdXVFpVLh4+PjU/9arUatVvuHveMItORwOAgEAiwsLHB5ecn5+XlPD5GeAX63vv1R+gPwA/AD8APwB/2ZXROb1loZAAAAAElFTkSuQmCC\" y=\"-84.57267\"/>\n   </g>\n   <g id=\"matplotlib.axis_21\"/>\n   <g id=\"matplotlib.axis_22\"/>\n   <g id=\"patch_53\">\n    <path d=\"M 254.652941 116.57267 \nL 254.652941 85.154489 \n\" style=\"fill:none;stroke:#000000;stroke-linecap:square;stroke-linejoin:miter;stroke-width:0.8;\"/>\n   </g>\n   <g id=\"patch_54\">\n    <path d=\"M 286.071123 116.57267 \nL 286.071123 85.154489 \n\" style=\"fill:none;stroke:#000000;stroke-linecap:square;stroke-linejoin:miter;stroke-width:0.8;\"/>\n   </g>\n   <g id=\"patch_55\">\n    <path d=\"M 254.652941 116.57267 \nL 286.071123 116.57267 \n\" style=\"fill:none;stroke:#000000;stroke-linecap:square;stroke-linejoin:miter;stroke-width:0.8;\"/>\n   </g>\n   <g id=\"patch_56\">\n    <path d=\"M 254.652941 85.154489 \nL 286.071123 85.154489 \n\" style=\"fill:none;stroke:#000000;stroke-linecap:square;stroke-linejoin:miter;stroke-width:0.8;\"/>\n   </g>\n   <g id=\"text_11\">\n    <!-- 4 / 5 -->\n    <g transform=\"translate(256.892032 79.154489)scale(0.12 -0.12)\">\n     <use xlink:href=\"#DejaVuSans-52\"/>\n     <use x=\"63.623047\" xlink:href=\"#DejaVuSans-32\"/>\n     <use x=\"95.410156\" xlink:href=\"#DejaVuSans-47\"/>\n     <use x=\"129.101562\" xlink:href=\"#DejaVuSans-32\"/>\n     <use x=\"160.888672\" xlink:href=\"#DejaVuSans-53\"/>\n    </g>\n   </g>\n  </g>\n  <g id=\"axes_12\">\n   <g id=\"patch_57\">\n    <path d=\"M 315.641176 116.57267 \nL 347.059358 116.57267 \nL 347.059358 85.154489 \nL 315.641176 85.154489 \nz\n\" style=\"fill:#ffffff;\"/>\n   </g>\n   <g clip-path=\"url(#pa9b14a5793)\">\n    <image height=\"32\" id=\"image2296316df1\" transform=\"scale(1 -1)translate(0 -32)\" width=\"32\" x=\"315.641176\" xlink:href=\"data:image/png;base64,\niVBORw0KGgoAAAANSUhEUgAAACAAAAAgCAYAAABzenr0AAAC/ElEQVR4nO2XTUvjUBSG33xYRVOxEVqVgqiRGChapIIoBbEoggvBjXSnv8K1W3HjxpV7f4ArpS50KaWK2QSEghQX9aPWBkJCc3NmMdgZ6YzTjIbOYg68m3Nv3jw53HMP4QAQ2hh8O1/+TwCIv1sQBAGapiGTyUBRFDw9PeHk5ATX19ewbTt4AFEUMTU1heXlZWQyGVQqFciyjHA4DMMwUK1WYZpmcAAA4HkeCoUCNE3D0NAQ1tfXEY/HcX5+DsMwcHp6+mkA4HsXfKidnR0qlUrkui65rkuWZVE+n6euri7iOO6Pz3+klg7h7e0tyuUyHMcBAIRCISiKgq2tLfT394PjuGArwHEcDQ8P08HBAT0+PhJjjDzPI8YYHR0dUTgc/kwVWiwVz1MikaD9/X1ijDV0eXlJ2WyWIpFIsAAAqKenh1ZXV+n4+LgBUKvVSNd12t7eJkVRgjkDb2FZFnRdx9nZWSPX3d0NVVWhaRr6+vr82AHweRMSER4eHqDrOu7v73+Y8DxUVcX4+DgikUhwAABQr9dRLpdxdXUFjuMaSiQSSCaTiMViwQIwxmCaJu7u7t61n+d5sCzL9zX9V8OoVqshn8/D8zwQUUNjY2MYGRkJHsBxHJRKpXc5SZKQTqcxOzsbPEBvby9mZmaa8sViEcViMXiAarWKi4uLprymaZiYmPDl9eE0/F1IkoRkMgme5+F5XiPPGANjzJeXrwqEQiEMDAxgenoaCwsLTeuCIGB0dBTz8/MQxda+zVcFYrEY5ubmsLS0BFVVG13wFtFoFIuLi3h9fUWhUIDrul8LMDk5iY2NDaysrKCjo+OXeyzLwsvLCwRBaMnTF0Aul4PjOLBtG+l0GoODg0174vE41tbWYNs2dnd3W/L1PcEkSaJUKkXZbJZubm7INE2q1+vkui4ZhkF7e3uUSqW+fhz/LFEUqbOzk2RZps3NTcrlcvT8/EyHh4ckSRKJotiSD/dG8ZmQZRnRaBSSJKFSqfi6jL4E4DPR9j+j/wBtB/gG9TPcmKogyN4AAAAASUVORK5CYII=\" y=\"-84.57267\"/>\n   </g>\n   <g id=\"matplotlib.axis_23\"/>\n   <g id=\"matplotlib.axis_24\"/>\n   <g id=\"patch_58\">\n    <path d=\"M 315.641176 116.57267 \nL 315.641176 85.154489 \n\" style=\"fill:none;stroke:#000000;stroke-linecap:square;stroke-linejoin:miter;stroke-width:0.8;\"/>\n   </g>\n   <g id=\"patch_59\">\n    <path d=\"M 347.059358 116.57267 \nL 347.059358 85.154489 \n\" style=\"fill:none;stroke:#000000;stroke-linecap:square;stroke-linejoin:miter;stroke-width:0.8;\"/>\n   </g>\n   <g id=\"patch_60\">\n    <path d=\"M 315.641176 116.57267 \nL 347.059358 116.57267 \n\" style=\"fill:none;stroke:#000000;stroke-linecap:square;stroke-linejoin:miter;stroke-width:0.8;\"/>\n   </g>\n   <g id=\"patch_61\">\n    <path d=\"M 315.641176 85.154489 \nL 347.059358 85.154489 \n\" style=\"fill:none;stroke:#000000;stroke-linecap:square;stroke-linejoin:miter;stroke-width:0.8;\"/>\n   </g>\n   <g id=\"text_12\">\n    <!-- 7 / 1 -->\n    <g transform=\"translate(317.880267 79.154489)scale(0.12 -0.12)\">\n     <use xlink:href=\"#DejaVuSans-55\"/>\n     <use x=\"63.623047\" xlink:href=\"#DejaVuSans-32\"/>\n     <use x=\"95.410156\" xlink:href=\"#DejaVuSans-47\"/>\n     <use x=\"129.101562\" xlink:href=\"#DejaVuSans-32\"/>\n     <use x=\"160.888672\" xlink:href=\"#DejaVuSans-49\"/>\n    </g>\n   </g>\n  </g>\n  <g id=\"axes_13\">\n   <g id=\"patch_62\">\n    <path d=\"M 10.7 179.409034 \nL 42.118182 179.409034 \nL 42.118182 147.990852 \nL 10.7 147.990852 \nz\n\" style=\"fill:#ffffff;\"/>\n   </g>\n   <g clip-path=\"url(#pc185464ace)\">\n    <image height=\"32\" id=\"imagec07f1e243e\" transform=\"scale(1 -1)translate(0 -32)\" width=\"32\" x=\"10.7\" xlink:href=\"data:image/png;base64,\niVBORw0KGgoAAAANSUhEUgAAACAAAAAgCAYAAABzenr0AAADqElEQVR4nO2XTUtyaxSGL9ttqcwyLcjIiHrpCwL7mESDEIRGJtE/iKCG0awfUMOG1aQ/0KQICmpSaFSDxMTyi0hDykpD+9yZ6T6DA0L10rHyvJ3BuWGP7mevfbFYz1prKwCZH1TBT378f4D/BEBhvgJpNBoKCwuRJImHh4c/D2AymdDpdHg8HnZ2dr4HoFAoAJDl3G9oZ2cnRqMRlUrF3t4emUzmawDd3d1YrVYEQWBjYwObzZZzsNbWViKRCKIokkwmvwZgNBqZmJggk8kwOjrK9vY2W1tb2O12AoEAt7e374IIgkBpaSlKpRK9Xk97ezv7+/tZX6/Xo1KpiEaj3NzcvHpXwZtOODY2xtzcXDb9d3d3JBIJ4vE4fr+fy8vLdwCiKGI2mzEYDESjUZxOJ6FQKOs3Nzej1WqZnp5maWnpYwCj0YjFYkGr1dLW1kZTUxO1tbUIgkAikfhthQuCgE6nQxRFUqkUDw8P2XOpVAqv18vBwQGLi4u4XK6PAZRKJeXl5eh0OlpbW2lpacFsNtPV1UVZWRkA6XSam5sbHh8fCQaD2TTr9XqKi4uJx+N4PB5kWebo6Ai73c7u7i6RSITn5+ePAX6ngYEBxsfH6erqQq1WE4/HsdlsBINBNjc3Aejp6cFisdDQ0IDb7WZqagpZlllbW/vHIpZzeaxWq2yz2eRMJiO73W65t7f3lW8wGOSFhQX54uJCXl5ezikmIOfcitfX1/H5fKTTaTQaDSaT6ZUfDocJhUIkEgkEQUAUxZzi5gzw9PTE7Ows8/PzlJeXMzw8jE6ne3eupKSEX79+YTab8wsAcHh4iN1u5/T0lMrKSkZGRrJdE8DlcuFyudBqtfT39+cf4OXlhfPzc/x+P0qlkr6+vld+IpHg9vaWkpISOjo60Gg0+QUACAQCrK6uIkkS1dXVFBUVZb10Ok06naaoqIi6ujq0Wm3+Aa6urnA6ncRiMaqqqmhqakIQBAAkSUKSJARBQK1Wv4LLGwD8XZAnJyfU1NQwNDSEwWBAFEWi0SgXFxekUqmcY30J4P7+noODAxQKBZOTkwwODlJRUUE4HCYQCBCLxUgmkzlN0W8vJIIgsLKywvX1NQAOh4OZmRnq6+s5Ozv79wGOj4+RJCk7PX0+H36/H8htofk2gMPh4P7+/lW6P7NJfWsrlmUZm832bsJ9Rl8CSCaTBAIBZmdn2dzc/FTVv1VO4/itiouLaWxspKCgAK/X++cB8qkf/zP6cYC/ADZrszxmAfbnAAAAAElFTkSuQmCC\" y=\"-147.409034\"/>\n   </g>\n   <g id=\"matplotlib.axis_25\"/>\n   <g id=\"matplotlib.axis_26\"/>\n   <g id=\"patch_63\">\n    <path d=\"M 10.7 179.409034 \nL 10.7 147.990852 \n\" style=\"fill:none;stroke:#000000;stroke-linecap:square;stroke-linejoin:miter;stroke-width:0.8;\"/>\n   </g>\n   <g id=\"patch_64\">\n    <path d=\"M 42.118182 179.409034 \nL 42.118182 147.990852 \n\" style=\"fill:none;stroke:#000000;stroke-linecap:square;stroke-linejoin:miter;stroke-width:0.8;\"/>\n   </g>\n   <g id=\"patch_65\">\n    <path d=\"M 10.7 179.409034 \nL 42.118182 179.409034 \n\" style=\"fill:none;stroke:#000000;stroke-linecap:square;stroke-linejoin:miter;stroke-width:0.8;\"/>\n   </g>\n   <g id=\"patch_66\">\n    <path d=\"M 10.7 147.990852 \nL 42.118182 147.990852 \n\" style=\"fill:none;stroke:#000000;stroke-linecap:square;stroke-linejoin:miter;stroke-width:0.8;\"/>\n   </g>\n   <g id=\"text_13\">\n    <!-- 2 / 4 -->\n    <g transform=\"translate(12.939091 141.990852)scale(0.12 -0.12)\">\n     <defs>\n      <path d=\"M 19.1875 8.296875 \nL 53.609375 8.296875 \nL 53.609375 0 \nL 7.328125 0 \nL 7.328125 8.296875 \nQ 12.9375 14.109375 22.625 23.890625 \nQ 32.328125 33.6875 34.8125 36.53125 \nQ 39.546875 41.84375 41.421875 45.53125 \nQ 43.3125 49.21875 43.3125 52.78125 \nQ 43.3125 58.59375 39.234375 62.25 \nQ 35.15625 65.921875 28.609375 65.921875 \nQ 23.96875 65.921875 18.8125 64.3125 \nQ 13.671875 62.703125 7.8125 59.421875 \nL 7.8125 69.390625 \nQ 13.765625 71.78125 18.9375 73 \nQ 24.125 74.21875 28.421875 74.21875 \nQ 39.75 74.21875 46.484375 68.546875 \nQ 53.21875 62.890625 53.21875 53.421875 \nQ 53.21875 48.921875 51.53125 44.890625 \nQ 49.859375 40.875 45.40625 35.40625 \nQ 44.1875 33.984375 37.640625 27.21875 \nQ 31.109375 20.453125 19.1875 8.296875 \nz\n\" id=\"DejaVuSans-50\"/>\n     </defs>\n     <use xlink:href=\"#DejaVuSans-50\"/>\n     <use x=\"63.623047\" xlink:href=\"#DejaVuSans-32\"/>\n     <use x=\"95.410156\" xlink:href=\"#DejaVuSans-47\"/>\n     <use x=\"129.101562\" xlink:href=\"#DejaVuSans-32\"/>\n     <use x=\"160.888672\" xlink:href=\"#DejaVuSans-52\"/>\n    </g>\n   </g>\n  </g>\n  <g id=\"axes_14\">\n   <g id=\"patch_67\">\n    <path d=\"M 71.688235 179.409034 \nL 103.106417 179.409034 \nL 103.106417 147.990852 \nL 71.688235 147.990852 \nz\n\" style=\"fill:#ffffff;\"/>\n   </g>\n   <g clip-path=\"url(#p67565d13f3)\">\n    <image height=\"32\" id=\"imagef20ce339d9\" transform=\"scale(1 -1)translate(0 -32)\" width=\"32\" x=\"71.688235\" xlink:href=\"data:image/png;base64,\niVBORw0KGgoAAAANSUhEUgAAACAAAAAgCAYAAABzenr0AAAEbElEQVR4nO2XTUgbWxTH/3dGZ0K0UTNxDKjVGpt0kWADEldqkS60Llq0ghuRLtwp0lIoLq3gskjddFEKWehGcCMIWZlNPrDSKCgt+BGqiGihdYgxnWFmTleG+mpifM+Hb/EOnMVczj3nd++5988dBoBwg8bdZPH/BEDRdSf0er3o6upCVVUV3r17h62trUvn0HV6V1cXRaNRSqVSNDExQaWlpXnj/7UWWK1WjIyMwOFwgONylykIQBAEMMYKLn4WK4oieJ7PG5sXgDEGnufR2dkJSZLAcRw4jssLc7ZaXdcRj8fx/ft3EOW+6RceQofDgZ6eHgwPD+PevXvgOO5ckmQyibdv34KIoCgK5ubmoKoqAMA0TRARNE3D2toajo+PrwbgcrnQ19eHly9fwmazZbfw91XfuXMHk5OT2UJutxuLi4v4/PnzuVz5CucEsFgskCQJ5eXlYIxBURTE43EsLy9DURRUV1fD7/fD7XZDFEXY7XY8e/YMbW1t2NraQkVFBerq6i4tnBOAMYaioiLwPA/TNLGwsIDZ2Vlsb29DVVXYbDaEQiHIsgxZltHS0gLGGCRJQktLC2RZRllZGQDA4/GgtbUV0WgUuq4XBvBXEwQB0WgUqVQqO7axsQHGGOx2O1ZXVwEAdXV1cLvd8Pv98Pv9cDgc8Pl8GBoagmmaSCQSSKfTF9Y4JwyNjY00NjZG3759I1VVyTAMevDgAcmyTIIgFCxEuq7T0dERJRIJevXqFTmdzlxzzg8IgkBer5fev39Pe3t7ZBgGJZNJGh0dpfr6emKM5QXo7u6mWCxG6XSaPnz4QC6Xi2pra3PC/6EDmqZhfX0dL168wNLSEogIt2/fxsDAANrb22G323O2SxRFWK1WiKII0zShKAp2dnawt7cHTdNyzruQjDFGkiRROBwmTdPINE1KpVI0MzNDTU1Nf8Tfv3+fXr9+TYlEgkzTpHQ6TVNTU5fuWE6AM4iKigqampqi7e1tymQydHp6SslkkoLBIN26dSsb29vbS0tLS+dgCwHIK8VEhB8/fuDNmzcYHx9HJBKBYRioqanBo0ePEAwG0d/fj9raWlgsFgiCAJ7nswL0t4ToItvd3UUoFIKmaUgmkwgEAvB6vejo6EBlZSUCgQBUVQXHcVBVFaIoguM4WK1W+Hw+KIqCg4ODC88BO+tDISZJEu7evYvW1lY8ffoUPp8Poiji8PAQX79+RVVVFZxOJ0RRhK7rWFlZwadPnzA/P4+PHz/i5OTkwrxXfnRIkkSDg4MUDofp8PCQdF0n0zTJNE0yDIMMw8h+ZzIZevLkCdlstqsfwnzO8zx5PB6anp6m/f19UhSFfv78+QfA5uYmNTc3k8ViuV6AMy8uLqaGhgbq6+ujUChEp6en5wAWFhbyrf6fA/zuHo+Hnj9/TrFYLNuOx48fXybh1wfA8zyVlZXRw4cPKRaLUSQSIVmW82rBlW5BIcYYQ0lJCerr60FE+PLlCwzDyB1/3QBXtRv/M/of4MYBfgGlhAo/ZXcLowAAAABJRU5ErkJggg==\" y=\"-147.409034\"/>\n   </g>\n   <g id=\"matplotlib.axis_27\"/>\n   <g id=\"matplotlib.axis_28\"/>\n   <g id=\"patch_68\">\n    <path d=\"M 71.688235 179.409034 \nL 71.688235 147.990852 \n\" style=\"fill:none;stroke:#000000;stroke-linecap:square;stroke-linejoin:miter;stroke-width:0.8;\"/>\n   </g>\n   <g id=\"patch_69\">\n    <path d=\"M 103.106417 179.409034 \nL 103.106417 147.990852 \n\" style=\"fill:none;stroke:#000000;stroke-linecap:square;stroke-linejoin:miter;stroke-width:0.8;\"/>\n   </g>\n   <g id=\"patch_70\">\n    <path d=\"M 71.688235 179.409034 \nL 103.106417 179.409034 \n\" style=\"fill:none;stroke:#000000;stroke-linecap:square;stroke-linejoin:miter;stroke-width:0.8;\"/>\n   </g>\n   <g id=\"patch_71\">\n    <path d=\"M 71.688235 147.990852 \nL 103.106417 147.990852 \n\" style=\"fill:none;stroke:#000000;stroke-linecap:square;stroke-linejoin:miter;stroke-width:0.8;\"/>\n   </g>\n   <g id=\"text_14\">\n    <!-- 0 / 4 -->\n    <g transform=\"translate(73.927326 141.990852)scale(0.12 -0.12)\">\n     <defs>\n      <path d=\"M 31.78125 66.40625 \nQ 24.171875 66.40625 20.328125 58.90625 \nQ 16.5 51.421875 16.5 36.375 \nQ 16.5 21.390625 20.328125 13.890625 \nQ 24.171875 6.390625 31.78125 6.390625 \nQ 39.453125 6.390625 43.28125 13.890625 \nQ 47.125 21.390625 47.125 36.375 \nQ 47.125 51.421875 43.28125 58.90625 \nQ 39.453125 66.40625 31.78125 66.40625 \nz\nM 31.78125 74.21875 \nQ 44.046875 74.21875 50.515625 64.515625 \nQ 56.984375 54.828125 56.984375 36.375 \nQ 56.984375 17.96875 50.515625 8.265625 \nQ 44.046875 -1.421875 31.78125 -1.421875 \nQ 19.53125 -1.421875 13.0625 8.265625 \nQ 6.59375 17.96875 6.59375 36.375 \nQ 6.59375 54.828125 13.0625 64.515625 \nQ 19.53125 74.21875 31.78125 74.21875 \nz\n\" id=\"DejaVuSans-48\"/>\n     </defs>\n     <use xlink:href=\"#DejaVuSans-48\"/>\n     <use x=\"63.623047\" xlink:href=\"#DejaVuSans-32\"/>\n     <use x=\"95.410156\" xlink:href=\"#DejaVuSans-47\"/>\n     <use x=\"129.101562\" xlink:href=\"#DejaVuSans-32\"/>\n     <use x=\"160.888672\" xlink:href=\"#DejaVuSans-52\"/>\n    </g>\n   </g>\n  </g>\n  <g id=\"axes_15\">\n   <g id=\"patch_72\">\n    <path d=\"M 132.676471 179.409034 \nL 164.094652 179.409034 \nL 164.094652 147.990852 \nL 132.676471 147.990852 \nz\n\" style=\"fill:#ffffff;\"/>\n   </g>\n   <g clip-path=\"url(#pc3a329c31b)\">\n    <image height=\"32\" id=\"image98e68db6e9\" transform=\"scale(1 -1)translate(0 -32)\" width=\"32\" x=\"132.676471\" xlink:href=\"data:image/png;base64,\niVBORw0KGgoAAAANSUhEUgAAACAAAAAgCAYAAABzenr0AAADEklEQVR4nO2Xv0vrUBTHv4ltiZBi/AFFUBQHFwehi0UEB2cHdSgOKoJ/giLd+qcEFcRBsYhDtwoKgsVBEQLFH0Waxd4oKDHtTXLe0Ndi8dm0ry19wztwIOTm5H5yzv2eeyMAIHTQxE5O/k8A+Lwe6OnpwcbGBkzTxO3tLTRNQz6fbykE1fJoNEqaptHNzQ2pqkrRaJR6e3trxjToPw8KgkBHR0dkWRa5rkuFQoGSySTNz8+TLMstAfAsQTabBeccgUAAfr8fs7OzUBQFhUIBqVQKnHMQNSekmoQTExN0f39PnHNyXbeSiUwmQwsLC6QoCgmC0J4SlF1VVWKMVQDKbts2qaraVDnqkmEymYSu67Btu+q+KIqYm5vD9vY2RkZGIIp/p2pPyr6+PopEInRycvItC8VikXK5HG1tbdHY2Fh7SgCAfD4frays0NnZ2TcI13UpnU7T2toa9ff3t1YFZbNtG6lUCrIsQ5IkhMNhdHV1VcYnJyexuLiI19dXnJ6ewnGc1pXgqw8NDdH6+jpdX1+TaZpVWbAsi3Z2dmh0dLQRZTS+cru7u2lqaorS6XSlSZVd0zSKx+ONdMu/k4/P56Pp6WlKJBLfIJ6fnykWi7UXACi16nA4TIZhVAEwxmh3d5f8fn97AQBQKBSieDxOuVyuAuA4DjHGaHNz0zO+6fMAYwx7e3u4urrC29sbAEAQhMreIQhCzfimAWzbRjabxd3dHQzDqBqTJMkzviUnIs45Hh8fKxkAANd1oeu6507ZsiMZYwyfn58AAMdxYBgGLi4uPOPq6oSiKNaspSAIUBQFkiTBcRzk83mcn5/j4eGhNQCDg4OQZbmq9X61YDCI5eVljI+PI5PJ4Pj4GAcHBzBNs57X15bJ8PAwXV5e0vv7O9m2/UcvFouUSCQoFovRzMxMvfov9ZLfFz+aKIpYWlrC6uoqIpEIBgYGAJTq/PT0hP39fXx8fODw8BC6roNzDs55XV8OAJ4AAKAoCkKhEILBIAKBAIDSKrcsCy8vL3AcB4yxhiZuCKCd1vE/o/8AHQf4BQ0pFigsGuXKAAAAAElFTkSuQmCC\" y=\"-147.409034\"/>\n   </g>\n   <g id=\"matplotlib.axis_29\"/>\n   <g id=\"matplotlib.axis_30\"/>\n   <g id=\"patch_73\">\n    <path d=\"M 132.676471 179.409034 \nL 132.676471 147.990852 \n\" style=\"fill:none;stroke:#000000;stroke-linecap:square;stroke-linejoin:miter;stroke-width:0.8;\"/>\n   </g>\n   <g id=\"patch_74\">\n    <path d=\"M 164.094652 179.409034 \nL 164.094652 147.990852 \n\" style=\"fill:none;stroke:#000000;stroke-linecap:square;stroke-linejoin:miter;stroke-width:0.8;\"/>\n   </g>\n   <g id=\"patch_75\">\n    <path d=\"M 132.676471 179.409034 \nL 164.094652 179.409034 \n\" style=\"fill:none;stroke:#000000;stroke-linecap:square;stroke-linejoin:miter;stroke-width:0.8;\"/>\n   </g>\n   <g id=\"patch_76\">\n    <path d=\"M 132.676471 147.990852 \nL 164.094652 147.990852 \n\" style=\"fill:none;stroke:#000000;stroke-linecap:square;stroke-linejoin:miter;stroke-width:0.8;\"/>\n   </g>\n   <g id=\"text_15\">\n    <!-- 2 / 7 -->\n    <g transform=\"translate(134.915561 141.990852)scale(0.12 -0.12)\">\n     <use xlink:href=\"#DejaVuSans-50\"/>\n     <use x=\"63.623047\" xlink:href=\"#DejaVuSans-32\"/>\n     <use x=\"95.410156\" xlink:href=\"#DejaVuSans-47\"/>\n     <use x=\"129.101562\" xlink:href=\"#DejaVuSans-32\"/>\n     <use x=\"160.888672\" xlink:href=\"#DejaVuSans-55\"/>\n    </g>\n   </g>\n  </g>\n  <g id=\"axes_16\">\n   <g id=\"patch_77\">\n    <path d=\"M 193.664706 179.409034 \nL 225.082888 179.409034 \nL 225.082888 147.990852 \nL 193.664706 147.990852 \nz\n\" style=\"fill:#ffffff;\"/>\n   </g>\n   <g clip-path=\"url(#p851dae93bc)\">\n    <image height=\"32\" id=\"image89c70f5de6\" transform=\"scale(1 -1)translate(0 -32)\" width=\"32\" x=\"193.664706\" xlink:href=\"data:image/png;base64,\niVBORw0KGgoAAAANSUhEUgAAACAAAAAgCAYAAABzenr0AAAEFUlEQVR4nO2XOUgrbRSG30lmROPoHcm4oAhxwQXFBQWtxAUVG7EQLSzs7CVaWIiFSAQRrWxsFIuAICQWQpAERWPAxkKt4hIVlxjXicmomfHcQgz3/pvj/b3Y3ANvM+fjnWe++c6ZMwwAwheG7itv/gcAAFgti+Li4lBRUYGkpCQYDAbExsbi/PwcLpcLiqL8foCSkhL09vYiJycHRqMRgiBga2sL4XAYBwcHkGUZkiRBVdVfgqD3ZLVa6ebmhlRVjUpRFLq6uqKRkRHq7u6mjIwM4jiOGIZ51+8ven+R3W6nu7u7nwB+VDgcpqmpKWpsbCSj0fj7AWRZppOTk7/tyMnJCQ0ODn4I4MNV4PP5MD09jc7OTvT09GB7exuqqoJhGCQnJyM9PR08z2v20wQQiURA9Now7+/v4fV6sbu7C5vNhr6+Pmxvb+Pp6Qkcx6G2thZmsxkGg0EzxLvb1N7eTh6Ph4LBIPn9frLb7dTW1kYAKD4+nrq6uqL5UChEm5ub1NHR8XmvYHl5Gevr6wgEAhBFEdXV1WhoaADLsgiFQlhcXMTKygr8fj9iY2NhMpnQ0NAAjuPe9dYEcH9/D5fLhb29PSiKgri4OBQVFSE3NxcAEAwG4XQ64fV6o/mCggLk5+drsdd2WgVBoOHhYfL5fKSqKoVCIZqenqaEhAQCQAkJCTQ8PEzHx8fR/MzMDLEs+//L8E1paWk0NDT0UyOampoinucJANXV1ZHVao3mA4EAFRcXk16v/5wyvLy8hNPpxPz8PBiGQVJSEkpLS/Ht2zfodDqsra3B7XYDABiGgSAIiI+PB8Mw/+qpGUCn0yExMRGyLGNnZweSJAEAKisrMTg4iMzMTACvJRsOhzU/lGYAo9GI/v5+mM1mSJKEgYEBBINBsCyLsrIy8DwPVVWxurqKyclJzV9JzQAxMTHIzs5GeXk5RFHE0tISxsfHIUkScnJyotePjo7gdrvx/Pz8uQBvkZKSgsLCQiiKgtnZWTgcDvA8j6ysLCQmJoKI8PLyotlPM0AkEoEkSeA4DmVlZaivr4csy5idncXFxQVkWYaqqkhNTUVRUZGmJgRoHEgA4Pr6GhsbGygsLERVVRUsFgsEQYDX64XT6cT+/j4URUFpaSlaW1vBcRyenp40DSkf6gNms5nOzs6in+GFhQVqbm6mmpoaqquro4mJCVJVlR4fH8nhcEQb1X/oQ8MDlZSU0NjYGF1eXkYhIpFIVIqi0PPzMx0eHlJTU9PnDCQ/Sq/XkyiK1NLSQre3t/84IZ2enpLFYqGYmJjPBwBAOp2ORFGk0dFRstls9Pj4SG/h9/tpbm6OTCaTJi/mjeKjodfrUVBQAKPRiLy8PLDs63l+eHjA4eEhPB6PpnL8ZYDPii//M/oD8B0iXDauox3gcAAAAABJRU5ErkJggg==\" y=\"-147.409034\"/>\n   </g>\n   <g id=\"matplotlib.axis_31\"/>\n   <g id=\"matplotlib.axis_32\"/>\n   <g id=\"patch_78\">\n    <path d=\"M 193.664706 179.409034 \nL 193.664706 147.990852 \n\" style=\"fill:none;stroke:#000000;stroke-linecap:square;stroke-linejoin:miter;stroke-width:0.8;\"/>\n   </g>\n   <g id=\"patch_79\">\n    <path d=\"M 225.082888 179.409034 \nL 225.082888 147.990852 \n\" style=\"fill:none;stroke:#000000;stroke-linecap:square;stroke-linejoin:miter;stroke-width:0.8;\"/>\n   </g>\n   <g id=\"patch_80\">\n    <path d=\"M 193.664706 179.409034 \nL 225.082888 179.409034 \n\" style=\"fill:none;stroke:#000000;stroke-linecap:square;stroke-linejoin:miter;stroke-width:0.8;\"/>\n   </g>\n   <g id=\"patch_81\">\n    <path d=\"M 193.664706 147.990852 \nL 225.082888 147.990852 \n\" style=\"fill:none;stroke:#000000;stroke-linecap:square;stroke-linejoin:miter;stroke-width:0.8;\"/>\n   </g>\n   <g id=\"text_16\">\n    <!-- 8 / 0 -->\n    <g transform=\"translate(195.903797 141.990852)scale(0.12 -0.12)\">\n     <use xlink:href=\"#DejaVuSans-56\"/>\n     <use x=\"63.623047\" xlink:href=\"#DejaVuSans-32\"/>\n     <use x=\"95.410156\" xlink:href=\"#DejaVuSans-47\"/>\n     <use x=\"129.101562\" xlink:href=\"#DejaVuSans-32\"/>\n     <use x=\"160.888672\" xlink:href=\"#DejaVuSans-48\"/>\n    </g>\n   </g>\n  </g>\n  <g id=\"axes_17\">\n   <g id=\"patch_82\">\n    <path d=\"M 254.652941 179.409034 \nL 286.071123 179.409034 \nL 286.071123 147.990852 \nL 254.652941 147.990852 \nz\n\" style=\"fill:#ffffff;\"/>\n   </g>\n   <g clip-path=\"url(#p82b3f6f848)\">\n    <image height=\"32\" id=\"image14b82cad26\" transform=\"scale(1 -1)translate(0 -32)\" width=\"32\" x=\"254.652941\" xlink:href=\"data:image/png;base64,\niVBORw0KGgoAAAANSUhEUgAAACAAAAAgCAYAAABzenr0AAADxElEQVR4nO2Wyy97WxTHP/uctqr41TMNjRzqFUI8YyLUayJE4u8xMzEWsw5NRIKBSBMhBo2QUySNeA+kJUTqVUqVavdvcBOJ6BV6f/e6AyvZg7P2yXd91lp7nX0EIPlGU74z+A/A/wLA8KeE0tPTycjIQFEUEokEmZmZAESjUR4eHnh4eCCRSPx5AIPBQGZmJrW1tTQ2NmIymYhEIrS0tCClJBAIsLW1ha7rXF5e8vLy8k5DprqEELK1tVX6fD4ZDofly8uLjMfjSdfExIRsbW19p5FyBcxmM11dXYyOjuJ2u3G73Tw+PvLr1y+MRiN+vx/4qzVTU1P09/eztLSE1+t9W8FUgmdlZVFfX08ikaCnp4doNMrz8zNSSoQQCCGIx+MYjUaGh4ex2+3MzMywu7ubVO/LpVdVVVqtVpmdnZ1032g0yvLycjk+Pi5PTk7kzs6OHBwcTPp+ShWIx+Pc3t6+8SmKgt1uR9M0qqqq6OzsxOl0sr29zfT0NOvr69zd3b3TEvzDu0AIQWlpKRUVFTQ1NVFdXY2maWiaxt7eHi6Xi+XlZcLhcNIxTAlACIHZbCYnJ4f8/Hz6+/vp7u6mpKQEg8HAxcUFm5ubTE5O4vF4PtT6sAVCCIxG4+uzoiivc+9wOOjr66Ozs5OamhpCoRArKyusrq7i8/nQdf1zyfA3FVAUhby8PNra2l59NpuNpqYm2tvbqaqqIpFI4HK5WFtbY3FxkYuLi6Rl/jKA1Wqlt7eXiYkJzGbzq//o6IjT01NCoRAHBweMjIwQiUQAkDK1o5T0MgqHw3g8HsbGxtB1Ha/Xy9XVFVarFVVV8fv9nJ6eYjKZkFKmHBw+aIGqqhQWFmK1WhFCUFxcjNPppLGxkcLCQiwWC0dHR+i6TjAYZHNzk8PDQ66vr7/UhncAmqbhcDjY39/n/Pz8NbuMjAxKSkooKyvDbrdTVFREZWUlZ2dnVFdX8/T0hNfrZWFhgY2NjU8DvJuCgoICnE4nzc3NHB8fE4lE8Pv9nJ+f4/f7CQQCmEwmLBYL9fX1ZGVloaoqQ0NDOBwOIpEI29vbRKPR1ADu7+95fHykp6eHtLQ0hBBsbGzg8/m4vr4mFosRjUa5ubkhEAhQUVGBrut0dHSQnZ2NzWbDYrF8GiDpGVBVldzcXAYGBhgYGMDhcLxmKoQgFosRDAYRQtDQ0MDz8zPBYJC5uTlmZ2dZX18nFoulDpDMbDYbmqbR0NBAXV3dm735+Xm8Xi+hUOjLE/HlT7EQ4p3vXxnD/8q+/a/4B+AH4NsBfgO7l82IOm5HsgAAAABJRU5ErkJggg==\" y=\"-147.409034\"/>\n   </g>\n   <g id=\"matplotlib.axis_33\"/>\n   <g id=\"matplotlib.axis_34\"/>\n   <g id=\"patch_83\">\n    <path d=\"M 254.652941 179.409034 \nL 254.652941 147.990852 \n\" style=\"fill:none;stroke:#000000;stroke-linecap:square;stroke-linejoin:miter;stroke-width:0.8;\"/>\n   </g>\n   <g id=\"patch_84\">\n    <path d=\"M 286.071123 179.409034 \nL 286.071123 147.990852 \n\" style=\"fill:none;stroke:#000000;stroke-linecap:square;stroke-linejoin:miter;stroke-width:0.8;\"/>\n   </g>\n   <g id=\"patch_85\">\n    <path d=\"M 254.652941 179.409034 \nL 286.071123 179.409034 \n\" style=\"fill:none;stroke:#000000;stroke-linecap:square;stroke-linejoin:miter;stroke-width:0.8;\"/>\n   </g>\n   <g id=\"patch_86\">\n    <path d=\"M 254.652941 147.990852 \nL 286.071123 147.990852 \n\" style=\"fill:none;stroke:#000000;stroke-linecap:square;stroke-linejoin:miter;stroke-width:0.8;\"/>\n   </g>\n   <g id=\"text_17\">\n    <!-- 5 / 3 -->\n    <g transform=\"translate(256.892032 141.990852)scale(0.12 -0.12)\">\n     <use xlink:href=\"#DejaVuSans-53\"/>\n     <use x=\"63.623047\" xlink:href=\"#DejaVuSans-32\"/>\n     <use x=\"95.410156\" xlink:href=\"#DejaVuSans-47\"/>\n     <use x=\"129.101562\" xlink:href=\"#DejaVuSans-32\"/>\n     <use x=\"160.888672\" xlink:href=\"#DejaVuSans-51\"/>\n    </g>\n   </g>\n  </g>\n  <g id=\"axes_18\">\n   <g id=\"patch_87\">\n    <path d=\"M 315.641176 179.409034 \nL 347.059358 179.409034 \nL 347.059358 147.990852 \nL 315.641176 147.990852 \nz\n\" style=\"fill:#ffffff;\"/>\n   </g>\n   <g clip-path=\"url(#p907b9ef37a)\">\n    <image height=\"32\" id=\"image2f12534677\" transform=\"scale(1 -1)translate(0 -32)\" width=\"32\" x=\"315.641176\" xlink:href=\"data:image/png;base64,\niVBORw0KGgoAAAANSUhEUgAAACAAAAAgCAYAAABzenr0AAADcElEQVR4nO2Xz0syWxzGn9Ek7aeWSiqKRCiRuyCCDAqhoKggwoxa1Lp1bVr1F7RpEfRjE0G0zQhTijYutIQ2EWlmTdZgKo6GYtp838V7LxcuFxpvSZv3ge9uzjOf85zzPTOHAUD4QUl+8uV/AACgRuyDDMOgs7MTVqsVcrkct7e3iMfjSCQSEASh+gAmkwkulwtOpxNKpRJutxuBQACnp6eIRqNfgiAxtbq6SuFwmEqlEhUKBSqVSlQul2lra4u0Wi1JJBJRPv8u0Qm0t7dDpVLh5uYGl5eXsNlsMJlMmJiYwNvbG9bX13F/f4+Pj4/qJLC7u0vJZJI2Nzeprq6OamtraWBggDiOo3K5TNPT06RUKitOQHQXsCwLnufR0dEBh8OBYrEIv9+P5eVl5PN5GI1GNDc3Vzx70QChUAjPz8+w2WyYnJwEALy/vyMUCiGRSGBhYQF2ux0KhaI6AMFgEJFIBDKZDBaLBUajEQDw+PgIv98PjUaD/v5+dHV1VQeAZVmEQiE8PDxAq9XC4XBAKpUim83i4OAALMvCYDDAbDZXB0AQBASDQVxcXKClpQVOpxNtbW0AALfbjWAwCKlUCr1ej6ampu8HAIBoNIqrqytks1n09fVhZGQEEslvi/PzczQ2NmJ4eBjd3d2V2FbWNiqVimZnZ6lYLJLH4yG1Wk0MwxAAWllZoePjY1paWvr+NvxbPM+DZVnIZDI4HA7Mzc1BLpcDAAKBADKZDIaGhkT7VQwgCAJisRjW1tYgkUgwPz8PvV6Pmpp/DlWGYaoHAAAcx2FnZwdnZ2ewWCxYXFyETqfDy8sLOI6r6MP0vwDe399xd3eHjY0NpFIpjI2NwWq1Ip1O4/r6Gvl8Hr29vdUDAIBisQiv14vDw0MYDAaMjo5Cp9Ph6ekJ6XQag4OD1QUgImQyGWxvbyOZTGJqagrj4+PQaDTI5XLo6elBQ0ODOK+vVGtrK+3v71MqlSKO48jr9dLe3h7F43Gy2+1iPL4GAIDUajUdHR1RLpcjnucpHo8Tz/Pkcrm+/xz4LyWTSfh8PkQiESgUCuh0OhCJv258OQEApFAoaGZmhk5OTkgQBMpkMqISEP1L9pkKhQJ8Ph+USiXMZjPq6+sRi8U+HfdtAMDvpfB4PHh9fYVcLkc4HP50DIO/duJP6cdvRn8AfgFjUBRLyevEowAAAABJRU5ErkJggg==\" y=\"-147.409034\"/>\n   </g>\n   <g id=\"matplotlib.axis_35\"/>\n   <g id=\"matplotlib.axis_36\"/>\n   <g id=\"patch_88\">\n    <path d=\"M 315.641176 179.409034 \nL 315.641176 147.990852 \n\" style=\"fill:none;stroke:#000000;stroke-linecap:square;stroke-linejoin:miter;stroke-width:0.8;\"/>\n   </g>\n   <g id=\"patch_89\">\n    <path d=\"M 347.059358 179.409034 \nL 347.059358 147.990852 \n\" style=\"fill:none;stroke:#000000;stroke-linecap:square;stroke-linejoin:miter;stroke-width:0.8;\"/>\n   </g>\n   <g id=\"patch_90\">\n    <path d=\"M 315.641176 179.409034 \nL 347.059358 179.409034 \n\" style=\"fill:none;stroke:#000000;stroke-linecap:square;stroke-linejoin:miter;stroke-width:0.8;\"/>\n   </g>\n   <g id=\"patch_91\">\n    <path d=\"M 315.641176 147.990852 \nL 347.059358 147.990852 \n\" style=\"fill:none;stroke:#000000;stroke-linecap:square;stroke-linejoin:miter;stroke-width:0.8;\"/>\n   </g>\n   <g id=\"text_18\">\n    <!-- 8 / 0 -->\n    <g transform=\"translate(317.880267 141.990852)scale(0.12 -0.12)\">\n     <use xlink:href=\"#DejaVuSans-56\"/>\n     <use x=\"63.623047\" xlink:href=\"#DejaVuSans-32\"/>\n     <use x=\"95.410156\" xlink:href=\"#DejaVuSans-47\"/>\n     <use x=\"129.101562\" xlink:href=\"#DejaVuSans-32\"/>\n     <use x=\"160.888672\" xlink:href=\"#DejaVuSans-48\"/>\n    </g>\n   </g>\n  </g>\n  <g id=\"axes_19\">\n   <g id=\"patch_92\">\n    <path d=\"M 10.7 242.245398 \nL 42.118182 242.245398 \nL 42.118182 210.827216 \nL 10.7 210.827216 \nz\n\" style=\"fill:#ffffff;\"/>\n   </g>\n   <g clip-path=\"url(#p3fe35d6a9e)\">\n    <image height=\"32\" id=\"image0401bc2345\" transform=\"scale(1 -1)translate(0 -32)\" width=\"32\" x=\"10.7\" xlink:href=\"data:image/png;base64,\niVBORw0KGgoAAAANSUhEUgAAACAAAAAgCAYAAABzenr0AAAE80lEQVR4nO1XTWgTWxg9N2Y6pklsGBIcBq1WtC2kkmqtlGotiO6k6EIqIi1YxJU7F4K7LnShIG4EqVhF3RR/40oxiIq2G2ukFm0JbZQ41pgxOGlNm3TmvMWjBV8bk+p7uHkHvtX9vnvOd+beb2YEAOIPwvEnyf8XAADO3yl2uVyoqalBVVUVfD4fTNPE5OQkcrkcMpkMTNPE+Pg48vn8vydACAGXywVVVbFhwwbs2bMHwWAQmqZB13UYhgHbtpFMJpFKpRCJRBCPx5FKpTAzMwPyxzMvsIRb4HA44PV6UVdXh66uLuzduxfJZBLXr19HMpmEJEnw+/2orKzE2rVrUVlZCYfDgb6+Pty6dQsjIyPIZDIL9mWpoWkajx07xnfv3tE0TZ47d45+v59CiAW5Qgj6fD52dnZS13UODQ3x0KFDdLvd/8wtjby2tpbnz5/nq1evGA6H2dzcvCjxYkICgQAfPXrESCTCjo6OpQvYvHkzI5EI379/z97eXjY0NNDpdJbsnBCC27Zt4+3bt3nt2jUGg8H5taLXUNM0nD59GmvWrEE4HEZvby+Gh4cxOztbrHQeJDEzMwNJkqCqKlatWjW/VlRATU0NNm3ahP7+foTDYUSjUUxPT5dMPof169dDlmV8+PABsVisNAFCCFRXV4MkHjx4gMHBQZimuWRyv9+P1tZWWJaFaDSKeDw+v1Z0DlRUVGB6ehqJRALZbBZutxsejwcejwcAIEkS8vk8LMuCYRgLrpnH48Hu3buxfft2DAwM4OXLl7AsqzQBJDE8PIzy8nLs2LFjnjAUCiEUCoEk/H7/PPG9e/fQ39+PqakpWJYFWZbR0tKCU6dOIZFI4O7duxgYGPiBo+ggWrFiBe7cuYOtW7fC7XYjn89D13U8fvwYX79+nc+rqqqCy+VCNBpFX18f3r59i7a2Nly8eBGxWAyHDx/GmzdvFm/0Z1FfX8/R0VHmcjnatk1d13nhwgUKIRbE/v37ef/+fb548YJtbW28ceMGT5w4QZ/PV3BmFHRACIFAIICnT59CkiScPXsWX758wdTUFMbGxjAyMrKgRpZlNDY24uDBgwiFQjhw4AAMw0A2m13wDijqgCzLbG9vp67rbG9vp6ZprKiooNfrZVlZWUHHVFXl0aNH+fnzZ+7atavokCp4CB0OBxRFgWEYeP78OSYmJmDbdsEu5rB8+XIoigJJkrBs2bKi+QXnAElks1mUl5fD5/PB6fxbqxBi0Y3dbjcURUFdXR1CoRCi0SjGx8eLCijogG3bSKfTWL16NZqbm/Hp0ycYhoFAIABVVRGPxzE7OwvLsqCqKmpra+H1erFx40ZIkoTLly9jdHT01wWQhGEY+PbtG1paWvDkyROk02m0traio6MDly5dQjqdxvfv39HZ2YmdO3dicnISDx8+RHd3N16/fl2UfJ6rUAghePz4cWYyGZ48eZLr1q3jli1b2NPTQ8uyaNs2M5kMr169yqamJiqK8tMDWiB+nqAoCp89e8ZUKsUzZ84wGAxy5cqV7Orq4pUrV9jU1ERZlpdKWnwOzEEIgWAwiO7ubjQ2NiKRSGBwcBCapsE0TRw5cgS5XK5ku5f0COZClmU2NDSwp6eHY2NjjMVivHnzJvft2/fLnZfswBzKyspQX1+P6upqOJ1OfPz4EUNDQ5iYmPit7pf0Vfxf4I//Gf0v4C+fsOTk2FEnHAAAAABJRU5ErkJggg==\" y=\"-210.245398\"/>\n   </g>\n   <g id=\"matplotlib.axis_37\"/>\n   <g id=\"matplotlib.axis_38\"/>\n   <g id=\"patch_93\">\n    <path d=\"M 10.7 242.245398 \nL 10.7 210.827216 \n\" style=\"fill:none;stroke:#000000;stroke-linecap:square;stroke-linejoin:miter;stroke-width:0.8;\"/>\n   </g>\n   <g id=\"patch_94\">\n    <path d=\"M 42.118182 242.245398 \nL 42.118182 210.827216 \n\" style=\"fill:none;stroke:#000000;stroke-linecap:square;stroke-linejoin:miter;stroke-width:0.8;\"/>\n   </g>\n   <g id=\"patch_95\">\n    <path d=\"M 10.7 242.245398 \nL 42.118182 242.245398 \n\" style=\"fill:none;stroke:#000000;stroke-linecap:square;stroke-linejoin:miter;stroke-width:0.8;\"/>\n   </g>\n   <g id=\"patch_96\">\n    <path d=\"M 10.7 210.827216 \nL 42.118182 210.827216 \n\" style=\"fill:none;stroke:#000000;stroke-linecap:square;stroke-linejoin:miter;stroke-width:0.8;\"/>\n   </g>\n   <g id=\"text_19\">\n    <!-- 0 / 8 -->\n    <g transform=\"translate(12.939091 204.827216)scale(0.12 -0.12)\">\n     <use xlink:href=\"#DejaVuSans-48\"/>\n     <use x=\"63.623047\" xlink:href=\"#DejaVuSans-32\"/>\n     <use x=\"95.410156\" xlink:href=\"#DejaVuSans-47\"/>\n     <use x=\"129.101562\" xlink:href=\"#DejaVuSans-32\"/>\n     <use x=\"160.888672\" xlink:href=\"#DejaVuSans-56\"/>\n    </g>\n   </g>\n  </g>\n  <g id=\"axes_20\">\n   <g id=\"patch_97\">\n    <path d=\"M 71.688235 242.245398 \nL 103.106417 242.245398 \nL 103.106417 210.827216 \nL 71.688235 210.827216 \nz\n\" style=\"fill:#ffffff;\"/>\n   </g>\n   <g clip-path=\"url(#p8acbb30e56)\">\n    <image height=\"32\" id=\"imagef728e866ff\" transform=\"scale(1 -1)translate(0 -32)\" width=\"32\" x=\"71.688235\" xlink:href=\"data:image/png;base64,\niVBORw0KGgoAAAANSUhEUgAAACAAAAAgCAYAAABzenr0AAADRElEQVR4nO2Wz0rrWhTGvx2SWgeNpTqQolgsiNS5irQ6cepEcKpv4EQfwHfQF2in6kypIiooLVVUdCCm2kysoKZo02KxbbKzzuCQHnt67m16vT1/4HywCOydrPXbO/tbbAaA8Asl/MrifwF+CwDR6Yt9fX2QZRnVahXv7+/weDwAgHw+D845dF2HaZrtA1hcXEQkEsHT0xNub28xMTEBANje3kahUMDe3h40TYNhGDBNE0TkCIjBgQ0ZY0gkEhgdHa0bAwAigmEYeHx8xPX1NZLJJM7Pz1EsFpFKpRwtjprF/Pw8ZTIZMk2zFpxz4pzXjdlRLpcpm83SwsJC09xNAbq7u2lnZ4cKhUKtKOecLMsiIqobs8U5J8Mw6OXlhQRB+Nf8TV3AGENHRwcEof5VIgJR/d+zLAuWZQEABEGALMuYmpqCJEn/mL/pIXx7e4Oqqnh9fUU2m4XL5UIoFILP5wNjDMFgEC6XqwZrw9nPbDYLzvl/ByiXyzg+Poau67i7u4MkSQiFQujp6QFjDJFIBG63G263G8PDw/D7/QAAzjkURYGqqg071RIAABweHuL5+RmVSgUAcHV1VZs7OjpCf38/AoEAPB4P/H4/GGOoVqvY3d1tmttRJ7y/v68Vt8UYg8fjwcPDAwKBAGZnZzE0NFQ7K6ZpNl29LSdWaQiv10sbGxs/tGalUqFMJkPhcPjzNvw+RFGkkZERikajDX3ABlAUhebm5pzmdF5ckiQKh8MUjUapVCo1AJRKJVIUhVZXV6m3t/f/BwgGg7SyskK5XK7WeD42olgsRjMzMzQwMECiKDrb0aYn5IM6Ozvh8/ng8/kAfPP76ekptra2sL+/j5ubGxQKBcc5WwKwRURgjIGIkM/nsbm5iVgsBk3TWs716QuJrutQFAWcc0iS1NCy2w4QCASwtLSEyclJDA4Ooqur6+cCAEAkEsH6+jrW1tYwPT398wE+o5YAVFVFPB5HPB7/4bymacjlci0BtOSCcrmMk5OTrx+KIsbGxiDLcm3+7OwMFxcX7QOwbZdKpWAYBsbHx7G8vAzGGJLJJC4vL1EsFtsH8BHi4OAA6XQaXq8XAJBIJJBOp1tN5+xW3E79WS5oh74ACNOKDm+n2rUAAAAASUVORK5CYII=\" y=\"-210.245398\"/>\n   </g>\n   <g id=\"matplotlib.axis_39\"/>\n   <g id=\"matplotlib.axis_40\"/>\n   <g id=\"patch_98\">\n    <path d=\"M 71.688235 242.245398 \nL 71.688235 210.827216 \n\" style=\"fill:none;stroke:#000000;stroke-linecap:square;stroke-linejoin:miter;stroke-width:0.8;\"/>\n   </g>\n   <g id=\"patch_99\">\n    <path d=\"M 103.106417 242.245398 \nL 103.106417 210.827216 \n\" style=\"fill:none;stroke:#000000;stroke-linecap:square;stroke-linejoin:miter;stroke-width:0.8;\"/>\n   </g>\n   <g id=\"patch_100\">\n    <path d=\"M 71.688235 242.245398 \nL 103.106417 242.245398 \n\" style=\"fill:none;stroke:#000000;stroke-linecap:square;stroke-linejoin:miter;stroke-width:0.8;\"/>\n   </g>\n   <g id=\"patch_101\">\n    <path d=\"M 71.688235 210.827216 \nL 103.106417 210.827216 \n\" style=\"fill:none;stroke:#000000;stroke-linecap:square;stroke-linejoin:miter;stroke-width:0.8;\"/>\n   </g>\n   <g id=\"text_20\">\n    <!-- 8 / 5 -->\n    <g transform=\"translate(73.927326 204.827216)scale(0.12 -0.12)\">\n     <use xlink:href=\"#DejaVuSans-56\"/>\n     <use x=\"63.623047\" xlink:href=\"#DejaVuSans-32\"/>\n     <use x=\"95.410156\" xlink:href=\"#DejaVuSans-47\"/>\n     <use x=\"129.101562\" xlink:href=\"#DejaVuSans-32\"/>\n     <use x=\"160.888672\" xlink:href=\"#DejaVuSans-53\"/>\n    </g>\n   </g>\n  </g>\n  <g id=\"axes_21\">\n   <g id=\"patch_102\">\n    <path d=\"M 132.676471 242.245398 \nL 164.094652 242.245398 \nL 164.094652 210.827216 \nL 132.676471 210.827216 \nz\n\" style=\"fill:#ffffff;\"/>\n   </g>\n   <g clip-path=\"url(#pf843a7fd96)\">\n    <image height=\"32\" id=\"image7fdb5aa860\" transform=\"scale(1 -1)translate(0 -32)\" width=\"32\" x=\"132.676471\" xlink:href=\"data:image/png;base64,\niVBORw0KGgoAAAANSUhEUgAAACAAAAAgCAYAAABzenr0AAADGUlEQVR4nO2Xv0sjURDHPy8/MIlZMf4qLDSoWBhBFCwiImJhoZjG0n9AsLIRLC0txV4sLAJKCBiwi8FGIxIDoiIoxFiJxk2ikpDdzbvqcud5J4nx9IobmGbfvO9+mJ2ZfU8Aki8001e+/D/APwFgKTfQbDbjdDqpra3FZrPhcDhwOBykUikMw3gRq2kamUwGwzAwDINCoVA9QHNzM16vl4GBAbq6uujp6cHj8RAMBslkMkj5o5lSqRSRSIRsNsv9/T2Xl5evIH82WY6vrKzIZDIpDcOQuq5LTdNKbhjGb59rmib9fr9UFOWPumVnoKamhnw+z9HREYeHh1xdXeH3+wE4OTmhoaGB09NTNjY22NnZYXR0lPPzc2KxGE9PT29ql5UBRVFkY2OjdLlc0ul0SrvdLoUQUgghb29vpWEYcnt7W/p8Pmk2m6XdbpdWq1UKId7ULTsDj4+Pf1wTQiCEoFgslgovl8uVpVt1G46MjGC1WpFSkk6nSafTFe2vCkAIgcfjwWw2A7zohA8DMJlMdHR0oCgKJtPLcCkld3d3FItFAOrr66mrq/tYALvdztLSEl6v97fioVDozUFTNYDD4WB8fJzFxUUGBwdfrefz+XelvmwAVVWJRCL09fUxNDREa2vraxGTqdQJv36mqgF0XWd1dZVkMsns7CwLCwuvIIrFIlJKpJSlevgwAIDj42MCgQAPDw8MDw8zPT2NxVL2CKke4Pn5mWAwyMXFBW63m6mpKcbGxj4PAODs7IxwOEwikaC3t5eZmRncbvfnAei6TigUYmtri0KhwMTEBD6fD4vFgqqq6LqO0+lEUZS/AwCQSCTY3d0lEolgs9mYm5ujvb2dvb09MpkM3d3ddHZ2VgRQcSVFo1FUVcXlcjE5OUkgECAajaLrOrFYjHg8/ncBAG5ublheXqa/vx+Px0NTUxMul+s9Uu/7GeVyOeLxOPPz8+i6TktLC1ar9fMAvkOEw2E2NzfRNA0hxOcCSClRVZX19XWur69LJ+FsNluRTtXjbH9/n7W1Ndra2jg4OCCZTFa0X/D/cvrF9g0QGptYrCupRwAAAABJRU5ErkJggg==\" y=\"-210.245398\"/>\n   </g>\n   <g id=\"matplotlib.axis_41\"/>\n   <g id=\"matplotlib.axis_42\"/>\n   <g id=\"patch_103\">\n    <path d=\"M 132.676471 242.245398 \nL 132.676471 210.827216 \n\" style=\"fill:none;stroke:#000000;stroke-linecap:square;stroke-linejoin:miter;stroke-width:0.8;\"/>\n   </g>\n   <g id=\"patch_104\">\n    <path d=\"M 164.094652 242.245398 \nL 164.094652 210.827216 \n\" style=\"fill:none;stroke:#000000;stroke-linecap:square;stroke-linejoin:miter;stroke-width:0.8;\"/>\n   </g>\n   <g id=\"patch_105\">\n    <path d=\"M 132.676471 242.245398 \nL 164.094652 242.245398 \n\" style=\"fill:none;stroke:#000000;stroke-linecap:square;stroke-linejoin:miter;stroke-width:0.8;\"/>\n   </g>\n   <g id=\"patch_106\">\n    <path d=\"M 132.676471 210.827216 \nL 164.094652 210.827216 \n\" style=\"fill:none;stroke:#000000;stroke-linecap:square;stroke-linejoin:miter;stroke-width:0.8;\"/>\n   </g>\n   <g id=\"text_21\">\n    <!-- 5 / 1 -->\n    <g transform=\"translate(134.915561 204.827216)scale(0.12 -0.12)\">\n     <use xlink:href=\"#DejaVuSans-53\"/>\n     <use x=\"63.623047\" xlink:href=\"#DejaVuSans-32\"/>\n     <use x=\"95.410156\" xlink:href=\"#DejaVuSans-47\"/>\n     <use x=\"129.101562\" xlink:href=\"#DejaVuSans-32\"/>\n     <use x=\"160.888672\" xlink:href=\"#DejaVuSans-49\"/>\n    </g>\n   </g>\n  </g>\n  <g id=\"axes_22\">\n   <g id=\"patch_107\">\n    <path d=\"M 193.664706 242.245398 \nL 225.082888 242.245398 \nL 225.082888 210.827216 \nL 193.664706 210.827216 \nz\n\" style=\"fill:#ffffff;\"/>\n   </g>\n   <g clip-path=\"url(#p8f7458c14b)\">\n    <image height=\"32\" id=\"imagec3df31222f\" transform=\"scale(1 -1)translate(0 -32)\" width=\"32\" x=\"193.664706\" xlink:href=\"data:image/png;base64,\niVBORw0KGgoAAAANSUhEUgAAACAAAAAgCAYAAABzenr0AAAEAklEQVR4nO2XzUtyXxDHv0crRVOzGxm9UBSEmfRCSRCtomhTCNF/kLSRFi36B1oGLaJFi6BVUkSk4LoWtmiTJIQgRFSIvajXtKuWpnd+qy5PqWXP0482Dczi3jNz5nPmnjNzLgNA+EGR/WTwXwAAqPiuiRobG6FUKqXnfD6P6+vr7weQyWRQq9UwGAwAAI7jAAAWiwU6nU6yy2az8Hg84HkeqVQK0WgULy8v/wZQWVkJjuNgsVhgs9nAGMPU1NSHPm63Gz6fD1tbW7i8vCwKQeXq+Pg47e3t0XsRRbGkvsrBwQGNjY0VzFl2BsxmM+x2O6xWKwAgk8nA7XZLq8xms2/sGWNobm7G/Pw8mpqaMDo6ilwuB41GA6fT+fUMNDQ00Pb2NhER+Xw+6unpIa1WS1qtlpRKJSkUigJVqVTEcRw5HA56eHigTCZDq6urf5cBnudxfn6Om5sbMMYAAI+Pj5/6pdNprK2toa+vDyaTCVVVVW/GywZ4eXnB/v4+eJ6HVqvF7e1tua54fHxEPp8vOlYSgDEGlUoFg8GAq6sriKIIn8+HUCgEjuMQiUTKBhgYGEB1dTUEQYAgCJ8DVFRUgOM4DA0Nobu7G4eHh7i4uEA8HkckEvlS8NraWkxPT4PjOPj9fvj9/gKbgg1XX19PCwsL0hG6vb0lu91OnZ2dpFarSS6Xl7VxVSoVzc7OkiAI9Pz8TAsLC6TT6d7bFToODw8XnHUioouLC1pZWSGz2UyMsZKBGWOkVqtpcXFRqgUOh4OGhoaK2X8MEAwGyeVyEc/zUtEJh8O0ublZMGF7eztZrVZaXl6mYDAoBV9fX6e2trZSwB8DuFwuampqorq6OrLZbOTxeEgURXp6eqJYLEb39/eSRqNRisfjlEqlKJ/PkyiKNDc3RxzHkUwmKwpQdBOm02kEAgEYjUbU1NQgmUwikUjA6XQiEAhgcHAQZrMZs7OzBb43Nzc4OztDKBTCxsYGzs/PEYvFQFT84lUUIB6P4/j4GEajEUajERzHIZlMgud5eL1eXF1d4ejoCCcnJwW+iUQC4XAYiUSi6HgxKUiLTqejmZkZEgSBiIiWlpZoZGSEWltbSaPRFE1lY2Mj9fb2kslkIr1eX3aDYyhxKa2pqcHOzg4mJiYAALu7u/B6vVI5fi8WiwVdXV1Ip9PweDxSo/qrDAAgmUxGLS0tFIlE6Pn5+U1r/UyOjo7KzkDJO6EoiggGg+jv74fD4QDP8yCiNyqt4I93giB8qVKW/ARvjBgDYwzt7e3o6OiAXq+HQqHA5OQkAMDr9eL09BTJZBLJZBL39/e4u7v7PoBXkcvlkMvlEtBra83lcsjlclIW8vl8yWP3TwD/h/z4f8EvwC/Af1ZjKWK8a5FNAAAAAElFTkSuQmCC\" y=\"-210.245398\"/>\n   </g>\n   <g id=\"matplotlib.axis_43\"/>\n   <g id=\"matplotlib.axis_44\"/>\n   <g id=\"patch_108\">\n    <path d=\"M 193.664706 242.245398 \nL 193.664706 210.827216 \n\" style=\"fill:none;stroke:#000000;stroke-linecap:square;stroke-linejoin:miter;stroke-width:0.8;\"/>\n   </g>\n   <g id=\"patch_109\">\n    <path d=\"M 225.082888 242.245398 \nL 225.082888 210.827216 \n\" style=\"fill:none;stroke:#000000;stroke-linecap:square;stroke-linejoin:miter;stroke-width:0.8;\"/>\n   </g>\n   <g id=\"patch_110\">\n    <path d=\"M 193.664706 242.245398 \nL 225.082888 242.245398 \n\" style=\"fill:none;stroke:#000000;stroke-linecap:square;stroke-linejoin:miter;stroke-width:0.8;\"/>\n   </g>\n   <g id=\"patch_111\">\n    <path d=\"M 193.664706 210.827216 \nL 225.082888 210.827216 \n\" style=\"fill:none;stroke:#000000;stroke-linecap:square;stroke-linejoin:miter;stroke-width:0.8;\"/>\n   </g>\n   <g id=\"text_22\">\n    <!-- 0 / 5 -->\n    <g transform=\"translate(195.903797 204.827216)scale(0.12 -0.12)\">\n     <use xlink:href=\"#DejaVuSans-48\"/>\n     <use x=\"63.623047\" xlink:href=\"#DejaVuSans-32\"/>\n     <use x=\"95.410156\" xlink:href=\"#DejaVuSans-47\"/>\n     <use x=\"129.101562\" xlink:href=\"#DejaVuSans-32\"/>\n     <use x=\"160.888672\" xlink:href=\"#DejaVuSans-53\"/>\n    </g>\n   </g>\n  </g>\n  <g id=\"axes_23\">\n   <g id=\"patch_112\">\n    <path d=\"M 254.652941 242.245398 \nL 286.071123 242.245398 \nL 286.071123 210.827216 \nL 254.652941 210.827216 \nz\n\" style=\"fill:#ffffff;\"/>\n   </g>\n   <g clip-path=\"url(#pc929763db4)\">\n    <image height=\"32\" id=\"imageb9ecc2bc14\" transform=\"scale(1 -1)translate(0 -32)\" width=\"32\" x=\"254.652941\" xlink:href=\"data:image/png;base64,\niVBORw0KGgoAAAANSUhEUgAAACAAAAAgCAYAAABzenr0AAADjUlEQVR4nO2Wy0t6WxTHvx3TgykW1jnaA0qjB5QQGQ1rEj1HQUGT+g8KnDZtktCs/6AmRpaBDaJ5Tno/NCQrpccxXxV5fB11/QaX672B2eU+6A5csCZ7vT7stffauwIA4QeF+cniZYAyQBngfwFQ+XeC5HI5amtrUVlZCZ7nEYlEEAwGwTAMZDIZstks0un0vwtgNBoxMTGBrq4uKBQKcBwHuVwOnU6HUCgEQRAKAIIgwOFw4ODg4J8DcByHoaEhDAwMoL+/HzzPAwBUKhUAQKPRIJlMIh6PAwAYhoEoimhvb4fH48Hj4yMymQx2d3fx8vKCfD4Poj+mfwVKvAUymQyzs7OYm5tDdXU10uk0wuEwYrEYWJaFKIro7e1FVVUVbm5uIIoiWJYFx3Foa2tDLpdDKBRCLpeD0+nE6ekpvF4v/H5/oUVfAjAMg4aGBmxtbcFgMMBms+H4+BhutxuBQAAqlQqvr6+YmZkBx3HY399HLBZDXV0duru7MTg4CJ7n0dzcDKPRCIZhcHJygu3tbTgcDni93kItKqZKpZIsFgtJkkQ7OzvU0dFBFRUVRX1/15qaGurr66ORkRGSy+XU2NhI8/PzFAgEKJFIkCRJdH5+ThaL5c9xxZPxPE9ERLlcjsbGxkitVpcsDoCGh4fJbreTy+UipVJJAEilUlFrayvZ7XaKRCL08PBAq6urhZiShzCfz8PlcuHo6AiiKJZyxfT0NBYWFtDU1ASHwwFJkgAAoiji9vYWGxsb0Ol0YFkWZ2dnn2K/3IFcLkfJZJImJydJo9EU9dNqtWS1Wsnn89Hd3R0tLy8Tz/OffBQKBdlsNrq4uCCr1Ur19fV/bQeA34bO4uIi9Ho9np6e8Pz8jEAgAJ1Oh6mpKfT09MBsNiMej2Nvbw9OpxORSORTjtHRUSgUCmxubsLpdCIcDhdsX94CnuchCAKICJlMBm63Gx8fH3h/f0c0GoVGo4HJZIJarcb6+jqur69xeXkJv9+Pt7e3T7k6OzthMBgQCARwf3+PZDL5fQu0Wi253W5KJBKUzWYLKkkSJRIJikaj5PF4aGVlhVpaWohl2ZK3hGGYovYvW5BKpbC2tobx8XHo9Xqo1WqIoohUKoVMJgNBEHB4eIilpaVPk+0ryefzRddLTkIAaG1thdlshslkwtXVFXw+HyRJQigUQjAY/Lbwd/ItwH8tP/4fKAOUAcoAPw7wC65t+CTh/PyAAAAAAElFTkSuQmCC\" y=\"-210.245398\"/>\n   </g>\n   <g id=\"matplotlib.axis_45\"/>\n   <g id=\"matplotlib.axis_46\"/>\n   <g id=\"patch_113\">\n    <path d=\"M 254.652941 242.245398 \nL 254.652941 210.827216 \n\" style=\"fill:none;stroke:#000000;stroke-linecap:square;stroke-linejoin:miter;stroke-width:0.8;\"/>\n   </g>\n   <g id=\"patch_114\">\n    <path d=\"M 286.071123 242.245398 \nL 286.071123 210.827216 \n\" style=\"fill:none;stroke:#000000;stroke-linecap:square;stroke-linejoin:miter;stroke-width:0.8;\"/>\n   </g>\n   <g id=\"patch_115\">\n    <path d=\"M 254.652941 242.245398 \nL 286.071123 242.245398 \n\" style=\"fill:none;stroke:#000000;stroke-linecap:square;stroke-linejoin:miter;stroke-width:0.8;\"/>\n   </g>\n   <g id=\"patch_116\">\n    <path d=\"M 254.652941 210.827216 \nL 286.071123 210.827216 \n\" style=\"fill:none;stroke:#000000;stroke-linecap:square;stroke-linejoin:miter;stroke-width:0.8;\"/>\n   </g>\n   <g id=\"text_23\">\n    <!-- 7 / 0 -->\n    <g transform=\"translate(256.892032 204.827216)scale(0.12 -0.12)\">\n     <use xlink:href=\"#DejaVuSans-55\"/>\n     <use x=\"63.623047\" xlink:href=\"#DejaVuSans-32\"/>\n     <use x=\"95.410156\" xlink:href=\"#DejaVuSans-47\"/>\n     <use x=\"129.101562\" xlink:href=\"#DejaVuSans-32\"/>\n     <use x=\"160.888672\" xlink:href=\"#DejaVuSans-48\"/>\n    </g>\n   </g>\n  </g>\n  <g id=\"axes_24\">\n   <g id=\"patch_117\">\n    <path d=\"M 315.641176 242.245398 \nL 347.059358 242.245398 \nL 347.059358 210.827216 \nL 315.641176 210.827216 \nz\n\" style=\"fill:#ffffff;\"/>\n   </g>\n   <g clip-path=\"url(#pac712de7ca)\">\n    <image height=\"32\" id=\"image4eb423e8e5\" transform=\"scale(1 -1)translate(0 -32)\" width=\"32\" x=\"315.641176\" xlink:href=\"data:image/png;base64,\niVBORw0KGgoAAAANSUhEUgAAACAAAAAgCAYAAABzenr0AAADe0lEQVR4nO2Xz0sqURTHvzOMZKOVYlIwlVZURiQVlC3EalPUMmglrXPRMqK/IIL+hWrRIoRaBBGIRRuJDBIkJBEKWhToqE1pP2Y057zFo+A93nupL+wt3hcuXC73nvO559xzL5cBQPhCsV/p/J8A4MpdyLIsBEGA2+0Gz/PY2trC1dUV8vl8ZQA4jkN/fz/m5uag0+kQjUaRTCaRTqdLslN2CjiOg91uh8VigdlsRnd3N0wmU8l2/uoM5HK5935raysMBkPlAHK5HPx+P4i+V3FXVxfMZjMYhqkMwOvrK2KxGCKRCAqFAgYHB+FwOCAIQmUAAEBRFPh8vvdUjI6OYmRkpHIAqqr+AGA0GmE0GisHAADn5+eIRqOQZRmCIMBqtYLn+c8H0Ov10Ol00Gg0P4yn02kcHx8jk8nAaDSio6MDnZ2dRQN8eBFxHAeLxQKbzQYAkCQJqVQKyWQSj4+PyOfzCIfDmJ6eBvC9HF0uF8Lh8OcANDU1YWVlBS6XC9XV1bi/v8fFxQW8Xi+CwSCur6/x8vKCQqEAAGhsbITdbi/K+Zvod41lWfL7/ZTL5ehnqapKiUSCPB4PCYJAgUCA8vk8iaJIa2trv7X5c/swAnV1dWAYBmdnZwgGg1AUBb29vXA4HKivr8fq6iokSYLX64VGo0FbW1tJu/9jBBiGoe3tbVIUhURRpIWFBbJYLGQwGKi5uZkWFxcpkUiQJEmUyWTKisAfq4CIsLGxAVEUUVtbi/HxcQwPDyObzeL29habm5vweDwIhUJgGAYcV/rj+uGK09NT7O3tYWZmBgMDA3h6eoKqqjg8PEQ8HsfR0RGen58xOTmJqakpcBwHURQ/D+Du7g5erxdmsxkulwtOpxMcx0FVVezu7uLh4QEHBweIx+NIJBKoqalBIBAoGgAoMlcTExO0s7NDqVSKJEkin89HQ0NDxPP8+xye54nneWIYpugzUDQAABobG6P19XWKx+MkyzLFYjFyOp2k1+uJZdlSnJYHAICsVivNz89TKBQiIqJUKkVLS0tktVpJo9GUuvvSAQCQVqulvr4+2t/fJ1mWqVAo0OXlJZ2cnNDy8jLZbLbPu4h+JVmWEYlE4Ha70d7ejtnZWfT09KClpQUmkwmyLBdti3kLQ7mqqqpCQ0MDeJ6HVqtFNpvFzc0NFEWpDMDf6st/Rv8BvhzgGz5oG/dGwIyzAAAAAElFTkSuQmCC\" y=\"-210.245398\"/>\n   </g>\n   <g id=\"matplotlib.axis_47\"/>\n   <g id=\"matplotlib.axis_48\"/>\n   <g id=\"patch_118\">\n    <path d=\"M 315.641176 242.245398 \nL 315.641176 210.827216 \n\" style=\"fill:none;stroke:#000000;stroke-linecap:square;stroke-linejoin:miter;stroke-width:0.8;\"/>\n   </g>\n   <g id=\"patch_119\">\n    <path d=\"M 347.059358 242.245398 \nL 347.059358 210.827216 \n\" style=\"fill:none;stroke:#000000;stroke-linecap:square;stroke-linejoin:miter;stroke-width:0.8;\"/>\n   </g>\n   <g id=\"patch_120\">\n    <path d=\"M 315.641176 242.245398 \nL 347.059358 242.245398 \n\" style=\"fill:none;stroke:#000000;stroke-linecap:square;stroke-linejoin:miter;stroke-width:0.8;\"/>\n   </g>\n   <g id=\"patch_121\">\n    <path d=\"M 315.641176 210.827216 \nL 347.059358 210.827216 \n\" style=\"fill:none;stroke:#000000;stroke-linecap:square;stroke-linejoin:miter;stroke-width:0.8;\"/>\n   </g>\n   <g id=\"text_24\">\n    <!-- 4 / 9 -->\n    <g transform=\"translate(317.880267 204.827216)scale(0.12 -0.12)\">\n     <use xlink:href=\"#DejaVuSans-52\"/>\n     <use x=\"63.623047\" xlink:href=\"#DejaVuSans-32\"/>\n     <use x=\"95.410156\" xlink:href=\"#DejaVuSans-47\"/>\n     <use x=\"129.101562\" xlink:href=\"#DejaVuSans-32\"/>\n     <use x=\"160.888672\" xlink:href=\"#DejaVuSans-57\"/>\n    </g>\n   </g>\n  </g>\n  <g id=\"axes_25\">\n   <g id=\"patch_122\">\n    <path d=\"M 10.7 305.081761 \nL 42.118182 305.081761 \nL 42.118182 273.66358 \nL 10.7 273.66358 \nz\n\" style=\"fill:#ffffff;\"/>\n   </g>\n   <g clip-path=\"url(#p16a763916d)\">\n    <image height=\"32\" id=\"imaged01b20c52c\" transform=\"scale(1 -1)translate(0 -32)\" width=\"32\" x=\"10.7\" xlink:href=\"data:image/png;base64,\niVBORw0KGgoAAAANSUhEUgAAACAAAAAgCAYAAABzenr0AAACv0lEQVR4nO3XPUszSxTA8X822RcI62bZbMAIMQEL3xBRSCOonYWibcDKxtZGv0G+gFgJFkG/gCBYiiAiKNiksAmSQiPxJaCuZrOOzi0u3OY2WW6Sh/vwDEy1nLO/OWdm2YkAkl84lF/58o4BCoUC+/v7FAoFEolE7wETExPMzs6Sz+cZGBjoPSCZTKKqKplMhkwm03uAZVnc39+TSCQYHBzsPcA0TY6OjgiCgKGhITRN6x1A13WEEJTLZd7f38lms4yOjvYO0Gq10DQNz/NotVqh4zvSgpeXF4QQ1Go1ms0muVyu7dhYJwC1Wo3h4WHGxsZQVRVFaX9dHalAo9Egl8uRTqf5+vri6emptwDf9xkfH6e/vx8hBG9vb23H/qcWRKNRkskk6XSa6elpdF3n+fkZz/NC5ZFhZyQSkbquy2w2K7e2tmS1WpXNZlMeHh7KxcXFULlCVyAajWLbNjMzM+zs7CCE4Pr6Gtd1KZfLPDw8hE3ZvlZRFLm0tCTPz8/lx8eHPDg4kKZpSkVR5MrKilxdXZVTU1PdqYCiKKyvr7O2tobjOBSLRXZ3d/E8Dykl2WyW7+/v0Ktv+xQsLCywvLyM4zicnp5SKpVoNBpI+fcP1efnJ/F4HMuyugPIZDK4rsvNzQ2lUulfvbZtG9d1MU2zO4Cfnx9836dSqXB5eYmu6/T19f3z3DAMhBD4vt8dwN3dHfV6nSAIMAyDVCpFPp8nFouhqiq+71Ov12k0GqEAbW/Cs7Mz5ubmsG2byclJDMNgc3OTarVKLBYjlUrheR6GYYQCtF0Bz/PY29vj8fGR7e1tRkZGsCyLi4sLrq6u2NjYQErJ7e1tKECEkPcCx3GYn5+nWCzy+vpKuVzGdV1OTk44Pj6mUql0FxCJRNA0jXg8jpQSIQSKohAEAUEQhP4WhAZ0evweN6M/gP814C/n6TnYWxEo0wAAAABJRU5ErkJggg==\" y=\"-273.081761\"/>\n   </g>\n   <g id=\"matplotlib.axis_49\"/>\n   <g id=\"matplotlib.axis_50\"/>\n   <g id=\"patch_123\">\n    <path d=\"M 10.7 305.081761 \nL 10.7 273.66358 \n\" style=\"fill:none;stroke:#000000;stroke-linecap:square;stroke-linejoin:miter;stroke-width:0.8;\"/>\n   </g>\n   <g id=\"patch_124\">\n    <path d=\"M 42.118182 305.081761 \nL 42.118182 273.66358 \n\" style=\"fill:none;stroke:#000000;stroke-linecap:square;stroke-linejoin:miter;stroke-width:0.8;\"/>\n   </g>\n   <g id=\"patch_125\">\n    <path d=\"M 10.7 305.081761 \nL 42.118182 305.081761 \n\" style=\"fill:none;stroke:#000000;stroke-linecap:square;stroke-linejoin:miter;stroke-width:0.8;\"/>\n   </g>\n   <g id=\"patch_126\">\n    <path d=\"M 10.7 273.66358 \nL 42.118182 273.66358 \n\" style=\"fill:none;stroke:#000000;stroke-linecap:square;stroke-linejoin:miter;stroke-width:0.8;\"/>\n   </g>\n   <g id=\"text_25\">\n    <!-- 9 / 8 -->\n    <g transform=\"translate(12.939091 267.66358)scale(0.12 -0.12)\">\n     <use xlink:href=\"#DejaVuSans-57\"/>\n     <use x=\"63.623047\" xlink:href=\"#DejaVuSans-32\"/>\n     <use x=\"95.410156\" xlink:href=\"#DejaVuSans-47\"/>\n     <use x=\"129.101562\" xlink:href=\"#DejaVuSans-32\"/>\n     <use x=\"160.888672\" xlink:href=\"#DejaVuSans-56\"/>\n    </g>\n   </g>\n  </g>\n  <g id=\"axes_26\">\n   <g id=\"patch_127\">\n    <path d=\"M 71.688235 305.081761 \nL 103.106417 305.081761 \nL 103.106417 273.66358 \nL 71.688235 273.66358 \nz\n\" style=\"fill:#ffffff;\"/>\n   </g>\n   <g clip-path=\"url(#p945de69ee4)\">\n    <image height=\"32\" id=\"image558e2480b5\" transform=\"scale(1 -1)translate(0 -32)\" width=\"32\" x=\"71.688235\" xlink:href=\"data:image/png;base64,\niVBORw0KGgoAAAANSUhEUgAAACAAAAAgCAYAAABzenr0AAACNklEQVR4nO2Xv6riQBTGvwmJl0j8AyYRRYlgQGzEQmwsFCx9BR/CV1Cw8iUEawURC1sLKyvFXtFKQREVRZOcLe6yxVabya6XC3tgYBg43/zmMPPNDANA+MIQvnLy7w3AGEMkEkGn04Gu6xAE/rUQT5MkiSqVCm23W0omkyQIApcON7YkSSgWi7jf77her3Ach0uHG0AQBGiaBsYYGGO8MvwAjuPgeDxCURQoisK9BzxVQFVVRKNR6LoOSZLeC2DbNna7HYgI0WgUPp/vvQDP5xOTyQSO40BVVYiiyKXDl4XPCqzXaywWC2QyGRiGgVAohNvthsPh8Mc6npzwfr9jNpuhUCigXC4jkUi4roRnK97v98hmszBNE5Zl4Xg8utbgcjDGGAUCARqPx7RcLqlUKpHP53ufEyqKgmazicFgAE3TkMvloGmaax0uAFmWkU6nYds2ut0uRqMR4vE4VFV9D0AsFkO9Xke73YZt25jP5wiHwwiHw+8B8Pv9ME0T5/P511g+n4dhGPj4+Pj3AMDne4CIUK1WUavVYBgGZFl2fSdwATiOg+fziWAwCFmWoes6NpsN9vs9LMtypcXlhJZl4XK5QNd1TKdTDIdDnE4nrFYrvF4v13quz248HqdGo0GlUonLQ35r7pNEUaRUKkX9fp9EUfQEwLUHLMvC4XDAYrFAq9WCYRjctyG80CuKQs1mk3q9HpmmyWfpPzvckUwm4ff7sdls8Hg8XOd7BvAa3/dn9B/gb8UPSTRISfDaxAUAAAAASUVORK5CYII=\" y=\"-273.081761\"/>\n   </g>\n   <g id=\"matplotlib.axis_51\"/>\n   <g id=\"matplotlib.axis_52\"/>\n   <g id=\"patch_128\">\n    <path d=\"M 71.688235 305.081761 \nL 71.688235 273.66358 \n\" style=\"fill:none;stroke:#000000;stroke-linecap:square;stroke-linejoin:miter;stroke-width:0.8;\"/>\n   </g>\n   <g id=\"patch_129\">\n    <path d=\"M 103.106417 305.081761 \nL 103.106417 273.66358 \n\" style=\"fill:none;stroke:#000000;stroke-linecap:square;stroke-linejoin:miter;stroke-width:0.8;\"/>\n   </g>\n   <g id=\"patch_130\">\n    <path d=\"M 71.688235 305.081761 \nL 103.106417 305.081761 \n\" style=\"fill:none;stroke:#000000;stroke-linecap:square;stroke-linejoin:miter;stroke-width:0.8;\"/>\n   </g>\n   <g id=\"patch_131\">\n    <path d=\"M 71.688235 273.66358 \nL 103.106417 273.66358 \n\" style=\"fill:none;stroke:#000000;stroke-linecap:square;stroke-linejoin:miter;stroke-width:0.8;\"/>\n   </g>\n   <g id=\"text_26\">\n    <!-- 1 / 4 -->\n    <g transform=\"translate(73.927326 267.66358)scale(0.12 -0.12)\">\n     <use xlink:href=\"#DejaVuSans-49\"/>\n     <use x=\"63.623047\" xlink:href=\"#DejaVuSans-32\"/>\n     <use x=\"95.410156\" xlink:href=\"#DejaVuSans-47\"/>\n     <use x=\"129.101562\" xlink:href=\"#DejaVuSans-32\"/>\n     <use x=\"160.888672\" xlink:href=\"#DejaVuSans-52\"/>\n    </g>\n   </g>\n  </g>\n  <g id=\"axes_27\">\n   <g id=\"patch_132\">\n    <path d=\"M 132.676471 305.081761 \nL 164.094652 305.081761 \nL 164.094652 273.66358 \nL 132.676471 273.66358 \nz\n\" style=\"fill:#ffffff;\"/>\n   </g>\n   <g clip-path=\"url(#p05f7c9ecb9)\">\n    <image height=\"32\" id=\"image7bc8d04a85\" transform=\"scale(1 -1)translate(0 -32)\" width=\"32\" x=\"132.676471\" xlink:href=\"data:image/png;base64,\niVBORw0KGgoAAAANSUhEUgAAACAAAAAgCAYAAABzenr0AAADfElEQVR4nO2Xy0tyaxTGn62WmqJdCLsoSRfYkBB0QaiooFGD0kEQ4aC/oKRJ1KRB/QHNCppG0aQopJKioElOEiGJBpWZg7wMxKywdOtzRufjfASlJ/s6g7NgjfbzPvu333fxrrUFAMQPhuwnX/6fAFB89FAQBExOTqKlpQXJZBL7+/vwer14fX39MwAAoNfrMTo6CplMhrq6Omg0GpyenuLt7a1oEPwoa2pquL6+zmg0ylQqxa2tLXZ2dlKlUn24roD8XGQwGLi5uclIJMJYLEaXy0Wr1Uq1Wv1nAABQp9NxamqK5+fnlCSJsViMs7OzxYDIX6zRaGi323l0dERJkihJEjc2Ntje3v6VIylsQWlpKc1mM51OJ+PxOFOpFCORCKenp2k2m78fAAAVCgUNBgMHBwfp8/mYTqcZDAY5Pz9PURS/H+Cfu2G323lwcMBEIkG/38/FxcWCID69Bz6KdDqN3d1dyOVyyOVydHR0wG634+XlBUtLS3ndFQUBqNVqaLValJWVQa1WQ6VSAQB8Ph8ODw9RVVUFi8WCkZERrK6uFhdAoVCgra0NVqsVra2tEEURJpMJJHF6eoq7uztEo1EYjUZIklTId+V3VqIocnt7m7lcjrlcjul0mvf39wwEAry9vf2Vx8fHdDqdlMvlxS3ChYUFXl9fM5FI0O12s6+vj2q1mjKZ7F0KglD8IkylUshms4hGo/B4PPB4PMhkMr9pGhsbIQgCgsEgstlsXr55zwOBQADxeBzV1dUQRRFyufydpqurCw6HA0NDQ/na5g/g9XoRDoeh1WphNBpRWVn5TvP8/AyTyYSxsTGIolhcgFAohIuLC0QiEdTX12N4eBhKpfI3zdXVFQKBAJqbm+FwOGA2m/PyzrtgBgYGuLa2xqenJ15eXrK7u/tdE+rv7+fOzg7D4TDHx8c/9SxoJjw7O4Pb7cbDwwOampqwvLwMi8UCpVIJhUIBpVIJSZKQSCSg0WjQ0NAAQRCKtwMAWFJSwt7eXgaDQeZyOd7c3LCvr489PT2cmJjgysoK/X4/o9EobTbb93VDs9nMk5MTZjKZX7NBNptlNptlKBTizMzM93ZDmUzGiooK2mw27u3t8fHxkYFAgC6Xi3NzcywvL8/LR/ib4t+GTqdDbW0t9Ho90uk0UqkUkskkIpEIyM+tvwzw1fjxP6P/AX4c4C8ffe8dNZo4xwAAAABJRU5ErkJggg==\" y=\"-273.081761\"/>\n   </g>\n   <g id=\"matplotlib.axis_53\"/>\n   <g id=\"matplotlib.axis_54\"/>\n   <g id=\"patch_133\">\n    <path d=\"M 132.676471 305.081761 \nL 132.676471 273.66358 \n\" style=\"fill:none;stroke:#000000;stroke-linecap:square;stroke-linejoin:miter;stroke-width:0.8;\"/>\n   </g>\n   <g id=\"patch_134\">\n    <path d=\"M 164.094652 305.081761 \nL 164.094652 273.66358 \n\" style=\"fill:none;stroke:#000000;stroke-linecap:square;stroke-linejoin:miter;stroke-width:0.8;\"/>\n   </g>\n   <g id=\"patch_135\">\n    <path d=\"M 132.676471 305.081761 \nL 164.094652 305.081761 \n\" style=\"fill:none;stroke:#000000;stroke-linecap:square;stroke-linejoin:miter;stroke-width:0.8;\"/>\n   </g>\n   <g id=\"patch_136\">\n    <path d=\"M 132.676471 273.66358 \nL 164.094652 273.66358 \n\" style=\"fill:none;stroke:#000000;stroke-linecap:square;stroke-linejoin:miter;stroke-width:0.8;\"/>\n   </g>\n   <g id=\"text_27\">\n    <!-- 5 / 9 -->\n    <g transform=\"translate(134.915561 267.66358)scale(0.12 -0.12)\">\n     <use xlink:href=\"#DejaVuSans-53\"/>\n     <use x=\"63.623047\" xlink:href=\"#DejaVuSans-32\"/>\n     <use x=\"95.410156\" xlink:href=\"#DejaVuSans-47\"/>\n     <use x=\"129.101562\" xlink:href=\"#DejaVuSans-32\"/>\n     <use x=\"160.888672\" xlink:href=\"#DejaVuSans-57\"/>\n    </g>\n   </g>\n  </g>\n  <g id=\"axes_28\">\n   <g id=\"patch_137\">\n    <path d=\"M 193.664706 305.081761 \nL 225.082888 305.081761 \nL 225.082888 273.66358 \nL 193.664706 273.66358 \nz\n\" style=\"fill:#ffffff;\"/>\n   </g>\n   <g clip-path=\"url(#p7f72fd3777)\">\n    <image height=\"32\" id=\"imageef8601f30a\" transform=\"scale(1 -1)translate(0 -32)\" width=\"32\" x=\"193.664706\" xlink:href=\"data:image/png;base64,\niVBORw0KGgoAAAANSUhEUgAAACAAAAAgCAYAAABzenr0AAAEoklEQVR4nO2X30sUaxjHv7PO7trO/lAqyk1FKzTSG3VAKylEEUTbRIqov0DpL+jCCGIJEa+6yJvqQiTwSnCvjIiwbiRvEmtDQd1xI7VcnN3VHXfm/Z6Lc+rg0f3hSfBcnAeem5l5nvfD93ne93lHAkAcodmOcvH/BIB8GElcLhfa29tBEuFwGF++fMk79lAUKC0txe3bt9Hd3Y2qqqoDxWZUQJIkeDwe+P3+Xc9TqRTi8Th0XUc6nQYAVFZWoq6uDqlUCjMzM7Db7b/e/SsASZLg9XrR1taGe/fuwWb7W6hIJIJ3797h/fv3WFlZQTKZxM7ODizLwsWLF9HY2IhQKISlpaW8AIA/t+EuLykp4f3792lZVkZPJpN8+/YtVVWlw+Hg5OQkt7e3GQ6H2d/fT7vdvifvfi7hH+fAyZMn0dXVheHhYciyjKGhIYRCIWxsbEBVVVRVVaGwsBDl5eW4fPky0uk0nj9/jrt376KyshKyLGNmZgY9PT3QNO3gCpSUlLCvr49CCJqmyeLiYtrtdhYUFLCwsJCKotDtdtPn8/HEiRO8ceMGJyYmGIvFKISgEILRaJQPHz7MS4GcAA6HI2sCr9fL2tpaDg8PMxKJUAhBwzD46dMnNjU15QTYsw0TiQS+fv2Kzc1NAEB9fT1kOfNxoes65ubm8OLFC4yOjmJ2dhZ2ux2lpaW4du0aJEnKKv+ezMlkEpqmYWFhAfX19bh16xY+f/4MXddB7j82SOLDhw8wDAOyLOPMmTNwu924cuUKFEVBIpHICrFHlrKyMg4ODlIIwcXFRZ4/f56yLOfuaEliS0sLJyYmuLW1RU3T2NjYmCt270On00lVVWmaJoUQvHnzJn0+X15N5fF42NnZyfn5eVqWxSdPnlBRlPx7AABM08TGxgYWFxcBAMFgEOfOnctZTwCIx+P4+PEjxsfHAQAXLlzI2kP7KgCADoeDbW1tTKfTFEIwGAyyuro6LxUKCgpYUVHBcDjMb9++5Sph5kROp5OTk5M0DIOxWIwPHjxgRUVFXhBer5dPnz6laZoMBoP0+/35l+CnGYaBgYEBrK2twe124/r16+jo6IDL5cpVCQghsL29DZvNhpqamowxOcfx9PQ0Xr9+DV3XUV1djUAggEAgAEVRcgKsr6+DJL5//w7TNPf9LueFJB6P4+XLlyguLsalS5fQ0NAAIQQkScLU1BRWVlb2jUun05ienkY0GsXq6mrG8ZzXjejVq1dwOp0giatXr6KlpQV+vx/Hjx9HKBSCpmmwLCsjgBAia/58hwY7Ojo4NjZGXddpGAbj8TifPXtGv99Pp9NJWZYpSdKvBm5ubqZlWXz06FHGJjwQAACePXuWfX19fPPmDQ3DoBCCY2NjvHPnDhsaGnj69Gm6XC6qqsq5uTlalsVAIECPx3M4APjryHW5XOzt7eXW1tauS8rq6iojkQh//PhBTdP4+PFj+ny+X8ocCsBPP3bsGFtbWxkMBrm8vEzTNGlZFtfW1jgyMkJVVel2u7MtvvdGdFBTFAVFRUU4deoUHA4HbDYbdnZ2EIvFEI1GkUqlssb/NsDv2pH/Gf0PcOQAfwBv303r5CWYdQAAAABJRU5ErkJggg==\" y=\"-273.081761\"/>\n   </g>\n   <g id=\"matplotlib.axis_55\"/>\n   <g id=\"matplotlib.axis_56\"/>\n   <g id=\"patch_138\">\n    <path d=\"M 193.664706 305.081761 \nL 193.664706 273.66358 \n\" style=\"fill:none;stroke:#000000;stroke-linecap:square;stroke-linejoin:miter;stroke-width:0.8;\"/>\n   </g>\n   <g id=\"patch_139\">\n    <path d=\"M 225.082888 305.081761 \nL 225.082888 273.66358 \n\" style=\"fill:none;stroke:#000000;stroke-linecap:square;stroke-linejoin:miter;stroke-width:0.8;\"/>\n   </g>\n   <g id=\"patch_140\">\n    <path d=\"M 193.664706 305.081761 \nL 225.082888 305.081761 \n\" style=\"fill:none;stroke:#000000;stroke-linecap:square;stroke-linejoin:miter;stroke-width:0.8;\"/>\n   </g>\n   <g id=\"patch_141\">\n    <path d=\"M 193.664706 273.66358 \nL 225.082888 273.66358 \n\" style=\"fill:none;stroke:#000000;stroke-linecap:square;stroke-linejoin:miter;stroke-width:0.8;\"/>\n   </g>\n   <g id=\"text_28\">\n    <!-- 0 / 9 -->\n    <g transform=\"translate(195.903797 267.66358)scale(0.12 -0.12)\">\n     <use xlink:href=\"#DejaVuSans-48\"/>\n     <use x=\"63.623047\" xlink:href=\"#DejaVuSans-32\"/>\n     <use x=\"95.410156\" xlink:href=\"#DejaVuSans-47\"/>\n     <use x=\"129.101562\" xlink:href=\"#DejaVuSans-32\"/>\n     <use x=\"160.888672\" xlink:href=\"#DejaVuSans-57\"/>\n    </g>\n   </g>\n  </g>\n  <g id=\"axes_29\">\n   <g id=\"patch_142\">\n    <path d=\"M 254.652941 305.081761 \nL 286.071123 305.081761 \nL 286.071123 273.66358 \nL 254.652941 273.66358 \nz\n\" style=\"fill:#ffffff;\"/>\n   </g>\n   <g clip-path=\"url(#pb9c7ae7e82)\">\n    <image height=\"32\" id=\"image2e9d9c5b64\" transform=\"scale(1 -1)translate(0 -32)\" width=\"32\" x=\"254.652941\" xlink:href=\"data:image/png;base64,\niVBORw0KGgoAAAANSUhEUgAAACAAAAAgCAYAAABzenr0AAADOklEQVR4nO2XP0sjXRTGnzsTzZ0ENdGIDoExSAiBAVGLiBgQG8EiaJPCRgQRTeNX8BvYiJXaGC1EOz+AUSyCFv4tRIxgMBAjDphJMEom5y3eNwvLbuK4O7sLy/vALQaee+7vnLnnXi4DQPiDEv7k4n8vgMvlwtjYGGKxGCRJ+tBPVg+/30/b29t0fn5OiqKQIAg1vTbL0v5PjY2N6OrqwujoKCRJQnNzMxhjNf2W/wJFURAOh+F0OpFOp5HL5VCpVOrOsaz0drud5ubmSNM0en5+puHhYTPzrAOIRCK0t7dHt7e3ND09TZzz3wcgiiKtrKzQ6+srHR8fkyzLpub98CYURRE+nw+Konz1nc/ncXl5iaenJ1NxTAMwxiDLMlRVRV9fH3w+H1pbW+F2uwEAgiAgGAyiUCggm82iXC5bByBJElRVRTgcRigUQnd3Nzjn0HX9i6etrQ1NTU1Ip9OmszcFwBiDqqqYnZ1FKBSCYRi4urrC6ekpMpnMF19/fz8ikQje399RLBatA2hpacHCwgJGRkaQSCQQj8dxeHiIUqn0la9YLGJwcBBerxder9caAMYYYrEYxsfHsbm5idXVVZydnX3XKwj/nmkPDw84OTkxDQDUaauenh7K5/O0s7NDfr+/bjstLi7Szc0NxeNx6ujoMN2+NY9izjmi0Sju7++xtbWFXC5XMwOHw4GBgQHIsoxSqYSXlxfT2dcEYIyBc45EIoFkMolCoVAzSENDA9xuNyqVCnRdh2EYPw9QVblchq7rdS8UxhhsNhuOjo5wcHBg+gz4EIAxht7eXgSDQXDO60Imk0ns7u4imUyCiEwD1OwCwzCQyWQwNTWFaDQKwzBwd3eHYrH4TYnf3t6wvr6ObDaLx8dH04tX9d3dyRgjj8dDGxsblEqlaG1tjSYmJkhRFLLb7ZbdoDUBqqOzs5OWl5cplUqRpmmUSCRoZmaGnE4nMcZ+PUC1Gu3t7TQ/P0/7+/ukaRpdXFzQ0tISDQ0Nkc1m+2EAVqX4SNW2dLlcCAQCiEQiCAQCEEURk5OTyOfzZsJ8G9csQFWCIIBzDo/HA4fDAVEUcX19/ane/ykAq/V3voz+B/iM/gHPuQ4nsDXYeQAAAABJRU5ErkJggg==\" y=\"-273.081761\"/>\n   </g>\n   <g id=\"matplotlib.axis_57\"/>\n   <g id=\"matplotlib.axis_58\"/>\n   <g id=\"patch_143\">\n    <path d=\"M 254.652941 305.081761 \nL 254.652941 273.66358 \n\" style=\"fill:none;stroke:#000000;stroke-linecap:square;stroke-linejoin:miter;stroke-width:0.8;\"/>\n   </g>\n   <g id=\"patch_144\">\n    <path d=\"M 286.071123 305.081761 \nL 286.071123 273.66358 \n\" style=\"fill:none;stroke:#000000;stroke-linecap:square;stroke-linejoin:miter;stroke-width:0.8;\"/>\n   </g>\n   <g id=\"patch_145\">\n    <path d=\"M 254.652941 305.081761 \nL 286.071123 305.081761 \n\" style=\"fill:none;stroke:#000000;stroke-linecap:square;stroke-linejoin:miter;stroke-width:0.8;\"/>\n   </g>\n   <g id=\"patch_146\">\n    <path d=\"M 254.652941 273.66358 \nL 286.071123 273.66358 \n\" style=\"fill:none;stroke:#000000;stroke-linecap:square;stroke-linejoin:miter;stroke-width:0.8;\"/>\n   </g>\n   <g id=\"text_29\">\n    <!-- 4 / 9 -->\n    <g transform=\"translate(256.892032 267.66358)scale(0.12 -0.12)\">\n     <use xlink:href=\"#DejaVuSans-52\"/>\n     <use x=\"63.623047\" xlink:href=\"#DejaVuSans-32\"/>\n     <use x=\"95.410156\" xlink:href=\"#DejaVuSans-47\"/>\n     <use x=\"129.101562\" xlink:href=\"#DejaVuSans-32\"/>\n     <use x=\"160.888672\" xlink:href=\"#DejaVuSans-57\"/>\n    </g>\n   </g>\n  </g>\n  <g id=\"axes_30\">\n   <g id=\"patch_147\">\n    <path d=\"M 315.641176 305.081761 \nL 347.059358 305.081761 \nL 347.059358 273.66358 \nL 315.641176 273.66358 \nz\n\" style=\"fill:#ffffff;\"/>\n   </g>\n   <g clip-path=\"url(#p3775df5357)\">\n    <image height=\"32\" id=\"imageb08187eb79\" transform=\"scale(1 -1)translate(0 -32)\" width=\"32\" x=\"315.641176\" xlink:href=\"data:image/png;base64,\niVBORw0KGgoAAAANSUhEUgAAACAAAAAgCAYAAABzenr0AAADgklEQVR4nO2XO0szaRTH/zPOJBMyEXMTwUsjARtFw4SIkEJFU1hYaG1lp62FHyCQwg9hoUQUBAsbGxELsTIICTGFkURijGOMmZjLTJyzxe67u6xrbm983WIPnGqeOfN7znPOf87DACB8o7Hf+fH/BADXyuKhoSH4fD6Mj48jGo3i9PQUiqIgl8uBqL2TbAmA4zgMDAxgZmYGbrcbLpcLT09PuL+/x8vLCzKZDDKZDHK5HHRdbyomgxaK0Gg0YnR0FH6/H16vF5IkgWEYFItFpFIpXF9f4+rqCpFIBOl0GrIsQ1XVhnGpHTebzRQMBuni4oJkWSZFUaharVK1WqXb21sKBAI0MjLSTKz2AH54d3c3eb1e2tzcpPPzc8rn86RpGpVKJQqFQmQ0Gr8W4IczDEMsy9Lw8DBtbGxQNpslTdNoZWWlLkTH2pCIoOs6EokETk5OEIlEwLIspqenwfP8p+91XAd0XUe1WoWmaQB+7xyGYX4dwN+NiFCpVOpqRMcBnE4nxsbG4HA4oGkawuEwarXap+ubFiKO48BxHFj2IzPP87BYLBBFEZIkYXl5GYODg4jH4zg+Pq6rBU0BiKKIvr4+OBwOmEymD8+dTicmJychSRJcLhdEUUQymUQwGMTd3V3D+HXby2Qy0fb2Nt3c3JCiKPT+/v7Ba7Ua1Wo10jSN0uk07e3t0dTUVHPtiwZS7HA4EI1GYbfb8fb2hkwmg8fHx7/oiRAKhVCpVJDP5xGPxxGNRlv6OdUl5Hmetra26OHhgVKpFAUCAert7SWr1UpWq5V6enrIZDKRIAhkMBioq6urJQFrWAOapmFnZwccx2F+fh4TExPweDw4OztDsVhsepdtZwB/1IHX66Xd3V2KxWJ0cHBAc3NzHZHwprqgXC4jHA7j6OgINpsNPp8PhUIBl5eXKBQKX5MBhmHIbreTzWYjhmEIAImiSGtra/T8/EyyLJPb7f7pDHyqhEajEQsLC1hcXITFYvlz8Egmk0gkEuB5Hh6P56d3/+kRGAwG+P1+LC0twWw2Y39/H7IsQxRF2O12EFHbc+A/7V9TIwgCra6uUrlcJlVVSVEUen19pVKpRKqqUjweJ0EQOlGI9at/fX2dYrEYVSoV0nWdstksHR4e0uzsbEe6oKESOp1O9Pf3QxAEsCwLVVVRKBSQTqc7ogMtTcVfYd9+M/of4NsBfgMrkorY3HV3nQAAAABJRU5ErkJggg==\" y=\"-273.081761\"/>\n   </g>\n   <g id=\"matplotlib.axis_59\"/>\n   <g id=\"matplotlib.axis_60\"/>\n   <g id=\"patch_148\">\n    <path d=\"M 315.641176 305.081761 \nL 315.641176 273.66358 \n\" style=\"fill:none;stroke:#000000;stroke-linecap:square;stroke-linejoin:miter;stroke-width:0.8;\"/>\n   </g>\n   <g id=\"patch_149\">\n    <path d=\"M 347.059358 305.081761 \nL 347.059358 273.66358 \n\" style=\"fill:none;stroke:#000000;stroke-linecap:square;stroke-linejoin:miter;stroke-width:0.8;\"/>\n   </g>\n   <g id=\"patch_150\">\n    <path d=\"M 315.641176 305.081761 \nL 347.059358 305.081761 \n\" style=\"fill:none;stroke:#000000;stroke-linecap:square;stroke-linejoin:miter;stroke-width:0.8;\"/>\n   </g>\n   <g id=\"patch_151\">\n    <path d=\"M 315.641176 273.66358 \nL 347.059358 273.66358 \n\" style=\"fill:none;stroke:#000000;stroke-linecap:square;stroke-linejoin:miter;stroke-width:0.8;\"/>\n   </g>\n   <g id=\"text_30\">\n    <!-- 5 / 3 -->\n    <g transform=\"translate(317.880267 267.66358)scale(0.12 -0.12)\">\n     <use xlink:href=\"#DejaVuSans-53\"/>\n     <use x=\"63.623047\" xlink:href=\"#DejaVuSans-32\"/>\n     <use x=\"95.410156\" xlink:href=\"#DejaVuSans-47\"/>\n     <use x=\"129.101562\" xlink:href=\"#DejaVuSans-32\"/>\n     <use x=\"160.888672\" xlink:href=\"#DejaVuSans-51\"/>\n    </g>\n   </g>\n  </g>\n  <g id=\"axes_31\">\n   <g id=\"patch_152\">\n    <path d=\"M 10.7 367.918125 \nL 42.118182 367.918125 \nL 42.118182 336.499943 \nL 10.7 336.499943 \nz\n\" style=\"fill:#ffffff;\"/>\n   </g>\n   <g clip-path=\"url(#p715888f92d)\">\n    <image height=\"32\" id=\"imagebbd91ff52f\" transform=\"scale(1 -1)translate(0 -32)\" width=\"32\" x=\"10.7\" xlink:href=\"data:image/png;base64,\niVBORw0KGgoAAAANSUhEUgAAACAAAAAgCAYAAABzenr0AAADY0lEQVR4nO2XvUvzbBTGr6RtYqQf1CqCk0GFUrRVURwiUhCKWxE/KFRBHKR/hmNxdXJxEh0UHMT6hZt2sSBUS5E6CCqKH40lklKT9ryTRV98MK36+A7vBWe773N+uXLOfScMAMIviv3N4v8D/CcAzEYX2mw2CIIAQRBgtVohCAJub2+hqipkWQZRdb1sCMBkMqG/vx9utxtutxu9vb1oa2vDwsICUqkUYrEYstksdF2vCoQ+C5/PR4lEgjRNo2Kx+C4KhQIlk0kaGhoiu93+aa4P4vNFoVCIMpkMXV5eUjwep729PUqn0+9AMpkMzczMUF1dXUUAhppweHgYLpcLpVIJu7u7CIfDCIfDmJ2dhaqqAIDm5mZIkgSPx1OR/YYAampqwLIs6uvrMTg4iLGxMVxfX2NxcRGnp6fQdR0sy8JiscBsNtzXxgGSySQURQHP82hvb8fk5CSmp6ehqirW19fx8vJSUdG3MoS7s7ODvr4+2Gw22O12+Hw+OJ3OctdXO4KGAQ4ODrCxsQFBENDR0QGbzYbW1lZEo1EkEgnwPP+zAACwtLQEWZYxPj4OSZLAcRxqa2vR09NTdfFXGR4ZhmHIarVSd3c3RaNR0nX93SguLy+T3++vaAwralkiwvPzM05OTnB3d4fz83NEIhF4vV6YTKafd+BtsCxLgiBQJBKhXC5HKysrFAwGqaGh4fsPoo9UKpUAAMFgELlcDrFYDEdHR5Bl+e84YLFYSJIkur+/p7W1NfJ6vWSxWCp3skoDwLIsRFGE0+nExcUFstksNE2rPE+1AG+Vz+fLr+RVDMPA5XLB6XSCYZifAyiVSkilUuVLiWEYcByHxsZGjIyMIBAIgOO4P+6v7Ob4l4gIDw8PuLq6Kt8HDocDfr8f0WgUoigiHo9je3sbhULh+wEAgOd5dHV1wWQyIZ1Ow+PxYGpqCi0tLXh8fMTc3FzZnT8+SDXB8zxNTEyQpmmUy+Xo5uaG9vf36fDwkPL5PMmyTKFQiDiO+/oX0UdhNpups7OTzs7OKJ/Pk6ZppCgKKYpCT09PtLm5SU1NTUZyVQfAMAw5HA4aHR2l+fl5SiaTpCgKZbNZ2traokAgYOhcYF4pviKfz4eBgQGIoghN03B8fIzV1VUUi8VP934LwFf0639Gvw7wD7YDVYnD4M0GAAAAAElFTkSuQmCC\" y=\"-335.918125\"/>\n   </g>\n   <g id=\"matplotlib.axis_61\"/>\n   <g id=\"matplotlib.axis_62\"/>\n   <g id=\"patch_153\">\n    <path d=\"M 10.7 367.918125 \nL 10.7 336.499943 \n\" style=\"fill:none;stroke:#000000;stroke-linecap:square;stroke-linejoin:miter;stroke-width:0.8;\"/>\n   </g>\n   <g id=\"patch_154\">\n    <path d=\"M 42.118182 367.918125 \nL 42.118182 336.499943 \n\" style=\"fill:none;stroke:#000000;stroke-linecap:square;stroke-linejoin:miter;stroke-width:0.8;\"/>\n   </g>\n   <g id=\"patch_155\">\n    <path d=\"M 10.7 367.918125 \nL 42.118182 367.918125 \n\" style=\"fill:none;stroke:#000000;stroke-linecap:square;stroke-linejoin:miter;stroke-width:0.8;\"/>\n   </g>\n   <g id=\"patch_156\">\n    <path d=\"M 10.7 336.499943 \nL 42.118182 336.499943 \n\" style=\"fill:none;stroke:#000000;stroke-linecap:square;stroke-linejoin:miter;stroke-width:0.8;\"/>\n   </g>\n   <g id=\"text_31\">\n    <!-- 6 / 8 -->\n    <g transform=\"translate(12.939091 330.499943)scale(0.12 -0.12)\">\n     <defs>\n      <path d=\"M 33.015625 40.375 \nQ 26.375 40.375 22.484375 35.828125 \nQ 18.609375 31.296875 18.609375 23.390625 \nQ 18.609375 15.53125 22.484375 10.953125 \nQ 26.375 6.390625 33.015625 6.390625 \nQ 39.65625 6.390625 43.53125 10.953125 \nQ 47.40625 15.53125 47.40625 23.390625 \nQ 47.40625 31.296875 43.53125 35.828125 \nQ 39.65625 40.375 33.015625 40.375 \nz\nM 52.59375 71.296875 \nL 52.59375 62.3125 \nQ 48.875 64.0625 45.09375 64.984375 \nQ 41.3125 65.921875 37.59375 65.921875 \nQ 27.828125 65.921875 22.671875 59.328125 \nQ 17.53125 52.734375 16.796875 39.40625 \nQ 19.671875 43.65625 24.015625 45.921875 \nQ 28.375 48.1875 33.59375 48.1875 \nQ 44.578125 48.1875 50.953125 41.515625 \nQ 57.328125 34.859375 57.328125 23.390625 \nQ 57.328125 12.15625 50.6875 5.359375 \nQ 44.046875 -1.421875 33.015625 -1.421875 \nQ 20.359375 -1.421875 13.671875 8.265625 \nQ 6.984375 17.96875 6.984375 36.375 \nQ 6.984375 53.65625 15.1875 63.9375 \nQ 23.390625 74.21875 37.203125 74.21875 \nQ 40.921875 74.21875 44.703125 73.484375 \nQ 48.484375 72.75 52.59375 71.296875 \nz\n\" id=\"DejaVuSans-54\"/>\n     </defs>\n     <use xlink:href=\"#DejaVuSans-54\"/>\n     <use x=\"63.623047\" xlink:href=\"#DejaVuSans-32\"/>\n     <use x=\"95.410156\" xlink:href=\"#DejaVuSans-47\"/>\n     <use x=\"129.101562\" xlink:href=\"#DejaVuSans-32\"/>\n     <use x=\"160.888672\" xlink:href=\"#DejaVuSans-56\"/>\n    </g>\n   </g>\n  </g>\n  <g id=\"axes_32\">\n   <g id=\"patch_157\">\n    <path d=\"M 71.688235 367.918125 \nL 103.106417 367.918125 \nL 103.106417 336.499943 \nL 71.688235 336.499943 \nz\n\" style=\"fill:#ffffff;\"/>\n   </g>\n   <g clip-path=\"url(#p7fac928c3f)\">\n    <image height=\"32\" id=\"imagea0fd19d0ab\" transform=\"scale(1 -1)translate(0 -32)\" width=\"32\" x=\"71.688235\" xlink:href=\"data:image/png;base64,\niVBORw0KGgoAAAANSUhEUgAAACAAAAAgCAYAAABzenr0AAAEs0lEQVR4nO2XzWsTWxTAf9NMMskkqQk1LaitMfgxJdWAihasCz9AN60bcV9E9/4Rdl0ENyoFKa5EClUEP9qFlgqlWNGFilWjYJvQD03Mx3QyM+ctfMb2vba2fX30Ld6BA3MvZ8793XPuOXdGAYQNlJqNXPx/gP8EgLropKoSjUbRdZ1yuYyqqgQCAbxeL7ZtUyqVmJ2dxTTN9QfweDxs2bKFM2fOsG/fPt6+fcumTZvYvXs3sViMYrHIy5cv6evr4927d1iWhWmaiKy9mGS+GoYhXV1dMjc3J47jiOM44rquuK5bHZumKel0WgYHB+XSpUsSiUSkpqZG/uprhfprEI/H5fLly2KaZnWxxQDmz9u2LQ8ePJBTp05JJBJZNcCCFHR2dtLZ2YnX68VxHMbHx+nu7kZEaG1tpampCV3X8Xq9RKNRCoUC9fX1HD16lEePHjE5OYnruuTz+RWHX/kZBoALFy5w8eJFDMNgbGyMrq4uRkdHERHC4TB+vx+Px4PX66W2tpZSqURdXR03btwgm83y7ds3ZmdnGRsb49q1a8zMzPwWYEEEhoeH2bx5M6lUilu3bjE0NEShUABY4ExRFHw+H7Zto2kaV69eJZVK0dLSQktLC4ZhEAgEuH79OlNTU8tWy4II+Hw+du3axbZt2xgYGMC27RWFsampif3793PgwAEOHz5Mc3Mztm3T29vLs2fPePz4MZVKZcn313p6F6iu69LQ0CAdHR1y+/ZtKZVK4jiO3L9/X+rr60VRlN9XwXLq8XgkEAiIruuiaZqoqrqond/vl7a2NhkdHRXbtmVubk7a2tokEAj8vgqWk507d9LR0UFdXR2vXr0inU4zPDz8K4x/NiLTNBkZGeH8+fM8efKEUCjEsWPHGB8fp1wu/83vigDi8Tg9PT0cPHgQVf3ximVZjIyMUC6XyWQy9PT08OLFC/L5PJZl8eXLFyzLQlEUtm/fjt/vX9T3igA0TUPXdVRVRVEU4MeBbW1tRURwHIf29nYqlQpv3rzh+fPn7Nixg0gkwocPH+ju7mZiYmLtANlslo8fPxKPx6mtrQV+laKIICLVHQaDQZqbm/H5fNTU1JDNZpmcnMSyrLUDFAoF7ty5w/T0NMlkkkQiQUNDw6K2wWCQUCiE67rAj1QtV84rArBtm4GBAdLpNIZhsHfvXpLJJH6/n0Qi8cORqla75fybMRKJEAqF+P79exVqvixoRCsRTdOIxWIYhkE4HObkyZMoikIwGKSxsZHGxkZisVg1VV+/fuX48eO8fv16yTSsSyPSNE22bt0q586dk76+PjFNs3qLHjlyZMk+sG4A83XPnj1y9+7d6rW9HMC/8k04PT1Nf39/9TmXy+E4zqK2/wjgZ2+YL9FolEOHDnH27Flc16W3t5dPnz79szKsGqsqqVSKEydOEA6HicViTE1NMTQ0xMzMDLZtk0wmOX36NOFwmJs3b3LlyhWKxeLSPlcD4LoulUqFSCRCe3s7Dx8+JJ/Po+s6iUSCTCZDPp9ncHCQe/fu8f79ez5//rz8plYLMDExwdOnTwkGg/T395PL5bBtGxEhk8mQyWQoFovkcrklwz5fVt0H1ls2/M9owwH+AJ4s0BS8mTnZAAAAAElFTkSuQmCC\" y=\"-335.918125\"/>\n   </g>\n   <g id=\"matplotlib.axis_63\"/>\n   <g id=\"matplotlib.axis_64\"/>\n   <g id=\"patch_158\">\n    <path d=\"M 71.688235 367.918125 \nL 71.688235 336.499943 \n\" style=\"fill:none;stroke:#000000;stroke-linecap:square;stroke-linejoin:miter;stroke-width:0.8;\"/>\n   </g>\n   <g id=\"patch_159\">\n    <path d=\"M 103.106417 367.918125 \nL 103.106417 336.499943 \n\" style=\"fill:none;stroke:#000000;stroke-linecap:square;stroke-linejoin:miter;stroke-width:0.8;\"/>\n   </g>\n   <g id=\"patch_160\">\n    <path d=\"M 71.688235 367.918125 \nL 103.106417 367.918125 \n\" style=\"fill:none;stroke:#000000;stroke-linecap:square;stroke-linejoin:miter;stroke-width:0.8;\"/>\n   </g>\n   <g id=\"patch_161\">\n    <path d=\"M 71.688235 336.499943 \nL 103.106417 336.499943 \n\" style=\"fill:none;stroke:#000000;stroke-linecap:square;stroke-linejoin:miter;stroke-width:0.8;\"/>\n   </g>\n   <g id=\"text_32\">\n    <!-- 5 / 3 -->\n    <g transform=\"translate(73.927326 330.499943)scale(0.12 -0.12)\">\n     <use xlink:href=\"#DejaVuSans-53\"/>\n     <use x=\"63.623047\" xlink:href=\"#DejaVuSans-32\"/>\n     <use x=\"95.410156\" xlink:href=\"#DejaVuSans-47\"/>\n     <use x=\"129.101562\" xlink:href=\"#DejaVuSans-32\"/>\n     <use x=\"160.888672\" xlink:href=\"#DejaVuSans-51\"/>\n    </g>\n   </g>\n  </g>\n  <g id=\"axes_33\">\n   <g id=\"patch_162\">\n    <path d=\"M 132.676471 367.918125 \nL 164.094652 367.918125 \nL 164.094652 336.499943 \nL 132.676471 336.499943 \nz\n\" style=\"fill:#ffffff;\"/>\n   </g>\n   <g clip-path=\"url(#p40638d8eba)\">\n    <image height=\"32\" id=\"imagefc07deb58c\" transform=\"scale(1 -1)translate(0 -32)\" width=\"32\" x=\"132.676471\" xlink:href=\"data:image/png;base64,\niVBORw0KGgoAAAANSUhEUgAAACAAAAAgCAYAAABzenr0AAADEElEQVR4nO2Wu0trSxSHv615kI1xk4iP+IwEEqMERRElvYUEAhaC+C9Y2IudhZ2NTUB8YSvBP0E7NzZiYQyKIlHExDzMTmSbxD23ONzcK/ccbuKRY+MPphlm1vrmx1qLkQDBF6rhK5N/A3wDAJhqPShJErIsY7VaMQyDl5cXSqXSp0CIWlZHR4dYX18XiURCqKoqZmZmarpXw6r98PT0tDg4OBDFYlEcHh5+CkBdNXB2doaqqui6zvDwMMvLy0iSVE+In6pmWrPZLEZHR8Xa2poolUoiFouJrq4uoSiKkGVZmM1mIUlSXQ5I1DmKHQ4HU1NTRCIRbDYb+/v7lMtlstksT09PaJpGuVz+8TIhOD4+BqBYLPL4+EihUHgXr+Yu+FuapnF/f08+n0dRFObn56v7mUyGQqFApVKpAgQCgXf3rq+vuby85Orq6mMAlUqFdDpNPB5HURQURakmMAwDi8Xyri7C4TBWq5W3tzd0Xefi4oJoNPpxAIC7uztWV1dZXFwkHA4jSRI7OzvE43Gy2SypVAr4MTsmJibo6+ujoeGfem9qanoX72Pt09Ag3G63yGazolKpiJWVFeHz+T6vDRsbG/F4PCwsLNDc3PyfdjMMg9vbW3Z3d3l9fWVychKv14ssy3U7+lMyRVFENBoVuVxOzM7OCkVRfjkhVVUVuVxObG5uimAwWJcDv6wBk8nE+Pg4drudpaUlAoEAsViMm5sbEokEmqaRz+dJJpOoqkp/fz+tra04nc66Xv9LAF3X2dvbY25uDp/PhyzLpNPpar+nUikeHh44OTnBMAyEEHg8HgYGBjg6OkLTtN8H2NraQtM0/H4/fr+fzs5OfD4fFosFXdfJZrOMjIzQ29uLzWajp6eHsbExhoaGqgPo/1TTJGxrayMUCjE4OEh3dzculwun04nD4QDAZrNht9sxmUycnp6ysbFBJBL5PQf+rWQyyfb2djWZ0+mkvb2dUCgEgNvtJhgM0tLSQiaT4fn5uabkUKMDtcjr9eJyuUilUpyfn/95gI/qy/+E3wDfAN8AfwH2ktFUg+NhggAAAABJRU5ErkJggg==\" y=\"-335.918125\"/>\n   </g>\n   <g id=\"matplotlib.axis_65\"/>\n   <g id=\"matplotlib.axis_66\"/>\n   <g id=\"patch_163\">\n    <path d=\"M 132.676471 367.918125 \nL 132.676471 336.499943 \n\" style=\"fill:none;stroke:#000000;stroke-linecap:square;stroke-linejoin:miter;stroke-width:0.8;\"/>\n   </g>\n   <g id=\"patch_164\">\n    <path d=\"M 164.094652 367.918125 \nL 164.094652 336.499943 \n\" style=\"fill:none;stroke:#000000;stroke-linecap:square;stroke-linejoin:miter;stroke-width:0.8;\"/>\n   </g>\n   <g id=\"patch_165\">\n    <path d=\"M 132.676471 367.918125 \nL 164.094652 367.918125 \n\" style=\"fill:none;stroke:#000000;stroke-linecap:square;stroke-linejoin:miter;stroke-width:0.8;\"/>\n   </g>\n   <g id=\"patch_166\">\n    <path d=\"M 132.676471 336.499943 \nL 164.094652 336.499943 \n\" style=\"fill:none;stroke:#000000;stroke-linecap:square;stroke-linejoin:miter;stroke-width:0.8;\"/>\n   </g>\n   <g id=\"text_33\">\n    <!-- 7 / 2 -->\n    <g transform=\"translate(134.915561 330.499943)scale(0.12 -0.12)\">\n     <use xlink:href=\"#DejaVuSans-55\"/>\n     <use x=\"63.623047\" xlink:href=\"#DejaVuSans-32\"/>\n     <use x=\"95.410156\" xlink:href=\"#DejaVuSans-47\"/>\n     <use x=\"129.101562\" xlink:href=\"#DejaVuSans-32\"/>\n     <use x=\"160.888672\" xlink:href=\"#DejaVuSans-50\"/>\n    </g>\n   </g>\n  </g>\n  <g id=\"axes_34\">\n   <g id=\"patch_167\">\n    <path d=\"M 193.664706 367.918125 \nL 225.082888 367.918125 \nL 225.082888 336.499943 \nL 193.664706 336.499943 \nz\n\" style=\"fill:#ffffff;\"/>\n   </g>\n   <g clip-path=\"url(#p95b425b1fa)\">\n    <image height=\"32\" id=\"image056b91e02d\" transform=\"scale(1 -1)translate(0 -32)\" width=\"32\" x=\"193.664706\" xlink:href=\"data:image/png;base64,\niVBORw0KGgoAAAANSUhEUgAAACAAAAAgCAYAAABzenr0AAAEoUlEQVR4nO2Xz0sbWxTHv3dm4iRq4kSKWfgTbaoVNP4oVIyIoiL+QJBSyB/RjZtC9wWpf0GhP1A3tuJCF4JSSgsRXQgWU1BbRNFBjRmDadOkxtzJ6aLPQTF50bw+fIt34G7OnHvv595zzj1nGADCDYpwk5v/JwCktAaShNLSUjidTtTX16OoqAiccwSDQXz+/BkA8O7dO0QiERBd35tpAZqamtDT04Oqqircu3cPRUVFiMfjCAaD8Pl8AACz2Yy5uTkcHx9fGwD4HYSXBmOM8vLyaGxsjCKRCHHOiXNO0WiUQqEQxWIxQzc/P0937txJuk66kTIGTCYTmpub0dvbi6ysLABAIpGA3++Hz+dDIBAwbLe3txGLxTI6fUoAs9kMj8cDu90OxhgAgDEGxhj8fj9evXpl2O7v7+P09DQjACDF1ZhMJmppaSHOOem6TrquExFRIpGg09NTCofDhr60tJQEQcjIBSkBziAaGxvp5cuXtLOzQ7FYjHRdN3x/BlBZWUmSJP15AAAkyzKVlZVRf38/TUxMkKqqFA6HDQjOOS0tLdGTJ0+oqqrq2gDsjCKdWK1W1NTUwOVy4f79+3jw4AEsFguA38G5traGDx8+4OPHj1hZWYGqqldZNv07cCbhcBiLi4vY3NzEz58/MTAwYACIoojKykooioKKigo4nU4sLCxgY2MDoVDozwCciSiKkGUZkiRBVVUIggBFUWCxWFBcXAyHwwGXy4XGxka8ffsW09PTade8sr8kSaKuri6amZkhVVXp0aNH9PjxY5qfn6dgMHghMOPxOG1tbZHNZiPGWOZBeH643W4aHR0ln89Hra2thr65uZmmpqbI7/dfyBDOOb148YKsVus/B2hqaqLZ2Vny+/00Pj5ODofjwve6ujoaGRmh9fX1CzehaRoNDw9TeXk5iaKYOYDH46H379/T69evkz48kiRRQUEBdXd30/Pnz+nk5MRwxffv3+nhw4ekKMplt6aNkL9EFEVkZWXBZrPBbrdjZ2fnwnfOOY6OjrC4uIjDw0P8+PEDQ0NDYIwhOzsbra2t+PLly6WsSNuQ5Ofno62tDZ2dnXA4HAiFQtA0LaltIpFAOBzGxsYG3rx5A6/Xa9SPwsJC2Gy2S3NS3oAoirh79y76+vrgcrngdrthtVqh6zp0XYcgCEgkEknnERF2d3ehaRqICIwxyLIMURSvDiDLMnp6evD06VOjGnLOUVFRgY6ODqyuriIajSISiSAnJ8eYZ7VacevWLdjtdlRXVwMAdF3Ht2/fkpbslACMMSiKYpwA+N0jtLe3o6GhAZ8+fUIgEMDq6ipqamqM0xUWFqK2tha5ubnG5oeHh/B6vdjb20u6V9KoFwSBbt++TQcHBxSPxy+k1vlClEp/pvv69Su1tbVRTk7O9d8Bxhh1dHTQ9va2UYqvCnByckLLy8s0ODhIsixnXg1NJhNKSkogyzKcTieqq6tRXl6O4uJidHV1AQAEQQARGV2xpmmYnJzEs2fPcHR09Lft2pXKsSiKEAQBFosF2dnZMJvNMJvNUBTFADifEZxzaJoGVVWTZsq1Af5NufE/o/8BbhzgFy+0divRW8hCAAAAAElFTkSuQmCC\" y=\"-335.918125\"/>\n   </g>\n   <g id=\"matplotlib.axis_67\"/>\n   <g id=\"matplotlib.axis_68\"/>\n   <g id=\"patch_168\">\n    <path d=\"M 193.664706 367.918125 \nL 193.664706 336.499943 \n\" style=\"fill:none;stroke:#000000;stroke-linecap:square;stroke-linejoin:miter;stroke-width:0.8;\"/>\n   </g>\n   <g id=\"patch_169\">\n    <path d=\"M 225.082888 367.918125 \nL 225.082888 336.499943 \n\" style=\"fill:none;stroke:#000000;stroke-linecap:square;stroke-linejoin:miter;stroke-width:0.8;\"/>\n   </g>\n   <g id=\"patch_170\">\n    <path d=\"M 193.664706 367.918125 \nL 225.082888 367.918125 \n\" style=\"fill:none;stroke:#000000;stroke-linecap:square;stroke-linejoin:miter;stroke-width:0.8;\"/>\n   </g>\n   <g id=\"patch_171\">\n    <path d=\"M 193.664706 336.499943 \nL 225.082888 336.499943 \n\" style=\"fill:none;stroke:#000000;stroke-linecap:square;stroke-linejoin:miter;stroke-width:0.8;\"/>\n   </g>\n   <g id=\"text_34\">\n    <!-- 2 / 8 -->\n    <g transform=\"translate(195.903797 330.499943)scale(0.12 -0.12)\">\n     <use xlink:href=\"#DejaVuSans-50\"/>\n     <use x=\"63.623047\" xlink:href=\"#DejaVuSans-32\"/>\n     <use x=\"95.410156\" xlink:href=\"#DejaVuSans-47\"/>\n     <use x=\"129.101562\" xlink:href=\"#DejaVuSans-32\"/>\n     <use x=\"160.888672\" xlink:href=\"#DejaVuSans-56\"/>\n    </g>\n   </g>\n  </g>\n  <g id=\"axes_35\">\n   <g id=\"patch_172\">\n    <path d=\"M 254.652941 367.918125 \nL 286.071123 367.918125 \nL 286.071123 336.499943 \nL 254.652941 336.499943 \nz\n\" style=\"fill:#ffffff;\"/>\n   </g>\n   <g clip-path=\"url(#p61c1659ece)\">\n    <image height=\"32\" id=\"imageab9c442886\" transform=\"scale(1 -1)translate(0 -32)\" width=\"32\" x=\"254.652941\" xlink:href=\"data:image/png;base64,\niVBORw0KGgoAAAANSUhEUgAAACAAAAAgCAYAAABzenr0AAAD60lEQVR4nO1Xz0syaxR+5vMmNiqYEkK1qGhhYRBhvyWMlKKfRAupVa2iTRRBf0PrWkS1qk2biH7ZIosIKStbRCCVoCRKhU0iUumo4/kW935yF/XldLt0F/fAWQzvM8885znveXmHAUD4xvjxnR//Twj4Q+wLMpkMOp0Og4OD4DgOR0dH6O/vh8vlgsPhQDAY/HcFyOVy6PV6jIyMwOfz4erqCkNDQ9Dr9eA4Dnd3d0in01nziW6BVCqFUqkEy7LQaDQIBAKIRCIoKyuDVquFRCIRxSfaASLKVFhQUIDi4mJ4PB4Eg0H4fD4kk0mxlCAxKZVKyWQyUSAQIEEQKBAIkNvtpp6eHlKpVKK4AJDoFiQSCYTDYTw9PWVcUKvViMfjSCQSoqv/1BhyHIfNzc3McyqVAs/zEAThM3TiLMvNzaXm5mY6OTkhQRBIEASKxWK0trZGJpOJJBKJKD5Rm5BlWZSXl6OtrQ2lpaXY2dkBAJjNZhiNRrjdbtzf3+Pm5iZrzqwF5ObmorGxEe3t7aipqcHl5SUWFhYA/Hk2GAwGmM1mPDw84PHxEeFwOGsRH9qkUqmovr6elpeXye/30/HxMVmt1sz6wMAAnZ2dUTQapa2tLWpqavraKWhtbcXU1BRqa2txfX2NxcXFjP0AYLPZsLq6Cr/fj6KiIlRXV2ddfVYOOBwO8vl8NDc3R0aj8U2MxWKhvb09CoVCtLS0RCzLZuvC+4sMw9Dw8DBFIhGam5ujqqqq96388YNmZmbo5eWFbm9vaXJy8mta0NfXB5lMBp7nkUql3sWl02kcHBzA4XAgLy8PZrP5I2oAWUyB1+uFIAgwmUwIBoNIJBLweDxvYg8PD6HRaFBYWAi9Xg+LxQK73f5b/t86QETY3t5GNBpFSUkJrFYrOjo6oFAo3sSHw2FcXFzA6XRCqVSiq6sLDMN8XgAAuFwuHBwcIB6Po7KyEr29veju7oZGo3kTHwgEcHp6ing8/hE1gCxaEI1GMT8/D5lMBqPRiIaGBqhUKgCA3W4Hx3EZLMuyUCgUSKfTCIVC2NzcBNHHd96sdqvBYKD19XVKJBIkCAJFIhEaHR0luVxODMOQRCKhuro6mp2dJb/fTzab7Z+P4d9TJpPR2NgYnZ+f0+vrK6VSKXp5eaHp6WnSarWk0+loZWWFYrEYeb1empiY+FoB+OtckMvl1NzcTPv7+yQIAqVSKUomk5RMJonnedrd3aXOzk5iGObrBfzKnJwcys/Pp5aWFtrY2CCe58npdNL4+DhVVFSQVCrNvqhfKsQGwzBgWRaFhYVQq9V4fn5GKBRCJBIRdTP6tICvim//M/pfwLcL+AkOHqbQILo07QAAAABJRU5ErkJggg==\" y=\"-335.918125\"/>\n   </g>\n   <g id=\"matplotlib.axis_69\"/>\n   <g id=\"matplotlib.axis_70\"/>\n   <g id=\"patch_173\">\n    <path d=\"M 254.652941 367.918125 \nL 254.652941 336.499943 \n\" style=\"fill:none;stroke:#000000;stroke-linecap:square;stroke-linejoin:miter;stroke-width:0.8;\"/>\n   </g>\n   <g id=\"patch_174\">\n    <path d=\"M 286.071123 367.918125 \nL 286.071123 336.499943 \n\" style=\"fill:none;stroke:#000000;stroke-linecap:square;stroke-linejoin:miter;stroke-width:0.8;\"/>\n   </g>\n   <g id=\"patch_175\">\n    <path d=\"M 254.652941 367.918125 \nL 286.071123 367.918125 \n\" style=\"fill:none;stroke:#000000;stroke-linecap:square;stroke-linejoin:miter;stroke-width:0.8;\"/>\n   </g>\n   <g id=\"patch_176\">\n    <path d=\"M 254.652941 336.499943 \nL 286.071123 336.499943 \n\" style=\"fill:none;stroke:#000000;stroke-linecap:square;stroke-linejoin:miter;stroke-width:0.8;\"/>\n   </g>\n   <g id=\"text_35\">\n    <!-- 9 / 8 -->\n    <g transform=\"translate(256.892032 330.499943)scale(0.12 -0.12)\">\n     <use xlink:href=\"#DejaVuSans-57\"/>\n     <use x=\"63.623047\" xlink:href=\"#DejaVuSans-32\"/>\n     <use x=\"95.410156\" xlink:href=\"#DejaVuSans-47\"/>\n     <use x=\"129.101562\" xlink:href=\"#DejaVuSans-32\"/>\n     <use x=\"160.888672\" xlink:href=\"#DejaVuSans-56\"/>\n    </g>\n   </g>\n  </g>\n  <g id=\"axes_36\">\n   <g id=\"patch_177\">\n    <path d=\"M 315.641176 367.918125 \nL 347.059358 367.918125 \nL 347.059358 336.499943 \nL 315.641176 336.499943 \nz\n\" style=\"fill:#ffffff;\"/>\n   </g>\n   <g clip-path=\"url(#p9ae1bc73f2)\">\n    <image height=\"32\" id=\"image249c693ac9\" transform=\"scale(1 -1)translate(0 -32)\" width=\"32\" x=\"315.641176\" xlink:href=\"data:image/png;base64,\niVBORw0KGgoAAAANSUhEUgAAACAAAAAgCAYAAABzenr0AAAEfUlEQVR4nO1XTUhUaxh+zo+dOcOZlGGYM5aiaeakmRQUgSIKiSmDQSChLdu0Ct0ELmrhWmjRoqKdLoRCiDDbuHEjJgqDhn/5U1qj42F0pmHq6DnOcxcXhUuOyTgX7+I+8Ky+c973ec/7Pt/5PgEAcYIQTzL5f0KAfNiiIAioqqrCnTt3oCgKAGB9fR3j4+MYGRlBLBbLiAimoqZp7OnpYSKR4Pb2Ni3L4urqKt++fcv29nZWV1dTkqSU7x+RBy+IosizZ8/Ssizats2lpSXOzc1xdXWVP378YCwWY39/P/1+P91ud9pCDm0BSZimCVVV8f79e0xNTcHn86Gmpgbnzp1DIBCAZVkYGBjAhw8fEIlEMtsCp9PJ3t5eJhIJTk9Ps7W1lQ6Hg263m/fu3eOXL19o2zaDwSCrq6vpcDgy14I9aprGly9fMhwOc35+nt3d3aysrKQkSTx//jxnZma4s7PDiYkJBgKBzAsAQF3X2d3dzfn5eRqGwZGREXZ2dlJVVV66dInBYJCbm5t89eoVb9y4kbkZ2INhGHj9+jU0TcOtW7dQUVEBn88Hv9+PN2/eoK+vDw8ePEBTUxNM00Q0GsXs7OxRQh++D+whmUxiZmYGPT09+P79O+rq6pCfn4/Gxkbk5uYiGAxClmV4vV4UFhbC4/EcKfmRBQBAPB7H2NgYNjY2sLCwgNLSUjQ3N6O2thY5OTk4ffo0BEGAy+X6dwQAgG3bWFhYwOLiIrKzsxEOh9HW1oby8nKoqgpBEKDrOq5cuYKPHz9ibW3tSHH/OCiiKNLhcFBVVWZlZf1m1b6+Pq6trXFnZ4e7u7tcWVnhkydPqKpqZlyQn5/Phw8fsr29nbW1tXQ6nZQkiYIg7LOjo4OTk5O0bZu2bTMajbKzs5OCIBzfBY8fP8bt27fhdrtBEoZhYHBwEPF4fP+Zq1evwufzIRaLYXJyEv39/fj69StIHr8FN2/eZG9vL5eXl2maJi3LYjwe/wd//fpFy7I4NDTEQCBAVVV56tSpP8YW9vpwGFwuF7xeLyoqKnD58mWUl5ejsrISAFBcXAxR/PtYQRLLy8sYHh7G6OgoBgcHEQqFDo19JAF7yMnJgcfjga7ryM3NBQBUVVVBURRcu3YNeXl5kGUZiUQC4XAY4+PjePr0KZaWlpBMJo8v4CCUlZUhKysL169fx4ULF1BSUoKLFy/izJkzsG0bz549w8DAAD59+oSfP38eGCOt//hBdLvdrKmpYVdXF0dHR2maJiORCF+8eMGioqJUjjheUkVRqCgKZVmmKIqUJIler5d3796lYRi0bZuGYbCuro6KoqRnw1QQBAEtLS0QBAGfP3/Gt2/f4PF4UF9fj4aGBjidTgDA1tYWtre3U85BWpU7HA7ev39/35bRaJTr6+vc3NzcP8bt8dGjR9R1Pf2NKFX1mqZBlmVIkgSXywVN0wAAlmVhZWUFz58/x7t377CxsZFyANN2gSiK0HUdBQUFEEXxt89rmiZCoRAikQh2d3dTF5KugEzhxG9G/ws4cQF/Aa6wIBfjhkJ7AAAAAElFTkSuQmCC\" y=\"-335.918125\"/>\n   </g>\n   <g id=\"matplotlib.axis_71\"/>\n   <g id=\"matplotlib.axis_72\"/>\n   <g id=\"patch_178\">\n    <path d=\"M 315.641176 367.918125 \nL 315.641176 336.499943 \n\" style=\"fill:none;stroke:#000000;stroke-linecap:square;stroke-linejoin:miter;stroke-width:0.8;\"/>\n   </g>\n   <g id=\"patch_179\">\n    <path d=\"M 347.059358 367.918125 \nL 347.059358 336.499943 \n\" style=\"fill:none;stroke:#000000;stroke-linecap:square;stroke-linejoin:miter;stroke-width:0.8;\"/>\n   </g>\n   <g id=\"patch_180\">\n    <path d=\"M 315.641176 367.918125 \nL 347.059358 367.918125 \n\" style=\"fill:none;stroke:#000000;stroke-linecap:square;stroke-linejoin:miter;stroke-width:0.8;\"/>\n   </g>\n   <g id=\"patch_181\">\n    <path d=\"M 315.641176 336.499943 \nL 347.059358 336.499943 \n\" style=\"fill:none;stroke:#000000;stroke-linecap:square;stroke-linejoin:miter;stroke-width:0.8;\"/>\n   </g>\n   <g id=\"text_36\">\n    <!-- 8 / 3 -->\n    <g transform=\"translate(317.880267 330.499943)scale(0.12 -0.12)\">\n     <use xlink:href=\"#DejaVuSans-56\"/>\n     <use x=\"63.623047\" xlink:href=\"#DejaVuSans-32\"/>\n     <use x=\"95.410156\" xlink:href=\"#DejaVuSans-47\"/>\n     <use x=\"129.101562\" xlink:href=\"#DejaVuSans-32\"/>\n     <use x=\"160.888672\" xlink:href=\"#DejaVuSans-51\"/>\n    </g>\n   </g>\n  </g>\n </g>\n <defs>\n  <clipPath id=\"p0404e68079\">\n   <rect height=\"31.418182\" width=\"31.418182\" x=\"10.7\" y=\"22.318125\"/>\n  </clipPath>\n  <clipPath id=\"pd1212f00c8\">\n   <rect height=\"31.418182\" width=\"31.418182\" x=\"71.688235\" y=\"22.318125\"/>\n  </clipPath>\n  <clipPath id=\"p607c21dcb6\">\n   <rect height=\"31.418182\" width=\"31.418182\" x=\"132.676471\" y=\"22.318125\"/>\n  </clipPath>\n  <clipPath id=\"pef0b06778c\">\n   <rect height=\"31.418182\" width=\"31.418182\" x=\"193.664706\" y=\"22.318125\"/>\n  </clipPath>\n  <clipPath id=\"p302e501936\">\n   <rect height=\"31.418182\" width=\"31.418182\" x=\"254.652941\" y=\"22.318125\"/>\n  </clipPath>\n  <clipPath id=\"p810ad540b2\">\n   <rect height=\"31.418182\" width=\"31.418182\" x=\"315.641176\" y=\"22.318125\"/>\n  </clipPath>\n  <clipPath id=\"pdbeb7509d6\">\n   <rect height=\"31.418182\" width=\"31.418182\" x=\"10.7\" y=\"85.154489\"/>\n  </clipPath>\n  <clipPath id=\"p72c3b3244d\">\n   <rect height=\"31.418182\" width=\"31.418182\" x=\"71.688235\" y=\"85.154489\"/>\n  </clipPath>\n  <clipPath id=\"p113baa145c\">\n   <rect height=\"31.418182\" width=\"31.418182\" x=\"132.676471\" y=\"85.154489\"/>\n  </clipPath>\n  <clipPath id=\"p29ee82fc41\">\n   <rect height=\"31.418182\" width=\"31.418182\" x=\"193.664706\" y=\"85.154489\"/>\n  </clipPath>\n  <clipPath id=\"pd7929aac5f\">\n   <rect height=\"31.418182\" width=\"31.418182\" x=\"254.652941\" y=\"85.154489\"/>\n  </clipPath>\n  <clipPath id=\"pa9b14a5793\">\n   <rect height=\"31.418182\" width=\"31.418182\" x=\"315.641176\" y=\"85.154489\"/>\n  </clipPath>\n  <clipPath id=\"pc185464ace\">\n   <rect height=\"31.418182\" width=\"31.418182\" x=\"10.7\" y=\"147.990852\"/>\n  </clipPath>\n  <clipPath id=\"p67565d13f3\">\n   <rect height=\"31.418182\" width=\"31.418182\" x=\"71.688235\" y=\"147.990852\"/>\n  </clipPath>\n  <clipPath id=\"pc3a329c31b\">\n   <rect height=\"31.418182\" width=\"31.418182\" x=\"132.676471\" y=\"147.990852\"/>\n  </clipPath>\n  <clipPath id=\"p851dae93bc\">\n   <rect height=\"31.418182\" width=\"31.418182\" x=\"193.664706\" y=\"147.990852\"/>\n  </clipPath>\n  <clipPath id=\"p82b3f6f848\">\n   <rect height=\"31.418182\" width=\"31.418182\" x=\"254.652941\" y=\"147.990852\"/>\n  </clipPath>\n  <clipPath id=\"p907b9ef37a\">\n   <rect height=\"31.418182\" width=\"31.418182\" x=\"315.641176\" y=\"147.990852\"/>\n  </clipPath>\n  <clipPath id=\"p3fe35d6a9e\">\n   <rect height=\"31.418182\" width=\"31.418182\" x=\"10.7\" y=\"210.827216\"/>\n  </clipPath>\n  <clipPath id=\"p8acbb30e56\">\n   <rect height=\"31.418182\" width=\"31.418182\" x=\"71.688235\" y=\"210.827216\"/>\n  </clipPath>\n  <clipPath id=\"pf843a7fd96\">\n   <rect height=\"31.418182\" width=\"31.418182\" x=\"132.676471\" y=\"210.827216\"/>\n  </clipPath>\n  <clipPath id=\"p8f7458c14b\">\n   <rect height=\"31.418182\" width=\"31.418182\" x=\"193.664706\" y=\"210.827216\"/>\n  </clipPath>\n  <clipPath id=\"pc929763db4\">\n   <rect height=\"31.418182\" width=\"31.418182\" x=\"254.652941\" y=\"210.827216\"/>\n  </clipPath>\n  <clipPath id=\"pac712de7ca\">\n   <rect height=\"31.418182\" width=\"31.418182\" x=\"315.641176\" y=\"210.827216\"/>\n  </clipPath>\n  <clipPath id=\"p16a763916d\">\n   <rect height=\"31.418182\" width=\"31.418182\" x=\"10.7\" y=\"273.66358\"/>\n  </clipPath>\n  <clipPath id=\"p945de69ee4\">\n   <rect height=\"31.418182\" width=\"31.418182\" x=\"71.688235\" y=\"273.66358\"/>\n  </clipPath>\n  <clipPath id=\"p05f7c9ecb9\">\n   <rect height=\"31.418182\" width=\"31.418182\" x=\"132.676471\" y=\"273.66358\"/>\n  </clipPath>\n  <clipPath id=\"p7f72fd3777\">\n   <rect height=\"31.418182\" width=\"31.418182\" x=\"193.664706\" y=\"273.66358\"/>\n  </clipPath>\n  <clipPath id=\"pb9c7ae7e82\">\n   <rect height=\"31.418182\" width=\"31.418182\" x=\"254.652941\" y=\"273.66358\"/>\n  </clipPath>\n  <clipPath id=\"p3775df5357\">\n   <rect height=\"31.418182\" width=\"31.418182\" x=\"315.641176\" y=\"273.66358\"/>\n  </clipPath>\n  <clipPath id=\"p715888f92d\">\n   <rect height=\"31.418182\" width=\"31.418182\" x=\"10.7\" y=\"336.499943\"/>\n  </clipPath>\n  <clipPath id=\"p7fac928c3f\">\n   <rect height=\"31.418182\" width=\"31.418182\" x=\"71.688235\" y=\"336.499943\"/>\n  </clipPath>\n  <clipPath id=\"p40638d8eba\">\n   <rect height=\"31.418182\" width=\"31.418182\" x=\"132.676471\" y=\"336.499943\"/>\n  </clipPath>\n  <clipPath id=\"p95b425b1fa\">\n   <rect height=\"31.418182\" width=\"31.418182\" x=\"193.664706\" y=\"336.499943\"/>\n  </clipPath>\n  <clipPath id=\"p61c1659ece\">\n   <rect height=\"31.418182\" width=\"31.418182\" x=\"254.652941\" y=\"336.499943\"/>\n  </clipPath>\n  <clipPath id=\"p9ae1bc73f2\">\n   <rect height=\"31.418182\" width=\"31.418182\" x=\"315.641176\" y=\"336.499943\"/>\n  </clipPath>\n </defs>\n</svg>\n",
      "image/png": "[encoded data removed]"
     },
     "metadata": {}
    }
   ],
   "source": [
    "\"\"\"\n",
    "語分類結果を並べて表示する。画像の上の表示は「推定結果/正解」である。\n",
    "Parameters:\n",
    "----------\n",
    "y_pred : 推定値のndarray (n_samples,)\n",
    "y_val : 検証データの正解ラベル(n_samples,)\n",
    "X_val : 検証データの特徴量（n_samples, n_features)\n",
    "\"\"\"\n",
    "import numpy as np\n",
    "import matplotlib.pyplot as plt\n",
    "num = 36 # いくつ表示するか\n",
    "\n",
    "true_false = y_pred==y_val\n",
    "false_list = np.where(true_false==False)[0].astype(np.int)\n",
    "if false_list.shape[0] < num:\n",
    "    num = false_list.shape[0]\n",
    "fig = plt.figure(figsize=(6, 6))\n",
    "fig.subplots_adjust(left=0, right=0.8,  bottom=0, top=0.8, hspace=1, wspace=0.5)\n",
    "for i in range(num):\n",
    "    ax = fig.add_subplot(6, 6, i + 1, xticks=[], yticks=[])\n",
    "    ax.set_title(\"{} / {}\".format(y_pred[false_list[i]],y_val[false_list[i]]))\n",
    "    ax.imshow(X_val.reshape(-1,28,28)[false_list[i]], cmap='gray')"
   ]
  },
  {
   "cell_type": "code",
   "execution_count": null,
   "metadata": {},
   "outputs": [],
   "source": []
  },
  {
   "cell_type": "code",
   "execution_count": null,
   "metadata": {},
   "outputs": [],
   "source": []
  }
 ]
}