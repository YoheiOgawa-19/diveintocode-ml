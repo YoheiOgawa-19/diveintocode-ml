{
 "cells": [
  {
   "cell_type": "markdown",
   "metadata": {},
   "source": [
    "## Sprint 深層学習スクラッチ 畳み込みニューラルネットワーク2\n",
    "\n",
    "### 2.2次元の畳み込みニューラルネットワークスクラッチ\n",
    "\n",
    "$$\n",
    "2次元に対応した畳み込みニューラルネットワーク（CNN）のクラスをスクラッチで作成していきます。NumPyなど最低限のライブラリのみを使いアルゴリズムを実装していきます。\n",
    "\n",
    "プーリング層なども作成することで、CNNの基本形を完成させます。クラスの名前はScratch2dCNNClassifierとしてください。\n",
    "\n",
    "#### データセットの用意\n",
    "引き続きMNISTデータセットを使用します。2次元畳み込み層へは、28×28の状態で入力します。\n",
    "\n",
    "今回は白黒画像ですからチャンネルは1つしかありませんが、チャンネル方向の軸は用意しておく必要があります。\n",
    "\n",
    "(n_samples, n_channels, height, width)のNCHWまたは(n_samples, height, width, n_channels)のNHWCどちらかの形にしてください。\n",
    "$$\n"
   ]
  },
  {
   "cell_type": "code",
   "execution_count": 1,
   "metadata": {},
   "outputs": [],
   "source": [
    "import numpy as np\n",
    "import pandas as pd\n",
    "from sklearn.model_selection import train_test_split\n",
    "import matplotlib.pyplot as plt\n",
    "%matplotlib inline"
   ]
  },
  {
   "cell_type": "markdown",
   "metadata": {},
   "source": [
    "#### 【問題1】2次元畳み込み層の作成\n",
    "1次元畳み込み層のクラスConv1dを発展させ、2次元畳み込み層のクラスConv2dを作成してください。\n",
    "\n",
    "フォワードプロパゲーションの数式は以下のようになります。  \n",
    "\n",
    "$$\n",
    "a_{i,j,m} = \\sum_{k=0}^{K-1}\\sum_{s=0}^{F_{h}-1}\\sum_{t=0}^{F_{w}-1}x_{(i+s),(j+t),k}w_{s,t,k,m}+b_{m}\n",
    "$$\n",
    "\n",
    "$$\n",
    "a\n",
    "i\n",
    ",\n",
    "j\n",
    ",\n",
    "m\n",
    " : 出力される配列のi行j列、mチャンネルの値  \n",
    "\n",
    "i\n",
    " : 配列の行方向のインデックス  \n",
    "\n",
    "j\n",
    " : 配列の列方向のインデックス  \n",
    "\n",
    "m\n",
    " : 出力チャンネルのインデックス  \n",
    "\n",
    "K\n",
    " : 入力チャンネル数  \n",
    "\n",
    "F\n",
    "h\n",
    ",\n",
    "F\n",
    "w\n",
    " : 高さ方向（h）と幅方向（w）のフィルタのサイズ  \n",
    "\n",
    "x\n",
    "(\n",
    "i\n",
    "+\n",
    "s\n",
    ")\n",
    ",\n",
    "(\n",
    "j\n",
    "+\n",
    "t\n",
    ")\n",
    ",\n",
    "k\n",
    " : 入力の配列の(i+s)行(j+t)列、kチャンネルの値  \n",
    "\n",
    "w\n",
    "s\n",
    ",\n",
    "t\n",
    ",\n",
    "k\n",
    ",\n",
    "m\n",
    " : 重みの配列のs行t列目。kチャンネルの入力に対して、mチャンネルへ出力する重み  \n",
    "\n",
    "b\n",
    "m\n",
    " : mチャンネルへの出力のバイアス項  \n",
    " $$\n",
    "\n",
    "全てスカラーです。  \n",
    "\n",
    "次に更新式です。1次元畳み込み層や全結合層と同じ形です。  \n",
    "$$\n",
    "w_{s,t,k,m}^{\\prime} = w_{s,t,k,m} - \\alpha \\frac{\\partial L}{\\partial w_{s,t,k,m}} \\\\\n",
    "b_{m}^{\\prime} = b_{m} - \\alpha \\frac{\\partial L}{\\partial b_{m}}\n",
    "$$\n",
    "$$\n",
    "α\n",
    " : 学習率  \n",
    "\n",
    "∂\n",
    "L\n",
    "∂\n",
    "w\n",
    "s\n",
    ",\n",
    "t\n",
    ",\n",
    "k\n",
    ",\n",
    "m\n",
    " : \n",
    "w\n",
    "s\n",
    ",\n",
    "t\n",
    ",\n",
    "k\n",
    ",\n",
    "m\n",
    " に関する損失   \n",
    "L\n",
    " の勾配  \n",
    "\n",
    "∂\n",
    "L\n",
    "∂\n",
    "b\n",
    "m\n",
    " : \n",
    "b\n",
    "m\n",
    " に関する損失   \n",
    "L\n",
    " の勾配  \n",
    "\n",
    "勾配   \n",
    "∂\n",
    "L\n",
    "∂\n",
    "w\n",
    "s\n",
    ",\n",
    "t\n",
    ",\n",
    "k\n",
    ",\n",
    "m\n",
    " や \n",
    "∂\n",
    "L\n",
    "∂\n",
    "b\n",
    "m\n",
    " を求めるためのバックプロパゲーションの数式が以下である。\n",
    " $$  \n",
    "$$\n",
    " \\frac{\\partial L}{\\partial w_{s,t,k,m}} = \\sum_{i=0}^{N_{out,h}-1}\\sum_{j=0}^{N_{out,w}-1} \\frac{\\partial L}{\\partial a_{i,j,m}}x_{(i+s)(j+t),k}\\\\\n",
    "\\frac{\\partial L}{\\partial b_{m}} = \\sum_{i=0}^{N_{out,h}-1}\\sum_{j=0}^{N_{out,w}-1}\\frac{\\partial L}{\\partial a_{i,j,m}}\n",
    "\n",
    "$$\n",
    "\n",
    "$$\n",
    "∂\n",
    "L\n",
    "∂\n",
    "a\n",
    "i\n",
    " : 勾配の配列のi行j列、mチャンネルの値  \n",
    "\n",
    "N\n",
    "o\n",
    "u\n",
    "t\n",
    ",\n",
    "h\n",
    ",\n",
    "N\n",
    "o\n",
    "u\n",
    "t\n",
    ",\n",
    "w\n",
    " : 高さ方向（h）と幅方向（w）の出力のサイズ  \n",
    "$$\n",
    "前の層に流す誤差の数式は以下です。  \n",
    "$$\n",
    "\\frac{\\partial L}{\\partial x_{i,j,k}} = \\sum_{m=0}^{M-1}\\sum_{s=0}^{F_{h}-1}\\sum_{t=0}^{F_{w}-1} \\frac{\\partial L}{\\partial a_{(i-s),(j-t),m}}w_{s,t,k,m}\n",
    "$$\n",
    "\n",
    "$$\n",
    "∂\n",
    "L\n",
    "∂\n",
    "x\n",
    "i\n",
    ",\n",
    "j\n",
    ",\n",
    "k\n",
    " : 前の層に流す誤差の配列のi列j行、kチャンネルの値   \n",
    " \n",
    "\n",
    "M\n",
    " : 出力チャンネル数  \n",
    "\n",
    "ただし、 \n",
    "i\n",
    "−\n",
    "s\n",
    "<\n",
    "0\n",
    " または \n",
    "i\n",
    "−\n",
    "s\n",
    ">\n",
    "N\n",
    "o\n",
    "u\n",
    "t\n",
    ",\n",
    "h\n",
    "−\n",
    "1\n",
    " または \n",
    "j\n",
    "−\n",
    "t\n",
    "<\n",
    "0\n",
    " または \n",
    "j\n",
    "−\n",
    "t\n",
    ">\n",
    "N\n",
    "o\n",
    "u\n",
    "t\n",
    ",\n",
    "w\n",
    "−\n",
    "1\n",
    " のとき \n",
    "∂\n",
    "L\n",
    "∂\n",
    "a\n",
    "(\n",
    "i\n",
    "−\n",
    "s\n",
    ")\n",
    ",\n",
    "(\n",
    "j\n",
    "−\n",
    "t\n",
    ")\n",
    ",\n",
    "m\n",
    "=\n",
    "0\n",
    " です。  \n",
    "\n",
    " $$"
   ]
  },
  {
   "cell_type": "code",
   "execution_count": 2,
   "metadata": {},
   "outputs": [],
   "source": [
    "import tensorflow as tf\n",
    "mnist = tf.keras.datasets.mnist"
   ]
  },
  {
   "cell_type": "code",
   "execution_count": 3,
   "metadata": {},
   "outputs": [],
   "source": [
    "(X_train,y_train),(X_test,y_test) = mnist.load_data()\n",
    "#前処理\n",
    "X_train = X_train.astype(np.float)\n",
    "X_test = X_test.astype(np.float)\n",
    "X_train /= 255\n",
    "X_test /= 255\n"
   ]
  },
  {
   "cell_type": "code",
   "execution_count": 4,
   "metadata": {},
   "outputs": [],
   "source": [
    "#NCHW\n",
    "X_train = X_train[:,np.newaxis,:,:]\n",
    "X_test = X_test[:,np.newaxis,:,:]"
   ]
  },
  {
   "cell_type": "code",
   "execution_count": 5,
   "metadata": {},
   "outputs": [],
   "source": [
    "X_train, X_val, y_train, y_val = train_test_split(X_train, y_train, test_size=0.2)"
   ]
  },
  {
   "cell_type": "code",
   "execution_count": 6,
   "metadata": {},
   "outputs": [
    {
     "output_type": "execute_result",
     "data": {
      "text/plain": [
       "(48000, 1, 28, 28)"
      ]
     },
     "metadata": {},
     "execution_count": 6
    }
   ],
   "source": [
    "X_train.shape"
   ]
  },
  {
   "cell_type": "code",
   "execution_count": 7,
   "metadata": {},
   "outputs": [
    {
     "output_type": "display_data",
     "data": {
      "text/plain": "<Figure size 432x288 with 3 Axes>",
      "image/svg+xml": "<?xml version=\"1.0\" encoding=\"utf-8\" standalone=\"no\"?>\n<!DOCTYPE svg PUBLIC \"-//W3C//DTD SVG 1.1//EN\"\n  \"http://www.w3.org/Graphics/SVG/1.1/DTD/svg11.dtd\">\n<!-- Created with matplotlib (https://matplotlib.org/) -->\n<svg height=\"142.765737pt\" version=\"1.1\" viewBox=\"0 0 424.775 142.765737\" width=\"424.775pt\" xmlns=\"http://www.w3.org/2000/svg\" xmlns:xlink=\"http://www.w3.org/1999/xlink\">\n <metadata>\n  <rdf:RDF xmlns:cc=\"http://creativecommons.org/ns#\" xmlns:dc=\"http://purl.org/dc/elements/1.1/\" xmlns:rdf=\"http://www.w3.org/1999/02/22-rdf-syntax-ns#\">\n   <cc:Work>\n    <dc:type rdf:resource=\"http://purl.org/dc/dcmitype/StillImage\"/>\n    <dc:date>2021-04-08T21:36:54.261677</dc:date>\n    <dc:format>image/svg+xml</dc:format>\n    <dc:creator>\n     <cc:Agent>\n      <dc:title>Matplotlib v3.3.4, https://matplotlib.org/</dc:title>\n     </cc:Agent>\n    </dc:creator>\n   </cc:Work>\n  </rdf:RDF>\n </metadata>\n <defs>\n  <style type=\"text/css\">*{stroke-linecap:butt;stroke-linejoin:round;}</style>\n </defs>\n <g id=\"figure_1\">\n  <g id=\"patch_1\">\n   <path d=\"M 0 142.765737 \nL 424.775 142.765737 \nL 424.775 0 \nL 0 0 \nz\n\" style=\"fill:none;\"/>\n  </g>\n  <g id=\"axes_1\">\n   <g id=\"patch_2\">\n    <path d=\"M 26.925 118.887612 \nL 136.775 118.887612 \nL 136.775 9.037612 \nL 26.925 9.037612 \nz\n\" style=\"fill:#ffffff;\"/>\n   </g>\n   <g clip-path=\"url(#p5a514d460e)\">\n    <image height=\"110\" id=\"image0d298ad94a\" transform=\"scale(1 -1)translate(0 -110)\" width=\"110\" x=\"26.925\" xlink:href=\"data:image/png;base64,\niVBORw0KGgoAAAANSUhEUgAAAG4AAABuCAYAAADGWyb7AAAELklEQVR4nO2dyyt0YRzHj5cs3GNBKYkFISm3kkiKEuW6sLC1EisbpWxIiYVYyEL5D8iGlMtCidwWSllJWVJukcu7m+b7vO97xryPmTPf8f2szqfpnOc0337n1znznGdiHMf5dAQdv7w+AfF/KDhSFBwpCo4UBUeKgiNFwZGi4EhRcKQoOFIUHClxtgeYnJwEHx4e/vK+5+fn4Gtra+Bvb2/g09PT4Hd3d18eK9pQxZGi4EhRcKTEOJa/x1VXV4ObPa6qqsq3nZ2dbTOU8/T0BD47Ows+MTEB/vj4aDVeJKOKI0XBkaLgSLHucYFIT0/3bS8sLMBnZWVl4Hl5eVZj7e3tgZv3fevr6+DPz89W43mJKo4UBUeKgiMl5D3OjczMTPCioiLwubk58MLCQqvx9vf3waempsBXVlbAPz4+rMYLJao4UhQcKQqOFE97XCCysrLAe3t7wQcGBsBzc3Otxjs8PAQfHx8HX11dtTr+d6KKI0XBkRLRl8pAFBQUgJuXzs7OTnDz0huI9/d38M3NTfCWlpagjvedqOJIUXCkKDhSqHtcIEpLS8G7u7vBKysrwZuamlyPd3Z2Bl5eXu7bDvfjMVUcKQqOFAVHSlT3uGB5eXkBj4vDGfrmlPjm5mbf9vb2dsjO62+o4khRcKQoOFKsX7NiIi0tDbytrQ08NjbWdf/d3V3wcPc1f1RxpCg4UhQcKVHd40pKSsBnZmbAGxsbXfc3p8ybUxm8RBVHioIjRcGRElU9rqOjA3xpaQk8OTnZdf+RkRHw5eVl8JubG4uz+15UcaQoOFIUHCnUv8fl5+eDHx0dgZtLRm1tbYGbU87n5+fBPz8j96tRxZGi4EhRcKRQ3cclJiaCLy4ugiclJYH39PSAb2xshObEPEAVR4qCI0XBkULV48bGxsDr6+vBd3Z2wM332aIJVRwpCo4UBUdKRPW4lJQU8Pv7e/DU1FTX/c37ukhe0skWVRwpCo4UBUeKp7/Htbe3g7e2toIfHx+Dm8vVm5ycnIDX1dWBm8vZFxcXgw8NDYH39/e7juclqjhSFBwpCo6UsPY4/6XsHefPpXZtl683MY9vzkFpaGgAf319BQ903+glqjhSFBwpCo6UsD6rzMnJAc/IyAjpeOZfpAXCXNekr68P/OHh4Z/7mu8V3N7egl9cXAR1LoFQxZGi4EhRcKR4+qzS7Hnx8fHgNTU14LW1teDmuiVdXV3fd3KO41xfX4MfHByA+7+PZz4HPT09BR8dHQW3XSNFFUeKgiPF06kLV1dXrp9fXl6Cm6/2mks4BfuIylzuPiEhAdxcHn9wcBDc/xGZ+S8kFRUV4OZUQl0qfygKjhQFRwr1q8Q/GVUcKQqOFAVHioIjRcGRouBIUXCkKDhSFBwpCo4UBUeKgiNFwZGi4EhRcKQoOFIUHCkKjhQFR8pvcG/pC40dmTcAAAAASUVORK5CYII=\" y=\"-8.887612\"/>\n   </g>\n   <g id=\"matplotlib.axis_1\">\n    <g id=\"xtick_1\">\n     <g id=\"line2d_1\">\n      <defs>\n       <path d=\"M 0 0 \nL 0 3.5 \n\" id=\"m8ce809c075\" style=\"stroke:#000000;stroke-width:0.8;\"/>\n      </defs>\n      <g>\n       <use style=\"stroke:#000000;stroke-width:0.8;\" x=\"28.886607\" xlink:href=\"#m8ce809c075\" y=\"118.887612\"/>\n      </g>\n     </g>\n     <g id=\"text_1\">\n      <!-- 0 -->\n      <g transform=\"translate(25.705357 133.486049)scale(0.1 -0.1)\">\n       <defs>\n        <path d=\"M 31.78125 66.40625 \nQ 24.171875 66.40625 20.328125 58.90625 \nQ 16.5 51.421875 16.5 36.375 \nQ 16.5 21.390625 20.328125 13.890625 \nQ 24.171875 6.390625 31.78125 6.390625 \nQ 39.453125 6.390625 43.28125 13.890625 \nQ 47.125 21.390625 47.125 36.375 \nQ 47.125 51.421875 43.28125 58.90625 \nQ 39.453125 66.40625 31.78125 66.40625 \nz\nM 31.78125 74.21875 \nQ 44.046875 74.21875 50.515625 64.515625 \nQ 56.984375 54.828125 56.984375 36.375 \nQ 56.984375 17.96875 50.515625 8.265625 \nQ 44.046875 -1.421875 31.78125 -1.421875 \nQ 19.53125 -1.421875 13.0625 8.265625 \nQ 6.59375 17.96875 6.59375 36.375 \nQ 6.59375 54.828125 13.0625 64.515625 \nQ 19.53125 74.21875 31.78125 74.21875 \nz\n\" id=\"DejaVuSans-48\"/>\n       </defs>\n       <use xlink:href=\"#DejaVuSans-48\"/>\n      </g>\n     </g>\n    </g>\n    <g id=\"xtick_2\">\n     <g id=\"line2d_2\">\n      <g>\n       <use style=\"stroke:#000000;stroke-width:0.8;\" x=\"68.11875\" xlink:href=\"#m8ce809c075\" y=\"118.887612\"/>\n      </g>\n     </g>\n     <g id=\"text_2\">\n      <!-- 10 -->\n      <g transform=\"translate(61.75625 133.486049)scale(0.1 -0.1)\">\n       <defs>\n        <path d=\"M 12.40625 8.296875 \nL 28.515625 8.296875 \nL 28.515625 63.921875 \nL 10.984375 60.40625 \nL 10.984375 69.390625 \nL 28.421875 72.90625 \nL 38.28125 72.90625 \nL 38.28125 8.296875 \nL 54.390625 8.296875 \nL 54.390625 0 \nL 12.40625 0 \nz\n\" id=\"DejaVuSans-49\"/>\n       </defs>\n       <use xlink:href=\"#DejaVuSans-49\"/>\n       <use x=\"63.623047\" xlink:href=\"#DejaVuSans-48\"/>\n      </g>\n     </g>\n    </g>\n    <g id=\"xtick_3\">\n     <g id=\"line2d_3\">\n      <g>\n       <use style=\"stroke:#000000;stroke-width:0.8;\" x=\"107.350893\" xlink:href=\"#m8ce809c075\" y=\"118.887612\"/>\n      </g>\n     </g>\n     <g id=\"text_3\">\n      <!-- 20 -->\n      <g transform=\"translate(100.988393 133.486049)scale(0.1 -0.1)\">\n       <defs>\n        <path d=\"M 19.1875 8.296875 \nL 53.609375 8.296875 \nL 53.609375 0 \nL 7.328125 0 \nL 7.328125 8.296875 \nQ 12.9375 14.109375 22.625 23.890625 \nQ 32.328125 33.6875 34.8125 36.53125 \nQ 39.546875 41.84375 41.421875 45.53125 \nQ 43.3125 49.21875 43.3125 52.78125 \nQ 43.3125 58.59375 39.234375 62.25 \nQ 35.15625 65.921875 28.609375 65.921875 \nQ 23.96875 65.921875 18.8125 64.3125 \nQ 13.671875 62.703125 7.8125 59.421875 \nL 7.8125 69.390625 \nQ 13.765625 71.78125 18.9375 73 \nQ 24.125 74.21875 28.421875 74.21875 \nQ 39.75 74.21875 46.484375 68.546875 \nQ 53.21875 62.890625 53.21875 53.421875 \nQ 53.21875 48.921875 51.53125 44.890625 \nQ 49.859375 40.875 45.40625 35.40625 \nQ 44.1875 33.984375 37.640625 27.21875 \nQ 31.109375 20.453125 19.1875 8.296875 \nz\n\" id=\"DejaVuSans-50\"/>\n       </defs>\n       <use xlink:href=\"#DejaVuSans-50\"/>\n       <use x=\"63.623047\" xlink:href=\"#DejaVuSans-48\"/>\n      </g>\n     </g>\n    </g>\n   </g>\n   <g id=\"matplotlib.axis_2\">\n    <g id=\"ytick_1\">\n     <g id=\"line2d_4\">\n      <defs>\n       <path d=\"M 0 0 \nL -3.5 0 \n\" id=\"me726000e38\" style=\"stroke:#000000;stroke-width:0.8;\"/>\n      </defs>\n      <g>\n       <use style=\"stroke:#000000;stroke-width:0.8;\" x=\"26.925\" xlink:href=\"#me726000e38\" y=\"10.999219\"/>\n      </g>\n     </g>\n     <g id=\"text_4\">\n      <!-- 0 -->\n      <g transform=\"translate(13.5625 14.798437)scale(0.1 -0.1)\">\n       <use xlink:href=\"#DejaVuSans-48\"/>\n      </g>\n     </g>\n    </g>\n    <g id=\"ytick_2\">\n     <g id=\"line2d_5\">\n      <g>\n       <use style=\"stroke:#000000;stroke-width:0.8;\" x=\"26.925\" xlink:href=\"#me726000e38\" y=\"50.231362\"/>\n      </g>\n     </g>\n     <g id=\"text_5\">\n      <!-- 10 -->\n      <g transform=\"translate(7.2 54.03058)scale(0.1 -0.1)\">\n       <use xlink:href=\"#DejaVuSans-49\"/>\n       <use x=\"63.623047\" xlink:href=\"#DejaVuSans-48\"/>\n      </g>\n     </g>\n    </g>\n    <g id=\"ytick_3\">\n     <g id=\"line2d_6\">\n      <g>\n       <use style=\"stroke:#000000;stroke-width:0.8;\" x=\"26.925\" xlink:href=\"#me726000e38\" y=\"89.463504\"/>\n      </g>\n     </g>\n     <g id=\"text_6\">\n      <!-- 20 -->\n      <g transform=\"translate(7.2 93.262723)scale(0.1 -0.1)\">\n       <use xlink:href=\"#DejaVuSans-50\"/>\n       <use x=\"63.623047\" xlink:href=\"#DejaVuSans-48\"/>\n      </g>\n     </g>\n    </g>\n   </g>\n   <g id=\"patch_3\">\n    <path d=\"M 26.925 118.887612 \nL 26.925 9.037612 \n\" style=\"fill:none;stroke:#000000;stroke-linecap:square;stroke-linejoin:miter;stroke-width:0.8;\"/>\n   </g>\n   <g id=\"patch_4\">\n    <path d=\"M 136.775 118.887612 \nL 136.775 9.037612 \n\" style=\"fill:none;stroke:#000000;stroke-linecap:square;stroke-linejoin:miter;stroke-width:0.8;\"/>\n   </g>\n   <g id=\"patch_5\">\n    <path d=\"M 26.925 118.887612 \nL 136.775 118.887612 \n\" style=\"fill:none;stroke:#000000;stroke-linecap:square;stroke-linejoin:miter;stroke-width:0.8;\"/>\n   </g>\n   <g id=\"patch_6\">\n    <path d=\"M 26.925 9.037612 \nL 136.775 9.037612 \n\" style=\"fill:none;stroke:#000000;stroke-linecap:square;stroke-linejoin:miter;stroke-width:0.8;\"/>\n   </g>\n  </g>\n  <g id=\"axes_2\">\n   <g id=\"patch_7\">\n    <path d=\"M 167.325 118.887612 \nL 277.175 118.887612 \nL 277.175 9.037612 \nL 167.325 9.037612 \nz\n\" style=\"fill:#ffffff;\"/>\n   </g>\n   <g clip-path=\"url(#pfd71aceb58)\">\n    <image height=\"110\" id=\"image356e853b50\" transform=\"scale(1 -1)translate(0 -110)\" width=\"110\" x=\"167.325\" xlink:href=\"data:image/png;base64,\niVBORw0KGgoAAAANSUhEUgAAAG4AAABuCAYAAADGWyb7AAAEj0lEQVR4nO2dSyhtfRjGly+RFAMjMmBg6pJcEkcZykyuxZAJR66lMDI8hQykZCDlXiQkRcptwFHGRu6SgUsK4Zvt9vN+tXebffH4nt9o/Vqttf7O07ve1n/91z5hjuN8OIKOf0I9APE5FBwpCo4UBUeKgiNFwZGi4EhRcKQoOFIUHCkKjhQFR4qCI0XBkaLgSAkP5sXi4+PB6+vrwbu6usDDwsLAPz7w1eHAwAD40NAQ+PHx8afGyYAqjhQFR4qCIyXMCfCak8TERNf2zMwM7MvKyvJ4rLceZ7m9vQWfnJwEb2pq8ng8E6o4UhQcKQqOlID3uLKyMtf2xMSET8deX1+D39/fg6ekpPh0vt3dXfCNjQ3wnp4en84XSlRxpCg4UhQcKUGdq7S8vb2BDw8Pg4+OjoLb57Tc3Fzwmpoa8LS0NPC8vDxw92dMx/lvz7RzoXt7e853QRVHioIjJeC3SvdpKzuFdXV1Bf7792+fzn16egpup9Qszc3N4N3d3eDl5eXgr6+v4LpVii+j4EhRcKQEvMe5v4qxr2Xm5+cDfXmgr68P3E55tbe3g1dXV4NHR0eDl5aW+nF0vqGKI0XBkaLgSAnpax37HJacnBzIoXglMjIS3C4X7OzsBD8/P3dt19XVwb7V1VU/jw5RxZGi4EhRcKSE9LWO7Sl2ifrl5WUwh+M8Pz+D9/b2goeH4z9XR0eHa7u1tRX2bW9vgz8+PvpjiC5UcaQoOFIUHCkBf44rKSlxbU9PT8O+iIgI8La2NvD+/v6AjcsfuC+9sPOw9pOvxsZGv15bFUeKgiNFwZES8B7nzs7ODnhOTg745uYmeFFRUcDH9BXc+9r7+zvss39rQUGBX6+tiiNFwZGi4EgJ6lxlS0sL+NbWFvivX7/ACwsLwW0PDDXufc3bZ87+RhVHioIjRcGREtQed3h4CL68vAxeXFwMvrCwAF5RUQG+v78PHhUVBX52dvapcTKgiiNFwZGi4EgJao+zazrs+7eHhwfwyspK8LGxMXC7JsWuEZmdnf3UOP3ByclJQM+viiNFwZGi4EgJ6vs4b6Snp4Ovr6+Dx8TEeDx+ZWUFvKqqCtzOfaampoKPjIyA39zceLye+5qTp6cnj9f6+/evx3P5iiqOFAVHioIj5Vv1OEtmZib42toaeGxsrMfj7fu7xcVF8D9//oBfXFyAu68JdRzHSUpKAnf/hn1qagr22WdQf6OKI0XBkaLgSAnp93HeODg4AF9aWgK3z2kWb2tY7DoR+31eRkYGuP1ZRa05ET6j4EhRcKR86x5nsf9tmf0p4PHxcXD7073esPOJ9rtt2yPdOTo68ulaX0UVR4qCI0XBkfKt5yp9JTs7G3xubg48ISEB3D572TUvLy8v4HFxceD5+fmubdsf7bH+RhVHioIj5UfdKi1fXQphubu7A7e3zmCiiiNFwZGi4Ej50T3OYpdCNDQ0gNfW1oLbJe+Dg4Pg/l5y5wuqOFIUHCkKjpT/VY/7SajiSFFwpCg4UhQcKQqOFAVHioIjRcGRouBIUXCkKDhSFBwpCo4UBUeKgiPlX9ZUOHmJdwuNAAAAAElFTkSuQmCC\" y=\"-8.887612\"/>\n   </g>\n   <g id=\"matplotlib.axis_3\">\n    <g id=\"xtick_4\">\n     <g id=\"line2d_7\">\n      <g>\n       <use style=\"stroke:#000000;stroke-width:0.8;\" x=\"169.286607\" xlink:href=\"#m8ce809c075\" y=\"118.887612\"/>\n      </g>\n     </g>\n     <g id=\"text_7\">\n      <!-- 0 -->\n      <g transform=\"translate(166.105357 133.486049)scale(0.1 -0.1)\">\n       <use xlink:href=\"#DejaVuSans-48\"/>\n      </g>\n     </g>\n    </g>\n    <g id=\"xtick_5\">\n     <g id=\"line2d_8\">\n      <g>\n       <use style=\"stroke:#000000;stroke-width:0.8;\" x=\"208.51875\" xlink:href=\"#m8ce809c075\" y=\"118.887612\"/>\n      </g>\n     </g>\n     <g id=\"text_8\">\n      <!-- 10 -->\n      <g transform=\"translate(202.15625 133.486049)scale(0.1 -0.1)\">\n       <use xlink:href=\"#DejaVuSans-49\"/>\n       <use x=\"63.623047\" xlink:href=\"#DejaVuSans-48\"/>\n      </g>\n     </g>\n    </g>\n    <g id=\"xtick_6\">\n     <g id=\"line2d_9\">\n      <g>\n       <use style=\"stroke:#000000;stroke-width:0.8;\" x=\"247.750893\" xlink:href=\"#m8ce809c075\" y=\"118.887612\"/>\n      </g>\n     </g>\n     <g id=\"text_9\">\n      <!-- 20 -->\n      <g transform=\"translate(241.388393 133.486049)scale(0.1 -0.1)\">\n       <use xlink:href=\"#DejaVuSans-50\"/>\n       <use x=\"63.623047\" xlink:href=\"#DejaVuSans-48\"/>\n      </g>\n     </g>\n    </g>\n   </g>\n   <g id=\"matplotlib.axis_4\">\n    <g id=\"ytick_4\">\n     <g id=\"line2d_10\">\n      <g>\n       <use style=\"stroke:#000000;stroke-width:0.8;\" x=\"167.325\" xlink:href=\"#me726000e38\" y=\"10.999219\"/>\n      </g>\n     </g>\n     <g id=\"text_10\">\n      <!-- 0 -->\n      <g transform=\"translate(153.9625 14.798438)scale(0.1 -0.1)\">\n       <use xlink:href=\"#DejaVuSans-48\"/>\n      </g>\n     </g>\n    </g>\n    <g id=\"ytick_5\">\n     <g id=\"line2d_11\">\n      <g>\n       <use style=\"stroke:#000000;stroke-width:0.8;\" x=\"167.325\" xlink:href=\"#me726000e38\" y=\"50.231362\"/>\n      </g>\n     </g>\n     <g id=\"text_11\">\n      <!-- 10 -->\n      <g transform=\"translate(147.6 54.03058)scale(0.1 -0.1)\">\n       <use xlink:href=\"#DejaVuSans-49\"/>\n       <use x=\"63.623047\" xlink:href=\"#DejaVuSans-48\"/>\n      </g>\n     </g>\n    </g>\n    <g id=\"ytick_6\">\n     <g id=\"line2d_12\">\n      <g>\n       <use style=\"stroke:#000000;stroke-width:0.8;\" x=\"167.325\" xlink:href=\"#me726000e38\" y=\"89.463504\"/>\n      </g>\n     </g>\n     <g id=\"text_12\">\n      <!-- 20 -->\n      <g transform=\"translate(147.6 93.262723)scale(0.1 -0.1)\">\n       <use xlink:href=\"#DejaVuSans-50\"/>\n       <use x=\"63.623047\" xlink:href=\"#DejaVuSans-48\"/>\n      </g>\n     </g>\n    </g>\n   </g>\n   <g id=\"patch_8\">\n    <path d=\"M 167.325 118.887612 \nL 167.325 9.037612 \n\" style=\"fill:none;stroke:#000000;stroke-linecap:square;stroke-linejoin:miter;stroke-width:0.8;\"/>\n   </g>\n   <g id=\"patch_9\">\n    <path d=\"M 277.175 118.887612 \nL 277.175 9.037612 \n\" style=\"fill:none;stroke:#000000;stroke-linecap:square;stroke-linejoin:miter;stroke-width:0.8;\"/>\n   </g>\n   <g id=\"patch_10\">\n    <path d=\"M 167.325 118.887612 \nL 277.175 118.887612 \n\" style=\"fill:none;stroke:#000000;stroke-linecap:square;stroke-linejoin:miter;stroke-width:0.8;\"/>\n   </g>\n   <g id=\"patch_11\">\n    <path d=\"M 167.325 9.037612 \nL 277.175 9.037612 \n\" style=\"fill:none;stroke:#000000;stroke-linecap:square;stroke-linejoin:miter;stroke-width:0.8;\"/>\n   </g>\n  </g>\n  <g id=\"axes_3\">\n   <g id=\"patch_12\">\n    <path d=\"M 307.725 118.887612 \nL 417.575 118.887612 \nL 417.575 9.037612 \nL 307.725 9.037612 \nz\n\" style=\"fill:#ffffff;\"/>\n   </g>\n   <g clip-path=\"url(#pe619bbf3c8)\">\n    <image height=\"110\" id=\"image48c47d90f6\" transform=\"scale(1 -1)translate(0 -110)\" width=\"110\" x=\"307.725\" xlink:href=\"data:image/png;base64,\niVBORw0KGgoAAAANSUhEUgAAAG4AAABuCAYAAADGWyb7AAADmUlEQVR4nO2dvUvrYBjFU7moHRScCtVRiyDoIA7tXEFHZx1EpBUnB8HJf0MEwaFudulit0J1UdHBD7Ctg4IWxEXUQRfRu4We12tu06RNj5zflMOLyQM/nzzko23IsqwvS9DREXQBojEkjhSJI0XiSJE4UiSOFIkjReJIkThSJI4UiSPlT9AFtBPz8/OQt7e3IW9tbUFOp9PNLulH1HGkSBwpEkeKZlwN09PTkEOhUECV/B91HCkSR4rEkaIZ58DXV/u+jqOOI0XiSJE4UjTjXHB4eBh0CTbqOFIkjhSJI0UzzgHzXuXn52dAlXxHHUeKxJGiU6UD5i2v6+vrgCr5jjqOFIkjReJIkThSJI4UiSNF4kjRdZwLZmZmIB8dHQVUiTqOFokjReJICVkevxJqbW0NciKR8LI7IJfLQS6VSpD9njGpVAry5uYm5JubG8iDg4O+Ht8N6jhSJI4UiSPF9Yzb2NiAbH6c9vn5GfLd3V3d+x4dHcXijFcHPj4+IL+9vUG+urqCfHx8DPn09BTy/v4+5MfHR8jVahVyX18f5M7OTiso1HGkSBwpEkeK63uV4XAYsjmHlpaWIGez2br3PTY25rjvZDIJeWBgALI5cxYWFiAvLi5Cfn9/h2zOxO7ubsgdHfh/Pjw8bG+Xy2WrlajjSJE4UiSOFN+fxz09PTX8t+fn547rZ2dnrva3vLwMube3F/LU1BTkubk5yF1dXZDNGTc+Pm5va8aJupA4UiSOFN9n3MTEBORCoeD3IRrm9fUV8u7urmPe2dmBPDs7C3l9fd3e3tvbgzXznq3fqONIkThSJI4U1zOuUqk4ro+MjDRcTLuxuroK2bxXGovF7O2enh5Y04wT/0TiSJE4UlzPuHw+D7n2Wua3Yb6Dcnt7CzkSidjb/f39sHZ/f9+8wix1HC0SR4rEkeJ6xl1cXEA258Bv5uXl5ce1yclJyM3+7Jw6jhSJI0XiSPH8PK6dvgqw2ZjvZdZeqw0NDbW0FnUcKRJHisSR4nnGZTIZyK0+17eSh4cHyLU/vRmPx2Gt9nMFluX/e5fqOFIkjhSJI8XzjCsWi5AvLy+97rJtMa9Za5/PRaNRWGv2T5ip40iROFI8nyoPDg78qIOSk5MTe3tlZaWlx1bHkSJxpEgcKZ6/9lAEgzqOFIkjReJIkThSJI4UiSNF4kiROFIkjhSJI0XiSJE4UiSOFIkjReJIkThSJI4UiSNF4kj5C2mVwFY1zxtQAAAAAElFTkSuQmCC\" y=\"-8.887612\"/>\n   </g>\n   <g id=\"matplotlib.axis_5\">\n    <g id=\"xtick_7\">\n     <g id=\"line2d_13\">\n      <g>\n       <use style=\"stroke:#000000;stroke-width:0.8;\" x=\"309.686607\" xlink:href=\"#m8ce809c075\" y=\"118.887612\"/>\n      </g>\n     </g>\n     <g id=\"text_13\">\n      <!-- 0 -->\n      <g transform=\"translate(306.505357 133.486049)scale(0.1 -0.1)\">\n       <use xlink:href=\"#DejaVuSans-48\"/>\n      </g>\n     </g>\n    </g>\n    <g id=\"xtick_8\">\n     <g id=\"line2d_14\">\n      <g>\n       <use style=\"stroke:#000000;stroke-width:0.8;\" x=\"348.91875\" xlink:href=\"#m8ce809c075\" y=\"118.887612\"/>\n      </g>\n     </g>\n     <g id=\"text_14\">\n      <!-- 10 -->\n      <g transform=\"translate(342.55625 133.486049)scale(0.1 -0.1)\">\n       <use xlink:href=\"#DejaVuSans-49\"/>\n       <use x=\"63.623047\" xlink:href=\"#DejaVuSans-48\"/>\n      </g>\n     </g>\n    </g>\n    <g id=\"xtick_9\">\n     <g id=\"line2d_15\">\n      <g>\n       <use style=\"stroke:#000000;stroke-width:0.8;\" x=\"388.150893\" xlink:href=\"#m8ce809c075\" y=\"118.887612\"/>\n      </g>\n     </g>\n     <g id=\"text_15\">\n      <!-- 20 -->\n      <g transform=\"translate(381.788393 133.486049)scale(0.1 -0.1)\">\n       <use xlink:href=\"#DejaVuSans-50\"/>\n       <use x=\"63.623047\" xlink:href=\"#DejaVuSans-48\"/>\n      </g>\n     </g>\n    </g>\n   </g>\n   <g id=\"matplotlib.axis_6\">\n    <g id=\"ytick_7\">\n     <g id=\"line2d_16\">\n      <g>\n       <use style=\"stroke:#000000;stroke-width:0.8;\" x=\"307.725\" xlink:href=\"#me726000e38\" y=\"10.999219\"/>\n      </g>\n     </g>\n     <g id=\"text_16\">\n      <!-- 0 -->\n      <g transform=\"translate(294.3625 14.798438)scale(0.1 -0.1)\">\n       <use xlink:href=\"#DejaVuSans-48\"/>\n      </g>\n     </g>\n    </g>\n    <g id=\"ytick_8\">\n     <g id=\"line2d_17\">\n      <g>\n       <use style=\"stroke:#000000;stroke-width:0.8;\" x=\"307.725\" xlink:href=\"#me726000e38\" y=\"50.231362\"/>\n      </g>\n     </g>\n     <g id=\"text_17\">\n      <!-- 10 -->\n      <g transform=\"translate(288 54.03058)scale(0.1 -0.1)\">\n       <use xlink:href=\"#DejaVuSans-49\"/>\n       <use x=\"63.623047\" xlink:href=\"#DejaVuSans-48\"/>\n      </g>\n     </g>\n    </g>\n    <g id=\"ytick_9\">\n     <g id=\"line2d_18\">\n      <g>\n       <use style=\"stroke:#000000;stroke-width:0.8;\" x=\"307.725\" xlink:href=\"#me726000e38\" y=\"89.463504\"/>\n      </g>\n     </g>\n     <g id=\"text_18\">\n      <!-- 20 -->\n      <g transform=\"translate(288 93.262723)scale(0.1 -0.1)\">\n       <use xlink:href=\"#DejaVuSans-50\"/>\n       <use x=\"63.623047\" xlink:href=\"#DejaVuSans-48\"/>\n      </g>\n     </g>\n    </g>\n   </g>\n   <g id=\"patch_13\">\n    <path d=\"M 307.725 118.887612 \nL 307.725 9.037612 \n\" style=\"fill:none;stroke:#000000;stroke-linecap:square;stroke-linejoin:miter;stroke-width:0.8;\"/>\n   </g>\n   <g id=\"patch_14\">\n    <path d=\"M 417.575 118.887612 \nL 417.575 9.037612 \n\" style=\"fill:none;stroke:#000000;stroke-linecap:square;stroke-linejoin:miter;stroke-width:0.8;\"/>\n   </g>\n   <g id=\"patch_15\">\n    <path d=\"M 307.725 118.887612 \nL 417.575 118.887612 \n\" style=\"fill:none;stroke:#000000;stroke-linecap:square;stroke-linejoin:miter;stroke-width:0.8;\"/>\n   </g>\n   <g id=\"patch_16\">\n    <path d=\"M 307.725 9.037612 \nL 417.575 9.037612 \n\" style=\"fill:none;stroke:#000000;stroke-linecap:square;stroke-linejoin:miter;stroke-width:0.8;\"/>\n   </g>\n  </g>\n </g>\n <defs>\n  <clipPath id=\"p5a514d460e\">\n   <rect height=\"109.85\" width=\"109.85\" x=\"26.925\" y=\"9.037612\"/>\n  </clipPath>\n  <clipPath id=\"pfd71aceb58\">\n   <rect height=\"109.85\" width=\"109.85\" x=\"167.325\" y=\"9.037612\"/>\n  </clipPath>\n  <clipPath id=\"pe619bbf3c8\">\n   <rect height=\"109.85\" width=\"109.85\" x=\"307.725\" y=\"9.037612\"/>\n  </clipPath>\n </defs>\n</svg>\n",
      "image/png": "[encoded data removed]"
     },
     "metadata": {
      "needs_background": "light"
     }
    }
   ],
   "source": [
    "# 取得する枚数を指定\n",
    "B = 3\n",
    "\n",
    "# データセット取得\n",
    "(x_train, _), (_, _) = mnist.load_data()\n",
    "x_train = x_train[:B]\n",
    "\n",
    "# 表示してみる\n",
    "fig, ax = plt.subplots(1, B)\n",
    "for i, x in enumerate(x_train):\n",
    "    ax[i].imshow(x, cmap=\"gray\")\n",
    "fig.tight_layout()\n",
    "plt.savefig(\"mnist_data.png\")\n",
    "plt.show()"
   ]
  },
  {
   "cell_type": "code",
   "execution_count": 8,
   "metadata": {},
   "outputs": [],
   "source": [
    "# a_ijm = np.zeros((i,j,m))\n",
    "# for K in range(k):\n",
    "#     for Fh in range(Fh):\n",
    "#         for Fw in range(Fw):\n",
    "#             a[i, j, m] = x[K,i: i + Fh, j: j + Fw] * w[Fh, Fw, K , m] + b[m]"
   ]
  },
  {
   "cell_type": "code",
   "execution_count": 9,
   "metadata": {},
   "outputs": [
    {
     "output_type": "execute_result",
     "data": {
      "text/plain": [
       "(array([[[1, 2],\n",
       "         [3, 4]],\n",
       " \n",
       "        [[5, 6],\n",
       "         [7, 8]]]),\n",
       " array([['a', 'b'],\n",
       "        ['c', 'd']], dtype=object))"
      ]
     },
     "metadata": {},
     "execution_count": 9
    }
   ],
   "source": [
    "a = np.arange(1, 9).reshape(2, 2, 2)\n",
    "A = np.array([['a', 'b', 'c', 'd']], dtype=object).reshape(2, 2)\n",
    "a,A"
   ]
  },
  {
   "cell_type": "code",
   "execution_count": 10,
   "metadata": {},
   "outputs": [],
   "source": [
    "# class Conv2d1:\n",
    "#     def __init__(self, m, k, kh, kw, act):\n",
    "#         self.W = np.random.nomal(0, np.sqrt(2/ (m* kh* kw)), (m, k, kh, kw))\n",
    "#         self.kh = kh\n",
    "#         self.kw = kw\n",
    "#         self.activation= act\n",
    "#     def forward(self, X):\n",
    "#         return self.activation.activate(self._forward(X))\n",
    "\n",
    "#     def backward(self, delta, shape):\n",
    "#         n_batch, k, h, w = delta.shape\n",
    "#         delta_patch = np.tensordot(delta.reshape(s_batch, k, h * w), self.W, (1, 0))\n",
    "#         return self._patch2i(delta_patch, h, w, shape)\n",
    "\n",
    "#     def update(self, delta, epsilon):\n",
    "#         n_batch, k, h, w = delta.shape\n",
    "#         self.weight -= epsilon * self._grad(delta, s_batch, k, h, w)\n",
    "\n",
    "#     def _forward(self, X):\n",
    "#         n_batch, k, xh, xw = X.shape\n",
    "#         m = self.W.shape[0]\n",
    "#         oh, ow = xh - self.kh / 2 * 2, xw - self.kw / 2 * 2\n",
    "#         self._patch = self._im2p(X, n_batch, k, oh, ow)\n",
    "#         A = np.tensordot(self.patch, self.weight, ((2,3,4), (1,2,3))).swapaxes(1,2).reshape(n_batch, m, oh, ow)\n",
    "#         return A\n",
    "\n",
    "#     def _im2p(self, X, n_batch, k, oh, ow):\n",
    "#         patch = np.zeros((n_batch, oh * ow, k, self.kh, self.kw))\n",
    "#         for h in range(oh):\n",
    "#             for w in range(ow):\n",
    "#                 patch[:, h * ow + w, :, :, :] = X[:, :, h: h + self.kh, w: w+self.kw]\n",
    "#         return patch\n",
    "    \n",
    "#     def _backward(self, delta, shape):\n",
    "#         n_batch, k, h, w = delta.shape\n",
    "#         delta_patch = np.tensordot(delta.shape(n_batch, k, h * w), self.W, (1, 0))\n",
    "#         dX = self._patch2i(delta_ptch, h, w, shape)\n",
    "#         return dX\n",
    "\n",
    "#     def _patch2i(self, patch, h, w, shape):\n",
    "#         im = np.zeros(shape)\n",
    "#         for j in range(h):\n",
    "#             for i in range(w):\n",
    "#                 im[:, :, j : j+self.kh, i:i+self.kw] += patch[:, j * w + i]\n",
    "#                 return im\n",
    "\n",
    "#     def _grad(self, delta, n_batch, k, h, w):\n",
    "#         return np.tensordot(delta.reshape(n_batch, k, h * w), self._patch, ((0, 2), (0, 1))) / n_batch"
   ]
  },
  {
   "cell_type": "markdown",
   "metadata": {},
   "source": [
    "#### 【問題2】小さな配列での2次元畳み込み層の実験\n",
    "次に示す小さな配列でフォワードプロパゲーションとバックプロパゲーションが正しく行えているか確認してください。\n",
    "\n",
    "入力x、重みwを次のようにします。"
   ]
  },
  {
   "cell_type": "code",
   "execution_count": 335,
   "metadata": {},
   "outputs": [],
   "source": [
    "#CNN2 のフォワードを流す時の入力データ\n",
    "#(2,3,3)\n",
    "#(1,1,4,4)\n",
    "x = np.array([\n",
    "[\n",
    "[\n",
    "[ 1, 2, 3, 4],\n",
    "[ 5, 6, 7, 8],\n",
    "[ 9, 10, 11, 12],\n",
    "[13, 14, 15, 16]\n",
    "],\n",
    "],\n",
    "])\n",
    "w = np.array([\n",
    "[\n",
    "[ 0., 0., 0.],\n",
    "[ 0., 1., 0.],\n",
    "[ 0., -1., 0.],\n",
    "],\n",
    "[\n",
    "[ 0., 0., 0.],\n",
    "[ 0., -1., 1.],\n",
    "[ 0., 0., 0.]\n",
    "]\n",
    "])\n",
    "#(?,1,2,2,)"
   ]
  },
  {
   "cell_type": "code",
   "execution_count": 296,
   "metadata": {},
   "outputs": [
    {
     "output_type": "execute_result",
     "data": {
      "text/plain": [
       "(array([[[[ 1,  2,  3,  4],\n",
       "          [ 5,  6,  7,  8],\n",
       "          [ 9, 10, 11, 12],\n",
       "          [13, 14, 15, 16]]]]),\n",
       " (1, 1, 4, 4),\n",
       " array([[[ 0.,  0.,  0.],\n",
       "         [ 0.,  1.,  0.],\n",
       "         [ 0., -1.,  0.]],\n",
       " \n",
       "        [[ 0.,  0.,  0.],\n",
       "         [ 0., -1.,  1.],\n",
       "         [ 0.,  0.,  0.]]]),\n",
       " (2, 3, 3))"
      ]
     },
     "metadata": {},
     "execution_count": 296
    }
   ],
   "source": [
    "x,x.shape,w,w.shape"
   ]
  },
  {
   "cell_type": "code",
   "execution_count": 13,
   "metadata": {},
   "outputs": [
    {
     "output_type": "execute_result",
     "data": {
      "text/plain": [
       "array([[[[ 1,  2,  3,  4],\n",
       "         [ 5,  6,  7,  8],\n",
       "         [ 9, 10, 11, 12],\n",
       "         [13, 14, 15, 16]]]])"
      ]
     },
     "metadata": {},
     "execution_count": 13
    }
   ],
   "source": [
    "x"
   ]
  },
  {
   "cell_type": "code",
   "execution_count": 133,
   "metadata": {},
   "outputs": [
    {
     "output_type": "execute_result",
     "data": {
      "text/plain": [
       "(2, 3, 3)"
      ]
     },
     "metadata": {},
     "execution_count": 133
    }
   ],
   "source": [
    "w.shape"
   ]
  },
  {
   "cell_type": "code",
   "execution_count": 14,
   "metadata": {},
   "outputs": [],
   "source": [
    "forward_output = np.array([\n",
    "[\n",
    "[-4,-4],\n",
    "[-4,-4],\n",
    "],\n",
    "[\n",
    "[1,1],\n",
    "[1,1],\n",
    "]\n",
    "])"
   ]
  },
  {
   "cell_type": "markdown",
   "metadata": {},
   "source": [
    "フォワードプロパゲーションをすると出力は次のようになります。\n"
   ]
  },
  {
   "cell_type": "code",
   "execution_count": 83,
   "metadata": {},
   "outputs": [
    {
     "output_type": "execute_result",
     "data": {
      "text/plain": [
       "array([[[-4, -4],\n",
       "        [-4, -4]],\n",
       "\n",
       "       [[ 1,  1],\n",
       "        [ 1,  1]]])"
      ]
     },
     "metadata": {},
     "execution_count": 83
    }
   ],
   "source": [
    "forward_output"
   ]
  },
  {
   "cell_type": "code",
   "execution_count": 82,
   "metadata": {},
   "outputs": [],
   "source": [
    "#im2colを考える\n",
    "\n",
    "    # Params\n",
    "    # ---------\n",
    "    # input_data :data_num, chanel, hight, haba, \n",
    "    # filter_h : filter no takasa\n",
    "    # filter_w : filter no haba\n",
    "    # stride\n",
    "    # pad : padding\n",
    "\n",
    "    # returns\n",
    "    # --------\n",
    "    # col : 2dim hairetu\n"
   ]
  },
  {
   "cell_type": "code",
   "execution_count": 154,
   "metadata": {},
   "outputs": [],
   "source": [
    "#ストライド　パディングなし\n",
    "def im2col3(input_data,filter_h,filter_w):\n",
    "    N, C, H, W = input_data.shape\n",
    "    O_h = H - filter_h + 1\n",
    "    print(O_h)\n",
    "    O_w = W - filter_w +1\n",
    "    print(O_w)\n",
    "    cols = np.empty((N, C, filter_h, filter_w, O_h, O_w))\n",
    "    for h in range(filter_h):\n",
    "        for w in range(filter_w):\n",
    "            cols[:, :, h, w, :, :] = input_data[:, :, h : h+O_h, w : w+O_w]\n",
    "            \n",
    "    #N C Fh Fw Oh Ow -> C Fh Fw N Oh Ow\n",
    "    return cols.transpose(1,2,3,0,4,5).reshape(C*filter_h*filter_w, N*O_h*O_w)"
   ]
  },
  {
   "cell_type": "code",
   "execution_count": 156,
   "metadata": {},
   "outputs": [
    {
     "output_type": "stream",
     "name": "stdout",
     "text": [
      "3 3\n2\n2\n"
     ]
    },
    {
     "output_type": "execute_result",
     "data": {
      "text/plain": [
       "(array([[ 1.,  2.,  5.,  6.],\n",
       "        [ 2.,  3.,  6.,  7.],\n",
       "        [ 3.,  4.,  7.,  8.],\n",
       "        [ 5.,  6.,  9., 10.],\n",
       "        [ 6.,  7., 10., 11.],\n",
       "        [ 7.,  8., 11., 12.],\n",
       "        [ 9., 10., 13., 14.],\n",
       "        [10., 11., 14., 15.],\n",
       "        [11., 12., 15., 16.]]),\n",
       " (9, 4))"
      ]
     },
     "metadata": {},
     "execution_count": 156
    }
   ],
   "source": [
    "F_n,F_c,F_h,F_w = w[:,np.newaxis,:,:].shape\n",
    "print(F_h,F_w)\n",
    "a = im2col3(x,F_h,F_w)\n",
    "a,a.shape"
   ]
  },
  {
   "cell_type": "code",
   "execution_count": 155,
   "metadata": {},
   "outputs": [
    {
     "output_type": "stream",
     "name": "stdout",
     "text": [
      "1\n1\n"
     ]
    },
    {
     "output_type": "execute_result",
     "data": {
      "text/plain": [
       "(array([[ 0.,  0.],\n",
       "        [ 0.,  0.],\n",
       "        [ 0.,  0.],\n",
       "        [ 0.,  0.],\n",
       "        [ 1., -1.],\n",
       "        [ 0.,  1.],\n",
       "        [ 0.,  0.],\n",
       "        [-1.,  0.],\n",
       "        [ 0.,  0.]]),\n",
       " (9, 2))"
      ]
     },
     "metadata": {},
     "execution_count": 155
    }
   ],
   "source": [
    "b = im2col3(w[:,np.newaxis,:,:],F_h,F_w)\n",
    "b,b.shape"
   ]
  },
  {
   "cell_type": "code",
   "execution_count": 20,
   "metadata": {},
   "outputs": [
    {
     "output_type": "execute_result",
     "data": {
      "text/plain": [
       "array([[ 0.,  0.,  0.,  0.,  1.,  0.,  0., -1.,  0.],\n",
       "       [ 0.,  0.,  0.,  0., -1.,  1.,  0.,  0.,  0.]])"
      ]
     },
     "metadata": {},
     "execution_count": 20
    }
   ],
   "source": [
    "b.T"
   ]
  },
  {
   "cell_type": "code",
   "execution_count": 21,
   "metadata": {},
   "outputs": [
    {
     "output_type": "execute_result",
     "data": {
      "text/plain": [
       "array([[[ 0.,  0.,  0.],\n",
       "        [ 0.,  1.,  0.],\n",
       "        [ 0., -1.,  0.]],\n",
       "\n",
       "       [[ 0.,  0.,  0.],\n",
       "        [ 0., -1.,  1.],\n",
       "        [ 0.,  0.,  0.]]])"
      ]
     },
     "metadata": {},
     "execution_count": 21
    }
   ],
   "source": [
    "#bになる前\n",
    "w"
   ]
  },
  {
   "cell_type": "markdown",
   "metadata": {},
   "source": [
    "アウトプットのshape： O_h=2,O_w=2  \n",
    "x の枚数（バッチ数）：N=2  \n",
    "A = shape(N, O_h, O_w)　 の形状に変換\n"
   ]
  },
  {
   "cell_type": "code",
   "execution_count": 126,
   "metadata": {},
   "outputs": [
    {
     "output_type": "execute_result",
     "data": {
      "text/plain": [
       "(array([[[-4., -4.],\n",
       "         [-4., -4.]],\n",
       " \n",
       "        [[ 1.,  1.],\n",
       "         [ 1.,  1.]]]),\n",
       " (2, 2, 2))"
      ]
     },
     "metadata": {},
     "execution_count": 126
    }
   ],
   "source": [
    "c = b.T @ a\n",
    "c = c.reshape(2,2,2)\n",
    "c,c.shape"
   ]
  },
  {
   "cell_type": "code",
   "execution_count": 110,
   "metadata": {},
   "outputs": [],
   "source": [
    "#ストライド　パディングあり\n",
    "def im2col4(input_data,filter_h,filter_w):\n",
    "    N, C, H, W = input_data.shape\n",
    "    O_h = H - filter_h + 1\n",
    "    print(O_h)\n",
    "    O_w = W - filter_w +1\n",
    "    print(O_w)\n",
    "    cols = np.empty((N, C, filter_h, filter_w, O_h, O_w))\n",
    "    for h in range(filter_h):\n",
    "        for w in range(filter_w):\n",
    "            cols[:, :, h, w, :, :] = input_data[:, :, h : h+O_h, w : w+O_w]\n",
    "            \n",
    "    #N C Fh Fw Oh Ow -> C Fh Fw N Oh Ow\n",
    "    return cols.transpose(1,2,3,0,4,5).reshape(C*filter_h*filter_w, N*O_h*O_w)"
   ]
  },
  {
   "cell_type": "markdown",
   "metadata": {},
   "source": [
    "次にバックプロパゲーションを考えます。誤差は次のようであったとします。"
   ]
  },
  {
   "cell_type": "code",
   "execution_count": 25,
   "metadata": {},
   "outputs": [],
   "source": [
    "delta = np.array([\n",
    "[\n",
    "[-4,-4],\n",
    "[10,11],\n",
    "],\n",
    "[\n",
    "[1,-7],\n",
    "[1,-11],\n",
    "]\n",
    "])"
   ]
  },
  {
   "cell_type": "code",
   "execution_count": 26,
   "metadata": {},
   "outputs": [
    {
     "output_type": "execute_result",
     "data": {
      "text/plain": [
       "(2, 2, 2)"
      ]
     },
     "metadata": {},
     "execution_count": 26
    }
   ],
   "source": [
    "delta.shape"
   ]
  },
  {
   "cell_type": "code",
   "execution_count": 27,
   "metadata": {},
   "outputs": [
    {
     "output_type": "execute_result",
     "data": {
      "text/plain": [
       "(array([[ -4,  -4],\n",
       "        [ 10,  11],\n",
       "        [  1,  -7],\n",
       "        [  1, -11]]),\n",
       " (4, 2))"
      ]
     },
     "metadata": {},
     "execution_count": 27
    }
   ],
   "source": [
    "grad = delta.reshape(-1,2)\n",
    "grad,grad.shape"
   ]
  },
  {
   "cell_type": "code",
   "execution_count": 28,
   "metadata": {},
   "outputs": [
    {
     "output_type": "execute_result",
     "data": {
      "text/plain": [
       "array([[  0,   0,   0,   0],\n",
       "       [  0,  -4,  -4,   0],\n",
       "       [  0,  10,  11,   0],\n",
       "       [  0,   1,  -7,   0],\n",
       "       [  0,   1, -11,   0],\n",
       "       [  0,   0,   0,   0]])"
      ]
     },
     "metadata": {},
     "execution_count": 28
    }
   ],
   "source": [
    "pra = np.pad(grad,(1,))\n",
    "pra"
   ]
  },
  {
   "cell_type": "code",
   "execution_count": 369,
   "metadata": {},
   "outputs": [
    {
     "output_type": "execute_result",
     "data": {
      "text/plain": [
       "(6, 4)"
      ]
     },
     "metadata": {},
     "execution_count": 369
    }
   ],
   "source": [
    "pra.shape"
   ]
  },
  {
   "cell_type": "code",
   "execution_count": 371,
   "metadata": {},
   "outputs": [
    {
     "output_type": "execute_result",
     "data": {
      "text/plain": [
       "array([[  0.,   0.],\n",
       "       [ 12.,  12.],\n",
       "       [-29., -29.],\n",
       "       [-11., -11.],\n",
       "       [-15., -15.],\n",
       "       [  0.,   0.]])"
      ]
     },
     "metadata": {},
     "execution_count": 371
    }
   ],
   "source": [
    "cc = c.reshape(-1,2)\n",
    "dgra = pra@cc\n",
    "dgra"
   ]
  },
  {
   "cell_type": "code",
   "execution_count": null,
   "metadata": {},
   "outputs": [],
   "source": []
  },
  {
   "cell_type": "code",
   "execution_count": 325,
   "metadata": {},
   "outputs": [
    {
     "output_type": "execute_result",
     "data": {
      "text/plain": [
       "(9, 2)"
      ]
     },
     "metadata": {},
     "execution_count": 325
    }
   ],
   "source": [
    "b.shape"
   ]
  },
  {
   "cell_type": "code",
   "execution_count": 339,
   "metadata": {},
   "outputs": [
    {
     "output_type": "execute_result",
     "data": {
      "text/plain": [
       "(array([[  0.,   0.,   0.,   0.,   0.,  -4.,   0.,   4.,   0.],\n",
       "        [  0.,   0.,   0.,   0.,  -1.,  11.,   0., -10.,   0.],\n",
       "        [  0.,   0.,   0.,   0.,   8.,  -7.,   0.,  -1.,   0.],\n",
       "        [  0.,   0.,   0.,   0.,  12., -11.,   0.,  -1.,   0.]]),\n",
       " (4, 9))"
      ]
     },
     "metadata": {},
     "execution_count": 339
    }
   ],
   "source": [
    "dx =grad@b.T\n",
    "dx,dx.shape"
   ]
  },
  {
   "cell_type": "code",
   "execution_count": 395,
   "metadata": {},
   "outputs": [],
   "source": [
    "O_shape = 2,2,2"
   ]
  },
  {
   "cell_type": "code",
   "execution_count": 294,
   "metadata": {},
   "outputs": [
    {
     "output_type": "execute_result",
     "data": {
      "text/plain": [
       "(1, 1, 4, 4)"
      ]
     },
     "metadata": {},
     "execution_count": 294
    }
   ],
   "source": [
    "x.shape"
   ]
  },
  {
   "cell_type": "code",
   "execution_count": 393,
   "metadata": {},
   "outputs": [],
   "source": [
    "def col2im(cols, I_shape, O_shape):\n",
    "    N,I_h, I_w = I_shape\n",
    "    M,O_h, O_w = O_shape\n",
    "    filter_h = I_h - O_h +1\n",
    "    filter_w = I_w - O_w +1\n",
    "    print(filter_h)\n",
    "    print(filter_w)\n",
    "    print(O_h)\n",
    "    print(O_w)\n",
    "    cols = cols.reshape(filter_h, filter_w,N, O_h, O_w).transpose(2,0,1,3,4)\n",
    "    images = np.empty((N,I_h, I_w))\n",
    "\n",
    "    for h in range(3):\n",
    "        h_lim = h + O_h\n",
    "        for w in range(3):\n",
    "            w_lim = w + O_w\n",
    "            images[:, :, h: h_lim, w: w_lim] += cols[:,:,h, w, :, :]\n",
    "    return images"
   ]
  },
  {
   "source": [
    "B, Oh, Ow  \n",
    "2, 2, 2 とする  \n",
    "B, M,Oh, Ow  にし  \n",
    "B, Oh, Ow, Mとする  \n"
   ],
   "cell_type": "markdown",
   "metadata": {}
  },
  {
   "cell_type": "code",
   "execution_count": 340,
   "metadata": {},
   "outputs": [
    {
     "output_type": "stream",
     "name": "stdout",
     "text": [
      "3\n3\n2\n2\n"
     ]
    },
    {
     "output_type": "execute_result",
     "data": {
      "text/plain": [
       "(array([[[[  0.,   0.,   0.,   0.],\n",
       "          [  0.,   0.,  -5.,  11.],\n",
       "          [  0.,  12.,  -5., -11.],\n",
       "          [  0.,  -1.,  -1.,   0.]]]]),\n",
       " (1, 1, 4, 4))"
      ]
     },
     "metadata": {},
     "execution_count": 340
    }
   ],
   "source": [
    "col2_dx = col2im(dx.T,x.shape,O_shape)\n",
    "col2_dx,col2_dx.shape"
   ]
  },
  {
   "cell_type": "markdown",
   "metadata": {},
   "source": [
    "バックプロパゲーションをすると次のような値になります。パディングがある場合の答えになります。"
   ]
  },
  {
   "cell_type": "code",
   "execution_count": 270,
   "metadata": {},
   "outputs": [],
   "source": [
    "back_output = np.array([\n",
    "[-5,4],\n",
    "[13,27],\n",
    "])"
   ]
  },
  {
   "cell_type": "code",
   "execution_count": 271,
   "metadata": {},
   "outputs": [
    {
     "output_type": "execute_result",
     "data": {
      "text/plain": [
       "(2, 2)"
      ]
     },
     "metadata": {},
     "execution_count": 271
    }
   ],
   "source": [
    "back_output.shape"
   ]
  },
  {
   "cell_type": "markdown",
   "metadata": {},
   "source": [
    "### 【問題3】2次元畳み込み後の出力サイズ\n",
    "\n",
    "\n",
    "畳み込みを行うと特徴マップのサイズが変化します。どのように変化するかは以下の数式から求められます。この計算を行う関数を作成してください。\n",
    "$$\n",
    "N_{h,out} =  \\frac{N_{h,in}+2P_{h}-F_{h}}{S_{h}} + 1\\\\\n",
    "N_{w,out} =  \\frac{N_{w,in}+2P_{w}-F_{w}}{S_{w}} + 1\n",
    "$$\n",
    "\n",
    "N\n",
    "o\n",
    "u\n",
    "t\n",
    " : 出力のサイズ（特徴量の数） \n",
    "\n",
    "N\n",
    "i\n",
    "n  \n",
    " : 入力のサイズ（特徴量の数）\n",
    "\n",
    "P\n",
    " : ある方向へのパディングの数    \n",
    "\n",
    "F\n",
    " : フィルタのサイズ  \n",
    "\n",
    "S\n",
    " : ストライドのサイズ  \n",
    "\n",
    "h\n",
    " が高さ方向、 \n",
    "w\n",
    " が幅方向である\n"
   ]
  },
  {
   "cell_type": "code",
   "execution_count": 8,
   "metadata": {},
   "outputs": [],
   "source": [
    "def output(X,w,S=1,P=0):\n",
    "    S=S\n",
    "    P=P\n",
    "    H,W = X.shape\n",
    "    F_h,F_w = w.shape\n",
    "    O_h = (H + 2*P - F_h)/ S + 1\n",
    "    O_w = (W + 2*P - F_w)/ S + 1\n",
    "    return O_h,O_w"
   ]
  },
  {
   "cell_type": "markdown",
   "metadata": {},
   "source": [
    "#### 【問題3】最大プーリング層の作成\n",
    "最大プーリング層のクラスMaxPool2Dを作成してください。プーリング層は数式で表さない方が分かりやすい部分もありますが、数式で表すとフォワードプロパゲーションは以下のようになります。\n",
    "$$\n",
    "a_{i,j,k} = \\max_{(p,q)\\in P_{i,j}}x_{p,q,k}\n",
    "$$\n",
    "\n",
    "\n",
    "P\n",
    "i\n",
    ",\n",
    "j\n",
    " : i行j列への出力する場合の入力配列のインデックスの集合。  \n",
    "S\n",
    "h\n",
    "×\n",
    "S\n",
    "w\n",
    " の範囲内の行（p）と列（q） \n",
    "\n",
    "S\n",
    "h\n",
    ",\n",
    "S\n",
    "w\n",
    " : 高さ方向（h）と幅方向（w）のストライドのサイズ  \n",
    "\n",
    "(\n",
    "p\n",
    ",\n",
    "q\n",
    ")\n",
    "∈\n",
    "P\n",
    "i\n",
    ",\n",
    "j\n",
    " : \n",
    "P\n",
    "i\n",
    ",\n",
    "j\n",
    " に含まれる行（p）と列（q）のインデックス  \n",
    "\n",
    "a\n",
    "i\n",
    ",\n",
    "j\n",
    ",\n",
    "m\n",
    " : 出力される配列のi行j列、kチャンネルの値  \n",
    "\n",
    "x\n",
    "p\n",
    ",\n",
    "q\n",
    ",\n",
    "k\n",
    " : 入力の配列のp行q列、kチャンネルの値  \n",
    "\n",
    "ある範囲の中でチャンネル方向の軸は残したまま最大値を計算することになります。   \n",
    "\n",
    "バックプロパゲーションのためには、フォワードプロパゲーションのときの最大値のインデックス   \n",
    "(\n",
    "p\n",
    ",\n",
    "q\n",
    ")\n",
    " を保持しておく必要があります。  \n",
    " フォワード時に最大値を持っていた箇所にそのままの誤差を流し、そこ以外には0を入れるためです。  \n"
   ]
  },
  {
   "cell_type": "code",
   "execution_count": 8,
   "metadata": {},
   "outputs": [],
   "source": [
    "class MaxPool2D():\n",
    "    def __init__(self,conv):\n",
    "        self.pool = 2\n",
    "        self.max_idx = None\n",
    "        self.conv = conv\n",
    "\n",
    "    def forward(self,X):\n",
    "        # print(self.conv.F_shape)\n",
    "        # print(\"poolxshape\",X.shape)\n",
    "        N,C,H,W = X.shape\n",
    "        self.O_h = int(1 + (H - self.pool))\n",
    "        self.O_w = int(1 + (W - self.pool))\n",
    "        self.O_shape =N,C,self.O_h,self.O_w\n",
    "        # print(self.O_h)\n",
    "        # print(\"N\",N)\n",
    "        # print(\"C\",C)\n",
    "        self.X, _,self.pad_satate = self.conv.im2col(X, self.pool,self.pool)\n",
    "        # print(self.X.shape)\n",
    "        self.X = self.X.reshape(-1, self.pool*self.pool)\n",
    "        self.max_idx = np.argmax(self.X, axis=1)\n",
    "        self.y =  self.max_idx.reshape(N,self.O_h,self.O_w,C).transpose(0,3,1,2)\n",
    "\n",
    "        return self.y\n",
    "\n",
    "    def backward(self, grad,I_shape=None):\n",
    "        N = grad.shape[0]\n",
    "        # print(\"grad.shape\",grad.shape)\n",
    "        # print(\"I_shape\",I_shape.shape)\n",
    "        _,C,H,W = I_shape.shape\n",
    "        I_shape = N,*I_shape.shape\n",
    "        # _,_,O_h,O_w = self.O_shape\n",
    "        # print(\"O_shape\",self.O_shape)\n",
    "        grad = grad.transpose(0,2,3,1).reshape(-1,1)\n",
    "        # print(\"grad\",grad.size)\n",
    "        self.dX = np.empty((grad.size, self.pool*self.pool))\n",
    "        # print(\"maxidx\",self.max_idx.shape)\n",
    "        self.dX[:, self.max_idx] = grad\n",
    "        # print(\"Zshape\",I_shape)\n",
    "        # print(\"dX\",self.dX.shape)\n",
    "        # print(\"N\",N)\n",
    "        # print(\"C\",C)\n",
    "\n",
    "        self.dX = self.dX.reshape(N*self.O_h*self.O_w,C*self.pool*self.pool).T\n",
    "        # print(\"dX\",self.dX.shape)\n",
    "        self.dX = self.conv.col2im(self.dX, I_shape, self.O_shape,1)\n",
    "\n",
    "        return self.dX\n"
   ]
  },
  {
   "cell_type": "markdown",
   "metadata": {},
   "source": [
    "#### 【問題4】（アドバンス課題）平均プーリングの作成\n",
    "平均プーリング層のクラスAveragePool2Dを作成してください。\n",
    "\n",
    "範囲内の最大値ではなく、平均値を出力とするプーリング層です。\n",
    "\n",
    "画像認識関係では最大プーリング層が一般的で、平均プーリングはあまり使われません。\n"
   ]
  },
  {
   "cell_type": "markdown",
   "metadata": {},
   "source": [
    "#### 【問題5】平滑化\n",
    "平滑化するためのFlattenクラスを作成してください。\n",
    "\n",
    "フォワードのときはチャンネル、高さ、幅の3次元を1次元にreshapeします。その値は記録しておき、バックワードのときに再びreshapeによって形を戻します。\n",
    "\n",
    "この平滑化のクラスを挟むことで出力前の全結合層に適した配列を作ることができます。\n"
   ]
  },
  {
   "cell_type": "code",
   "execution_count": 9,
   "metadata": {},
   "outputs": [],
   "source": [
    "class Flatten():\n",
    "    def __init__(self):\n",
    "        self.X_shape = None\n",
    "    def forward(self,X):\n",
    "        # print(\"flatxshape\",X.shape)\n",
    "        x1d = X.reshape(X.shape[0],-1)\n",
    "        self.X_shape = X.shape\n",
    "        # print(\"x1d\",x1d.shape)\n",
    "        return x1d\n",
    "    def backward(self,X):\n",
    "        X = X.reshape(self.X_shape)\n",
    "        return X"
   ]
  },
  {
   "cell_type": "markdown",
   "metadata": {},
   "source": [
    "### 3.検証\n",
    "\n",
    "\n",
    "#### 【問題6】学習と推定\n",
    "作成したConv2dを使用してMNISTを学習・推定し、Accuracyを計算してください。\n",
    "\n",
    "精度は低くともまずは動くことを目指してください。"
   ]
  },
  {
   "cell_type": "code",
   "execution_count": 10,
   "metadata": {},
   "outputs": [],
   "source": [
    "class Conv2d:\n",
    "    def __init__(self,B, f_num, f_h,f_w, initializer,optimizer,stride,I_shape,ch):\n",
    "        self.optimizer = optimizer\n",
    "\n",
    "        self.B = initializer.B(f_num)\n",
    "        self.dW = None\n",
    "        self.dB = None\n",
    "        self.idx =None\n",
    "        self.dX = None\n",
    "        self.X = None\n",
    "        self.A = None\n",
    "        self.F_shape = f_num,1,f_h,f_w\n",
    "        self.W = initializer.W(f_num=f_num,f_h=f_h,f_w=f_w,ch=ch)\n",
    "        self.I_shape = I_shape\n",
    "        #print(f_h)\n",
    "        self.stride = stride\n",
    "        _,self.O_shape,self.pad_state = self.im2col(np.zeros((self.I_shape)),f_h,f_w)\n",
    "\n",
    "    def output(self,H,W,f_h,f_w,S=1,P=0):\n",
    "        S=S\n",
    "        P=P\n",
    "        O_h = int((H + 2*P - f_h)// S + 1)\n",
    "        O_w = int((W + 2*P - f_w)// S + 1)\n",
    "        return O_h,O_w\n",
    "\n",
    "    #パディングあり\n",
    "    def im2col(self,images,filter_h,filter_w,S=1):\n",
    "        pad = 0\n",
    "        #print(\"image\",images.shape)\n",
    "        N, C, H, W = images.shape\n",
    "        #print(filter_h)\n",
    "        O_h,O_w = self.output(H,W,filter_h,filter_w)\n",
    "        #print(O_h)\n",
    "        cols = np.empty((N, C, filter_h, filter_w, O_h, O_w))\n",
    "        images = np.pad(images, [(0, 0), (0, 0), (pad, pad), (pad, pad)], \"constant\")\n",
    "        # print(S)\n",
    "        for h in range(filter_h):\n",
    "            h_lim = h + O_h*S\n",
    "            for w in range(filter_w):\n",
    "                w_lim = w + O_w * S\n",
    "                cols[:, :, h, w, :, :] = images[:, :, h : h_lim:S, w : w_lim:S]\n",
    "\n",
    "        ret_list = []     \n",
    "        #N C Fh Fw Oh Ow -> C Fh Fw N Oh Ow\n",
    "        ret_list.append(cols.transpose(1,2,3,0,4,5).reshape(C*filter_h*filter_w, N*O_h*O_w))\n",
    "        ret_list.append((O_h,O_w))\n",
    "        ret_list.append((0,0))\n",
    "\n",
    "        return ret_list\n",
    "\n",
    "    def col2im(self,cols, I_shape, O_shape,stride):\n",
    "        # print(\"cols\",cols.shape)\n",
    "        # print(\"I_shape\",I_shape)\n",
    "        N,_,C,I_h,I_w = I_shape\n",
    "        # print(\"I_shape\",I_shape)\n",
    "        # print(\"O.shaoe\",O_shape)\n",
    "        _,O_c,O_h,O_w = O_shape\n",
    "        filter_h = int(I_h - O_h+1)\n",
    "        filter_w = int(I_w - O_w +1)\n",
    "        \n",
    "        # print(\"f_h\",filter_h)\n",
    "        cols = cols.reshape(N,C,filter_h, filter_w,O_h,O_w)\n",
    "        images = np.empty((N,C,I_h, I_w))\n",
    "        for h in range(filter_h):\n",
    "            h_lim = h + O_h*stride\n",
    "            for w in range(filter_w):\n",
    "                w_lim = w + O_w*stride\n",
    "                images[:,:,h: h_lim:stride, w: w_lim:stride] += cols[:,:,h, w, :, :]\n",
    "        return images\n",
    "\n",
    "    def forward(self, X):\n",
    "        # print(\"Xshape\",X.shape)\n",
    "        N,C,H,W = X.shape\n",
    "        # print(\"Xshape\",X.shape)\n",
    "        M,_,F_h,F_w = self.F_shape\n",
    "        O_h,O_w = self.output(H,W,F_h,F_w)\n",
    "        self.O_shape = self.output(H,W,F_h,F_w)\n",
    "        self.O_shape = C,*self.O_shape\n",
    "        self.X,_,self.pad_state = self.im2col(X,F_h,F_w,S=self.stride)\n",
    "        # print(\"self.X\",self.X.shape)\n",
    "        if self.W.ndim == 4:\n",
    "            self.W,_,_, = self.im2col(self.W,F_h,F_w,S=self.stride)\n",
    "        # self.W = self.W.reshape(M,-1)\n",
    "\n",
    "        # print(\"X\",self.X.shape)\n",
    "        # print(\"W\",self.W.shape)\n",
    "        # print(self.B.shape)\n",
    "        self.u = self.W.T @ self.X + self.B\n",
    "        #print(self.u.shape)\n",
    "        #print(B)\n",
    "        #print(O_h)\n",
    "        #print(O_w)\n",
    "        A = self.u.reshape(M,N,O_h,O_w).transpose(1,0,2\n",
    "        ,3)\n",
    "        # print(\"A\",A.shape)\n",
    "        return A\n",
    "\n",
    "    def backward(self, dA,A):\n",
    "        # print(\"dA\",dA.shape)\n",
    "        N,C,H,W  = dA.shape\n",
    "        I_shape = N,*A.shape\n",
    "        # print(\"A\",A.shape)\n",
    "        O_shape = dA.shape\n",
    "        # print(\"Ishape\",I_shape)\n",
    "        # O_shape = C,1,O_h,O_w\n",
    "        # print(\"X.T\",self.X.shape)\n",
    "\n",
    "        dA = dA.transpose(1,0,2,3).reshape(C,-1)\n",
    "        self.dW = dA @ self.X.T\n",
    "        self.dB = np.sum(dA, axis=1).reshape(C,1)\n",
    "        # print(\"dA\",dA.shape)\n",
    "        # print(\"self.W\",self.W.shape)\n",
    "        dX = self.W @ dA\n",
    "        dX = self.col2im(dX,I_shape,O_shape,stride=self.stride)\n",
    "        # print(\"dX\",dX.shape)\n",
    "        \n",
    "        \n",
    "        # 更新\n",
    "        self = self.optimizer.update(self)\n",
    "        return dX"
   ]
  },
  {
   "cell_type": "code",
   "execution_count": 11,
   "metadata": {},
   "outputs": [],
   "source": [
    "class FC:\n",
    "    def __init__(self, n_nodes1, n_nodes2, initializer, optimizer):\n",
    "        self.optimizer = optimizer\n",
    "        # 初期化\n",
    "        # initializerのメソッドを使い、self.Wとself.Bを初期化する\n",
    "        self.W = initializer.W(n_nodes1, n_nodes2)\n",
    "        self.B = initializer.B(n_nodes2)\n",
    "        self.dW = None\n",
    "        self.dB = None\n",
    "        pass\n",
    "    def forward(self, X):\n",
    "        self.X = X.copy()\n",
    "        # print('X',X.shape)\n",
    "        # print('W',self.W.shape)\n",
    "        A= X @ self.W\n",
    "        A = A + self.B.flatten()\n",
    "        return  A\n",
    "\n",
    "    def backward(self, dA):\n",
    "        self.dB = np.sum(dA,axis=0) \n",
    "        self.dW = self.X.T @ dA\n",
    "        dZ = dA @ self.W.T #次の層で使う\n",
    "        # 更新\n",
    "        self = self.optimizer.update(self)\n",
    "        return dZ"
   ]
  },
  {
   "cell_type": "code",
   "execution_count": 12,
   "metadata": {},
   "outputs": [],
   "source": [
    "class ReLU:\n",
    "    def __init__(self):\n",
    "        self.A = None\n",
    "    def forward(self, X):\n",
    "        self.A = np.copy(X)\n",
    "        return np.maximum(0,X)\n",
    "    def backward(self, X):\n",
    "        return np.where(X>0,1,0)"
   ]
  },
  {
   "cell_type": "code",
   "execution_count": 13,
   "metadata": {},
   "outputs": [],
   "source": [
    "class ReLU2:\n",
    "    def forward(self, X):\n",
    "        self.A = X\n",
    "        return np.clip(X, 0, None)\n",
    "    \n",
    "    def backward(self, dZ):\n",
    "        return dZ * np.clip(np.sign(self.A), 0, None)"
   ]
  },
  {
   "cell_type": "code",
   "execution_count": 14,
   "metadata": {},
   "outputs": [],
   "source": [
    "#softmax関数\n",
    "class Softmax:\n",
    "    def __init__(self):\n",
    "        self.b = None\n",
    "    def forward(self,x):\n",
    "        self.b = np.exp(x-np.max(x))/np.sum(np.exp(x-np.max(x)), axis =1, keepdims =True)\n",
    "        return self.b\n",
    "    def backward(self,t):\n",
    "        self.batch = t.shape[0]\n",
    "        loss = -1/self.batch * np.sum(np.sum(t*np.log(self.b),axis=0))\n",
    "        dx = (self.b - t) /self.batch\n",
    "        return dx, loss"
   ]
  },
  {
   "cell_type": "code",
   "execution_count": 15,
   "metadata": {},
   "outputs": [],
   "source": [
    "#ハイパボリックタンジェント\n",
    "class Tanh():\n",
    "    def __init__(self):\n",
    "        self.A = None\n",
    "    def forward(self,X):\n",
    "        self.A = np.tanh(X)\n",
    "        return self.A\n",
    "    def backward(self,X):\n",
    "        return X * (1 - (np.tanh(self.A))**2)"
   ]
  },
  {
   "cell_type": "code",
   "execution_count": 16,
   "metadata": {},
   "outputs": [],
   "source": [
    "from sklearn.metrics import accuracy_score\n",
    "class GetMiniBatch:\n",
    "    def __init__(self, X, y, batch_size = 10, seed=0):\n",
    "        self.batch_size = batch_size\n",
    "        np.random.seed(seed)\n",
    "        shuffle_index = np.random.permutation(np.arange(X.shape[0]))\n",
    "        self._X = X[shuffle_index]\n",
    "        self._y = y[shuffle_index]\n",
    "        self._stop = np.ceil(X.shape[0]/self.batch_size).astype(np.int)\n",
    "    def __len__(self):\n",
    "        return self._stop\n",
    "    def __getitem__(self,item):\n",
    "        p0 = item*self.batch_size\n",
    "        p1 = item*self.batch_size + self.batch_size\n",
    "        return self._X[p0:p1], self._y[p0:p1]        \n",
    "    def __iter__(self):\n",
    "        self._counter = 0\n",
    "        return self\n",
    "    def __next__(self):\n",
    "        if self._counter >= self._stop:\n",
    "            raise StopIteration()\n",
    "        p0 = self._counter*self.batch_size\n",
    "        p1 = self._counter*self.batch_size + self.batch_size\n",
    "        self._counter += 1\n",
    "        return self._X[p0:p1], self._y[p0:p1]"
   ]
  },
  {
   "cell_type": "code",
   "execution_count": 17,
   "metadata": {},
   "outputs": [],
   "source": [
    "class HeInitializer:\n",
    "    def __init__(self):\n",
    "        pass\n",
    "    def W(self, n_nodes1=None, n_nodes2=None,f_num=None,f_h=None,f_w=None,ch=None):\n",
    "        if f_num is not None:\n",
    "            W = np.random.randn(f_num,ch,f_h,f_w)* np.sqrt(2/f_num)\n",
    "            # print(\"W\",W.shape)\n",
    "        else:\n",
    "            W = np.random.randn(n_nodes1,n_nodes2) * np.sqrt(2/n_nodes1)\n",
    "        return W\n",
    "    def B(self, n_nodes2):\n",
    "        B = np.random.randn(n_nodes2,1)     \n",
    "        return B"
   ]
  },
  {
   "cell_type": "code",
   "execution_count": 18,
   "metadata": {},
   "outputs": [],
   "source": [
    "class SGD:\n",
    "    def __init__(self, lr):\n",
    "        self.lr = lr\n",
    "    def update(self, layer):\n",
    "        #print(\"dB\",layer.dB.shape)\n",
    "        #print(\"B\",layer.B.shape)\n",
    "        if isinstance(layer.dB[0], list) :\n",
    "            layer.B -= self.lr * layer.dB\n",
    "        else:\n",
    "            layer.B -= self.lr * layer.dB.reshape(-1,1)\n",
    "        #print(\"dW\",layer.dW.shape)\n",
    "        #print(\"W\",layer.W.shape)\n",
    "        if layer.W.shape == layer.dW.shape:\n",
    "            layer.W -= self.lr * layer.dW\n",
    "        else:\n",
    "            layer.W -= self.lr * layer.dW.T\n",
    "        return "
   ]
  },
  {
   "cell_type": "code",
   "execution_count": 34,
   "metadata": {},
   "outputs": [],
   "source": [
    "class Scratchch2dCNNNeuralNetrowkClassifier():\n",
    "    def __init__(self,lr=0.01,sigma=0.01,n_node1=200,n_node2=100,n_output=10,verbose=True,epoch=5,batch_size=10,activation=\"tanh\",initial=\"he\",optimizer=\"sgd\",f_num=10,f_h=16,f_w=16,stride=1):\n",
    "        self.lr = lr\n",
    "        self.sigma = sigma\n",
    "        self.n_nodes1 = n_node1\n",
    "        self.n_nodes2 = n_node2\n",
    "        self.n_output = n_output\n",
    "        self.epoch = epoch\n",
    "        self.verbose = verbose\n",
    "        self.batch = batch_size\n",
    "        self.activation = activation\n",
    "        self.initial = initial\n",
    "        self.optimizer = optimizer\n",
    "        self.f_num = f_num\n",
    "        self.f_h = f_h\n",
    "        self.f_w = f_w\n",
    "        self.stride = stride\n",
    "\n",
    "    def fit(self,X,y,X_val=None,y_val=None):\n",
    "        get_mini_batch = GetMiniBatch(X, y, self.batch)\n",
    "        #val\n",
    "        if X_val is not None:      \n",
    "            test_mini_batch = GetMiniBatch(X_val, y_val) \n",
    "\n",
    "        self.B = self.batch\n",
    "        N,C,I_h,I_w= X.shape\n",
    "        self.I_shape = X.shape\n",
    "\n",
    "        if self.optimizer == \"sgd\":\n",
    "            optimizer1 = SGD(self.lr)\n",
    "            optimizer2 = SGD(self.lr)\n",
    "            optimizer3 = SGD(self.lr)\n",
    "            optimizer4 = SGD(self.lr)\n",
    "\n",
    "        if self.activation == \"tanh\":\n",
    "            self.activation1 = Tanh()\n",
    "            self.activation2= Tanh()\n",
    "            self.activation3 = Tanh()\n",
    "        elif self.activation == \"relu\":\n",
    "            self.activation1 = ReLU2()\n",
    "            self.activation2= ReLU2()\n",
    "            self.activation3= ReLU2()\n",
    "            self.activation4= ReLU2()\n",
    "\n",
    "        if self.initial == \"simple\":\n",
    "            initial1 = SimpleInitializer(self.sigma)\n",
    "            initial2 = SimpleInitializer(self.sigma)    \n",
    "            initial3 = SimpleInitializer(self.sigma)\n",
    "            initial4 = SimpleInitializer(self.sigma)    \n",
    "        elif self.initial == \"he\":\n",
    "            initial1 = HeInitializer()\n",
    "            initial2 = HeInitializer()    \n",
    "            initial3 = HeInitializer()\n",
    "            initial4 = HeInitializer()    \n",
    "        #1\n",
    "        self.CON2 = Conv2d(self.B,self.f_num,self.f_h,self.f_w,initial1,optimizer1,self.stride,self.I_shape,1)\n",
    "        self.flat = Flatten()\n",
    "        O_h,O_w = self.CON2.output(I_h,I_w,self.f_h,self.f_w)\n",
    "        out = self.B*O_h*O_w\n",
    "        self.FC1 = FC(out, self.n_nodes1, initial2, optimizer2)\n",
    "        self.FC2 = FC(self.n_nodes1, self.n_nodes2, initial3, optimizer3)\n",
    "        self.FC3 = FC(self.n_nodes2, self.n_output, initial4, optimizer4)\n",
    "        \n",
    "        self.activation4 = Softmax()\n",
    "\n",
    "        self.epo_lis = []\n",
    "        self.loss_lis = []\n",
    "        self.val_lis = []\n",
    "        for i in range(self.epoch):\n",
    "            for mini_X_train, mini_y_train in get_mini_batch:\n",
    "                Y = (mini_y_train.reshape(-1,1)==np.arange(10)).astype(np.float64)\n",
    "                self._forward(mini_X_train)\n",
    "\n",
    "                dA4, loss = self.activation4.backward(Y) \n",
    "                #print(loss)# 交差エントロピー誤差とソフトマックスを合わせている\n",
    "                #print(\"dA3\",dA3.shape)\n",
    "                dZ4 = self.FC3.backward(dA4)\n",
    "                #print(\"dZ4\",dZ4.shape )\n",
    "                dA3 = self.activation3.backward(dZ4)\n",
    "                #print('dA3',dA3)\n",
    "                dZ3 = self.FC2.backward(dA3)\n",
    "                #print('dZ3',dZ3)\n",
    "                dA2 = self.activation2.backward(dZ3)\n",
    "                #print('dA2',dA2)\n",
    "                dZ2 = self.FC1.backward(dA2) \n",
    "                #print('dZ2',dZ2)\n",
    "                dF = self.flat.backward(dZ2)\n",
    "                #print('dF',dF)\n",
    "                dA1 = self.activation1.backward(dF)\n",
    "                #print('dA1',dA1)\n",
    "                dZ1 = self.CON2.backward(dA1,mini_X_train)\n",
    "                #print('dZ1',dZ1)\n",
    "            self.loss_lis.append(loss)\n",
    "            #検証\n",
    "            if X_val is not None:\n",
    "                for mini_X_val,mini_y_val in test_mini_batch:\n",
    "                    y_val_one = (mini_y_val.reshape(-1,1)==np.arange(10)).astype(np.float64)\n",
    "                    y_pre = np.argmax(self._forward(mini_X_val)  ,axis=1)\n",
    "                    accura = accuracy_score(mini_y_val,y_pre)\n",
    "                self.val_lis.append(self.activation4.backward(y_val_one)[1])\n",
    "            self.epo_lis.append(i+1)\n",
    "            #verboseをTrueにした際は学習過程などを出力する\n",
    "            if self.verbose:\n",
    "                print( \"epoch\",i+1,\"loss{:.3f}\".format(loss),\"accuracy:\",accura,\"ini\",self.initial,\"activation\",self.activation,\"optimizer\",self.optimizer)\n",
    "            pass\n",
    "    def _forward(self,X):\n",
    "        A0 = self.CON2.forward(X)\n",
    "        #print(A0.shape)\n",
    "        Z0 = self.activation1.forward(A0)\n",
    "        #print('Z0',Z0.shape)\n",
    "        F = self.flat.forward(Z0)\n",
    "        #print('F',F.shape)\n",
    "        A1 = self.FC1.forward(F)\n",
    "        #print('A1',A1.shape)\n",
    "        Z1 = self.activation2.forward(A1)\n",
    "        #print(Z1.shape)\n",
    "        A2 = self.FC2.forward(Z1)\n",
    "        #print('A2',A2.shape)\n",
    "        Z2 = self.activation3.forward(A2)\n",
    "        #print('Z2',Z2.shape)\n",
    "        A3 = self.FC3.forward(Z2)\n",
    "        #print(\"A3\",A3.shape)\n",
    "        Z3 = self.activation4.forward(A3)        \n",
    "        #print('Z3',Z3.shape)\n",
    "        return Z3\n",
    "    def predict(self,X):\n",
    "\n",
    "        return np.argmax(self._forward(X),axis=1)"
   ]
  },
  {
   "cell_type": "code",
   "execution_count": 20,
   "metadata": {},
   "outputs": [],
   "source": [
    "(X_train,y_train),(X_test,y_test) = mnist.load_data()\n",
    "#前処理\n",
    "X_train = X_train.astype(np.float)\n",
    "X_test = X_test.astype(np.float)\n",
    "X_train /= 255\n",
    "X_test /= 255\n",
    "#NCHW\n",
    "X_train = X_train[:,np.newaxis,:,:]\n",
    "X_test = X_test[:,np.newaxis,:,:]\n",
    "X_train, X_val, y_train, y_val = train_test_split(X_train, y_train, test_size=0.2)"
   ]
  },
  {
   "cell_type": "code",
   "execution_count": 35,
   "metadata": {
    "tags": []
   },
   "outputs": [
    {
     "output_type": "stream",
     "name": "stdout",
     "text": [
      "epoch 1 loss0.033 accuracy: 1.0 ini he activation relu optimizer sgd\n",
      "epoch 2 loss0.008 accuracy: 1.0 ini he activation relu optimizer sgd\n",
      "epoch 3 loss0.003 accuracy: 1.0 ini he activation relu optimizer sgd\n",
      "epoch 4 loss0.001 accuracy: 1.0 ini he activation relu optimizer sgd\n",
      "epoch 5 loss0.000 accuracy: 0.9 ini he activation relu optimizer sgd\n"
     ]
    }
   ],
   "source": [
    "cnn = Scratchch2dCNNNeuralNetrowkClassifier(epoch=5,activation=\"relu\",initial=\"he\",optimizer=\"sgd\")\n",
    "\n",
    "cnn.fit(X_train,y_train,X_val,y_val)"
   ]
  },
  {
   "cell_type": "code",
   "execution_count": 36,
   "metadata": {},
   "outputs": [
    {
     "output_type": "execute_result",
     "data": {
      "text/plain": [
       "[<matplotlib.lines.Line2D at 0x7fc4907b91c0>]"
      ]
     },
     "metadata": {},
     "execution_count": 36
    },
    {
     "output_type": "display_data",
     "data": {
      "text/plain": "<Figure size 432x288 with 1 Axes>",
      "image/svg+xml": "<?xml version=\"1.0\" encoding=\"utf-8\" standalone=\"no\"?>\n<!DOCTYPE svg PUBLIC \"-//W3C//DTD SVG 1.1//EN\"\n  \"http://www.w3.org/Graphics/SVG/1.1/DTD/svg11.dtd\">\n<!-- Created with matplotlib (https://matplotlib.org/) -->\n<svg height=\"252.054518pt\" version=\"1.1\" viewBox=\"0 0 378.465625 252.054518\" width=\"378.465625pt\" xmlns=\"http://www.w3.org/2000/svg\" xmlns:xlink=\"http://www.w3.org/1999/xlink\">\n <metadata>\n  <rdf:RDF xmlns:cc=\"http://creativecommons.org/ns#\" xmlns:dc=\"http://purl.org/dc/elements/1.1/\" xmlns:rdf=\"http://www.w3.org/1999/02/22-rdf-syntax-ns#\">\n   <cc:Work>\n    <dc:type rdf:resource=\"http://purl.org/dc/dcmitype/StillImage\"/>\n    <dc:date>2021-04-11T17:28:02.466193</dc:date>\n    <dc:format>image/svg+xml</dc:format>\n    <dc:creator>\n     <cc:Agent>\n      <dc:title>Matplotlib v3.3.4, https://matplotlib.org/</dc:title>\n     </cc:Agent>\n    </dc:creator>\n   </cc:Work>\n  </rdf:RDF>\n </metadata>\n <defs>\n  <style type=\"text/css\">*{stroke-linecap:butt;stroke-linejoin:round;}</style>\n </defs>\n <g id=\"figure_1\">\n  <g id=\"patch_1\">\n   <path d=\"M 0 252.054518 \nL 378.465625 252.054518 \nL 378.465625 0 \nL 0 0 \nz\n\" style=\"fill:none;\"/>\n  </g>\n  <g id=\"axes_1\">\n   <g id=\"patch_2\">\n    <path d=\"M 36.465625 228.176393 \nL 371.265625 228.176393 \nL 371.265625 10.736393 \nL 36.465625 10.736393 \nz\n\" style=\"fill:#ffffff;\"/>\n   </g>\n   <g id=\"matplotlib.axis_1\">\n    <g id=\"xtick_1\">\n     <g id=\"line2d_1\">\n      <defs>\n       <path d=\"M 0 0 \nL 0 3.5 \n\" id=\"m1b287bbf34\" style=\"stroke:#000000;stroke-width:0.8;\"/>\n      </defs>\n      <g>\n       <use style=\"stroke:#000000;stroke-width:0.8;\" x=\"51.683807\" xlink:href=\"#m1b287bbf34\" y=\"228.176393\"/>\n      </g>\n     </g>\n     <g id=\"text_1\">\n      <!-- 1.0 -->\n      <g transform=\"translate(43.732244 242.774831)scale(0.1 -0.1)\">\n       <defs>\n        <path d=\"M 12.40625 8.296875 \nL 28.515625 8.296875 \nL 28.515625 63.921875 \nL 10.984375 60.40625 \nL 10.984375 69.390625 \nL 28.421875 72.90625 \nL 38.28125 72.90625 \nL 38.28125 8.296875 \nL 54.390625 8.296875 \nL 54.390625 0 \nL 12.40625 0 \nz\n\" id=\"DejaVuSans-49\"/>\n        <path d=\"M 10.6875 12.40625 \nL 21 12.40625 \nL 21 0 \nL 10.6875 0 \nz\n\" id=\"DejaVuSans-46\"/>\n        <path d=\"M 31.78125 66.40625 \nQ 24.171875 66.40625 20.328125 58.90625 \nQ 16.5 51.421875 16.5 36.375 \nQ 16.5 21.390625 20.328125 13.890625 \nQ 24.171875 6.390625 31.78125 6.390625 \nQ 39.453125 6.390625 43.28125 13.890625 \nQ 47.125 21.390625 47.125 36.375 \nQ 47.125 51.421875 43.28125 58.90625 \nQ 39.453125 66.40625 31.78125 66.40625 \nz\nM 31.78125 74.21875 \nQ 44.046875 74.21875 50.515625 64.515625 \nQ 56.984375 54.828125 56.984375 36.375 \nQ 56.984375 17.96875 50.515625 8.265625 \nQ 44.046875 -1.421875 31.78125 -1.421875 \nQ 19.53125 -1.421875 13.0625 8.265625 \nQ 6.59375 17.96875 6.59375 36.375 \nQ 6.59375 54.828125 13.0625 64.515625 \nQ 19.53125 74.21875 31.78125 74.21875 \nz\n\" id=\"DejaVuSans-48\"/>\n       </defs>\n       <use xlink:href=\"#DejaVuSans-49\"/>\n       <use x=\"63.623047\" xlink:href=\"#DejaVuSans-46\"/>\n       <use x=\"95.410156\" xlink:href=\"#DejaVuSans-48\"/>\n      </g>\n     </g>\n    </g>\n    <g id=\"xtick_2\">\n     <g id=\"line2d_2\">\n      <g>\n       <use style=\"stroke:#000000;stroke-width:0.8;\" x=\"89.729261\" xlink:href=\"#m1b287bbf34\" y=\"228.176393\"/>\n      </g>\n     </g>\n     <g id=\"text_2\">\n      <!-- 1.5 -->\n      <g transform=\"translate(81.777699 242.774831)scale(0.1 -0.1)\">\n       <defs>\n        <path d=\"M 10.796875 72.90625 \nL 49.515625 72.90625 \nL 49.515625 64.59375 \nL 19.828125 64.59375 \nL 19.828125 46.734375 \nQ 21.96875 47.46875 24.109375 47.828125 \nQ 26.265625 48.1875 28.421875 48.1875 \nQ 40.625 48.1875 47.75 41.5 \nQ 54.890625 34.8125 54.890625 23.390625 \nQ 54.890625 11.625 47.5625 5.09375 \nQ 40.234375 -1.421875 26.90625 -1.421875 \nQ 22.3125 -1.421875 17.546875 -0.640625 \nQ 12.796875 0.140625 7.71875 1.703125 \nL 7.71875 11.625 \nQ 12.109375 9.234375 16.796875 8.0625 \nQ 21.484375 6.890625 26.703125 6.890625 \nQ 35.15625 6.890625 40.078125 11.328125 \nQ 45.015625 15.765625 45.015625 23.390625 \nQ 45.015625 31 40.078125 35.4375 \nQ 35.15625 39.890625 26.703125 39.890625 \nQ 22.75 39.890625 18.8125 39.015625 \nQ 14.890625 38.140625 10.796875 36.28125 \nz\n\" id=\"DejaVuSans-53\"/>\n       </defs>\n       <use xlink:href=\"#DejaVuSans-49\"/>\n       <use x=\"63.623047\" xlink:href=\"#DejaVuSans-46\"/>\n       <use x=\"95.410156\" xlink:href=\"#DejaVuSans-53\"/>\n      </g>\n     </g>\n    </g>\n    <g id=\"xtick_3\">\n     <g id=\"line2d_3\">\n      <g>\n       <use style=\"stroke:#000000;stroke-width:0.8;\" x=\"127.774716\" xlink:href=\"#m1b287bbf34\" y=\"228.176393\"/>\n      </g>\n     </g>\n     <g id=\"text_3\">\n      <!-- 2.0 -->\n      <g transform=\"translate(119.823153 242.774831)scale(0.1 -0.1)\">\n       <defs>\n        <path d=\"M 19.1875 8.296875 \nL 53.609375 8.296875 \nL 53.609375 0 \nL 7.328125 0 \nL 7.328125 8.296875 \nQ 12.9375 14.109375 22.625 23.890625 \nQ 32.328125 33.6875 34.8125 36.53125 \nQ 39.546875 41.84375 41.421875 45.53125 \nQ 43.3125 49.21875 43.3125 52.78125 \nQ 43.3125 58.59375 39.234375 62.25 \nQ 35.15625 65.921875 28.609375 65.921875 \nQ 23.96875 65.921875 18.8125 64.3125 \nQ 13.671875 62.703125 7.8125 59.421875 \nL 7.8125 69.390625 \nQ 13.765625 71.78125 18.9375 73 \nQ 24.125 74.21875 28.421875 74.21875 \nQ 39.75 74.21875 46.484375 68.546875 \nQ 53.21875 62.890625 53.21875 53.421875 \nQ 53.21875 48.921875 51.53125 44.890625 \nQ 49.859375 40.875 45.40625 35.40625 \nQ 44.1875 33.984375 37.640625 27.21875 \nQ 31.109375 20.453125 19.1875 8.296875 \nz\n\" id=\"DejaVuSans-50\"/>\n       </defs>\n       <use xlink:href=\"#DejaVuSans-50\"/>\n       <use x=\"63.623047\" xlink:href=\"#DejaVuSans-46\"/>\n       <use x=\"95.410156\" xlink:href=\"#DejaVuSans-48\"/>\n      </g>\n     </g>\n    </g>\n    <g id=\"xtick_4\">\n     <g id=\"line2d_4\">\n      <g>\n       <use style=\"stroke:#000000;stroke-width:0.8;\" x=\"165.82017\" xlink:href=\"#m1b287bbf34\" y=\"228.176393\"/>\n      </g>\n     </g>\n     <g id=\"text_4\">\n      <!-- 2.5 -->\n      <g transform=\"translate(157.868608 242.774831)scale(0.1 -0.1)\">\n       <use xlink:href=\"#DejaVuSans-50\"/>\n       <use x=\"63.623047\" xlink:href=\"#DejaVuSans-46\"/>\n       <use x=\"95.410156\" xlink:href=\"#DejaVuSans-53\"/>\n      </g>\n     </g>\n    </g>\n    <g id=\"xtick_5\">\n     <g id=\"line2d_5\">\n      <g>\n       <use style=\"stroke:#000000;stroke-width:0.8;\" x=\"203.865625\" xlink:href=\"#m1b287bbf34\" y=\"228.176393\"/>\n      </g>\n     </g>\n     <g id=\"text_5\">\n      <!-- 3.0 -->\n      <g transform=\"translate(195.914063 242.774831)scale(0.1 -0.1)\">\n       <defs>\n        <path d=\"M 40.578125 39.3125 \nQ 47.65625 37.796875 51.625 33 \nQ 55.609375 28.21875 55.609375 21.1875 \nQ 55.609375 10.40625 48.1875 4.484375 \nQ 40.765625 -1.421875 27.09375 -1.421875 \nQ 22.515625 -1.421875 17.65625 -0.515625 \nQ 12.796875 0.390625 7.625 2.203125 \nL 7.625 11.71875 \nQ 11.71875 9.328125 16.59375 8.109375 \nQ 21.484375 6.890625 26.8125 6.890625 \nQ 36.078125 6.890625 40.9375 10.546875 \nQ 45.796875 14.203125 45.796875 21.1875 \nQ 45.796875 27.640625 41.28125 31.265625 \nQ 36.765625 34.90625 28.71875 34.90625 \nL 20.21875 34.90625 \nL 20.21875 43.015625 \nL 29.109375 43.015625 \nQ 36.375 43.015625 40.234375 45.921875 \nQ 44.09375 48.828125 44.09375 54.296875 \nQ 44.09375 59.90625 40.109375 62.90625 \nQ 36.140625 65.921875 28.71875 65.921875 \nQ 24.65625 65.921875 20.015625 65.03125 \nQ 15.375 64.15625 9.8125 62.3125 \nL 9.8125 71.09375 \nQ 15.4375 72.65625 20.34375 73.4375 \nQ 25.25 74.21875 29.59375 74.21875 \nQ 40.828125 74.21875 47.359375 69.109375 \nQ 53.90625 64.015625 53.90625 55.328125 \nQ 53.90625 49.265625 50.4375 45.09375 \nQ 46.96875 40.921875 40.578125 39.3125 \nz\n\" id=\"DejaVuSans-51\"/>\n       </defs>\n       <use xlink:href=\"#DejaVuSans-51\"/>\n       <use x=\"63.623047\" xlink:href=\"#DejaVuSans-46\"/>\n       <use x=\"95.410156\" xlink:href=\"#DejaVuSans-48\"/>\n      </g>\n     </g>\n    </g>\n    <g id=\"xtick_6\">\n     <g id=\"line2d_6\">\n      <g>\n       <use style=\"stroke:#000000;stroke-width:0.8;\" x=\"241.91108\" xlink:href=\"#m1b287bbf34\" y=\"228.176393\"/>\n      </g>\n     </g>\n     <g id=\"text_6\">\n      <!-- 3.5 -->\n      <g transform=\"translate(233.959517 242.774831)scale(0.1 -0.1)\">\n       <use xlink:href=\"#DejaVuSans-51\"/>\n       <use x=\"63.623047\" xlink:href=\"#DejaVuSans-46\"/>\n       <use x=\"95.410156\" xlink:href=\"#DejaVuSans-53\"/>\n      </g>\n     </g>\n    </g>\n    <g id=\"xtick_7\">\n     <g id=\"line2d_7\">\n      <g>\n       <use style=\"stroke:#000000;stroke-width:0.8;\" x=\"279.956534\" xlink:href=\"#m1b287bbf34\" y=\"228.176393\"/>\n      </g>\n     </g>\n     <g id=\"text_7\">\n      <!-- 4.0 -->\n      <g transform=\"translate(272.004972 242.774831)scale(0.1 -0.1)\">\n       <defs>\n        <path d=\"M 37.796875 64.3125 \nL 12.890625 25.390625 \nL 37.796875 25.390625 \nz\nM 35.203125 72.90625 \nL 47.609375 72.90625 \nL 47.609375 25.390625 \nL 58.015625 25.390625 \nL 58.015625 17.1875 \nL 47.609375 17.1875 \nL 47.609375 0 \nL 37.796875 0 \nL 37.796875 17.1875 \nL 4.890625 17.1875 \nL 4.890625 26.703125 \nz\n\" id=\"DejaVuSans-52\"/>\n       </defs>\n       <use xlink:href=\"#DejaVuSans-52\"/>\n       <use x=\"63.623047\" xlink:href=\"#DejaVuSans-46\"/>\n       <use x=\"95.410156\" xlink:href=\"#DejaVuSans-48\"/>\n      </g>\n     </g>\n    </g>\n    <g id=\"xtick_8\">\n     <g id=\"line2d_8\">\n      <g>\n       <use style=\"stroke:#000000;stroke-width:0.8;\" x=\"318.001989\" xlink:href=\"#m1b287bbf34\" y=\"228.176393\"/>\n      </g>\n     </g>\n     <g id=\"text_8\">\n      <!-- 4.5 -->\n      <g transform=\"translate(310.050426 242.774831)scale(0.1 -0.1)\">\n       <use xlink:href=\"#DejaVuSans-52\"/>\n       <use x=\"63.623047\" xlink:href=\"#DejaVuSans-46\"/>\n       <use x=\"95.410156\" xlink:href=\"#DejaVuSans-53\"/>\n      </g>\n     </g>\n    </g>\n    <g id=\"xtick_9\">\n     <g id=\"line2d_9\">\n      <g>\n       <use style=\"stroke:#000000;stroke-width:0.8;\" x=\"356.047443\" xlink:href=\"#m1b287bbf34\" y=\"228.176393\"/>\n      </g>\n     </g>\n     <g id=\"text_9\">\n      <!-- 5.0 -->\n      <g transform=\"translate(348.095881 242.774831)scale(0.1 -0.1)\">\n       <use xlink:href=\"#DejaVuSans-53\"/>\n       <use x=\"63.623047\" xlink:href=\"#DejaVuSans-46\"/>\n       <use x=\"95.410156\" xlink:href=\"#DejaVuSans-48\"/>\n      </g>\n     </g>\n    </g>\n   </g>\n   <g id=\"matplotlib.axis_2\">\n    <g id=\"ytick_1\">\n     <g id=\"line2d_10\">\n      <defs>\n       <path d=\"M 0 0 \nL -3.5 0 \n\" id=\"mc9fcd1be5b\" style=\"stroke:#000000;stroke-width:0.8;\"/>\n      </defs>\n      <g>\n       <use style=\"stroke:#000000;stroke-width:0.8;\" x=\"36.465625\" xlink:href=\"#mc9fcd1be5b\" y=\"218.935866\"/>\n      </g>\n     </g>\n     <g id=\"text_10\">\n      <!-- 0.00 -->\n      <g transform=\"translate(7.2 222.735085)scale(0.1 -0.1)\">\n       <use xlink:href=\"#DejaVuSans-48\"/>\n       <use x=\"63.623047\" xlink:href=\"#DejaVuSans-46\"/>\n       <use x=\"95.410156\" xlink:href=\"#DejaVuSans-48\"/>\n       <use x=\"159.033203\" xlink:href=\"#DejaVuSans-48\"/>\n      </g>\n     </g>\n    </g>\n    <g id=\"ytick_2\">\n     <g id=\"line2d_11\">\n      <g>\n       <use style=\"stroke:#000000;stroke-width:0.8;\" x=\"36.465625\" xlink:href=\"#mc9fcd1be5b\" y=\"177.348537\"/>\n      </g>\n     </g>\n     <g id=\"text_11\">\n      <!-- 0.02 -->\n      <g transform=\"translate(7.2 181.147755)scale(0.1 -0.1)\">\n       <use xlink:href=\"#DejaVuSans-48\"/>\n       <use x=\"63.623047\" xlink:href=\"#DejaVuSans-46\"/>\n       <use x=\"95.410156\" xlink:href=\"#DejaVuSans-48\"/>\n       <use x=\"159.033203\" xlink:href=\"#DejaVuSans-50\"/>\n      </g>\n     </g>\n    </g>\n    <g id=\"ytick_3\">\n     <g id=\"line2d_12\">\n      <g>\n       <use style=\"stroke:#000000;stroke-width:0.8;\" x=\"36.465625\" xlink:href=\"#mc9fcd1be5b\" y=\"135.761207\"/>\n      </g>\n     </g>\n     <g id=\"text_12\">\n      <!-- 0.04 -->\n      <g transform=\"translate(7.2 139.560426)scale(0.1 -0.1)\">\n       <use xlink:href=\"#DejaVuSans-48\"/>\n       <use x=\"63.623047\" xlink:href=\"#DejaVuSans-46\"/>\n       <use x=\"95.410156\" xlink:href=\"#DejaVuSans-48\"/>\n       <use x=\"159.033203\" xlink:href=\"#DejaVuSans-52\"/>\n      </g>\n     </g>\n    </g>\n    <g id=\"ytick_4\">\n     <g id=\"line2d_13\">\n      <g>\n       <use style=\"stroke:#000000;stroke-width:0.8;\" x=\"36.465625\" xlink:href=\"#mc9fcd1be5b\" y=\"94.173878\"/>\n      </g>\n     </g>\n     <g id=\"text_13\">\n      <!-- 0.06 -->\n      <g transform=\"translate(7.2 97.973096)scale(0.1 -0.1)\">\n       <defs>\n        <path d=\"M 33.015625 40.375 \nQ 26.375 40.375 22.484375 35.828125 \nQ 18.609375 31.296875 18.609375 23.390625 \nQ 18.609375 15.53125 22.484375 10.953125 \nQ 26.375 6.390625 33.015625 6.390625 \nQ 39.65625 6.390625 43.53125 10.953125 \nQ 47.40625 15.53125 47.40625 23.390625 \nQ 47.40625 31.296875 43.53125 35.828125 \nQ 39.65625 40.375 33.015625 40.375 \nz\nM 52.59375 71.296875 \nL 52.59375 62.3125 \nQ 48.875 64.0625 45.09375 64.984375 \nQ 41.3125 65.921875 37.59375 65.921875 \nQ 27.828125 65.921875 22.671875 59.328125 \nQ 17.53125 52.734375 16.796875 39.40625 \nQ 19.671875 43.65625 24.015625 45.921875 \nQ 28.375 48.1875 33.59375 48.1875 \nQ 44.578125 48.1875 50.953125 41.515625 \nQ 57.328125 34.859375 57.328125 23.390625 \nQ 57.328125 12.15625 50.6875 5.359375 \nQ 44.046875 -1.421875 33.015625 -1.421875 \nQ 20.359375 -1.421875 13.671875 8.265625 \nQ 6.984375 17.96875 6.984375 36.375 \nQ 6.984375 53.65625 15.1875 63.9375 \nQ 23.390625 74.21875 37.203125 74.21875 \nQ 40.921875 74.21875 44.703125 73.484375 \nQ 48.484375 72.75 52.59375 71.296875 \nz\n\" id=\"DejaVuSans-54\"/>\n       </defs>\n       <use xlink:href=\"#DejaVuSans-48\"/>\n       <use x=\"63.623047\" xlink:href=\"#DejaVuSans-46\"/>\n       <use x=\"95.410156\" xlink:href=\"#DejaVuSans-48\"/>\n       <use x=\"159.033203\" xlink:href=\"#DejaVuSans-54\"/>\n      </g>\n     </g>\n    </g>\n    <g id=\"ytick_5\">\n     <g id=\"line2d_14\">\n      <g>\n       <use style=\"stroke:#000000;stroke-width:0.8;\" x=\"36.465625\" xlink:href=\"#mc9fcd1be5b\" y=\"52.586548\"/>\n      </g>\n     </g>\n     <g id=\"text_14\">\n      <!-- 0.08 -->\n      <g transform=\"translate(7.2 56.385767)scale(0.1 -0.1)\">\n       <defs>\n        <path d=\"M 31.78125 34.625 \nQ 24.75 34.625 20.71875 30.859375 \nQ 16.703125 27.09375 16.703125 20.515625 \nQ 16.703125 13.921875 20.71875 10.15625 \nQ 24.75 6.390625 31.78125 6.390625 \nQ 38.8125 6.390625 42.859375 10.171875 \nQ 46.921875 13.96875 46.921875 20.515625 \nQ 46.921875 27.09375 42.890625 30.859375 \nQ 38.875 34.625 31.78125 34.625 \nz\nM 21.921875 38.8125 \nQ 15.578125 40.375 12.03125 44.71875 \nQ 8.5 49.078125 8.5 55.328125 \nQ 8.5 64.0625 14.71875 69.140625 \nQ 20.953125 74.21875 31.78125 74.21875 \nQ 42.671875 74.21875 48.875 69.140625 \nQ 55.078125 64.0625 55.078125 55.328125 \nQ 55.078125 49.078125 51.53125 44.71875 \nQ 48 40.375 41.703125 38.8125 \nQ 48.828125 37.15625 52.796875 32.3125 \nQ 56.78125 27.484375 56.78125 20.515625 \nQ 56.78125 9.90625 50.3125 4.234375 \nQ 43.84375 -1.421875 31.78125 -1.421875 \nQ 19.734375 -1.421875 13.25 4.234375 \nQ 6.78125 9.90625 6.78125 20.515625 \nQ 6.78125 27.484375 10.78125 32.3125 \nQ 14.796875 37.15625 21.921875 38.8125 \nz\nM 18.3125 54.390625 \nQ 18.3125 48.734375 21.84375 45.5625 \nQ 25.390625 42.390625 31.78125 42.390625 \nQ 38.140625 42.390625 41.71875 45.5625 \nQ 45.3125 48.734375 45.3125 54.390625 \nQ 45.3125 60.0625 41.71875 63.234375 \nQ 38.140625 66.40625 31.78125 66.40625 \nQ 25.390625 66.40625 21.84375 63.234375 \nQ 18.3125 60.0625 18.3125 54.390625 \nz\n\" id=\"DejaVuSans-56\"/>\n       </defs>\n       <use xlink:href=\"#DejaVuSans-48\"/>\n       <use x=\"63.623047\" xlink:href=\"#DejaVuSans-46\"/>\n       <use x=\"95.410156\" xlink:href=\"#DejaVuSans-48\"/>\n       <use x=\"159.033203\" xlink:href=\"#DejaVuSans-56\"/>\n      </g>\n     </g>\n    </g>\n    <g id=\"ytick_6\">\n     <g id=\"line2d_15\">\n      <g>\n       <use style=\"stroke:#000000;stroke-width:0.8;\" x=\"36.465625\" xlink:href=\"#mc9fcd1be5b\" y=\"10.999219\"/>\n      </g>\n     </g>\n     <g id=\"text_15\">\n      <!-- 0.10 -->\n      <g transform=\"translate(7.2 14.798437)scale(0.1 -0.1)\">\n       <use xlink:href=\"#DejaVuSans-48\"/>\n       <use x=\"63.623047\" xlink:href=\"#DejaVuSans-46\"/>\n       <use x=\"95.410156\" xlink:href=\"#DejaVuSans-49\"/>\n       <use x=\"159.033203\" xlink:href=\"#DejaVuSans-48\"/>\n      </g>\n     </g>\n    </g>\n   </g>\n   <g id=\"line2d_16\">\n    <path clip-path=\"url(#p02155ea8da)\" d=\"M 51.683807 150.528462 \nL 127.774716 202.222488 \nL 203.865625 213.502046 \nL 279.956534 216.203272 \nL 356.047443 218.292757 \n\" style=\"fill:none;stroke:#1f77b4;stroke-linecap:square;stroke-width:1.5;\"/>\n   </g>\n   <g id=\"line2d_17\">\n    <path clip-path=\"url(#p02155ea8da)\" d=\"M 51.683807 33.275035 \nL 127.774716 126.842972 \nL 203.865625 169.192733 \nL 279.956534 182.150062 \nL 356.047443 20.62003 \n\" style=\"fill:none;stroke:#ff7f0e;stroke-linecap:square;stroke-width:1.5;\"/>\n   </g>\n   <g id=\"patch_3\">\n    <path d=\"M 36.465625 228.176393 \nL 36.465625 10.736393 \n\" style=\"fill:none;stroke:#000000;stroke-linecap:square;stroke-linejoin:miter;stroke-width:0.8;\"/>\n   </g>\n   <g id=\"patch_4\">\n    <path d=\"M 371.265625 228.176393 \nL 371.265625 10.736393 \n\" style=\"fill:none;stroke:#000000;stroke-linecap:square;stroke-linejoin:miter;stroke-width:0.8;\"/>\n   </g>\n   <g id=\"patch_5\">\n    <path d=\"M 36.465625 228.176393 \nL 371.265625 228.176393 \n\" style=\"fill:none;stroke:#000000;stroke-linecap:square;stroke-linejoin:miter;stroke-width:0.8;\"/>\n   </g>\n   <g id=\"patch_6\">\n    <path d=\"M 36.465625 10.736393 \nL 371.265625 10.736393 \n\" style=\"fill:none;stroke:#000000;stroke-linecap:square;stroke-linejoin:miter;stroke-width:0.8;\"/>\n   </g>\n  </g>\n </g>\n <defs>\n  <clipPath id=\"p02155ea8da\">\n   <rect height=\"217.44\" width=\"334.8\" x=\"36.465625\" y=\"10.736393\"/>\n  </clipPath>\n </defs>\n</svg>\n",
      "image/png": "[encoded data removed]"
     },
     "metadata": {
      "needs_background": "light"
     }
    }
   ],
   "source": [
    "plt.plot(cnn.epo_lis,cnn.loss_lis)\n",
    "plt.plot(cnn.epo_lis,cnn.val_lis)"
   ]
  },
  {
   "cell_type": "code",
   "execution_count": 37,
   "metadata": {},
   "outputs": [],
   "source": [
    "y_pred = cnn.predict(X_test)"
   ]
  },
  {
   "cell_type": "code",
   "execution_count": 38,
   "metadata": {},
   "outputs": [
    {
     "output_type": "execute_result",
     "data": {
      "text/plain": [
       "0.9699"
      ]
     },
     "metadata": {},
     "execution_count": 38
    }
   ],
   "source": [
    "accuracy_score(y_test,y_pred)"
   ]
  },
  {
   "cell_type": "markdown",
   "metadata": {},
   "source": [
    "#### 【問題7】（アドバンス課題）LeNet\n",
    "CNNで画像認識を行う際は、フィルタサイズや層の数などを１から考えるのではなく、有名な構造を利用することが一般的です。現在では実用的に使われることはありませんが、歴史的に重要なのは1998年の LeNet です。この構造を再現してMNISTに対して動かし、Accuracyを計算してください。\n",
    "\n",
    "[Y. LeCun, L. Bottou, Y. Bengio, and P. Haffner. Gradient-based learning applied to document recognition. Proceedings of the IEEE, 86(11):2278–2324, 1998.](http://yann.lecun.com/exdb/publis/pdf/lecun-98.pdf)\n",
    "\n",
    "\n",
    "※上記論文から引用\n",
    "\n",
    "サブサンプリングとは現在のプーリングに相当するものです。現代風に以下のように作ってみることにします。活性化関数も当時はシグモイド関数ですが、ReLUとします。\n",
    "\n",
    "畳み込み層　出力チャンネル数6、フィルタサイズ5×5、ストライド1\n",
    "ReLU\n",
    "最大プーリング\n",
    "畳み込み層　出力チャンネル数16、フィルタサイズ5×5、ストライド1\n",
    "ReLU\n",
    "最大プーリング\n",
    "平滑化\n",
    "全結合層　出力ノード数120\n",
    "ReLU\n",
    "全結合層　出力ノード数84\n",
    "ReLU\n",
    "全結合層　出力ノード数10\n",
    "ソフトマックス関数"
   ]
  },
  {
   "cell_type": "code",
   "execution_count": 21,
   "metadata": {},
   "outputs": [],
   "source": [
    "class LaNet():\n",
    "    def __init__(self,lr=0.01,sigma=0.01,n_node1=120,n_node2=84,n_output=10,verbose=True,epoch=5,batch_size=10,activation=\"tanh\",initial=\"he\",optimizer=\"sgd\",f_num=6,f_num2=16,f_h=5,f_w=5,stride=1):\n",
    "        self.lr = lr\n",
    "        self.sigma = sigma\n",
    "        self.n_nodes1 = n_node1\n",
    "        self.n_nodes2 = n_node2\n",
    "        self.n_output = n_output\n",
    "        self.epoch = epoch\n",
    "        self.verbose = verbose\n",
    "        self.batch = batch_size\n",
    "        self.activation = activation\n",
    "        self.initial = initial\n",
    "        self.optimizer = optimizer\n",
    "        self.f_num = f_num\n",
    "        self.f_num2 = f_num2\n",
    "        self.f_h = f_h\n",
    "        self.f_w = f_w\n",
    "        self.stride = stride\n",
    "\n",
    "    def fit(self,X,y,X_val=None,y_val=None):\n",
    "        get_mini_batch = GetMiniBatch(X, y, self.batch)\n",
    "        #val\n",
    "        if X_val is not None:      \n",
    "            test_mini_batch = GetMiniBatch(X_val, y_val) \n",
    "\n",
    "        self.B = self.batch\n",
    "        N,C,I_h,I_w= X.shape\n",
    "        self.I_shape = X.shape\n",
    "\n",
    "        if self.optimizer == \"sgd\":\n",
    "            optimizer1 = SGD(self.lr)\n",
    "            optimizer2 = SGD(self.lr)\n",
    "            optimizer3 = SGD(self.lr)\n",
    "            optimizer4 = SGD(self.lr)\n",
    "\n",
    "        if self.activation == \"tanh\":\n",
    "            self.activation1 = Tanh()\n",
    "            self.activation2= Tanh()\n",
    "            self.activation3 = Tanh()\n",
    "            self.activation4 = Tanh()\n",
    "        elif self.activation == \"relu\":\n",
    "            self.activation1 = ReLU2()\n",
    "            self.activation2= ReLU2()\n",
    "            self.activation3= ReLU2()\n",
    "            self.activation4= ReLU2()\n",
    "\n",
    "\n",
    "        if self.initial == \"simple\":\n",
    "            initial1 = SimpleInitializer(self.sigma)\n",
    "            initial2 = SimpleInitializer(self.sigma)    \n",
    "            initial3 = SimpleInitializer(self.sigma)\n",
    "            initial4 = SimpleInitializer(self.sigma)    \n",
    "        elif self.initial == \"he\":\n",
    "            initial1 = HeInitializer()\n",
    "            initial2 = HeInitializer()    \n",
    "            initial3 = HeInitializer()\n",
    "            initial4 = HeInitializer()    \n",
    "        #1\n",
    "        self.CON2_1 = Conv2d(self.B,self.f_num,self.f_h,self.f_w,initial1,optimizer1,self.stride,self.I_shape,1)\n",
    "        # con1_out = self.CON2_1.output(I_h,I_w,self.f_h,self.f_w)\n",
    "        # o_shape1 = self.f_num,*con1_out\n",
    "        # print(\"ohsape\",o_shape1)\n",
    "        self.Pool1 = MaxPool2D(self.CON2_1)\n",
    "\n",
    "        self.CON2_2 = Conv2d(self.B,self.f_num2,self.f_h,self.f_w,initial1,optimizer1,self.stride,self.I_shape,self.f_num)\n",
    "        #    o_shape2 = self.f_num2,20,20\n",
    "        self.Pool2 = MaxPool2D(self.CON2_2)\n",
    "\n",
    "        self.flat = Flatten()\n",
    "        # O_h,O_w = self.CON2_2.output(20,20,self.f_h,self.f_w)\n",
    "        out = self.f_num2*18*18\n",
    "        self.FC1 = FC(out, self.n_nodes1, initial2, optimizer2)\n",
    "        self.FC2 = FC(self.n_nodes1, self.n_nodes2, initial3, optimizer3)\n",
    "        self.FC3 = FC(self.n_nodes2, self.n_output, initial4, optimizer4)\n",
    "        \n",
    "        self.activation5 = Softmax()\n",
    "\n",
    "        self.epo_lis = []\n",
    "        self.loss_lis = []\n",
    "        self.val_lis = []\n",
    "        for i in range(self.epoch):\n",
    "            for mini_X_train, mini_y_train in get_mini_batch:\n",
    "                Y = (mini_y_train.reshape(-1,1)==np.arange(10)).astype(np.float64)\n",
    "                self._forward(mini_X_train)\n",
    "\n",
    "                dA4, loss = self.activation5.backward(Y) \n",
    "                #print(loss)# 交差エントロピー誤差とソフトマックスを合わせている\n",
    "                #print(\"dA3\",dA3.shape)\n",
    "                dZ4 = self.FC3.backward(dA4)\n",
    "                #print(\"dZ4\",dZ4.shape )\n",
    "                dA3 = self.activation4.backward(dZ4)\n",
    "                #print('dA3',dA3)\n",
    "                dZ3 = self.FC2.backward(dA3)\n",
    "                #print('dZ3',dZ3)\n",
    "                dA2 = self.activation3.backward(dZ3)\n",
    "                #print('dA2',dA2)\n",
    "                dZ2 = self.FC1.backward(dA2) \n",
    "                #print('dZ2',dZ2)\n",
    "                dF = self.flat.backward(dZ2)\n",
    "                #print('dF',dF)\n",
    "                dP2 = self.Pool2.backward(dF,self.Z1)\n",
    "\n",
    "                dA1 = self.activation2.backward(dP2)\n",
    "                # print('dA1',dA1.shape)\n",
    "                dZ1 = self.CON2_2.backward(dA1,self.P1)\n",
    "                #print('dZ1',dZ1.shape)\n",
    "                dP1 = self.Pool1.backward(dZ1,self.Z0)\n",
    "                dA1 = self.activation1.backward(dP1)\n",
    "                #print('dA1',dA1)\n",
    "                # print(\"dA1\")\n",
    "                dZ0 = self.CON2_1.backward(dA1,mini_X_train)\n",
    "                # print(\"dZ0\")\n",
    "            self.loss_lis.append(loss)\n",
    "            #検証\n",
    "            # print(i)\n",
    "            if X_val is not None:\n",
    "                for mini_X_val,mini_y_val in test_mini_batch:\n",
    "                    y_val_one = (mini_y_val.reshape(-1,1)==np.arange(10)).astype(np.float64)\n",
    "                    y_pre = np.argmax(self._forward(mini_X_val)  ,axis=1)\n",
    "                    accura = accuracy_score(mini_y_val,y_pre)\n",
    "                self.val_lis.append(self.activation5.backward(y_val_one)[1])\n",
    "            self.epo_lis.append(i+1)\n",
    "            #verboseをTrueにした際は学習過程などを出力する\n",
    "            if self.verbose:\n",
    "                print( \"epoch\",i+1,\"loss{:.3f}\".format(loss),\"accuracy:\",accura,\"ini\",self.initial,\"activation\",self.activation,\"optimizer\",self.optimizer)\n",
    "            pass\n",
    "    def _forward(self,X):\n",
    "        self.A0 = self.CON2_1.forward(X)\n",
    "        #print(A0.shape)\n",
    "        self.Z0 = self.activation1.forward(self.A0)\n",
    "        #print('Z0',self.Z0.shape)\n",
    "        self.P1 = self.Pool1.forward(self.Z0)\n",
    "        # print(\"P1\",self.P1.shape)\n",
    "        self.A1 = self.CON2_2.forward(self.P1)\n",
    "        #print(\"A1shape\",self.A1.shape)\n",
    "        self.Z1 = self.activation2.forward(self.A1)\n",
    "        # print(\"Z1\",self.Z1.shape)\n",
    "        self.P2 = self.Pool2.forward(self.Z1)\n",
    "        # print(\"pool2\",self.P2.shape)\n",
    "        F = self.flat.forward(self.P2)\n",
    "        # print('F',F.shape)\n",
    "        A2 = self.FC1.forward(F)\n",
    "        #print('A1',A1.shape)\n",
    "        Z2 = self.activation3.forward(A2)\n",
    "        #print(Z1.shape)\n",
    "        A3 = self.FC2.forward(Z2)\n",
    "        #print('A2',A2.shape)\n",
    "        Z3 = self.activation4.forward(A3)\n",
    "        #print('Z2',Z2.shape)\n",
    "        A4 = self.FC3.forward(Z3)\n",
    "        #print(\"A3\",A3.shape)\n",
    "        Z4 = self.activation5.forward(A4)        \n",
    "        #print('Z3',Z3.shape)\n",
    "        return Z4\n",
    "    def predict(self,X):\n",
    "\n",
    "        return np.argmax(self._forward(X),axis=1)"
   ]
  },
  {
   "cell_type": "code",
   "execution_count": 23,
   "metadata": {
    "tags": []
   },
   "outputs": [
    {
     "output_type": "stream",
     "name": "stdout",
     "text": [
      "epoch 1 loss2.301 accuracy: 0.1 ini he activation relu optimizer sgd\n",
      "epoch 2 loss2.309 accuracy: 0.1 ini he activation relu optimizer sgd\n",
      "epoch 3 loss2.310 accuracy: 0.1 ini he activation relu optimizer sgd\n",
      "epoch 4 loss2.310 accuracy: 0.1 ini he activation relu optimizer sgd\n",
      "epoch 5 loss2.310 accuracy: 0.1 ini he activation relu optimizer sgd\n"
     ]
    }
   ],
   "source": [
    "lanet = LaNet(epoch=5,activation=\"relu\",initial=\"he\",optimizer=\"sgd\")\n",
    "\n",
    "lanet.fit(X_train,y_train,X_val,y_val)"
   ]
  },
  {
   "cell_type": "code",
   "execution_count": 25,
   "metadata": {},
   "outputs": [
    {
     "output_type": "execute_result",
     "data": {
      "text/plain": [
       "[<matplotlib.lines.Line2D at 0x7fc7d7367f10>]"
      ]
     },
     "metadata": {},
     "execution_count": 25
    },
    {
     "output_type": "display_data",
     "data": {
      "text/plain": "<Figure size 432x288 with 1 Axes>",
      "image/svg+xml": "<?xml version=\"1.0\" encoding=\"utf-8\" standalone=\"no\"?>\n<!DOCTYPE svg PUBLIC \"-//W3C//DTD SVG 1.1//EN\"\n  \"http://www.w3.org/Graphics/SVG/1.1/DTD/svg11.dtd\">\n<!-- Created with matplotlib (https://matplotlib.org/) -->\n<svg height=\"248.518125pt\" version=\"1.1\" viewBox=\"0 0 378.465625 248.518125\" width=\"378.465625pt\" xmlns=\"http://www.w3.org/2000/svg\" xmlns:xlink=\"http://www.w3.org/1999/xlink\">\n <metadata>\n  <rdf:RDF xmlns:cc=\"http://creativecommons.org/ns#\" xmlns:dc=\"http://purl.org/dc/elements/1.1/\" xmlns:rdf=\"http://www.w3.org/1999/02/22-rdf-syntax-ns#\">\n   <cc:Work>\n    <dc:type rdf:resource=\"http://purl.org/dc/dcmitype/StillImage\"/>\n    <dc:date>2021-04-11T16:51:39.628209</dc:date>\n    <dc:format>image/svg+xml</dc:format>\n    <dc:creator>\n     <cc:Agent>\n      <dc:title>Matplotlib v3.3.4, https://matplotlib.org/</dc:title>\n     </cc:Agent>\n    </dc:creator>\n   </cc:Work>\n  </rdf:RDF>\n </metadata>\n <defs>\n  <style type=\"text/css\">*{stroke-linecap:butt;stroke-linejoin:round;}</style>\n </defs>\n <g id=\"figure_1\">\n  <g id=\"patch_1\">\n   <path d=\"M 0 248.518125 \nL 378.465625 248.518125 \nL 378.465625 0 \nL 0 0 \nz\n\" style=\"fill:none;\"/>\n  </g>\n  <g id=\"axes_1\">\n   <g id=\"patch_2\">\n    <path d=\"M 36.465625 224.64 \nL 371.265625 224.64 \nL 371.265625 7.2 \nL 36.465625 7.2 \nz\n\" style=\"fill:#ffffff;\"/>\n   </g>\n   <g id=\"matplotlib.axis_1\">\n    <g id=\"xtick_1\">\n     <g id=\"line2d_1\">\n      <defs>\n       <path d=\"M 0 0 \nL 0 3.5 \n\" id=\"m4adf3b9d74\" style=\"stroke:#000000;stroke-width:0.8;\"/>\n      </defs>\n      <g>\n       <use style=\"stroke:#000000;stroke-width:0.8;\" x=\"51.683807\" xlink:href=\"#m4adf3b9d74\" y=\"224.64\"/>\n      </g>\n     </g>\n     <g id=\"text_1\">\n      <!-- 1.0 -->\n      <g transform=\"translate(43.732244 239.238438)scale(0.1 -0.1)\">\n       <defs>\n        <path d=\"M 12.40625 8.296875 \nL 28.515625 8.296875 \nL 28.515625 63.921875 \nL 10.984375 60.40625 \nL 10.984375 69.390625 \nL 28.421875 72.90625 \nL 38.28125 72.90625 \nL 38.28125 8.296875 \nL 54.390625 8.296875 \nL 54.390625 0 \nL 12.40625 0 \nz\n\" id=\"DejaVuSans-49\"/>\n        <path d=\"M 10.6875 12.40625 \nL 21 12.40625 \nL 21 0 \nL 10.6875 0 \nz\n\" id=\"DejaVuSans-46\"/>\n        <path d=\"M 31.78125 66.40625 \nQ 24.171875 66.40625 20.328125 58.90625 \nQ 16.5 51.421875 16.5 36.375 \nQ 16.5 21.390625 20.328125 13.890625 \nQ 24.171875 6.390625 31.78125 6.390625 \nQ 39.453125 6.390625 43.28125 13.890625 \nQ 47.125 21.390625 47.125 36.375 \nQ 47.125 51.421875 43.28125 58.90625 \nQ 39.453125 66.40625 31.78125 66.40625 \nz\nM 31.78125 74.21875 \nQ 44.046875 74.21875 50.515625 64.515625 \nQ 56.984375 54.828125 56.984375 36.375 \nQ 56.984375 17.96875 50.515625 8.265625 \nQ 44.046875 -1.421875 31.78125 -1.421875 \nQ 19.53125 -1.421875 13.0625 8.265625 \nQ 6.59375 17.96875 6.59375 36.375 \nQ 6.59375 54.828125 13.0625 64.515625 \nQ 19.53125 74.21875 31.78125 74.21875 \nz\n\" id=\"DejaVuSans-48\"/>\n       </defs>\n       <use xlink:href=\"#DejaVuSans-49\"/>\n       <use x=\"63.623047\" xlink:href=\"#DejaVuSans-46\"/>\n       <use x=\"95.410156\" xlink:href=\"#DejaVuSans-48\"/>\n      </g>\n     </g>\n    </g>\n    <g id=\"xtick_2\">\n     <g id=\"line2d_2\">\n      <g>\n       <use style=\"stroke:#000000;stroke-width:0.8;\" x=\"89.729261\" xlink:href=\"#m4adf3b9d74\" y=\"224.64\"/>\n      </g>\n     </g>\n     <g id=\"text_2\">\n      <!-- 1.5 -->\n      <g transform=\"translate(81.777699 239.238438)scale(0.1 -0.1)\">\n       <defs>\n        <path d=\"M 10.796875 72.90625 \nL 49.515625 72.90625 \nL 49.515625 64.59375 \nL 19.828125 64.59375 \nL 19.828125 46.734375 \nQ 21.96875 47.46875 24.109375 47.828125 \nQ 26.265625 48.1875 28.421875 48.1875 \nQ 40.625 48.1875 47.75 41.5 \nQ 54.890625 34.8125 54.890625 23.390625 \nQ 54.890625 11.625 47.5625 5.09375 \nQ 40.234375 -1.421875 26.90625 -1.421875 \nQ 22.3125 -1.421875 17.546875 -0.640625 \nQ 12.796875 0.140625 7.71875 1.703125 \nL 7.71875 11.625 \nQ 12.109375 9.234375 16.796875 8.0625 \nQ 21.484375 6.890625 26.703125 6.890625 \nQ 35.15625 6.890625 40.078125 11.328125 \nQ 45.015625 15.765625 45.015625 23.390625 \nQ 45.015625 31 40.078125 35.4375 \nQ 35.15625 39.890625 26.703125 39.890625 \nQ 22.75 39.890625 18.8125 39.015625 \nQ 14.890625 38.140625 10.796875 36.28125 \nz\n\" id=\"DejaVuSans-53\"/>\n       </defs>\n       <use xlink:href=\"#DejaVuSans-49\"/>\n       <use x=\"63.623047\" xlink:href=\"#DejaVuSans-46\"/>\n       <use x=\"95.410156\" xlink:href=\"#DejaVuSans-53\"/>\n      </g>\n     </g>\n    </g>\n    <g id=\"xtick_3\">\n     <g id=\"line2d_3\">\n      <g>\n       <use style=\"stroke:#000000;stroke-width:0.8;\" x=\"127.774716\" xlink:href=\"#m4adf3b9d74\" y=\"224.64\"/>\n      </g>\n     </g>\n     <g id=\"text_3\">\n      <!-- 2.0 -->\n      <g transform=\"translate(119.823153 239.238438)scale(0.1 -0.1)\">\n       <defs>\n        <path d=\"M 19.1875 8.296875 \nL 53.609375 8.296875 \nL 53.609375 0 \nL 7.328125 0 \nL 7.328125 8.296875 \nQ 12.9375 14.109375 22.625 23.890625 \nQ 32.328125 33.6875 34.8125 36.53125 \nQ 39.546875 41.84375 41.421875 45.53125 \nQ 43.3125 49.21875 43.3125 52.78125 \nQ 43.3125 58.59375 39.234375 62.25 \nQ 35.15625 65.921875 28.609375 65.921875 \nQ 23.96875 65.921875 18.8125 64.3125 \nQ 13.671875 62.703125 7.8125 59.421875 \nL 7.8125 69.390625 \nQ 13.765625 71.78125 18.9375 73 \nQ 24.125 74.21875 28.421875 74.21875 \nQ 39.75 74.21875 46.484375 68.546875 \nQ 53.21875 62.890625 53.21875 53.421875 \nQ 53.21875 48.921875 51.53125 44.890625 \nQ 49.859375 40.875 45.40625 35.40625 \nQ 44.1875 33.984375 37.640625 27.21875 \nQ 31.109375 20.453125 19.1875 8.296875 \nz\n\" id=\"DejaVuSans-50\"/>\n       </defs>\n       <use xlink:href=\"#DejaVuSans-50\"/>\n       <use x=\"63.623047\" xlink:href=\"#DejaVuSans-46\"/>\n       <use x=\"95.410156\" xlink:href=\"#DejaVuSans-48\"/>\n      </g>\n     </g>\n    </g>\n    <g id=\"xtick_4\">\n     <g id=\"line2d_4\">\n      <g>\n       <use style=\"stroke:#000000;stroke-width:0.8;\" x=\"165.82017\" xlink:href=\"#m4adf3b9d74\" y=\"224.64\"/>\n      </g>\n     </g>\n     <g id=\"text_4\">\n      <!-- 2.5 -->\n      <g transform=\"translate(157.868608 239.238438)scale(0.1 -0.1)\">\n       <use xlink:href=\"#DejaVuSans-50\"/>\n       <use x=\"63.623047\" xlink:href=\"#DejaVuSans-46\"/>\n       <use x=\"95.410156\" xlink:href=\"#DejaVuSans-53\"/>\n      </g>\n     </g>\n    </g>\n    <g id=\"xtick_5\">\n     <g id=\"line2d_5\">\n      <g>\n       <use style=\"stroke:#000000;stroke-width:0.8;\" x=\"203.865625\" xlink:href=\"#m4adf3b9d74\" y=\"224.64\"/>\n      </g>\n     </g>\n     <g id=\"text_5\">\n      <!-- 3.0 -->\n      <g transform=\"translate(195.914063 239.238438)scale(0.1 -0.1)\">\n       <defs>\n        <path d=\"M 40.578125 39.3125 \nQ 47.65625 37.796875 51.625 33 \nQ 55.609375 28.21875 55.609375 21.1875 \nQ 55.609375 10.40625 48.1875 4.484375 \nQ 40.765625 -1.421875 27.09375 -1.421875 \nQ 22.515625 -1.421875 17.65625 -0.515625 \nQ 12.796875 0.390625 7.625 2.203125 \nL 7.625 11.71875 \nQ 11.71875 9.328125 16.59375 8.109375 \nQ 21.484375 6.890625 26.8125 6.890625 \nQ 36.078125 6.890625 40.9375 10.546875 \nQ 45.796875 14.203125 45.796875 21.1875 \nQ 45.796875 27.640625 41.28125 31.265625 \nQ 36.765625 34.90625 28.71875 34.90625 \nL 20.21875 34.90625 \nL 20.21875 43.015625 \nL 29.109375 43.015625 \nQ 36.375 43.015625 40.234375 45.921875 \nQ 44.09375 48.828125 44.09375 54.296875 \nQ 44.09375 59.90625 40.109375 62.90625 \nQ 36.140625 65.921875 28.71875 65.921875 \nQ 24.65625 65.921875 20.015625 65.03125 \nQ 15.375 64.15625 9.8125 62.3125 \nL 9.8125 71.09375 \nQ 15.4375 72.65625 20.34375 73.4375 \nQ 25.25 74.21875 29.59375 74.21875 \nQ 40.828125 74.21875 47.359375 69.109375 \nQ 53.90625 64.015625 53.90625 55.328125 \nQ 53.90625 49.265625 50.4375 45.09375 \nQ 46.96875 40.921875 40.578125 39.3125 \nz\n\" id=\"DejaVuSans-51\"/>\n       </defs>\n       <use xlink:href=\"#DejaVuSans-51\"/>\n       <use x=\"63.623047\" xlink:href=\"#DejaVuSans-46\"/>\n       <use x=\"95.410156\" xlink:href=\"#DejaVuSans-48\"/>\n      </g>\n     </g>\n    </g>\n    <g id=\"xtick_6\">\n     <g id=\"line2d_6\">\n      <g>\n       <use style=\"stroke:#000000;stroke-width:0.8;\" x=\"241.91108\" xlink:href=\"#m4adf3b9d74\" y=\"224.64\"/>\n      </g>\n     </g>\n     <g id=\"text_6\">\n      <!-- 3.5 -->\n      <g transform=\"translate(233.959517 239.238438)scale(0.1 -0.1)\">\n       <use xlink:href=\"#DejaVuSans-51\"/>\n       <use x=\"63.623047\" xlink:href=\"#DejaVuSans-46\"/>\n       <use x=\"95.410156\" xlink:href=\"#DejaVuSans-53\"/>\n      </g>\n     </g>\n    </g>\n    <g id=\"xtick_7\">\n     <g id=\"line2d_7\">\n      <g>\n       <use style=\"stroke:#000000;stroke-width:0.8;\" x=\"279.956534\" xlink:href=\"#m4adf3b9d74\" y=\"224.64\"/>\n      </g>\n     </g>\n     <g id=\"text_7\">\n      <!-- 4.0 -->\n      <g transform=\"translate(272.004972 239.238438)scale(0.1 -0.1)\">\n       <defs>\n        <path d=\"M 37.796875 64.3125 \nL 12.890625 25.390625 \nL 37.796875 25.390625 \nz\nM 35.203125 72.90625 \nL 47.609375 72.90625 \nL 47.609375 25.390625 \nL 58.015625 25.390625 \nL 58.015625 17.1875 \nL 47.609375 17.1875 \nL 47.609375 0 \nL 37.796875 0 \nL 37.796875 17.1875 \nL 4.890625 17.1875 \nL 4.890625 26.703125 \nz\n\" id=\"DejaVuSans-52\"/>\n       </defs>\n       <use xlink:href=\"#DejaVuSans-52\"/>\n       <use x=\"63.623047\" xlink:href=\"#DejaVuSans-46\"/>\n       <use x=\"95.410156\" xlink:href=\"#DejaVuSans-48\"/>\n      </g>\n     </g>\n    </g>\n    <g id=\"xtick_8\">\n     <g id=\"line2d_8\">\n      <g>\n       <use style=\"stroke:#000000;stroke-width:0.8;\" x=\"318.001989\" xlink:href=\"#m4adf3b9d74\" y=\"224.64\"/>\n      </g>\n     </g>\n     <g id=\"text_8\">\n      <!-- 4.5 -->\n      <g transform=\"translate(310.050426 239.238438)scale(0.1 -0.1)\">\n       <use xlink:href=\"#DejaVuSans-52\"/>\n       <use x=\"63.623047\" xlink:href=\"#DejaVuSans-46\"/>\n       <use x=\"95.410156\" xlink:href=\"#DejaVuSans-53\"/>\n      </g>\n     </g>\n    </g>\n    <g id=\"xtick_9\">\n     <g id=\"line2d_9\">\n      <g>\n       <use style=\"stroke:#000000;stroke-width:0.8;\" x=\"356.047443\" xlink:href=\"#m4adf3b9d74\" y=\"224.64\"/>\n      </g>\n     </g>\n     <g id=\"text_9\">\n      <!-- 5.0 -->\n      <g transform=\"translate(348.095881 239.238438)scale(0.1 -0.1)\">\n       <use xlink:href=\"#DejaVuSans-53\"/>\n       <use x=\"63.623047\" xlink:href=\"#DejaVuSans-46\"/>\n       <use x=\"95.410156\" xlink:href=\"#DejaVuSans-48\"/>\n      </g>\n     </g>\n    </g>\n   </g>\n   <g id=\"matplotlib.axis_2\">\n    <g id=\"ytick_1\">\n     <g id=\"line2d_10\">\n      <defs>\n       <path d=\"M 0 0 \nL -3.5 0 \n\" id=\"m3a6eab10e8\" style=\"stroke:#000000;stroke-width:0.8;\"/>\n      </defs>\n      <g>\n       <use style=\"stroke:#000000;stroke-width:0.8;\" x=\"36.465625\" xlink:href=\"#m3a6eab10e8\" y=\"216.558739\"/>\n      </g>\n     </g>\n     <g id=\"text_10\">\n      <!-- 2.30 -->\n      <g transform=\"translate(7.2 220.357958)scale(0.1 -0.1)\">\n       <use xlink:href=\"#DejaVuSans-50\"/>\n       <use x=\"63.623047\" xlink:href=\"#DejaVuSans-46\"/>\n       <use x=\"95.410156\" xlink:href=\"#DejaVuSans-51\"/>\n       <use x=\"159.033203\" xlink:href=\"#DejaVuSans-48\"/>\n      </g>\n     </g>\n    </g>\n    <g id=\"ytick_2\">\n     <g id=\"line2d_11\">\n      <g>\n       <use style=\"stroke:#000000;stroke-width:0.8;\" x=\"36.465625\" xlink:href=\"#m3a6eab10e8\" y=\"180.806692\"/>\n      </g>\n     </g>\n     <g id=\"text_11\">\n      <!-- 2.31 -->\n      <g transform=\"translate(7.2 184.60591)scale(0.1 -0.1)\">\n       <use xlink:href=\"#DejaVuSans-50\"/>\n       <use x=\"63.623047\" xlink:href=\"#DejaVuSans-46\"/>\n       <use x=\"95.410156\" xlink:href=\"#DejaVuSans-51\"/>\n       <use x=\"159.033203\" xlink:href=\"#DejaVuSans-49\"/>\n      </g>\n     </g>\n    </g>\n    <g id=\"ytick_3\">\n     <g id=\"line2d_12\">\n      <g>\n       <use style=\"stroke:#000000;stroke-width:0.8;\" x=\"36.465625\" xlink:href=\"#m3a6eab10e8\" y=\"145.054645\"/>\n      </g>\n     </g>\n     <g id=\"text_12\">\n      <!-- 2.32 -->\n      <g transform=\"translate(7.2 148.853863)scale(0.1 -0.1)\">\n       <use xlink:href=\"#DejaVuSans-50\"/>\n       <use x=\"63.623047\" xlink:href=\"#DejaVuSans-46\"/>\n       <use x=\"95.410156\" xlink:href=\"#DejaVuSans-51\"/>\n       <use x=\"159.033203\" xlink:href=\"#DejaVuSans-50\"/>\n      </g>\n     </g>\n    </g>\n    <g id=\"ytick_4\">\n     <g id=\"line2d_13\">\n      <g>\n       <use style=\"stroke:#000000;stroke-width:0.8;\" x=\"36.465625\" xlink:href=\"#m3a6eab10e8\" y=\"109.302597\"/>\n      </g>\n     </g>\n     <g id=\"text_13\">\n      <!-- 2.33 -->\n      <g transform=\"translate(7.2 113.101816)scale(0.1 -0.1)\">\n       <use xlink:href=\"#DejaVuSans-50\"/>\n       <use x=\"63.623047\" xlink:href=\"#DejaVuSans-46\"/>\n       <use x=\"95.410156\" xlink:href=\"#DejaVuSans-51\"/>\n       <use x=\"159.033203\" xlink:href=\"#DejaVuSans-51\"/>\n      </g>\n     </g>\n    </g>\n    <g id=\"ytick_5\">\n     <g id=\"line2d_14\">\n      <g>\n       <use style=\"stroke:#000000;stroke-width:0.8;\" x=\"36.465625\" xlink:href=\"#m3a6eab10e8\" y=\"73.55055\"/>\n      </g>\n     </g>\n     <g id=\"text_14\">\n      <!-- 2.34 -->\n      <g transform=\"translate(7.2 77.349769)scale(0.1 -0.1)\">\n       <use xlink:href=\"#DejaVuSans-50\"/>\n       <use x=\"63.623047\" xlink:href=\"#DejaVuSans-46\"/>\n       <use x=\"95.410156\" xlink:href=\"#DejaVuSans-51\"/>\n       <use x=\"159.033203\" xlink:href=\"#DejaVuSans-52\"/>\n      </g>\n     </g>\n    </g>\n    <g id=\"ytick_6\">\n     <g id=\"line2d_15\">\n      <g>\n       <use style=\"stroke:#000000;stroke-width:0.8;\" x=\"36.465625\" xlink:href=\"#m3a6eab10e8\" y=\"37.798503\"/>\n      </g>\n     </g>\n     <g id=\"text_15\">\n      <!-- 2.35 -->\n      <g transform=\"translate(7.2 41.597722)scale(0.1 -0.1)\">\n       <use xlink:href=\"#DejaVuSans-50\"/>\n       <use x=\"63.623047\" xlink:href=\"#DejaVuSans-46\"/>\n       <use x=\"95.410156\" xlink:href=\"#DejaVuSans-51\"/>\n       <use x=\"159.033203\" xlink:href=\"#DejaVuSans-53\"/>\n      </g>\n     </g>\n    </g>\n   </g>\n   <g id=\"line2d_16\">\n    <path clip-path=\"url(#pc8fa46c0a9)\" d=\"M 51.683807 214.756364 \nL 127.774716 183.776808 \nL 203.865625 182.018373 \nL 279.956534 181.69447 \nL 356.047443 179.887859 \n\" style=\"fill:none;stroke:#1f77b4;stroke-linecap:square;stroke-width:1.5;\"/>\n   </g>\n   <g id=\"line2d_17\">\n    <path clip-path=\"url(#pc8fa46c0a9)\" d=\"M 51.683807 17.083636 \nL 127.774716 53.100429 \nL 203.865625 74.063558 \nL 279.956534 88.882037 \nL 356.047443 92.550281 \n\" style=\"fill:none;stroke:#ff7f0e;stroke-linecap:square;stroke-width:1.5;\"/>\n   </g>\n   <g id=\"patch_3\">\n    <path d=\"M 36.465625 224.64 \nL 36.465625 7.2 \n\" style=\"fill:none;stroke:#000000;stroke-linecap:square;stroke-linejoin:miter;stroke-width:0.8;\"/>\n   </g>\n   <g id=\"patch_4\">\n    <path d=\"M 371.265625 224.64 \nL 371.265625 7.2 \n\" style=\"fill:none;stroke:#000000;stroke-linecap:square;stroke-linejoin:miter;stroke-width:0.8;\"/>\n   </g>\n   <g id=\"patch_5\">\n    <path d=\"M 36.465625 224.64 \nL 371.265625 224.64 \n\" style=\"fill:none;stroke:#000000;stroke-linecap:square;stroke-linejoin:miter;stroke-width:0.8;\"/>\n   </g>\n   <g id=\"patch_6\">\n    <path d=\"M 36.465625 7.2 \nL 371.265625 7.2 \n\" style=\"fill:none;stroke:#000000;stroke-linecap:square;stroke-linejoin:miter;stroke-width:0.8;\"/>\n   </g>\n  </g>\n </g>\n <defs>\n  <clipPath id=\"pc8fa46c0a9\">\n   <rect height=\"217.44\" width=\"334.8\" x=\"36.465625\" y=\"7.2\"/>\n  </clipPath>\n </defs>\n</svg>\n",
      "image/png": "[encoded data removed]"
     },
     "metadata": {
      "needs_background": "light"
     }
    }
   ],
   "source": [
    "plt.plot(lanet.epo_lis,lanet.loss_lis)\n",
    "plt.plot(lanet.epo_lis,lanet.val_lis)"
   ]
  },
  {
   "cell_type": "code",
   "execution_count": 30,
   "metadata": {},
   "outputs": [
    {
     "output_type": "execute_result",
     "data": {
      "text/plain": [
       "0.0976"
      ]
     },
     "metadata": {},
     "execution_count": 30
    }
   ],
   "source": [
    "y_pred2 = lanet.predict(X_test)\n",
    "accuracy_score(y_test,y_pred2)"
   ]
  },
  {
   "cell_type": "markdown",
   "metadata": {},
   "source": [
    "#### 【問題8】（アドバンス課題）有名な画像認識モデルの調査\n",
    "CNNの代表的な構造としてははAlexNet(2012)、VGG16(2014)などがあります。こういったものはフレームワークで既に用意されていることも多いです。\n",
    "\n",
    "どういったものがあるか簡単に調べてまとめてください。名前だけでも見ておくと良いでしょう。\n",
    "\n",
    "《参考》\n",
    "\n",
    "[Applications - Keras Documentation](https://keras.io/ja/applications/)"
   ]
  },
  {
   "cell_type": "markdown",
   "metadata": {},
   "source": [
    "#### 【問題9】出力サイズとパラメータ数の計算\n",
    "CNNモデルを構築する際には、全結合層に入力する段階で特徴量がいくつになっているかを事前に計算する必要があります。\n",
    "\n",
    "また、巨大なモデルを扱うようになると、メモリや計算速度の関係でパラメータ数の計算は必須になってきます。フレームワークでは各層のパラメータ数を表示させることが可能ですが、意味を理解していなくては適切な調整が行えません。\n",
    "\n",
    "以下の3つの畳み込み層の出力サイズとパラメータ数を計算してください。パラメータ数についてはバイアス項も考えてください。\n",
    "\n",
    "1.\n",
    "\n",
    "入力サイズ : 144×144, 3チャンネル\n",
    "フィルタサイズ : 3×3, 6チャンネル\n",
    "ストライド : 1\n",
    "パディング : なし\n",
    "\n",
    "2.\n",
    "\n",
    "入力サイズ : 60×60, 24チャンネル\n",
    "フィルタサイズ : 3×3, 48チャンネル\n",
    "ストライド　: 1\n",
    "パディング : なし\n",
    "\n",
    "3.\n",
    "\n",
    "入力サイズ : 20×20, 10チャンネル\n",
    "フィルタサイズ: 3×3, 20チャンネル\n",
    "ストライド : 2\n",
    "パディング : なし\n",
    "\n",
    "＊最後の例は丁度良く畳み込みをすることができない場合です。フレームワークでは余ったピクセルを見ないという処理が行われることがあるので、その場合を考えて計算してください。端が欠けてしまうので、こういった設定は好ましくないという例です。"
   ]
  },
  {
   "cell_type": "code",
   "execution_count": 1504,
   "metadata": {},
   "outputs": [],
   "source": [
    "def out_calc(H,W,F_h,F_w,P,S,C,F_c):\n",
    "    O_h = int((H + 2*P - F_h)/ S + 1)\n",
    "    O_w = int((W + 2*P - F_w)/ S + 1)\n",
    "    param = F_h * F_w * C* F_c + F_c\n",
    "    return F_c,O_h,O_w,param"
   ]
  },
  {
   "cell_type": "code",
   "execution_count": 1505,
   "metadata": {},
   "outputs": [
    {
     "output_type": "stream",
     "name": "stdout",
     "text": [
      "出力サイズ パラメータ数\n#1\n(6, 142, 142, 168)\n#2\n(48, 58, 58, 10416)\n#3\n(20, 9, 9, 1820)\n"
     ]
    }
   ],
   "source": [
    "print(\"出力サイズ\",\"パラメータ数\")\n",
    "print(\"#1\")\n",
    "print(out_calc(144,144,3,3,0,1,3,6))\n",
    "print(\"#2\")\n",
    "print(out_calc(60,60,3,3,0,1,24,48))\n",
    "print(\"#3\")\n",
    "print(out_calc(20,20,3,3,0,2,10,20))\n"
   ]
  },
  {
   "cell_type": "markdown",
   "metadata": {},
   "source": [
    "#### 【問題10】（アドバンス課題）フィルタサイズに関する調査\n",
    "畳み込み層にはフィルタサイズというハイパーパラメータがありますが、2次元畳み込み層において現在では3×3と1×1の使用が大半です。以下のそれぞれを調べたり、自分なりに考えて説明してください。\n",
    "\n",
    "7×7などの大きめのものではなく、3×3のフィルタが一般的に使われる理由\n",
    "高さや幅方向を持たない1×1のフィルタの効果"
   ]
  },
  {
   "cell_type": "code",
   "execution_count": null,
   "metadata": {},
   "outputs": [],
   "source": []
  }
 ],
 "metadata": {
  "hide_input": false,
  "kernelspec": {
   "name": "python3",
   "display_name": "Python 3",
   "language": "python"
  },
  "language_info": {
   "codemirror_mode": {
    "name": "ipython",
    "version": 3
   },
   "file_extension": ".py",
   "mimetype": "text/x-python",
   "name": "python",
   "nbconvert_exporter": "python",
   "pygments_lexer": "ipython3",
   "version": "3.8.8"
  },
  "toc": {
   "base_numbering": 1,
   "nav_menu": {},
   "number_sections": true,
   "sideBar": true,
   "skip_h1_title": false,
   "title_cell": "Table of Contents",
   "title_sidebar": "Contents",
   "toc_cell": false,
   "toc_position": {},
   "toc_section_display": true,
   "toc_window_display": false
  },
  "varInspector": {
   "cols": {
    "lenName": 16,
    "lenType": 16,
    "lenVar": 40
   },
   "kernels_config": {
    "python": {
     "delete_cmd_postfix": "",
     "delete_cmd_prefix": "del ",
     "library": "var_list.py",
     "varRefreshCmd": "print(var_dic_list())"
    },
    "r": {
     "delete_cmd_postfix": ") ",
     "delete_cmd_prefix": "rm(",
     "library": "var_list.r",
     "varRefreshCmd": "cat(var_dic_list()) "
    }
   },
   "types_to_exclude": [
    "module",
    "function",
    "builtin_function_or_method",
    "instance",
    "_Feature"
   ],
   "window_display": false
  }
 },
 "nbformat": 4,
 "nbformat_minor": 2
}