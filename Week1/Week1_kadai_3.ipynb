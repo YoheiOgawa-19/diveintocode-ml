{
 "cells": [
  {
   "cell_type": "markdown",
   "metadata": {},
   "source": [
    "漫画ドラえもんには「バイバイン」という道具が登場する、2のn乗に関する有名なエピソード[1]があります。\n",
    "\n",
    "[1] 藤子・Ｆ・不二雄(1979)『ドラえもん（１７）』小学館.\n",
    "\n",
    "「バイバイン」は薬品で、これを振掛けるとその物体は5分ごとに倍に増えるという働きがあります。作中では栗まんじゅうを増やしますが、食べきれなくなったためロケットを使い宇宙に捨てました。\n",
    "\n",
    "ここで度々話題になるのが、栗まんじゅうはその後宇宙でどのように増えていくのかについてです。様々な議論がされていますが、今回は単純に栗まんじゅうの体積がどう増えるかを計算してみましょう。\n",
    "\n",
    "【問題】栗まんじゅうが太陽系を覆う日\n",
    "1個の栗まんじゅうにバイバインを振りかけた場合、太陽系が栗まんじゅうで覆われるのは何分後でしょうか。これを計算するプログラムを作成してください。\n",
    "\n",
    "栗まんじゅうや太陽系の体積を調査した上で仮定して計算してください。栗まんじゅうの隙間や重力などは考えず、問題を単純化して構いません。\n",
    "\n",
    "ボールにバイバインを振りかけた時、東京ドームが一杯になる時間など他の状況にも適用できるような汎用的なプログラムを作成してください。また、グラフを表示するなど分かりやすいノートブックを作成してください。"
   ]
  },
  {
   "cell_type": "code",
   "execution_count": null,
   "metadata": {},
   "outputs": [],
   "source": [
    "KURI_MANJU = 10**-4\n",
    "TAIYO_KEI = (27/2)*10**78\n",
    "TOKYO_DOOM = 1240000"
   ]
  },
  {
   "cell_type": "code",
   "execution_count": 12,
   "metadata": {},
   "outputs": [
    {
     "name": "stdout",
     "output_type": "stream",
     "text": [
      "東京ドームが栗饅頭で埋まる時間は2.83時間です。\n",
      "太陽系を栗饅頭が超える時間は23.08時間です。\n"
     ]
    },
    {
     "data": {
      "image/png": "[encoded data removed]",
      "text/plain": [
       "<Figure size 432x288 with 1 Axes>"
      ]
     },
     "metadata": {
      "needs_background": "light"
     },
     "output_type": "display_data"
    }
   ],
   "source": [
    "KURI_MANJU = 0.0001 #m^3\n",
    "TAIYO_KEI = (27/2)*10**78\n",
    "TOKYO_DOOM = 1240000\n",
    "\n",
    "def fold_baibai(taiseki):\n",
    "    KURI_MANJU = 0.0001\n",
    "    count = 0\n",
    "    baibai_list = []\n",
    "    while KURI_MANJU < taiseki:\n",
    "        KURI_MANJU = KURI_MANJU * 2\n",
    "        count += 5\n",
    "        baibai_list.append(KURI_MANJU)\n",
    "    return baibai_list, count/60\n",
    "\n",
    "tokyo,time1 = fold_baibai(TOKYO_DOOM)\n",
    "taiyo,time2 = fold_baibai(TAIYO_KEI)\n",
    "print(\"東京ドームが栗饅頭で埋まる時間は{:.2f}時間です。\".format(time1))\n",
    "print(\"太陽系を栗饅頭が超える時間は{:.2f}時間です。\".format(time2))\n",
    "\n",
    "import matplotlib.pyplot as plt\n",
    "%matplotlib inline\n",
    "plt.title(\"thickness of folded paper\")\n",
    "plt.xlabel(\"time\")\n",
    "plt.ylabel(\"taiseki[m^3]\")\n",
    "plt.tick_params(labelsize=20)\n",
    "plt.plot(tokyo, color='green',label='TOKYO') # 「リスト名」のところにリストの変数名を入れる\n",
    "plt.plot(taiyo, '--r', color='red',label='TAIYOKEI') \n",
    "plt.legend()\n",
    "plt.show()"
   ]
  }
 ],
 "metadata": {
  "kernelspec": {
   "display_name": "Python 3",
   "language": "python",
   "name": "python3"
  },
  "language_info": {
   "codemirror_mode": {
    "name": "ipython",
    "version": 3
   },
   "file_extension": ".py",
   "mimetype": "text/x-python",
   "name": "python",
   "nbconvert_exporter": "python",
   "pygments_lexer": "ipython3",
   "version": "3.8.5"
  }
 },
 "nbformat": 4,
 "nbformat_minor": 2
}
