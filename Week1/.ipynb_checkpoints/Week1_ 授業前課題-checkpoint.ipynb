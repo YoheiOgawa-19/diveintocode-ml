{
 "cells": [
  {
   "cell_type": "markdown",
   "metadata": {},
   "source": [
    "　# Week1"
   ]
  },
  {
   "cell_type": "markdown",
   "metadata": {},
   "source": [
    "### 【問題1】"
   ]
  },
  {
   "cell_type": "code",
   "execution_count": 1,
   "metadata": {
    "scrolled": true
   },
   "outputs": [
    {
     "name": "stdout",
     "output_type": "stream",
     "text": [
      "厚さ： 703687441.77664メートル\n"
     ]
    }
   ],
   "source": [
    "\"\"\"\n",
    "【問題1】\n",
    "紙を1回折った時の厚さを計算するコード\n",
    "\"\"\"\n",
    "THICKNESS = 0.00008\n",
    "folded_thickness = THICKNESS*2**43\n",
    "\n",
    "print(\"厚さ： {}メートル\".format(folded_thickness))"
   ]
  },
  {
   "cell_type": "markdown",
   "metadata": {},
   "source": [
    "### 【問題2】"
   ]
  },
  {
   "cell_type": "code",
   "execution_count": 3,
   "metadata": {},
   "outputs": [
    {
     "name": "stdout",
     "output_type": "stream",
     "text": [
      "厚さ： 703687441.77664メートル\n",
      "厚さ： 70.37万キロメートル\n",
      "到達\n"
     ]
    }
   ],
   "source": [
    "\"\"\"\n",
    " 【問題2】\n",
    "紙を1回折った時の厚さを計算するコード\n",
    "\"\"\"\n",
    "THICKNESS = 0.00008\n",
    "folded_thickness = [THICKNESS*2**i for i in range(1,44)]\n",
    "folded_thickness = folded_thickness[-1]\n",
    "print(\"厚さ： {}メートル\".format(folded_thickness))\n",
    "\n",
    "# メートルをキロメートルに変換して小数点以下2桁で表示する\n",
    "print(\"厚さ： {:.2f}万キロメートル\".format(folded_thickness/1000/10000))\n",
    "\n",
    "#地球から月までの距離に達するか\n",
    "moon_range = 384400000 #月までの距離\n",
    "if moon_range <= folded_thickness:\n",
    "  print(\"到達\")\n",
    "else:\n",
    "  print(\"未到達\")"
   ]
  },
  {
   "cell_type": "markdown",
   "metadata": {},
   "source": [
    "### 【問題3】"
   ]
  },
  {
   "cell_type": "code",
   "execution_count": 4,
   "metadata": {},
   "outputs": [
    {
     "name": "stdout",
     "output_type": "stream",
     "text": [
      "厚さ： 703687441.77664メートル\n"
     ]
    }
   ],
   "source": [
    "\"\"\"\n",
    "【問題3】\n",
    "紙を1回折った時の厚さを計算するコード\n",
    "\"\"\"\n",
    "THICKNESS = 0.00008\n",
    "num = 2\n",
    "for i in range(1,43):\n",
    "  num *= 2\n",
    "folded_thickness = num * THICKNESS\n",
    "\n",
    "print(\"厚さ： {}メートル\".format(folded_thickness))"
   ]
  },
  {
   "cell_type": "markdown",
   "metadata": {},
   "source": [
    "### 【問題4】"
   ]
  },
  {
   "cell_type": "code",
   "execution_count": 10,
   "metadata": {},
   "outputs": [
    {
     "name": "stdout",
     "output_type": "stream",
     "text": [
      "厚さ： 703687441.77664メートル\n",
      "time : 0.43010711669921875[ms]\n"
     ]
    }
   ],
   "source": [
    "#【問題４】\n",
    "import time\n",
    "start = time.time()\n",
    "#####\n",
    "# ここに比較したいコードを貼り付ける\n",
    "THICKNESS = 0.00008\n",
    "folded_thickness2 = THICKNESS*2**43\n",
    "\n",
    "print(\"厚さ： {}メートル\".format(folded_thickness2))\n",
    "#####\n",
    "elapsed_time = time.time() - start\n",
    "print(\"time : {}[ms]\".format(elapsed_time*1000))"
   ]
  },
  {
   "cell_type": "code",
   "execution_count": 2,
   "metadata": {
    "scrolled": false
   },
   "outputs": [
    {
     "name": "stdout",
     "output_type": "stream",
     "text": [
      "厚さ： 703687441.77664メートル\n",
      "time : 0.28705596923828125[ms]\n"
     ]
    }
   ],
   "source": [
    "#【問題４】\n",
    "import time\n",
    "start = time.time()\n",
    "#####\n",
    "# ここに比較したいコードを貼り付ける\n",
    "THICKNESS = 0.00008\n",
    "num = 2\n",
    "for i in range(1,43):\n",
    "  num *= 2\n",
    "folded_thickness = num * THICKNESS\n",
    "\n",
    "print(\"厚さ： {}メートル\".format(folded_thickness))\n",
    "#####\n",
    "elapsed_time = time.time() - start\n",
    "print(\"time : {}[ms]\".format(elapsed_time*1000))"
   ]
  },
  {
   "cell_type": "code",
   "execution_count": 24,
   "metadata": {},
   "outputs": [
    {
     "name": "stdout",
     "output_type": "stream",
     "text": [
      "57.7 ns ± 3.33 ns per loop (mean ± std. dev. of 7 runs, 10000000 loops each)\n"
     ]
    }
   ],
   "source": [
    "%%timeit\n",
    "\n",
    "THICKNESS = 0.00008\n",
    "folded_thickness2 = THICKNESS*2**43\n"
   ]
  },
  {
   "cell_type": "code",
   "execution_count": 25,
   "metadata": {},
   "outputs": [
    {
     "name": "stdout",
     "output_type": "stream",
     "text": [
      "2.27 µs ± 14.1 ns per loop (mean ± std. dev. of 7 runs, 100000 loops each)\n"
     ]
    }
   ],
   "source": [
    "%%timeit\n",
    "\n",
    "THICKNESS = 0.00008\n",
    "num = 2\n",
    "for i in range(1,43):\n",
    "  num *= 2\n",
    "folded_thickness = num * THICKNESS"
   ]
  },
  {
   "cell_type": "markdown",
   "metadata": {},
   "source": [
    "- for文よりべき乗の方が計算速度が速い"
   ]
  },
  {
   "cell_type": "markdown",
   "metadata": {},
   "source": [
    "### 【問題5,6】"
   ]
  },
  {
   "cell_type": "code",
   "execution_count": 17,
   "metadata": {
    "scrolled": true
   },
   "outputs": [
    {
     "name": "stdout",
     "output_type": "stream",
     "text": [
      "[8e-05, 0.00016, 0.00032, 0.00064, 0.00128, 0.00256, 0.00512, 0.01024, 0.02048, 0.04096, 0.08192, 0.16384, 0.32768, 0.65536, 1.31072, 2.62144, 5.24288, 10.48576, 20.97152, 41.94304, 83.88608, 167.77216, 335.54432, 671.08864, 1342.17728, 2684.35456, 5368.70912, 10737.41824, 21474.83648, 42949.67296, 85899.34592, 171798.69184, 343597.38368, 687194.76736, 1374389.53472, 2748779.06944, 5497558.13888, 10995116.27776, 21990232.55552, 43980465.11104, 87960930.22208, 175921860.44416, 351843720.88832, 703687441.77664]\n",
      "44個\n"
     ]
    },
    {
     "data": {
      "image/png": "[encoded data removed]",
      "text/plain": [
       "<matplotlib.figure.Figure at 0x7fc22fa09518>"
      ]
     },
     "metadata": {},
     "output_type": "display_data"
    },
    {
     "name": "stdout",
     "output_type": "stream",
     "text": [
      "● 折った回数が多くなるほど、一回の増加量が大きくなる\n"
     ]
    }
   ],
   "source": [
    "#【問題5】\n",
    "THICKNESS = 0.00008\n",
    "num = []\n",
    "num.append(THICKNESS)\n",
    "for i in range(1,44):\n",
    "  num.append(THICKNESS*2**i)\n",
    "print(num)\n",
    "print(\"{}個\".format(len(num)))\n",
    "\n",
    "#【問題6】\n",
    "\"\"\"\n",
    "グラフを表示する。タイトルと軸ラベル名付き。\n",
    "\"\"\"\n",
    "import matplotlib.pyplot as plt\n",
    "%matplotlib inline\n",
    "plt.title(\"thickness of folded paper\")\n",
    "plt.xlabel(\"number of folds\")\n",
    "plt.ylabel(\"thickness[m]\")\n",
    "plt.plot(num) # 「リスト名」のところにリストの変数名を入れる\n",
    "plt.show()\n",
    "print(\"● 折った回数が多くなるほど、一回の増加量が大きくなる\")"
   ]
  },
  {
   "cell_type": "code",
   "execution_count": 12,
   "metadata": {},
   "outputs": [
    {
     "data": {
      "image/png": "[encoded data removed]",
      "text/plain": [
       "<matplotlib.figure.Figure at 0x7ffe0df7b6d8>"
      ]
     },
     "metadata": {},
     "output_type": "display_data"
    }
   ],
   "source": [
    "THICKNESS = 0.00008\n",
    "num = []\n",
    "num.append(THICKNESS)\n",
    "for i in range(1,44):\n",
    "  num.append(THICKNESS*2**i)\n",
    "\n",
    "#【問題7】\n",
    "\"\"\"\n",
    "赤い折れ線グラフを表示する。\n",
    "軸の値を大きく表示する。\n",
    "\"\"\"\n",
    "import matplotlib.pyplot as plt\n",
    "%matplotlib inline\n",
    "plt.title(\"thickness of folded paper\")\n",
    "plt.xlabel(\"number of folds\")\n",
    "plt.ylabel(\"thickness[m]\")\n",
    "plt.grid(True)\n",
    "plt.tick_params(labelsize=20)\n",
    "plt.plot(num, color='green', linewidth='10', label='THICKNESS') # 「リスト名」のところにリストの変数名を入れる\n",
    "plt.legend()\n",
    "plt.show()"
   ]
  },
  {
   "cell_type": "code",
   "execution_count": 17,
   "metadata": {},
   "outputs": [
    {
     "data": {
      "image/png": "[encoded data removed]",
      "text/plain": [
       "<matplotlib.figure.Figure at 0x7ffe0e256470>"
      ]
     },
     "metadata": {},
     "output_type": "display_data"
    }
   ],
   "source": [
    "THICKNESS = 0.00008\n",
    "num = []\n",
    "num.append(THICKNESS)\n",
    "for i in range(1,44):\n",
    "  num.append(THICKNESS*2**i)\n",
    "\n",
    "#【問題7】\n",
    "\"\"\"\n",
    "赤い折れ線グラフを表示する。\n",
    "軸の値を大きく表示する。\n",
    "\"\"\"\n",
    "import matplotlib.pyplot as plt\n",
    "%matplotlib inline\n",
    "plt.title(\"thickness of folded paper\")\n",
    "plt.xlabel(\"number of folds\")\n",
    "plt.ylabel(\"thickness[m]\")\n",
    "plt.grid(True)\n",
    "plt.tick_params(labelsize=20)\n",
    "plt.plot(num, color='red', linewidth='5', label='THICKNESS') # 「リスト名」のところにリストの変数名を入れる\n",
    "plt.legend()\n",
    "plt.show()"
   ]
  },
  {
   "cell_type": "code",
   "execution_count": 23,
   "metadata": {},
   "outputs": [
    {
     "data": {
      "image/png": "[encoded data removed]",
      "text/plain": [
       "<matplotlib.figure.Figure at 0x7ffe0e641198>"
      ]
     },
     "metadata": {},
     "output_type": "display_data"
    }
   ],
   "source": [
    "THICKNESS = 0.00008\n",
    "num = []\n",
    "num.append(THICKNESS)\n",
    "for i in range(1,44):\n",
    "  num.append(THICKNESS*2**i)\n",
    "\n",
    "#【問題7】\n",
    "\"\"\"\n",
    "赤い折れ線グラフを表示する。\n",
    "軸の値を大きく表示する。\n",
    "\"\"\"\n",
    "import matplotlib.pyplot as plt\n",
    "%matplotlib inline\n",
    "plt.title(\"thickness of folded paper\")\n",
    "plt.xlabel(\"number of folds\")\n",
    "plt.ylabel(\"thickness[m]\")\n",
    "plt.tick_params(labelsize=20)\n",
    "plt.plot(num, color='orange', linestyle='--', label='THICKNESS') # 「リスト名」のところにリストの変数名を入れる\n",
    "plt.legend()\n",
    "plt.show()"
   ]
  }
 ],
 "metadata": {
  "kernelspec": {
   "display_name": "Python 3",
   "language": "python",
   "name": "python3"
  },
  "language_info": {
   "codemirror_mode": {
    "name": "ipython",
    "version": 3
   },
   "file_extension": ".py",
   "mimetype": "text/x-python",
   "name": "python",
   "nbconvert_exporter": "python",
   "pygments_lexer": "ipython3",
   "version": "3.6.4"
  }
 },
 "nbformat": 4,
 "nbformat_minor": 2
}
