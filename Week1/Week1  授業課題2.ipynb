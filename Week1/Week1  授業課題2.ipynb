{
 "cells": [
  {
   "cell_type": "markdown",
   "metadata": {},
   "source": [
    "# 授業課題2"
   ]
  },
  {
   "cell_type": "markdown",
   "metadata": {},
   "source": [
    "「Pythonを使ってみよう」の問題では「1枚の紙を43回折り曲げた時の厚さを計算するプログラム」を作成し、43回折ることで月に届くことが確認できました。\n",
    "\n",
    "ここで「何回折ったらある厚さになるのか」という疑問が生まれます。こういったことを計算するプログラムを作成していきましょう。\n",
    "\n",
    "紙を折った時の厚さの数式\n",
    "授業前課題と同様ですが確認しておきます。\n",
    "\n",
    "n回折った紙の厚さ \n",
    "t^n\n",
    " は以下のように表せます。\n",
    "\n",
    "t^n=t_0×2^n\n",
    "\n",
    "折る前の紙の厚さ \n",
    "t_0\n",
    " は0.00008mとします。一般的なコピー用紙の厚さです。\n",
    "\n",
    "【問題1】富士山を超える最小の折る回数\n",
    "厚さが「富士山(3776m)」を超えるのは何回紙を折った時か計算するプログラムを作成してください。\n"
   ]
  },
  {
   "cell_type": "code",
   "execution_count": 40,
   "metadata": {},
   "outputs": [
    {
     "name": "stdout",
     "output_type": "stream",
     "text": [
      "5368.70912\n",
      "26\n"
     ]
    }
   ],
   "source": [
    "THICKNESS = 0.00008\n",
    "paper = 0\n",
    "n = -1\n",
    "while paper <= 3776:\n",
    "    n += 1\n",
    "    paper = THICKNESS*2**(n)\n",
    "\n",
    "print(paper)\n",
    "print(n)"
   ]
  },
  {
   "cell_type": "markdown",
   "metadata": {},
   "source": [
    "【問題2】任意の厚さに対応した関数を作成\n",
    "距離を入力すると、何回折った時に超えるかを出力する関数を作成してください。引数として、折る前の厚さ \n",
    "t_0\n",
    " も設定できるようにしましょう。\n",
    "\n",
    "この関数を利用して、「最も近い太陽以外の恒星」に到達するには紙を何回折る必要があるか計算してください。「最も近い太陽以外の恒星」の距離は調査してください。"
   ]
  },
  {
   "cell_type": "code",
   "execution_count": 44,
   "metadata": {},
   "outputs": [
    {
     "name": "stdout",
     "output_type": "stream",
     "text": [
      "69\n"
     ]
    }
   ],
   "source": [
    "def fold_count(kyori, THICKNESS=0.00008):\n",
    "    paper = 0\n",
    "    n = -1\n",
    "    while paper <= kyori:\n",
    "        n += 1\n",
    "        paper = THICKNESS*2**(n)\n",
    "    return n\n",
    "\n",
    "proxima = 9600000000000000*4.243\n",
    "print(fold_count(proxima,THICKNESS))"
   ]
  },
  {
   "cell_type": "markdown",
   "metadata": {},
   "source": [
    "【問題3】必要な紙の長さ\n",
    "実際のところ身近にある紙は43回はおろか10回も折れません。しかし、大きな紙ほどたくさん折ることができ、トイレットペーパーのような長い紙を一方向に折ることを考えた時の折れる回数を求める公式が存在します。\n",
    "\n",
    "厚さ \n",
    "t_0\n",
    " の紙をn回折るために必要な紙の長さLは以下の公式で求まります。\n",
    "\n",
    "L=πt_0/6(2^n+4)(2^n−1)\n",
    "この公式を利用して、実際に紙を折り任意の厚さに到達するために必要な紙の長さを求める関数を作成してください。\n",
    "\n",
    "そしてこれを使って「月」「富士山」「最も近い太陽以外の恒星」に届くために必要な紙の長さを求めてください。"
   ]
  },
  {
   "cell_type": "code",
   "execution_count": 39,
   "metadata": {},
   "outputs": [
    {
     "name": "stdout",
     "output_type": "stream",
     "text": [
      "長さは14588404150705451958272.00兆km\n",
      "長さは188550712.82811794km\n",
      "長さは3239276436131183616.00km\n"
     ]
    }
   ],
   "source": [
    "def num1(kyori,THICKNESS=0.00008):\n",
    "    paper = 0\n",
    "    n = -1\n",
    "    while paper <= kyori:\n",
    "        n += 1\n",
    "        paper = THICKNESS*2**(n)\n",
    "    l = (3.14 * THICKNESS) /6 *(2 ** n + 4)*(2**n - 1)\n",
    "    return l\n",
    "proxima = 9600000000000000*4.243\n",
    "fuji = 3776\n",
    "moon = 370000000\n",
    "print(\"長さは{:.2f}兆km\".format(num1(proxima)/1000/10000/10000/10000))\n",
    "print(\"長さは{}km\".format(num1(fuji)/1000))\n",
    "print(\"長さは{:.2f}km\".format(num1(moon)/1000))"
   ]
  },
  {
   "cell_type": "code",
   "execution_count": 43,
   "metadata": {},
   "outputs": [
    {
     "name": "stdout",
     "output_type": "stream",
     "text": [
      "長さは14595803601100345442304.00兆km\n",
      "長さは188646348.49km\n",
      "長さは3240919444170781184.00km\n"
     ]
    }
   ],
   "source": [
    "def num1(kyori,THICKNESS=0.00008):\n",
    "    import math\n",
    "    paper = 0\n",
    "    n = -1\n",
    "    while paper <= kyori:\n",
    "        n += 1\n",
    "        paper = THICKNESS*2**(n)\n",
    "    l = (math.pi * THICKNESS) /6 *(2 ** n + 4)*(2**n - 1)\n",
    "    return l\n",
    "proxima = 9600000000000000*4.243\n",
    "fuji = 3776\n",
    "moon = 370000000\n",
    "print(\"長さは{:.2f}兆km\".format(num1(proxima)/1000/10000/10000/10000))\n",
    "print(\"長さは{:.2f}km\".format(num1(fuji)/1000))\n",
    "print(\"長さは{:.2f}km\".format(num1(moon)/1000))"
   ]
  },
  {
   "cell_type": "code",
   "execution_count": null,
   "metadata": {},
   "outputs": [],
   "source": []
  }
 ],
 "metadata": {
  "kernelspec": {
   "display_name": "Python 3",
   "language": "python",
   "name": "python3"
  },
  "language_info": {
   "codemirror_mode": {
    "name": "ipython",
    "version": 3
   },
   "file_extension": ".py",
   "mimetype": "text/x-python",
   "name": "python",
   "nbconvert_exporter": "python",
   "pygments_lexer": "ipython3",
   "version": "3.8.5"
  }
 },
 "nbformat": 4,
 "nbformat_minor": 2
}
