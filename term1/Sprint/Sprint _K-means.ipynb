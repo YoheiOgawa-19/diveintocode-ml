{
 "cells": [
  {
   "cell_type": "markdown",
   "metadata": {},
   "source": [
    "## Sprint 機械学習スクラッチ クラスタリング\n",
    "### 2.K-meansスクラッチ\n",
    "\n",
    "\n",
    "K-meansのクラスをスクラッチで作成していきます。NumPyなど最低限のライブラリのみを使いアルゴリズムを実装していきます。\n",
    "\n",
    "以下に雛形を用意してあります。このScratchKMeansクラスにコードを書き加えていってください。\n",
    "\n",
    "《雛形》"
   ]
  },
  {
   "cell_type": "code",
   "execution_count": 2,
   "metadata": {},
   "outputs": [],
   "source": [
    "import numpy as np\n",
    "import pandas as pd\n",
    "import matplotlib.pyplot as plt\n",
    "from sklearn.model_selection import train_test_split\n",
    "from sklearn.datasets import load_iris\n",
    "import random\n",
    "iris = load_iris()\n",
    "\n",
    "from sklearn.preprocessing import StandardScaler"
   ]
  },
  {
   "cell_type": "code",
   "execution_count": 3,
   "metadata": {},
   "outputs": [],
   "source": [
    "# class ScratchKMeans():\n",
    "#     \"\"\"\n",
    "#     K-meansのスクラッチ実装\n",
    "#     Parameters\n",
    "#     ----------\n",
    "#     n_clusters : int\n",
    "#       クラスタ数\n",
    "#     n_init : int\n",
    "#       中心点の初期値を何回変えて計算するか\n",
    "#     max_iter : int\n",
    "#       1回の計算で最大何イテレーションするか\n",
    "#     tol : float\n",
    "#       イテレーションを終了する基準となる中心点と重心の許容誤差\n",
    "#     verbose : bool\n",
    "#       学習過程を出力する場合はTrue\n",
    "#     \"\"\"\n",
    "#     def __init__(self, n_clusters, n_init, max_iter, tol, verbose=False):\n",
    "#         # ハイパーパラメータを属性として記録\n",
    "#         self.n_clusters = n_clusters\n",
    "#         self.n_init = n_init\n",
    "#         self.max_iter = max_iter\n",
    "#         self.tol = tol\n",
    "#         self.verbose = verbose\n",
    "#     def fit(self, X):\n",
    "#         \"\"\"\n",
    "#         K-meansによるクラスタリングを計算\n",
    "#         Parameters\n",
    "#         ----------\n",
    "#         X : 次の形のndarray, shape (n_samples, n_features)\n",
    "#             訓練データの特徴量\n",
    "#         \"\"\"\n",
    "#         if self.verbose:\n",
    "#             #verboseをTrueにした際は学習過程を出力\n",
    "#             print()\n",
    "#         pass\n",
    "#     def predict(self, X):\n",
    "#         \"\"\"\n",
    "#         入力されたデータがどのクラスタに属するかを計算\n",
    "#         \"\"\"\n",
    "#         pass\n",
    "#         return"
   ]
  },
  {
   "cell_type": "markdown",
   "metadata": {},
   "source": [
    "#### クラスタリングのための人工データセット\n",
    "クラスタリングを実験するための人工データセットを作成するコードを用意しています。\n",
    "\n",
    "このmake_blobs関数は正解ラベルも出力してますが、今回は使用しません。使用しないことを明示するために、 _（アンダースコア） で受け取っています。\n",
    "\n",
    "《シンプルデータセット3》"
   ]
  },
  {
   "cell_type": "code",
   "execution_count": 4,
   "metadata": {},
   "outputs": [
    {
     "data": {
      "text/plain": [
       "(100, 2)"
      ]
     },
     "execution_count": 4,
     "metadata": {},
     "output_type": "execute_result"
    }
   ],
   "source": [
    "from sklearn.datasets import make_blobs\n",
    "X, _ = make_blobs(n_samples=100, n_features=2, centers=4, cluster_std=0.5, shuffle=True, random_state=0)\n",
    "X.shape"
   ]
  },
  {
   "cell_type": "markdown",
   "metadata": {},
   "source": [
    "#### 学習\n",
    "K-meansの学習に必要な要素を順番に作成していきます。\n",
    "\n",
    "#### 【問題1】中心点の初期値を決める\n",
    "入力されたデータから \n",
    "K\n",
    " 個の中心点 \n",
    "μ\n",
    "1\n",
    " から \n",
    "μ\n",
    "K\n",
    " の初期値を決めるコードを作成してください。\n",
    "K\n",
    " は指定したクラスタ数です。\n",
    "\n",
    "最もシンプルな初期値の決定方法は、データ点 \n",
    "X\n",
    "n\n",
    " の中からランダムに \n",
    "K\n",
    " 個選ぶことです。今回はこれを実装してください。\n",
    "\n",
    "K-meansの学習結果は中心点 \n",
    "μ\n",
    " の初期値に影響を受けます。そのため、学習時には複数個の初期値で計算を行います。"
   ]
  },
  {
   "cell_type": "code",
   "execution_count": 6,
   "metadata": {},
   "outputs": [
    {
     "data": {
      "text/plain": [
       "array([1, 2, 1, 2, 1, 2, 2, 1, 0, 1, 1, 0, 0, 2, 2, 2, 0, 2, 0, 2, 2, 2,\n",
       "       1, 0, 1, 2, 2, 0, 0, 1, 1, 2, 1, 0, 2, 0, 1, 2, 0, 0, 0, 2, 1, 1,\n",
       "       0, 2, 2, 1, 0, 0, 0, 2, 2, 0, 1, 0, 0, 2, 1, 1, 1, 2, 2, 1, 1, 0,\n",
       "       0, 2, 1, 0, 0, 1, 1, 1, 2, 0, 1, 0, 2, 1, 0, 0, 2, 2, 0, 2, 1, 1,\n",
       "       0, 0, 1, 2, 2, 1, 1, 1, 2, 0, 0, 2])"
      ]
     },
     "execution_count": 6,
     "metadata": {},
     "output_type": "execute_result"
    }
   ],
   "source": [
    "k =np.random.randint(0,3,100)\n",
    "k"
   ]
  },
  {
   "cell_type": "code",
   "execution_count": 7,
   "metadata": {},
   "outputs": [
    {
     "data": {
      "text/plain": [
       "3"
      ]
     },
     "execution_count": 7,
     "metadata": {},
     "output_type": "execute_result"
    }
   ],
   "source": [
    "label = np.unique(k)\n",
    "label.shape[0]"
   ]
  },
  {
   "cell_type": "code",
   "execution_count": 8,
   "metadata": {},
   "outputs": [
    {
     "data": {
      "text/plain": [
       "array([[0., 0.],\n",
       "       [0., 0.],\n",
       "       [0., 0.]])"
      ]
     },
     "execution_count": 8,
     "metadata": {},
     "output_type": "execute_result"
    }
   ],
   "source": [
    "np.zeros((3,2))"
   ]
  },
  {
   "cell_type": "code",
   "execution_count": 9,
   "metadata": {},
   "outputs": [
    {
     "data": {
      "text/plain": [
       "array([[-0.02760213,  4.469178  ],\n",
       "       [ 0.12099136,  4.01920663],\n",
       "       [ 0.0344894 ,  3.6519504 ]])"
      ]
     },
     "execution_count": 9,
     "metadata": {},
     "output_type": "execute_result"
    }
   ],
   "source": [
    "uk =np.zeros([label.shape[0],X.shape[1]])\n",
    "uk[0] = np.mean(X[k==0],axis=0)\n",
    "uk[1]= np.mean(X[k==1],axis=0)\n",
    "uk[2] = np.mean(X[k==2],axis=0)\n",
    "uk"
   ]
  },
  {
   "cell_type": "code",
   "execution_count": 10,
   "metadata": {},
   "outputs": [
    {
     "name": "stdout",
     "output_type": "stream",
     "text": [
      "[-0.02760213  4.469178  ]\n",
      "[0.12099136 4.01920663]\n",
      "[0.0344894 3.6519504]\n"
     ]
    }
   ],
   "source": [
    "for i in uk:\n",
    "    print(i)"
   ]
  },
  {
   "attachments": {
    "image.png": {
     "image/png": "[encoded data removed]"
    }
   },
   "cell_type": "markdown",
   "metadata": {},
   "source": [
    "#### 【問題2】SSEを求める関数の作成\n",
    "クラスタ内誤差平方和（SSE, Sum of Squared Errors）を計算する関数を作成してください。\n",
    "\n",
    "K-meansはこのSSEを最小化する \n",
    "r\n",
    "n\n",
    "k\n",
    " と \n",
    "μ\n",
    "k\n",
    " を求めることが目的となります。複数個の初期値で計算したクラスタリング結果から、どれを最終的に採用するかを決める際にこのSSEを求める関数を使用します。\n",
    " \n",
    " ![image.png](attachment:image.png)\n",
    " \n",
    " \n",
    "n\n",
    " : データ点のインデックス\n",
    "\n",
    "k\n",
    " : クラスタのインデックス\n",
    "\n",
    "X\n",
    "n\n",
    " : \n",
    "n\n",
    "番目のデータ点\n",
    "\n",
    "μ\n",
    "k\n",
    " : \n",
    "k\n",
    "番目の中心点\n",
    "\n",
    "r\n",
    "n\n",
    "k\n",
    " : データ点\n",
    "X\n",
    "n\n",
    "がクラスタ\n",
    "k\n",
    "に所属していたら1、そうでなければ0\n",
    "\n",
    "#### クラスタの割り当てと中心点の移動を繰り返す\n",
    "-------------------------------------------\n",
    "K-meansの学習の基本は以下の2つのフェーズを繰り返すことです。\n",
    "\n",
    "中心点 \n",
    "μ\n",
    "k\n",
    " を固定した上で \n",
    "S\n",
    "S\n",
    "E\n",
    " を最小化する クラスタの割り当て \n",
    "r\n",
    "n\n",
    "k\n",
    " を選ぶ。\n",
    "クラスタの割り当て \n",
    "r\n",
    "n\n",
    "k\n",
    " を固定した上で \n",
    "S\n",
    "S\n",
    "E\n",
    " を最小化する 中心点 \n",
    "μ\n",
    "k\n",
    " を選ぶ。\n",
    "\n",
    "最初の中心点 \n",
    "μ\n",
    "k\n",
    " は問題1で作成した初期値です。\n",
    "\n",
    "順番に見ていきます。\n"
   ]
  },
  {
   "cell_type": "code",
   "execution_count": 11,
   "metadata": {},
   "outputs": [
    {
     "data": {
      "text/plain": [
       "(array([[[ 0, -2, -4],\n",
       "         [ 0, -2, -4]],\n",
       " \n",
       "        [[ 2,  0, -2],\n",
       "         [ 2,  0, -2]]]),\n",
       " (2, 2, 3))"
      ]
     },
     "execution_count": 11,
     "metadata": {},
     "output_type": "execute_result"
    }
   ],
   "source": [
    "w1=np.arange(1,5).reshape(2,2)\n",
    "w2=np.arange(1,7).reshape(3,2)\n",
    "z =  w1[:,:,np.newaxis] - w2.T[np.newaxis,:,:]\n",
    "z,z.shape"
   ]
  },
  {
   "cell_type": "code",
   "execution_count": 12,
   "metadata": {},
   "outputs": [
    {
     "data": {
      "text/plain": [
       "(array([[1, 2],\n",
       "        [3, 4]]),\n",
       " array([[1, 3, 5],\n",
       "        [2, 4, 6]]))"
      ]
     },
     "execution_count": 12,
     "metadata": {},
     "output_type": "execute_result"
    }
   ],
   "source": [
    "w1,w2.T"
   ]
  },
  {
   "cell_type": "code",
   "execution_count": 15,
   "metadata": {},
   "outputs": [
    {
     "data": {
      "text/plain": [
       "(array([[[1],\n",
       "         [2]],\n",
       " \n",
       "        [[3],\n",
       "         [4]]]),\n",
       " array([[[1, 3, 5],\n",
       "         [2, 4, 6]]]))"
      ]
     },
     "execution_count": 15,
     "metadata": {},
     "output_type": "execute_result"
    }
   ],
   "source": [
    "w1[:,:,np.newaxis] , w2.T[np.newaxis,:,:]"
   ]
  },
  {
   "cell_type": "code",
   "execution_count": 18,
   "metadata": {},
   "outputs": [],
   "source": [
    "# sse = np.sum((X-center)**2,axis=1)[:,np.newaxis]\n",
    "# sse.shape"
   ]
  },
  {
   "cell_type": "code",
   "execution_count": 21,
   "metadata": {},
   "outputs": [
    {
     "name": "stdout",
     "output_type": "stream",
     "text": [
      "45\n",
      "1\n",
      "25\n"
     ]
    }
   ],
   "source": [
    "norm_list = []\n",
    "for i,uk_c in enumerate(uk):\n",
    "    XX = (X[k==i] - uk_c)**2\n",
    "    print(np.argmin(XX))"
   ]
  },
  {
   "attachments": {
    "image.png": {
     "image/png": "[encoded data removed]"
    }
   },
   "cell_type": "markdown",
   "metadata": {},
   "source": [
    "#### 【問題3】クラスタへの割り当て\n",
    "全てのデータ点 \n",
    "X\n",
    "n\n",
    " を最も近い中心点 \n",
    "μ\n",
    "k\n",
    " に割り当てるコードを作成してください。\n",
    "\n",
    "K-menasにおける 近い とは点と点のユークリッド距離が小さくなることです。ユークリッド距離とはピタゴラスの定理（三平方の定理）で求められるものですが、ベクトル \n",
    "p\n",
    ",\n",
    "q\n",
    " に対しては以下の数式で表現できます。\n",
    " \n",
    " ![image.png](attachment:image.png)\n",
    " \n",
    " NumPyにはこの関数がnp.linalg.normとして用意されているため使用してください。\n",
    "\n",
    "[numpy.linalg.norm — NumPy v1.17 Manual](https://docs.scipy.org/doc/numpy/reference/generated/numpy.linalg.norm.html)\n",
    "\n",
    "中心点 \n",
    "μ\n",
    "k\n",
    " を固定した上でSSEを最小化していることになりますが、SSE自体を求める必要はありません。"
   ]
  },
  {
   "cell_type": "code",
   "execution_count": 22,
   "metadata": {},
   "outputs": [],
   "source": [
    "from numpy import linalg as LA"
   ]
  },
  {
   "cell_type": "code",
   "execution_count": 23,
   "metadata": {},
   "outputs": [
    {
     "data": {
      "text/plain": [
       "15.581463035010378"
      ]
     },
     "execution_count": 23,
     "metadata": {},
     "output_type": "execute_result"
    }
   ],
   "source": [
    "norm = LA.norm(X[k==i] - uk_c,ord=2)\n",
    "norm"
   ]
  },
  {
   "cell_type": "code",
   "execution_count": 24,
   "metadata": {},
   "outputs": [
    {
     "data": {
      "text/plain": [
       "(100, 3)"
      ]
     },
     "execution_count": 24,
     "metadata": {},
     "output_type": "execute_result"
    }
   ],
   "source": [
    "norm_list = np.zeros((X.shape[0],uk.shape[0]))\n",
    "for i,uk_c in enumerate(uk):\n",
    "    norm = LA.norm(X - uk_c,ord=2,axis=1)\n",
    "    norm_list[:,i] +=norm\n",
    "norm_list.shape"
   ]
  },
  {
   "cell_type": "code",
   "execution_count": 25,
   "metadata": {},
   "outputs": [
    {
     "data": {
      "text/plain": [
       "array([1, 0, 1, 1, 0, 1, 2, 0, 0, 0, 0, 0, 0, 0, 0, 2, 2, 2, 2, 2, 1, 0,\n",
       "       2, 2, 0, 2, 2, 1, 2, 2, 2, 0, 2, 2, 2, 1, 0, 2, 0, 2, 0, 2, 0, 2,\n",
       "       2, 0, 2, 2, 1, 2, 0, 2, 2, 2, 2, 0, 0, 2, 2, 0, 0, 2, 2, 0, 2, 0,\n",
       "       2, 2, 2, 1, 0, 2, 1, 0, 1, 1, 2, 2, 2, 2, 2, 0, 2, 1, 2, 2, 2, 2,\n",
       "       1, 1, 1, 2, 2, 2, 2, 0, 0, 2, 0, 0])"
      ]
     },
     "execution_count": 25,
     "metadata": {},
     "output_type": "execute_result"
    }
   ],
   "source": [
    "yy = np.argmin(norm_list,axis=1)\n",
    "yy"
   ]
  },
  {
   "cell_type": "code",
   "execution_count": 29,
   "metadata": {},
   "outputs": [
    {
     "data": {
      "text/plain": [
       "(100, 3)"
      ]
     },
     "execution_count": 29,
     "metadata": {},
     "output_type": "execute_result"
    }
   ],
   "source": [
    "np.random.seed(10)\n",
    "k =np.random.randint(0,3,100)\n",
    "label = np.unique(k)\n",
    "uk =np.zeros([label.shape[0],X.shape[1]])\n",
    "norm_list = np.zeros((X.shape[0],uk.shape[0]))\n",
    "rnk=np.zeros((X.shape[0],uk.shape[0]))\n",
    "for j in range(label.shape[0]):\n",
    "    uk[j] = np.mean(X[k==j],axis=0)\n",
    "\n",
    "for i0 in range(X.shape[0]):\n",
    "    for k0 in range(label.shape[0]):\n",
    "        norm_list[i0,k0] = np.linalg.norm(X[i0,:] - uk[k0,:])**2\n",
    "    k_n = np.argmin(norm_list[i0,:])\n",
    "    rnk[i0,k_n]=1\n",
    "rnk.shape"
   ]
  },
  {
   "cell_type": "markdown",
   "metadata": {},
   "source": [
    "#### 【問題4】中心点の移動\n",
    "中心点 \n",
    "μ\n",
    "k\n",
    " を \n",
    "k\n",
    " 番目のクラスタに割り当てられる全てのデータ点 \n",
    "X\n",
    "n\n",
    " の平均値（重心）に移動するコードを作成してください。\n",
    "\n",
    "クラスタの割り当て \n",
    "r\n",
    "n\n",
    "k\n",
    " を固定した上でSSEを最小化していることになりますが、SSE自体を求める必要はありません。"
   ]
  },
  {
   "cell_type": "code",
   "execution_count": 35,
   "metadata": {},
   "outputs": [],
   "source": [
    "# new_uk[0] = np.mean(X[rnk[:,0]==1],axis=0)\n",
    "# new_uk[1]= np.mean(X[rnk[:,1]==1],axis=0)\n",
    "# new_uk[2] = np.mean(X[rnk[:,2]==1],axis=0)\n",
    "# new_uk"
   ]
  },
  {
   "cell_type": "markdown",
   "metadata": {},
   "source": [
    "#### 【問題5】繰り返し\n",
    "クラスタへの割り当てと中心点の移動を繰り返すことで学習を行うコードを作成してください。\n",
    "\n",
    "次のどれかの条件を満たしたらこれを止めます。\n",
    "\n",
    "繰り返しが指定した回数に到達する。（雛形では引数max_iter）\n",
    "中心点\n",
    "μ\n",
    "k\n",
    " と重心の差の合計が指定した許容値以下になる。（雛形では引数tol）"
   ]
  },
  {
   "cell_type": "code",
   "execution_count": 36,
   "metadata": {},
   "outputs": [
    {
     "data": {
      "text/plain": [
       "array([[ 0.58028941,  2.04299491],\n",
       "       [-1.33836065,  6.37017011],\n",
       "       [-0.27678616,  3.72096344]])"
      ]
     },
     "execution_count": 36,
     "metadata": {},
     "output_type": "execute_result"
    }
   ],
   "source": [
    "np.random.seed(10)\n",
    "k =np.random.randint(0,3,100)\n",
    "label = np.unique(k)\n",
    "uk =np.zeros([label.shape[0],X.shape[1]])\n",
    "norm_list = np.zeros((X.shape[0],uk.shape[0]))\n",
    "rnk=np.zeros((X.shape[0],uk.shape[0]))\n",
    "max_iter = 10\n",
    "for j in range(label.shape[0]):\n",
    "    uk[j] = np.mean(X[k==j],axis=0)\n",
    "\n",
    "for xx in range(max_iter):\n",
    "    for i0 in range(X.shape[0]):\n",
    "        for k0 in range(label.shape[0]):\n",
    "            norm_list[i0,k0] = np.linalg.norm(X[i0,:] - uk[k0,:])**2\n",
    "        k_n = np.argmin(norm_list[i0,:])\n",
    "        rnk[i0,k_n]=1\n",
    "\n",
    "    for x in range(label.shape[0]):\n",
    "        uk[x] = np.mean(X[rnk[:,x]==1],axis=0)\n",
    "uk"
   ]
  },
  {
   "cell_type": "markdown",
   "metadata": {},
   "source": [
    "#### 【問題6】異なる初期値で計算\n",
    "問題5の繰り返しを、指定した回数初期値を変更して計算するコードを作成してください。回数は雛形では引数n_initで指定します。\n",
    "\n",
    "複数計算した中でSSEが最小になったものが最終的な学習結果となるため、その時の中心点 \n",
    "μ\n",
    "k\n",
    " を保持しておきます。"
   ]
  },
  {
   "cell_type": "code",
   "execution_count": 38,
   "metadata": {},
   "outputs": [],
   "source": [
    "# np.random.seed(71)\n",
    "# k =np.random.randint(0,10,100)\n",
    "# uk =np.zeros([label.shape[0],X.shape[1]])\n",
    "# norm_list = np.zeros((X.shape[0],uk.shape[0]))\n",
    "# rnk=np.zeros((X.shape[0],uk.shape[0]))\n",
    "# max_iter = 100\n",
    "# n_init = 10\n",
    "# sse_list = []\n",
    "# for m in range(n_init):\n",
    "#     k =np.random.randint(0,10,100)\n",
    "#     label = np.unique(k)\n",
    "#     for j in range(label.shape[0]):\n",
    "#         uk[j] = np.mean(X[k==j],axis=0)\n",
    "#     for xx in range(max_iter):\n",
    "#         for i0 in range(X.shape[0]):\n",
    "#             for k0 in range(label.shape[0]):\n",
    "#                 norm_list[i0,k0] = np.linalg.norm(X[i0,:] - uk[k0,:])**2\n",
    "#             k_n = np.argmin(norm_list[i0,:])\n",
    "#             rnk[i0,k_n]=1\n",
    "#         for x in range(label.shape[0]):\n",
    "#             uk[x] = np.mean(X[rnk[:,x]==1],axis=0)\n",
    "#     sse = np.sum(norm_list)\n",
    "#     sse_list.append(sse)\n",
    "\n",
    "# min(sse_list)"
   ]
  },
  {
   "cell_type": "markdown",
   "metadata": {},
   "source": [
    "#### 【問題7】推定\n",
    "新たなデータに対してどのクラスタに所属するかの推定の際は、学習時の1つ目のフェーズと同じことを行います。\n",
    "\n",
    "- データ点 \n",
    "X\n",
    "n\n",
    " と学習で決まった中心点 \n",
    "μ\n",
    "k\n",
    " に対し、 \n",
    "S\n",
    "S\n",
    "E\n",
    " を最小化する \n",
    "r\n",
    "n\n",
    "k\n",
    " を選ぶ。\n",
    "\n",
    "具体的には次のことです。\n",
    "\n",
    "- データ点 \n",
    "X\n",
    "n\n",
    " を最も近い \n",
    "μ\n",
    "k\n",
    " に割り当てる。\n"
   ]
  },
  {
   "cell_type": "code",
   "execution_count": 311,
   "metadata": {},
   "outputs": [],
   "source": [
    "X, _ = make_blobs(n_samples=100, n_features=2, centers=4, cluster_std=0.5, shuffle=True)"
   ]
  },
  {
   "cell_type": "code",
   "execution_count": 352,
   "metadata": {
    "code_folding": []
   },
   "outputs": [],
   "source": [
    "class ScratchKMeans1():\n",
    "    \"\"\"\n",
    "    K-meansのスクラッチ実装\n",
    "    Parameters\n",
    "    ----------\n",
    "    n_clusters : int\n",
    "      クラスタ数\n",
    "    n_init : int\n",
    "      中心点の初期値を何回変えて計算するか\n",
    "    max_iter : int\n",
    "      1回の計算で最大何イテレーションするか\n",
    "    tol : float\n",
    "      イテレーションを終了する基準となる中心点と重心の許容誤差\n",
    "    verbose : bool\n",
    "      学習過程を出力する場合はTrue\n",
    "    \"\"\"\n",
    "    def __init__(self, n_clusters=3, n_init=3, max_iter=2, tol=0.5, verbose=False):\n",
    "        # ハイパーパラメータを属性として記録\n",
    "        self.n_clusters = n_clusters\n",
    "        self.n_init = n_init\n",
    "        self.max_iter = max_iter\n",
    "        self.tol = tol\n",
    "        self.verbose = verbose\n",
    "        \n",
    "        self.an = None\n",
    "        self.bn = None\n",
    "        self.k = None\n",
    "        self.sse = None       \n",
    "        self.X_center = None\n",
    "        \n",
    "    def _distance(self,X):\n",
    "\n",
    "        i = X[:,:,np.newaxis]\n",
    "        k = self.X_center.T[np.newaxis,:,:]\n",
    "        self.h = i-k\n",
    "        h2 = (self.h)**2\n",
    "        uk = np.sum(h2,axis=1)\n",
    "        return uk\n",
    "\n",
    "    def fit(self, X):\n",
    "        \"\"\"\n",
    "        K-meansによるクラスタリングを計算\n",
    "        Parameters\n",
    "        ----------\n",
    "        X : 次の形のndarray, shape (n_samples, n_features)\n",
    "            訓練データの特徴量\n",
    "        \"\"\"\n",
    "        sse_list = []\n",
    "        an_list = []\n",
    "        bn_list = []\n",
    "        uk_list = []\n",
    "        center_list =[]\n",
    "        \n",
    "        #初期値を変えて実行\n",
    "        for p in range(self.n_init):\n",
    "            # 初期中心点格納\n",
    "            self.X_center = np.zeros((self.n_clusters,X.shape[1]))\n",
    "            \n",
    "            #ランダムにクラスタを割り振る\n",
    "            self.uk =  np.random.randint(0,self.n_clusters,(X.shape[0]))\n",
    "            \n",
    "            #クラスタのユニーク値\n",
    "            self.label = np.unique(self.uk)\n",
    "            \n",
    "            #学習\n",
    "            for ite in range(self.max_iter):\n",
    "                \n",
    "                #ラベルごとに計算\n",
    "                for i in self.label:\n",
    "                    \n",
    "                    #重心の計算\n",
    "                    self.X_center[i] = np.mean(X[self.uk==i,:],axis=0)\n",
    "                    \n",
    "                #重心から各点までの距離を計算\n",
    "                self.sos = self._distance(X)\n",
    "                \n",
    "                #比較するためにセーブ\n",
    "                save_uk = self.uk\n",
    "                \n",
    "                #最小のインデックスを取得（学習結果）\n",
    "                self.uk = np.nanargmin(self.sos,axis=1)\n",
    "                \n",
    "                #更新した値と同じなら終わり\n",
    "                if save_uk is self.uk:\n",
    "                    break\n",
    "                    \n",
    "            #最小の値を代入\n",
    "            sse_list.append(np.sum(np.amin(self.sos,axis=1)))\n",
    "            \n",
    "            #最小の距離\n",
    "            an_list.append(np.nanmin(self.sos,axis=1))\n",
    "    \n",
    "            #最大の距離\n",
    "#             ind = np.ones((X.shape[0],self.n_clusters), dtype=bool)\n",
    "#             ind[self.uk] = False\n",
    "            bn_list.append(np.nanmax(self.sos,axis=1))\n",
    "            \n",
    "            #ラベル\n",
    "            uk_list.append(self.uk)\n",
    "            \n",
    "            #重心の格納\n",
    "            center_list.append(self.X_center)\n",
    "            \n",
    "        #nan  を除いた最小値の取得\n",
    "        sse_idx = np.nanargmin(sse_list)\n",
    "        self.an = an_list[sse_idx]\n",
    "        self.bn = bn_list[sse_idx]\n",
    "        self.k = uk_list[sse_idx]\n",
    "        self.sse = np.nanmin(sse_list)\n",
    "        self.X_center = center_list[sse_idx]\n",
    "        \n",
    "        if self.verbose:\n",
    "            #verboseをTrueにした際は学習過程を出力\n",
    "            print(self.sse)\n",
    "        \n",
    "        return \n",
    "\n",
    "    def predict(self, X):\n",
    "        \"\"\"\n",
    "        入力されたデータがどのクラスタに属するかを計算\n",
    "        \"\"\"\n",
    "        \n",
    "        sos = self._distance(X)\n",
    "        \n",
    "        label = np.argmin(sos,axis=1)\n",
    "        \n",
    "\n",
    "        return label"
   ]
  },
  {
   "cell_type": "code",
   "execution_count": 345,
   "metadata": {
    "scrolled": true
   },
   "outputs": [
    {
     "name": "stderr",
     "output_type": "stream",
     "text": [
      "/Users/a100/.pyenv/versions/anaconda3-5.1.0/lib/python3.8/site-packages/numpy/core/fromnumeric.py:3419: RuntimeWarning: Mean of empty slice.\n",
      "  return _methods._mean(a, axis=axis, dtype=dtype,\n",
      "/Users/a100/.pyenv/versions/anaconda3-5.1.0/lib/python3.8/site-packages/numpy/core/_methods.py:180: RuntimeWarning: invalid value encountered in true_divide\n",
      "  ret = um.true_divide(\n"
     ]
    }
   ],
   "source": [
    "    kms1 = ScratchKMeans1(n_clusters=4,n_init=500, max_iter=10, verbose=False)\n",
    "    kms1.fit(X)"
   ]
  },
  {
   "cell_type": "code",
   "execution_count": 346,
   "metadata": {},
   "outputs": [
    {
     "data": {
      "text/plain": [
       "array([3, 2, 3, 0, 3, 0, 2, 0, 0, 3, 1, 1, 3, 2, 1, 1, 0, 2, 2, 0, 1, 2,\n",
       "       1, 1, 2, 2, 0, 2, 3, 2, 3, 2, 2, 1, 0, 1, 0, 0, 1, 3, 3, 3, 2, 2,\n",
       "       2, 2, 0, 0, 2, 0, 3, 3, 1, 1, 3, 2, 2, 3, 0, 0, 2, 1, 1, 2, 2, 3,\n",
       "       1, 1, 0, 0, 0, 1, 3, 0, 3, 3, 2, 2, 0, 1, 0, 1, 3, 2, 3, 0, 0, 1,\n",
       "       1, 1, 1, 3, 3, 1, 1, 3, 0, 3, 3, 0])"
      ]
     },
     "execution_count": 346,
     "metadata": {},
     "output_type": "execute_result"
    }
   ],
   "source": [
    "y_pre = kms1.predict(X)\n",
    "y_pre"
   ]
  },
  {
   "cell_type": "code",
   "execution_count": 347,
   "metadata": {},
   "outputs": [
    {
     "data": {
      "text/html": [
       "<div>\n",
       "<style scoped>\n",
       "    .dataframe tbody tr th:only-of-type {\n",
       "        vertical-align: middle;\n",
       "    }\n",
       "\n",
       "    .dataframe tbody tr th {\n",
       "        vertical-align: top;\n",
       "    }\n",
       "\n",
       "    .dataframe thead th {\n",
       "        text-align: right;\n",
       "    }\n",
       "</style>\n",
       "<table border=\"1\" class=\"dataframe\">\n",
       "  <thead>\n",
       "    <tr style=\"text-align: right;\">\n",
       "      <th></th>\n",
       "      <th>X1</th>\n",
       "      <th>X2</th>\n",
       "      <th>label</th>\n",
       "    </tr>\n",
       "  </thead>\n",
       "  <tbody>\n",
       "    <tr>\n",
       "      <th>0</th>\n",
       "      <td>-3.278504</td>\n",
       "      <td>-2.338365</td>\n",
       "      <td>3</td>\n",
       "    </tr>\n",
       "    <tr>\n",
       "      <th>1</th>\n",
       "      <td>1.738306</td>\n",
       "      <td>-6.171030</td>\n",
       "      <td>2</td>\n",
       "    </tr>\n",
       "    <tr>\n",
       "      <th>2</th>\n",
       "      <td>-2.947299</td>\n",
       "      <td>-3.760462</td>\n",
       "      <td>3</td>\n",
       "    </tr>\n",
       "    <tr>\n",
       "      <th>3</th>\n",
       "      <td>-6.355983</td>\n",
       "      <td>-8.515579</td>\n",
       "      <td>0</td>\n",
       "    </tr>\n",
       "    <tr>\n",
       "      <th>4</th>\n",
       "      <td>-2.809996</td>\n",
       "      <td>-2.297008</td>\n",
       "      <td>3</td>\n",
       "    </tr>\n",
       "    <tr>\n",
       "      <th>...</th>\n",
       "      <td>...</td>\n",
       "      <td>...</td>\n",
       "      <td>...</td>\n",
       "    </tr>\n",
       "    <tr>\n",
       "      <th>95</th>\n",
       "      <td>-2.903954</td>\n",
       "      <td>-2.303844</td>\n",
       "      <td>3</td>\n",
       "    </tr>\n",
       "    <tr>\n",
       "      <th>96</th>\n",
       "      <td>-5.302424</td>\n",
       "      <td>-7.802847</td>\n",
       "      <td>0</td>\n",
       "    </tr>\n",
       "    <tr>\n",
       "      <th>97</th>\n",
       "      <td>-2.780657</td>\n",
       "      <td>-3.090367</td>\n",
       "      <td>3</td>\n",
       "    </tr>\n",
       "    <tr>\n",
       "      <th>98</th>\n",
       "      <td>-4.004980</td>\n",
       "      <td>-3.535494</td>\n",
       "      <td>3</td>\n",
       "    </tr>\n",
       "    <tr>\n",
       "      <th>99</th>\n",
       "      <td>-6.240910</td>\n",
       "      <td>-7.939592</td>\n",
       "      <td>0</td>\n",
       "    </tr>\n",
       "  </tbody>\n",
       "</table>\n",
       "<p>100 rows × 3 columns</p>\n",
       "</div>"
      ],
      "text/plain": [
       "          X1        X2  label\n",
       "0  -3.278504 -2.338365      3\n",
       "1   1.738306 -6.171030      2\n",
       "2  -2.947299 -3.760462      3\n",
       "3  -6.355983 -8.515579      0\n",
       "4  -2.809996 -2.297008      3\n",
       "..       ...       ...    ...\n",
       "95 -2.903954 -2.303844      3\n",
       "96 -5.302424 -7.802847      0\n",
       "97 -2.780657 -3.090367      3\n",
       "98 -4.004980 -3.535494      3\n",
       "99 -6.240910 -7.939592      0\n",
       "\n",
       "[100 rows x 3 columns]"
      ]
     },
     "execution_count": 347,
     "metadata": {},
     "output_type": "execute_result"
    }
   ],
   "source": [
    "xx = pd.DataFrame(X,columns=['X1','X2'])\n",
    "yy = pd.DataFrame(y_pre,columns=['label'])\n",
    "xy = pd.concat((xx,yy),1)\n",
    "xy"
   ]
  },
  {
   "cell_type": "code",
   "execution_count": 348,
   "metadata": {},
   "outputs": [
    {
     "data": {
      "text/plain": [
       "array([[-5.78201975, -8.3156807 ],\n",
       "       [-3.72986464,  1.10004595],\n",
       "       [ 2.05982841, -6.9614189 ],\n",
       "       [-2.90296768, -2.68246013]])"
      ]
     },
     "execution_count": 348,
     "metadata": {},
     "output_type": "execute_result"
    }
   ],
   "source": [
    "kms1.X_center"
   ]
  },
  {
   "cell_type": "code",
   "execution_count": 349,
   "metadata": {},
   "outputs": [
    {
     "name": "stderr",
     "output_type": "stream",
     "text": [
      "/Users/a100/.pyenv/versions/anaconda3-5.1.0/lib/python3.8/site-packages/seaborn/_decorators.py:36: FutureWarning: Pass the following variables as keyword args: x, y. From version 0.12, the only valid positional argument will be `data`, and passing other arguments without an explicit keyword will result in an error or misinterpretation.\n",
      "  warnings.warn(\n"
     ]
    },
    {
     "data": {
      "text/plain": [
       "<AxesSubplot:xlabel='X1', ylabel='X2'>"
      ]
     },
     "execution_count": 349,
     "metadata": {},
     "output_type": "execute_result"
    },
    {
     "data": {
      "image/png": "[encoded data removed]",
      "text/plain": [
       "<Figure size 432x288 with 1 Axes>"
      ]
     },
     "metadata": {
      "needs_background": "light"
     },
     "output_type": "display_data"
    }
   ],
   "source": [
    "sns.scatterplot(x='X1',y='X2',data=xy,hue=\"label\")\n",
    "sns.scatterplot(kms1.X_center[:,0],kms1.X_center[:,1],marker='*',s=200,color='red')"
   ]
  },
  {
   "cell_type": "code",
   "execution_count": 316,
   "metadata": {},
   "outputs": [],
   "source": [
    "# diver の感じでfor文で行った場合\n",
    "class ScratchKMeans2():\n",
    "\n",
    "    def __init__(self, n_clusters=3, n_init=70, max_iter=5, tol=0.5, verbose=False):\n",
    "        # ハイパーパラメータを属性として記録\n",
    "        self.n_clusters = n_clusters\n",
    "        self.n_init = n_init\n",
    "        self.max_iter = max_iter\n",
    "        self.tol = tol\n",
    "        self.verbose = verbose\n",
    "        self.sse = None\n",
    "                \n",
    "    def fit(self, X):\n",
    "#         np.random.seed(4)\n",
    "#         k =np.random.randint(0,self.n_clusters,X.shape[0])\n",
    "#         label = np.unique(k)\n",
    "#         uk =np.zeros([label.shape[0],X.shape[1]])\n",
    "#         norm_list = np.zeros((X.shape[0],uk.shape[0]))\n",
    "#         norm=np.zeros((X.shape[0],uk.shape[0]))\n",
    "        sse_list = []\n",
    "        for _ in range(self.n_init):\n",
    "            k =np.random.randint(0,self.n_clusters,X.shape[0])\n",
    "            label = np.unique(k)\n",
    "            uk =np.zeros([label.shape[0],X.shape[1]])\n",
    "            norm_list = np.zeros((X.shape[0],uk.shape[0]))\n",
    "            norm=np.zeros((X.shape[0],uk.shape[0]))\n",
    "            label = np.unique(k)\n",
    "            for j in range(label.shape[0]):\n",
    "                uk[j] = np.mean(X[k==j],axis=0)\n",
    "            for xx in range(self.max_iter):\n",
    "                rnk=np.zeros((X.shape[0],uk.shape[0]))\n",
    "                for i0 in range(X.shape[0]):\n",
    "                    for k0 in range(label.shape[0]):\n",
    "                        norm_list[i0,k0] = np.linalg.norm(X[i0,:] - uk[k0,:])**2\n",
    "\n",
    "                    k_n = np.argmin(norm_list[i0,:])\n",
    "                    norm[i0,k_n] = min(norm_list[i0,:])\n",
    "                    rnk[i0,k_n]=1\n",
    "                    #print(norm)\n",
    "                #print(norm_list.shape)\n",
    "                for x in range(label.shape[0]):\n",
    "                    uk[x] = np.mean(X[rnk[:,x]==1],axis=0)\n",
    "            sse = np.sum(norm)\n",
    "            #print(sse)\n",
    "            sse_list.append(sse)\n",
    "        self.sse = min(sse_list)\n",
    "            #print(self.sse)\n",
    "            #print(rnk)\n",
    "        \n",
    "        if self.verbose:\n",
    "            #verboseをTrueにした際は学習過程を出力\n",
    "            print(self.uk)\n",
    "\n",
    "    def predict(self, X):\n",
    "        \"\"\"\n",
    "        入力されたデータがどのクラスタに属するかを計算\n",
    "        \"\"\"\n",
    "        sos = self.sse(X,self.X_center)\n",
    "        \n",
    "        label = np.argmin(sos,axis=1)\n",
    "        \n",
    "\n",
    "        return label"
   ]
  },
  {
   "cell_type": "code",
   "execution_count": 355,
   "metadata": {},
   "outputs": [],
   "source": [
    "k = 10\n",
    "kms_list = np.zeros((k,1))\n",
    "i_list = []\n",
    "for i in range(k):\n",
    "    kms = ScratchKMeans1(n_clusters=i+1,n_init=1000, max_iter=10)\n",
    "    kms.fit(X)\n",
    "    kms_list[i] += kms.sse\n",
    "    i_list.append(i+1)"
   ]
  },
  {
   "cell_type": "code",
   "execution_count": 356,
   "metadata": {},
   "outputs": [
    {
     "data": {
      "text/plain": [
       "array([[2258.18351799],\n",
       "       [1033.08202031],\n",
       "       [ 241.47442452],\n",
       "       [  54.08553945],\n",
       "       [  44.37951195],\n",
       "       [  37.28276416],\n",
       "       [  32.39923077],\n",
       "       [  36.92780031],\n",
       "       [  34.82968253],\n",
       "       [  33.58615289]])"
      ]
     },
     "execution_count": 356,
     "metadata": {},
     "output_type": "execute_result"
    }
   ],
   "source": [
    "kms_list"
   ]
  },
  {
   "cell_type": "code",
   "execution_count": 357,
   "metadata": {},
   "outputs": [
    {
     "data": {
      "text/plain": [
       "[1, 2, 3, 4, 5, 6, 7, 8, 9, 10]"
      ]
     },
     "execution_count": 357,
     "metadata": {},
     "output_type": "execute_result"
    }
   ],
   "source": [
    "i_list"
   ]
  },
  {
   "cell_type": "markdown",
   "metadata": {},
   "source": [
    "#### 【問題8】エルボー法の実装\n",
    "K-meansにおいて中心点の個数 \n",
    "k\n",
    " は人為的に決める必要がありますが、その判断方法としてエルボー法があります。エルボー法により中心点の個数 \n",
    "k\n",
    " を検討するためのコードを作成してください。\n",
    "\n",
    "SSEを縦軸、クラスタ数 \n",
    "k\n",
    " を横軸にした折れ線グラフを表示します。このためにK-meansのインスタンスからはSSEを取得できるようにしてください。"
   ]
  },
  {
   "cell_type": "code",
   "execution_count": 358,
   "metadata": {},
   "outputs": [
    {
     "data": {
      "text/plain": [
       "[<matplotlib.lines.Line2D at 0x7fec24e23970>]"
      ]
     },
     "execution_count": 358,
     "metadata": {},
     "output_type": "execute_result"
    },
    {
     "data": {
      "image/png": "[encoded data removed]",
      "text/plain": [
       "<Figure size 432x288 with 1 Axes>"
      ]
     },
     "metadata": {
      "needs_background": "light"
     },
     "output_type": "display_data"
    }
   ],
   "source": [
    "plt.plot(i_list,kms_list[:,0])"
   ]
  },
  {
   "attachments": {
    "image.png": {
     "image/png": "[encoded data removed]"
    }
   },
   "cell_type": "markdown",
   "metadata": {},
   "source": [
    "#### 【問題9】（アドバンス課題）シルエット図\n",
    "k\n",
    " を決める助けになるものとしてシルエット図もあります。シルエット図を表示するコードを作成してください。\n",
    "\n",
    "Matplotlibを使い図を表示するコードは用意しました。以下を与えてください。\n",
    "\n",
    "silhouette_vals : shape(n_samples,)のndarray、各データ点のシルエット係数\n",
    "\n",
    "silhouette_avg : float、シルエット係数の平均値\n",
    "\n",
    "y_km : shape(n_samples,)のndarray、各データ点のクラスタラベル名\n",
    "\n",
    "cluster_labels : list、クラスタのラベル名のリスト\n",
    "\n",
    "n_clusters : int、クラスタ数\n",
    "\n",
    "n\n",
    " 番目のデータ点に対するシルエット係数 \n",
    "s\n",
    "n\n",
    " は以下の数式でを求められます。この数式を実装し、シルエット図を確認してください。\n",
    " \n",
    " ![image.png](attachment:image.png)\n",
    " \n",
    " a\n",
    "n\n",
    " : 凝集度。同じクラスタ内の他のデータ点との距離の平均値。\n",
    "\n",
    "b\n",
    "n\n",
    " : 乖離度。最も近い他のクラスタ内の全てのデータ点との距離の平均値。\n",
    "\n",
    "乖離度 \n",
    "b\n",
    " が大きく、凝集度 \n",
    "a\n",
    " が小さい時が理想的であり、シルエット係数 \n",
    "s\n",
    " は1に近くなります。\n",
    "\n",
    "《シルエット図を表示するためのコード》"
   ]
  },
  {
   "cell_type": "code",
   "execution_count": 299,
   "metadata": {},
   "outputs": [
    {
     "name": "stderr",
     "output_type": "stream",
     "text": [
      "/Users/a100/.pyenv/versions/anaconda3-5.1.0/lib/python3.8/site-packages/numpy/core/fromnumeric.py:3419: RuntimeWarning: Mean of empty slice.\n",
      "  return _methods._mean(a, axis=axis, dtype=dtype,\n",
      "/Users/a100/.pyenv/versions/anaconda3-5.1.0/lib/python3.8/site-packages/numpy/core/_methods.py:180: RuntimeWarning: invalid value encountered in true_divide\n",
      "  ret = um.true_divide(\n"
     ]
    }
   ],
   "source": [
    "    kms1 = ScratchKMeans1(n_clusters=4,n_init=1000, max_iter=10, verbose=False)\n",
    "    kms1.fit(X)"
   ]
  },
  {
   "cell_type": "code",
   "execution_count": 302,
   "metadata": {},
   "outputs": [
    {
     "name": "stdout",
     "output_type": "stream",
     "text": [
      "0.9982441890021707\n"
     ]
    }
   ],
   "source": [
    "n_clusters= kms1.n_clusters\n",
    "cluster_labels= np.unique(kms1.k)\n",
    "y_km= kms1.k\n",
    "an = kms1.an\n",
    "bn = kms1.bn\n",
    "silhouette_vals = (bn - an)/(bn)\n",
    "\n",
    "silhouette_avg=np.mean(silhouette_vals)\n",
    "print(silhouette_avg)"
   ]
  },
  {
   "cell_type": "code",
   "execution_count": 303,
   "metadata": {},
   "outputs": [
    {
     "data": {
      "image/png": "[encoded data removed]",
      "text/plain": [
       "<Figure size 432x288 with 1 Axes>"
      ]
     },
     "metadata": {
      "needs_background": "light"
     },
     "output_type": "display_data"
    }
   ],
   "source": [
    "from matplotlib import cm\n",
    "y_ax_lower, y_ax_upper = 0, 0\n",
    "yticks = []\n",
    "for i, c in enumerate(cluster_labels):\n",
    "    c_silhouette_vals = silhouette_vals[y_km == c]\n",
    "    c_silhouette_vals.sort()\n",
    "    y_ax_upper += len(c_silhouette_vals)\n",
    "    color = cm.jet(i / n_clusters)\n",
    "    plt.barh(range(y_ax_lower, y_ax_upper), c_silhouette_vals, height=1.0, edgecolor='none', color=color)\n",
    "    yticks.append((y_ax_lower + y_ax_upper) / 2)\n",
    "    y_ax_lower += len(c_silhouette_vals)\n",
    "plt.axvline(silhouette_avg, color=\"red\", linestyle=\"--\")\n",
    "plt.yticks(yticks, cluster_labels + 1)\n",
    "plt.ylabel('Cluster')\n",
    "plt.xlabel('Silhouette coefficient')\n",
    "plt.show()"
   ]
  },
  {
   "cell_type": "markdown",
   "metadata": {},
   "source": [
    "### 3.クラスタ分析\n",
    "\n",
    "\n",
    "#### 卸売業者のデータ分析\n",
    "クラスタリングを利用法を学ぶために、Wholesale customers Data Setを使用します。\n",
    "\n",
    "[UCI Machine Learning Repository: Wholesale customers Data Set](https://archive.ics.uci.edu/ml/datasets/Wholesale+customers)\n",
    "\n",
    "Data Folderの中からWholesale customers data.csvをダウンロードしてください。これはポルトガルのリスボンにある卸売業者（wholesale）が顧客から集めたデータです。中身は各顧客が年間でミルクや食料品を何ユーロ購入しているかというデータになっています。顧客は小売店やレストランです。RegionとChannelは取り覗き、金額のデータでK-meansを利用します。\n",
    "\n",
    "#### 次元削減\n",
    "金額に関する特徴量は6個ありますが、可視化するために次元削減を行います。これに関してはscikit-learnによるPCAのサンプルコードを用意したので利用してください。\n",
    "\n",
    "《PCAのサンプルコード》\n"
   ]
  },
  {
   "cell_type": "code",
   "execution_count": 257,
   "metadata": {},
   "outputs": [
    {
     "data": {
      "text/html": [
       "<div>\n",
       "<style scoped>\n",
       "    .dataframe tbody tr th:only-of-type {\n",
       "        vertical-align: middle;\n",
       "    }\n",
       "\n",
       "    .dataframe tbody tr th {\n",
       "        vertical-align: top;\n",
       "    }\n",
       "\n",
       "    .dataframe thead th {\n",
       "        text-align: right;\n",
       "    }\n",
       "</style>\n",
       "<table border=\"1\" class=\"dataframe\">\n",
       "  <thead>\n",
       "    <tr style=\"text-align: right;\">\n",
       "      <th></th>\n",
       "      <th>Fresh</th>\n",
       "      <th>Milk</th>\n",
       "      <th>Grocery</th>\n",
       "      <th>Frozen</th>\n",
       "      <th>Detergents_Paper</th>\n",
       "      <th>Delicassen</th>\n",
       "    </tr>\n",
       "  </thead>\n",
       "  <tbody>\n",
       "    <tr>\n",
       "      <th>0</th>\n",
       "      <td>12669</td>\n",
       "      <td>9656</td>\n",
       "      <td>7561</td>\n",
       "      <td>214</td>\n",
       "      <td>2674</td>\n",
       "      <td>1338</td>\n",
       "    </tr>\n",
       "    <tr>\n",
       "      <th>1</th>\n",
       "      <td>7057</td>\n",
       "      <td>9810</td>\n",
       "      <td>9568</td>\n",
       "      <td>1762</td>\n",
       "      <td>3293</td>\n",
       "      <td>1776</td>\n",
       "    </tr>\n",
       "    <tr>\n",
       "      <th>2</th>\n",
       "      <td>6353</td>\n",
       "      <td>8808</td>\n",
       "      <td>7684</td>\n",
       "      <td>2405</td>\n",
       "      <td>3516</td>\n",
       "      <td>7844</td>\n",
       "    </tr>\n",
       "    <tr>\n",
       "      <th>3</th>\n",
       "      <td>13265</td>\n",
       "      <td>1196</td>\n",
       "      <td>4221</td>\n",
       "      <td>6404</td>\n",
       "      <td>507</td>\n",
       "      <td>1788</td>\n",
       "    </tr>\n",
       "    <tr>\n",
       "      <th>4</th>\n",
       "      <td>22615</td>\n",
       "      <td>5410</td>\n",
       "      <td>7198</td>\n",
       "      <td>3915</td>\n",
       "      <td>1777</td>\n",
       "      <td>5185</td>\n",
       "    </tr>\n",
       "    <tr>\n",
       "      <th>...</th>\n",
       "      <td>...</td>\n",
       "      <td>...</td>\n",
       "      <td>...</td>\n",
       "      <td>...</td>\n",
       "      <td>...</td>\n",
       "      <td>...</td>\n",
       "    </tr>\n",
       "    <tr>\n",
       "      <th>435</th>\n",
       "      <td>29703</td>\n",
       "      <td>12051</td>\n",
       "      <td>16027</td>\n",
       "      <td>13135</td>\n",
       "      <td>182</td>\n",
       "      <td>2204</td>\n",
       "    </tr>\n",
       "    <tr>\n",
       "      <th>436</th>\n",
       "      <td>39228</td>\n",
       "      <td>1431</td>\n",
       "      <td>764</td>\n",
       "      <td>4510</td>\n",
       "      <td>93</td>\n",
       "      <td>2346</td>\n",
       "    </tr>\n",
       "    <tr>\n",
       "      <th>437</th>\n",
       "      <td>14531</td>\n",
       "      <td>15488</td>\n",
       "      <td>30243</td>\n",
       "      <td>437</td>\n",
       "      <td>14841</td>\n",
       "      <td>1867</td>\n",
       "    </tr>\n",
       "    <tr>\n",
       "      <th>438</th>\n",
       "      <td>10290</td>\n",
       "      <td>1981</td>\n",
       "      <td>2232</td>\n",
       "      <td>1038</td>\n",
       "      <td>168</td>\n",
       "      <td>2125</td>\n",
       "    </tr>\n",
       "    <tr>\n",
       "      <th>439</th>\n",
       "      <td>2787</td>\n",
       "      <td>1698</td>\n",
       "      <td>2510</td>\n",
       "      <td>65</td>\n",
       "      <td>477</td>\n",
       "      <td>52</td>\n",
       "    </tr>\n",
       "  </tbody>\n",
       "</table>\n",
       "<p>440 rows × 6 columns</p>\n",
       "</div>"
      ],
      "text/plain": [
       "     Fresh   Milk  Grocery  Frozen  Detergents_Paper  Delicassen\n",
       "0    12669   9656     7561     214              2674        1338\n",
       "1     7057   9810     9568    1762              3293        1776\n",
       "2     6353   8808     7684    2405              3516        7844\n",
       "3    13265   1196     4221    6404               507        1788\n",
       "4    22615   5410     7198    3915              1777        5185\n",
       "..     ...    ...      ...     ...               ...         ...\n",
       "435  29703  12051    16027   13135               182        2204\n",
       "436  39228   1431      764    4510                93        2346\n",
       "437  14531  15488    30243     437             14841        1867\n",
       "438  10290   1981     2232    1038               168        2125\n",
       "439   2787   1698     2510      65               477          52\n",
       "\n",
       "[440 rows x 6 columns]"
      ]
     },
     "execution_count": 257,
     "metadata": {},
     "output_type": "execute_result"
    }
   ],
   "source": [
    "data = pd.read_csv(\"Wholesale customers data.csv\")\n",
    "data = data.iloc[:,2:]\n",
    "data"
   ]
  },
  {
   "cell_type": "code",
   "execution_count": 104,
   "metadata": {},
   "outputs": [],
   "source": [
    "import seaborn as sns"
   ]
  },
  {
   "cell_type": "code",
   "execution_count": 258,
   "metadata": {},
   "outputs": [],
   "source": [
    "from sklearn.decomposition import PCA\n",
    "pca = PCA(n_components = 2)\n",
    "pca = pca.fit(data)\n",
    "data_pca = pca.transform(data)"
   ]
  },
  {
   "cell_type": "markdown",
   "metadata": {},
   "source": [
    "《PCAの分散説明率を表示するコードサンプル》"
   ]
  },
  {
   "cell_type": "code",
   "execution_count": 88,
   "metadata": {},
   "outputs": [
    {
     "name": "stdout",
     "output_type": "stream",
     "text": [
      "[0.45961362 0.86478588 0.93481597 0.97883941 0.99386152 1.        ]\n"
     ]
    },
    {
     "data": {
      "image/png": "[encoded data removed]",
      "text/plain": [
       "<Figure size 432x288 with 1 Axes>"
      ]
     },
     "metadata": {
      "needs_background": "light"
     },
     "output_type": "display_data"
    }
   ],
   "source": [
    "from sklearn.decomposition import PCA\n",
    "import matplotlib.pyplot as plt\n",
    "pca = PCA(n_components=None)\n",
    "pca = pca.fit(data)\n",
    "var_exp = pca.explained_variance_ratio_\n",
    "cum_var_exp = np.cumsum(var_exp)\n",
    "print(cum_var_exp)\n",
    "plt.bar(range(1,7), var_exp, alpha=0.5, align='center', label='individual explained variance')\n",
    "plt.step(range(1,7), cum_var_exp, where='mid', label='cumulative expalined variance')\n",
    "plt.ylabel('Explained variance ratio')\n",
    "plt.xlabel('Principal components')\n",
    "plt.hlines(0.7, 0, 6,  \"blue\", linestyles='dashed')\n",
    "plt.legend(loc='best')\n",
    "plt.grid()\n",
    "plt.show()"
   ]
  },
  {
   "cell_type": "code",
   "execution_count": 107,
   "metadata": {},
   "outputs": [
    {
     "data": {
      "text/plain": [
       "(440, 2)"
      ]
     },
     "execution_count": 107,
     "metadata": {},
     "output_type": "execute_result"
    }
   ],
   "source": [
    "X = data_pca\n",
    "X.shape"
   ]
  },
  {
   "cell_type": "markdown",
   "metadata": {},
   "source": [
    "#### 【問題10】クラスタ数kの選択\n",
    "最適だと思われるクラスタ数 \n",
    "k\n",
    " を選択してください。エルボー法やシルエット図を活用する他、人間が後々どう利用したいのかも選択に関わってきます。選択した上で、なぜそれを選んだか説明してください。"
   ]
  },
  {
   "cell_type": "code",
   "execution_count": 108,
   "metadata": {},
   "outputs": [
    {
     "name": "stderr",
     "output_type": "stream",
     "text": [
      "/Users/a100/.pyenv/versions/anaconda3-5.1.0/lib/python3.8/site-packages/seaborn/_decorators.py:36: FutureWarning: Pass the following variables as keyword args: x, y. From version 0.12, the only valid positional argument will be `data`, and passing other arguments without an explicit keyword will result in an error or misinterpretation.\n",
      "  warnings.warn(\n"
     ]
    },
    {
     "data": {
      "text/plain": [
       "<AxesSubplot:>"
      ]
     },
     "execution_count": 108,
     "metadata": {},
     "output_type": "execute_result"
    },
    {
     "data": {
      "image/png": "[encoded data removed]",
      "text/plain": [
       "<Figure size 432x288 with 1 Axes>"
      ]
     },
     "metadata": {
      "needs_background": "light"
     },
     "output_type": "display_data"
    }
   ],
   "source": [
    "sns.scatterplot(data_pca[:,0],data_pca[:,1])"
   ]
  },
  {
   "cell_type": "code",
   "execution_count": 101,
   "metadata": {},
   "outputs": [
    {
     "name": "stderr",
     "output_type": "stream",
     "text": [
      "/Users/a100/.pyenv/versions/anaconda3-5.1.0/lib/python3.8/site-packages/numpy/core/fromnumeric.py:3419: RuntimeWarning: Mean of empty slice.\n",
      "  return _methods._mean(a, axis=axis, dtype=dtype,\n",
      "/Users/a100/.pyenv/versions/anaconda3-5.1.0/lib/python3.8/site-packages/numpy/core/_methods.py:180: RuntimeWarning: invalid value encountered in true_divide\n",
      "  ret = um.true_divide(\n"
     ]
    }
   ],
   "source": [
    "\n",
    "k = 10\n",
    "kms_list = np.zeros((k,1))\n",
    "i_list = []\n",
    "for i in range(k):\n",
    "    kms = ScratchKMeans1(n_clusters=i+1,n_init=1000, max_iter=10)\n",
    "    kms.fit(X)\n",
    "    kms_list[i] += kms.sse\n",
    "    i_list.append(i+1)"
   ]
  },
  {
   "cell_type": "code",
   "execution_count": 102,
   "metadata": {},
   "outputs": [
    {
     "data": {
      "text/plain": [
       "[<matplotlib.lines.Line2D at 0x7fec2149b430>]"
      ]
     },
     "execution_count": 102,
     "metadata": {},
     "output_type": "execute_result"
    },
    {
     "data": {
      "image/png": "[encoded data removed]",
      "text/plain": [
       "<Figure size 432x288 with 1 Axes>"
      ]
     },
     "metadata": {
      "needs_background": "light"
     },
     "output_type": "display_data"
    }
   ],
   "source": [
    "plt.plot(i_list,kms_list[:,0])"
   ]
  },
  {
   "cell_type": "markdown",
   "metadata": {},
   "source": [
    "主成分分析で二つの特徴量に分けたが、k-meansを使用するとクラスタ数5が良いという結果となった。  \n",
    "エルボー法においてクラスタすうとsseの値が小さくなる値で選択した。"
   ]
  },
  {
   "cell_type": "markdown",
   "metadata": {},
   "source": [
    "#### 【問題11】既知のグループとの比較\n",
    "RegionとChannelはK-meansに使用しなかったが、これれらは既知のグループです。クラスタとこれら既知のグループがどう違うかを確認し、説明してください。まずはそれぞれを可視化してください。"
   ]
  },
  {
   "cell_type": "code",
   "execution_count": 123,
   "metadata": {
    "scrolled": true
   },
   "outputs": [
    {
     "data": {
      "text/html": [
       "<div>\n",
       "<style scoped>\n",
       "    .dataframe tbody tr th:only-of-type {\n",
       "        vertical-align: middle;\n",
       "    }\n",
       "\n",
       "    .dataframe tbody tr th {\n",
       "        vertical-align: top;\n",
       "    }\n",
       "\n",
       "    .dataframe thead th {\n",
       "        text-align: right;\n",
       "    }\n",
       "</style>\n",
       "<table border=\"1\" class=\"dataframe\">\n",
       "  <thead>\n",
       "    <tr style=\"text-align: right;\">\n",
       "      <th></th>\n",
       "      <th>Channel</th>\n",
       "      <th>Region</th>\n",
       "      <th>Fresh</th>\n",
       "      <th>Milk</th>\n",
       "      <th>Grocery</th>\n",
       "      <th>Frozen</th>\n",
       "      <th>Detergents_Paper</th>\n",
       "      <th>Delicassen</th>\n",
       "    </tr>\n",
       "  </thead>\n",
       "  <tbody>\n",
       "    <tr>\n",
       "      <th>0</th>\n",
       "      <td>2</td>\n",
       "      <td>3</td>\n",
       "      <td>12669</td>\n",
       "      <td>9656</td>\n",
       "      <td>7561</td>\n",
       "      <td>214</td>\n",
       "      <td>2674</td>\n",
       "      <td>1338</td>\n",
       "    </tr>\n",
       "    <tr>\n",
       "      <th>1</th>\n",
       "      <td>2</td>\n",
       "      <td>3</td>\n",
       "      <td>7057</td>\n",
       "      <td>9810</td>\n",
       "      <td>9568</td>\n",
       "      <td>1762</td>\n",
       "      <td>3293</td>\n",
       "      <td>1776</td>\n",
       "    </tr>\n",
       "    <tr>\n",
       "      <th>2</th>\n",
       "      <td>2</td>\n",
       "      <td>3</td>\n",
       "      <td>6353</td>\n",
       "      <td>8808</td>\n",
       "      <td>7684</td>\n",
       "      <td>2405</td>\n",
       "      <td>3516</td>\n",
       "      <td>7844</td>\n",
       "    </tr>\n",
       "    <tr>\n",
       "      <th>3</th>\n",
       "      <td>1</td>\n",
       "      <td>3</td>\n",
       "      <td>13265</td>\n",
       "      <td>1196</td>\n",
       "      <td>4221</td>\n",
       "      <td>6404</td>\n",
       "      <td>507</td>\n",
       "      <td>1788</td>\n",
       "    </tr>\n",
       "    <tr>\n",
       "      <th>4</th>\n",
       "      <td>2</td>\n",
       "      <td>3</td>\n",
       "      <td>22615</td>\n",
       "      <td>5410</td>\n",
       "      <td>7198</td>\n",
       "      <td>3915</td>\n",
       "      <td>1777</td>\n",
       "      <td>5185</td>\n",
       "    </tr>\n",
       "    <tr>\n",
       "      <th>5</th>\n",
       "      <td>2</td>\n",
       "      <td>3</td>\n",
       "      <td>9413</td>\n",
       "      <td>8259</td>\n",
       "      <td>5126</td>\n",
       "      <td>666</td>\n",
       "      <td>1795</td>\n",
       "      <td>1451</td>\n",
       "    </tr>\n",
       "    <tr>\n",
       "      <th>6</th>\n",
       "      <td>2</td>\n",
       "      <td>3</td>\n",
       "      <td>12126</td>\n",
       "      <td>3199</td>\n",
       "      <td>6975</td>\n",
       "      <td>480</td>\n",
       "      <td>3140</td>\n",
       "      <td>545</td>\n",
       "    </tr>\n",
       "    <tr>\n",
       "      <th>7</th>\n",
       "      <td>2</td>\n",
       "      <td>3</td>\n",
       "      <td>7579</td>\n",
       "      <td>4956</td>\n",
       "      <td>9426</td>\n",
       "      <td>1669</td>\n",
       "      <td>3321</td>\n",
       "      <td>2566</td>\n",
       "    </tr>\n",
       "    <tr>\n",
       "      <th>8</th>\n",
       "      <td>1</td>\n",
       "      <td>3</td>\n",
       "      <td>5963</td>\n",
       "      <td>3648</td>\n",
       "      <td>6192</td>\n",
       "      <td>425</td>\n",
       "      <td>1716</td>\n",
       "      <td>750</td>\n",
       "    </tr>\n",
       "    <tr>\n",
       "      <th>9</th>\n",
       "      <td>2</td>\n",
       "      <td>3</td>\n",
       "      <td>6006</td>\n",
       "      <td>11093</td>\n",
       "      <td>18881</td>\n",
       "      <td>1159</td>\n",
       "      <td>7425</td>\n",
       "      <td>2098</td>\n",
       "    </tr>\n",
       "    <tr>\n",
       "      <th>10</th>\n",
       "      <td>2</td>\n",
       "      <td>3</td>\n",
       "      <td>3366</td>\n",
       "      <td>5403</td>\n",
       "      <td>12974</td>\n",
       "      <td>4400</td>\n",
       "      <td>5977</td>\n",
       "      <td>1744</td>\n",
       "    </tr>\n",
       "    <tr>\n",
       "      <th>11</th>\n",
       "      <td>2</td>\n",
       "      <td>3</td>\n",
       "      <td>13146</td>\n",
       "      <td>1124</td>\n",
       "      <td>4523</td>\n",
       "      <td>1420</td>\n",
       "      <td>549</td>\n",
       "      <td>497</td>\n",
       "    </tr>\n",
       "    <tr>\n",
       "      <th>12</th>\n",
       "      <td>2</td>\n",
       "      <td>3</td>\n",
       "      <td>31714</td>\n",
       "      <td>12319</td>\n",
       "      <td>11757</td>\n",
       "      <td>287</td>\n",
       "      <td>3881</td>\n",
       "      <td>2931</td>\n",
       "    </tr>\n",
       "    <tr>\n",
       "      <th>13</th>\n",
       "      <td>2</td>\n",
       "      <td>3</td>\n",
       "      <td>21217</td>\n",
       "      <td>6208</td>\n",
       "      <td>14982</td>\n",
       "      <td>3095</td>\n",
       "      <td>6707</td>\n",
       "      <td>602</td>\n",
       "    </tr>\n",
       "    <tr>\n",
       "      <th>14</th>\n",
       "      <td>2</td>\n",
       "      <td>3</td>\n",
       "      <td>24653</td>\n",
       "      <td>9465</td>\n",
       "      <td>12091</td>\n",
       "      <td>294</td>\n",
       "      <td>5058</td>\n",
       "      <td>2168</td>\n",
       "    </tr>\n",
       "    <tr>\n",
       "      <th>15</th>\n",
       "      <td>1</td>\n",
       "      <td>3</td>\n",
       "      <td>10253</td>\n",
       "      <td>1114</td>\n",
       "      <td>3821</td>\n",
       "      <td>397</td>\n",
       "      <td>964</td>\n",
       "      <td>412</td>\n",
       "    </tr>\n",
       "    <tr>\n",
       "      <th>16</th>\n",
       "      <td>2</td>\n",
       "      <td>3</td>\n",
       "      <td>1020</td>\n",
       "      <td>8816</td>\n",
       "      <td>12121</td>\n",
       "      <td>134</td>\n",
       "      <td>4508</td>\n",
       "      <td>1080</td>\n",
       "    </tr>\n",
       "    <tr>\n",
       "      <th>17</th>\n",
       "      <td>1</td>\n",
       "      <td>3</td>\n",
       "      <td>5876</td>\n",
       "      <td>6157</td>\n",
       "      <td>2933</td>\n",
       "      <td>839</td>\n",
       "      <td>370</td>\n",
       "      <td>4478</td>\n",
       "    </tr>\n",
       "    <tr>\n",
       "      <th>18</th>\n",
       "      <td>2</td>\n",
       "      <td>3</td>\n",
       "      <td>18601</td>\n",
       "      <td>6327</td>\n",
       "      <td>10099</td>\n",
       "      <td>2205</td>\n",
       "      <td>2767</td>\n",
       "      <td>3181</td>\n",
       "    </tr>\n",
       "    <tr>\n",
       "      <th>19</th>\n",
       "      <td>1</td>\n",
       "      <td>3</td>\n",
       "      <td>7780</td>\n",
       "      <td>2495</td>\n",
       "      <td>9464</td>\n",
       "      <td>669</td>\n",
       "      <td>2518</td>\n",
       "      <td>501</td>\n",
       "    </tr>\n",
       "  </tbody>\n",
       "</table>\n",
       "</div>"
      ],
      "text/plain": [
       "    Channel  Region  Fresh   Milk  Grocery  Frozen  Detergents_Paper  \\\n",
       "0         2       3  12669   9656     7561     214              2674   \n",
       "1         2       3   7057   9810     9568    1762              3293   \n",
       "2         2       3   6353   8808     7684    2405              3516   \n",
       "3         1       3  13265   1196     4221    6404               507   \n",
       "4         2       3  22615   5410     7198    3915              1777   \n",
       "5         2       3   9413   8259     5126     666              1795   \n",
       "6         2       3  12126   3199     6975     480              3140   \n",
       "7         2       3   7579   4956     9426    1669              3321   \n",
       "8         1       3   5963   3648     6192     425              1716   \n",
       "9         2       3   6006  11093    18881    1159              7425   \n",
       "10        2       3   3366   5403    12974    4400              5977   \n",
       "11        2       3  13146   1124     4523    1420               549   \n",
       "12        2       3  31714  12319    11757     287              3881   \n",
       "13        2       3  21217   6208    14982    3095              6707   \n",
       "14        2       3  24653   9465    12091     294              5058   \n",
       "15        1       3  10253   1114     3821     397               964   \n",
       "16        2       3   1020   8816    12121     134              4508   \n",
       "17        1       3   5876   6157     2933     839               370   \n",
       "18        2       3  18601   6327    10099    2205              2767   \n",
       "19        1       3   7780   2495     9464     669              2518   \n",
       "\n",
       "    Delicassen  \n",
       "0         1338  \n",
       "1         1776  \n",
       "2         7844  \n",
       "3         1788  \n",
       "4         5185  \n",
       "5         1451  \n",
       "6          545  \n",
       "7         2566  \n",
       "8          750  \n",
       "9         2098  \n",
       "10        1744  \n",
       "11         497  \n",
       "12        2931  \n",
       "13         602  \n",
       "14        2168  \n",
       "15         412  \n",
       "16        1080  \n",
       "17        4478  \n",
       "18        3181  \n",
       "19         501  "
      ]
     },
     "execution_count": 123,
     "metadata": {},
     "output_type": "execute_result"
    }
   ],
   "source": [
    "data = pd.read_csv(\"Wholesale customers data.csv\")\n",
    "data.head(20)"
   ]
  },
  {
   "cell_type": "code",
   "execution_count": 1044,
   "metadata": {},
   "outputs": [
    {
     "data": {
      "text/html": [
       "<div>\n",
       "<style scoped>\n",
       "    .dataframe tbody tr th:only-of-type {\n",
       "        vertical-align: middle;\n",
       "    }\n",
       "\n",
       "    .dataframe tbody tr th {\n",
       "        vertical-align: top;\n",
       "    }\n",
       "\n",
       "    .dataframe thead th {\n",
       "        text-align: right;\n",
       "    }\n",
       "</style>\n",
       "<table border=\"1\" class=\"dataframe\">\n",
       "  <thead>\n",
       "    <tr style=\"text-align: right;\">\n",
       "      <th></th>\n",
       "      <th></th>\n",
       "      <th>Fresh</th>\n",
       "      <th>Milk</th>\n",
       "      <th>Grocery</th>\n",
       "      <th>Frozen</th>\n",
       "      <th>Detergents_Paper</th>\n",
       "      <th>Delicassen</th>\n",
       "    </tr>\n",
       "    <tr>\n",
       "      <th>Channel</th>\n",
       "      <th>Region</th>\n",
       "      <th></th>\n",
       "      <th></th>\n",
       "      <th></th>\n",
       "      <th></th>\n",
       "      <th></th>\n",
       "      <th></th>\n",
       "    </tr>\n",
       "  </thead>\n",
       "  <tbody>\n",
       "    <tr>\n",
       "      <th rowspan=\"3\" valign=\"top\">1</th>\n",
       "      <th>1</th>\n",
       "      <td>12902.254237</td>\n",
       "      <td>3870.203390</td>\n",
       "      <td>4026.135593</td>\n",
       "      <td>3127.322034</td>\n",
       "      <td>950.525424</td>\n",
       "      <td>1197.152542</td>\n",
       "    </tr>\n",
       "    <tr>\n",
       "      <th>2</th>\n",
       "      <td>11650.535714</td>\n",
       "      <td>2304.250000</td>\n",
       "      <td>4395.500000</td>\n",
       "      <td>5745.035714</td>\n",
       "      <td>482.714286</td>\n",
       "      <td>1105.892857</td>\n",
       "    </tr>\n",
       "    <tr>\n",
       "      <th>3</th>\n",
       "      <td>13878.052133</td>\n",
       "      <td>3486.981043</td>\n",
       "      <td>3886.734597</td>\n",
       "      <td>3656.900474</td>\n",
       "      <td>786.682464</td>\n",
       "      <td>1518.284360</td>\n",
       "    </tr>\n",
       "    <tr>\n",
       "      <th rowspan=\"3\" valign=\"top\">2</th>\n",
       "      <th>1</th>\n",
       "      <td>5200.000000</td>\n",
       "      <td>10784.000000</td>\n",
       "      <td>18471.944444</td>\n",
       "      <td>2584.111111</td>\n",
       "      <td>8225.277778</td>\n",
       "      <td>1871.944444</td>\n",
       "    </tr>\n",
       "    <tr>\n",
       "      <th>2</th>\n",
       "      <td>7289.789474</td>\n",
       "      <td>9190.789474</td>\n",
       "      <td>16326.315789</td>\n",
       "      <td>1540.578947</td>\n",
       "      <td>8410.263158</td>\n",
       "      <td>1239.000000</td>\n",
       "    </tr>\n",
       "    <tr>\n",
       "      <th>3</th>\n",
       "      <td>9831.504762</td>\n",
       "      <td>10981.009524</td>\n",
       "      <td>15953.809524</td>\n",
       "      <td>1513.200000</td>\n",
       "      <td>6899.238095</td>\n",
       "      <td>1826.209524</td>\n",
       "    </tr>\n",
       "  </tbody>\n",
       "</table>\n",
       "</div>"
      ],
      "text/plain": [
       "                       Fresh          Milk       Grocery       Frozen  \\\n",
       "Channel Region                                                          \n",
       "1       1       12902.254237   3870.203390   4026.135593  3127.322034   \n",
       "        2       11650.535714   2304.250000   4395.500000  5745.035714   \n",
       "        3       13878.052133   3486.981043   3886.734597  3656.900474   \n",
       "2       1        5200.000000  10784.000000  18471.944444  2584.111111   \n",
       "        2        7289.789474   9190.789474  16326.315789  1540.578947   \n",
       "        3        9831.504762  10981.009524  15953.809524  1513.200000   \n",
       "\n",
       "                Detergents_Paper   Delicassen  \n",
       "Channel Region                                 \n",
       "1       1             950.525424  1197.152542  \n",
       "        2             482.714286  1105.892857  \n",
       "        3             786.682464  1518.284360  \n",
       "2       1            8225.277778  1871.944444  \n",
       "        2            8410.263158  1239.000000  \n",
       "        3            6899.238095  1826.209524  "
      ]
     },
     "execution_count": 1044,
     "metadata": {},
     "output_type": "execute_result"
    }
   ],
   "source": [
    "data.groupby(['Channel', 'Region']).mean()"
   ]
  },
  {
   "cell_type": "code",
   "execution_count": 125,
   "metadata": {},
   "outputs": [
    {
     "data": {
      "image/png": "[encoded data removed]",
      "text/plain": [
       "<Figure size 1440x1440 with 72 Axes>"
      ]
     },
     "metadata": {
      "needs_background": "light"
     },
     "output_type": "display_data"
    }
   ],
   "source": [
    "sns.pairplot(data);"
   ]
  },
  {
   "cell_type": "markdown",
   "metadata": {},
   "source": [
    "チャネルとリージョンは離散値となっており完全に分かれている。"
   ]
  },
  {
   "cell_type": "code",
   "execution_count": 262,
   "metadata": {},
   "outputs": [
    {
     "name": "stderr",
     "output_type": "stream",
     "text": [
      "/Users/a100/.pyenv/versions/anaconda3-5.1.0/lib/python3.8/site-packages/numpy/core/fromnumeric.py:3419: RuntimeWarning: Mean of empty slice.\n",
      "  return _methods._mean(a, axis=axis, dtype=dtype,\n",
      "/Users/a100/.pyenv/versions/anaconda3-5.1.0/lib/python3.8/site-packages/numpy/core/_methods.py:180: RuntimeWarning: invalid value encountered in true_divide\n",
      "  ret = um.true_divide(\n"
     ]
    }
   ],
   "source": [
    "    kms1 = ScratchKMeans1(n_clusters=5,n_init=1000, max_iter=10, verbose=False)\n",
    "    kms1.fit(data_pca)"
   ]
  },
  {
   "cell_type": "code",
   "execution_count": 265,
   "metadata": {},
   "outputs": [
    {
     "data": {
      "text/html": [
       "<div>\n",
       "<style scoped>\n",
       "    .dataframe tbody tr th:only-of-type {\n",
       "        vertical-align: middle;\n",
       "    }\n",
       "\n",
       "    .dataframe tbody tr th {\n",
       "        vertical-align: top;\n",
       "    }\n",
       "\n",
       "    .dataframe thead th {\n",
       "        text-align: right;\n",
       "    }\n",
       "</style>\n",
       "<table border=\"1\" class=\"dataframe\">\n",
       "  <thead>\n",
       "    <tr style=\"text-align: right;\">\n",
       "      <th></th>\n",
       "      <th>X1</th>\n",
       "      <th>X2</th>\n",
       "      <th>label</th>\n",
       "    </tr>\n",
       "  </thead>\n",
       "  <tbody>\n",
       "    <tr>\n",
       "      <th>0</th>\n",
       "      <td>650.022122</td>\n",
       "      <td>1585.519090</td>\n",
       "      <td>2</td>\n",
       "    </tr>\n",
       "    <tr>\n",
       "      <th>1</th>\n",
       "      <td>-4426.804979</td>\n",
       "      <td>4042.451509</td>\n",
       "      <td>2</td>\n",
       "    </tr>\n",
       "    <tr>\n",
       "      <th>2</th>\n",
       "      <td>-4841.998707</td>\n",
       "      <td>2578.762176</td>\n",
       "      <td>2</td>\n",
       "    </tr>\n",
       "    <tr>\n",
       "      <th>3</th>\n",
       "      <td>990.346437</td>\n",
       "      <td>-6279.805997</td>\n",
       "      <td>3</td>\n",
       "    </tr>\n",
       "    <tr>\n",
       "      <th>4</th>\n",
       "      <td>10657.998731</td>\n",
       "      <td>-2159.725815</td>\n",
       "      <td>3</td>\n",
       "    </tr>\n",
       "    <tr>\n",
       "      <th>...</th>\n",
       "      <td>...</td>\n",
       "      <td>...</td>\n",
       "      <td>...</td>\n",
       "    </tr>\n",
       "    <tr>\n",
       "      <th>435</th>\n",
       "      <td>20140.848493</td>\n",
       "      <td>6306.877227</td>\n",
       "      <td>3</td>\n",
       "    </tr>\n",
       "    <tr>\n",
       "      <th>436</th>\n",
       "      <td>25912.249945</td>\n",
       "      <td>-11757.647107</td>\n",
       "      <td>1</td>\n",
       "    </tr>\n",
       "    <tr>\n",
       "      <th>437</th>\n",
       "      <td>4555.114999</td>\n",
       "      <td>26201.758603</td>\n",
       "      <td>0</td>\n",
       "    </tr>\n",
       "    <tr>\n",
       "      <th>438</th>\n",
       "      <td>-2734.370920</td>\n",
       "      <td>-7070.775335</td>\n",
       "      <td>2</td>\n",
       "    </tr>\n",
       "    <tr>\n",
       "      <th>439</th>\n",
       "      <td>-10370.125314</td>\n",
       "      <td>-6161.464909</td>\n",
       "      <td>2</td>\n",
       "    </tr>\n",
       "  </tbody>\n",
       "</table>\n",
       "<p>440 rows × 3 columns</p>\n",
       "</div>"
      ],
      "text/plain": [
       "               X1            X2  label\n",
       "0      650.022122   1585.519090      2\n",
       "1    -4426.804979   4042.451509      2\n",
       "2    -4841.998707   2578.762176      2\n",
       "3      990.346437  -6279.805997      3\n",
       "4    10657.998731  -2159.725815      3\n",
       "..            ...           ...    ...\n",
       "435  20140.848493   6306.877227      3\n",
       "436  25912.249945 -11757.647107      1\n",
       "437   4555.114999  26201.758603      0\n",
       "438  -2734.370920  -7070.775335      2\n",
       "439 -10370.125314  -6161.464909      2\n",
       "\n",
       "[440 rows x 3 columns]"
      ]
     },
     "execution_count": 265,
     "metadata": {},
     "output_type": "execute_result"
    }
   ],
   "source": [
    "p1 = pd.DataFrame(data_pca,columns=['X1','X2'])\n",
    "p2 = pd.DataFrame(kms1.k,columns=['label'])\n",
    "pp = pd.concat((p1,p2),1)\n",
    "pp"
   ]
  },
  {
   "cell_type": "code",
   "execution_count": 272,
   "metadata": {},
   "outputs": [
    {
     "name": "stderr",
     "output_type": "stream",
     "text": [
      "/Users/a100/.pyenv/versions/anaconda3-5.1.0/lib/python3.8/site-packages/seaborn/_decorators.py:36: FutureWarning: Pass the following variables as keyword args: x, y. From version 0.12, the only valid positional argument will be `data`, and passing other arguments without an explicit keyword will result in an error or misinterpretation.\n",
      "  warnings.warn(\n"
     ]
    },
    {
     "data": {
      "text/plain": [
       "<AxesSubplot:xlabel='X1', ylabel='X2'>"
      ]
     },
     "execution_count": 272,
     "metadata": {},
     "output_type": "execute_result"
    },
    {
     "data": {
      "image/png": "[encoded data removed]",
      "text/plain": [
       "<Figure size 432x288 with 1 Axes>"
      ]
     },
     "metadata": {
      "needs_background": "light"
     },
     "output_type": "display_data"
    }
   ],
   "source": [
    "sns.scatterplot(x='X1',y='X2',data=pp,hue='label')\n",
    "sns.scatterplot(kms1.X_center[:,0],kms1.X_center[:,1],marker='*',s=200,color='red')"
   ]
  },
  {
   "cell_type": "markdown",
   "metadata": {},
   "source": [
    "k-meansを利用して分類分けされたものをクラスタと呼ぶ"
   ]
  },
  {
   "cell_type": "markdown",
   "metadata": {},
   "source": [
    "#### 【問題12】卸売業者にとって有益な情報\n",
    "卸売業者にとって有益な情報を探し出し文章にまとめてください。\n",
    "\n",
    "《ヒント》\n",
    "\n",
    "前処理を行う前のデータを使い、各クラスタの要約統計量を見るなどしてみましょう。また、PCAで次元削減したデータに対してK-meansを使用しましたが、6個の特徴量をそのまま使ったり、一部の特徴量のみを使ったりということも試してみてください。既知のグループとの比較結果も参考にしてください。\n",
    "\n",
    "条件ごとにデータを見る際にはPandasのgroupbyが便利です。\n",
    "\n",
    "[pandas.DataFrame.groupby — pandas 0.23.4 documentation](https://pandas.pydata.org/pandas-docs/stable/generated/pandas.DataFrame.groupby.html)"
   ]
  },
  {
   "cell_type": "code",
   "execution_count": 1002,
   "metadata": {},
   "outputs": [
    {
     "data": {
      "text/html": [
       "<div>\n",
       "<style scoped>\n",
       "    .dataframe tbody tr th:only-of-type {\n",
       "        vertical-align: middle;\n",
       "    }\n",
       "\n",
       "    .dataframe tbody tr th {\n",
       "        vertical-align: top;\n",
       "    }\n",
       "\n",
       "    .dataframe thead th {\n",
       "        text-align: right;\n",
       "    }\n",
       "</style>\n",
       "<table border=\"1\" class=\"dataframe\">\n",
       "  <thead>\n",
       "    <tr style=\"text-align: right;\">\n",
       "      <th></th>\n",
       "      <th>Channel</th>\n",
       "      <th>Region</th>\n",
       "      <th>Fresh</th>\n",
       "      <th>Milk</th>\n",
       "      <th>Grocery</th>\n",
       "      <th>Frozen</th>\n",
       "      <th>Detergents_Paper</th>\n",
       "      <th>Delicassen</th>\n",
       "    </tr>\n",
       "  </thead>\n",
       "  <tbody>\n",
       "    <tr>\n",
       "      <th>count</th>\n",
       "      <td>440.000000</td>\n",
       "      <td>440.000000</td>\n",
       "      <td>440.000000</td>\n",
       "      <td>440.000000</td>\n",
       "      <td>440.000000</td>\n",
       "      <td>440.000000</td>\n",
       "      <td>440.000000</td>\n",
       "      <td>440.000000</td>\n",
       "    </tr>\n",
       "    <tr>\n",
       "      <th>mean</th>\n",
       "      <td>1.322727</td>\n",
       "      <td>2.543182</td>\n",
       "      <td>12000.297727</td>\n",
       "      <td>5796.265909</td>\n",
       "      <td>7951.277273</td>\n",
       "      <td>3071.931818</td>\n",
       "      <td>2881.493182</td>\n",
       "      <td>1524.870455</td>\n",
       "    </tr>\n",
       "    <tr>\n",
       "      <th>std</th>\n",
       "      <td>0.468052</td>\n",
       "      <td>0.774272</td>\n",
       "      <td>12647.328865</td>\n",
       "      <td>7380.377175</td>\n",
       "      <td>9503.162829</td>\n",
       "      <td>4854.673333</td>\n",
       "      <td>4767.854448</td>\n",
       "      <td>2820.105937</td>\n",
       "    </tr>\n",
       "    <tr>\n",
       "      <th>min</th>\n",
       "      <td>1.000000</td>\n",
       "      <td>1.000000</td>\n",
       "      <td>3.000000</td>\n",
       "      <td>55.000000</td>\n",
       "      <td>3.000000</td>\n",
       "      <td>25.000000</td>\n",
       "      <td>3.000000</td>\n",
       "      <td>3.000000</td>\n",
       "    </tr>\n",
       "    <tr>\n",
       "      <th>25%</th>\n",
       "      <td>1.000000</td>\n",
       "      <td>2.000000</td>\n",
       "      <td>3127.750000</td>\n",
       "      <td>1533.000000</td>\n",
       "      <td>2153.000000</td>\n",
       "      <td>742.250000</td>\n",
       "      <td>256.750000</td>\n",
       "      <td>408.250000</td>\n",
       "    </tr>\n",
       "    <tr>\n",
       "      <th>50%</th>\n",
       "      <td>1.000000</td>\n",
       "      <td>3.000000</td>\n",
       "      <td>8504.000000</td>\n",
       "      <td>3627.000000</td>\n",
       "      <td>4755.500000</td>\n",
       "      <td>1526.000000</td>\n",
       "      <td>816.500000</td>\n",
       "      <td>965.500000</td>\n",
       "    </tr>\n",
       "    <tr>\n",
       "      <th>75%</th>\n",
       "      <td>2.000000</td>\n",
       "      <td>3.000000</td>\n",
       "      <td>16933.750000</td>\n",
       "      <td>7190.250000</td>\n",
       "      <td>10655.750000</td>\n",
       "      <td>3554.250000</td>\n",
       "      <td>3922.000000</td>\n",
       "      <td>1820.250000</td>\n",
       "    </tr>\n",
       "    <tr>\n",
       "      <th>max</th>\n",
       "      <td>2.000000</td>\n",
       "      <td>3.000000</td>\n",
       "      <td>112151.000000</td>\n",
       "      <td>73498.000000</td>\n",
       "      <td>92780.000000</td>\n",
       "      <td>60869.000000</td>\n",
       "      <td>40827.000000</td>\n",
       "      <td>47943.000000</td>\n",
       "    </tr>\n",
       "  </tbody>\n",
       "</table>\n",
       "</div>"
      ],
      "text/plain": [
       "          Channel      Region          Fresh          Milk       Grocery  \\\n",
       "count  440.000000  440.000000     440.000000    440.000000    440.000000   \n",
       "mean     1.322727    2.543182   12000.297727   5796.265909   7951.277273   \n",
       "std      0.468052    0.774272   12647.328865   7380.377175   9503.162829   \n",
       "min      1.000000    1.000000       3.000000     55.000000      3.000000   \n",
       "25%      1.000000    2.000000    3127.750000   1533.000000   2153.000000   \n",
       "50%      1.000000    3.000000    8504.000000   3627.000000   4755.500000   \n",
       "75%      2.000000    3.000000   16933.750000   7190.250000  10655.750000   \n",
       "max      2.000000    3.000000  112151.000000  73498.000000  92780.000000   \n",
       "\n",
       "             Frozen  Detergents_Paper    Delicassen  \n",
       "count    440.000000        440.000000    440.000000  \n",
       "mean    3071.931818       2881.493182   1524.870455  \n",
       "std     4854.673333       4767.854448   2820.105937  \n",
       "min       25.000000          3.000000      3.000000  \n",
       "25%      742.250000        256.750000    408.250000  \n",
       "50%     1526.000000        816.500000    965.500000  \n",
       "75%     3554.250000       3922.000000   1820.250000  \n",
       "max    60869.000000      40827.000000  47943.000000  "
      ]
     },
     "execution_count": 1002,
     "metadata": {},
     "output_type": "execute_result"
    }
   ],
   "source": [
    "data = pd.read_csv(\"Wholesale customers data.csv\")\n",
    "data.describe()"
   ]
  },
  {
   "cell_type": "code",
   "execution_count": 1019,
   "metadata": {},
   "outputs": [
    {
     "data": {
      "text/plain": [
       "<AxesSubplot:>"
      ]
     },
     "execution_count": 1019,
     "metadata": {},
     "output_type": "execute_result"
    },
    {
     "data": {
      "image/png": "[encoded data removed]",
      "text/plain": [
       "<Figure size 432x288 with 1 Axes>"
      ]
     },
     "metadata": {
      "needs_background": "light"
     },
     "output_type": "display_data"
    }
   ],
   "source": [
    "data.iloc[:,2:9].plot.box()"
   ]
  },
  {
   "cell_type": "code",
   "execution_count": 1042,
   "metadata": {},
   "outputs": [
    {
     "data": {
      "text/plain": [
       "<AxesSubplot:ylabel='Frequency'>"
      ]
     },
     "execution_count": 1042,
     "metadata": {},
     "output_type": "execute_result"
    },
    {
     "data": {
      "image/png": "[encoded data removed]",
      "text/plain": [
       "<Figure size 432x288 with 1 Axes>"
      ]
     },
     "metadata": {
      "needs_background": "light"
     },
     "output_type": "display_data"
    }
   ],
   "source": [
    "data.plot.hist()"
   ]
  },
  {
   "cell_type": "code",
   "execution_count": 992,
   "metadata": {},
   "outputs": [
    {
     "name": "stderr",
     "output_type": "stream",
     "text": [
      "/Users/a100/.pyenv/versions/anaconda3-5.1.0/lib/python3.8/site-packages/numpy/core/fromnumeric.py:3419: RuntimeWarning: Mean of empty slice.\n",
      "  return _methods._mean(a, axis=axis, dtype=dtype,\n",
      "/Users/a100/.pyenv/versions/anaconda3-5.1.0/lib/python3.8/site-packages/numpy/core/_methods.py:180: RuntimeWarning: invalid value encountered in true_divide\n",
      "  ret = um.true_divide(\n"
     ]
    }
   ],
   "source": [
    "X = data.values\n",
    "\n",
    "k = 10\n",
    "kms_list = np.zeros((k,1))\n",
    "i_list = []\n",
    "for i in range(k):\n",
    "    kms = ScratchKMeans1(n_clusters=i+1,n_init=1000, max_iter=10)\n",
    "    kms.fit(X)\n",
    "    kms_list[i] += kms.sse\n",
    "    i_list.append(i+1)"
   ]
  },
  {
   "cell_type": "code",
   "execution_count": 993,
   "metadata": {},
   "outputs": [
    {
     "data": {
      "text/plain": [
       "[<matplotlib.lines.Line2D at 0x7fae4e5782e0>]"
      ]
     },
     "execution_count": 993,
     "metadata": {},
     "output_type": "execute_result"
    },
    {
     "data": {
      "image/png": "[encoded data removed]",
      "text/plain": [
       "<Figure size 432x288 with 1 Axes>"
      ]
     },
     "metadata": {
      "needs_background": "light"
     },
     "output_type": "display_data"
    }
   ],
   "source": [
    "plt.plot(i_list,kms_list[:,0])"
   ]
  },
  {
   "cell_type": "code",
   "execution_count": null,
   "metadata": {},
   "outputs": [],
   "source": [
    "６つの特徴量を使うと５つのクラスに分類できることがわかる。"
   ]
  },
  {
   "cell_type": "code",
   "execution_count": 1059,
   "metadata": {},
   "outputs": [
    {
     "data": {
      "text/html": [
       "<div>\n",
       "<style scoped>\n",
       "    .dataframe tbody tr th:only-of-type {\n",
       "        vertical-align: middle;\n",
       "    }\n",
       "\n",
       "    .dataframe tbody tr th {\n",
       "        vertical-align: top;\n",
       "    }\n",
       "\n",
       "    .dataframe thead th {\n",
       "        text-align: right;\n",
       "    }\n",
       "</style>\n",
       "<table border=\"1\" class=\"dataframe\">\n",
       "  <thead>\n",
       "    <tr style=\"text-align: right;\">\n",
       "      <th></th>\n",
       "      <th>Grocery</th>\n",
       "      <th>Frozen</th>\n",
       "      <th>Detergents_Paper</th>\n",
       "      <th>Delicassen</th>\n",
       "    </tr>\n",
       "  </thead>\n",
       "  <tbody>\n",
       "    <tr>\n",
       "      <th>0</th>\n",
       "      <td>7561</td>\n",
       "      <td>214</td>\n",
       "      <td>2674</td>\n",
       "      <td>1338</td>\n",
       "    </tr>\n",
       "    <tr>\n",
       "      <th>1</th>\n",
       "      <td>9568</td>\n",
       "      <td>1762</td>\n",
       "      <td>3293</td>\n",
       "      <td>1776</td>\n",
       "    </tr>\n",
       "    <tr>\n",
       "      <th>2</th>\n",
       "      <td>7684</td>\n",
       "      <td>2405</td>\n",
       "      <td>3516</td>\n",
       "      <td>7844</td>\n",
       "    </tr>\n",
       "    <tr>\n",
       "      <th>3</th>\n",
       "      <td>4221</td>\n",
       "      <td>6404</td>\n",
       "      <td>507</td>\n",
       "      <td>1788</td>\n",
       "    </tr>\n",
       "    <tr>\n",
       "      <th>4</th>\n",
       "      <td>7198</td>\n",
       "      <td>3915</td>\n",
       "      <td>1777</td>\n",
       "      <td>5185</td>\n",
       "    </tr>\n",
       "    <tr>\n",
       "      <th>...</th>\n",
       "      <td>...</td>\n",
       "      <td>...</td>\n",
       "      <td>...</td>\n",
       "      <td>...</td>\n",
       "    </tr>\n",
       "    <tr>\n",
       "      <th>435</th>\n",
       "      <td>16027</td>\n",
       "      <td>13135</td>\n",
       "      <td>182</td>\n",
       "      <td>2204</td>\n",
       "    </tr>\n",
       "    <tr>\n",
       "      <th>436</th>\n",
       "      <td>764</td>\n",
       "      <td>4510</td>\n",
       "      <td>93</td>\n",
       "      <td>2346</td>\n",
       "    </tr>\n",
       "    <tr>\n",
       "      <th>437</th>\n",
       "      <td>30243</td>\n",
       "      <td>437</td>\n",
       "      <td>14841</td>\n",
       "      <td>1867</td>\n",
       "    </tr>\n",
       "    <tr>\n",
       "      <th>438</th>\n",
       "      <td>2232</td>\n",
       "      <td>1038</td>\n",
       "      <td>168</td>\n",
       "      <td>2125</td>\n",
       "    </tr>\n",
       "    <tr>\n",
       "      <th>439</th>\n",
       "      <td>2510</td>\n",
       "      <td>65</td>\n",
       "      <td>477</td>\n",
       "      <td>52</td>\n",
       "    </tr>\n",
       "  </tbody>\n",
       "</table>\n",
       "<p>440 rows × 4 columns</p>\n",
       "</div>"
      ],
      "text/plain": [
       "     Grocery  Frozen  Detergents_Paper  Delicassen\n",
       "0       7561     214              2674        1338\n",
       "1       9568    1762              3293        1776\n",
       "2       7684    2405              3516        7844\n",
       "3       4221    6404               507        1788\n",
       "4       7198    3915              1777        5185\n",
       "..       ...     ...               ...         ...\n",
       "435    16027   13135               182        2204\n",
       "436      764    4510                93        2346\n",
       "437    30243     437             14841        1867\n",
       "438     2232    1038               168        2125\n",
       "439     2510      65               477          52\n",
       "\n",
       "[440 rows x 4 columns]"
      ]
     },
     "execution_count": 1059,
     "metadata": {},
     "output_type": "execute_result"
    }
   ],
   "source": [
    "data2 = data.iloc[:,4:]\n",
    "data2"
   ]
  },
  {
   "cell_type": "code",
   "execution_count": 1060,
   "metadata": {},
   "outputs": [
    {
     "name": "stderr",
     "output_type": "stream",
     "text": [
      "/Users/a100/.pyenv/versions/anaconda3-5.1.0/lib/python3.8/site-packages/numpy/core/fromnumeric.py:3419: RuntimeWarning: Mean of empty slice.\n",
      "  return _methods._mean(a, axis=axis, dtype=dtype,\n",
      "/Users/a100/.pyenv/versions/anaconda3-5.1.0/lib/python3.8/site-packages/numpy/core/_methods.py:180: RuntimeWarning: invalid value encountered in true_divide\n",
      "  ret = um.true_divide(\n"
     ]
    }
   ],
   "source": [
    "X = data2.values\n",
    "\n",
    "k = 10\n",
    "kms_list = np.zeros((k,1))\n",
    "i_list = []\n",
    "for i in range(k):\n",
    "    kms = ScratchKMeans1(n_clusters=i+1,n_init=1000, max_iter=10)\n",
    "    kms.fit(X)\n",
    "    kms_list[i] += kms.sse\n",
    "    i_list.append(i+1)"
   ]
  },
  {
   "cell_type": "code",
   "execution_count": 1061,
   "metadata": {},
   "outputs": [
    {
     "data": {
      "text/plain": [
       "[<matplotlib.lines.Line2D at 0x7fae37273160>]"
      ]
     },
     "execution_count": 1061,
     "metadata": {},
     "output_type": "execute_result"
    },
    {
     "data": {
      "image/png": "[encoded data removed]",
      "text/plain": [
       "<Figure size 432x288 with 1 Axes>"
      ]
     },
     "metadata": {
      "needs_background": "light"
     },
     "output_type": "display_data"
    }
   ],
   "source": [
    "plt.plot(i_list,kms_list[:,0])"
   ]
  },
  {
   "cell_type": "markdown",
   "metadata": {},
   "source": [
    "後半４つの特徴量は２、３の特徴量に分けれると考えられる。"
   ]
  },
  {
   "cell_type": "markdown",
   "metadata": {},
   "source": [
    "地域の差も多少あるが、経路の違いで大きく買われた額の平均値が違う。\n",
    "それぞれの値にばらつきが激しいことがわかった。"
   ]
  },
  {
   "cell_type": "markdown",
   "metadata": {},
   "source": [
    "### 4.他の非階層クラスタリング手法\n",
    "\n",
    "\n",
    "#### 【問題13】（アドバンス課題）他の手法の調査\n",
    "今回扱ったK-means以外に非階層クラスタリングで有名な手法としては DBSCAN 、\n",
    "PCA以外に次元削減手法で有名な手法としては t-SNE や LLE があります。\n",
    "\n",
    "DBSCANのメリット・デメリット\n",
    "t-SNE、LLEのメリット・デメリット\n",
    "\n",
    "について記述してください。\n"
   ]
  },
  {
   "cell_type": "markdown",
   "metadata": {},
   "source": [
    "#### DBSCAN \n",
    "メリット：クラスタ数を設定する必要がない\n",
    "                    ノイズの除去ができる  \n",
    "                    クラスターが再帰的に決定されていくため、外れ値（outlier）の影響を受けにくい  \n",
    "デメリット：計算にもそれなりの時間がかかるということ。リアルタイム性が求められるような場合には不向き\n",
    "                    データが密集していると、適切なパラメータを決めるのが難しい  \n",
    "#### tーSNE\n",
    "メリット：   高次元の局所的な構造を非常によく捉える  \n",
    "                    大局的な構造も可能な限り捉える  \n",
    "デメリット：Perplexity(内部のパラメータ)を変えると全くことなるクラスターが出現してしまう  \n",
    "#### LLE\n",
    "メリット：距離の近いサンプルは見える化・可視化したあとも(２次元平面上でも)近くなるようにしよう"
   ]
  },
  {
   "cell_type": "markdown",
   "metadata": {},
   "source": [
    "#### 【問題14】（アドバンス課題）t-SNEとDBSCANの利用\n",
    "Wholesale customersのデータに対して、PCAではなく、 t-SNE を用いて次元削減をしてください。さらにK-meansではなく、 DBSCAN を用いてクラスタリングしてください。\n",
    "\n",
    "そのクラスタリング結果をPCA+kmeansの場合の結果と比較してみましょう。実装にはscikit-learnを用いてください。\n",
    "\n",
    "\n",
    "[sklearn.manifold.TSNE — scikit-learn 0.20.2 documentation](https://scikit-learn.org/stable/modules/generated/sklearn.manifold.TSNE.html)\n",
    "\n",
    "[sklearn.cluster.DBSCAN — scikit-learn 0.20.2 documentation](https://scikit-learn.org/stable/modules/generated/sklearn.cluster.DBSCAN.html)\n",
    "\n",
    "《パラメーターチューニング》\n",
    "\n",
    "これらはK-meansやPCAに比べパラメーターチューニングが難しい手法です。scikit-learnのドキュメントと共に論文も参考にしながらパラメータの意味を確認することも大切になります。\n",
    "\n",
    "[t-SNEの論文](http://www.jmlr.org/papers/volume9/vandermaaten08a/vandermaaten08a.pdf)\n",
    "\n",
    "[DBSCANの論文](https://www.aaai.org/Papers/KDD/1996/KDD96-037.pdf)"
   ]
  },
  {
   "cell_type": "code",
   "execution_count": 1104,
   "metadata": {},
   "outputs": [
    {
     "data": {
      "text/html": [
       "<div>\n",
       "<style scoped>\n",
       "    .dataframe tbody tr th:only-of-type {\n",
       "        vertical-align: middle;\n",
       "    }\n",
       "\n",
       "    .dataframe tbody tr th {\n",
       "        vertical-align: top;\n",
       "    }\n",
       "\n",
       "    .dataframe thead th {\n",
       "        text-align: right;\n",
       "    }\n",
       "</style>\n",
       "<table border=\"1\" class=\"dataframe\">\n",
       "  <thead>\n",
       "    <tr style=\"text-align: right;\">\n",
       "      <th></th>\n",
       "      <th>Fresh</th>\n",
       "      <th>Milk</th>\n",
       "      <th>Grocery</th>\n",
       "      <th>Frozen</th>\n",
       "      <th>Detergents_Paper</th>\n",
       "      <th>Delicassen</th>\n",
       "    </tr>\n",
       "  </thead>\n",
       "  <tbody>\n",
       "    <tr>\n",
       "      <th>0</th>\n",
       "      <td>12669</td>\n",
       "      <td>9656</td>\n",
       "      <td>7561</td>\n",
       "      <td>214</td>\n",
       "      <td>2674</td>\n",
       "      <td>1338</td>\n",
       "    </tr>\n",
       "    <tr>\n",
       "      <th>1</th>\n",
       "      <td>7057</td>\n",
       "      <td>9810</td>\n",
       "      <td>9568</td>\n",
       "      <td>1762</td>\n",
       "      <td>3293</td>\n",
       "      <td>1776</td>\n",
       "    </tr>\n",
       "    <tr>\n",
       "      <th>2</th>\n",
       "      <td>6353</td>\n",
       "      <td>8808</td>\n",
       "      <td>7684</td>\n",
       "      <td>2405</td>\n",
       "      <td>3516</td>\n",
       "      <td>7844</td>\n",
       "    </tr>\n",
       "    <tr>\n",
       "      <th>3</th>\n",
       "      <td>13265</td>\n",
       "      <td>1196</td>\n",
       "      <td>4221</td>\n",
       "      <td>6404</td>\n",
       "      <td>507</td>\n",
       "      <td>1788</td>\n",
       "    </tr>\n",
       "    <tr>\n",
       "      <th>4</th>\n",
       "      <td>22615</td>\n",
       "      <td>5410</td>\n",
       "      <td>7198</td>\n",
       "      <td>3915</td>\n",
       "      <td>1777</td>\n",
       "      <td>5185</td>\n",
       "    </tr>\n",
       "    <tr>\n",
       "      <th>...</th>\n",
       "      <td>...</td>\n",
       "      <td>...</td>\n",
       "      <td>...</td>\n",
       "      <td>...</td>\n",
       "      <td>...</td>\n",
       "      <td>...</td>\n",
       "    </tr>\n",
       "    <tr>\n",
       "      <th>435</th>\n",
       "      <td>29703</td>\n",
       "      <td>12051</td>\n",
       "      <td>16027</td>\n",
       "      <td>13135</td>\n",
       "      <td>182</td>\n",
       "      <td>2204</td>\n",
       "    </tr>\n",
       "    <tr>\n",
       "      <th>436</th>\n",
       "      <td>39228</td>\n",
       "      <td>1431</td>\n",
       "      <td>764</td>\n",
       "      <td>4510</td>\n",
       "      <td>93</td>\n",
       "      <td>2346</td>\n",
       "    </tr>\n",
       "    <tr>\n",
       "      <th>437</th>\n",
       "      <td>14531</td>\n",
       "      <td>15488</td>\n",
       "      <td>30243</td>\n",
       "      <td>437</td>\n",
       "      <td>14841</td>\n",
       "      <td>1867</td>\n",
       "    </tr>\n",
       "    <tr>\n",
       "      <th>438</th>\n",
       "      <td>10290</td>\n",
       "      <td>1981</td>\n",
       "      <td>2232</td>\n",
       "      <td>1038</td>\n",
       "      <td>168</td>\n",
       "      <td>2125</td>\n",
       "    </tr>\n",
       "    <tr>\n",
       "      <th>439</th>\n",
       "      <td>2787</td>\n",
       "      <td>1698</td>\n",
       "      <td>2510</td>\n",
       "      <td>65</td>\n",
       "      <td>477</td>\n",
       "      <td>52</td>\n",
       "    </tr>\n",
       "  </tbody>\n",
       "</table>\n",
       "<p>440 rows × 6 columns</p>\n",
       "</div>"
      ],
      "text/plain": [
       "     Fresh   Milk  Grocery  Frozen  Detergents_Paper  Delicassen\n",
       "0    12669   9656     7561     214              2674        1338\n",
       "1     7057   9810     9568    1762              3293        1776\n",
       "2     6353   8808     7684    2405              3516        7844\n",
       "3    13265   1196     4221    6404               507        1788\n",
       "4    22615   5410     7198    3915              1777        5185\n",
       "..     ...    ...      ...     ...               ...         ...\n",
       "435  29703  12051    16027   13135               182        2204\n",
       "436  39228   1431      764    4510                93        2346\n",
       "437  14531  15488    30243     437             14841        1867\n",
       "438  10290   1981     2232    1038               168        2125\n",
       "439   2787   1698     2510      65               477          52\n",
       "\n",
       "[440 rows x 6 columns]"
      ]
     },
     "execution_count": 1104,
     "metadata": {},
     "output_type": "execute_result"
    }
   ],
   "source": [
    "data = pd.read_csv(\"Wholesale customers data.csv\")\n",
    "data = data.iloc[:,2:]\n",
    "data"
   ]
  },
  {
   "cell_type": "code",
   "execution_count": 1106,
   "metadata": {},
   "outputs": [
    {
     "data": {
      "text/plain": [
       "array([[-4.48951989e-01,  4.54941416e+00],\n",
       "       [ 8.32438469e+00,  4.69604588e+00],\n",
       "       [ 8.30142879e+00,  2.70308208e+00],\n",
       "       [-1.70116482e+01, -7.63954210e+00],\n",
       "       [-2.51355762e+01,  1.22488909e+01],\n",
       "       [ 1.48971903e+00, -1.40178490e+00],\n",
       "       [-2.93900967e+00, -7.08198786e-01],\n",
       "       [ 7.44427824e+00,  8.52680862e-01],\n",
       "       [ 8.68538952e+00, -1.40105848e+01],\n",
       "       [ 1.16037636e+01,  1.99299698e+01],\n",
       "       [ 1.56055098e+01,  6.77272415e+00],\n",
       "       [-1.44441795e+01, -9.99994183e+00],\n",
       "       [-2.41024418e+01,  1.94440308e+01],\n",
       "       [-1.81665516e+01,  1.55107527e+01],\n",
       "       [-2.05151958e+01,  1.64481297e+01],\n",
       "       [-6.39992142e+00, -1.63687592e+01],\n",
       "       [ 1.97938309e+01,  8.82266712e+00],\n",
       "       [ 7.46438599e+00, -1.60757275e+01],\n",
       "       [-1.60293999e+01,  1.17004185e+01],\n",
       "       [ 5.77433205e+00, -1.53192818e+00],\n",
       "       [-1.89886570e+01,  2.63964367e+00],\n",
       "       [ 6.83514690e+00, -2.66626110e+01],\n",
       "       [-3.06032619e+01,  1.84964027e+01],\n",
       "       [ 5.92527533e+00,  2.97799339e+01],\n",
       "       [-1.90907040e+01,  1.65280514e+01],\n",
       "       [-1.47920446e+01,  5.57870722e+00],\n",
       "       [-8.64386272e+00, -1.89317455e+01],\n",
       "       [-1.84430199e+01, -1.00721664e+01],\n",
       "       [ 1.33622732e+01,  2.83185368e+01],\n",
       "       [-3.16069984e+01,  2.40395164e+01],\n",
       "       [-1.60253696e+01,  1.16913395e+01],\n",
       "       [ 1.81751785e+01, -1.74738369e+01],\n",
       "       [-2.80377483e+01,  4.50130892e+00],\n",
       "       [-2.83033314e+01,  1.80384407e+01],\n",
       "       [ 2.20061970e+01, -2.39062328e+01],\n",
       "       [ 2.04789467e+01,  3.65602374e+00],\n",
       "       [-2.95226765e+01,  1.70689640e+01],\n",
       "       [ 1.20768762e+00,  1.07471247e+01],\n",
       "       [ 1.32467756e+01,  2.05041924e+01],\n",
       "       [-3.28840790e+01,  2.76411552e+01],\n",
       "       [-2.75192757e+01,  1.32185574e+01],\n",
       "       [-2.06995220e+01,  4.48848629e+00],\n",
       "       [ 4.43491793e+00,  1.01731396e+01],\n",
       "       [ 1.68440418e+01,  2.47493877e+01],\n",
       "       [ 4.77035904e+00,  5.16422701e+00],\n",
       "       [ 1.19282856e+01,  2.62183304e+01],\n",
       "       [ 1.39435835e+01,  2.30706844e+01],\n",
       "       [ 6.90942574e+00,  3.44975471e+01],\n",
       "       [ 2.76797175e+00,  5.73571682e+00],\n",
       "       [ 1.21551552e+01,  2.94670219e+01],\n",
       "       [ 3.44954515e+00, -2.63644676e+01],\n",
       "       [ 1.73854713e+01, -1.03471594e+01],\n",
       "       [-3.00836105e+01,  2.32455444e+01],\n",
       "       [ 2.07806454e+01,  1.02291403e+01],\n",
       "       [-3.26160164e+01,  1.33666182e+01],\n",
       "       [ 9.78799820e+00, -1.52381239e+01],\n",
       "       [ 1.20037842e+01,  3.07301865e+01],\n",
       "       [ 1.32914553e+01,  8.47455120e+00],\n",
       "       [-1.75978394e+01, -1.16732492e+01],\n",
       "       [ 9.18145370e+00, -5.46933770e-01],\n",
       "       [ 3.70168567e+00, -1.47335923e+00],\n",
       "       [ 7.37085247e+00,  3.37975464e+01],\n",
       "       [ 4.69136858e+00, -3.72476220e-01],\n",
       "       [ 7.81453228e+00,  1.82705078e+01],\n",
       "       [ 1.06782160e+01, -2.23578930e+01],\n",
       "       [ 1.17372160e+01,  3.33589783e+01],\n",
       "       [ 2.26414795e+01, -1.01168203e+01],\n",
       "       [-1.73136158e+01,  1.43563919e+01],\n",
       "       [ 1.61744785e+01, -1.17739639e+01],\n",
       "       [-2.70179892e+00, -2.26649837e+01],\n",
       "       [-2.47687569e+01, -1.27421844e+00],\n",
       "       [-1.65702896e+01,  1.60132160e+01],\n",
       "       [ 7.94316959e+00, -1.78257942e+01],\n",
       "       [-1.97214127e+01,  1.01500187e+01],\n",
       "       [ 6.33590889e+00,  2.34383035e+00],\n",
       "       [-3.21829948e+01,  2.67499948e+00],\n",
       "       [ 1.98668461e+01, -1.20203943e+01],\n",
       "       [ 9.93845463e+00,  2.80660572e+01],\n",
       "       [-1.17703209e+01, -1.81520538e+01],\n",
       "       [ 2.08642139e+01, -1.76401596e+01],\n",
       "       [ 4.29934406e+00, -2.35432930e+01],\n",
       "       [ 2.12393246e+01,  1.55253963e+01],\n",
       "       [ 3.79119778e+00,  6.97789764e+00],\n",
       "       [-3.03614521e+01,  2.45745707e+00],\n",
       "       [-4.17769289e+00, -2.55205798e+00],\n",
       "       [ 8.50418758e+00,  3.55052338e+01],\n",
       "       [ 8.36768723e+00,  3.37758942e+01],\n",
       "       [-2.92900257e+01,  2.47395306e+01],\n",
       "       [-4.82378912e+00, -1.94912434e+01],\n",
       "       [-2.86740284e+01,  1.25897999e+01],\n",
       "       [-1.46022043e+01, -1.73109055e+01],\n",
       "       [-1.72972889e+01, -9.11403179e+00],\n",
       "       [ 1.04934769e+01,  3.10876369e+01],\n",
       "       [-2.34863529e+01, -4.80138302e+00],\n",
       "       [ 1.29229612e+01,  1.00119982e+01],\n",
       "       [ 2.27780724e+01, -1.27923279e+01],\n",
       "       [ 2.21908951e+01, -8.20508480e+00],\n",
       "       [ 2.48062630e+01, -2.89659100e+01],\n",
       "       [ 2.35953808e+01, -2.86798878e+01],\n",
       "       [-9.99139690e+00, -1.83985691e+01],\n",
       "       [ 3.04310584e+00,  8.85715580e+00],\n",
       "       [ 1.72019730e+01,  1.67348900e+01],\n",
       "       [ 1.58848810e+01, -4.81823415e-01],\n",
       "       [-3.03867493e+01,  2.82545834e+01],\n",
       "       [-1.59345818e+01, -8.42775726e+00],\n",
       "       [-2.02225494e+01, -6.59240818e+00],\n",
       "       [ 2.00157757e+01,  5.65370655e+00],\n",
       "       [ 8.33825302e+00,  1.71230717e+01],\n",
       "       [ 1.87533875e+01, -2.75822473e+00],\n",
       "       [ 1.45211058e+01,  2.63596935e+01],\n",
       "       [-1.38056717e+01, -1.50142050e+01],\n",
       "       [ 4.95074368e+00,  1.81469250e+01],\n",
       "       [-2.71709652e+01,  2.97020483e+00],\n",
       "       [-1.98561192e+01, -8.72811890e+00],\n",
       "       [-2.79809952e+01, -2.88490152e+00],\n",
       "       [-1.17335768e+01, -1.60097752e+01],\n",
       "       [-1.04898634e+01, -1.36819744e+01],\n",
       "       [ 6.24873209e+00, -1.49212418e+01],\n",
       "       [-2.87144470e+01,  2.67264509e+00],\n",
       "       [-3.81445599e+00, -2.06967525e+01],\n",
       "       [-2.43304501e+01, -3.58213830e+00],\n",
       "       [ 1.32441120e+01, -2.44290771e+01],\n",
       "       [-1.71802807e+01, -1.76975212e+01],\n",
       "       [ 1.45027673e+00,  5.47137880e+00],\n",
       "       [-3.18218040e+01,  2.04150906e+01],\n",
       "       [-3.22734184e+01,  2.97512722e+01],\n",
       "       [-2.98435173e+01,  1.19362307e+00],\n",
       "       [-1.89645863e+01,  1.31843138e+01],\n",
       "       [ 2.12817955e+01, -9.81271553e+00],\n",
       "       [-3.28544159e+01,  2.39929523e+01],\n",
       "       [-1.85191131e+00, -2.48086185e+01],\n",
       "       [ 2.08371181e+01, -2.90563240e+01],\n",
       "       [-1.87598209e+01, -7.87301874e+00],\n",
       "       [-8.26152134e+00, -2.29136333e+01],\n",
       "       [ 1.42729354e+00, -2.38783932e+01],\n",
       "       [ 5.49584627e+00, -2.48535442e+01],\n",
       "       [ 1.09368687e+01, -4.25947234e-02],\n",
       "       [ 1.60139904e+01, -2.25923371e+00],\n",
       "       [-7.32639027e+00, -2.58947134e+00],\n",
       "       [ 9.05768013e+00, -1.71108208e+01],\n",
       "       [-1.80431347e+01,  4.63072729e+00],\n",
       "       [-2.64818687e+01,  1.85200348e+01],\n",
       "       [-2.88436298e+01,  2.17486210e+01],\n",
       "       [-1.33728886e+01, -1.70397491e+01],\n",
       "       [-2.51578884e+01,  1.27368167e-01],\n",
       "       [ 7.11230850e+00,  2.92262383e+01],\n",
       "       [-2.69391090e-01, -2.35044022e+01],\n",
       "       [-4.37873507e+00, -1.69065990e+01],\n",
       "       [ 5.69748211e+00, -3.01575985e+01],\n",
       "       [-3.20508423e+01,  1.73489895e+01],\n",
       "       [-2.27111759e+01, -6.73734570e+00],\n",
       "       [ 2.23967133e+01, -2.23590488e+01],\n",
       "       [-2.70454426e+01, -1.48364846e-02],\n",
       "       [ 1.57616739e+01, -1.33619032e+01],\n",
       "       [ 2.31012650e+01, -2.98717403e+01],\n",
       "       [ 1.55260963e+01,  2.17548828e+01],\n",
       "       [ 1.62730255e+01,  1.04269238e+01],\n",
       "       [-2.54882622e+01, -2.53684282e+00],\n",
       "       [ 1.63559742e+01,  1.74532759e+00],\n",
       "       [ 2.05466824e+01,  1.45350780e+01],\n",
       "       [ 1.91485977e+01,  4.28903532e+00],\n",
       "       [-1.73095551e+01, -1.60304966e+01],\n",
       "       [-1.90370121e+01, -5.81170464e+00],\n",
       "       [ 1.20383072e+01,  2.78511105e+01],\n",
       "       [ 1.11326790e+01,  1.63863444e+00],\n",
       "       [ 5.21497059e+00,  2.06726570e+01],\n",
       "       [ 1.21826124e+01,  2.68619251e+00],\n",
       "       [ 1.77106857e+01, -1.88184776e+01],\n",
       "       [ 7.68486357e+00, -2.96214886e+01],\n",
       "       [ 8.54612350e+00, -2.70361004e+01],\n",
       "       [ 2.07478409e+01,  1.21595736e+01],\n",
       "       [ 1.50128984e+01,  2.76679306e+01],\n",
       "       [ 2.04080162e+01, -8.44175243e+00],\n",
       "       [ 1.74141464e+01,  1.97445564e+01],\n",
       "       [ 2.38476868e+01, -1.83640976e+01],\n",
       "       [ 1.83082867e+01,  7.34311104e+00],\n",
       "       [-3.04276066e+01,  2.52730160e+01],\n",
       "       [-5.87509012e+00, -1.28389764e+00],\n",
       "       [-2.80162477e+00, -2.06084943e+00],\n",
       "       [ 1.51893578e+01, -1.92046623e+01],\n",
       "       [-1.67026818e+00,  2.89533162e+00],\n",
       "       [-3.16811028e+01,  3.11826630e+01],\n",
       "       [ 2.11758194e+01,  7.90978098e+00],\n",
       "       [ 4.41968060e+00,  3.04822330e+01],\n",
       "       [ 2.42551975e+01, -1.99578667e+01],\n",
       "       [-1.56539118e+00, -1.77575073e+01],\n",
       "       [ 1.57974281e+01, -2.85429173e+01],\n",
       "       [ 1.58232327e+01,  3.27259135e+00],\n",
       "       [ 7.06303501e+00,  6.61009455e+00],\n",
       "       [ 1.93853703e+01,  1.06539917e+01],\n",
       "       [-2.27321186e+01,  3.60881120e-01],\n",
       "       [-1.32097082e+01, -6.31639814e+00],\n",
       "       [ 8.74670982e+00, -2.55480270e+01],\n",
       "       [ 2.13088188e+01,  1.56434422e+01],\n",
       "       [ 2.82672882e+00, -2.34017849e+01],\n",
       "       [-2.01381035e+01,  3.22801113e+00],\n",
       "       [-2.92016354e+01,  1.96419525e+01],\n",
       "       [ 1.75540295e+01,  3.65454841e+00],\n",
       "       [-5.12777948e+00, -3.36166430e+00],\n",
       "       [-6.86098766e+00, -1.92180576e+01],\n",
       "       [ 1.38945179e+01,  2.47301559e+01],\n",
       "       [ 1.31579733e+01,  2.67643127e+01],\n",
       "       [-2.23084469e+01,  1.63854580e+01],\n",
       "       [ 2.48631020e+01, -2.50850296e+01],\n",
       "       [ 2.06136856e+01, -1.92418671e+01],\n",
       "       [ 1.54317226e+01,  2.44292679e+01],\n",
       "       [ 5.87738180e+00, -2.87374725e+01],\n",
       "       [ 1.79560947e+01, -8.09379864e+00],\n",
       "       [ 1.97067432e+01, -1.05068550e+01],\n",
       "       [ 1.21721907e+01,  2.14049664e+01],\n",
       "       [-2.86220417e+01, -1.40671599e+00],\n",
       "       [ 1.00940647e+01,  3.23594856e+01],\n",
       "       [ 1.33005655e+00, -2.63153744e+01],\n",
       "       [ 1.60058765e+01, -2.41204619e+00],\n",
       "       [ 1.82622242e+01,  6.02824163e+00],\n",
       "       [ 1.64851742e+01,  1.49103765e+01],\n",
       "       [ 1.33426323e+01,  3.08380489e+01],\n",
       "       [-2.66776524e+01, -3.11604047e+00],\n",
       "       [ 1.95352898e+01,  1.28941660e+01],\n",
       "       [ 1.25632725e+01, -2.89107323e+01],\n",
       "       [-2.06245975e+01, -1.04469948e+01],\n",
       "       [ 1.23727827e+01,  4.45951748e+00],\n",
       "       [ 6.85910177e+00, -2.46910400e+01],\n",
       "       [ 1.65097408e+01, -1.58520918e+01],\n",
       "       [ 1.78657377e+00, -2.94437523e+01],\n",
       "       [-1.21471834e+01, -9.60900497e+00],\n",
       "       [-1.87230988e+01,  1.13457413e+01],\n",
       "       [ 1.28857718e+01, -2.60008812e+01],\n",
       "       [ 2.16483765e+01, -2.55037518e+01],\n",
       "       [-5.79977465e+00, -1.78427067e+01],\n",
       "       [-4.39511347e+00, -8.16200614e-01],\n",
       "       [ 1.75734501e+01, -6.73481750e+00],\n",
       "       [-3.01945000e+01,  1.15166216e+01],\n",
       "       [ 2.20156326e+01, -1.63754139e+01],\n",
       "       [-2.04512539e+01, -3.57929420e+00],\n",
       "       [ 1.97932358e+01, -1.49313097e+01],\n",
       "       [-4.02282858e+00, -2.18355370e+01],\n",
       "       [-2.86633377e+01,  9.30903256e-02],\n",
       "       [ 3.96265721e+00, -3.01289921e+01],\n",
       "       [-3.25775261e+01,  2.56752415e+01],\n",
       "       [-2.53386688e+01,  1.22534599e+01],\n",
       "       [-3.13010654e+01,  1.03750286e+01],\n",
       "       [-2.71618347e+01, -1.58523762e+00],\n",
       "       [-3.79100895e+00, -4.31423664e+00],\n",
       "       [ 1.03070030e+01,  4.29632139e+00],\n",
       "       [ 1.74750233e+01,  1.13133526e+01],\n",
       "       [-5.77811670e+00, -2.07864742e+01],\n",
       "       [-1.32063456e+01, -6.30847645e+00],\n",
       "       [-1.90823841e+01, -4.10119534e+00],\n",
       "       [-3.08915329e+00, -1.81194210e+01],\n",
       "       [ 1.62665329e+01, -2.55158958e+01],\n",
       "       [ 1.17581968e+01,  3.17949047e+01],\n",
       "       [ 3.17040873e+00, -1.74368763e+01],\n",
       "       [-2.25206985e+01,  1.90173264e+01],\n",
       "       [ 1.85935962e+00,  6.88650990e+00],\n",
       "       [-3.32039032e+01,  1.71390896e+01],\n",
       "       [-3.02559066e+00, -3.40363574e+00],\n",
       "       [-4.10409117e+00, -1.84623241e+01],\n",
       "       [-3.16467152e+01,  2.77221489e+01],\n",
       "       [-3.01279831e+01,  2.69415588e+01],\n",
       "       [-3.62403226e+00, -1.60011978e+01],\n",
       "       [-7.04348040e+00, -2.39958839e+01],\n",
       "       [-3.13042355e+01,  6.79401827e+00],\n",
       "       [ 1.88086014e+01, -1.32509394e+01],\n",
       "       [ 1.86071758e+01,  1.50076456e+01],\n",
       "       [ 9.21348763e+00,  1.96135159e+01],\n",
       "       [ 1.71148987e+01,  2.13080177e+01],\n",
       "       [-2.92095718e+01,  4.88753843e+00],\n",
       "       [ 4.95742321e+00,  1.81449490e+01],\n",
       "       [-2.19532452e+01, -9.78148556e+00],\n",
       "       [ 9.11609268e+00, -2.89901199e+01],\n",
       "       [ 1.94278736e+01, -2.08913250e+01],\n",
       "       [ 2.03188515e+01, -5.87248945e+00],\n",
       "       [-3.31445694e+01,  2.09958916e+01],\n",
       "       [ 2.33319454e+01, -2.46987286e+01],\n",
       "       [ 2.24238434e+01, -2.81767178e+01],\n",
       "       [-2.86144905e+01,  1.57184849e+01],\n",
       "       [-1.49524660e+01, -1.85674667e+01],\n",
       "       [-1.44849739e+01, -1.20978394e+01],\n",
       "       [-1.58271523e+01,  8.85791206e+00],\n",
       "       [ 1.61277828e+01, -2.23435478e+01],\n",
       "       [-2.86670947e+00,  1.07373822e+00],\n",
       "       [-3.14345779e+01,  2.62025375e+01],\n",
       "       [-3.11829643e+01,  1.39230175e+01],\n",
       "       [-3.10882854e+01,  2.95346127e+01],\n",
       "       [-3.23334465e+01,  2.28011646e+01],\n",
       "       [ 2.20643616e+00, -2.51379051e+01],\n",
       "       [-2.21216965e+01, -4.37921572e+00],\n",
       "       [-2.27785454e+01, -8.40117931e+00],\n",
       "       [-3.40341759e+01,  2.39486141e+01],\n",
       "       [ 1.83114109e+01, -2.19529114e+01],\n",
       "       [ 6.54119921e+00, -1.94052658e+01],\n",
       "       [ 1.67019939e+01, -1.73195133e+01],\n",
       "       [ 1.49938326e+01,  1.14188128e+01],\n",
       "       [-2.37406616e+01,  5.32350540e+00],\n",
       "       [ 5.31017685e+00, -1.60373478e+01],\n",
       "       [-2.53274994e+01,  1.66172504e+00],\n",
       "       [ 4.25870895e+00, -2.69379663e+00],\n",
       "       [ 9.31988430e+00,  1.52544284e+00],\n",
       "       [ 2.40380573e+01, -2.60720348e+01],\n",
       "       [-1.61879578e+01,  5.95081568e+00],\n",
       "       [ 1.02742004e+01,  2.32230148e+01],\n",
       "       [ 1.77819672e+01,  2.14749384e+00],\n",
       "       [ 1.82835693e+01,  9.44681740e+00],\n",
       "       [ 1.72107086e+01,  2.34602852e+01],\n",
       "       [ 2.01023540e+01,  7.25531197e+00],\n",
       "       [ 1.02638550e+01,  2.32250462e+01],\n",
       "       [-2.31574001e+01, -2.72240162e+00],\n",
       "       [ 3.65141058e+00, -2.47030506e+01],\n",
       "       [ 1.56576405e+01,  2.04035854e+01],\n",
       "       [-5.27923870e+00, -2.20083618e+01],\n",
       "       [-2.78996716e+01,  1.68115940e+01],\n",
       "       [ 1.62675781e+01,  1.90715580e+01],\n",
       "       [-1.04022198e+01, -1.96096287e+01],\n",
       "       [-1.70365655e+00, -3.72504067e+00],\n",
       "       [ 1.77445946e+01,  1.35417233e+01],\n",
       "       [ 5.72706640e-01, -2.50998478e+01],\n",
       "       [ 2.10188904e+01, -1.30799990e+01],\n",
       "       [-1.19544706e+01, -1.17006874e+01],\n",
       "       [ 1.02469263e+01,  2.66696129e+01],\n",
       "       [ 2.11144352e+01, -2.13409996e+01],\n",
       "       [-2.87378240e+00, -1.48372250e+01],\n",
       "       [-2.13579311e+01, -5.56843901e+00],\n",
       "       [-3.19982433e+00,  2.47044277e+00],\n",
       "       [-3.15188160e+01,  1.22169933e+01],\n",
       "       [-2.69021034e+01,  2.38598595e+01],\n",
       "       [ 1.08963585e+01, -2.67118034e+01],\n",
       "       [ 2.42542648e+01, -2.73449612e+01],\n",
       "       [-2.35406990e+01, -1.10084212e+00],\n",
       "       [ 8.30113602e+00, -1.94356918e+01],\n",
       "       [-4.73910856e+00, -1.44750481e+01],\n",
       "       [ 9.11528492e+00,  2.71082058e+01],\n",
       "       [-2.96520844e+01,  6.49488163e+00],\n",
       "       [ 1.02247829e+01,  3.40066032e+01],\n",
       "       [-2.61604977e+01, -1.09171379e+00],\n",
       "       [-2.33965511e+01,  1.70670643e+01],\n",
       "       [-1.91433372e+01, -1.18086662e+01],\n",
       "       [-9.75877476e+00, -1.71044655e+01],\n",
       "       [ 1.98143158e+01, -1.63716145e+01],\n",
       "       [ 1.51055336e+01, -1.78101749e+01],\n",
       "       [ 2.04546795e+01,  1.82620621e+00],\n",
       "       [ 1.76223526e+01,  4.87237930e+00],\n",
       "       [ 2.15337086e+01, -7.01017189e+00],\n",
       "       [ 1.59089031e+01,  2.59232941e+01],\n",
       "       [ 1.65570965e+01, -2.70579357e+01],\n",
       "       [ 2.00175743e+01, -7.30338907e+00],\n",
       "       [ 1.65378666e+01,  1.25096893e+01],\n",
       "       [-2.20074730e+01,  1.77105980e+01],\n",
       "       [ 1.55230398e+01, -2.37338409e+01],\n",
       "       [ 1.22388115e+01,  2.43086662e+01],\n",
       "       [ 1.48888998e+01, -2.65183525e+01],\n",
       "       [ 1.57083683e+01,  2.32715569e+01],\n",
       "       [ 2.29551353e+01, -2.68440742e+01],\n",
       "       [ 1.86452103e+01,  1.99505825e+01],\n",
       "       [-1.69885654e+01, -1.57429993e+00],\n",
       "       [ 2.54431381e+01, -2.67352657e+01],\n",
       "       [-3.25624390e+01,  5.06398201e+00],\n",
       "       [ 1.93898830e+01,  1.70531826e+01],\n",
       "       [ 1.71872063e+01,  1.24567561e-01],\n",
       "       [ 2.24148979e+01, -1.82321682e+01],\n",
       "       [-2.79449062e+01,  1.57315207e+00],\n",
       "       [ 1.10099821e+01, -2.97105827e+01],\n",
       "       [ 2.02234898e+01, -2.50551186e+01],\n",
       "       [ 1.37599277e+01, -1.99238014e+01],\n",
       "       [ 1.83739624e+01, -2.72724705e+01],\n",
       "       [ 1.25671444e+01,  3.50510597e-01],\n",
       "       [-7.67772484e+00, -2.04383011e+01],\n",
       "       [ 1.45627995e+01, -2.92633667e+01],\n",
       "       [-3.07486095e+01,  5.30884218e+00],\n",
       "       [ 6.90698004e+00, -3.08035545e+01],\n",
       "       [-3.07609615e+01,  2.22747574e+01],\n",
       "       [-2.94289856e+01,  3.64498258e+00],\n",
       "       [ 1.37302876e+01, -2.21671104e+01],\n",
       "       [-1.35366478e+01,  5.27083445e+00],\n",
       "       [ 4.88303614e+00, -2.60498600e+01],\n",
       "       [ 7.54737854e+00, -2.79680176e+01],\n",
       "       [ 1.57044668e+01,  9.43853474e+00],\n",
       "       [-3.19359093e+01,  2.17675972e+01],\n",
       "       [ 1.68988247e+01, -2.37322655e+01],\n",
       "       [ 1.43393888e+01, -3.68867069e-01],\n",
       "       [-3.27176170e+01,  1.48555136e+01],\n",
       "       [-2.64311619e+01,  1.16779578e+00],\n",
       "       [-2.76051826e+01,  2.06084290e+01],\n",
       "       [ 2.00625744e+01, -2.24494019e+01],\n",
       "       [ 6.85540199e+00,  1.99869251e+01],\n",
       "       [-1.46704826e+01, -1.60186195e+01],\n",
       "       [ 2.20535221e+01, -1.99930496e+01],\n",
       "       [-3.07633991e+01,  3.67508960e+00],\n",
       "       [-1.06272526e+01, -2.19284801e+01],\n",
       "       [-8.64023876e+00, -2.14995174e+01],\n",
       "       [ 1.34703321e+01, -2.76436920e+01],\n",
       "       [ 1.82918262e+01, -2.32330151e+01],\n",
       "       [ 2.34039059e+01, -1.69846325e+01],\n",
       "       [-2.76454849e+01,  1.18857422e+01],\n",
       "       [-1.41774273e+01, -1.34466238e+01],\n",
       "       [-9.64672756e+00, -2.08027039e+01],\n",
       "       [ 1.30340776e+01,  6.57204390e+00],\n",
       "       [-1.56827250e+01, -1.46720848e+01],\n",
       "       [-1.60259457e+01, -1.68471756e+01],\n",
       "       [-9.76595592e+00, -2.30879288e+01],\n",
       "       [ 1.06764240e+01, -2.82335110e+01],\n",
       "       [-3.14437180e+01,  1.55370770e+01],\n",
       "       [-2.91517105e+01,  1.39745073e+01],\n",
       "       [-2.59179325e+01,  1.47308064e+01],\n",
       "       [-2.23672428e+01,  1.99571836e+00],\n",
       "       [ 1.78844583e+00, -2.94494400e+01],\n",
       "       [-2.79017811e+01,  1.43640900e+01],\n",
       "       [ 1.02112951e+01,  2.06657906e+01],\n",
       "       [ 2.77273893e+00, -3.10700512e+00],\n",
       "       [ 1.15861404e+00, -3.26370621e+00],\n",
       "       [ 6.33978987e+00, -1.72260780e+01],\n",
       "       [ 1.91013203e+01, -1.91031532e+01],\n",
       "       [ 2.15287514e+01,  2.67682385e+00],\n",
       "       [ 3.90620685e+00, -3.91905737e+00],\n",
       "       [ 5.52703905e+00, -2.05390072e+01],\n",
       "       [ 6.13435841e+00,  8.66495252e-01],\n",
       "       [ 1.44295597e+01,  9.79859352e+00],\n",
       "       [ 1.33795738e+01,  2.52966881e+00],\n",
       "       [ 1.81062717e+01,  1.80737171e+01],\n",
       "       [-2.47377634e+00, -1.67539577e+01],\n",
       "       [ 1.50129366e+01,  7.98922253e+00],\n",
       "       [-1.40521889e+01,  8.00124741e+00],\n",
       "       [-3.03170738e+01,  1.28584118e+01],\n",
       "       [-2.01800404e+01,  1.54054475e+00],\n",
       "       [-1.41084757e+01,  8.01202965e+00],\n",
       "       [-1.63785954e+01, -1.03908348e+01],\n",
       "       [ 2.59749365e+00,  1.05686283e+01],\n",
       "       [-2.60611153e+01,  2.04330482e+01],\n",
       "       [ 1.72674694e+01, -1.24118929e+01],\n",
       "       [-2.30932379e+00, -1.93682098e+01],\n",
       "       [ 1.69089012e+01,  7.52001476e+00],\n",
       "       [-1.43341506e+00, -2.38598275e+00],\n",
       "       [-2.59912682e+01,  4.21177864e+00],\n",
       "       [ 2.00107021e+01, -2.37886982e+01],\n",
       "       [-1.59017553e+01,  4.59736872e+00],\n",
       "       [-2.31792850e+01,  2.03607521e+01],\n",
       "       [-3.36718826e+01,  2.24032822e+01],\n",
       "       [ 8.95788479e+00,  2.91575775e+01],\n",
       "       [-8.56031322e+00, -1.75383034e+01],\n",
       "       [ 1.85771732e+01, -2.47062092e+01]], dtype=float32)"
      ]
     },
     "execution_count": 1106,
     "metadata": {},
     "output_type": "execute_result"
    }
   ],
   "source": [
    "from sklearn.manifold import TSNE\n",
    "X_embedded = TSNE(n_components=2).fit_transform(X)\n",
    "X_embedded "
   ]
  },
  {
   "cell_type": "code",
   "execution_count": 1107,
   "metadata": {},
   "outputs": [],
   "source": [
    "from sklearn.cluster import DBSCAN"
   ]
  },
  {
   "cell_type": "code",
   "execution_count": 1153,
   "metadata": {},
   "outputs": [],
   "source": [
    "clustering = DBSCAN(eps=3, min_samples=2).fit(X_embedded )\n",
    "y = clustering.labels_"
   ]
  },
  {
   "cell_type": "code",
   "execution_count": 1154,
   "metadata": {},
   "outputs": [
    {
     "data": {
      "text/html": [
       "<div>\n",
       "<style scoped>\n",
       "    .dataframe tbody tr th:only-of-type {\n",
       "        vertical-align: middle;\n",
       "    }\n",
       "\n",
       "    .dataframe tbody tr th {\n",
       "        vertical-align: top;\n",
       "    }\n",
       "\n",
       "    .dataframe thead th {\n",
       "        text-align: right;\n",
       "    }\n",
       "</style>\n",
       "<table border=\"1\" class=\"dataframe\">\n",
       "  <thead>\n",
       "    <tr style=\"text-align: right;\">\n",
       "      <th></th>\n",
       "      <th>x</th>\n",
       "      <th>y</th>\n",
       "      <th>label</th>\n",
       "    </tr>\n",
       "  </thead>\n",
       "  <tbody>\n",
       "    <tr>\n",
       "      <th>0</th>\n",
       "      <td>-0.448952</td>\n",
       "      <td>4.549414</td>\n",
       "      <td>0</td>\n",
       "    </tr>\n",
       "    <tr>\n",
       "      <th>1</th>\n",
       "      <td>8.324385</td>\n",
       "      <td>4.696046</td>\n",
       "      <td>0</td>\n",
       "    </tr>\n",
       "    <tr>\n",
       "      <th>2</th>\n",
       "      <td>8.301429</td>\n",
       "      <td>2.703082</td>\n",
       "      <td>0</td>\n",
       "    </tr>\n",
       "    <tr>\n",
       "      <th>3</th>\n",
       "      <td>-17.011648</td>\n",
       "      <td>-7.639542</td>\n",
       "      <td>1</td>\n",
       "    </tr>\n",
       "    <tr>\n",
       "      <th>4</th>\n",
       "      <td>-25.135576</td>\n",
       "      <td>12.248891</td>\n",
       "      <td>1</td>\n",
       "    </tr>\n",
       "    <tr>\n",
       "      <th>...</th>\n",
       "      <td>...</td>\n",
       "      <td>...</td>\n",
       "      <td>...</td>\n",
       "    </tr>\n",
       "    <tr>\n",
       "      <th>435</th>\n",
       "      <td>-23.179285</td>\n",
       "      <td>20.360752</td>\n",
       "      <td>1</td>\n",
       "    </tr>\n",
       "    <tr>\n",
       "      <th>436</th>\n",
       "      <td>-33.671883</td>\n",
       "      <td>22.403282</td>\n",
       "      <td>1</td>\n",
       "    </tr>\n",
       "    <tr>\n",
       "      <th>437</th>\n",
       "      <td>8.957885</td>\n",
       "      <td>29.157578</td>\n",
       "      <td>0</td>\n",
       "    </tr>\n",
       "    <tr>\n",
       "      <th>438</th>\n",
       "      <td>-8.560313</td>\n",
       "      <td>-17.538303</td>\n",
       "      <td>1</td>\n",
       "    </tr>\n",
       "    <tr>\n",
       "      <th>439</th>\n",
       "      <td>18.577173</td>\n",
       "      <td>-24.706209</td>\n",
       "      <td>1</td>\n",
       "    </tr>\n",
       "  </tbody>\n",
       "</table>\n",
       "<p>440 rows × 3 columns</p>\n",
       "</div>"
      ],
      "text/plain": [
       "             x          y  label\n",
       "0    -0.448952   4.549414      0\n",
       "1     8.324385   4.696046      0\n",
       "2     8.301429   2.703082      0\n",
       "3   -17.011648  -7.639542      1\n",
       "4   -25.135576  12.248891      1\n",
       "..         ...        ...    ...\n",
       "435 -23.179285  20.360752      1\n",
       "436 -33.671883  22.403282      1\n",
       "437   8.957885  29.157578      0\n",
       "438  -8.560313 -17.538303      1\n",
       "439  18.577173 -24.706209      1\n",
       "\n",
       "[440 rows x 3 columns]"
      ]
     },
     "execution_count": 1154,
     "metadata": {},
     "output_type": "execute_result"
    }
   ],
   "source": [
    "a = pd.DataFrame(X_embedded,columns=['x','y'])\n",
    "b = pd.DataFrame(y,columns=['label'])\n",
    "c= pd.concat((a,b),1)\n",
    "c"
   ]
  },
  {
   "cell_type": "code",
   "execution_count": 1150,
   "metadata": {},
   "outputs": [
    {
     "data": {
      "text/plain": [
       "<AxesSubplot:xlabel='x', ylabel='y'>"
      ]
     },
     "execution_count": 1150,
     "metadata": {},
     "output_type": "execute_result"
    },
    {
     "data": {
      "image/png": "[encoded data removed]",
      "text/plain": [
       "<Figure size 432x288 with 1 Axes>"
      ]
     },
     "metadata": {
      "needs_background": "light"
     },
     "output_type": "display_data"
    }
   ],
   "source": [
    "sns.scatterplot(x='x',y='y',data=c,hue=\"label\")"
   ]
  },
  {
   "cell_type": "code",
   "execution_count": 272,
   "metadata": {},
   "outputs": [
    {
     "name": "stderr",
     "output_type": "stream",
     "text": [
      "/Users/a100/.pyenv/versions/anaconda3-5.1.0/lib/python3.8/site-packages/seaborn/_decorators.py:36: FutureWarning: Pass the following variables as keyword args: x, y. From version 0.12, the only valid positional argument will be `data`, and passing other arguments without an explicit keyword will result in an error or misinterpretation.\n",
      "  warnings.warn(\n"
     ]
    },
    {
     "data": {
      "text/plain": [
       "<AxesSubplot:xlabel='X1', ylabel='X2'>"
      ]
     },
     "execution_count": 272,
     "metadata": {},
     "output_type": "execute_result"
    },
    {
     "data": {
      "image/png": "[encoded data removed]",
      "text/plain": [
       "<Figure size 432x288 with 1 Axes>"
      ]
     },
     "metadata": {
      "needs_background": "light"
     },
     "output_type": "display_data"
    }
   ],
   "source": [
    "sns.scatterplot(x='X1',y='X2',data=pp,hue='label')\n",
    "sns.scatterplot(kms1.X_center[:,0],kms1.X_center[:,1],marker='*',s=200,color='red')"
   ]
  }
 ],
 "metadata": {
  "hide_input": false,
  "kernelspec": {
   "display_name": "Python 3",
   "language": "python",
   "name": "python3"
  },
  "language_info": {
   "codemirror_mode": {
    "name": "ipython",
    "version": 3
   },
   "file_extension": ".py",
   "mimetype": "text/x-python",
   "name": "python",
   "nbconvert_exporter": "python",
   "pygments_lexer": "ipython3",
   "version": "3.8.5"
  },
  "toc": {
   "base_numbering": 1,
   "nav_menu": {},
   "number_sections": true,
   "sideBar": true,
   "skip_h1_title": false,
   "title_cell": "Table of Contents",
   "title_sidebar": "Contents",
   "toc_cell": false,
   "toc_position": {},
   "toc_section_display": true,
   "toc_window_display": false
  },
  "varInspector": {
   "cols": {
    "lenName": 16,
    "lenType": 16,
    "lenVar": 40
   },
   "kernels_config": {
    "python": {
     "delete_cmd_postfix": "",
     "delete_cmd_prefix": "del ",
     "library": "var_list.py",
     "varRefreshCmd": "print(var_dic_list())"
    },
    "r": {
     "delete_cmd_postfix": ") ",
     "delete_cmd_prefix": "rm(",
     "library": "var_list.r",
     "varRefreshCmd": "cat(var_dic_list()) "
    }
   },
   "types_to_exclude": [
    "module",
    "function",
    "builtin_function_or_method",
    "instance",
    "_Feature"
   ],
   "window_display": false
  }
 },
 "nbformat": 4,
 "nbformat_minor": 4
}
