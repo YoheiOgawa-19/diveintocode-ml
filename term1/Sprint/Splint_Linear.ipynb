{
 "cells": [
  {
   "cell_type": "markdown",
   "metadata": {},
   "source": [
    "## Sprint 機械学習スクラッチ 線形回帰"
   ]
  },
  {
   "cell_type": "markdown",
   "metadata": {},
   "source": [
    "### 2.線形回帰スクラッチ\n",
    "\n",
    "\n",
    "線形回帰のクラスをスクラッチで作成していきます。NumPyなど最低限のライブラリのみを使いアルゴリズムを実装していきます。\n",
    "\n",
    "以下に雛形を用意してあります。このScratchLinearRegressionクラスにコードを書き加えていってください。\n",
    "\n",
    "雛形\n"
   ]
  },
  {
   "cell_type": "code",
   "execution_count": 1,
   "metadata": {},
   "outputs": [],
   "source": [
    "import numpy as np\n",
    "import pandas as pd\n",
    "import matplotlib.pyplot as plt\n",
    "%matplotlib inline\n",
    "from sklearn.model_selection import train_test_split\n",
    "from sklearn.linear_model import LinearRegression"
   ]
  },
  {
   "cell_type": "code",
   "execution_count": 2,
   "metadata": {},
   "outputs": [
    {
     "ename": "SyntaxError",
     "evalue": "'return' outside function (<ipython-input-2-c8ee77e1178b>, line 70)",
     "output_type": "error",
     "traceback": [
      "\u001b[0;36m  File \u001b[0;32m\"<ipython-input-2-c8ee77e1178b>\"\u001b[0;36m, line \u001b[0;32m70\u001b[0m\n\u001b[0;31m    return y_hy\u001b[0m\n\u001b[0m    ^\u001b[0m\n\u001b[0;31mSyntaxError\u001b[0m\u001b[0;31m:\u001b[0m 'return' outside function\n"
     ]
    }
   ],
   "source": [
    "class ScratchLinearRegression():\n",
    "    \"\"\"\n",
    "    線形回帰のスクラッチ実装\n",
    "    \n",
    "    Parameters\n",
    "    ----------\n",
    "    num_iter : int\n",
    "      イテレーション数\n",
    "    lr : float\n",
    "      学習率\n",
    "    no_bias : bool\n",
    "      バイアス項を入れない場合はTrue\n",
    "    verbose : bool\n",
    "      学習過程を出力する場合はTrue\n",
    "    \n",
    "    Attributes\n",
    "    ----------\n",
    "    self.coef_ : 次の形のndarray, shape (n_features,)\n",
    "      パラメータ\n",
    "    self.loss : 次の形のndarray, shape (self.iter,)\n",
    "      訓練データに対する損失の記録\n",
    "    self.val_loss : 次の形のndarray, shape (self.iter,)\n",
    "      検証データに対する損失の記録\n",
    "    \"\"\"\n",
    "    \n",
    "    def __init__(self, num_iter, lr, no_bias, verbose):\n",
    "        # ハイパーパラメータを属性として記録\n",
    "        self.iter = num_iter\n",
    "        self.lr = lr\n",
    "        self.no_bias = no_bias\n",
    "        self.verbose = verbose\n",
    "        # 損失を記録する配列を用意\n",
    "        self.loss = np.zeros(self.iter)\n",
    "        self.val_loss = np.zeros(self.iter)\n",
    "        \n",
    "    def fit(self, X, y, X_val=None, y_val=None):\n",
    "        \"\"\"\n",
    "        線形回帰を学習する。検証データが入力された場合はそれに対する損失と精度もイテレーションごとに計算する。\n",
    "        Parameters\n",
    "        ----------\n",
    "        X : 次の形のndarray, shape (n_samples, n_features)\n",
    "            訓練データの特徴量\n",
    "        y : 次の形のndarray, shape (n_samples, )\n",
    "            訓練データの正解値\n",
    "        X_val : 次の形のndarray, shape (n_samples, n_features)\n",
    "            検証データの特徴量\n",
    "        y_val : 次の形のndarray, shape (n_samples, )\n",
    "            検証データの正解値\n",
    "        \"\"\"\n",
    "        if self.verbose:\n",
    "            #verboseをTrueにした際は学習過程を出力\n",
    "            print()\n",
    "        pass\n",
    "        \n",
    "    def predict(self, X):\n",
    "        \"\"\"\n",
    "        線形回帰を使い推定する。\n",
    "        Parameters\n",
    "        ----------\n",
    "        X : 次の形のndarray, shape (n_samples, n_features)\n",
    "            サンプル\n",
    "        Returns\n",
    "        -------\n",
    "            次の形のndarray, shape (n_samples, 1)\n",
    "            線形回帰による推定結果\n",
    "        \"\"\"\n",
    "    #y_hy = np.dot(self.coef_ .T,X) \n",
    "    y_hy = np.dot(X,theta.T) \n",
    "    \n",
    "    return y_hy"
   ]
  },
  {
   "cell_type": "code",
   "execution_count": 3,
   "metadata": {},
   "outputs": [],
   "source": [
    "df = pd.read_csv(\"../../Week3/train.csv\")"
   ]
  },
  {
   "cell_type": "code",
   "execution_count": 4,
   "metadata": {},
   "outputs": [
    {
     "data": {
      "image/png": "[encoded data removed]",
      "text/plain": [
       "<Figure size 432x288 with 1 Axes>"
      ]
     },
     "metadata": {
      "needs_background": "light"
     },
     "output_type": "display_data"
    }
   ],
   "source": [
    "x= df[\"GrLivArea\"]\n",
    "y= df[\"SalePrice\"]\n",
    "\n",
    "plt.scatter(x,y)\n",
    "\n",
    "plt.show()"
   ]
  },
  {
   "cell_type": "code",
   "execution_count": 5,
   "metadata": {},
   "outputs": [
    {
     "data": {
      "text/plain": [
       "((1095,), (1095, 2))"
      ]
     },
     "execution_count": 5,
     "metadata": {},
     "output_type": "execute_result"
    }
   ],
   "source": [
    "X = df[[\"YearBuilt\",\"GrLivArea\"]].values\n",
    "y=df[\"SalePrice\"].values\n",
    "X=np.log(X)\n",
    "y = np.log(y)\n",
    "X_train, X_test, y_train, y_test = train_test_split(X, y,random_state=0)\n",
    "y_train.shape,X_train.shape"
   ]
  },
  {
   "cell_type": "code",
   "execution_count": 6,
   "metadata": {},
   "outputs": [
    {
     "data": {
      "text/plain": [
       "array([[8.45467446],\n",
       "       [8.37056218],\n",
       "       [8.2454405 ],\n",
       "       ...,\n",
       "       [8.43337506],\n",
       "       [8.39061747],\n",
       "       [8.43290037]])"
      ]
     },
     "execution_count": 6,
     "metadata": {},
     "output_type": "execute_result"
    }
   ],
   "source": [
    "theta = np.random.rand(1,X_train.shape[1])\n",
    "y_hut= np.dot(X_train,theta.T) \n",
    "y_hut"
   ]
  },
  {
   "cell_type": "markdown",
   "metadata": {},
   "source": [
    "#### 【問題1】仮定関数\n",
    "以下の数式で表される線形回帰の仮定関数を実装してください。メソッドの雛形を用意してあります。\n",
    "\n",
    "$$ h\n",
    "θ\n",
    "(\n",
    "x\n",
    ")\n",
    "=\n",
    "θ\n",
    "0\n",
    "x\n",
    "0\n",
    "+\n",
    "θ\n",
    "1\n",
    "x\n",
    "1\n",
    "+\n",
    ".\n",
    ".\n",
    ".\n",
    "+\n",
    "θ\n",
    "j\n",
    "x\n",
    "j\n",
    "+\n",
    ".\n",
    ".\n",
    ".\n",
    "+\n",
    "θ\n",
    "n\n",
    "x\n",
    "n\n",
    ".\n",
    "(\n",
    "x\n",
    "0\n",
    "=\n",
    "1\n",
    ")\n",
    "$$\n",
    "x\n",
    " : 特徴量ベクトル\n",
    "\n",
    "θ\n",
    " : パラメータベクトル\n",
    "\n",
    "n\n",
    " : 特徴量の数\n",
    "\n",
    "x\n",
    "j\n",
    " : j番目の特徴量\n",
    "\n",
    "θ\n",
    "j\n",
    " : j番目のパラメータ（重み）\n",
    "\n",
    "特徴量の数\n",
    "n\n",
    "は任意の値に対応できる実装にしてください。\n",
    "\n",
    "なお、ベクトル形式で表すと以下のようになります。\n",
    "$$ \n",
    "h\n",
    "θ\n",
    "(\n",
    "x\n",
    ")\n",
    "=\n",
    "θ\n",
    "^\n",
    "T\n",
    "⋅\n",
    "x\n",
    ".\n",
    "$$\n",
    "雛形\n",
    "\n",
    "クラスの外から呼び出すことがないメソッドのため、Pythonの慣例としてアンダースコアを先頭にひとつつけています。\n",
    "\n"
   ]
  },
  {
   "cell_type": "code",
   "execution_count": 7,
   "metadata": {},
   "outputs": [],
   "source": [
    "def _linear_hypothesis(self, X):\n",
    "    \"\"\"\n",
    "    線形の仮定関数を計算する\n",
    "    Parameters\n",
    "    ----------\n",
    "    X : 次の形のndarray, shape (n_samples, n_features)\n",
    "      訓練データ\n",
    "    Returns\n",
    "    -------\n",
    "      次の形のndarray, shape (n_samples, 1)\n",
    "      線形の仮定関数による推定結果\n",
    "    \"\"\"\n",
    "    #y_hy = np.dot(self.coef_ .T,X) \n",
    "    y_hy = np.dot(X,theta.T) \n",
    "    \n",
    "    return y_hy"
   ]
  },
  {
   "cell_type": "code",
   "execution_count": 8,
   "metadata": {},
   "outputs": [
    {
     "data": {
      "text/plain": [
       "array([[0.40448917, 0.49103418]])"
      ]
     },
     "execution_count": 8,
     "metadata": {},
     "output_type": "execute_result"
    }
   ],
   "source": [
    "theta = np.random.rand(1,X_train.shape[1])\n",
    "theta"
   ]
  },
  {
   "cell_type": "code",
   "execution_count": 9,
   "metadata": {},
   "outputs": [
    {
     "data": {
      "text/plain": [
       "array([[-9.59551083, -9.50896582]])"
      ]
     },
     "execution_count": 9,
     "metadata": {},
     "output_type": "execute_result"
    }
   ],
   "source": [
    "theta -= 0.02* 500\n",
    "theta"
   ]
  },
  {
   "cell_type": "code",
   "execution_count": 10,
   "metadata": {},
   "outputs": [
    {
     "data": {
      "text/plain": [
       "(array([[353.69930998],\n",
       "        [357.74675099],\n",
       "        [361.93743239],\n",
       "        ...,\n",
       "        [355.37261393],\n",
       "        [357.15526864],\n",
       "        [355.59637898]]),\n",
       " array([[-146.30069002],\n",
       "        [-142.25324901],\n",
       "        [-138.06256761],\n",
       "        ...,\n",
       "        [-144.62738607],\n",
       "        [-142.84473136],\n",
       "        [-144.40362102]]))"
      ]
     },
     "execution_count": 10,
     "metadata": {},
     "output_type": "execute_result"
    }
   ],
   "source": [
    "y_hy = np.dot(X_train,theta.T) \n",
    "y_hy+500,y_hy"
   ]
  },
  {
   "cell_type": "code",
   "execution_count": 11,
   "metadata": {},
   "outputs": [
    {
     "data": {
      "text/plain": [
       "((1095, 1), (1095,))"
      ]
     },
     "execution_count": 11,
     "metadata": {},
     "output_type": "execute_result"
    }
   ],
   "source": [
    "y_hy = _linear_hypothesis(theta,X_train)\n",
    "y_hy.shape,y_train.shape"
   ]
  },
  {
   "cell_type": "code",
   "execution_count": 12,
   "metadata": {},
   "outputs": [
    {
     "data": {
      "image/png": "[encoded data removed]",
      "text/plain": [
       "<Figure size 432x288 with 1 Axes>"
      ]
     },
     "metadata": {
      "needs_background": "light"
     },
     "output_type": "display_data"
    }
   ],
   "source": [
    "plt.scatter(X_train[:,1],y_train)\n",
    "plt.scatter(y_hy,y_train)\n",
    "plt.show()"
   ]
  },
  {
   "attachments": {
    "image.png": {
     "image/png": "[encoded data removed]"
    }
   },
   "cell_type": "markdown",
   "metadata": {},
   "source": [
    "#### 【問題2】最急降下法\n",
    "最急降下法により学習させる実装を行なってください。以下の式で表されるパラメータの更新式のメソッド_gradient_descentを追加し、fit\n",
    "メソッドから呼び出すようにしてください。  \n",
    "\n",
    "\n",
    "![image.png](attachment:image.png)\n",
    "\n",
    "\n",
    "α\n",
    " : 学習率\n",
    "\n",
    "i\n",
    " : サンプルのインデックス\n",
    "\n",
    "j\n",
    " : 特徴量のインデックス\n",
    "\n",
    "雛形\n",
    "\n",
    "ScratchLinearRegressionクラスへ以下のメソッドを追加してください。コメントアウト部分の説明も記述してください。"
   ]
  },
  {
   "cell_type": "code",
   "execution_count": 13,
   "metadata": {},
   "outputs": [],
   "source": [
    "# def _gradient_descent(self, X, error):\n",
    "#     \"\"\"\n",
    "#     最急降下法の計算\n",
    "    \n",
    "#     Parameters\n",
    "#     ----------\n",
    "#     X : 次の形のndarray, shape (n_samples, n_features)\n",
    "#       訓練データ\n",
    "#     Returns\n",
    "#     -------\n",
    "#     theta : 次の形のndarray, shape (n_samples, 1)\n",
    "#         パラメータ\n",
    "#     \"\"\"\n",
    "\n",
    "#     y = (alpha/X_train.shape[0])*np.sum(X_train.T*error)\n",
    "#     theta = theta - y\n",
    "        \n",
    "    \n",
    "#     return theta"
   ]
  },
  {
   "cell_type": "code",
   "execution_count": 14,
   "metadata": {},
   "outputs": [
    {
     "data": {
      "text/plain": [
       "1095"
      ]
     },
     "execution_count": 14,
     "metadata": {},
     "output_type": "execute_result"
    }
   ],
   "source": [
    "X_train.shape[0]"
   ]
  },
  {
   "cell_type": "code",
   "execution_count": 15,
   "metadata": {},
   "outputs": [
    {
     "data": {
      "text/plain": [
       "(array([[-146.30069002],\n",
       "        [-142.25324901],\n",
       "        [-138.06256761],\n",
       "        ...,\n",
       "        [-144.62738607],\n",
       "        [-142.84473136],\n",
       "        [-144.40362102]]),\n",
       " (1095, 1),\n",
       " (1095,),\n",
       " array([11.58524613, 11.98292909, 11.88448902, ..., 11.62625415,\n",
       "        12.36307639, 12.30591798]))"
      ]
     },
     "execution_count": 15,
     "metadata": {},
     "output_type": "execute_result"
    }
   ],
   "source": [
    "y_hy = np.dot(X_train,theta.T) \n",
    "y_hy,y_hy.shape,y_train.shape,y_train"
   ]
  },
  {
   "cell_type": "code",
   "execution_count": 16,
   "metadata": {},
   "outputs": [
    {
     "data": {
      "text/plain": [
       "(array([[-157.88593614],\n",
       "        [-154.2361781 ],\n",
       "        [-149.94705663],\n",
       "        ...,\n",
       "        [-156.25364023],\n",
       "        [-155.20780775],\n",
       "        [-156.709539  ]]),\n",
       " (1095, 1))"
      ]
     },
     "execution_count": 16,
     "metadata": {},
     "output_type": "execute_result"
    }
   ],
   "source": [
    "error = y_hy - y_train.reshape(len(y_train),1)\n",
    "error,error.shape"
   ]
  },
  {
   "cell_type": "code",
   "execution_count": 17,
   "metadata": {},
   "outputs": [],
   "source": [
    "def _gradient_descent(self, X, error):\n",
    "    \"\"\"\n",
    "    最急降下法の計算\n",
    "    \n",
    "    Parameters\n",
    "    ----------\n",
    "    X : 次の形のndarray, shape (n_samples, n_features)\n",
    "      訓練データ\n",
    "    Returns\n",
    "    -------\n",
    "    theta : 次の形のndarray, shape (n_samples, 1)\n",
    "        パラメータ\n",
    "    \"\"\"\n",
    "\n",
    "    \n",
    "    theta = theta - y_train\n",
    "        \n",
    "    \n",
    "    return alpha*np.sum(error*X)/X.shape[0]"
   ]
  },
  {
   "cell_type": "code",
   "execution_count": 18,
   "metadata": {},
   "outputs": [
    {
     "data": {
      "text/plain": [
       "array([[-1191.31092418, -1227.00877811],\n",
       "       [-1171.63851634, -1125.05687628],\n",
       "       [-1137.08564595, -1029.67643406],\n",
       "       ...,\n",
       "       [-1185.94036501, -1179.81830534],\n",
       "       [-1179.95204495, -1140.85750086],\n",
       "       [-1190.9771325 , -1177.98203556]])"
      ]
     },
     "execution_count": 18,
     "metadata": {},
     "output_type": "execute_result"
    }
   ],
   "source": [
    "error*X_train"
   ]
  },
  {
   "cell_type": "code",
   "execution_count": 19,
   "metadata": {},
   "outputs": [
    {
     "data": {
      "text/plain": [
       "(array([[-7.30663716, -7.22009214]]), (1, 2))"
      ]
     },
     "execution_count": 19,
     "metadata": {},
     "output_type": "execute_result"
    }
   ],
   "source": [
    "alpha = 0.001\n",
    "y = (alpha/X_train.shape[0])*np.sum(error*X_train)\n",
    "theta = theta - y\n",
    "theta,theta.shape"
   ]
  },
  {
   "cell_type": "markdown",
   "metadata": {},
   "source": [
    "雛形として用意されたメソッドや関数以外でも必要があれば各自作成して完成させてください。雛形を外れても問題ありません。\n",
    "\n",
    "#### 【問題3】推定\n",
    "推定する仕組みを実装してください。ScratchLinearRegressionクラスの雛形に含まれるpredictメソッドに書き加えてください。\n",
    "\n",
    "仮定関数 \n",
    "$$\n",
    "h\n",
    "θ\n",
    "(\n",
    "x\n",
    ")\n",
    "$$\n",
    " の出力が推定結果です。"
   ]
  },
  {
   "cell_type": "code",
   "execution_count": 20,
   "metadata": {},
   "outputs": [],
   "source": [
    "def predict(self, X):\n",
    "    \"\"\"\n",
    "    線形回帰を使い推定する。\n",
    "    Parameters\n",
    "    ----------\n",
    "    X : 次の形のndarray, shape (n_samples, n_features)\n",
    "        サンプル\n",
    "    Returns\n",
    "    -------\n",
    "        次の形のndarray, shape (n_samples, 1)\n",
    "        線形回帰による推定結果\n",
    "    \"\"\"\n",
    "    #y_hy = np.dot(self.coef_ .T,X) \n",
    "    y_pre = np.dot(X,theta.T) \n",
    "\n",
    "    return y_pre"
   ]
  },
  {
   "cell_type": "code",
   "execution_count": 21,
   "metadata": {},
   "outputs": [
    {
     "data": {
      "text/plain": [
       "(1095, 1)"
      ]
     },
     "execution_count": 21,
     "metadata": {},
     "output_type": "execute_result"
    }
   ],
   "source": [
    "y_pre = np.dot(X_train,theta.T) \n",
    "y_pre.shape"
   ]
  },
  {
   "attachments": {
    "image.png": {
     "image/png": "[encoded data removed]"
    }
   },
   "cell_type": "markdown",
   "metadata": {},
   "source": [
    "#### 【問題4】平均二乗誤差\n",
    "線形回帰の指標値として用いられる平均二乗誤差（mean square error, MSE）の関数を作成してください。\n",
    "\n",
    "平均二乗誤差関数は回帰問題全般で使える関数のため、ScratchLinearRegressionクラスのメソッドではなく、別の関数として作成してください。雛形を用意してあります。\n",
    "\n",
    "平均二乗誤差は以下の数式で表されます。\n",
    "\n",
    "![image.png](attachment:image.png)\n",
    "\n",
    "\n",
    "m\n",
    " : 入力されるデータの数\n",
    "\n",
    "h\n",
    "θ\n",
    "(\n",
    ")\n",
    " : 仮定関数\n",
    "\n",
    "x\n",
    "(\n",
    "i\n",
    ")\n",
    " : i番目のサンプルの特徴量ベクトル\n",
    "\n",
    "y\n",
    "(\n",
    "i\n",
    ")\n",
    " : i番目のサンプルの正解値\n",
    "\n",
    "なお、最急降下法のための目的関数（損失関数）としては、これを2で割ったものを使用します。（問題5, 9）\n",
    "\n",
    "雛形"
   ]
  },
  {
   "cell_type": "code",
   "execution_count": 22,
   "metadata": {},
   "outputs": [],
   "source": [
    "def MSE(y_pred, y):\n",
    "    \"\"\"\n",
    "    平均二乗誤差の計算\n",
    "    Parameters\n",
    "    ----------\n",
    "    y_pred : 次の形のndarray, shape (n_samples,)\n",
    "      推定した値\n",
    "    y : 次の形のndarray, shape (n_samples,)\n",
    "      正解値\n",
    "    Returns\n",
    "    ----------\n",
    "    mse : numpy.float\n",
    "      平均二乗誤差\n",
    "    \"\"\"\n",
    "    mse = (1/y.shape[0])*np.sum((y_pred-y)**2)\n",
    "    return mse"
   ]
  },
  {
   "cell_type": "code",
   "execution_count": 23,
   "metadata": {},
   "outputs": [
    {
     "data": {
      "text/plain": [
       "((1095, 1), 1095, (1095,))"
      ]
     },
     "execution_count": 23,
     "metadata": {},
     "output_type": "execute_result"
    }
   ],
   "source": [
    "y_pre.shape,X_train.shape[0],y_train.shape"
   ]
  },
  {
   "cell_type": "code",
   "execution_count": 24,
   "metadata": {},
   "outputs": [],
   "source": [
    "t = y_pre[:,np.newaxis]"
   ]
  },
  {
   "cell_type": "code",
   "execution_count": 25,
   "metadata": {},
   "outputs": [
    {
     "data": {
      "text/plain": [
       "(1, 1, 1095)"
      ]
     },
     "execution_count": 25,
     "metadata": {},
     "output_type": "execute_result"
    }
   ],
   "source": [
    "(t.T).shape"
   ]
  },
  {
   "cell_type": "code",
   "execution_count": 26,
   "metadata": {},
   "outputs": [
    {
     "ename": "ValueError",
     "evalue": "operands could not be broadcast together with shapes (2,1095) (1095,1) ",
     "output_type": "error",
     "traceback": [
      "\u001b[0;31m---------------------------------------------------------------------------\u001b[0m",
      "\u001b[0;31mValueError\u001b[0m                                Traceback (most recent call last)",
      "\u001b[0;32m<ipython-input-26-5d50088305d1>\u001b[0m in \u001b[0;36m<module>\u001b[0;34m\u001b[0m\n\u001b[0;32m----> 1\u001b[0;31m \u001b[0;34m(\u001b[0m\u001b[0mnp\u001b[0m\u001b[0;34m.\u001b[0m\u001b[0msum\u001b[0m\u001b[0;34m(\u001b[0m\u001b[0mX_train\u001b[0m\u001b[0;34m.\u001b[0m\u001b[0mT\u001b[0m\u001b[0;34m*\u001b[0m\u001b[0my_pre\u001b[0m\u001b[0;34m)\u001b[0m\u001b[0;34m**\u001b[0m\u001b[0;36m2\u001b[0m\u001b[0;34m)\u001b[0m\u001b[0;34m\u001b[0m\u001b[0;34m\u001b[0m\u001b[0m\n\u001b[0m",
      "\u001b[0;31mValueError\u001b[0m: operands could not be broadcast together with shapes (2,1095) (1095,1) "
     ]
    }
   ],
   "source": [
    "(np.sum(X_train.T*y_pre)**2)"
   ]
  },
  {
   "cell_type": "code",
   "execution_count": null,
   "metadata": {},
   "outputs": [],
   "source": [
    "mse = (alpha/X_train.shape[0])*np.sum(X_train.T*y_pre)**2\n",
    "mse"
   ]
  },
  {
   "attachments": {
    "image-2.png": {
     "image/png": "[encoded data removed]"
    }
   },
   "cell_type": "markdown",
   "metadata": {},
   "source": [
    "#### 【問題5】目的関数\n",
    "以下の数式で表される線形回帰の 目的関数（損失関数） を実装してください。そして、これをself.loss, self.val_lossに記録するようにしてください。\n",
    "\n",
    "目的関数（損失関数)J(θ) は次の式です。\n",
    "\n",
    "![image-2.png](attachment:image-2.png)\n",
    "\n",
    "m\n",
    " : 入力されるデータの数\n",
    "\n",
    "h\n",
    "θ\n",
    "(\n",
    ")\n",
    " : 仮定関数\n",
    "\n",
    "x\n",
    "(\n",
    "i\n",
    ")\n",
    " : i番目のサンプルの特徴量ベクトル\n",
    "\n",
    "y\n",
    "(\n",
    "i\n",
    ")\n",
    " : i番目のサンプルの正解値"
   ]
  },
  {
   "cell_type": "code",
   "execution_count": 27,
   "metadata": {},
   "outputs": [],
   "source": [
    "def loss(y_pred, y):\n",
    "    \"\"\"\n",
    "    平均二乗誤差の計算\n",
    "    Parameters\n",
    "    ----------\n",
    "    y_pred : 次の形のndarray, shape (n_samples,)\n",
    "      推定した値\n",
    "    y : 次の形のndarray, shape (n_samples,)\n",
    "      正解値\n",
    "    Returns\n",
    "    ----------\n",
    "    mse : numpy.float\n",
    "      平均二乗誤差\n",
    "    \"\"\"\n",
    "    loss_list = []\n",
    "    val_loss_list =[]\n",
    "    #学習用\n",
    "    loss = np.sum((y_pre-y)**2)/(2*y.shape[0])\n",
    "    loss_list.append(loss)\n",
    "    #検証用\n",
    "    val_loss = np.sum((y_pre-y)**2)/(2*y.shape[0])\n",
    "    val_loss_list.append(val_loss)\n",
    "    \n",
    "    \n",
    "    return loss"
   ]
  },
  {
   "cell_type": "markdown",
   "metadata": {},
   "source": [
    "問6にて大幅にコードを変更して実装した"
   ]
  },
  {
   "cell_type": "code",
   "execution_count": 28,
   "metadata": {},
   "outputs": [
    {
     "data": {
      "text/plain": [
       "((1095, 1), (1095, 1))"
      ]
     },
     "execution_count": 28,
     "metadata": {},
     "output_type": "execute_result"
    }
   ],
   "source": [
    "t = (-1*y_train)\n",
    "t.shape,y_pre.shape\n",
    "y_train2 = y_train[:,np.newaxis]\n",
    "y_pre.shape,y_train2.shape"
   ]
  },
  {
   "cell_type": "code",
   "execution_count": 29,
   "metadata": {},
   "outputs": [
    {
     "name": "stdout",
     "output_type": "stream",
     "text": [
      "14397.385422278841\n"
     ]
    }
   ],
   "source": [
    "loss_list = [0]\n",
    "val_loss_list =[0]\n",
    "loss =np.sum((y_pre-y_train2)**2)/y_train2.shape[0]\n",
    "print(loss)\n",
    "# loss_list+=loss\n",
    "# print(loss_list)\n",
    "# val_loss_list+=loss-y_train\n",
    "# print(val_loss_list.shape)"
   ]
  },
  {
   "cell_type": "markdown",
   "metadata": {},
   "source": [
    "#### 【問題6】学習と推定\n",
    "機械学習スクラッチ入門のSprintで用意したHouse Pricesコンペティションのデータに対してスクラッチ実装の学習と推定を行なってください。\n",
    "\n",
    "scikit-learnによる実装と比べ、正しく動いているかを確認してください。"
   ]
  },
  {
   "cell_type": "code",
   "execution_count": 30,
   "metadata": {},
   "outputs": [],
   "source": [
    "from sklearn.linear_model import LinearRegression\n",
    "from sklearn.metrics import mean_squared_error\n",
    "lr = LinearRegression()"
   ]
  },
  {
   "cell_type": "code",
   "execution_count": 31,
   "metadata": {},
   "outputs": [
    {
     "data": {
      "text/plain": [
       "((1095,), (1095, 2))"
      ]
     },
     "execution_count": 31,
     "metadata": {},
     "output_type": "execute_result"
    }
   ],
   "source": [
    "X = df[[\"YearBuilt\",\"GrLivArea\"]].values\n",
    "y=df[\"SalePrice\"].values\n",
    "X=np.log(X)\n",
    "y = np.log(y)\n",
    "X_train, X_test, y_train, y_test = train_test_split(X, y,random_state=71)\n",
    "y_train.shape,X_train.shape"
   ]
  },
  {
   "cell_type": "code",
   "execution_count": 32,
   "metadata": {},
   "outputs": [
    {
     "data": {
      "text/plain": [
       "0.05239214114056607"
      ]
     },
     "execution_count": 32,
     "metadata": {},
     "output_type": "execute_result"
    }
   ],
   "source": [
    "lr.fit(X_train,y_train)\n",
    "te = lr.predict(X_test)\n",
    "mean_squared_error(te,y_test)"
   ]
  },
  {
   "cell_type": "code",
   "execution_count": 33,
   "metadata": {},
   "outputs": [
    {
     "data": {
      "image/png": "[encoded data removed]",
      "text/plain": [
       "<Figure size 432x288 with 1 Axes>"
      ]
     },
     "metadata": {
      "needs_background": "light"
     },
     "output_type": "display_data"
    }
   ],
   "source": [
    "plt.scatter(te,y_test)\n",
    "plt.show()"
   ]
  },
  {
   "cell_type": "code",
   "execution_count": 78,
   "metadata": {},
   "outputs": [],
   "source": [
    "class ScratchLinearRegression():\n",
    "    \"\"\"\n",
    "    線形回帰のスクラッチ実装\n",
    "    \n",
    "    Parameters\n",
    "    ----------\n",
    "    num_iter : int\n",
    "      イテレーション数\n",
    "    lr : float\n",
    "      学習率\n",
    "    no_bias : bool\n",
    "      バイアス項を入れない場合はTrue\n",
    "    verbose : bool\n",
    "      学習過程を出力する場合はTrue\n",
    "    \n",
    "    Attributes\n",
    "    ----------\n",
    "    self.coef_ : 次の形のndarray, shape (n_features,)\n",
    "      パラメータ\n",
    "    self.loss : 次の形のndarray, shape (self.iter,)\n",
    "      訓練データに対する損失の記録\n",
    "    self.val_loss : 次の形のndarray, shape (self.iter,)\n",
    "      検証データに対する損失の記録\n",
    "    \"\"\"\n",
    "    def __init__(self, num_iter=10000, lr=1e-4, no_bias=True, verbose=True):\n",
    "\n",
    "        # ハイパーパラメータを属性として記録\n",
    "        self.iter = num_iter\n",
    "        self.lr = lr\n",
    "        self.no_bias = no_bias\n",
    "        self.verbose = verbose\n",
    "        # 損失を記録する配列を用意\n",
    "        self.loss = np.zeros(self.iter)\n",
    "        self.val_loss = np.zeros(self.iter)\n",
    "        #y_hat格納用\n",
    "        #self.hat = []\n",
    "\n",
    "    def _linear_hypothesis(self, X):\n",
    "        \"\"\"\n",
    "        線形の仮定関数を計算する\n",
    "        Parameters\n",
    "        ----------\n",
    "        X : 次の形のndarray, shape (n_samples, n_features)\n",
    "          訓練データ\n",
    "        Returns\n",
    "        -------\n",
    "          次の形のndarray, shape (n_samples, 1)\n",
    "          線形の仮定関数による推定結果\n",
    "        \"\"\"\n",
    "\n",
    "        y_hut= np.dot(X,self.coef_.T) \n",
    "\n",
    "\n",
    "            \n",
    "            \n",
    "        return y_hut\n",
    "    \n",
    "    def _gradient_descent2(self, X, error):\n",
    "        \"\"\"\n",
    "        最急降下法の計算\n",
    "\n",
    "        Parameters\n",
    "        ----------\n",
    "        X : 次の形のndarray, shape (n_samples, n_features)\n",
    "          訓練データ\n",
    "        Returns\n",
    "        \"\"\"\n",
    "\n",
    "        gr = np.sum(error*X,axis=0)/X.shape[0]\n",
    "\n",
    "        #gr = np.mean(error*X,axis=0)\n",
    "        #型の確認用\n",
    "        #print(\"gr{}\".format(gr))\n",
    "        #print(gr.shape)\n",
    "        #print(gr.shape)\n",
    "        #print(self.coef_.shape)\n",
    "\n",
    "        # パラメータ更新\n",
    "\n",
    "        self.coef_ -= self.lr * gr\n",
    "\n",
    "        #for 文の書き方\n",
    "#         for i in range(X.shape[1]):\n",
    "#             self.coef_[:,i] = self.coef_[:,i] - self.lr * gr[i]\n",
    "\n",
    "        #print(self.coef_)\n",
    "\n",
    "        return self.coef_\n",
    "\n",
    "    \n",
    "    def loss_mse(self,y_pred, y):\n",
    "        \"\"\"\n",
    "        平均二乗誤差の計算\n",
    "        Parameters\n",
    "        ----------\n",
    "        y_pred : 次の形のndarray, shape (n_samples,)\n",
    "          推定した値\n",
    "        y : 次の形のndarray, shape (n_samples,)\n",
    "          正解値\n",
    "        Returns\n",
    "        ----------\n",
    "        mse : numpy.float\n",
    "          平均二乗誤差\n",
    "        \"\"\"\n",
    "        return  np.sum((y_pred-y)**2)/(2*y.shape[0])\n",
    "    \n",
    "\n",
    "    def fit(self, X, y, X_val=None, y_val=None):\n",
    "        \"\"\"\n",
    "        線形回帰を学習する。検証データが入力された場合はそれに対する損失と精度もイテレーションごとに計算する。\n",
    "        Parameters\n",
    "        ----------\n",
    "        X : 次の形のndarray, shape (n_samples, n_features)\n",
    "            訓練データの特徴量\n",
    "        y : 次の形のndarray, shape (n_samples, )\n",
    "            訓練データの正解値\n",
    "        X_val : 次の形のndarray, shape (n_samples, n_features)\n",
    "            検証データの特徴量\n",
    "        y_val : 次の形のndarray, shape (n_samples, )\n",
    "            検証データの正解値\n",
    "        \"\"\"\n",
    "        self.hat = []\n",
    "        #Xにバイアスを追加\n",
    "        if self.no_bias ==False:\n",
    "            X = np.insert(X, 0, 1, axis=1)\n",
    "            if X_val is not None:\n",
    "                X_val = np.insert(X_val, 0, 1, axis=1)\n",
    "                \n",
    "        #yを2jigennhairetu\n",
    "        \n",
    "        y = y[:,np.newaxis]\n",
    "        if y_val is not None:\n",
    "            y_val = y_val[:,np.newaxis]\n",
    "        \n",
    "        #thetaを設定\n",
    "        np.random.seed(seed=71)\n",
    "        self.coef_ = np.random.rand(1,X.shape[1])     \n",
    "        \n",
    "        #学習開始        \n",
    "        for iteration in range(self.iter):\n",
    "            #仮定\n",
    "            y_hat= self._linear_hypothesis(X)\n",
    "            #print(y_hat)\n",
    "            #保存\n",
    "            self.hat.append(y_hat)\n",
    "\n",
    "            #エラー            \n",
    "            error = y_hat - y\n",
    "            #print(error)\n",
    "\n",
    "            \n",
    "            #損失計算\n",
    "            lost = self.loss_mse(y_hat, y)\n",
    "            #print(lost)\n",
    "            #格納\n",
    "            self.loss[iteration] += lost\n",
    "            \n",
    "   \n",
    "            #最急降下法の計算\n",
    "            self.coef_ = self._gradient_descent2(X, error)\n",
    "             \n",
    "            \n",
    "            #検証None判定用\n",
    "            if y_val is not None:\n",
    "                #推定\n",
    "                y_hat_val= self._linear_hypothesis(X_val)\n",
    "                #損失\n",
    "                mse = self.loss_mse(y_hat_val, y_val)\n",
    "                #格納\n",
    "                self.val_loss[iteration] += mse\n",
    "\n",
    "                \n",
    "        if self.verbose==True:\n",
    "            #verboseをTrueにした際は学習過程を出力\n",
    "            print(self.loss)\n",
    "\n",
    "        \n",
    "    def predict(self, X):\n",
    "        \"\"\"\n",
    "        線形回帰を使い推定する。\n",
    "        Parameters\n",
    "        ----------\n",
    "        X : 次の形のndarray, shape (n_samples, n_features)\n",
    "            サンプル\n",
    "        Returns\n",
    "        -------\n",
    "            次の形のndarray, shape (n_samples, 1)\n",
    "            線形回帰による推定結果\n",
    "        \"\"\"\n",
    "        if self.no_bias ==False:\n",
    "            X = np.insert(X, 0, 1, axis=1)\n",
    "\n",
    "        y_predict = np.dot(X,self.coef_ .T) \n",
    "    \n",
    "        return y_predict"
   ]
  },
  {
   "cell_type": "code",
   "execution_count": 79,
   "metadata": {
    "scrolled": true
   },
   "outputs": [
    {
     "name": "stdout",
     "output_type": "stream",
     "text": [
      "[30.54038616 29.87077303 29.21585806 ...  0.03440888  0.03440888\n",
      "  0.03440888]\n"
     ]
    }
   ],
   "source": [
    "slr = ScratchLinearRegression(no_bias=True)\n",
    "slr.fit(X_train,y_train,X_test,y_test)"
   ]
  },
  {
   "cell_type": "code",
   "execution_count": 97,
   "metadata": {},
   "outputs": [
    {
     "data": {
      "text/plain": [
       "((1460,), (1460, 1))"
      ]
     },
     "execution_count": 97,
     "metadata": {},
     "output_type": "execute_result"
    }
   ],
   "source": [
    "y.shape,y1.shape"
   ]
  },
  {
   "cell_type": "code",
   "execution_count": 90,
   "metadata": {},
   "outputs": [],
   "source": [
    "y = y.flatten()"
   ]
  },
  {
   "cell_type": "code",
   "execution_count": 96,
   "metadata": {},
   "outputs": [],
   "source": [
    "y1 = y1[:,np.newaxis]"
   ]
  },
  {
   "cell_type": "code",
   "execution_count": 102,
   "metadata": {},
   "outputs": [
    {
     "data": {
      "text/plain": [
       "array([211316.38876479])"
      ]
     },
     "execution_count": 102,
     "metadata": {},
     "output_type": "execute_result"
    }
   ],
   "source": [
    "y@y1"
   ]
  },
  {
   "cell_type": "code",
   "execution_count": 80,
   "metadata": {},
   "outputs": [],
   "source": [
    "def MSE(y_pred, y):\n",
    "    \"\"\"\n",
    "    平均二乗誤差の計算\n",
    "    Parameters\n",
    "    ----------\n",
    "    y_pred : 次の形のndarray, shape (n_samples,)\n",
    "      推定した値\n",
    "    y : 次の形のndarray, shape (n_samples,)\n",
    "      正解値\n",
    "    Returns\n",
    "    ----------\n",
    "    mse : numpy.float\n",
    "      平均二乗誤差\n",
    "    \"\"\"\n",
    "    y = y[:,np.newaxis]\n",
    "    return (1/y.shape[0])*np.sum((y_pred-y)**2)"
   ]
  },
  {
   "cell_type": "code",
   "execution_count": 81,
   "metadata": {},
   "outputs": [
    {
     "data": {
      "text/plain": [
       "0.0775184364759312"
      ]
     },
     "execution_count": 81,
     "metadata": {},
     "output_type": "execute_result"
    }
   ],
   "source": [
    "y_pre_sc = slr.predict(X_test)\n",
    "MSE(y_pre_sc,y_test)"
   ]
  },
  {
   "cell_type": "markdown",
   "metadata": {},
   "source": [
    "scikit-learnの0.004にくらべスクラッチは0.007という値となったパラメータをいじれば近しい値となるだろう\n"
   ]
  },
  {
   "cell_type": "markdown",
   "metadata": {},
   "source": [
    "#### 問題7】学習曲線のプロット\n",
    "学習曲線を表示する関数を作成し、実行してください。グラフを見て損失が適切に下がっているかどうか確認してください。\n",
    "\n",
    "線形回帰クラスの雛形ではself.loss, self.val_lossに損失を記録しておくようになっているため、入力にはこれを利用してください。\n",
    "\n",
    "プロット例"
   ]
  },
  {
   "attachments": {
    "image.png": {
     "image/png": "[encoded data removed]"
    }
   },
   "cell_type": "markdown",
   "metadata": {},
   "source": [
    "![image.png](attachment:image.png)"
   ]
  },
  {
   "cell_type": "code",
   "execution_count": 64,
   "metadata": {},
   "outputs": [],
   "source": [
    "def graff(loss,val_loss):\n",
    "    plt.plot(range(len(loss)),loss,label=\"train_loss\")\n",
    "    plt.plot(range(len(val_loss)),val_loss,label=\"test_loss\")\n",
    "    plt.legend()\n",
    "#    plt.ylim(0,30)\n",
    "    plt.show()"
   ]
  },
  {
   "cell_type": "code",
   "execution_count": 65,
   "metadata": {},
   "outputs": [
    {
     "data": {
      "image/png": "[encoded data removed]",
      "text/plain": [
       "<Figure size 432x288 with 1 Axes>"
      ]
     },
     "metadata": {
      "needs_background": "light"
     },
     "output_type": "display_data"
    }
   ],
   "source": [
    "graff(slr.loss,slr.val_loss)"
   ]
  },
  {
   "cell_type": "markdown",
   "metadata": {},
   "source": [
    "【問題8】（アドバンス課題）バイアス項の除去  \n",
    "バイアス項 \n",
    "θ\n",
    "0\n",
    " を抜くと学習がどう変化するか検証してください。また、線形回帰モデルにおけるバイアス項の役割の考察・調査を行ってください。"
   ]
  },
  {
   "cell_type": "code",
   "execution_count": 66,
   "metadata": {},
   "outputs": [
    {
     "data": {
      "image/png": "[encoded data removed]",
      "text/plain": [
       "<Figure size 432x288 with 1 Axes>"
      ]
     },
     "metadata": {
      "needs_background": "light"
     },
     "output_type": "display_data"
    }
   ],
   "source": [
    "#bias あり\n",
    "graff(slr.loss,slr.val_loss)\n"
   ]
  },
  {
   "cell_type": "code",
   "execution_count": 67,
   "metadata": {},
   "outputs": [
    {
     "data": {
      "image/png": "[encoded data removed]",
      "text/plain": [
       "<Figure size 432x288 with 1 Axes>"
      ]
     },
     "metadata": {
      "needs_background": "light"
     },
     "output_type": "display_data"
    }
   ],
   "source": [
    "#bias あり\n",
    "graff(slr.loss,slr.val_loss)\n"
   ]
  },
  {
   "cell_type": "code",
   "execution_count": 68,
   "metadata": {},
   "outputs": [
    {
     "data": {
      "text/plain": [
       "(array([[4.22961009],\n",
       "        [4.22552321],\n",
       "        [4.06248647],\n",
       "        ...,\n",
       "        [4.07662992],\n",
       "        [4.01192902],\n",
       "        [4.0700514 ]]),\n",
       " array([[4.23047451],\n",
       "        [4.22638551],\n",
       "        [4.06332575],\n",
       "        ...,\n",
       "        [4.07747167],\n",
       "        [4.01276067],\n",
       "        [4.07089214]]))"
      ]
     },
     "execution_count": 68,
     "metadata": {},
     "output_type": "execute_result"
    }
   ],
   "source": [
    "slr.hat[0],slr.hat[1]"
   ]
  },
  {
   "cell_type": "code",
   "execution_count": 69,
   "metadata": {},
   "outputs": [
    {
     "data": {
      "image/png": "[encoded data removed]",
      "text/plain": [
       "<Figure size 432x288 with 1 Axes>"
      ]
     },
     "metadata": {
      "needs_background": "light"
     },
     "output_type": "display_data"
    }
   ],
   "source": [
    "#bias なし\n",
    "graff(slr.loss,slr.val_loss)\n"
   ]
  },
  {
   "cell_type": "code",
   "execution_count": 70,
   "metadata": {},
   "outputs": [
    {
     "data": {
      "text/plain": [
       "(array([[4.22961009],\n",
       "        [4.22552321],\n",
       "        [4.06248647],\n",
       "        ...,\n",
       "        [4.07662992],\n",
       "        [4.01192902],\n",
       "        [4.0700514 ]]),\n",
       " array([[4.23047451],\n",
       "        [4.22638551],\n",
       "        [4.06332575],\n",
       "        ...,\n",
       "        [4.07747167],\n",
       "        [4.01276067],\n",
       "        [4.07089214]]))"
      ]
     },
     "execution_count": 70,
     "metadata": {},
     "output_type": "execute_result"
    }
   ],
   "source": [
    "slr.hat[0],slr.hat[1]"
   ]
  },
  {
   "cell_type": "code",
   "execution_count": 71,
   "metadata": {},
   "outputs": [
    {
     "data": {
      "text/plain": [
       "((2,), (1095, 1))"
      ]
     },
     "execution_count": 71,
     "metadata": {},
     "output_type": "execute_result"
    }
   ],
   "source": [
    "X_train[0].shape,slr.hat[0].shape"
   ]
  },
  {
   "cell_type": "code",
   "execution_count": 72,
   "metadata": {},
   "outputs": [],
   "source": [
    "a0 = slr.hat[0]\n",
    "a_1 = slr.hat[-1]"
   ]
  },
  {
   "cell_type": "code",
   "execution_count": 74,
   "metadata": {},
   "outputs": [],
   "source": [
    "b0 =slr.hat[0]\n",
    "b_1=slr.hat[-1]"
   ]
  },
  {
   "cell_type": "code",
   "execution_count": 75,
   "metadata": {},
   "outputs": [
    {
     "data": {
      "image/png": "[encoded data removed]",
      "text/plain": [
       "<Figure size 432x288 with 1 Axes>"
      ]
     },
     "metadata": {
      "needs_background": "light"
     },
     "output_type": "display_data"
    }
   ],
   "source": [
    "plt.plot(y_train)\n",
    "plt.plot(slr.hat[-1])\n",
    "plt.plot(slr.hat[0],label=\"no_bias\")\n",
    "plt.plot(b0,label=\"bias\")\n",
    "plt.plot(b_1)\n",
    "plt.legend()\n",
    "plt.show()"
   ]
  },
  {
   "cell_type": "code",
   "execution_count": 76,
   "metadata": {},
   "outputs": [
    {
     "data": {
      "image/png": "[encoded data removed]",
      "text/plain": [
       "<Figure size 432x288 with 1 Axes>"
      ]
     },
     "metadata": {
      "needs_background": "light"
     },
     "output_type": "display_data"
    }
   ],
   "source": [
    "plt.scatter(X_train[:,1],y_train)\n",
    "plt.plot(X_train[:,1],a0,label=\"bias\")\n",
    "plt.plot(X_train[:,1],a_1,label=\"bias\")\n",
    "plt.plot(X_train[:,1],b0,label=\"no_bias\")\n",
    "plt.plot(X_train[:,1],b_1,label=\"no_bias\")\n",
    "plt.legend()\n",
    "plt.show()"
   ]
  },
  {
   "cell_type": "markdown",
   "metadata": {},
   "source": [
    "バイアス項 θ0を抜いた場合、θ0を抜かない場合と比較して最初の誤差が大きい。    \n",
    "\n",
    "線形回帰におけるバイアスとはモデルと学習データの平均的なズレ。\n",
    "θ0は切片である"
   ]
  },
  {
   "cell_type": "markdown",
   "metadata": {},
   "source": [
    "【問題9】（アドバンス課題）特徴量の多次元化\n",
    "特徴量の二乗や三乗を入力に利用すると学習結果がどう変化するか検証してください。"
   ]
  },
  {
   "cell_type": "code",
   "execution_count": 48,
   "metadata": {},
   "outputs": [
    {
     "data": {
      "text/plain": [
       "((1095,), (1095, 2))"
      ]
     },
     "execution_count": 48,
     "metadata": {},
     "output_type": "execute_result"
    }
   ],
   "source": [
    "X = df[[\"YearBuilt\",\"GrLivArea\"]].values\n",
    "y=df[\"SalePrice\"].values\n",
    "X=np.log(X)\n",
    "y = np.log(y)\n",
    "X_train, X_test, y_train, y_test = train_test_split(X, y,random_state=71)\n",
    "y_train.shape,X_train.shape"
   ]
  },
  {
   "cell_type": "code",
   "execution_count": 49,
   "metadata": {
    "scrolled": true
   },
   "outputs": [
    {
     "name": "stdout",
     "output_type": "stream",
     "text": [
      "[4.1372817  4.12815154 4.11904171 4.10995216 4.10088284 4.0918337\n",
      " 4.08280471 4.07379582 4.06480698 4.05583815 4.04688929 4.03796034\n",
      " 4.02905127 4.02016203 4.01129258 4.00244287 3.99361286 3.9848025\n",
      " 3.97601176 3.96724058 3.95848893 3.94975676 3.94104403 3.93235069\n",
      " 3.9236767  3.91502202 3.9063866  3.89777041 3.8891734  3.88059552\n",
      " 3.87203673 3.863497   3.85497628 3.84647452 3.83799169 3.82952774\n",
      " 3.82108263 3.81265632 3.80424876 3.79585992 3.78748976 3.77913822\n",
      " 3.77080528 3.76249088 3.75419499 3.74591757 3.73765857 3.72941796\n",
      " 3.72119569 3.71299172 3.70480602 3.69663853 3.68848923 3.68035806\n",
      " 3.672245   3.66414999 3.65607301 3.648014   3.63997293 3.63194976\n",
      " 3.62394445 3.61595696 3.60798725 3.60003528 3.59210101 3.5841844\n",
      " 3.57628541 3.56840401 3.56054015 3.55269379 3.5448649  3.53705344\n",
      " 3.52925936 3.52148264 3.51372322 3.50598108 3.49825617 3.49054845\n",
      " 3.4828579  3.47518446 3.4675281  3.45988878 3.45226647 3.44466113\n",
      " 3.43707271 3.42950119 3.42194652 3.41440867 3.40688759 3.39938326\n",
      " 3.39189563 3.38442467 3.37697034 3.3695326  3.36211142 3.35470676\n",
      " 3.34731858 3.33994684 3.33259152 3.32525256 3.31792995 3.31062363\n",
      " 3.30333358 3.29605975 3.28880212 3.28156064 3.27433527 3.267126\n",
      " 3.25993277 3.25275555 3.24559431 3.23844901 3.23131961 3.22420608\n",
      " 3.21710839 3.2100265  3.20296037 3.19590997 3.18887526 3.18185622\n",
      " 3.17485279 3.16786496 3.16089268 3.15393592 3.14699464 3.14006882\n",
      " 3.13315841 3.12626339 3.11938371 3.11251935 3.10567027 3.09883643\n",
      " 3.09201781 3.08521436 3.07842606 3.07165286 3.06489475 3.05815167\n",
      " 3.05142361 3.04471053 3.03801238 3.03132915 3.02466079 3.01800728\n",
      " 3.01136857 3.00474465 2.99813547 2.991541   2.98496121 2.97839606\n",
      " 2.97184553 2.96530958 2.95878818 2.9522813  2.9457889  2.93931095\n",
      " 2.93284742 2.92639828 2.91996349 2.91354303 2.90713686 2.90074494\n",
      " 2.89436726 2.88800378 2.88165445 2.87531927 2.86899818 2.86269116\n",
      " 2.85639819 2.85011922 2.84385422 2.83760318 2.83136604 2.8251428\n",
      " 2.8189334  2.81273782 2.80655604 2.80038802 2.79423372 2.78809313\n",
      " 2.78196621 2.77585292 2.76975324 2.76366714 2.75759458 2.75153555\n",
      " 2.74549    2.7394579  2.73343924 2.72743397 2.72144207 2.7154635\n",
      " 2.70949825 2.70354627 2.69760754 2.69168204 2.68576972 2.67987056\n",
      " 2.67398453 2.66811161 2.66225175 2.65640495 2.65057115 2.64475034\n",
      " 2.63894249 2.63314757 2.62736555 2.62159639 2.61584008 2.61009658\n",
      " 2.60436587 2.59864791 2.59294268 2.58725015 2.58157029 2.57590308\n",
      " 2.57024848 2.56460646 2.55897701 2.55336009 2.54775566 2.54216372\n",
      " 2.53658422 2.53101714 2.52546246 2.51992013 2.51439015 2.50887247\n",
      " 2.50336708 2.49787394 2.49239303 2.48692432 2.48146778 2.47602339\n",
      " 2.47059112 2.46517093 2.45976282 2.45436674 2.44898267 2.44361059\n",
      " 2.43825047 2.43290228 2.42756599 2.42224158 2.41692902 2.41162829\n",
      " 2.40633936 2.4010622  2.39579679 2.39054309 2.3853011  2.38007077\n",
      " 2.37485208 2.36964501 2.36444953 2.35926561 2.35409324 2.34893238\n",
      " 2.343783   2.33864509 2.33351861 2.32840355 2.32329987 2.31820755\n",
      " 2.31312657 2.3080569  2.30299851 2.29795138 2.29291549 2.28789081\n",
      " 2.28287731 2.27787497 2.27288377 2.26790367 2.26293466 2.25797672\n",
      " 2.2530298  2.2480939  2.24316899 2.23825504 2.23335203 2.22845993\n",
      " 2.22357872 2.21870838 2.21384888 2.20900019 2.2041623  2.19933518\n",
      " 2.1945188  2.18971314 2.18491818 2.1801339  2.17536026 2.17059725\n",
      " 2.16584484 2.16110301 2.15637173 2.15165099 2.14694075 2.142241\n",
      " 2.13755171 2.13287286 2.12820443 2.12354638 2.11889871 2.11426138\n",
      " 2.10963437 2.10501766 2.10041123 2.09581505 2.0912291  2.08665336\n",
      " 2.08208781 2.07753242 2.07298717 2.06845203 2.06392699 2.05941203\n",
      " 2.05490711 2.05041222 2.04592734 2.04145244 2.0369875  2.0325325\n",
      " 2.02808742 2.02365223 2.01922691 2.01481145 2.01040581 2.00600998\n",
      " 2.00162394 1.99724765 1.99288111 1.98852429 1.98417717 1.97983972\n",
      " 1.97551193 1.97119377 1.96688522 1.96258627 1.95829688 1.95401704\n",
      " 1.94974673 1.94548593 1.9412346  1.93699275 1.93276033 1.92853733\n",
      " 1.92432374 1.92011952 1.91592467 1.91173915 1.90756294 1.90339604\n",
      " 1.8992384  1.89509003 1.89095088 1.88682095 1.88270022 1.87858865\n",
      " 1.87448624 1.87039296 1.86630879 1.86223372 1.85816771 1.85411075\n",
      " 1.85006283 1.84602392 1.84199399 1.83797304 1.83396103 1.82995796\n",
      " 1.8259638  1.82197853 1.81800213 1.81403458 1.81007586 1.80612596\n",
      " 1.80218484 1.7982525  1.79432891 1.79041406 1.78650792 1.78261048\n",
      " 1.77872171 1.7748416  1.77097012 1.76710726 1.763253   1.75940732\n",
      " 1.7555702  1.75174162 1.74792157 1.74411002 1.74030695 1.73651234\n",
      " 1.73272619 1.72894846 1.72517914 1.72141821 1.71766565 1.71392145\n",
      " 1.71018558 1.70645802 1.70273876 1.69902779 1.69532507 1.69163059\n",
      " 1.68794434 1.68426629 1.68059643 1.67693474 1.6732812  1.6696358\n",
      " 1.6659985  1.66236931 1.65874819 1.65513513 1.65153012 1.64793313\n",
      " 1.64434414 1.64076315 1.63719013 1.63362506 1.63006792 1.62651871\n",
      " 1.62297739 1.61944396 1.61591839 1.61240067 1.60889078 1.6053887\n",
      " 1.60189442 1.59840792 1.59492917 1.59145817 1.5879949  1.58453934\n",
      " 1.58109146 1.57765127 1.57421873 1.57079383 1.56737655 1.56396689\n",
      " 1.56056481 1.5571703  1.55378335 1.55040394 1.54703205 1.54366767\n",
      " 1.54031078 1.53696136 1.53361939 1.53028486 1.52695776 1.52363806\n",
      " 1.52032575 1.51702082 1.51372324 1.510433   1.50715008 1.50387448\n",
      " 1.50060616 1.49734512 1.49409134 1.4908448  1.48760549 1.48437339\n",
      " 1.48114848 1.47793075 1.47472018 1.47151676 1.46832047 1.4651313\n",
      " 1.46194922 1.45877423 1.45560631 1.45244543 1.4492916  1.44614478\n",
      " 1.44300497 1.43987214 1.43674629 1.4336274  1.43051545 1.42741043\n",
      " 1.42431232 1.42122111 1.41813677 1.4150593  1.41198869 1.4089249\n",
      " 1.40586794 1.40281778 1.39977442 1.39673782 1.39370799 1.3906849\n",
      " 1.38766853 1.38465889 1.38165594 1.37865968 1.37567008 1.37268714\n",
      " 1.36971085 1.36674117 1.36377811 1.36082164 1.35787175 1.35492843\n",
      " 1.35199166 1.34906143 1.34613772 1.34322052 1.34030981 1.33740558\n",
      " 1.33450782 1.33161651 1.32873163 1.32585317 1.32298112 1.32011547\n",
      " 1.31725619 1.31440328 1.31155671 1.30871649 1.30588259 1.30305499\n",
      " 1.30023369 1.29741867 1.29460991 1.29180741 1.28901114 1.2862211\n",
      " 1.28343727 1.28065964 1.27788819 1.27512291 1.27236378 1.2696108\n",
      " 1.26686394 1.2641232  1.26138856 1.25866001 1.25593753 1.25322111\n",
      " 1.25051073 1.24780639 1.24510807 1.24241576 1.23972944 1.2370491\n",
      " 1.23437472 1.2317063  1.22904381 1.22638726 1.22373662 1.22109187\n",
      " 1.21845302 1.21582004 1.21319292 1.21057164 1.20795621 1.20534659\n",
      " 1.20274278 1.20014477 1.19755254 1.19496609 1.19238539 1.18981043\n",
      " 1.1872412  1.1846777  1.1821199  1.17956779 1.17702137 1.17448061\n",
      " 1.17194551 1.16941605 1.16689223 1.16437402 1.16186141 1.1593544\n",
      " 1.15685297 1.15435711 1.1518668  1.14938204 1.14690281 1.14442909\n",
      " 1.14196088 1.13949817 1.13704094 1.13458918 1.13214287 1.12970201\n",
      " 1.12726659 1.12483658 1.12241199 1.11999279 1.11757897 1.11517053\n",
      " 1.11276745 1.11036972 1.10797733 1.10559026 1.10320851 1.10083206\n",
      " 1.09846089 1.09609501 1.09373439 1.09137903 1.08902891 1.08668402\n",
      " 1.08434435 1.08200988 1.07968062 1.07735654 1.07503763 1.07272389\n",
      " 1.07041529 1.06811183 1.0658135  1.06352029 1.06123218 1.05894917\n",
      " 1.05667123 1.05439837 1.05213057 1.04986781 1.04761009 1.0453574\n",
      " 1.04310972 1.04086704 1.03862936 1.03639666 1.03416893 1.03194615\n",
      " 1.02972833 1.02751544 1.02530747 1.02310442 1.02090628 1.01871303\n",
      " 1.01652466 1.01434116 1.01216252 1.00998873 1.00781978 1.00565566\n",
      " 1.00349636 1.00134186 0.99919216 0.99704724 0.9949071  0.99277172\n",
      " 0.99064109 0.98851521 0.98639406 0.98427763 0.98216591 0.98005889\n",
      " 0.97795656 0.97585892 0.97376594 0.97167762 0.96959395 0.96751491\n",
      " 0.96544051 0.96337072 0.96130554 0.95924496 0.95718896 0.95513754\n",
      " 0.95309069 0.95104839 0.94901064 0.94697742 0.94494873 0.94292456\n",
      " 0.94090489 0.93888972 0.93687903 0.93487282 0.93287107 0.93087378\n",
      " 0.92888094 0.92689253 0.92490855 0.92292898 0.92095382 0.91898306\n",
      " 0.91701669 0.91505469 0.91309706 0.91114378 0.90919486 0.90725027\n",
      " 0.90531001 0.90337407 0.90144244 0.89951511 0.89759207 0.89567331\n",
      " 0.89375882 0.89184859 0.88994261 0.88804088 0.88614338 0.8842501\n",
      " 0.88236104 0.88047619 0.87859552 0.87671905 0.87484675 0.87297862\n",
      " 0.87111465 0.86925483 0.86739914 0.86554759 0.86370016 0.86185684\n",
      " 0.86001763 0.8581825  0.85635147 0.85452451 0.85270161 0.85088278\n",
      " 0.84906799 0.84725724 0.84545052 0.84364783 0.84184914 0.84005446\n",
      " 0.83826378 0.83647708 0.83469436 0.83291561 0.83114081 0.82936997\n",
      " 0.82760307 0.8258401  0.82408106 0.82232593 0.82057471 0.81882738\n",
      " 0.81708395 0.8153444  0.81360872 0.8118769  0.81014893 0.80842482\n",
      " 0.80670454 0.80498809 0.80327546 0.80156665 0.79986163 0.79816042\n",
      " 0.79646299 0.79476933 0.79307945 0.79139333 0.78971097 0.78803234\n",
      " 0.78635746 0.7846863  0.78301886 0.78135514 0.77969511 0.77803879\n",
      " 0.77638615 0.77473718 0.77309189 0.77145026 0.76981229 0.76817796\n",
      " 0.76654727 0.76492021 0.76329677 0.76167694 0.76006072 0.7584481\n",
      " 0.75683907 0.75523362 0.75363174 0.75203343 0.75043867 0.74884747\n",
      " 0.74725981 0.74567568 0.74409508 0.74251799 0.74094442 0.73937435\n",
      " 0.73780777 0.73624469 0.73468508 0.73312894 0.73157627 0.73002705\n",
      " 0.72848128 0.72693895 0.72540006 0.72386459 0.72233254 0.7208039\n",
      " 0.71927866 0.71775681 0.71623836 0.71472328 0.71321158 0.71170324\n",
      " 0.71019826 0.70869663 0.70719834 0.70570339 0.70421176 0.70272346\n",
      " 0.70123846 0.69975678 0.69827839 0.69680329 0.69533148 0.69386294\n",
      " 0.69239767 0.69093566 0.68947691 0.6880214  0.68656914 0.6851201\n",
      " 0.68367429 0.6822317  0.68079233 0.67935615 0.67792317 0.67649338\n",
      " 0.67506678 0.67364335 0.67222309 0.67080599 0.66939204 0.66798124\n",
      " 0.66657359 0.66516906 0.66376766 0.66236938 0.66097422 0.65958216\n",
      " 0.6581932  0.65680733 0.65542454 0.65404483 0.6526682  0.65129463\n",
      " 0.64992411 0.64855665 0.64719223 0.64583085 0.64447249 0.64311716\n",
      " 0.64176485 0.64041555 0.63906925 0.63772595 0.63638564 0.63504831\n",
      " 0.63371396 0.63238258 0.63105417 0.62972871 0.6284062  0.62708663\n",
      " 0.62577    0.6244563  0.62314553 0.62183767 0.62053273 0.61923069\n",
      " 0.61793155 0.6166353  0.61534193 0.61405145 0.61276384 0.61147909\n",
      " 0.6101972  0.60891817 0.60764198 0.60636864 0.60509813 0.60383044\n",
      " 0.60256558 0.60130354 0.6000443  0.59878787 0.59753423 0.59628338\n",
      " 0.59503532 0.59379004 0.59254752 0.59130778 0.59007079 0.58883656\n",
      " 0.58760507 0.58637633 0.58515032 0.58392704 0.58270648 0.58148864\n",
      " 0.58027351 0.57906109 0.57785136 0.57664433 0.57543998 0.57423832\n",
      " 0.57303933 0.571843   0.57064934 0.56945834 0.56826999 0.56708429\n",
      " 0.56590122 0.56472079 0.56354298 0.5623678  0.56119523 0.56002527\n",
      " 0.55885792 0.55769317 0.556531   0.55537143 0.55421443 0.55306002\n",
      " 0.55190817 0.55075888 0.54961216 0.54846798 0.54732635 0.54618727\n",
      " 0.54505072 0.5439167  0.5427852  0.54165622 0.54052976 0.5394058\n",
      " 0.53828435 0.53716539 0.53604892 0.53493494 0.53382343 0.5327144\n",
      " 0.53160784 0.53050375 0.52940211 0.52830292 0.52720618 0.52611188\n",
      " 0.52502001 0.52393058 0.52284357 0.52175898 0.52067681 0.51959704\n",
      " 0.51851968 0.51744472 0.51637215 0.51530196 0.51423416 0.51316874\n",
      " 0.51210569 0.511045   0.50998667 0.5089307  0.50787708 0.50682581\n",
      " 0.50577688 0.50473028 0.50368601 0.50264406 0.50160444 0.50056713\n",
      " 0.49953212 0.49849943 0.49746903 0.49644092 0.4954151  0.49439157\n",
      " 0.49337031 0.49235133 0.49133462 0.49032016 0.48930797 0.48829803\n",
      " 0.48729034 0.48628489 0.48528168 0.4842807  0.48328195 0.48228543\n",
      " 0.48129112 0.48029902 0.47930914 0.47832145]\n"
     ]
    }
   ],
   "source": [
    "slr = ScratchLinearRegression(no_bias=False,num_iter=1000, lr=1e-5)\n",
    "slr.fit(X_train,y_train,X_test,y_test)"
   ]
  },
  {
   "cell_type": "code",
   "execution_count": 50,
   "metadata": {},
   "outputs": [],
   "source": [
    "c1,c2 = slr.loss,slr.val_loss"
   ]
  },
  {
   "cell_type": "code",
   "execution_count": 51,
   "metadata": {},
   "outputs": [
    {
     "data": {
      "image/png": "[encoded data removed]",
      "text/plain": [
       "<Figure size 432x288 with 1 Axes>"
      ]
     },
     "metadata": {
      "needs_background": "light"
     },
     "output_type": "display_data"
    }
   ],
   "source": [
    "#bias なし\n",
    "graff(c1,c2)"
   ]
  },
  {
   "cell_type": "code",
   "execution_count": 52,
   "metadata": {},
   "outputs": [],
   "source": [
    "d1,d2 = slr.loss,slr.val_loss"
   ]
  },
  {
   "cell_type": "code",
   "execution_count": 53,
   "metadata": {},
   "outputs": [
    {
     "data": {
      "image/png": "[encoded data removed]",
      "text/plain": [
       "<Figure size 432x288 with 1 Axes>"
      ]
     },
     "metadata": {
      "needs_background": "light"
     },
     "output_type": "display_data"
    }
   ],
   "source": [
    "#bias なし\n",
    "graff(d1,d2)"
   ]
  },
  {
   "cell_type": "code",
   "execution_count": 54,
   "metadata": {},
   "outputs": [],
   "source": [
    "e1,e2 = slr.loss,slr.val_loss"
   ]
  },
  {
   "cell_type": "code",
   "execution_count": 55,
   "metadata": {},
   "outputs": [
    {
     "data": {
      "image/png": "[encoded data removed]",
      "text/plain": [
       "<Figure size 432x288 with 1 Axes>"
      ]
     },
     "metadata": {
      "needs_background": "light"
     },
     "output_type": "display_data"
    }
   ],
   "source": [
    "#bias なし\n",
    "graff(e1,e2)"
   ]
  },
  {
   "cell_type": "markdown",
   "metadata": {},
   "source": [
    "特徴量を乗算するごとに予測値が発散しやすくなる"
   ]
  },
  {
   "cell_type": "markdown",
   "metadata": {},
   "source": [
    "【問題10】（アドバンス課題）更新式の導出\n",
    "最急降下法の更新式は以下でした。この式が導出される過程を説明してください。\n",
    "\n",
    "$$\n",
    "θ\n",
    "j\n",
    ":=\n",
    "θ\n",
    "j\n",
    "−\n",
    "α\n",
    "1\n",
    "m\n",
    "m\n",
    "∑\n",
    "i\n",
    "=\n",
    "1\n",
    " \n",
    "[\n",
    "(\n",
    "h\n",
    "θ\n",
    "(\n",
    "x\n",
    "(\n",
    "i\n",
    ")\n",
    ")\n",
    "−\n",
    "y\n",
    "(\n",
    "i\n",
    ")\n",
    ")\n",
    "x\n",
    "(\n",
    "i\n",
    ")\n",
    "j\n",
    "]\n",
    "\n",
    "以下の式から説明をはじめることができます。\n",
    "\n",
    "θ\n",
    "j\n",
    ":=\n",
    "θ\n",
    "j\n",
    "−\n",
    "∂\n",
    "∂\n",
    "θ\n",
    "j\n",
    "J\n",
    "(\n",
    "θ\n",
    ")\n",
    "\n",
    "目的関数（損失関数） \n",
    "J\n",
    "(\n",
    "θ\n",
    ")\n",
    " は次の式です。\n",
    "\n",
    "J\n",
    "(\n",
    "θ\n",
    ")\n",
    "=\n",
    "1\n",
    "2\n",
    "m\n",
    "m\n",
    "∑\n",
    "i\n",
    "=\n",
    "1\n",
    " \n",
    "(\n",
    "h\n",
    "θ\n",
    "(\n",
    "x\n",
    "(\n",
    "i\n",
    ")\n",
    ")\n",
    "−\n",
    "y\n",
    "(\n",
    "i\n",
    ")\n",
    ")\n",
    "2\n",
    ".\n"
   ]
  },
  {
   "cell_type": "markdown",
   "metadata": {},
   "source": [
    "損失関数を微分して真ん中の式に代入すると更新式となる"
   ]
  },
  {
   "cell_type": "markdown",
   "metadata": {},
   "source": [
    "【問題11】（アドバンス課題）局所最適解の問題\n",
    "最急降下法には一般的に局所最適解の問題があります。しかし、線形回帰では学習を続ければ必ず最適解を求めることができます。それはなぜか数式やグラフを用いて説明してください。"
   ]
  },
  {
   "cell_type": "code",
   "execution_count": null,
   "metadata": {},
   "outputs": [],
   "source": []
  },
  {
   "cell_type": "code",
   "execution_count": null,
   "metadata": {},
   "outputs": [],
   "source": []
  },
  {
   "cell_type": "code",
   "execution_count": null,
   "metadata": {},
   "outputs": [],
   "source": []
  },
  {
   "cell_type": "code",
   "execution_count": null,
   "metadata": {},
   "outputs": [],
   "source": []
  },
  {
   "cell_type": "code",
   "execution_count": null,
   "metadata": {},
   "outputs": [],
   "source": []
  }
 ],
 "metadata": {
  "hide_input": false,
  "kernelspec": {
   "display_name": "Python 3",
   "language": "python",
   "name": "python3"
  },
  "language_info": {
   "codemirror_mode": {
    "name": "ipython",
    "version": 3
   },
   "file_extension": ".py",
   "mimetype": "text/x-python",
   "name": "python",
   "nbconvert_exporter": "python",
   "pygments_lexer": "ipython3",
   "version": "3.8.5"
  },
  "toc": {
   "base_numbering": 1,
   "nav_menu": {},
   "number_sections": true,
   "sideBar": true,
   "skip_h1_title": false,
   "title_cell": "Table of Contents",
   "title_sidebar": "Contents",
   "toc_cell": false,
   "toc_position": {},
   "toc_section_display": true,
   "toc_window_display": false
  },
  "varInspector": {
   "cols": {
    "lenName": 16,
    "lenType": 16,
    "lenVar": 40
   },
   "kernels_config": {
    "python": {
     "delete_cmd_postfix": "",
     "delete_cmd_prefix": "del ",
     "library": "var_list.py",
     "varRefreshCmd": "print(var_dic_list())"
    },
    "r": {
     "delete_cmd_postfix": ") ",
     "delete_cmd_prefix": "rm(",
     "library": "var_list.r",
     "varRefreshCmd": "cat(var_dic_list()) "
    }
   },
   "types_to_exclude": [
    "module",
    "function",
    "builtin_function_or_method",
    "instance",
    "_Feature"
   ],
   "window_display": false
  }
 },
 "nbformat": 4,
 "nbformat_minor": 4
}
